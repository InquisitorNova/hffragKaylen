{
 "cells": [
  {
   "cell_type": "code",
   "execution_count": 1,
   "id": "abcb2c0b",
   "metadata": {},
   "outputs": [],
   "source": [
    "import uproot\n",
    "import awkward as ak\n",
    "import numpy as np\n",
    "import matplotlib.pyplot as plt"
   ]
  },
  {
   "cell_type": "code",
   "execution_count": 2,
   "id": "9415eb90",
   "metadata": {},
   "outputs": [],
   "source": [
    "%matplotlib inline"
   ]
  },
  {
   "cell_type": "code",
   "execution_count": 3,
   "id": "de4ddcea",
   "metadata": {},
   "outputs": [],
   "source": [
    "#The data is being stored in a tree datastructure. \n",
    "#We access the charm root using this command\n",
    "tree = uproot.open(\"hffrag.root:CharmAnalysis\")"
   ]
  },
  {
   "cell_type": "code",
   "execution_count": 4,
   "id": "bb981a3d",
   "metadata": {},
   "outputs": [],
   "source": [
    "#Selects the branches of interest\n",
    "true_branches = [\"AnalysisAntiKt4TruthJets_pt\",\"AnalysisAntiKt4TruthJets_eta\",\"AnalysisAntiKt4TruthJets_phi\",\"AnalysisAntiKt4TruthJets_ghostB_pdgId\"]\n",
    "reconstructed_branches = [\"AnalysisJets_pt_NOSYS\",\"AnalysisJets_eta\",\"AnalysisJets_phi\"]\n",
    "b_hadrons = [\"AnalysisAntiKt4TruthJets_ghostB_pt\",\"AnalysisAntiKt4TruthJets_pt\"]"
   ]
  },
  {
   "cell_type": "code",
   "execution_count": 5,
   "id": "6dfc8f4d",
   "metadata": {},
   "outputs": [],
   "source": [
    "#Returns the requested branches from the file\n",
    "true_features = tree.arrays(true_branches) \n",
    "reconstructed_features = tree.arrays(reconstructed_branches)\n",
    "b_hadrons = tree.arrays(b_hadrons)"
   ]
  },
  {
   "cell_type": "code",
   "execution_count": 6,
   "id": "df916281",
   "metadata": {},
   "outputs": [],
   "source": [
    "def fixedbinning(xmin,xmax,nbins):\n",
    "    #Returns a fixed set of bin edges\n",
    "    return np.mgrid[xmin:xmax:nbins*1j]\n",
    "\n",
    "def hist(xs,binning,normalized = False):\n",
    "    ys = np.histogram(xs,bins = binning)[0]\n",
    "    yerrs = np.sqrt(ys)\n",
    "    if normalized:\n",
    "        s = np.sum(ys)\n",
    "        ys = ys / s\n",
    "        yerrs = yerrs /s\n",
    "    return ys, yerrs\n",
    "\n",
    "def binneddensity(xs,binning,label = None, xlabel = None, ylabel = \"binned probability density\"):\n",
    "    fig = plt.figure(figsize = (8,8))\n",
    "    subfig = fig.add_subplot(111)\n",
    "    \n",
    "    ys , yerrs = hist(xs,binning,normalized = True)\n",
    "    \n",
    "    #Calculate the central value of each histogram bin and \n",
    "    #their width assuming fixed bin size\n",
    "    \n",
    "    xs = (binning[1:]+binning[:-1])/2.0\n",
    "    xerrs = ((binning[1:]-binning[:-1]))/2.0\n",
    "    \n",
    "    subfig.errorbar(xs,ys,xerr = xerrs, yerr = yerrs, label = label, linewidth = 0, elinewidth = 2)\n",
    "    \n",
    "    subfig.set_xlabel(xlabel)\n",
    "    subfig.set_ylabel(ylabel)\n",
    "    \n",
    "    return fig\n"
   ]
  },
  {
   "cell_type": "code",
   "execution_count": 7,
   "id": "64521188",
   "metadata": {},
   "outputs": [],
   "source": [
    "truthjets = true_features['AnalysisAntiKt4TruthJets_pt']"
   ]
  },
  {
   "cell_type": "code",
   "execution_count": 8,
   "id": "1f1513ca",
   "metadata": {},
   "outputs": [
    {
     "data": {
      "image/png": "[encoded data removed]",
      "text/plain": [
       "<Figure size 576x576 with 1 Axes>"
      ]
     },
     "metadata": {
      "needs_background": "light"
     },
     "output_type": "display_data"
    }
   ],
   "source": [
    "#Distribution of the transerve momentums of the first jet in each event\n",
    "fig = binneddensity(truthjets[:,0],fixedbinning(0,200000,50),xlabel = \"first truth jet $p_T$ [MeV]\")"
   ]
  },
  {
   "cell_type": "code",
   "execution_count": 9,
   "id": "9e75ceb9",
   "metadata": {},
   "outputs": [],
   "source": [
    "truthbhadronsid = ak.flatten(true_features[\"AnalysisAntiKt4TruthJets_ghostB_pdgId\"],axis = None)"
   ]
  },
  {
   "cell_type": "code",
   "execution_count": 10,
   "id": "2a289488",
   "metadata": {},
   "outputs": [
    {
     "name": "stdout",
     "output_type": "stream",
     "text": [
      "PDG ID531\n",
      " number of b-hadrons: 13487\n",
      "\n",
      "PDG ID-521\n",
      " number of b-hadrons: 61531\n",
      "\n",
      "PDG ID-511\n",
      " number of b-hadrons: 61243\n",
      "\n",
      "PDG ID5232\n",
      " number of b-hadrons: 751\n",
      "\n",
      "PDG ID511\n",
      " number of b-hadrons: 61706\n",
      "\n",
      "PDG ID521\n",
      " number of b-hadrons: 61594\n",
      "\n",
      "PDG ID-531\n",
      " number of b-hadrons: 13526\n",
      "\n",
      "PDG ID-5122\n",
      " number of b-hadrons: 5447\n",
      "\n",
      "PDG ID5122\n",
      " number of b-hadrons: 5232\n",
      "\n",
      "PDG ID-5132\n",
      " number of b-hadrons: 676\n",
      "\n",
      "PDG ID5132\n",
      " number of b-hadrons: 722\n",
      "\n",
      "PDG ID-5232\n",
      " number of b-hadrons: 733\n",
      "\n",
      "PDG ID555\n",
      " number of b-hadrons: 3\n",
      "\n",
      "PDG ID553\n",
      " number of b-hadrons: 6\n",
      "\n",
      "PDG ID-5332\n",
      " number of b-hadrons: 21\n",
      "\n",
      "PDG ID5332\n",
      " number of b-hadrons: 18\n",
      "\n",
      "PDG ID100553\n",
      " number of b-hadrons: 1\n",
      "\n",
      "PDG ID-541\n",
      " number of b-hadrons: 5\n",
      "\n",
      "PDG ID10551\n",
      " number of b-hadrons: 3\n",
      "\n",
      "PDG ID541\n",
      " number of b-hadrons: 5\n",
      "\n",
      "PDG ID20553\n",
      " number of b-hadrons: 1\n",
      "\n"
     ]
    }
   ],
   "source": [
    "# Loop over all the b hadrons associated with the jets\n",
    "counts = {}\n",
    "for bhadid in truthbhadronsid:\n",
    "    if bhadid in counts:\n",
    "        counts[bhadid] +=1 \n",
    "    else:\n",
    "        counts[bhadid] = 1\n",
    "for bhadid in counts:\n",
    "    print(f\"PDG ID{bhadid}\\n number of b-hadrons: {counts[bhadid]}\\n\")"
   ]
  },
  {
   "cell_type": "code",
   "execution_count": 11,
   "id": "6c96e5ec",
   "metadata": {},
   "outputs": [
    {
     "data": {
      "image/png": "[encoded data removed]",
      "text/plain": [
       "<Figure size 576x576 with 1 Axes>"
      ]
     },
     "metadata": {
      "needs_background": "light"
     },
     "output_type": "display_data"
    }
   ],
   "source": [
    "#Plotting a distribution of the truth jets eta\n",
    "fig = binneddensity(true_features[\"AnalysisAntiKt4TruthJets_eta\"][:,0],fixedbinning(-5,5,50),xlabel = \"first truth jet $\\eta$\")\n",
    "        "
   ]
  },
  {
   "cell_type": "code",
   "execution_count": 12,
   "id": "3cecb1d0",
   "metadata": {},
   "outputs": [
    {
     "data": {
      "image/png": "[encoded data removed]",
      "text/plain": [
       "<Figure size 576x576 with 1 Axes>"
      ]
     },
     "metadata": {
      "needs_background": "light"
     },
     "output_type": "display_data"
    }
   ],
   "source": [
    "#Plotting a distribution of the truth jets phi\n",
    "fig = binneddensity(true_features[\"AnalysisAntiKt4TruthJets_phi\"][:,0],fixedbinning(-3.15,3.15,100),xlabel = \"first truth jet $\\phi$ [rad]\")\n",
    "        "
   ]
  },
  {
   "cell_type": "markdown",
   "id": "b6b6c60a",
   "metadata": {},
   "source": [
    "reconstructed_features[\"AnalysisJets_pt_NOSYS\"][:]"
   ]
  },
  {
   "cell_type": "code",
   "execution_count": 26,
   "id": "d1291136",
   "metadata": {},
   "outputs": [
    {
     "data": {
      "text/plain": [
       "<Array [] type='0 * float32'>"
      ]
     },
     "execution_count": 26,
     "metadata": {},
     "output_type": "execute_result"
    }
   ],
   "source": [
    "reconstructed_features[\"AnalysisJets_pt_NOSYS\"][1059]"
   ]
  },
  {
   "cell_type": "code",
   "execution_count": 49,
   "id": "cd920d08",
   "metadata": {},
   "outputs": [],
   "source": [
    "reconstructed_pt_temp = reconstructed_features[\"AnalysisJets_pt_NOSYS\"]\n",
    "temp = []\n",
    "for x in range(len(reconstructed_pt_temp)):\n",
    "    if np.sum(np.abs(reconstructed_pt_temp[x])) != 0:\n",
    "        temp.append(reconstructed_pt_temp[x][0])\n"
   ]
  },
  {
   "cell_type": "code",
   "execution_count": 50,
   "id": "802b29b1",
   "metadata": {},
   "outputs": [],
   "source": [
    "temp = np.array(temp)"
   ]
  },
  {
   "cell_type": "code",
   "execution_count": 52,
   "id": "20f086ab",
   "metadata": {},
   "outputs": [
    {
     "data": {
      "text/plain": [
       "array([166917.34375   ,  79647.3984375 , 121782.15625   , ...,\n",
       "       104338.3671875 ,  60750.63671875,  93989.7421875 ])"
      ]
     },
     "execution_count": 52,
     "metadata": {},
     "output_type": "execute_result"
    }
   ],
   "source": [
    "temp"
   ]
  },
  {
   "cell_type": "code",
   "execution_count": 54,
   "id": "264a644c",
   "metadata": {},
   "outputs": [
    {
     "data": {
      "image/png": "[encoded data removed]",
      "text/plain": [
       "<Figure size 576x576 with 1 Axes>"
      ]
     },
     "metadata": {
      "needs_background": "light"
     },
     "output_type": "display_data"
    }
   ],
   "source": [
    "fig = binneddensity(temp,fixedbinning(0,200000,50),xlabel = \"first reconstructed jet $p_T$ [MeV]\")"
   ]
  },
  {
   "cell_type": "code",
   "execution_count": 14,
   "id": "50592ce9",
   "metadata": {},
   "outputs": [],
   "source": [
    "reconstructed_pt = reconstructed_features[\"AnalysisJets_pt_NOSYS\"]\n",
    "masked_list = []\n",
    "for element in reconstructed_pt:\n",
    "    mask = (ak.count(element) != 0)\n",
    "    masked_list.append(mask) "
   ]
  },
  {
   "cell_type": "code",
   "execution_count": 15,
   "id": "2a5b820a",
   "metadata": {},
   "outputs": [
    {
     "name": "stdout",
     "output_type": "stream",
     "text": [
      "141465\n"
     ]
    }
   ],
   "source": [
    "print(len(masked_list))\n",
    "reconstructed_pt = reconstructed_pt[masked_list]"
   ]
  },
  {
   "cell_type": "code",
   "execution_count": 16,
   "id": "2b136fb0",
   "metadata": {},
   "outputs": [
    {
     "name": "stdout",
     "output_type": "stream",
     "text": [
      "[1.67e+05, 7.96e+04, 1.22e+05, 1.18e+05, ... 1.05e+05, 1.04e+05, 6.08e+04, 9.4e+04]\n"
     ]
    }
   ],
   "source": [
    "print(reconstructed_pt[:,0])"
   ]
  },
  {
   "cell_type": "code",
   "execution_count": 17,
   "id": "d12c37b7",
   "metadata": {},
   "outputs": [
    {
     "data": {
      "image/png": "[encoded data removed]",
      "text/plain": [
       "<Figure size 576x576 with 1 Axes>"
      ]
     },
     "metadata": {
      "needs_background": "light"
     },
     "output_type": "display_data"
    }
   ],
   "source": [
    "#Plotting a distribution of the reconstructured distribution of jets pt\n",
    "fig = binneddensity(reconstructed_pt[:,0],fixedbinning(0,200000,50),xlabel = \"first reconstructed jet $p_T$ [MeV]\")"
   ]
  },
  {
   "cell_type": "code",
   "execution_count": 18,
   "id": "ded4166c",
   "metadata": {},
   "outputs": [],
   "source": [
    "reconstructed_eta = reconstructed_features[\"AnalysisJets_eta\"]\n",
    "masked_list_eta = []\n",
    "for element in reconstructed_eta:\n",
    "    mask = (ak.count(element) != 0)\n",
    "    masked_list_eta.append(mask) "
   ]
  },
  {
   "cell_type": "code",
   "execution_count": 19,
   "id": "c09b4e9b",
   "metadata": {},
   "outputs": [
    {
     "name": "stdout",
     "output_type": "stream",
     "text": [
      "141465\n"
     ]
    }
   ],
   "source": [
    "print(len(masked_list_eta))\n",
    "reconstructed_eta = reconstructed_eta[masked_list_eta]"
   ]
  },
  {
   "cell_type": "code",
   "execution_count": 25,
   "id": "f7b78157",
   "metadata": {},
   "outputs": [
    {
     "data": {
      "image/png": "[encoded data removed]",
      "text/plain": [
       "<Figure size 576x576 with 1 Axes>"
      ]
     },
     "metadata": {
      "needs_background": "light"
     },
     "output_type": "display_data"
    }
   ],
   "source": [
    "#Plotting a distribution of the reconstructured distribution of jets pt\n",
    "fig = binneddensity(reconstructed_eta[:,0],fixedbinning(-5,5,50),xlabel = \"first reconstructed jet $\\eta$\")"
   ]
  },
  {
   "cell_type": "code",
   "execution_count": 21,
   "id": "8548435e",
   "metadata": {},
   "outputs": [],
   "source": [
    "reconstructed_phi = reconstructed_features[\"AnalysisJets_phi\"]\n",
    "masked_list_phi = []\n",
    "for element in reconstructed_phi:\n",
    "    mask = (ak.count(element) != 0)\n",
    "    masked_list_phi.append(mask) "
   ]
  },
  {
   "cell_type": "code",
   "execution_count": 22,
   "id": "9d73838f",
   "metadata": {},
   "outputs": [
    {
     "name": "stdout",
     "output_type": "stream",
     "text": [
      "141465\n"
     ]
    }
   ],
   "source": [
    "print(len(masked_list_phi))\n",
    "reconstructed_phi = reconstructed_phi[masked_list_phi]"
   ]
  },
  {
   "cell_type": "code",
   "execution_count": 23,
   "id": "e46ae209",
   "metadata": {},
   "outputs": [
    {
     "data": {
      "image/png": "[encoded data removed]",
      "text/plain": [
       "<Figure size 576x576 with 1 Axes>"
      ]
     },
     "metadata": {
      "needs_background": "light"
     },
     "output_type": "display_data"
    }
   ],
   "source": [
    "#Plotting a distribution of the reconstructured distribution of jets pt\n",
    "fig = binneddensity(reconstructed_phi[:,0],fixedbinning(-3.2,3.2,50),xlabel = \"first reconstructed jet $\\phi$ [rad]\")"
   ]
  },
  {
   "cell_type": "code",
   "execution_count": 24,
   "id": "3561324c",
   "metadata": {},
   "outputs": [
    {
     "data": {
      "image/png": "[encoded data removed]",
      "text/plain": [
       "<Figure size 576x576 with 1 Axes>"
      ]
     },
     "metadata": {
      "needs_background": "light"
     },
     "output_type": "display_data"
    }
   ],
   "source": [
    "b_hadron_jet_pt = ak.flatten(b_hadrons[\"AnalysisAntiKt4TruthJets_ghostB_pt\"],axis = None)\n",
    "fig = binneddensity(b_hadron_jet_pt[:],fixedbinning(0,200000,50),xlabel = \"b hadron jets $p_T$ [MeV]\")"
   ]
  },
  {
   "cell_type": "code",
   "execution_count": null,
   "id": "72bf7c5d",
   "metadata": {},
   "outputs": [],
   "source": []
  }
 ],
 "metadata": {
  "kernelspec": {
   "display_name": "Python 3.9.10 64-bit",
   "language": "python",
   "name": "python3"
  },
  "language_info": {
   "codemirror_mode": {
    "name": "ipython",
    "version": 3
   },
   "file_extension": ".py",
   "mimetype": "text/x-python",
   "name": "python",
   "nbconvert_exporter": "python",
   "pygments_lexer": "ipython3",
   "version": "3.9.10"
  },
  "vscode": {
   "interpreter": {
    "hash": "a4f23ecc5dd2becefb17f36765bc4d36df682bc9b7a7db5d138410e15da0eaed"
   }
  }
 },
 "nbformat": 4,
 "nbformat_minor": 5
}
