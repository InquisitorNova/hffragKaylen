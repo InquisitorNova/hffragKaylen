{
 "cells": [
  {
   "cell_type": "code",
   "execution_count": 9,
   "id": "cf52dc84",
   "metadata": {},
   "outputs": [],
   "source": [
    "# Import relevant modules\n",
    "import os\n",
    "import awkward as ak\n",
    "import matplotlib.pyplot as plt\n",
    "import numpy as np\n",
    "import tensorflow as tf\n",
    "import keras.layers as layers\n",
    "from keras import callbacks\n",
    "import keras\n",
    "import uproot\n",
    "from Sum import Sum\n",
    "import sklearn as sk\n",
    "from numpy.lib.recfunctions import structured_to_unstructured\n",
    "from sklearn.model_selection import train_test_split\n",
    "import pandas as pd\n",
    "import hffrag\n",
    "import keras_tuner as kt\n",
    "from hffrag import fixedbinning\n",
    "from hffrag import binneddensity\n"
   ]
  },
  {
   "cell_type": "code",
   "execution_count": 10,
   "id": "03fbe6c8",
   "metadata": {},
   "outputs": [],
   "source": [
    "#A magic operator to allow Jupyter Notebooks to display matplotlib plots as outputs of cells\n",
    "%matplotlib inline\n"
   ]
  },
  {
   "cell_type": "code",
   "execution_count": 11,
   "id": "646b0267",
   "metadata": {},
   "outputs": [],
   "source": [
    "# The data is being stored in a tree datastructure.\n",
    "# We access the charm root using this command\n",
    "tree = uproot.open(\"hffrag.root:CharmAnalysis\")\n"
   ]
  },
  {
   "cell_type": "code",
   "execution_count": 12,
   "id": "f85a8243",
   "metadata": {},
   "outputs": [],
   "source": [
    "# Initial parameters\n",
    "MASKVAL = -999 # This value is introduced to ensure arrays are regular (Of the same size). They will be masked later by the network\n",
    "MAXTRACKS = 8 # This value is the maximum number of tracks allowed per event\n",
    "BATCHSIZE = 32 # This is the batch size of the mini batches used during training\n",
    "EPOCHS = 1000 # This is the default number of epochs for which the neural network will train providing that early stopping does not occur\n",
    "MAXEVENTS = 1e20 #This is the maximum number of events that will the program will accept\n",
    "LR = 1e-4 #This is the default learning rate\n"
   ]
  },
  {
   "cell_type": "code",
   "execution_count": 13,
   "id": "10435331",
   "metadata": {},
   "outputs": [],
   "source": [
    "# Find the associated tracks for each jet\n",
    "def Match_Tracks(jets, tracks):\n",
    "    \"\"\"Used to determine if a set of tracks belong to a particular set of jets\"\"\"\n",
    "\n",
    "    jet_eta = jets[\"AnalysisAntiKt4TruthJets_eta\"]\n",
    "    jet_phi = jets[\"AnalysisAntiKt4TruthJets_phi\"] \n",
    "\n",
    "    tracks_eta = tracks[\"AnalysisTracks_eta\"]\n",
    "    tracks_phi = tracks[\"AnalysisTracks_phi\"]\n",
    "\n",
    "    delta_etas = jet_eta - tracks_eta\n",
    "    delta_phis = np.abs(jet_phi - tracks_phi)\n",
    "\n",
    "    # Map the phis from a cyclical period onto a linear relation\n",
    "    ak.where(delta_phis > np.pi, delta_phis - np.pi, delta_phis)\n",
    "\n",
    "    # Returns a list of true and false, determining which tracks belong to those jets.\n",
    "    return np.sqrt(delta_phis**2 + delta_etas**2) < 0.4 \n"
   ]
  },
  {
   "cell_type": "code",
   "execution_count": 14,
   "id": "c5f5e74d",
   "metadata": {},
   "outputs": [],
   "source": [
    "# Convert from cylindrical to cartesian coordinates\n",
    "def pt_eta_phi_2_px_py_pz_jets(pt_eta_phi):\n",
    "    \"\"\"Converts the cylindrical polar coordinates to cartesian coordinates for jets\"\"\"\n",
    "\n",
    "    # Seperate the pts, etas and phis\n",
    "    pts = pt_eta_phi[:, 0:1]\n",
    "    etas = pt_eta_phi[:, 1:2]\n",
    "    phis = pt_eta_phi[:, 2:3]\n",
    "\n",
    "    # Convert from polar to cartesian\n",
    "    pxs = pts * np.cos(phis)\n",
    "    pys = pts * np.sin(phis)\n",
    "    pzs = pts * np.sinh(etas)\n",
    "\n",
    "    # Check to see if there are any infinities\n",
    "    isinf = np.isinf(pzs)\n",
    "\n",
    "    if np.any(isinf):\n",
    "        print(\"Infinities in eta detected!\")\n",
    "        print(etas[isinf])\n",
    "        raise ValueError(\"Infinity from sinh(eta) has been detected\")\n",
    "\n",
    "    # Returns the momentum vector\n",
    "    return np.concatenate([pxs, pys, pzs], axis=1)\n"
   ]
  },
  {
   "cell_type": "code",
   "execution_count": 15,
   "id": "e31bd425",
   "metadata": {},
   "outputs": [],
   "source": [
    "def pt_eta_phi_2_px_py_pz_tracks(pt_eta_phi, MASKVAL=-999):\n",
    "    \"\"\"Converts the cylindrical polar coordinates to cartesian coordinates for jets\"\"\"\n",
    "\n",
    "    # Seperate the pts, etas and phis\n",
    "    pts = pt_eta_phi[:, :, 0:1]\n",
    "    etas = pt_eta_phi[:, :, 1:2]\n",
    "    phis = pt_eta_phi[:, :, 2:3]\n",
    "\n",
    "    # Convert from polar to cartesian\n",
    "    # Transforms only the non masked values from cylindrical to cartesian coordinates. Mask values are left unchanged.\n",
    "    mask1 = pts == MASKVAL \n",
    "    mask2 = phis == MASKVAL\n",
    "    mask3 = etas == MASKVAL\n",
    "    pxs = np.where(mask1 | mask2, pts, pts * np.cos(phis)) \n",
    "    pys = np.where(mask1 | mask2, pts, pts * np.sin(phis))\n",
    "    pzs = np.where(mask1 | mask3, pts, pts * np.sinh(etas))\n",
    "\n",
    "    # Check to see if there are any infinities\n",
    "    isinf = np.isinf(pzs)\n",
    "\n",
    "    if np.any(isinf):\n",
    "        print(\"Infinities in eta detected!\")\n",
    "        print(etas[isinf])\n",
    "        raise ValueError(\"Infinity from sinh(eta) has been detected\")\n",
    "\n",
    "    # Returns the momentum vector in cartesian coordinates\n",
    "    return np.concatenate([pxs, pys, pzs], axis=2)\n"
   ]
  },
  {
   "cell_type": "code",
   "execution_count": 16,
   "id": "dd743c6a",
   "metadata": {},
   "outputs": [],
   "source": [
    "def pad(x_values, maxsize, MASKVAL=-999):\n",
    "    \"\"\"\n",
    "    Pads the inputs with nans to get to the maxsize\n",
    "    \"\"\"\n",
    "    #Pad the non-regular arrays with null values until they are all of the same size. Then replace the nulls with MASVAL\n",
    "    y_values = ak.fill_none(ak.pad_none(x_values, maxsize, axis=1, clip=True), MASKVAL)[:, :maxsize]\n",
    "    return ak.to_regular(y_values, axis=1) #Return the regular arrays\n"
   ]
  },
  {
   "cell_type": "code",
   "execution_count": 17,
   "id": "849df671",
   "metadata": {},
   "outputs": [],
   "source": [
    "def flatten(x_values, maxsize=-1, MASKVAL=-999):\n",
    "    \"\"\"\"Pads the input to ensure they are all of regular size and then zips together result\"\"\"\n",
    "    y_values = {} \n",
    "    for field in x_values.fields:\n",
    "        z_values = x_values[field]\n",
    "        if maxsize > 0:\n",
    "            z_values = pad(z_values, maxsize, MASKVAL)\n",
    "        y_values[field] = z_values\n",
    "\n",
    "    return ak.zip(y_values)\n"
   ]
  },
  {
   "cell_type": "code",
   "execution_count": 18,
   "id": "c0f51140",
   "metadata": {},
   "outputs": [],
   "source": [
    "def LogNormal_Loss_Function(true, meanscovs_matrix):\n",
    "    \"\"\"\n",
    "    This is a loss function hand crafted for the task of ensuring the neural network \n",
    "    learns to predict the true value of the transverse momentum and it's uncertainty\n",
    "    The logNormal constrains the neural network, by forcing upon it what it's output layers should be\n",
    "    and what the weights and biases of the neural network will be in order to predict the means, variances and covariances\n",
    "    \"\"\"\n",
    "    n_targets = np.shape(true)[1]\n",
    "    # The first n_target of the features are the means\n",
    "    means = meanscovs_matrix[:, :n_targets]\n",
    "    # The second n_target of the feautres are the standard deviations\n",
    "    logsigma = meanscovs_matrix[:, n_targets:2*n_targets]\n",
    "    # The rest of the targets are the covariances\n",
    "    logcosigma = meanscovs_matrix[:,2*n_targets:]\n",
    "\n",
    "    loss = 0\n",
    "    for n_target in range(n_targets): #Sum the individual losses and use that as the loss for the neural network\n",
    "        loss += ((means[:, n_target] - true[:, n_target])**2) / (2 * keras.backend.exp(logsigma[:, n_target])**2) + logsigma[:, n_target]\n",
    "\n",
    "    # Build loss function\n",
    "    return loss"
   ]
  },
  {
   "cell_type": "code",
   "execution_count": 19,
   "id": "51140913",
   "metadata": {},
   "outputs": [],
   "source": [
    "def LogNormal_Loss_Function_Check(true,meanscovs_matrix):\n",
    "    \"\"\"The role of this function is to calculate the loss for each individual b jet. This is used for the purpose of error checking\"\"\"\n",
    "    n_targets = np.shape(true)[0]\n",
    "    # Obtain data from convarience matrix\n",
    "    means = meanscovs_matrix[0, :n_targets]\n",
    "    # ensure diagonal is postive:\n",
    "    logsigma = meanscovs_matrix[0, n_targets:2*n_targets]\n",
    "\n",
    "    loss = 0\n",
    "    for n_target in range(n_targets):\n",
    "        loss += ((means[n_target] - true[n_target])**2) / (2 * keras.backend.exp(logsigma[n_target])**2) + logsigma[n_target]\n",
    "\n",
    "    return loss"
   ]
  },
  {
   "cell_type": "code",
   "execution_count": 20,
   "id": "1b6ecfc6",
   "metadata": {},
   "outputs": [],
   "source": [
    "def DeepSetNeuralNetwork(track_layers, jet_layers, n_targets,Learning_rate, MASKVAL=-999):\n",
    "    \"\"\"\n",
    "    This function lays out the Deep Set Neural Architecture\n",
    "    - A neural network is applied first to the tracks to extract information from the tracks.\n",
    "    - This information produces an ensemble space which, the outputs of which are then summed to produce\n",
    "        the inputs for the next layer\n",
    "    - A neural network is then applied to the jet data obtained from the tracks. \n",
    "        To perform current univariate regression.\n",
    "    \"\"\"\n",
    "    inputs = layers.Input(shape=(None, track_layers[0])) # Creates a layer for each input\n",
    "    outputs = inputs  # Creates another layer to pass the inputs onto the ouputs\n",
    "    outputs = layers.Masking(mask_value=MASKVAL)(outputs) # Masks the MASKVAl values\n",
    "\n",
    "    counter = 0\n",
    "    for nodes in track_layers[:-1]:\n",
    "        #The first neural network is a series of dense layers and is applied to each track using the time distributed layer\n",
    "        outputs = layers.TimeDistributed( \n",
    "            layers.Dense(nodes, activation=\"relu\", kernel_initializer= \"he_normal\"))(outputs) # We use relu and the corresponding he_normal for the activation function and bias initializer\n",
    "        if counter % 4 == 0: # Every four layers apply a dropout\n",
    "            outputs = layers.Dropout(0.01)(outputs)\n",
    "        else:\n",
    "            counter += 1\n",
    "        outputs = layers.BatchNormalization()(outputs) #Apply a batch norm to improve performance by preventing feature bias and overfitting\n",
    "\n",
    "    outputs = layers.TimeDistributed(layers.Dense( \n",
    "        track_layers[-1], activation='softmax'))(outputs) # Apply softmax to ouput the results of the track neural network as probabilities\n",
    "    outputs = Sum()(outputs) # Sum the outputs to make use of permutation invariance\n",
    "\n",
    "    counter = 0\n",
    "    for nodes in jet_layers: #Repeat of the track neural network without the need for the timedistributed layers\n",
    "        outputs = layers.Dense(nodes, activation='relu', kernel_initializer= \"he_normal\")(outputs)\n",
    "        if counter % 4 == 0:\n",
    "            outputs = layers.Dropout(0.01)(outputs)\n",
    "        else:\n",
    "            counter += 1\n",
    "        outputs = layers.BatchNormalization()(outputs)\n",
    "\n",
    "    outputs = layers.Dense(n_targets+n_targets*(n_targets+1)//2)(outputs) # The output will have a number of neurons needed to form the mean covariance function of the loss func\n",
    "\n",
    "    Model = keras.Model(inputs=inputs, outputs=outputs) #Create a keras model\n",
    "\n",
    "    # Specify the neural network's optimizer and loss function\n",
    "    Model.compile(\n",
    "    optimizer=keras.optimizers.Adam(learning_rate=Learning_rate,clipnorm = 1.0),\n",
    "    loss=LogNormal_Loss_Function\n",
    "    )\n",
    "\n",
    "    return Model\n"
   ]
  },
  {
   "cell_type": "code",
   "execution_count": 21,
   "id": "09cc7efa",
   "metadata": {},
   "outputs": [],
   "source": [
    "# Select the features we wish to study\n",
    "track_features = [\"AnalysisTracks_pt\", \"AnalysisTracks_eta\", \"AnalysisTracks_phi\", \"AnalysisTracks_z0sinTheta\",\n",
    "                  \"AnalysisTracks_d0sig\", \"AnalysisTracks_d0\", \"AnalysisTracks_d0sigPV\", \"AnalysisTracks_d0PV\"]\n",
    "jet_features = [\"AnalysisAntiKt4TruthJets_pt\", \"AnalysisAntiKt4TruthJets_eta\", \"AnalysisAntiKt4TruthJets_phi\",\n",
    "                \"AnalysisAntiKt4TruthJets_ghostB_pt\", \"AnalysisAntiKt4TruthJets_ghostB_eta\",\"AnalysisAntiKt4TruthJets_ghostB_phi\"]\n"
   ]
  },
  {
   "cell_type": "code",
   "execution_count": 22,
   "id": "94fb5db3",
   "metadata": {},
   "outputs": [],
   "source": [
    "# Read in the data from the root file\n",
    "features = tree.arrays(jet_features+track_features, entry_stop=MAXEVENTS)"
   ]
  },
  {
   "cell_type": "code",
   "execution_count": 23,
   "metadata": {},
   "outputs": [],
   "source": [
    "# Select the events of interest\n",
    "events = features[ak.sum(\n",
    "    features[\"AnalysisAntiKt4TruthJets_pt\"] > 25000, axis=1) > 0]\n"
   ]
  },
  {
   "cell_type": "code",
   "execution_count": 24,
   "metadata": {},
   "outputs": [
    {
     "name": "stdout",
     "output_type": "stream",
     "text": [
      "The number of jets to train on is:  141329\n",
      "The number of track features is:  8\n"
     ]
    }
   ],
   "source": [
    "# Displays the number of jets being trained on\n",
    "jets = events[jet_features][:, 0]\n",
    "print(\"The number of jets to train on is: \", len(jets))\n",
    "print(\"The number of track features is: \",len(track_features))"
   ]
  },
  {
   "cell_type": "code",
   "execution_count": 25,
   "metadata": {},
   "outputs": [],
   "source": [
    "# Select tracks from the events\n",
    "tracks = events[track_features]\n",
    "\n",
    "# Match the tracks to the jets\n",
    "matchedtracks = tracks[Match_Tracks(jets, tracks)]\n",
    "\n",
    "# Pad and Flatten the data\n",
    "matchedtracks = flatten(matchedtracks, MAXTRACKS)"
   ]
  },
  {
   "cell_type": "code",
   "execution_count": 26,
   "metadata": {},
   "outputs": [
    {
     "name": "stdout",
     "output_type": "stream",
     "text": [
      "There are 3 outputs\n",
      "There are 8 inputs\n"
     ]
    }
   ],
   "source": [
    "# Identify the the bottom jets and their associated tracks\n",
    "bjets = ak.sum(jets[\"AnalysisAntiKt4TruthJets_ghostB_pt\"] > 5000, axis=1) > 0\n",
    "jets = jets[bjets]\n",
    "\n",
    "# Obtain the pt, eta and phi of each b hadron jet\n",
    "bhads_pt = jets[\"AnalysisAntiKt4TruthJets_ghostB_pt\"][:, 0].to_numpy()\n",
    "bhads_eta = jets[\"AnalysisAntiKt4TruthJets_ghostB_eta\"][:,0].to_numpy()\n",
    "bhads_phi = jets[\"AnalysisAntiKt4TruthJets_ghostB_phi\"][:,0].to_numpy()\n",
    "\n",
    "bhads = np.stack([bhads_pt,bhads_eta,bhads_phi],axis = -1) #Combine the momentum, eta and phi for each jet into one array\n",
    "\n",
    "print(\"There are {} outputs\".format(np.shape(bhads)[1])) # Display the number of target features the neural network will predict\n",
    "matchedtracks = matchedtracks[bjets]\n",
    "print(\"There are {} inputs\".format(np.shape(matchedtracks)[1])) # Display the number of target features the neural network will use in it's ppredictions"
   ]
  },
  {
   "cell_type": "code",
   "execution_count": 27,
   "metadata": {},
   "outputs": [
    {
     "name": "stdout",
     "output_type": "stream",
     "text": [
      "(68143, 3)\n",
      "(5,)\n",
      "[1.48e+05, 1.04e+05, 1.16e+05, 4.03e+04, ... 8.14e+04, 9.83e+04, 1.45e+05, 9.11e+04]\n"
     ]
    }
   ],
   "source": [
    "print(np.shape(bhads)) #Check the shape of the neural network\n",
    "print(np.shape(jet_features[:-1])) #Check for shape of the jet features\n",
    "print(jets[jet_features[0]]) # Check the jets"
   ]
  },
  {
   "cell_type": "code",
   "execution_count": 28,
   "metadata": {},
   "outputs": [
    {
     "name": "stdout",
     "output_type": "stream",
     "text": [
      "(68143, 3)\n"
     ]
    }
   ],
   "source": [
    "# Transform the jet and tracks to unstructed data.\n",
    "jets = structured_to_unstructured(jets[jet_features[:-3]])\n",
    "matchedtracks = structured_to_unstructured(matchedtracks)\n",
    "print(np.shape(jets))"
   ]
  },
  {
   "cell_type": "code",
   "execution_count": 29,
   "metadata": {},
   "outputs": [
    {
     "name": "stdout",
     "output_type": "stream",
     "text": [
      "[[[1.47e+04, 0.753, 1.14, 1.19, 75.5, ... -0.165, -0.51, -0.0283, -0.692, -0.038]]]\n",
      "(68143, 8)\n"
     ]
    }
   ],
   "source": [
    "#Check the matchtracks are the correct shape\n",
    "print(matchedtracks[:, 0:1])\n",
    "print(np.shape(matchedtracks[:, :, 3]))"
   ]
  },
  {
   "cell_type": "code",
   "execution_count": 30,
   "metadata": {},
   "outputs": [
    {
     "name": "stdout",
     "output_type": "stream",
     "text": [
      "(68143, 8, 3)\n",
      "(68143, 8, 5)\n"
     ]
    },
    {
     "name": "stderr",
     "output_type": "stream",
     "text": [
      "/tmp/ipykernel_17812/1222727277.py:16: RuntimeWarning: overflow encountered in sinh\n",
      "  pzs = np.where(mask1 | mask3, pts, pts * np.sinh(etas))\n"
     ]
    }
   ],
   "source": [
    "# Convert the coordinates of the b jets and tracks to cartesian coordinates\n",
    "tracks_p = pt_eta_phi_2_px_py_pz_tracks(matchedtracks.to_numpy())\n",
    "bhads = pt_eta_phi_2_px_py_pz_jets(bhads)\n",
    "\n",
    "#Check the shape of the momenta of the tracks and the rest of the data is consistent\n",
    "print(np.shape(tracks_p))\n",
    "print(np.shape(matchedtracks[:, :, 3:]))\n",
    "\n",
    "#Combine the momenta of the tracks with the rest of the track features to form the track dataset\n",
    "tracks = np.concatenate([tracks_p,matchedtracks[:,:,3:].to_numpy()],axis = 2)"
   ]
  },
  {
   "cell_type": "code",
   "execution_count": 31,
   "metadata": {},
   "outputs": [
    {
     "name": "stdout",
     "output_type": "stream",
     "text": [
      "(68143, 8, 8)\n",
      "[6.20926450e+03 1.33553447e+04 1.21693980e+04 1.18753994e+00\n",
      " 7.55359192e+01 1.33110714e+00 8.57456207e+01 1.32391548e+00]\n",
      "[ 48855.56531144 128363.19160447 124938.01790683]\n"
     ]
    }
   ],
   "source": [
    "#Check that this is all the correct shape\n",
    "print(np.shape(tracks))\n",
    "print(tracks[0,0])\n",
    "print(bhads[0])\n"
   ]
  },
  {
   "cell_type": "code",
   "execution_count": 32,
   "metadata": {},
   "outputs": [
    {
     "name": "stderr",
     "output_type": "stream",
     "text": [
      "2022-11-18 12:10:36.332222: W tensorflow/stream_executor/platform/default/dso_loader.cc:64] Could not load dynamic library 'libcuda.so.1'; dlerror: libcuda.so.1: cannot open shared object file: No such file or directory\n",
      "2022-11-18 12:10:36.332254: W tensorflow/stream_executor/cuda/cuda_driver.cc:263] failed call to cuInit: UNKNOWN ERROR (303)\n",
      "2022-11-18 12:10:36.332270: I tensorflow/stream_executor/cuda/cuda_diagnostics.cc:156] kernel driver does not appear to be running on this host (vonneumann.csc.warwick.ac.uk): /proc/driver/nvidia/version does not exist\n",
      "2022-11-18 12:10:36.332511: I tensorflow/core/platform/cpu_feature_guard.cc:193] This TensorFlow binary is optimized with oneAPI Deep Neural Network Library (oneDNN) to use the following CPU instructions in performance-critical operations:  AVX2 AVX512F AVX512_VNNI FMA\n",
      "To enable them in other operations, rebuild TensorFlow with the appropriate compiler flags.\n"
     ]
    }
   ],
   "source": [
    "# Builds the deep neural network\n",
    "track_layers = [64, 64, 64, 64, 64, 64]\n",
    "jet_layers = [128, 128, 128, 128, 128, 128]\n",
    "DeepNet = DeepSetNeuralNetwork(\n",
    "    [len(track_features)]+track_layers, jet_layers,3, LR)\n"
   ]
  },
  {
   "cell_type": "code",
   "execution_count": 51,
   "metadata": {},
   "outputs": [],
   "source": [
    "#Create a Keras model that is a mirror image of the DeepSetNeuralNetwork to tune the hyperparameters of.\n",
    "def model_builder(hp):\n",
    "    \"\"\"\n",
    "    This function lays out the Deep Set Neural Architecture\n",
    "    - A neural network is applied first to the tracks to extract information from the tracks.\n",
    "    - This information produces an ensemble space which, the outputs of which are then summed to produce\n",
    "        the inputs for the next layer\n",
    "    - A neural network is then applied to the jet data obtained from the tracks. \n",
    "        To perform current univariate regression.\n",
    "    \"\"\"\n",
    "    # Create the ranges of hyperparameters to explore\n",
    "    dropouts = hp.Choice('dropout', [0.001,0.05,0.20,0.40,0.50])\n",
    "    track_layer = hp.Choice('track_layers',[32,64,128,256,512])\n",
    "    jet_layer = hp.Choice('jet_layers',[32,64,128,256,512])\n",
    "    activation_func = hp.Choice('act_func',[\"relu\",\"elu\"])\n",
    "    Learning_rate = hp.Choice('learning_rate',[1e-6,1e-5,1e-4,1e-3,1e-2])\n",
    "\n",
    "    #Create the track and jet layers\n",
    "    track_layers = [len(track_features)]+[track_layer,track_layer,track_layer,track_layer,track_layer]\n",
    "    jet_layers = [jet_layer,jet_layer,jet_layer,jet_layer,jet_layer,jet_layer]\n",
    "\n",
    "    #Set the number of targets being explored\n",
    "    n_targets = 3\n",
    "    \n",
    "    #Follows the DeepSetNeural Architecture\n",
    "    inputs = layers.Input(shape=(None, track_layers[0]))\n",
    "    outputs = inputs\n",
    "    outputs = layers.Masking(mask_value=MASKVAL)(outputs)\n",
    "\n",
    "    counter = 0\n",
    "    for nodes in track_layers[:-1]:\n",
    "        outputs = layers.TimeDistributed(\n",
    "            layers.Dense(nodes, activation=activation_func, kernel_initializer= \"he_normal\"))(outputs)\n",
    "        if counter % 4 == 0:\n",
    "            outputs = layers.Dropout(dropouts)(outputs)\n",
    "        else:\n",
    "            counter += 1\n",
    "        outputs = layers.BatchNormalization()(outputs)\n",
    "\n",
    "    outputs = layers.TimeDistributed(layers.Dense(\n",
    "        track_layers[-1], activation='softmax'))(outputs)\n",
    "    outputs = Sum()(outputs)\n",
    "\n",
    "    counter = 0\n",
    "    for nodes in jet_layers:\n",
    "        outputs = layers.Dense(nodes, activation=activation_func, kernel_initializer= \"he_normal\")(outputs)\n",
    "        if counter % 4 == 0:\n",
    "            outputs = layers.Dropout(0.01)(outputs)\n",
    "        else:\n",
    "            counter += 1\n",
    "        outputs = layers.BatchNormalization()(outputs)\n",
    "\n",
    "    outputs = layers.Dense(n_targets+n_targets*(n_targets+1)//2)(outputs)\n",
    "\n",
    "    Model = keras.Model(inputs=inputs, outputs=outputs)\n",
    "\n",
    "    # Specify the neural network's optimizer and loss function\n",
    "    Model.compile(\n",
    "    optimizer=keras.optimizers.Adam(learning_rate=Learning_rate,clipnorm = 1.0),\n",
    "    loss=LogNormal_Loss_Function\n",
    "    )\n",
    "\n",
    "    return Model\n"
   ]
  },
  {
   "cell_type": "code",
   "execution_count": 34,
   "metadata": {},
   "outputs": [
    {
     "name": "stdout",
     "output_type": "stream",
     "text": [
      "Model: \"model\"\n",
      "_________________________________________________________________\n",
      " Layer (type)                Output Shape              Param #   \n",
      "=================================================================\n",
      " input_1 (InputLayer)        [(None, None, 8)]         0         \n",
      "                                                                 \n",
      " masking (Masking)           (None, None, 8)           0         \n",
      "                                                                 \n",
      " time_distributed (TimeDistr  (None, None, 8)          72        \n",
      " ibuted)                                                         \n",
      "                                                                 \n",
      " dropout (Dropout)           (None, None, 8)           0         \n",
      "                                                                 \n",
      " batch_normalization (BatchN  (None, None, 8)          32        \n",
      " ormalization)                                                   \n",
      "                                                                 \n",
      " time_distributed_1 (TimeDis  (None, None, 64)         576       \n",
      " tributed)                                                       \n",
      "                                                                 \n",
      " dropout_1 (Dropout)         (None, None, 64)          0         \n",
      "                                                                 \n",
      " batch_normalization_1 (Batc  (None, None, 64)         256       \n",
      " hNormalization)                                                 \n",
      "                                                                 \n",
      " time_distributed_2 (TimeDis  (None, None, 64)         4160      \n",
      " tributed)                                                       \n",
      "                                                                 \n",
      " dropout_2 (Dropout)         (None, None, 64)          0         \n",
      "                                                                 \n",
      " batch_normalization_2 (Batc  (None, None, 64)         256       \n",
      " hNormalization)                                                 \n",
      "                                                                 \n",
      " time_distributed_3 (TimeDis  (None, None, 64)         4160      \n",
      " tributed)                                                       \n",
      "                                                                 \n",
      " dropout_3 (Dropout)         (None, None, 64)          0         \n",
      "                                                                 \n",
      " batch_normalization_3 (Batc  (None, None, 64)         256       \n",
      " hNormalization)                                                 \n",
      "                                                                 \n",
      " time_distributed_4 (TimeDis  (None, None, 64)         4160      \n",
      " tributed)                                                       \n",
      "                                                                 \n",
      " dropout_4 (Dropout)         (None, None, 64)          0         \n",
      "                                                                 \n",
      " batch_normalization_4 (Batc  (None, None, 64)         256       \n",
      " hNormalization)                                                 \n",
      "                                                                 \n",
      " time_distributed_5 (TimeDis  (None, None, 64)         4160      \n",
      " tributed)                                                       \n",
      "                                                                 \n",
      " dropout_5 (Dropout)         (None, None, 64)          0         \n",
      "                                                                 \n",
      " batch_normalization_5 (Batc  (None, None, 64)         256       \n",
      " hNormalization)                                                 \n",
      "                                                                 \n",
      " time_distributed_6 (TimeDis  (None, None, 64)         4160      \n",
      " tributed)                                                       \n",
      "                                                                 \n",
      " sum (Sum)                   (None, 64)                0         \n",
      "                                                                 \n",
      " dense_7 (Dense)             (None, 128)               8320      \n",
      "                                                                 \n",
      " dropout_6 (Dropout)         (None, 128)               0         \n",
      "                                                                 \n",
      " batch_normalization_6 (Batc  (None, 128)              512       \n",
      " hNormalization)                                                 \n",
      "                                                                 \n",
      " dense_8 (Dense)             (None, 128)               16512     \n",
      "                                                                 \n",
      " dropout_7 (Dropout)         (None, 128)               0         \n",
      "                                                                 \n",
      " batch_normalization_7 (Batc  (None, 128)              512       \n",
      " hNormalization)                                                 \n",
      "                                                                 \n",
      " dense_9 (Dense)             (None, 128)               16512     \n",
      "                                                                 \n",
      " dropout_8 (Dropout)         (None, 128)               0         \n",
      "                                                                 \n",
      " batch_normalization_8 (Batc  (None, 128)              512       \n",
      " hNormalization)                                                 \n",
      "                                                                 \n",
      " dense_10 (Dense)            (None, 128)               16512     \n",
      "                                                                 \n",
      " dropout_9 (Dropout)         (None, 128)               0         \n",
      "                                                                 \n",
      " batch_normalization_9 (Batc  (None, 128)              512       \n",
      " hNormalization)                                                 \n",
      "                                                                 \n",
      " dense_11 (Dense)            (None, 128)               16512     \n",
      "                                                                 \n",
      " dropout_10 (Dropout)        (None, 128)               0         \n",
      "                                                                 \n",
      " batch_normalization_10 (Bat  (None, 128)              512       \n",
      " chNormalization)                                                \n",
      "                                                                 \n",
      " dense_12 (Dense)            (None, 128)               16512     \n",
      "                                                                 \n",
      " dropout_11 (Dropout)        (None, 128)               0         \n",
      "                                                                 \n",
      " batch_normalization_11 (Bat  (None, 128)              512       \n",
      " chNormalization)                                                \n",
      "                                                                 \n",
      " dense_13 (Dense)            (None, 9)                 1161      \n",
      "                                                                 \n",
      "=================================================================\n",
      "Total params: 117,873\n",
      "Trainable params: 115,681\n",
      "Non-trainable params: 2,192\n",
      "_________________________________________________________________\n"
     ]
    }
   ],
   "source": [
    "#Summarises the Neural Network Architecture\n",
    "DeepNet.summary()\n"
   ]
  },
  {
   "cell_type": "code",
   "execution_count": 35,
   "metadata": {},
   "outputs": [],
   "source": [
    "# Split the data into training and validation sets.\n",
    "X_train, X_valid, y_train, y_valid = train_test_split(\n",
    "    tracks, bhads, train_size=0.7, random_state=42)\n"
   ]
  },
  {
   "cell_type": "code",
   "execution_count": 36,
   "metadata": {},
   "outputs": [
    {
     "name": "stdout",
     "output_type": "stream",
     "text": [
      "(47700, 8, 8) (47700, 3)\n"
     ]
    }
   ],
   "source": [
    "#Check for the of the training and validation sets\n",
    "print(np.shape(X_train), np.shape(y_train))\n"
   ]
  },
  {
   "cell_type": "code",
   "execution_count": 37,
   "metadata": {},
   "outputs": [],
   "source": [
    "# Introduce early_stopping to prevent overfitting\n",
    "early_stopping = callbacks.EarlyStopping(\n",
    "    min_delta=0.001,  # The minimum amount of change to count as an improvement\n",
    "    patience=20,  # The number of epochs to wait before stopping\n",
    "    restore_best_weights=True,  # Keep the best weights\n",
    ")\n",
    "# Prevent spikes in the validation and training loss due to the gradient descent kicking the network out of a local minima\n",
    "reduce_learn_on_plateau = callbacks.ReduceLROnPlateau(\n",
    "    monitor='val_loss', factor=0.8, patience=10, min_lr=1e-6)\n",
    "\n",
    "# Save the weights of the model to allow reuse in future.\n",
    "path = \"/home/physics/phujdj/DeepLearningParticlePhysics/CheckPoints/DeepNetWeights&Biases-{epoch:04d}.ckpt\"\n",
    "checkpoint_dir = os.path.dirname(path)\n",
    "cp_callback = tf.keras.callbacks.ModelCheckpoint(filepath=path,\n",
    "                                                 save_weights_only=True, verbose=0, save_best_only=True)\n"
   ]
  },
  {
   "cell_type": "code",
   "execution_count": 38,
   "metadata": {},
   "outputs": [
    {
     "name": "stdout",
     "output_type": "stream",
     "text": [
      "Epoch 1/1000\n",
      "1491/1491 [==============================] - 13s 6ms/step - loss: 34682830848.0000 - val_loss: 1172928128.0000 - lr: 1.0000e-04\n",
      "Epoch 2/1000\n",
      "1491/1491 [==============================] - 9s 6ms/step - loss: 224249104.0000 - val_loss: 1151268.6250 - lr: 1.0000e-04\n",
      "Epoch 3/1000\n",
      "1491/1491 [==============================] - 9s 6ms/step - loss: 62801.3281 - val_loss: 35.9062 - lr: 1.0000e-04\n",
      "Epoch 4/1000\n",
      "1491/1491 [==============================] - 8s 6ms/step - loss: 35.6293 - val_loss: 35.7847 - lr: 1.0000e-04\n",
      "Epoch 5/1000\n",
      "1491/1491 [==============================] - 9s 6ms/step - loss: 35.4560 - val_loss: 35.5294 - lr: 1.0000e-04\n",
      "Epoch 6/1000\n",
      "1491/1491 [==============================] - 8s 6ms/step - loss: 35.6007 - val_loss: 34.8613 - lr: 1.0000e-04\n",
      "Epoch 7/1000\n",
      "1491/1491 [==============================] - 8s 6ms/step - loss: 35.2616 - val_loss: 35.7822 - lr: 1.0000e-04\n",
      "Epoch 8/1000\n",
      "1491/1491 [==============================] - 8s 6ms/step - loss: 35.1702 - val_loss: 35.7439 - lr: 1.0000e-04\n",
      "Epoch 9/1000\n",
      "1491/1491 [==============================] - 9s 6ms/step - loss: 35.1119 - val_loss: 35.8825 - lr: 1.0000e-04\n",
      "Epoch 10/1000\n",
      "1491/1491 [==============================] - 9s 6ms/step - loss: 35.0666 - val_loss: 35.2787 - lr: 1.0000e-04\n",
      "Epoch 11/1000\n",
      "1491/1491 [==============================] - 9s 6ms/step - loss: 35.0148 - val_loss: 35.3961 - lr: 1.0000e-04\n",
      "Epoch 12/1000\n",
      "1491/1491 [==============================] - 9s 6ms/step - loss: 34.9988 - val_loss: 36.3243 - lr: 1.0000e-04\n",
      "Epoch 13/1000\n",
      "1491/1491 [==============================] - 9s 6ms/step - loss: 34.9580 - val_loss: 35.0876 - lr: 1.0000e-04\n",
      "Epoch 14/1000\n",
      "1491/1491 [==============================] - 9s 6ms/step - loss: 34.9179 - val_loss: 35.8464 - lr: 1.0000e-04\n",
      "Epoch 15/1000\n",
      "1491/1491 [==============================] - 9s 6ms/step - loss: 34.9141 - val_loss: 37.1967 - lr: 1.0000e-04\n",
      "Epoch 16/1000\n",
      "1491/1491 [==============================] - 9s 6ms/step - loss: 34.8848 - val_loss: 34.8688 - lr: 1.0000e-04\n",
      "Epoch 17/1000\n",
      "1491/1491 [==============================] - 9s 6ms/step - loss: 34.8654 - val_loss: 34.8378 - lr: 8.0000e-05\n",
      "Epoch 18/1000\n",
      "1491/1491 [==============================] - 9s 6ms/step - loss: 34.8613 - val_loss: 35.9834 - lr: 8.0000e-05\n",
      "Epoch 19/1000\n",
      "1491/1491 [==============================] - 9s 6ms/step - loss: 34.8437 - val_loss: 37.5117 - lr: 8.0000e-05\n",
      "Epoch 20/1000\n",
      "1491/1491 [==============================] - 9s 6ms/step - loss: 34.8362 - val_loss: 34.7773 - lr: 8.0000e-05\n",
      "Epoch 21/1000\n",
      "1491/1491 [==============================] - 9s 6ms/step - loss: 34.8216 - val_loss: 34.7710 - lr: 8.0000e-05\n",
      "Epoch 22/1000\n",
      "1491/1491 [==============================] - 9s 6ms/step - loss: 34.8177 - val_loss: 35.3610 - lr: 8.0000e-05\n",
      "Epoch 23/1000\n",
      "1491/1491 [==============================] - 9s 6ms/step - loss: 34.8088 - val_loss: 37.0976 - lr: 8.0000e-05\n",
      "Epoch 24/1000\n",
      "1491/1491 [==============================] - 8s 6ms/step - loss: 34.7857 - val_loss: 36.6220 - lr: 8.0000e-05\n",
      "Epoch 25/1000\n",
      "1491/1491 [==============================] - 9s 6ms/step - loss: 34.7814 - val_loss: 40.2904 - lr: 8.0000e-05\n",
      "Epoch 26/1000\n",
      "1491/1491 [==============================] - 9s 6ms/step - loss: 34.7619 - val_loss: 35.1154 - lr: 8.0000e-05\n",
      "Epoch 27/1000\n",
      "1491/1491 [==============================] - 9s 6ms/step - loss: 34.7541 - val_loss: 35.1110 - lr: 8.0000e-05\n",
      "Epoch 28/1000\n",
      "1491/1491 [==============================] - 9s 6ms/step - loss: 34.7528 - val_loss: 35.0951 - lr: 8.0000e-05\n",
      "Epoch 29/1000\n",
      "1491/1491 [==============================] - 9s 6ms/step - loss: 34.7474 - val_loss: 37.3407 - lr: 8.0000e-05\n",
      "Epoch 30/1000\n",
      "1491/1491 [==============================] - 9s 6ms/step - loss: 34.7436 - val_loss: 34.6586 - lr: 8.0000e-05\n",
      "Epoch 31/1000\n",
      "1491/1491 [==============================] - 9s 6ms/step - loss: 34.7293 - val_loss: 34.9315 - lr: 8.0000e-05\n",
      "Epoch 32/1000\n",
      "1491/1491 [==============================] - 9s 6ms/step - loss: 34.7235 - val_loss: 35.1685 - lr: 8.0000e-05\n",
      "Epoch 33/1000\n",
      "1491/1491 [==============================] - 9s 6ms/step - loss: 34.7158 - val_loss: 35.9107 - lr: 8.0000e-05\n",
      "Epoch 34/1000\n",
      "1491/1491 [==============================] - 9s 6ms/step - loss: 34.7122 - val_loss: 34.9744 - lr: 8.0000e-05\n",
      "Epoch 35/1000\n",
      "1491/1491 [==============================] - 9s 6ms/step - loss: 34.7048 - val_loss: 36.7609 - lr: 8.0000e-05\n",
      "Epoch 36/1000\n",
      "1491/1491 [==============================] - 9s 6ms/step - loss: 34.6886 - val_loss: 35.5481 - lr: 8.0000e-05\n",
      "Epoch 37/1000\n",
      "1491/1491 [==============================] - 9s 6ms/step - loss: 34.7038 - val_loss: 35.3708 - lr: 8.0000e-05\n",
      "Epoch 38/1000\n",
      "1491/1491 [==============================] - 9s 6ms/step - loss: 34.6785 - val_loss: 35.3499 - lr: 8.0000e-05\n",
      "Epoch 39/1000\n",
      "1491/1491 [==============================] - 9s 6ms/step - loss: 34.6948 - val_loss: 35.4950 - lr: 8.0000e-05\n",
      "Epoch 40/1000\n",
      "1491/1491 [==============================] - 9s 6ms/step - loss: 34.6781 - val_loss: 35.4649 - lr: 8.0000e-05\n",
      "Epoch 41/1000\n",
      "1491/1491 [==============================] - 9s 6ms/step - loss: 34.7139 - val_loss: 38.9548 - lr: 6.4000e-05\n",
      "Epoch 42/1000\n",
      "1491/1491 [==============================] - 9s 6ms/step - loss: 34.6856 - val_loss: 35.6127 - lr: 6.4000e-05\n",
      "Epoch 43/1000\n",
      "1491/1491 [==============================] - 9s 6ms/step - loss: 34.6819 - val_loss: 34.6847 - lr: 6.4000e-05\n",
      "Epoch 44/1000\n",
      "1491/1491 [==============================] - 9s 6ms/step - loss: 34.6533 - val_loss: 34.6854 - lr: 6.4000e-05\n",
      "Epoch 45/1000\n",
      "1491/1491 [==============================] - 9s 6ms/step - loss: 34.6686 - val_loss: 34.6322 - lr: 6.4000e-05\n",
      "Epoch 46/1000\n",
      "1491/1491 [==============================] - 9s 6ms/step - loss: 34.6478 - val_loss: 41.9210 - lr: 6.4000e-05\n",
      "Epoch 47/1000\n",
      "1491/1491 [==============================] - 9s 6ms/step - loss: 34.6421 - val_loss: 35.4101 - lr: 6.4000e-05\n",
      "Epoch 48/1000\n",
      "1491/1491 [==============================] - 9s 6ms/step - loss: 34.6381 - val_loss: 35.3193 - lr: 6.4000e-05\n",
      "Epoch 49/1000\n",
      "1491/1491 [==============================] - 9s 6ms/step - loss: 34.6365 - val_loss: 36.1742 - lr: 6.4000e-05\n",
      "Epoch 50/1000\n",
      "1491/1491 [==============================] - 9s 6ms/step - loss: 34.6367 - val_loss: 38.9141 - lr: 6.4000e-05\n",
      "Epoch 51/1000\n",
      "1491/1491 [==============================] - 9s 6ms/step - loss: 34.6456 - val_loss: 40.2968 - lr: 6.4000e-05\n",
      "Epoch 52/1000\n",
      "1491/1491 [==============================] - 9s 6ms/step - loss: 34.6397 - val_loss: 35.8829 - lr: 6.4000e-05\n",
      "Epoch 53/1000\n",
      "1491/1491 [==============================] - 9s 6ms/step - loss: 34.6325 - val_loss: 35.4965 - lr: 6.4000e-05\n",
      "Epoch 54/1000\n",
      "1491/1491 [==============================] - 9s 6ms/step - loss: 34.6267 - val_loss: 34.9024 - lr: 6.4000e-05\n",
      "Epoch 55/1000\n",
      "1491/1491 [==============================] - 9s 6ms/step - loss: 34.6350 - val_loss: 36.1144 - lr: 6.4000e-05\n",
      "Epoch 56/1000\n",
      "1491/1491 [==============================] - 9s 6ms/step - loss: 34.6257 - val_loss: 35.0874 - lr: 5.1200e-05\n",
      "Epoch 57/1000\n",
      "1491/1491 [==============================] - 9s 6ms/step - loss: 34.6152 - val_loss: 37.0297 - lr: 5.1200e-05\n",
      "Epoch 58/1000\n",
      "1491/1491 [==============================] - 9s 6ms/step - loss: 34.6048 - val_loss: 35.9215 - lr: 5.1200e-05\n",
      "Epoch 59/1000\n",
      "1491/1491 [==============================] - 9s 6ms/step - loss: 34.6705 - val_loss: 41.6339 - lr: 5.1200e-05\n",
      "Epoch 60/1000\n",
      "1491/1491 [==============================] - 9s 6ms/step - loss: 34.6046 - val_loss: 36.9112 - lr: 5.1200e-05\n",
      "Epoch 61/1000\n",
      "1491/1491 [==============================] - 9s 6ms/step - loss: 34.6270 - val_loss: 35.5107 - lr: 5.1200e-05\n",
      "Epoch 62/1000\n",
      "1491/1491 [==============================] - 9s 6ms/step - loss: 34.6007 - val_loss: 34.6579 - lr: 5.1200e-05\n",
      "Epoch 63/1000\n",
      "1491/1491 [==============================] - 9s 6ms/step - loss: 34.6051 - val_loss: 35.3467 - lr: 5.1200e-05\n",
      "Epoch 64/1000\n",
      "1491/1491 [==============================] - 9s 6ms/step - loss: 34.5969 - val_loss: 34.9317 - lr: 5.1200e-05\n",
      "Epoch 65/1000\n",
      "1491/1491 [==============================] - 9s 6ms/step - loss: 34.5922 - val_loss: 40.4809 - lr: 5.1200e-05\n"
     ]
    }
   ],
   "source": [
    "# Train the neural network\n",
    "history = DeepNet.fit(\n",
    "    X_train, y_train,\n",
    "    validation_data=(X_valid, y_valid),\n",
    "    batch_size=BATCHSIZE,\n",
    "    epochs=EPOCHS,\n",
    "    callbacks=[early_stopping, reduce_learn_on_plateau,\n",
    "               cp_callback]  # Enter call back\n",
    ")\n"
   ]
  },
  {
   "cell_type": "code",
   "execution_count": 39,
   "metadata": {},
   "outputs": [
    {
     "data": {
      "text/plain": [
       "<AxesSubplot:>"
      ]
     },
     "execution_count": 39,
     "metadata": {},
     "output_type": "execute_result"
    },
    {
     "data": {
      "image/png": "[encoded data removed]",
      "text/plain": [
       "<Figure size 432x288 with 1 Axes>"
      ]
     },
     "metadata": {
      "needs_background": "light"
     },
     "output_type": "display_data"
    }
   ],
   "source": [
    "# Plot the loss and validation curves vs epoch\n",
    "history_df = pd.DataFrame(history.history)\n",
    "np.log(history_df.loc[:, [\"loss\", \"val_loss\"]]).plot()\n"
   ]
  },
  {
   "cell_type": "code",
   "execution_count": 40,
   "metadata": {},
   "outputs": [
    {
     "name": "stdout",
     "output_type": "stream",
     "text": [
      "2130/2130 [==============================] - 3s 1ms/step\n",
      "[[ 2.23265152e+01  5.66946373e+01  2.79504716e-01  1.07514963e+01\n",
      "   1.09271622e+01  1.19079762e+01  7.21378028e-02  1.84065536e-01\n",
      "   8.54414165e-01]\n",
      " [-6.64195709e+01 -7.19502106e+01  3.82595978e+01  1.07038193e+01\n",
      "   1.12217703e+01  1.24223518e+01  8.09958637e-01  1.07637219e-01\n",
      "   3.41384292e+00]\n",
      " [ 2.36094723e+01 -4.51908607e+01 -7.43504868e+01  1.09630270e+01\n",
      "   1.09140368e+01  1.28425274e+01  9.40134048e-01 -2.41652191e-01\n",
      "   3.12981033e+00]\n",
      " [ 3.47411995e+01 -3.18854828e+01 -3.47008858e+01  1.03978806e+01\n",
      "   1.07678232e+01  1.08860378e+01 -5.60446501e-01  4.48947281e-01\n",
      "  -8.85602832e-01]\n",
      " [ 4.02164955e+01 -4.33705254e+01 -3.18382778e+01  1.07025290e+01\n",
      "   1.09164705e+01  1.11048279e+01 -5.29282093e-01  1.84754223e-01\n",
      "  -9.04503107e-01]\n",
      " [-6.47926998e+00  5.07267723e+01 -1.04292469e+01  1.05622177e+01\n",
      "   1.11976576e+01  1.11567516e+01 -2.55458176e-01  4.82984185e-01\n",
      "   1.54380482e-02]\n",
      " [-2.57061119e+01 -3.13163319e+01  1.29543219e+01  1.08022032e+01\n",
      "   1.11156044e+01  1.24304695e+01  1.43660277e-01  2.21524790e-01\n",
      "   1.76377189e+00]\n",
      " [ 1.27610407e+01 -2.80471973e+01 -5.15321770e+01  1.07014246e+01\n",
      "   1.09912567e+01  1.17367477e+01 -2.22624600e-01  7.92506635e-01\n",
      "  -7.39525408e-02]\n",
      " [ 5.95931473e+01 -1.36826096e+01 -2.47297859e+01  1.10510054e+01\n",
      "   1.00717239e+01  1.09438000e+01 -1.15943123e-02  1.39218390e-01\n",
      "  -9.54836547e-01]\n",
      " [ 9.77483749e+00  7.56426010e+01  1.21245174e+01  1.11290340e+01\n",
      "   1.12947788e+01  1.15032864e+01 -5.81241548e-01 -2.32051432e-01\n",
      "   1.32014394e-01]]\n"
     ]
    }
   ],
   "source": [
    "# Have the model predict the total momentum of the b tracks\n",
    "predictions = DeepNet.predict(tracks)\n",
    "# Output the first 10 guesses\n",
    "print(predictions[:10])\n"
   ]
  },
  {
   "cell_type": "code",
   "execution_count": 41,
   "metadata": {},
   "outputs": [
    {
     "name": "stdout",
     "output_type": "stream",
     "text": [
      "Minimum validation loss: 34.632205963134766\n"
     ]
    }
   ],
   "source": [
    "# Output to the console the minimum epoch\n",
    "print(\"Minimum validation loss: {}\".format(history_df[\"val_loss\"].min()))"
   ]
  },
  {
   "cell_type": "code",
   "execution_count": 42,
   "metadata": {},
   "outputs": [
    {
     "name": "stdout",
     "output_type": "stream",
     "text": [
      "68143 68143\n",
      "(68143, 9)\n"
     ]
    }
   ],
   "source": [
    "# Ensure the dimensions are correct\n",
    "print(len(tracks), len(predictions))\n",
    "print(np.shape(predictions))"
   ]
  },
  {
   "cell_type": "code",
   "execution_count": 43,
   "metadata": {},
   "outputs": [
    {
     "name": "stdout",
     "output_type": "stream",
     "text": [
      "-449.26678 148.72632\n",
      "Minimum and maximum values\n",
      "The min/max of bhad momenta:  -2273167.0883596055 1827356.5267840482\n",
      "The min/max of the ppred - ptrue -777768.7593189306 467778.248348503\n",
      "The min/max of the pull -8.837223442626076 6.256611672050029\n",
      "Median and IQR\n",
      "The Median/IQR for the ppred - ptrue:  391.57437455949844 91179.64565455745\n",
      "The Median/IQR for the pull  0.022520383651363374 1.9038276078766736\n",
      "Mean and standard deviation\n",
      "The mean/std for the ppred - ptrue:  52.70477503898669 65389.3419779312\n",
      "The mean/std for the pull -0.12496589914425724 1.1445492686986536\n"
     ]
    }
   ],
   "source": [
    "# Create the distribution of errors to access the performance of the neural network\n",
    "pull = (predictions[:, 1] - bhads[:,1])\n",
    "scaled_pull = pull/np.exp(predictions[:, 4])\n",
    "# Compare and constrast the true and predicted momentums\n",
    "print(np.min(predictions[:,1]),np.max(predictions[:,1]))\n",
    "\n",
    "print(\"Minimum and maximum values\")\n",
    "print(\"The min/max of bhad momenta: \", np.min(bhads), np.max(bhads))\n",
    "print(\"The min/max of the ppred - ptrue\", np.min(pull), np.max(pull))\n",
    "print(\"The min/max of the pull\", np.min(scaled_pull), np.max(scaled_pull))\n",
    "\n",
    "print(\"Median and IQR\")\n",
    "print(\"The Median/IQR for the ppred - ptrue: \", np.median(pull),\n",
    "      np.percentile(pull, 75)-np.percentile(pull, 25))\n",
    "print(\"The Median/IQR for the pull \", np.median(scaled_pull),\n",
    "      np.percentile(scaled_pull, 75)-np.percentile(scaled_pull, 25))\n",
    "\n",
    "print(\"Mean and standard deviation\")\n",
    "print(\"The mean/std for the ppred - ptrue: \", np.mean(pull), np.std(pull))\n",
    "print(\"The mean/std for the pull\", np.mean(scaled_pull), np.std(scaled_pull))\n"
   ]
  },
  {
   "cell_type": "code",
   "execution_count": 44,
   "metadata": {},
   "outputs": [
    {
     "data": {
      "image/png": "[encoded data removed]",
      "text/plain": [
       "<Figure size 576x576 with 1 Axes>"
      ]
     },
     "execution_count": 44,
     "metadata": {},
     "output_type": "execute_result"
    }
   ],
   "source": [
    "#Plot the distribution of error\n",
    "fig = binneddensity(pull, fixedbinning(-3e5, 3e5, 100),\n",
    "                    xlabel=\"ptpred - pttrue [MeV]\")\n",
    "fig\n"
   ]
  },
  {
   "cell_type": "code",
   "execution_count": 45,
   "metadata": {},
   "outputs": [
    {
     "data": {
      "image/png": "[encoded data removed]",
      "text/plain": [
       "<Figure size 576x576 with 1 Axes>"
      ]
     },
     "execution_count": 45,
     "metadata": {},
     "output_type": "execute_result"
    }
   ],
   "source": [
    "#Plot the distribution of the pull values\n",
    "fig = binneddensity(scaled_pull, fixedbinning(-4.0, 4.0, 100), xlabel=\"pull\")\n",
    "fig\n"
   ]
  },
  {
   "cell_type": "code",
   "execution_count": 46,
   "metadata": {},
   "outputs": [
    {
     "name": "stdout",
     "output_type": "stream",
     "text": [
      "1/1 [==============================] - 0s 352ms/step\n",
      "[[-66.41957    -71.95021     38.259598    10.703819    11.22177\n",
      "   12.422352     0.80995864   0.10763722   3.413843  ]]\n",
      "[   843.45625286  77133.74792279 179693.16123271]\n",
      "1/1 [==============================] - 0s 20ms/step\n"
     ]
    },
    {
     "data": {
      "text/plain": [
       "<tf.Tensor: shape=(), dtype=float32, numpy=35.143463>"
      ]
     },
     "execution_count": 46,
     "metadata": {},
     "output_type": "execute_result"
    }
   ],
   "source": [
    "#Predict the momentas for a single jet and determine the loss\n",
    "print(DeepNet.predict(tracks[1]))\n",
    "print(bhads[1])\n",
    "\n",
    "LogNormal_Loss_Function_Check(bhads[1],DeepNet.predict(tracks[1]))"
   ]
  },
  {
   "cell_type": "code",
   "execution_count": 47,
   "metadata": {},
   "outputs": [
    {
     "name": "stdout",
     "output_type": "stream",
     "text": [
      "2130/2130 - 2s - loss: 34.6364 - 2s/epoch - 1ms/step\n",
      "The Loaded DeepNet has loss:  34.636\n"
     ]
    }
   ],
   "source": [
    "#Evaluate the entire performance of the model\n",
    "loss = DeepNet.evaluate(tracks,bhads,verbose = 2)\n",
    "print(\"The Loaded DeepNet has loss: \", round(loss,3))"
   ]
  },
  {
   "cell_type": "code",
   "execution_count": 58,
   "metadata": {},
   "outputs": [],
   "source": [
    "#Set up the hyperparameter\n",
    "SEED = tf.random.set_seed(42) # Generate a random seed\n",
    "max_trials = 10\n",
    "tuner = kt.RandomSearch(model_builder,\n",
    "                        objective='val_loss',\n",
    "                        seed=SEED,\n",
    "                        overwrite=True,\n",
    "                        max_trials=15,\n",
    "                        directory='/home/physics/phujdj/DeepLearningParticlePhysics',\n",
    "                        project_name=\"DeepSetHyperTraining\",\n",
    "                        )\n"
   ]
  },
  {
   "cell_type": "code",
   "execution_count": 59,
   "metadata": {},
   "outputs": [],
   "source": [
    "#Create an early stoping to properly survey the values\n",
    "stop_early = tf.keras.callbacks.EarlyStopping(monitor='val_loss', patience=5)\n"
   ]
  },
  {
   "cell_type": "code",
   "execution_count": 60,
   "metadata": {},
   "outputs": [
    {
     "name": "stdout",
     "output_type": "stream",
     "text": [
      "Trial 15 Complete [00h 03m 16s]\n",
      "val_loss: 35.309566497802734\n",
      "\n",
      "Best val_loss So Far: 34.592384338378906\n",
      "Total elapsed time: 00h 39m 40s\n",
      "INFO:tensorflow:Oracle triggered exit\n"
     ]
    }
   ],
   "source": [
    "#Search the parameter space to obtain the best hyperparameter values\n",
    "tuner.search(X_train, y_train, validation_data=(\n",
    "    X_valid, y_valid), epochs=20, callbacks=[stop_early])\n"
   ]
  },
  {
   "cell_type": "code",
   "execution_count": 61,
   "metadata": {},
   "outputs": [
    {
     "name": "stdout",
     "output_type": "stream",
     "text": [
      "\n",
      "The hyperparameter search is complete. The optimal number of track layers is 512, the optimal number of jet layers is 128, the optimal learning rate for the optimizer\n",
      "is 0.0001, the optimal dropout rate is 0.05 and finally the optimal activation function is elu\n",
      "\n"
     ]
    }
   ],
   "source": [
    "best_hps = tuner.get_best_hyperparameters(num_trials=10)[0]\n",
    "print(f\"\"\"\n",
    "The hyperparameter search is complete. The optimal number of track layers is {best_hps.get('track_layers')}, the optimal number of jet layers is {best_hps.get('jet_layers')}, the optimal learning rate for the optimizer\n",
    "is {best_hps.get('learning_rate')}, the optimal dropout rate is {best_hps.get('dropout')} and finally the optimal activation function is {best_hps.get('act_func')}\n",
    "\"\"\")\n"
   ]
  }
 ],
 "metadata": {
  "kernelspec": {
   "display_name": "Python 3",
   "language": "python",
   "name": "python3"
  },
  "language_info": {
   "codemirror_mode": {
    "name": "ipython",
    "version": 3
   },
   "file_extension": ".py",
   "mimetype": "text/x-python",
   "name": "python",
   "nbconvert_exporter": "python",
   "pygments_lexer": "ipython3",
   "version": "3.7.4"
  },
  "vscode": {
   "interpreter": {
    "hash": "a05ddcd8ffea9a6a7d2e914b733df5445b717626b5b8c92c04bfc4eb6e7f5cba"
   }
  }
 },
 "nbformat": 4,
 "nbformat_minor": 5
}
