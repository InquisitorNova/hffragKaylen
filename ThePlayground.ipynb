{
 "cells": [
  {
   "cell_type": "code",
   "execution_count": 4,
   "metadata": {},
   "outputs": [
    {
     "name": "stdout",
     "output_type": "stream",
     "text": [
      "number of jets to train on:\n",
      "141329\n"
     ]
    },
    {
     "name": "stderr",
     "output_type": "stream",
     "text": [
      "/home/physics/phujdj/DeepLearningParticlePhysics/hffrag.py:136: RuntimeWarning: overflow encountered in sinh\n",
      "  pzs = numpy.where(mask, pts, pts * numpy.sinh(etas))\n",
      "/home/physics/phujdj/anaconda3/envs/SpocFit/lib/python3.9/site-packages/tensorflow_addons/utils/ensure_tf_install.py:53: UserWarning: Tensorflow Addons supports using Python ops for all Tensorflow versions above or equal to 2.8.0 and strictly below 2.11.0 (nightly versions are not supported). \n",
      " The versions of TensorFlow you are currently using is 2.11.0 and is not supported. \n",
      "Some things might work, some things might not.\n",
      "If you were to encounter a bug, do not file an issue.\n",
      "If you want to make sure you're using a tested and supported configuration, either change the TensorFlow version or the TensorFlow Addons's version. \n",
      "You can find the compatibility matrix in TensorFlow Addon's readme:\n",
      "https://github.com/tensorflow/addons\n",
      "  warnings.warn(\n"
     ]
    }
   ],
   "source": [
    "\"\"\"\n",
    "*Filename: ThePlayground:\n",
    "*Description: In this jupyter notebook models the weights of trained deepset neural networks\n",
    "*are loaded into copies of their respective neural network architectures for the purposes of\n",
    "*further exploration and testing beyond the initial checks that the network converged to a solution. \n",
    "Date: 16/02/2023\n",
    "Author: Kaylen Smith Darnbrook\n",
    "\"\"\"\n",
    "#Import the relevant models:\n",
    "import awkward as ak\n",
    "import os\n",
    "import numpy as np\n",
    "import uproot\n",
    "import matplotlib.pyplot as plt\n",
    "import seaborn as sns\n",
    "import pandas as pd\n",
    "from hffrag import fixedbinning\n",
    "from hffrag import binneddensity\n",
    "from numpy.lib.recfunctions import structured_to_unstructured\n",
    "import tensorflow as tf\n",
    "import tensorflow_addons as tfa\n",
    "from sklearn.ensemble import RandomForestRegressor\n",
    "import DeepSetNeuralNetArchitecture as DSNNA\n",
    "from HffragDeepSetsProjectionMultivariate import DeepSetsProjection\n",
    "from xgboost import XGBRegressor\n",
    "from sklearn.preprocessing import StandardScaler"
   ]
  },
  {
   "cell_type": "code",
   "execution_count": 5,
   "metadata": {},
   "outputs": [],
   "source": [
    "%matplotlib inline\n",
    "plt.rcParams['axes.facecolor'] = 'white'\n",
    "plt.rcParams['savefig.facecolor'] = 'red'\n",
    "plt.rc('text',usetex = False)\n",
    "plt.rc('font',family = 'Times New Roman')\n",
    "%config InlineBackend.print_figure_kwargs={'facecolor' : \"w\"}"
   ]
  },
  {
   "cell_type": "code",
   "execution_count": 39,
   "metadata": {},
   "outputs": [],
   "source": [
    "path = \"/home/physics/phujdj/DeepLearningParticlePhysics/CheckPointsDeepNet/ResidualDeepSetsUpdatedWeights&Biases2.ckpt\"\n",
    "checkpoint = os.path.dirname(path)\n",
    "latest_DeepNet = tf.train.latest_checkpoint(checkpoint)"
   ]
  },
  {
   "cell_type": "code",
   "execution_count": 7,
   "metadata": {},
   "outputs": [],
   "source": [
    "# The data is being stored in a tree datastructure.\n",
    "# We access the charm root using this command\n",
    "tree = uproot.open(\"/storage/epp2/phswmv/data/hffrag/hffrag.root:CharmAnalysis\")"
   ]
  },
  {
   "cell_type": "code",
   "execution_count": 8,
   "metadata": {},
   "outputs": [],
   "source": [
    "# Initial parameters\n",
    "MASKVAL = -999 # This value is introduced to ensure arrays are regular (Of the same size). They will be masked later by the network\n",
    "MAXTRACKS = 32 # This value is the maximum number of tracks allowed per event\n",
    "BATCHSIZE = 64 # This is the batch size of the mini batches used during training\n",
    "EPOCHS = 1000  # This is the default number of epochs for which the neural network will train providing that early stopping does not occur\n",
    "MAXEVENTS = 2e5 #This is the maximum number of events that will the program will accept\n",
    "LR = 1e-4 #This is the default learning rate"
   ]
  },
  {
   "cell_type": "code",
   "execution_count": 9,
   "metadata": {},
   "outputs": [],
   "source": [
    "# Select the features we wish to study\n",
    "track_features = [\"AnalysisTracks_pt\", \"AnalysisTracks_eta\", \"AnalysisTracks_phi\", \"AnalysisTracks_z0sinTheta\",\n",
    "                  \"AnalysisTracks_d0sig\", \"AnalysisTracks_d0\", \"AnalysisTracks_d0sigPV\", \"AnalysisTracks_d0PV\"]\n",
    "jet_features = [\"AnalysisAntiKt4TruthJets_pt\", \"AnalysisAntiKt4TruthJets_eta\", \"AnalysisAntiKt4TruthJets_phi\", \"AnalysisAntiKt4TruthJets_m\",\"AnalysisAntiKt4TruthJets_ghostB_pdgId\",\n",
    "                \"AnalysisAntiKt4TruthJets_ghostB_pt\", \"AnalysisAntiKt4TruthJets_ghostB_eta\",\"AnalysisAntiKt4TruthJets_ghostB_phi\", \"AnalysisAntiKt4TruthJets_ghostB_m\"]\n",
    "SV_features = [\"TruthParticles_Selected_LxyT\"]"
   ]
  },
  {
   "cell_type": "code",
   "execution_count": 10,
   "metadata": {},
   "outputs": [],
   "source": [
    "# Read in the data from the root file\n",
    "features = tree.arrays(jet_features+track_features + SV_features, entry_stop=MAXEVENTS)"
   ]
  },
  {
   "cell_type": "code",
   "execution_count": 11,
   "metadata": {},
   "outputs": [],
   "source": [
    "#Select the events of interest\n",
    "events = features[ak.sum(features[\"AnalysisAntiKt4TruthJets_pt\"] > 25000, axis = 1) > 0]"
   ]
  },
  {
   "cell_type": "code",
   "execution_count": 12,
   "metadata": {},
   "outputs": [
    {
     "name": "stdout",
     "output_type": "stream",
     "text": [
      "The number of jets to train on is:  199840\n",
      "The number of track features is:  8\n",
      "There are 4 outputs\n",
      "There are 32 inputs\n"
     ]
    }
   ],
   "source": [
    "# Displays the number of jets being trained on\n",
    "jets = events[jet_features][:,0]\n",
    "print(\"The number of jets to train on is: \", len(jets))\n",
    "print(\"The number of track features is: \",len(track_features))\n",
    "\n",
    "# Select tracks from the events\n",
    "tracks = events[track_features]\n",
    "Secondary_Displacement_temp_first = events[SV_features]\n",
    "\n",
    "# Match the tracks to the jets\n",
    "mask = DSNNA.Match_Tracks(jets, tracks)\n",
    "matchedtracks = tracks[mask]\n",
    "\n",
    "# Pad and Flatten the data\n",
    "matchedtracks = DSNNA.flatten(matchedtracks, MAXTRACKS)\n",
    "\n",
    "bjets = ak.sum(jets[\"AnalysisAntiKt4TruthJets_ghostB_pt\"] > 5000, axis=1) > 0\n",
    "Secondary_Displacement_temp_a = DSNNA.flatten(Secondary_Displacement_temp_first, 6).to_numpy()\n",
    "Secondary_Displacement_temp_b = Secondary_Displacement_temp_a[:,0]\n",
    "Secondary_Displacement_temp = Secondary_Displacement_temp_b[bjets]\n",
    "jets = jets[bjets]\n",
    "\n",
    "# Obtain the pt, eta and phi of each b hadron jet\n",
    "bhads_pt = jets[\"AnalysisAntiKt4TruthJets_ghostB_pt\"][:, 0].to_numpy()\n",
    "bhads_eta = jets[\"AnalysisAntiKt4TruthJets_ghostB_eta\"][:,0].to_numpy()\n",
    "bhads_phi = jets[\"AnalysisAntiKt4TruthJets_ghostB_phi\"][:,0].to_numpy()\n",
    "bhads_m = jets[\"AnalysisAntiKt4TruthJets_ghostB_m\"][:,0].to_numpy()\n",
    "bhads_PGID = jets[\"AnalysisAntiKt4TruthJets_ghostB_pdgId\"][:,0].to_numpy()\n",
    "\n",
    "jets_pt = jets[\"AnalysisAntiKt4TruthJets_pt\"].to_numpy()\n",
    "jets_eta = jets[\"AnalysisAntiKt4TruthJets_eta\"].to_numpy()\n",
    "jets_phi = jets[\"AnalysisAntiKt4TruthJets_phi\"].to_numpy()\n",
    "jets_m = jets[\"AnalysisAntiKt4TruthJets_m\"].to_numpy()\n",
    "b_jets = np.stack([jets_pt,jets_eta,jets_phi, jets_m], axis = -1)\n",
    "\n",
    "bhads = np.stack([bhads_pt,bhads_eta,bhads_phi, bhads_m],axis = -1) #Combine the momentum, eta and phi for each jet into one array\n",
    "\n",
    "print(\"There are {} outputs\".format(np.shape(bhads)[1])) # Display the number of target features the neural network will predict\n",
    "matchedtracks = matchedtracks[bjets]\n",
    "print(\"There are {} inputs\".format(np.shape(matchedtracks)[1])) # Display the number of target features the neural network will use in it's predictions"
   ]
  },
  {
   "cell_type": "code",
   "execution_count": 13,
   "metadata": {},
   "outputs": [
    {
     "name": "stdout",
     "output_type": "stream",
     "text": [
      "-999.0 115.98360443115234\n"
     ]
    }
   ],
   "source": [
    "Secondary_Displacement = np.array([x[0] for x in Secondary_Displacement_temp])\n",
    "print(np.min(Secondary_Displacement), np.max(Secondary_Displacement))"
   ]
  },
  {
   "cell_type": "code",
   "execution_count": 14,
   "metadata": {},
   "outputs": [],
   "source": [
    "# Transform the jet and tracks to unstructed data.\n",
    "jets = structured_to_unstructured(jets[jet_features[:-5]])\n",
    "matchedtracks = structured_to_unstructured(matchedtracks)"
   ]
  },
  {
   "cell_type": "code",
   "execution_count": 15,
   "metadata": {},
   "outputs": [
    {
     "name": "stdout",
     "output_type": "stream",
     "text": [
      "(96659, 32, 3)\n",
      "(96659, 3)\n"
     ]
    },
    {
     "name": "stderr",
     "output_type": "stream",
     "text": [
      "/home/physics/phujdj/DeepLearningParticlePhysics/DeepSetNeuralNetArchitecture.py:108: RuntimeWarning: overflow encountered in sinh\n",
      "  pzs = np.where(mask1 | mask3, pts, pts * np.sinh(etas))\n"
     ]
    }
   ],
   "source": [
    "# Convert the coordinates of the b jets and tracks to cartesian coordinates\n",
    "polartracks = matchedtracks.to_numpy()\n",
    "Num_events = MAXTRACKS\n",
    "tracks_pt = polartracks[:,:,0].reshape(-1,Num_events,1)\n",
    "tracks_eta = polartracks[:,:,1].reshape(-1,Num_events,1)\n",
    "tracks_phi = polartracks[:,:,2].reshape(-1,Num_events,1)\n",
    "\n",
    "tracks_pep = np.concatenate([tracks_pt,tracks_eta,tracks_phi], axis = -1) \n",
    "print(tracks_pep.shape)\n",
    "\n",
    "jets_pt = b_jets[:,0].reshape(-1,1)\n",
    "jets_eta = b_jets[:,1].reshape(-1,1)\n",
    "jets_phi = b_jets[:,2].reshape(-1,1)\n",
    "\n",
    "b_jets_pep = np.concatenate([jets_pt,jets_eta,jets_phi], axis = -1) \n",
    "print(b_jets_pep.shape)\n",
    "\n",
    "tracks_p = DSNNA.pt_eta_phi_2_px_py_pz_tracks(matchedtracks.to_numpy())\n",
    "bhads = DSNNA.pt_eta_phi_2_px_py_pz_jets(bhads)\n",
    "b_jets_p = DSNNA.pt_eta_phi_2_px_py_pz_jets(b_jets)\n",
    "b_jets_m = b_jets[:,-1].reshape(-1,1)\n",
    "\n",
    "#Combine the momenta of the tracks with the rest of the track features to form the track dataset\n",
    "tracks = np.concatenate([tracks_p,tracks_pep,matchedtracks[:,:,3:].to_numpy()],axis = 2)\n",
    "b_jets = np.concatenate([b_jets_p,b_jets_pep,b_jets_m] ,axis = 1)"
   ]
  },
  {
   "cell_type": "code",
   "execution_count": 22,
   "metadata": {},
   "outputs": [
    {
     "name": "stdout",
     "output_type": "stream",
     "text": [
      "(93323,)\n"
     ]
    }
   ],
   "source": [
    "tracks = np.ma.masked_values(tracks,-999)\n",
    "bhads_fractions_px = bhads[:,0]/b_jets[:,0]\n",
    "bhads_fractions_py = bhads[:,1]/b_jets[:,1]\n",
    "bhads_fractions_pz = bhads[:,2]/b_jets[:,2]\n",
    "bhads_fractions_pt = bhads_pt/b_jets_pep[:,0]\n",
    "print(bhads_fractions_px.shape)"
   ]
  },
  {
   "cell_type": "code",
   "execution_count": 17,
   "metadata": {},
   "outputs": [
    {
     "name": "stdout",
     "output_type": "stream",
     "text": [
      "(96659, 3)\n"
     ]
    },
    {
     "name": "stderr",
     "output_type": "stream",
     "text": [
      "/tmp/ipykernel_15126/2222755888.py:6: RuntimeWarning: invalid value encountered in sqrt\n",
      "  Tracks_Momentum = np.sqrt(tracks[:, : ,0]**2 + tracks[:,:,1]**2 + tracks[:,:,2]**2)\n"
     ]
    },
    {
     "name": "stdout",
     "output_type": "stream",
     "text": [
      "(96659, 32, 4)\n",
      "(96659,)\n"
     ]
    }
   ],
   "source": [
    "b_jets_mag = np.linalg.norm(b_jets[:,:3], axis = 1)\n",
    "bhads_fractions = np.stack([bhads_fractions_px,bhads_fractions_py, bhads_fractions_pz], axis = -1)\n",
    "bhads_projection = ((bhads[:,:3]*b_jets[:,:3]).sum(axis = 1))/(b_jets_mag**2)\n",
    "print(bhads_fractions.shape)\n",
    "\n",
    "Tracks_Momentum = np.sqrt(tracks[:, : ,0]**2 + tracks[:,:,1]**2 + tracks[:,:,2]**2)\n",
    "Tracks_4_Momentum = np.stack([Tracks_Momentum, tracks[:,:,0], tracks[:,:,1], tracks[:,:,2]], axis = -1)\n",
    "print(Tracks_4_Momentum.shape)\n",
    "\n",
    "Tracks_Invariant_Mass = np.sqrt((np.sum(Tracks_4_Momentum, axis = 1) * np.sum(Tracks_4_Momentum, axis = 1)).sum(axis = -1))\n",
    "print(Tracks_Invariant_Mass.shape)"
   ]
  },
  {
   "cell_type": "code",
   "execution_count": 18,
   "metadata": {},
   "outputs": [
    {
     "name": "stdout",
     "output_type": "stream",
     "text": [
      "618.1237235802715 -4195.466731248074\n",
      "81.60295597226761 -34465.39587820514\n",
      "286.70118793549557 -709.6182655719883\n",
      "0.008578880941776086 0.008578880941776086\n",
      "(93323, 6)\n",
      "9.82205875847657 -9.818688888748579\n",
      "(93323,)\n"
     ]
    }
   ],
   "source": [
    "#Identify the outliers in the dataset and remove them to prevent spikes during learning.\n",
    "print(np.max(bhads_fractions_px), np.min(bhads_fractions_px))\n",
    "print(np.max(bhads_fractions_py), np.min(bhads_fractions_py))\n",
    "print(np.max(bhads_fractions_pz), np.min(bhads_fractions_pz))\n",
    "print(np.min(bhads_fractions_pt), np.min(bhads_fractions_pt))\n",
    "array = [x for x in range(bhads_fractions_px.shape[0])]\n",
    "\n",
    "#Remove the outliers in the dataset with momenta fractions and projections that are either unphysical or statistically unlikely\n",
    "bhads_trial = np.stack([array,bhads_fractions_px, bhads_fractions_py, bhads_fractions_pz, bhads_projection, Secondary_Displacement], axis = -1)\n",
    "bhads_fractions_clean  = bhads_trial[(bhads_trial[:,1] <= 10) & (bhads_trial[:,1] >= -10) & (bhads_trial[:,2] <= 10) & (bhads_trial[:,2] >= -10) & (bhads_trial[:,3] <= 10) & (bhads_trial[:,3] >= -10) & (bhads_trial[:,4] >= -10) & (bhads_trial[:,4] <= 10) & (bhads_trial[:,5] >= -10) * (bhads_trial[:,5] <= 10)]\n",
    "print(bhads_fractions_clean.shape)\n",
    "\n",
    "#Compare to the original range of the momenta fractions\n",
    "print(np.max(bhads_fractions_clean[:,1]), np.min(bhads_fractions_clean[:,1]))\n",
    "indices = bhads_fractions_clean[:,0]\n",
    "print(indices.shape)"
   ]
  },
  {
   "cell_type": "code",
   "execution_count": 19,
   "metadata": {},
   "outputs": [
    {
     "name": "stdout",
     "output_type": "stream",
     "text": [
      "(93323,)\n"
     ]
    }
   ],
   "source": [
    "#Find the indices of the remaining datapoints\n",
    "indices = [int(x) for x in indices]\n",
    "print(np.shape(indices))"
   ]
  },
  {
   "cell_type": "code",
   "execution_count": 20,
   "metadata": {},
   "outputs": [],
   "source": [
    "tracks = tracks[indices]\n",
    "b_jets = b_jets[indices]\n",
    "bhads = bhads[indices]\n",
    "bhads_pt = bhads_pt[indices]\n",
    "bhads_eta = bhads_eta[indices]\n",
    "bhads_phi = bhads_phi[indices]\n",
    "bhads_PGID = bhads_PGID[indices]\n",
    "b_jets_m = b_jets_m[indices]\n",
    "b_jets_pep = b_jets_pep[indices]\n",
    "bhads_m = bhads_m[indices]\n",
    "Secondary_Displacement = Secondary_Displacement[indices]"
   ]
  },
  {
   "cell_type": "code",
   "execution_count": 23,
   "metadata": {},
   "outputs": [
    {
     "name": "stdout",
     "output_type": "stream",
     "text": [
      "(93323,)\n",
      "(93323,) (93323, 1)\n",
      "(93323,)\n",
      "[0.9923946  1.00824593 0.99120818]\n",
      "0.9923945992521676\n",
      "-34465.39587820514 618.1237235802715\n",
      "0.9923945992521676\n",
      "0.9923945992521676\n",
      "-9.818688888748579 9.82205875847657\n",
      "Hello\n",
      "(93323,)\n",
      "(93323,)\n",
      "(93323,)\n",
      "(93323,)\n"
     ]
    },
    {
     "name": "stderr",
     "output_type": "stream",
     "text": [
      "/tmp/ipykernel_15126/117625131.py:63: RuntimeWarning: divide by zero encountered in log\n",
      "  Log_Sum_px = np.log(sum_px_tracks/b_jets[:,0])\n",
      "/tmp/ipykernel_15126/117625131.py:63: RuntimeWarning: invalid value encountered in log\n",
      "  Log_Sum_px = np.log(sum_px_tracks/b_jets[:,0])\n",
      "/tmp/ipykernel_15126/117625131.py:64: RuntimeWarning: divide by zero encountered in log\n",
      "  Log_Sum_py = np.log(sum_py_tracks/b_jets[:,1])\n",
      "/tmp/ipykernel_15126/117625131.py:64: RuntimeWarning: invalid value encountered in log\n",
      "  Log_Sum_py = np.log(sum_py_tracks/b_jets[:,1])\n",
      "/tmp/ipykernel_15126/117625131.py:65: RuntimeWarning: divide by zero encountered in log\n",
      "  Log_Sum_pz = np.log(sum_pz_tracks/b_jets[:,2])\n",
      "/tmp/ipykernel_15126/117625131.py:65: RuntimeWarning: invalid value encountered in log\n",
      "  Log_Sum_pz = np.log(sum_pz_tracks/b_jets[:,2])\n",
      "/tmp/ipykernel_15126/117625131.py:66: RuntimeWarning: divide by zero encountered in log\n",
      "  Log_Sum_pt = np.log(sum_pt_tracks/b_jets[:,3])\n"
     ]
    },
    {
     "name": "stdout",
     "output_type": "stream",
     "text": [
      "(93323,)\n",
      "(93323, 32)\n",
      "(93323, 32, 3)\n",
      "(93323, 32, 3)\n",
      "0.14894195156291137\n",
      "-671.1690306562526 469.093922162085\n",
      "hey\n",
      "(93323, 32)\n",
      "(93323, 3)\n",
      "(93323,)\n",
      "(93323,)\n",
      "(93323,)\n",
      "79564.72132167572\n",
      "()\n",
      "(93323,)\n",
      "(93323,)\n",
      "end\n",
      "214437.40545026396 188449.3206804565\n"
     ]
    }
   ],
   "source": [
    "b_jets_mag = np.linalg.norm(b_jets[:,:3], axis = 1)\n",
    "bhads_mag = np.linalg.norm(bhads[:,:3], axis = 1)\n",
    "tracks_Momentum = np.sum(np.linalg.norm(tracks[:,:,:3], axis = 2))\n",
    "\n",
    "bhads_fractions_px = bhads[:,0]/b_jets[:,0]\n",
    "bhads_fractions_py = bhads[:,1]/b_jets[:,1]\n",
    "bhads_fractions_pz = bhads[:,2]/b_jets[:,2]\n",
    "print(bhads_fractions_px.shape)\n",
    "\n",
    "b_jets_energy = np.sqrt((b_jets_m[:,0]**2) + (b_jets_mag**2))\n",
    "print(b_jets_energy.shape, b_jets_m.shape)\n",
    "\n",
    "b_jets_energy_pt = np.sqrt((b_jets_m[:,0]**2) + (b_jets[:,4]**2))\n",
    "b_jets_energy_pt.shape\n",
    "\n",
    "b_jet_energy_mass_ratio = b_jets_energy/b_jets_m[:,0]\n",
    "\n",
    "print(b_jet_energy_mass_ratio.shape)\n",
    "bhads_energy = np.sqrt((bhads_m**2) + (bhads_mag**2))\n",
    "bhads_energy.shape\n",
    "\n",
    "bhads_energy_mass_ratio = bhads_energy/bhads_m\n",
    "\n",
    "print(bhads_fractions[0])\n",
    "print(bhads[0,0]/b_jets[0,0])\n",
    "print(np.min(bhads_fractions),np.max(bhads_fractions))\n",
    "\n",
    "print(bhads_fractions_px[0])\n",
    "print(bhads[0,0]/b_jets[0,0])\n",
    "print(np.min(bhads_fractions_px),np.max(bhads_fractions_px))\n",
    "\n",
    "print(\"Hello\")\n",
    "sum_px_tracks = np.sum(tracks[:,:,0], axis = 1)\n",
    "sum_py_tracks = np.sum(tracks[:,:,1], axis = 1)\n",
    "sum_pz_tracks = np.sum(tracks[:,:,2], axis = 1)\n",
    "sum_pt_tracks = np.sum(tracks[:,:,3], axis = 1)\n",
    "print(sum_pt_tracks.shape)\n",
    "\n",
    "sum_px_tracks_RSE = np.sqrt(np.sum(tracks[:,:,0]**2, axis = 1))\n",
    "sum_py_tracks_RSE= np.sqrt(np.sum(tracks[:,:,1]**2, axis = 1))\n",
    "sum_pz_tracks_RSE = np.sqrt(np.sum(tracks[:,:,2]**2, axis = 1))\n",
    "sum_pt_tracks_RSE = np.sqrt(np.sum(tracks[:,:,3]**2, axis = 1))\n",
    "print(sum_pt_tracks_RSE.shape)\n",
    "\n",
    "RSM_scaled_px = sum_px_tracks_RSE/sum_px_tracks\n",
    "RSM_scaled_py = sum_py_tracks_RSE/sum_py_tracks\n",
    "RSM_scaled_pz = sum_pz_tracks_RSE/sum_pz_tracks\n",
    "RSM_scaled_pt = sum_pt_tracks_RSE/sum_pt_tracks\n",
    "print(RSM_scaled_pt.shape)\n",
    "\n",
    "RMS_scaled_px = np.sqrt(np.sum(tracks[:,:,0]**2, axis = 1)/MAXTRACKS)\n",
    "RMS_scaled_py = np.sqrt(np.sum(tracks[:,:,1]**2, axis = 1)/MAXTRACKS)\n",
    "RMS_scaled_pz = np.sqrt(np.sum(tracks[:,:,2]**2, axis = 1)/MAXTRACKS)\n",
    "RMS_scaled_pt = np.sqrt(np.sum(tracks[:,:,3]**2, axis = 1)/MAXTRACKS)\n",
    "print(RMS_scaled_pt.shape)\n",
    "\n",
    "Log_px_tracks = np.log(abs(tracks[:,:,0]/b_jets[:,np.newaxis,0]))\n",
    "Log_py_tracks = np.log(abs(tracks[:,:,1]/b_jets[:,np.newaxis,1]))\n",
    "Log_pz_tracks = np.log(abs(tracks[:,:,2]/b_jets[:,np.newaxis,2]))\n",
    "Log_pt_tracks = np.log(abs(tracks[:,:,3]/b_jets[:,np.newaxis,3]))\n",
    "Log_tracks = np.stack([Log_px_tracks, Log_py_tracks, Log_pz_tracks, Log_pt_tracks], axis = -1)\n",
    "\n",
    "Log_Sum_px = np.log(sum_px_tracks/b_jets[:,0])\n",
    "Log_Sum_py = np.log(sum_py_tracks/b_jets[:,1])\n",
    "Log_Sum_pz = np.log(sum_pz_tracks/b_jets[:,2])\n",
    "Log_Sum_pt = np.log(sum_pt_tracks/b_jets[:,3])\n",
    "Log_Momenta = np.log(abs(tracks_Momentum/np.sum(b_jets[:,:3], axis = 1)))\n",
    "print(Log_Sum_pt.shape)\n",
    "\n",
    "tracks_fractions_px = tracks[:,:,0]/b_jets[:,np.newaxis,0]\n",
    "tracks_fractions_py = tracks[:,:,1]/b_jets[:,np.newaxis,1]\n",
    "tracks_fractions_pz = tracks[:,:,2]/b_jets[:,np.newaxis,2]\n",
    "tracks_fractions_pt = tracks[:,:,3]/b_jets[:,np.newaxis,3]\n",
    "print(tracks_fractions_pt.shape)\n",
    "Track_fractions = np.stack([tracks_fractions_px,tracks_fractions_py, tracks_fractions_pz], axis = -1)\n",
    "print(Track_fractions.shape)\n",
    "\n",
    "print(Track_fractions.shape)\n",
    "print(tracks[0,0,0]/b_jets[0,0])\n",
    "print(np.mean(Track_fractions),np.std(Track_fractions))\n",
    "\n",
    "print(\"hey\")\n",
    "Tracks_projection = ((tracks[:,:,:3]*b_jets[:,np.newaxis,:3]).sum(axis = 2)/(b_jets_mag[:,np.newaxis]**2))\n",
    "print(Tracks_projection.shape)\n",
    "Track_Momenta = np.stack([sum_px_tracks, sum_py_tracks, sum_pz_tracks], axis = -1)\n",
    "print(Track_Momenta.shape)\n",
    "Sum_Tracks_projection = ((Track_Momenta*b_jets[:,:3]).sum(axis = 1))/(b_jets_mag**2)\n",
    "print(Sum_Tracks_projection.shape)\n",
    "\n",
    "b_jet_energy_ratio_px = sum_px_tracks/b_jets_energy\n",
    "b_jet_energy_ratio_py = sum_py_tracks/b_jets_energy\n",
    "b_jet_energy_ratio_pz = sum_pz_tracks/b_jets_energy\n",
    "b_jet_energy_ratio_pt = sum_pt_tracks/b_jets_energy\n",
    "print(b_jet_energy_ratio_pt.shape)\n",
    "\n",
    "b_jet_energy_ratio_cart = b_jets_mag/b_jets_energy\n",
    "b_jet_energy_ratio_pt = b_jets[:,4]/b_jets_energy\n",
    "print(b_jet_energy_ratio_pt.shape)\n",
    "\n",
    "b_jet_energy_ratio_total = np.sum(b_jets[:,4])/np.sum(b_jets_energy)  \n",
    "b_jet_transverse_mass = np.sqrt(b_jets_energy**2 - b_jets[:,2]**2)\n",
    "bhads_transverse_mass = np.sqrt(bhads_energy**2 - bhads[:,2]**2)\n",
    "print(b_jet_transverse_mass[0])\n",
    "print(b_jet_energy_ratio_total.shape)\n",
    "print(b_jet_transverse_mass.shape)\n",
    "print(np.full((len(b_jets)),b_jet_energy_ratio_total).shape)\n",
    "print(\"end\")\n",
    "bhads_projection = ((bhads[:,:3]*b_jets[:,:3]).sum(axis = 1))/(b_jets_mag**2)\n",
    "\n",
    "print(np.mean(b_jets_energy),np.std(b_jets_energy))\n",
    "\n",
    "b_jets = np.stack([b_jets[:,0], b_jets[:,1], b_jets[:,2],b_jets[:,3],b_jets[:,4], b_jets[:,5], b_jets[:,6], b_jets_mag, sum_px_tracks, sum_py_tracks, sum_pz_tracks, sum_pt_tracks, sum_px_tracks_RSE, sum_py_tracks_RSE, sum_pz_tracks_RSE, sum_pt_tracks_RSE, RSM_scaled_px, RSM_scaled_py, RSM_scaled_pz, RSM_scaled_pt, RMS_scaled_px, RMS_scaled_py, RMS_scaled_pz, RMS_scaled_pt, b_jet_transverse_mass, Log_Sum_px, Log_Sum_py, Log_Sum_pz, Log_Sum_pt, Log_Momenta, b_jets_energy, b_jet_energy_ratio_px, b_jet_energy_ratio_py, b_jet_energy_ratio_pz, b_jet_energy_ratio_cart, b_jet_energy_ratio_pt, b_jet_energy_mass_ratio, np.full((len(b_jets),),b_jet_energy_ratio_total)], axis = -1)\n",
    "bhads_targets = np.stack([bhads[:,0]/1e6,bhads[:,1]/1e6, bhads[:,2]/1e6,bhads_pt/1e6, bhads_eta, bhads_phi, bhads_fractions_px, bhads_fractions_py, bhads_fractions_pz, bhads_energy/1e6, bhads_fractions_pt, bhads_transverse_mass/1e6, bhads_energy_mass_ratio/1e3, bhads_projection, bhads_m/1e3, Secondary_Displacement/1e4], axis = -1)"
   ]
  },
  {
   "cell_type": "code",
   "execution_count": 24,
   "metadata": {},
   "outputs": [],
   "source": [
    "bhads_targets = np.ma.masked_values(bhads_targets, -999)"
   ]
  },
  {
   "cell_type": "code",
   "execution_count": 25,
   "metadata": {},
   "outputs": [
    {
     "name": "stdout",
     "output_type": "stream",
     "text": [
      "(93323, 32, 18)\n"
     ]
    }
   ],
   "source": [
    "\"\"\"\n",
    "0 - Momentum Px Scaled\n",
    "1 - Momentum Py Scaled\n",
    "2 - Momentum Pz Scaled\n",
    "3-  Momentum Pt Scaled\n",
    "4-  Momentum Eta Scaled\n",
    "5 - Momentum Phi Scaled\n",
    "6 - Tranvserse Impact parameter sin component\n",
    "7 - Longitudinal Impact parameter\n",
    "8 - Longitudinal Impact parameter signficiance\n",
    "9 - Longitudinal Impact Parameter w.r.t PV\n",
    "10 - Longitudinal Impact Parameter wr.r.t PV\n",
    "11 - Momentum Fraction Px Scaled\n",
    "12 - Momentum Fraction Py Scaled\n",
    "13 - Momentum Fraction Pz Scaled\n",
    "14 - Momentum Fraction pt Scaled.\n",
    "15 - Logarithm of px of the tracks / b_jet x momenta\n",
    "16 - Logarithm of py of the tracks / b_jet y momenta\n",
    "17 - Logarithm of pz of the tracks / b_jet z momenta\n",
    "18 - Logarithm of sum pt of the tracks / b_jet t momenta\n",
    "\"\"\"\n",
    "Tracks_input = np.concatenate([tracks, Track_fractions, Log_tracks], axis = -1)\n",
    "print(Tracks_input.shape)"
   ]
  },
  {
   "cell_type": "code",
   "execution_count": 26,
   "metadata": {},
   "outputs": [
    {
     "name": "stdout",
     "output_type": "stream",
     "text": [
      "(93323, 71)\n"
     ]
    }
   ],
   "source": [
    "\"\"\"\n",
    "0 - Momentum Px Scaled\n",
    "1 - Momentum Py Scaled\n",
    "2 - Momentum Pz Scaled\n",
    "3 - Momentum Pt Scaled\n",
    "4 - Momentum eta Scaled\n",
    "5 - Momentum Phi Scaled\n",
    "6 - Sum px of the tracks\n",
    "7 - Sum py of the tracks\n",
    "8 - Sum pz of the tracks\n",
    "9 - Sum pt of the tracks\n",
    "10 - Sqrt of the Sum px of the tracks\n",
    "11 - Sqrt of the Sum py of the tracks\n",
    "12 - Sqrt of the Sum pz of the tracks\n",
    "13 - Sqrt of the Sum pt of the tracks\n",
    "14 - Sqrt of the Sum px of the tracks scaled by the sum px of the tracks\n",
    "15 - Sqrt of the Sum py of the tracks scaled by the sum py of the tracks\n",
    "16 - Sqrt of the Sum pz of the tracks scaled by the sum pz of the tracks\n",
    "17 - Sqrt of the Sum pt of the tracks scaked by the sum pt of the tracks\n",
    "18 - Root Mean Square of the px momenta of the tracks\n",
    "19 - Root Mean Square of the py momenta of the tracks\n",
    "20 - Root Mean Square of the pz momenta of the tracks\n",
    "21 - Root Mean Square of the pt momenta of the tracks\n",
    "22 - Tranvserse mass of the b-jets\n",
    "23 - Logarithm of the  Sum px of the tracks divide by the b_jet x momenta\n",
    "24 - Logarithm of the  Sum py of the tracks divide by the b_jet y momenta\n",
    "25 - Logarithm of the  Sum pz of the tracks divide by the b_jet z momenta\n",
    "26 - Logarithm of the total momenta of the tracks divided by the b_jet total momenta\n",
    "27 - B_jet energy\n",
    "28 - B_jet energy ratio px\n",
    "29 - B_jet energy ratio py\n",
    "30 - B_jet energy ratio pz\n",
    "31 - B_jet energy ratio pt\n",
    "32 - B_jet energy ratio cart\n",
    "32 - B_jet energy ratio pt\n",
    "33 - B_jet energy ratio total\n",
    "\"\"\"\n",
    "b_jets_input = np.concatenate([b_jets, Tracks_projection, Sum_Tracks_projection.reshape(-1,1)], axis = -1)\n",
    "print(b_jets_input.shape)"
   ]
  },
  {
   "cell_type": "code",
   "execution_count": 27,
   "metadata": {},
   "outputs": [
    {
     "name": "stdout",
     "output_type": "stream",
     "text": [
      "Counter({-521: 20081, 511: 19886, 521: 19872, -511: 19753, 531: 4555, -531: 4499, 5122: 1829, -5122: 1795, 5132: 271, 5232: 260, -5132: 260, -5232: 246, -5332: 6, 5332: 5, -541: 4, 555: 1})\n",
      "(93323, 1)\n",
      "Counter({0.0: 39953, 1.0: 39639, 2.0: 9054, 4.0: 4677})\n",
      "(93323, 4)\n"
     ]
    }
   ],
   "source": [
    "from collections import Counter\n",
    "counter = Counter(bhads_PGID)\n",
    "print(counter)\n",
    "\n",
    "from sklearn.preprocessing import OneHotEncoder\n",
    "counter = np.array([])\n",
    "bhadron_PGIDs = []\n",
    "for PGID in bhads_PGID:\n",
    "    if (PGID == 521 or PGID == -521):\n",
    "        element = 0\n",
    "    elif (PGID == 511 or PGID == -511):\n",
    "        element = 1\n",
    "    elif (PGID == 531 or PGID == -531):\n",
    "        element = 2\n",
    "    else:\n",
    "        element = 4\n",
    "    counter = np.append(counter, [element])\n",
    "    bhadron_PGIDs.append([str(element)])\n",
    "print(np.shape(bhadron_PGIDs))\n",
    "counter = Counter(counter)\n",
    "print(counter)\n",
    "encoder = OneHotEncoder(sparse = False)\n",
    "onehot = encoder.fit_transform(bhadron_PGIDs)\n",
    "print(np.shape(onehot))"
   ]
  },
  {
   "cell_type": "code",
   "execution_count": 28,
   "metadata": {},
   "outputs": [
    {
     "name": "stdout",
     "output_type": "stream",
     "text": [
      "(93323, 71)\n",
      "(93323, 32, 18) (93323, 71) (93323,) (93323, 16)\n"
     ]
    }
   ],
   "source": [
    "mask = np.where(np.isinf(b_jets_input) == True)\n",
    "b_jets_input_clean = np.delete(b_jets_input, mask, axis = 0)\n",
    "print(b_jets_input_clean.shape)\n",
    "Tracks_input_clean = np.delete(Tracks_input, mask, axis = 0)\n",
    "bhads_m_clean = np.delete(bhads_m, mask, axis = 0)\n",
    "bhads_targets_clean = np.delete(bhads_targets, mask, axis = 0)\n",
    "onehot = np.delete(onehot, mask, axis = 0)  \n",
    "print(Tracks_input_clean.shape,b_jets_input_clean.shape,bhads_m_clean.shape, bhads_targets_clean.shape)"
   ]
  },
  {
   "cell_type": "code",
   "execution_count": 29,
   "metadata": {},
   "outputs": [
    {
     "name": "stdout",
     "output_type": "stream",
     "text": [
      "(93323, 32, 18)\n",
      "(93323, 71)\n",
      "(93323, 16)\n",
      "[-5.00233583e-05  6.51111562e-05  3.78591086e-05  8.16077841e-02\n",
      " -1.37029924e-04  3.97901356e-03  7.82457160e-01  7.82648691e-01\n",
      "  7.79189686e-01  1.61575668e-01  7.83522482e-01  8.18334638e-02\n",
      "  3.04487554e-02  7.81293894e-01  5.30693666e+00  1.09199559e-04] [6.48748945e-02 6.46954922e-02 1.99208530e-01 4.16465480e-02\n",
      " 1.22850728e+00 1.81478893e+00 3.77370014e-01 3.76806515e-01\n",
      " 3.79646440e-01 1.48323229e-01 2.46603517e-01 4.15417968e-02\n",
      " 2.79436174e-02 2.46319675e-01 8.78629238e-02 1.76065053e-04]\n"
     ]
    }
   ],
   "source": [
    "Scaler_tracks = StandardScaler()\n",
    "Num_events,Num_tracks,Num_features = np.shape(Tracks_input_clean)\n",
    "Scaled_tracks = np.reshape(Tracks_input_clean, newshape=(-1,Num_features))\n",
    "tracks_scaled = Scaler_tracks.fit_transform(Scaled_tracks)\n",
    "Tracks_input_scaled = np.reshape(tracks_scaled, newshape= (Num_events,Num_tracks,Num_features))\n",
    "print(np.shape(Tracks_input_scaled))\n",
    "\n",
    "Scaler_jets = StandardScaler()\n",
    "Num_events,Num_features = np.shape(b_jets_input_clean)\n",
    "b_jets_scaled = np.reshape(b_jets_input_clean, newshape=(-1,Num_features))\n",
    "b_jets_scaled = Scaler_jets.fit_transform(b_jets_scaled)\n",
    "b_jets_input_scaled = np.reshape(b_jets_scaled, newshape= (Num_events,Num_features))\n",
    "print(np.shape(b_jets_input_scaled))\n",
    "\n",
    "means = []\n",
    "stds = []\n",
    "lister = []\n",
    "for bhads_target_feature in range(np.shape(bhads_targets_clean)[1]):\n",
    "    Bhads_targets = bhads_targets_clean[:,bhads_target_feature]\n",
    "    mean, std = np.mean(Bhads_targets), np.std(Bhads_targets)\n",
    "    means = np.append(means,mean)\n",
    "    stds = np.append(stds,std)\n",
    "    Standardized_Bhads_targets = (Bhads_targets - mean)/(std)\n",
    "    Standardized_Bhads_targets = Standardized_Bhads_targets.reshape(-1,1)\n",
    "    lister.append(Standardized_Bhads_targets)\n",
    "Standardized_Bhads_targets = np.concatenate(lister,axis = 1)\n",
    "print(Standardized_Bhads_targets.shape)\n",
    "print(means,stds)"
   ]
  },
  {
   "cell_type": "code",
   "execution_count": 30,
   "metadata": {},
   "outputs": [
    {
     "name": "stdout",
     "output_type": "stream",
     "text": [
      "(93323, 1)\n",
      "Counter({0.0: 39953, 1.0: 39639, 2.0: 9054, 4.0: 4677})\n",
      "(93323, 4)\n"
     ]
    }
   ],
   "source": [
    "from sklearn.preprocessing import OneHotEncoder\n",
    "counter = np.array([])\n",
    "bhadron_PGIDs = []\n",
    "for PGID in bhads_PGID:\n",
    "    if (PGID == 521 or PGID == -521):\n",
    "        element = 0\n",
    "    elif (PGID == 511 or PGID == -511):\n",
    "        element = 1\n",
    "    elif (PGID == 531 or PGID == -531):\n",
    "        element = 2\n",
    "    else:\n",
    "        element = 4\n",
    "    counter = np.append(counter, [element])\n",
    "    bhadron_PGIDs.append([str(element)])\n",
    "print(np.shape(bhadron_PGIDs))\n",
    "counter = Counter(counter)\n",
    "print(counter)\n",
    "encoder = OneHotEncoder(sparse = False)\n",
    "onehot = encoder.fit_transform(bhadron_PGIDs)\n",
    "print(np.shape(onehot))"
   ]
  },
  {
   "cell_type": "code",
   "execution_count": 31,
   "metadata": {},
   "outputs": [
    {
     "name": "stdout",
     "output_type": "stream",
     "text": [
      "[18, 16, 16]\n",
      "4\n"
     ]
    },
    {
     "name": "stderr",
     "output_type": "stream",
     "text": [
      "2023-02-19 10:21:09.781426: W tensorflow/compiler/xla/stream_executor/platform/default/dso_loader.cc:64] Could not load dynamic library 'libcuda.so.1'; dlerror: libcuda.so.1: cannot open shared object file: No such file or directory\n",
      "2023-02-19 10:21:09.781458: W tensorflow/compiler/xla/stream_executor/cuda/cuda_driver.cc:265] failed call to cuInit: UNKNOWN ERROR (303)\n",
      "2023-02-19 10:21:09.781481: I tensorflow/compiler/xla/stream_executor/cuda/cuda_diagnostics.cc:156] kernel driver does not appear to be running on this host (vonneumann.csc.warwick.ac.uk): /proc/driver/nvidia/version does not exist\n",
      "2023-02-19 10:21:09.783082: I tensorflow/core/platform/cpu_feature_guard.cc:193] This TensorFlow binary is optimized with oneAPI Deep Neural Network Library (oneDNN) to use the following CPU instructions in performance-critical operations:  AVX2 AVX512F AVX512_VNNI FMA\n",
      "To enable them in other operations, rebuild TensorFlow with the appropriate compiler flags.\n"
     ]
    }
   ],
   "source": [
    "# Builds the deep neural network\n",
    "track_layers = [16 for x in range(2)]\n",
    "jet_layers = [256 for x in range(3)]\n",
    "b_jets_layers = [16 for x in range(2)]\n",
    "\n",
    "track_layers = [np.shape(Tracks_input_scaled)[2]]+track_layers\n",
    "print(track_layers)\n",
    "print(np.shape(onehot)[1])\n",
    "#Initializers the optimizer used for training the network\n",
    "optimizer = tf.keras.optimizers.Nadam(LR)\n",
    "\n",
    "#Build a DeepSets Projection Neural Network\n",
    "DeepSetProjector = DeepSetsProjection(track_layers=track_layers, b_jet_layers= b_jets_layers, jet_layers=jet_layers, n_targets=np.shape(Standardized_Bhads_targets)[1], n_targets_classification= np.shape(onehot)[1], regularizer_strength= 1e-6, n_features=np.shape(b_jets_input_scaled)[1], Dropout_rate=0.1)"
   ]
  },
  {
   "cell_type": "code",
   "execution_count": 32,
   "metadata": {},
   "outputs": [
    {
     "name": "stdout",
     "output_type": "stream",
     "text": [
      "39639\n",
      "39953\n",
      "9054\n",
      "4677\n",
      "[0.58858069 0.5839549  2.57684449 4.98840068]\n"
     ]
    }
   ],
   "source": [
    "weights = np.array([])\n",
    "for class_samples in counter.values():\n",
    "    print(class_samples)\n",
    "    weights = np.append(weights,len(bhads_PGID)/(4*class_samples))\n",
    "print(weights)"
   ]
  },
  {
   "cell_type": "code",
   "execution_count": 33,
   "metadata": {},
   "outputs": [],
   "source": [
    "from DeepSetNeuralNetArchitecture import LogNormal_Loss_Function\n",
    "from HffragDeepSetsProjection import Multivariate_Gaussian_Negative_Likelihood_Loss_Curve\n",
    "from HffragDeepSetsProjectionMultivariate import weighted_categorical_crossentropy\n",
    "DeepSetProjector.compile(\n",
    " optimizer = optimizer,\n",
    " loss = {\"MultivariateLoss\": Multivariate_Gaussian_Negative_Likelihood_Loss_Curve, \"MassOutput\":weighted_categorical_crossentropy(weights)}, \n",
    ")"
   ]
  },
  {
   "cell_type": "code",
   "execution_count": 34,
   "metadata": {},
   "outputs": [
    {
     "name": "stdout",
     "output_type": "stream",
     "text": [
      "Model: \"model\"\n",
      "__________________________________________________________________________________________________\n",
      " Layer (type)                   Output Shape         Param #     Connected to                     \n",
      "==================================================================================================\n",
      " input_3 (InputLayer)           [(None, None, 18)]   0           []                               \n",
      "                                                                                                  \n",
      " dense (Dense)                  (None, None, 18)     342         ['input_3[0][0]']                \n",
      "                                                                                                  \n",
      " time_distributed_residual_unit  (None, None, 18)    720         ['dense[1][0]']                  \n",
      " s (TimeDistributedResidualUnit                                                                   \n",
      " s)                                                                                               \n",
      "                                                                                                  \n",
      " dense_3 (Dense)                (None, None, 16)     304         ['time_distributed_residual_units\n",
      "                                                                 [1][0]']                         \n",
      "                                                                                                  \n",
      " input_4 (InputLayer)           [(None, 71)]         0           []                               \n",
      "                                                                                                  \n",
      " time_distributed_residual_unit  (None, None, 16)    576         ['dense_3[1][0]']                \n",
      " s_1 (TimeDistributedResidualUn                                                                   \n",
      " its)                                                                                             \n",
      "                                                                                                  \n",
      " dense_7 (Dense)                (None, 16)           1152        ['input_4[0][0]']                \n",
      "                                                                                                  \n",
      " time_distributed_4 (TimeDistri  (None, None, 16)    272         ['time_distributed_residual_units\n",
      " buted)                                                          _1[1][0]']                       \n",
      "                                                                                                  \n",
      " layer_normalization_2 (LayerNo  (None, 16)          32          ['dense_7[1][0]']                \n",
      " rmalization)                                                                                     \n",
      "                                                                                                  \n",
      " sum (Sum)                      (None, 16)           0           ['time_distributed_4[1][0]']     \n",
      "                                                                                                  \n",
      " dense_8 (Dense)                (None, 16)           272         ['layer_normalization_2[1][0]']  \n",
      "                                                                                                  \n",
      " concatenate (Concatenate)      (None, 32)           0           ['sum[1][0]',                    \n",
      "                                                                  'dense_8[1][0]']                \n",
      "                                                                                                  \n",
      " dense_9 (Dense)                (None, 256)          8448        ['concatenate[1][0]']            \n",
      "                                                                                                  \n",
      " residual_units (ResidualUnits)  (None, 256)         132096      ['dense_9[1][0]']                \n",
      "                                                                                                  \n",
      " dense_12 (Dense)               (None, 256)          65792       ['residual_units[1][0]']         \n",
      "                                                                                                  \n",
      " residual_units_1 (ResidualUnit  (None, 256)         132096      ['dense_12[1][0]']               \n",
      " s)                                                                                               \n",
      "                                                                                                  \n",
      " HuberLoss (Dense)              (None, 16)           4112        ['residual_units_1[1][0]']       \n",
      "                                                                                                  \n",
      " dense_17 (Dense)               (None, 256)          4352        ['HuberLoss[1][0]']              \n",
      "                                                                                                  \n",
      " dense_15 (Dense)               (None, 16)           4112        ['residual_units_1[1][0]']       \n",
      "                                                                                                  \n",
      " dense_16 (Dense)               (None, 120)          30840       ['residual_units_1[1][0]']       \n",
      "                                                                                                  \n",
      " dense_18 (Dense)               (None, 256)          65792       ['dense_17[1][0]']               \n",
      "                                                                                                  \n",
      " MultivariateLoss (Concatenate)  (None, 152)         0           ['HuberLoss[1][0]',              \n",
      "                                                                  'dense_15[1][0]',               \n",
      "                                                                  'dense_16[1][0]']               \n",
      "                                                                                                  \n",
      " MassOutput (Dense)             (None, 4)            1028        ['dense_18[1][0]']               \n",
      "                                                                                                  \n",
      "==================================================================================================\n",
      "Total params: 452,338\n",
      "Trainable params: 452,338\n",
      "Non-trainable params: 0\n",
      "__________________________________________________________________________________________________\n"
     ]
    }
   ],
   "source": [
    "DeepSetProjector.summary()"
   ]
  },
  {
   "cell_type": "code",
   "execution_count": 40,
   "metadata": {},
   "outputs": [
    {
     "name": "stdout",
     "output_type": "stream",
     "text": [
      "WARNING:tensorflow:Inconsistent references when loading the checkpoint into this object graph. For example, in the saved checkpoint object, `model.layer.weight` and `model.layer_copy.weight` reference the same variable, while in the current object these are two different variables. The referenced variables are:(<HffragDeepSetsProjectionMultivariate.TimeDistributedResidualUnits object at 0x7fb63ea1c9d0> and <keras.engine.input_layer.InputLayer object at 0x7fb63ab13e20>).\n",
      "WARNING:tensorflow:Inconsistent references when loading the checkpoint into this object graph. For example, in the saved checkpoint object, `model.layer.weight` and `model.layer_copy.weight` reference the same variable, while in the current object these are two different variables. The referenced variables are:(<keras.layers.core.dense.Dense object at 0x7fb63b428f70> and <Sum.Sum object at 0x7fb63b428a00>).\n",
      "WARNING:tensorflow:Inconsistent references when loading the checkpoint into this object graph. For example, in the saved checkpoint object, `model.layer.weight` and `model.layer_copy.weight` reference the same variable, while in the current object these are two different variables. The referenced variables are:(<keras.layers.core.dense.Dense object at 0x7fb63b446f40> and <keras.layers.merging.concatenate.Concatenate object at 0x7fb63b442280>).\n",
      "WARNING:tensorflow:Inconsistent references when loading the checkpoint into this object graph. For example, in the saved checkpoint object, `model.layer.weight` and `model.layer_copy.weight` reference the same variable, while in the current object these are two different variables. The referenced variables are:(<HffragDeepSetsProjectionMultivariate.ResidualUnits object at 0x7fb63b446550> and <keras.layers.core.dense.Dense object at 0x7fb63b446f40>).\n",
      "WARNING:tensorflow:Inconsistent references when loading the checkpoint into this object graph. For example, in the saved checkpoint object, `model.layer.weight` and `model.layer_copy.weight` reference the same variable, while in the current object these are two different variables. The referenced variables are:(<keras.layers.core.dense.Dense object at 0x7fb63ab43250> and <HffragDeepSetsProjectionMultivariate.ResidualUnits object at 0x7fb63b446550>).\n",
      "WARNING:tensorflow:Inconsistent references when loading the checkpoint into this object graph. For example, in the saved checkpoint object, `model.layer.weight` and `model.layer_copy.weight` reference the same variable, while in the current object these are two different variables. The referenced variables are:(<keras.layers.core.dense.Dense object at 0x7fb63b446760> and <keras.layers.core.dense.Dense object at 0x7fb63ab4e7f0>).\n",
      "WARNING:tensorflow:Inconsistent references when loading the checkpoint into this object graph. For example, in the saved checkpoint object, `model.layer.weight` and `model.layer_copy.weight` reference the same variable, while in the current object these are two different variables. The referenced variables are:(<keras.layers.core.dense.Dense object at 0x7fb63ab4e7f0> and <keras.layers.core.dense.Dense object at 0x7fb63ab6a160>).\n",
      "WARNING:tensorflow:Inconsistent references when loading the checkpoint into this object graph. For example, in the saved checkpoint object, `model.layer.weight` and `model.layer_copy.weight` reference the same variable, while in the current object these are two different variables. The referenced variables are:(<keras.layers.core.dense.Dense object at 0x7fb63ab6a160> and <keras.layers.core.dense.Dense object at 0x7fb63ab4ed00>).\n",
      "WARNING:tensorflow:Inconsistent references when loading the checkpoint into this object graph. For example, in the saved checkpoint object, `model.layer.weight` and `model.layer_copy.weight` reference the same variable, while in the current object these are two different variables. The referenced variables are:(<keras.layers.core.dense.Dense object at 0x7fb63ab4ed00> and <keras.layers.core.dense.Dense object at 0x7fb63ab4ea90>).\n",
      "WARNING:tensorflow:Inconsistent references when loading the checkpoint into this object graph. For example, in the saved checkpoint object, `model.layer.weight` and `model.layer_copy.weight` reference the same variable, while in the current object these are two different variables. The referenced variables are:(<keras.layers.core.dense.Dense object at 0x7fb63ab4ea90> and <keras.layers.merging.concatenate.Concatenate object at 0x7fb63ab4fc40>).\n"
     ]
    },
    {
     "ename": "ValueError",
     "evalue": "Received incompatible tensor with shape (256,) when attempting to restore variable with shape (16,) and name layer_with_weights-12/bias/.ATTRIBUTES/VARIABLE_VALUE.",
     "output_type": "error",
     "traceback": [
      "\u001b[0;31m---------------------------------------------------------------------------\u001b[0m",
      "\u001b[0;31mValueError\u001b[0m                                Traceback (most recent call last)",
      "\u001b[0;32m/tmp/ipykernel_15126/244199992.py\u001b[0m in \u001b[0;36m<module>\u001b[0;34m\u001b[0m\n\u001b[0;32m----> 1\u001b[0;31m \u001b[0mDeepSetProjector\u001b[0m\u001b[0;34m.\u001b[0m\u001b[0mload_weights\u001b[0m\u001b[0;34m(\u001b[0m\u001b[0mlatest_DeepNet\u001b[0m\u001b[0;34m)\u001b[0m\u001b[0;34m\u001b[0m\u001b[0;34m\u001b[0m\u001b[0m\n\u001b[0m",
      "\u001b[0;32m~/anaconda3/envs/SpocFit/lib/python3.9/site-packages/keras/utils/traceback_utils.py\u001b[0m in \u001b[0;36merror_handler\u001b[0;34m(*args, **kwargs)\u001b[0m\n\u001b[1;32m     68\u001b[0m             \u001b[0;31m# To get the full stack trace, call:\u001b[0m\u001b[0;34m\u001b[0m\u001b[0;34m\u001b[0m\u001b[0m\n\u001b[1;32m     69\u001b[0m             \u001b[0;31m# `tf.debugging.disable_traceback_filtering()`\u001b[0m\u001b[0;34m\u001b[0m\u001b[0;34m\u001b[0m\u001b[0m\n\u001b[0;32m---> 70\u001b[0;31m             \u001b[0;32mraise\u001b[0m \u001b[0me\u001b[0m\u001b[0;34m.\u001b[0m\u001b[0mwith_traceback\u001b[0m\u001b[0;34m(\u001b[0m\u001b[0mfiltered_tb\u001b[0m\u001b[0;34m)\u001b[0m \u001b[0;32mfrom\u001b[0m \u001b[0;32mNone\u001b[0m\u001b[0;34m\u001b[0m\u001b[0;34m\u001b[0m\u001b[0m\n\u001b[0m\u001b[1;32m     71\u001b[0m         \u001b[0;32mfinally\u001b[0m\u001b[0;34m:\u001b[0m\u001b[0;34m\u001b[0m\u001b[0;34m\u001b[0m\u001b[0m\n\u001b[1;32m     72\u001b[0m             \u001b[0;32mdel\u001b[0m \u001b[0mfiltered_tb\u001b[0m\u001b[0;34m\u001b[0m\u001b[0;34m\u001b[0m\u001b[0m\n",
      "\u001b[0;32m~/anaconda3/envs/SpocFit/lib/python3.9/site-packages/tensorflow/python/training/saving/saveable_object_util.py\u001b[0m in \u001b[0;36mrestore\u001b[0;34m(self, restored_tensors, restored_shapes)\u001b[0m\n\u001b[1;32m    137\u001b[0m             self.handle_op, self._var_shape, restored_tensor)\n\u001b[1;32m    138\u001b[0m       \u001b[0;32mexcept\u001b[0m \u001b[0mValueError\u001b[0m \u001b[0;32mas\u001b[0m \u001b[0me\u001b[0m\u001b[0;34m:\u001b[0m\u001b[0;34m\u001b[0m\u001b[0;34m\u001b[0m\u001b[0m\n\u001b[0;32m--> 139\u001b[0;31m         raise ValueError(\n\u001b[0m\u001b[1;32m    140\u001b[0m             \u001b[0;34mf\"Received incompatible tensor with shape {restored_tensor.shape} \"\u001b[0m\u001b[0;34m\u001b[0m\u001b[0;34m\u001b[0m\u001b[0m\n\u001b[1;32m    141\u001b[0m             \u001b[0;34mf\"when attempting to restore variable with shape {self._var_shape} \"\u001b[0m\u001b[0;34m\u001b[0m\u001b[0;34m\u001b[0m\u001b[0m\n",
      "\u001b[0;31mValueError\u001b[0m: Received incompatible tensor with shape (256,) when attempting to restore variable with shape (16,) and name layer_with_weights-12/bias/.ATTRIBUTES/VARIABLE_VALUE."
     ]
    }
   ],
   "source": [
    "DeepSetProjector.load_weights(latest_DeepNet)"
   ]
  },
  {
   "cell_type": "code",
   "execution_count": null,
   "metadata": {},
   "outputs": [],
   "source": [
    "DeepSetProjector.summary()"
   ]
  },
  {
   "cell_type": "code",
   "execution_count": null,
   "metadata": {},
   "outputs": [],
   "source": [
    "#Evaluate the entire performance of the model\n",
    "loss = DeepSetProjector.evaluate((Tracks_input_scaled,b_jets_input_scaled),(bhads_targets_clean, onehot),verbose = 2)\n",
    "print(\"The Loaded DeepNet has loss: \", loss)"
   ]
  },
  {
   "cell_type": "code",
   "execution_count": null,
   "metadata": {},
   "outputs": [],
   "source": [
    "history_df = pd.read_csv('/home/physics/phujdj/DeepLearningParticlePhysics/history.csv')\n",
    "history_df.loc[:, [\"loss\", \"val_loss\"]].plot()"
   ]
  },
  {
   "cell_type": "code",
   "execution_count": null,
   "metadata": {},
   "outputs": [],
   "source": [
    "Predictions = np.stack([DeepSetProjector((Tracks_input_scaled, b_jets_input_scaled))[0] for sample in range(100)])\n",
    "Predictions = Predictions.mean(axis = 0)"
   ]
  },
  {
   "cell_type": "code",
   "execution_count": null,
   "metadata": {},
   "outputs": [],
   "source": [
    "Predictions_mass = np.stack([np.stack([DeepSetProjector((Tracks_input_scaled, b_jets_input_scaled))[1] for sample in range(100)])])\n",
    "Predictions_mass = Predictions_mass.mean(axis = 0)\n",
    "Predictions_mass.shape"
   ]
  },
  {
   "cell_type": "code",
   "execution_count": null,
   "metadata": {},
   "outputs": [],
   "source": [
    "Predictions_mass = Predictions_mass.mean(axis = 0)"
   ]
  },
  {
   "cell_type": "code",
   "execution_count": null,
   "metadata": {},
   "outputs": [],
   "source": [
    "Predictions_X = Predictions[:,:np.shape(Standardized_Bhads_targets)[1]]\n",
    "Predictions_Variance = Predictions[:,np.shape(Standardized_Bhads_targets)[1]:2*np.shape(Standardized_Bhads_targets)[1]]\n",
    "Predictions_Covariance = Predictions[:, :2*np.shape(Standardized_Bhads_targets)[1]]"
   ]
  },
  {
   "cell_type": "code",
   "execution_count": null,
   "metadata": {},
   "outputs": [],
   "source": [
    "Covariance_Matrix = Predictions[:,np.shape(Standardized_Bhads_targets)[1]:]\n",
    "Covariance_Matrix[:,:9].shape"
   ]
  },
  {
   "cell_type": "code",
   "execution_count": null,
   "metadata": {},
   "outputs": [],
   "source": [
    "Error_px = (bhads_targets_clean[:,0] - Predictions_X[:,0])*1e6\n",
    "Pull_bhads_px = Error_px/np.std(bhads_targets_clean[:,0]*1e6)\n",
    "Pull_px = Error_px/(Predictions_Variance[:,0]*1e6)"
   ]
  },
  {
   "cell_type": "code",
   "execution_count": null,
   "metadata": {},
   "outputs": [],
   "source": [
    "Error_py = (bhads_targets_clean[:,1] - Predictions_X[:,1])*1e6\n",
    "Pull_bhads_py= Error_py/np.std(bhads_targets_clean[:,1]*1e6)\n",
    "Pull_py = Error_py/(Predictions_Variance[:,1]*1e6)"
   ]
  },
  {
   "cell_type": "code",
   "execution_count": null,
   "metadata": {},
   "outputs": [],
   "source": [
    "Error_pz = (bhads_targets_clean[:,2] - Predictions_X[:,2])*1e6\n",
    "Pull_bhads_pz = Error_pz/np.std(bhads_targets_clean[:,2]*1e6)\n",
    "Pull_pz = Error_pz/(Predictions[:,2]*1e6)"
   ]
  },
  {
   "cell_type": "code",
   "execution_count": null,
   "metadata": {},
   "outputs": [],
   "source": [
    "Error_pt = (bhads_targets_clean[:,3] - Predictions_X[:,3])*1e6\n",
    "Pull_bhads_pt = Error_pt/np.std(bhads_targets_clean[:,3]*1e6)\n",
    "Pull_pt = Error_pt/(Predictions_Variance[:,3]*1e6)"
   ]
  },
  {
   "cell_type": "code",
   "execution_count": null,
   "metadata": {},
   "outputs": [],
   "source": [
    "Error_eta = bhads_targets_clean[:,4] - Predictions_X[:,4]\n",
    "Pull_bhads_eta_unscaled = Error_eta/np.std(bhads_targets_clean[:,4])\n",
    "Pull_eta = Error_eta/Predictions_Variance[:,4]"
   ]
  },
  {
   "cell_type": "code",
   "execution_count": null,
   "metadata": {},
   "outputs": [],
   "source": [
    "Error_phi = bhads_targets_clean[:,5] - Predictions_X[:,5]\n",
    "Pull_bhads_pt = Error_pt/np.std(bhads_targets_clean[:,5])\n",
    "Pull_phi = Error_phi/Predictions_Variance[:,5]"
   ]
  },
  {
   "cell_type": "code",
   "execution_count": null,
   "metadata": {},
   "outputs": [],
   "source": [
    "Error_pxfraction = bhads_targets_clean[:,6] - Predictions_X[:,6]\n",
    "Pull_pxfraction_bhads = Error_pxfraction/np.std(bhads_targets_clean[:,6])\n",
    "Pull_pxfraction = Error_pxfraction/Predictions_Variance[:,6]"
   ]
  },
  {
   "cell_type": "code",
   "execution_count": null,
   "metadata": {},
   "outputs": [],
   "source": [
    "Error_pyfraction = bhads_targets_clean[:,7] - Predictions_X[:,7]\n",
    "Pull_pyfraction_bhads = Error_pyfraction/np.std(bhads_targets_clean[:,7])\n",
    "Pull_pyfraction = Error_pyfraction/Predictions_Variance[:,7]"
   ]
  },
  {
   "cell_type": "code",
   "execution_count": null,
   "metadata": {},
   "outputs": [],
   "source": [
    "Error_pzfraction = bhads_targets_clean[:,8] - Predictions_X[:,8]\n",
    "Pull_pzfraction_bhads = Error_pzfraction/np.std(bhads_targets_clean[:,8])\n",
    "Pull_pzfraction = Error_pzfraction/Predictions_Variance[:,8]"
   ]
  },
  {
   "cell_type": "code",
   "execution_count": null,
   "metadata": {},
   "outputs": [],
   "source": [
    "Error_energy = (bhads_targets_clean[:,9] - Predictions_X[:,9])*1e6\n",
    "Pull_energy = Error_energy/np.std(bhads_targets_clean[:,9]*1e6)\n",
    "Pull_energy = Error_energy/(Predictions_Variance[:,9]*1e6)"
   ]
  },
  {
   "cell_type": "code",
   "execution_count": null,
   "metadata": {},
   "outputs": [],
   "source": [
    "Error_projection = bhads_targets_clean[:,12] - Predictions_X[:,12]\n",
    "Pull_bhads_projection = Error_projection/np.std(bhads_targets_clean[:,12])\n",
    "Pull_projection = Error_projection/Predictions_Variance[:,12]"
   ]
  },
  {
   "cell_type": "code",
   "execution_count": null,
   "metadata": {},
   "outputs": [],
   "source": [
    "Error_mass = (bhads_targets_clean[:,13] - Predictions_X[:, 13])*1e3\n",
    "Pull_mass_bhads = Error_mass/np.std(bhads_targets_clean[:,13]*1e3)\n",
    "Pull_mass = Error_mass/(Predictions_Variance[:,13]*1e3)"
   ]
  },
  {
   "cell_type": "code",
   "execution_count": null,
   "metadata": {},
   "outputs": [],
   "source": [
    "Error_Secondary_Displacement = (bhads_targets_clean[:,14] - Predictions_X[:, 14])*1e4\n",
    "Pull_Secondary_Displacement_bhads = Error_Secondary_Displacement/np.std(bhads_targets_clean[:,14])\n",
    "Pull_Secondary_Displacement = Error_Secondary_Displacement/(Predictions_Variance[:,14]*1e4)"
   ]
  },
  {
   "cell_type": "code",
   "execution_count": null,
   "metadata": {},
   "outputs": [],
   "source": [
    "print(np.mean(Error_px))\n",
    "print(np.std(Error_px))\n",
    "binneddensity(Error_px, fixedbinning(-600000,600000,100),xlabel = \"Error_px\")"
   ]
  },
  {
   "cell_type": "code",
   "execution_count": null,
   "metadata": {},
   "outputs": [],
   "source": [
    "print(np.mean(Pull_px))\n",
    "print(np.std(Pull_px))\n",
    "binneddensity(Pull_px, fixedbinning(-8,8,100),xlabel = \"Pull_Px\")"
   ]
  },
  {
   "cell_type": "code",
   "execution_count": null,
   "metadata": {},
   "outputs": [],
   "source": [
    "print(np.mean(Error_py))\n",
    "print(np.std(Error_py))\n",
    "binneddensity(Error_py, fixedbinning(-1000000,800000,100),xlabel = \"Error_py_unscaled\")"
   ]
  },
  {
   "cell_type": "code",
   "execution_count": null,
   "metadata": {},
   "outputs": [],
   "source": [
    "print(np.mean(Pull_py))\n",
    "print(np.std(Pull_py))\n",
    "binneddensity(Pull_py, fixedbinning(-8,8,100),xlabel = \"Pull_Py\")"
   ]
  },
  {
   "cell_type": "code",
   "execution_count": null,
   "metadata": {},
   "outputs": [],
   "source": [
    "print(np.mean(Error_pz))\n",
    "print(np.std(Error_pz))\n",
    "binneddensity(Error_pz, fixedbinning(-3000000,3000000,100),xlabel = \"Error_pz_unscaled\")"
   ]
  },
  {
   "cell_type": "code",
   "execution_count": null,
   "metadata": {},
   "outputs": [],
   "source": [
    "print(np.mean(Pull_pz))\n",
    "print(np.std(Pull_pz))\n",
    "binneddensity(Pull_pz, fixedbinning(-10,10,100),xlabel = \"Pull_Pz\")"
   ]
  },
  {
   "cell_type": "code",
   "execution_count": null,
   "metadata": {},
   "outputs": [],
   "source": [
    "print(np.mean(Error_projection))\n",
    "print(np.std(Error_projection))\n",
    "binneddensity(Error_projection, fixedbinning(-10,10,100),xlabel = \"Error_projection\")"
   ]
  },
  {
   "cell_type": "code",
   "execution_count": null,
   "metadata": {},
   "outputs": [],
   "source": [
    "print(np.mean(Pull_projection))\n",
    "print(np.std(Pull_projection))\n",
    "binneddensity(Pull_projection, fixedbinning(-10,10,100),xlabel = \"Pull_projection\")"
   ]
  },
  {
   "cell_type": "code",
   "execution_count": null,
   "metadata": {},
   "outputs": [],
   "source": [
    "print(np.mean(Error_pxfraction))\n",
    "print(np.std(Error_pxfraction))\n",
    "binneddensity(Error_pxfraction, fixedbinning(-10,10,100),xlabel = \"Error_px_fraction\")"
   ]
  },
  {
   "cell_type": "code",
   "execution_count": null,
   "metadata": {},
   "outputs": [],
   "source": [
    "print(np.mean(Pull_pxfraction))\n",
    "print(np.std(Pull_pxfraction))\n",
    "binneddensity(Pull_pxfraction, fixedbinning(-10,10,100),xlabel = \"Pull_px_fraction\")"
   ]
  },
  {
   "cell_type": "code",
   "execution_count": null,
   "metadata": {},
   "outputs": [],
   "source": [
    "print(np.mean(Error_pyfraction))\n",
    "print(np.std(Error_pyfraction))\n",
    "binneddensity(Error_pyfraction, fixedbinning(-10,10,100),xlabel = \"Error_py_fraction\")"
   ]
  },
  {
   "cell_type": "code",
   "execution_count": null,
   "metadata": {},
   "outputs": [],
   "source": [
    "print(np.mean(Pull_pyfraction))\n",
    "print(np.std(Pull_pyfraction))\n",
    "binneddensity(Pull_pyfraction, fixedbinning(-10,10,100),xlabel = \"Error_py_fraction\")"
   ]
  },
  {
   "cell_type": "code",
   "execution_count": null,
   "metadata": {},
   "outputs": [],
   "source": [
    "print(np.mean(Error_pzfraction))\n",
    "print(np.std(Error_pzfraction))\n",
    "binneddensity(Error_pzfraction, fixedbinning(-10,10,100),xlabel = \"Error_pz_fraction\")"
   ]
  },
  {
   "cell_type": "code",
   "execution_count": null,
   "metadata": {},
   "outputs": [],
   "source": [
    "print(np.mean(Pull_pzfraction))\n",
    "print(np.std(Pull_pzfraction))\n",
    "binneddensity(Pull_pzfraction, fixedbinning(-1,1,100),xlabel = \"Pull_pz_fraction\")"
   ]
  },
  {
   "cell_type": "code",
   "execution_count": null,
   "metadata": {},
   "outputs": [],
   "source": [
    "print(np.mean(Error_energy))\n",
    "print(np.std(Error_energy))\n",
    "binneddensity(Error_energy, fixedbinning(-1000000,5000000,100),xlabel = \"Error_energy\")"
   ]
  },
  {
   "cell_type": "code",
   "execution_count": null,
   "metadata": {},
   "outputs": [],
   "source": [
    "print(np.mean(Pull_energy))\n",
    "print(np.std(Pull_energy))\n",
    "binneddensity(Pull_energy, fixedbinning(-5,5,100),xlabel = \"Pull_energy_fraction\")"
   ]
  },
  {
   "cell_type": "code",
   "execution_count": null,
   "metadata": {},
   "outputs": [],
   "source": [
    "print(np.mean(Error_mass))\n",
    "print(np.std(Error_mass))\n",
    "binneddensity(Error_mass, fixedbinning(-1000,10000,100),xlabel = \"Mass Error\")"
   ]
  },
  {
   "cell_type": "code",
   "execution_count": null,
   "metadata": {},
   "outputs": [],
   "source": [
    "print(np.mean(Error_pt))\n",
    "print(np.std(Error_pt))\n",
    "binneddensity(Error_pt, fixedbinning(-40000,0,100),xlabel = \"Error_pt\")"
   ]
  },
  {
   "cell_type": "code",
   "execution_count": null,
   "metadata": {},
   "outputs": [],
   "source": [
    "print(np.mean(Pull_pt))\n",
    "print(np.std(Pull_pt))\n",
    "binneddensity(Pull_pt, fixedbinning(-2,2,100),xlabel = \"Error_pt\")"
   ]
  },
  {
   "cell_type": "code",
   "execution_count": null,
   "metadata": {},
   "outputs": [],
   "source": [
    "print(np.mean(Error_eta))\n",
    "print(np.std(Error_eta))\n",
    "binneddensity(Error_eta, fixedbinning(-5,5,100),xlabel = \"Error_eta\")"
   ]
  },
  {
   "cell_type": "code",
   "execution_count": null,
   "metadata": {},
   "outputs": [],
   "source": [
    "print(np.mean(Pull_eta))\n",
    "print(np.std(Pull_eta))\n",
    "binneddensity(Pull_eta, fixedbinning(-20,20,100),xlabel = \"Pull_eta\")"
   ]
  },
  {
   "cell_type": "code",
   "execution_count": null,
   "metadata": {},
   "outputs": [],
   "source": [
    "print(np.mean(Error_phi))\n",
    "print(np.std(Error_phi))\n",
    "binneddensity(Error_phi, fixedbinning(-10,10,100),xlabel = \"Error_phi\")"
   ]
  },
  {
   "cell_type": "code",
   "execution_count": null,
   "metadata": {},
   "outputs": [],
   "source": [
    "print(np.mean(Pull_phi))\n",
    "print(np.std(Pull_phi))\n",
    "binneddensity(Pull_phi, fixedbinning(-10,10,100),xlabel = \"Pull_phi\")"
   ]
  },
  {
   "cell_type": "code",
   "execution_count": null,
   "metadata": {},
   "outputs": [],
   "source": [
    "import matplotlib as mpl\n",
    "import seaborn as sns\n",
    "import matplotlib.pyplot as plt\n",
    "from scipy.stats import gaussian_kde\n",
    "fig, ax = plt.subplots(figsize = (12,12))\n",
    "x = bhads_targets_clean[:,0]*1e6\n",
    "y = Predictions_X[:,0]*1e6\n",
    "grid = np.vstack([x, y])\n",
    "z = gaussian_kde(grid)(grid)\n",
    "idx = z.argsort()\n",
    "x,y,z = x[idx], y[idx], z[idx]\n",
    "\n",
    "im = sns.scatterplot(\n",
    "    x,\n",
    "    y,\n",
    "    c = z,\n",
    "    s = 5,\n",
    "    cmap = \"autumn\",\n",
    "    )\n",
    "norm = plt.Normalize(z.min(), z.max())\n",
    "sm = plt.cm.ScalarMappable(cmap = \"autumn\", norm = norm)\n",
    "sm.set_array([])\n",
    "im.figure.colorbar(sm)\n",
    "ax.set_title(\"Scatterplot of the true vs pred X momenta\")\n",
    "ax.set_xlabel(\"The true X momenta of the tracks from each event\")\n",
    "ax.set_ylabel(\"The predicted X momenta of b hadron jets\")"
   ]
  },
  {
   "cell_type": "code",
   "execution_count": null,
   "metadata": {},
   "outputs": [],
   "source": [
    "import matplotlib as mpl\n",
    "from scipy.stats import gaussian_kde\n",
    "fig, ax = plt.subplots(figsize = (12,12))\n",
    "x = bhads_targets_clean[:,1]*1e6\n",
    "y = Predictions_X[:,1]*1e6\n",
    "grid = np.vstack([x, y])\n",
    "z = gaussian_kde(grid)(grid)\n",
    "idx = z.argsort()\n",
    "x,y,z = x[idx], y[idx], z[idx]\n",
    "\n",
    "im = sns.scatterplot(\n",
    "    x,\n",
    "    y,\n",
    "    c = z,\n",
    "    s = 5,\n",
    "    cmap = \"inferno\",\n",
    "    )\n",
    "norm = plt.Normalize(z.min(), z.max())\n",
    "sm = plt.cm.ScalarMappable(cmap = \"inferno\", norm = norm)\n",
    "sm.set_array([])\n",
    "im.figure.colorbar(sm)\n",
    "ax.set_title(\"Scatterplot of the true vs pred Y momenta\")\n",
    "ax.set_xlabel(\"The true Y momenta of the b-hadrons from each event\")\n",
    "ax.set_ylabel(\"The predicted Y momenta of b hadron jets\")"
   ]
  },
  {
   "cell_type": "code",
   "execution_count": null,
   "metadata": {},
   "outputs": [],
   "source": [
    "import matplotlib as mpl\n",
    "from scipy.stats import gaussian_kde\n",
    "fig, ax = plt.subplots(figsize = (12,12))\n",
    "x = bhads_targets_clean[:,2]*1e6\n",
    "y = Predictions_X[:,2]*1e6\n",
    "grid = np.vstack([x, y])\n",
    "z = gaussian_kde(grid)(grid)\n",
    "idx = z.argsort()\n",
    "x,y,z = x[idx], y[idx], z[idx]\n",
    "\n",
    "im = sns.scatterplot(\n",
    "    x,\n",
    "    y,\n",
    "    c = z,\n",
    "    s = 5,\n",
    "    cmap = \"winter\",\n",
    "    )\n",
    "norm = plt.Normalize(z.min(), z.max())\n",
    "sm = plt.cm.ScalarMappable(cmap = \"winter\", norm = norm)\n",
    "sm.set_array([])\n",
    "im.figure.colorbar(sm)\n",
    "ax.set_title(\"Scatterplot of the true vs pred Z momenta\")\n",
    "ax.set_xlabel(\"The true Z momenta of the b-hadrons from each event\")\n",
    "ax.set_ylabel(\"The predicted Z momenta of b hadron jets\")"
   ]
  },
  {
   "cell_type": "code",
   "execution_count": null,
   "metadata": {},
   "outputs": [],
   "source": [
    "import matplotlib as mpl\n",
    "from scipy.stats import gaussian_kde\n",
    "fig, ax = plt.subplots(figsize = (12,12))\n",
    "x = bhads_targets_clean[:,3]\n",
    "y = Predictions_X[:,3]\n",
    "grid = np.vstack([x, y])\n",
    "z = gaussian_kde(grid)(grid)\n",
    "idx = z.argsort()\n",
    "x,y,z = x[idx], y[idx], z[idx]\n",
    "\n",
    "im = sns.scatterplot(\n",
    "    x,\n",
    "    y,\n",
    "    c = z,\n",
    "    s = 5,\n",
    "    cmap = \"spring\",\n",
    "    )\n",
    "norm = plt.Normalize(z.min(), z.max())\n",
    "sm = plt.cm.ScalarMappable(cmap = \"spring\", norm = norm)\n",
    "sm.set_array([])\n",
    "im.figure.colorbar(sm)\n",
    "ax.set_title(\"Scatterplot of the true vs pred transverse momenta\")\n",
    "ax.set_xlabel(\"The true tranvserse momenta of the b-hadrons from each event\")\n",
    "ax.set_ylabel(\"The predicted transverse momenta of b hadron jets\")"
   ]
  },
  {
   "cell_type": "code",
   "execution_count": null,
   "metadata": {},
   "outputs": [],
   "source": [
    "import matplotlib as mpl\n",
    "from scipy.stats import gaussian_kde\n",
    "fig, ax = plt.subplots(figsize = (12,12))\n",
    "x = bhads_targets_clean[:,4]\n",
    "y = Predictions_X[:,4]\n",
    "grid = np.vstack([x, y])\n",
    "z = gaussian_kde(grid)(grid)\n",
    "idx = z.argsort()\n",
    "x,y,z = x[idx], y[idx], z[idx]\n",
    "\n",
    "im = sns.scatterplot(\n",
    "    x,\n",
    "    y,\n",
    "    c = z,\n",
    "    s = 5,\n",
    "    cmap = \"gist_heat\",\n",
    "    )\n",
    "norm = plt.Normalize(z.min(), z.max())\n",
    "sm = plt.cm.ScalarMappable(cmap = \"gist_heat\", norm = norm)\n",
    "sm.set_array([])\n",
    "im.figure.colorbar(sm)\n",
    "ax.set_title(\"Scatterplot of the true vs pred pseudorapidity\")\n",
    "ax.set_xlabel(\"The true pseudorapidity of the b-hadrons from each event\")\n",
    "ax.set_ylabel(\"The predicted pseudorapidity of b hadron jets\")"
   ]
  },
  {
   "cell_type": "code",
   "execution_count": null,
   "metadata": {},
   "outputs": [],
   "source": [
    "import matplotlib as mpl\n",
    "from scipy.stats import gaussian_kde\n",
    "fig, ax = plt.subplots(figsize = (12,12))\n",
    "x = bhads_targets_clean[:,5]\n",
    "y = Predictions_X[:,5]\n",
    "grid = np.vstack([x, y])\n",
    "z = gaussian_kde(grid)(grid)\n",
    "idx = z.argsort()\n",
    "x,y,z = x[idx], y[idx], z[idx]\n",
    "\n",
    "im = sns.scatterplot(\n",
    "    x,\n",
    "    y,\n",
    "    c = z,\n",
    "    s = 5,\n",
    "    cmap = \"summer\",\n",
    "    )\n",
    "norm = plt.Normalize(z.min(), z.max())\n",
    "sm = plt.cm.ScalarMappable(cmap = \"summer\", norm = norm)\n",
    "sm.set_array([])\n",
    "im.figure.colorbar(sm)\n",
    "ax.set_title(\"Scatterplot of the true vs pred phi\")\n",
    "ax.set_xlabel(\"The true phi of the b-hadrons from each event\")\n",
    "ax.set_ylabel(\"The predicted phi of b hadron jets\")"
   ]
  },
  {
   "cell_type": "code",
   "execution_count": null,
   "metadata": {},
   "outputs": [],
   "source": [
    "import matplotlib as mpl\n",
    "from scipy.stats import gaussian_kde\n",
    "fig, ax = plt.subplots(figsize = (12,12))\n",
    "x = bhads_targets_clean[:,6]\n",
    "y = Predictions_X[:,6]\n",
    "grid = np.vstack([x, y])\n",
    "z = gaussian_kde(grid)(grid)\n",
    "idx = z.argsort()\n",
    "x,y,z = x[idx], y[idx], z[idx]\n",
    "\n",
    "im = sns.scatterplot(\n",
    "    x,\n",
    "    y,\n",
    "    c = z,\n",
    "    s = 5,\n",
    "    cmap = \"spring\",\n",
    "    )\n",
    "norm = plt.Normalize(z.min(), z.max())\n",
    "sm = plt.cm.ScalarMappable(cmap = \"spring\", norm = norm)\n",
    "sm.set_array([])\n",
    "im.figure.colorbar(sm)\n",
    "ax.set_title(\"Scatterplot of the true vs pred X momenta fraction\")\n",
    "ax.set_xlabel(\"The true X momenta fraction of the b-hadrons from each event\")\n",
    "ax.set_ylabel(\"The predicted X fraction of b hadron jets\")"
   ]
  },
  {
   "cell_type": "code",
   "execution_count": null,
   "metadata": {},
   "outputs": [],
   "source": [
    "import matplotlib as mpl\n",
    "from scipy.stats import gaussian_kde\n",
    "fig, ax = plt.subplots(figsize = (12,12))\n",
    "x = bhads_targets_clean[:,7]\n",
    "y = Predictions_X[:,7]\n",
    "grid = np.vstack([x, y])\n",
    "z = gaussian_kde(grid)(grid)\n",
    "idx = z.argsort()\n",
    "x,y,z = x[idx], y[idx], z[idx]\n",
    "\n",
    "im = sns.scatterplot(\n",
    "    x,\n",
    "    y,\n",
    "    c = z,\n",
    "    s = 5,\n",
    "    cmap = \"gist_heat\",\n",
    "    )\n",
    "norm = plt.Normalize(z.min(), z.max())\n",
    "sm = plt.cm.ScalarMappable(cmap = \"gist_heat\", norm = norm)\n",
    "sm.set_array([])\n",
    "im.figure.colorbar(sm)\n",
    "ax.set_title(\"Scatterplot of the true vs pred Y momenta fraction\")\n",
    "ax.set_xlabel(\"The true Y momenta fraction of the b-hadrons from each event\")\n",
    "ax.set_ylabel(\"The predicted Y fraction of b hadron jets\")"
   ]
  },
  {
   "cell_type": "code",
   "execution_count": null,
   "metadata": {},
   "outputs": [],
   "source": [
    "import matplotlib as mpl\n",
    "from scipy.stats import gaussian_kde\n",
    "fig, ax = plt.subplots(figsize = (12,12))\n",
    "x = bhads_targets_clean[:,8]\n",
    "y = Predictions_X[:,8]\n",
    "grid = np.vstack([x, y])\n",
    "z = gaussian_kde(grid)(grid)\n",
    "idx = z.argsort()\n",
    "x,y,z = x[idx], y[idx], z[idx]\n",
    "\n",
    "im = sns.scatterplot(\n",
    "    x,\n",
    "    y,\n",
    "    c = z,\n",
    "    s = 5,\n",
    "    cmap = \"summer\",\n",
    "    )\n",
    "norm = plt.Normalize(z.min(), z.max())\n",
    "sm = plt.cm.ScalarMappable(cmap = \"summer\", norm = norm)\n",
    "sm.set_array([])\n",
    "im.figure.colorbar(sm)\n",
    "ax.set_title(\"Scatterplot of the true vs pred Z momenta fraction\")\n",
    "ax.set_xlabel(\"The true Z momenta fraction of the b-hadrons from each event\")\n",
    "ax.set_ylabel(\"The predicted Z fraction of b hadron jets\")"
   ]
  },
  {
   "cell_type": "code",
   "execution_count": null,
   "metadata": {},
   "outputs": [],
   "source": [
    "import matplotlib as mpl\n",
    "from scipy.stats import gaussian_kde\n",
    "fig, ax = plt.subplots(figsize = (12,12))\n",
    "x = bhads_targets_clean[:,9]*1e6\n",
    "y = Predictions_X[:,9]*1e6\n",
    "grid = np.vstack([x, y])\n",
    "z = gaussian_kde(grid)(grid)\n",
    "idx = z.argsort()\n",
    "x,y,z = x[idx], y[idx], z[idx]\n",
    "\n",
    "im = sns.scatterplot(\n",
    "    x,\n",
    "    y,\n",
    "    c = z,\n",
    "    s = 5,\n",
    "    cmap = \"PiYG\",\n",
    "    )\n",
    "norm = plt.Normalize(z.min(), z.max())\n",
    "sm = plt.cm.ScalarMappable(cmap = \"PiYG\", norm = norm)\n",
    "sm.set_array([])\n",
    "im.figure.colorbar(sm)\n",
    "ax.set_title(\"Scatterplot of the true vs pred Bhadron energy\")\n",
    "ax.set_xlabel(\"The true Bhadron energy of the b-hadrons from each event\")\n",
    "ax.set_ylabel(\"The predicted Bhadron energy of b hadron jets\")"
   ]
  },
  {
   "cell_type": "code",
   "execution_count": null,
   "metadata": {},
   "outputs": [],
   "source": [
    "import matplotlib as mpl\n",
    "from scipy.stats import gaussian_kde\n",
    "fig, ax = plt.subplots(figsize = (12,12))\n",
    "x = bhads_targets_clean[:,12]\n",
    "y = Predictions_X[:,12]\n",
    "grid = np.vstack([x, y])\n",
    "z = gaussian_kde(grid)(grid)\n",
    "idx = z.argsort()\n",
    "x,y,z = x[idx], y[idx], z[idx]\n",
    "\n",
    "im = sns.scatterplot(\n",
    "    x,\n",
    "    y,\n",
    "    c = z,\n",
    "    s = 5,\n",
    "    cmap = \"PiYG\",\n",
    "    )\n",
    "norm = plt.Normalize(z.min(), z.max())\n",
    "sm = plt.cm.ScalarMappable(cmap = \"PiYG\", norm = norm)\n",
    "sm.set_array([])\n",
    "im.figure.colorbar(sm)\n",
    "ax.set_title(\"Scatterplot of the true vs pred Bhadron projection\")\n",
    "ax.set_xlabel(\"The true Bhadron projection of the b-hadrons from each event\")\n",
    "ax.set_ylabel(\"The predicted Bhadron projection of b hadron jets\")"
   ]
  },
  {
   "cell_type": "code",
   "execution_count": null,
   "metadata": {},
   "outputs": [],
   "source": [
    "import matplotlib as mpl\n",
    "from scipy.stats import gaussian_kde\n",
    "fig, ax = plt.subplots(figsize = (12,12))\n",
    "x = bhads_targets_clean[:,13]*1e3\n",
    "y = Predictions_X[:,13]*1e3\n",
    "grid = np.vstack([x, y])\n",
    "z = gaussian_kde(grid)(grid)\n",
    "idx = z.argsort()\n",
    "x,y,z = x[idx], y[idx], z[idx]\n",
    "\n",
    "im = sns.scatterplot(\n",
    "    x,\n",
    "    y,\n",
    "    c = z,\n",
    "    s = 5,\n",
    "    cmap = \"PiYG\",\n",
    "    )\n",
    "norm = plt.Normalize(z.min(), z.max())\n",
    "sm = plt.cm.ScalarMappable(cmap = \"PiYG\", norm = norm)\n",
    "sm.set_array([])\n",
    "im.figure.colorbar(sm)\n",
    "ax.set_title(\"Scatterplot of the true vs pred Bhadron mass\")\n",
    "ax.set_xlabel(\"The true Bhadron mass of the b-hadrons from each event\")\n",
    "ax.set_ylabel(\"The predicted Bhadron mass of b hadron jets\")"
   ]
  },
  {
   "cell_type": "code",
   "execution_count": null,
   "metadata": {},
   "outputs": [],
   "source": [
    "import matplotlib as mpl\n",
    "from scipy.stats import gaussian_kde\n",
    "fig, ax = plt.subplots(figsize = (12,12))\n",
    "x = bhads_targets_clean[:,14]*1e4\n",
    "y = Predictions_X[:,14]*1e4\n",
    "grid = np.vstack([x, y])\n",
    "z = gaussian_kde(grid)(grid)\n",
    "idx = z.argsort()\n",
    "x,y,z = x[idx], y[idx], z[idx]\n",
    "\n",
    "im = sns.scatterplot(\n",
    "    x,\n",
    "    y,\n",
    "    c = z,\n",
    "    s = 5,\n",
    "    cmap = \"PiYG\",\n",
    "    )\n",
    "norm = plt.Normalize(z.min(), z.max())\n",
    "sm = plt.cm.ScalarMappable(cmap = \"PiYG\", norm = norm)\n",
    "sm.set_array([])\n",
    "im.figure.colorbar(sm)\n",
    "ax.set_title(\"Scatterplot of the true vs pred Bhadron Secondary Vertex Displacement\")\n",
    "ax.set_xlabel(\"The true Bhadron Secondary Vertex Displacement of the b-hadrons from each event\")\n",
    "ax.set_ylabel(\"The predicted Bhadron Secondary Vertex Displacement of b hadron jets\")"
   ]
  },
  {
   "cell_type": "code",
   "execution_count": null,
   "metadata": {},
   "outputs": [],
   "source": [
    "from sklearn.metrics import classification_report\n",
    "print(classification_report(np.argmax(onehot, axis = 1), np.argmax(Predictions_mass,axis = 1)))"
   ]
  },
  {
   "cell_type": "code",
   "execution_count": null,
   "metadata": {},
   "outputs": [],
   "source": [
    "import matplotlib.pyplot as plt\n",
    "from itertools import cycle\n",
    "from sklearn.metrics import RocCurveDisplay\n",
    "target_names = [\"Mass_0\", \"Mass_1\", \"Mass_2\", \"Mass_3\", \"Mass_4\", \"Mass_5\"]\n",
    "fig, ax = plt.subplots(figsize = (6,6))\n",
    "colors = cycle([\"aqua\", \"darkorange\", \"cornflowerblue\"])\n",
    "for class_id, colors in zip(range(4), colors):\n",
    "    RocCurveDisplay.from_predictions(\n",
    "        onehot[:,class_id],\n",
    "        Predictions_mass[:, class_id],\n",
    "        name = f\"ROC curve for {target_names[class_id]}\",\n",
    "        color = colors,\n",
    "        ax = ax,\n",
    "    )\n",
    "plt.plot([0, 1], [0, 1], \"k--\", label=\"chance level (AUC = 0.5)\")\n",
    "plt.axis(\"square\")\n",
    "plt.xlabel(\"False Positive Rate\")\n",
    "plt.ylabel(\"True Positive Rate\")\n",
    "plt.title(\"One-vs-Rest ROC curves:\\n Bhadron Masses vs the Rest:\")\n",
    "plt.legend()\n",
    "plt.show()"
   ]
  },
  {
   "cell_type": "code",
   "execution_count": null,
   "metadata": {},
   "outputs": [],
   "source": [
    "binneddensity(Predictions_X[:,0]*1e6, fixedbinning(-1e6,1e6,100), xlabel = \"X bhadron Momentum Component\")"
   ]
  },
  {
   "cell_type": "code",
   "execution_count": null,
   "metadata": {},
   "outputs": [],
   "source": [
    "binneddensity(Predictions_X[:,1]*1e6, fixedbinning(-1e6,1e6,100), xlabel = \"Y bhadron Momentum Component\")"
   ]
  },
  {
   "cell_type": "code",
   "execution_count": null,
   "metadata": {},
   "outputs": [],
   "source": [
    "binneddensity(Predictions_X[:,2]*1e6, fixedbinning(-1e6,1e6,100), xlabel = \"Z bhadron Momentum Component\")"
   ]
  },
  {
   "cell_type": "code",
   "execution_count": null,
   "metadata": {},
   "outputs": [],
   "source": [
    "binneddensity(Predictions_X[:,3]*1e6, fixedbinning(0,2e6,100), xlabel = \"Transverse bhadron Momentum Component\")"
   ]
  },
  {
   "cell_type": "code",
   "execution_count": null,
   "metadata": {},
   "outputs": [],
   "source": [
    "binneddensity(Predictions_X[:,4], fixedbinning(-3,3,100), xlabel = \"Pseudorapidity bhadron Momentum Component\")"
   ]
  },
  {
   "cell_type": "code",
   "execution_count": null,
   "metadata": {},
   "outputs": [],
   "source": [
    "binneddensity(Predictions_X[:,5], fixedbinning(-2,2,100), xlabel = \" bhadron Phi angle\")"
   ]
  },
  {
   "cell_type": "code",
   "execution_count": null,
   "metadata": {},
   "outputs": [],
   "source": [
    "binneddensity(Predictions_X[:,6], fixedbinning(-2,2,100), xlabel = \" bhadron Momentum Px fraction\")"
   ]
  },
  {
   "cell_type": "code",
   "execution_count": null,
   "metadata": {},
   "outputs": [],
   "source": [
    "binneddensity(Predictions_X[:,7], fixedbinning(-2,2,100), xlabel = \" bhadron Momentum Py fraction\")"
   ]
  },
  {
   "cell_type": "code",
   "execution_count": null,
   "metadata": {},
   "outputs": [],
   "source": [
    "binneddensity(Predictions_X[:,8], fixedbinning(-2,2,100), xlabel = \" bhadron Momentum Pz fraction\")"
   ]
  },
  {
   "cell_type": "code",
   "execution_count": null,
   "metadata": {},
   "outputs": [],
   "source": [
    "binneddensity(Predictions_X[:,9]*1e6, fixedbinning(-4e6,1e6,100), xlabel = \" bhadron Energy\")"
   ]
  },
  {
   "cell_type": "code",
   "execution_count": null,
   "metadata": {},
   "outputs": [],
   "source": [
    "binneddensity(Predictions_X[:,12], fixedbinning(-2,2,100), xlabel = \" bhadron Projection\")"
   ]
  },
  {
   "cell_type": "code",
   "execution_count": null,
   "metadata": {},
   "outputs": [],
   "source": [
    "binneddensity(Predictions_X[:,13]*1e3, fixedbinning(-3e3,1e3,100), xlabel = \" bhadron Mass\")"
   ]
  },
  {
   "cell_type": "code",
   "execution_count": null,
   "metadata": {},
   "outputs": [],
   "source": [
    "binneddensity(Predictions_X[:,14]*1e4, fixedbinning(-2e4,2e4,100), xlabel = \" bhadron Secondary Displacement\")"
   ]
  },
  {
   "cell_type": "code",
   "execution_count": null,
   "metadata": {},
   "outputs": [],
   "source": [
    "binneddensity(Predictions_Variance[:,0]*1e6, fixedbinning(0,2e5,100), xlabel = \" bhadron Momentum Px Uncertainty\")"
   ]
  },
  {
   "cell_type": "code",
   "execution_count": null,
   "metadata": {},
   "outputs": [],
   "source": [
    "binneddensity(Predictions_Variance[:,1]*1e6, fixedbinning(0,3e5,100), xlabel = \" bhadron Momentum Py Uncertainty\")"
   ]
  },
  {
   "cell_type": "code",
   "execution_count": null,
   "metadata": {},
   "outputs": [],
   "source": [
    "binneddensity(Predictions_Variance[:,2]*1e6, fixedbinning(0,5e6,100), xlabel = \" bhadron Momentum Pz Uncertainty\")"
   ]
  },
  {
   "cell_type": "code",
   "execution_count": null,
   "metadata": {},
   "outputs": [],
   "source": [
    "binneddensity(Predictions_Variance[:,3]*1e6, fixedbinning(0,2e7,100), xlabel = \" bhadron Transverse Momentum Uncertainty\")"
   ]
  },
  {
   "cell_type": "code",
   "execution_count": null,
   "metadata": {},
   "outputs": [],
   "source": [
    "binneddensity(Predictions_Variance[:,4], fixedbinning(0,2,100), xlabel = \" bhadron Pseudorapitdity Uncertainty\")"
   ]
  },
  {
   "cell_type": "code",
   "execution_count": null,
   "metadata": {},
   "outputs": [],
   "source": [
    "binneddensity(Predictions_Variance[:,5], fixedbinning(0,3,100), xlabel = \" bhadron Phi Uncertainty\")"
   ]
  },
  {
   "cell_type": "code",
   "execution_count": null,
   "metadata": {},
   "outputs": [],
   "source": [
    "binneddensity(Predictions_Variance[:,6], fixedbinning(0,2,100), xlabel = \" bhadron X momentum fraction Uncertainty\")"
   ]
  },
  {
   "cell_type": "code",
   "execution_count": null,
   "metadata": {},
   "outputs": [],
   "source": [
    "binneddensity(Predictions_Variance[:,7], fixedbinning(0,2,100), xlabel = \" bhadron Y momentum fraction Uncertainty\")"
   ]
  },
  {
   "cell_type": "code",
   "execution_count": null,
   "metadata": {},
   "outputs": [],
   "source": [
    "binneddensity(Predictions_Variance[:,8], fixedbinning(0,60,100), xlabel = \" bhadron Z momentum fraction Uncertainty\")"
   ]
  },
  {
   "cell_type": "code",
   "execution_count": null,
   "metadata": {},
   "outputs": [],
   "source": [
    "binneddensity(Predictions_Variance[:,9]*1e6, fixedbinning(0,3e6,100), xlabel = \" bhadron energy uncertainty\")"
   ]
  },
  {
   "cell_type": "code",
   "execution_count": null,
   "metadata": {},
   "outputs": [],
   "source": [
    "binneddensity(Predictions_Variance[:,12], fixedbinning(0,5,100), xlabel = \" bhadron Projection Uncertainty\")"
   ]
  },
  {
   "cell_type": "code",
   "execution_count": null,
   "metadata": {},
   "outputs": [],
   "source": [
    "binneddensity(Predictions_Variance[:,13]*1e3, fixedbinning(0,1e2,100), xlabel = \" bhadron mass Uncertainty\")"
   ]
  },
  {
   "cell_type": "code",
   "execution_count": null,
   "metadata": {},
   "outputs": [],
   "source": [
    "binneddensity(Predictions_Variance[:,14]*1e4, fixedbinning(0,1e3,100), xlabel = \" bhadron secondary displacement uncertainty\")"
   ]
  },
  {
   "cell_type": "code",
   "execution_count": 33,
   "metadata": {},
   "outputs": [
    {
     "name": "stderr",
     "output_type": "stream",
     "text": [
      "/home/physics/phujdj/anaconda3/envs/SpocFit/lib/python3.9/site-packages/sklearn/preprocessing/_label.py:98: DataConversionWarning: A column-vector y was passed when a 1d array was expected. Please change the shape of y to (n_samples, ), for example using ravel().\n",
      "  y = column_or_1d(y, warn=True)\n",
      "/home/physics/phujdj/anaconda3/envs/SpocFit/lib/python3.9/site-packages/sklearn/preprocessing/_label.py:133: DataConversionWarning: A column-vector y was passed when a 1d array was expected. Please change the shape of y to (n_samples, ), for example using ravel().\n",
      "  y = column_or_1d(y, warn=True)\n"
     ]
    }
   ],
   "source": [
    "#Create a label embedding for the bhadron masses\n",
    "from sklearn.preprocessing import LabelEncoder\n",
    "LabelEncoded =LabelEncoder()\n",
    "LabelEncoded.fit(bhadron_PGIDs)\n",
    "LabelEncoded.classes_\n",
    "Bhad_Mass_Labels = LabelEncoded.transform(bhadron_PGIDs)"
   ]
  },
  {
   "cell_type": "code",
   "execution_count": 34,
   "metadata": {},
   "outputs": [
    {
     "data": {
      "text/plain": [
       "Pipeline(steps=[('standardscaler', StandardScaler()),\n",
       "                ('randomforestclassifier',\n",
       "                 RandomForestClassifier(class_weight='balanced', max_depth=12,\n",
       "                                        n_estimators=1000, random_state=42))])"
      ]
     },
     "execution_count": 34,
     "metadata": {},
     "output_type": "execute_result"
    }
   ],
   "source": [
    "from sklearn.ensemble import RandomForestClassifier\n",
    "from sklearn.pipeline import make_pipeline\n",
    "#Flatten the tracks into a 1D array\n",
    "The_Tracks = Tracks_input_scaled.reshape(np.shape(b_jets_input_scaled)[0], -1)\n",
    "Inputs = np.concatenate([b_jets_input_scaled, The_Tracks], axis = -1)\n",
    "MassClassifier_Forest = make_pipeline(StandardScaler(), RandomForestClassifier(max_depth=12, random_state=42, n_estimators=1000, class_weight = \"balanced\"))\n",
    "MassClassifier_Forest.fit(Inputs, Bhad_Mass_Labels)"
   ]
  },
  {
   "cell_type": "code",
   "execution_count": 35,
   "metadata": {},
   "outputs": [],
   "source": [
    "Predictions_Mass = MassClassifier_Forest.predict(Inputs)"
   ]
  },
  {
   "cell_type": "code",
   "execution_count": 36,
   "metadata": {},
   "outputs": [
    {
     "data": {
      "text/plain": [
       "(93100,)"
      ]
     },
     "execution_count": 36,
     "metadata": {},
     "output_type": "execute_result"
    }
   ],
   "source": [
    "Predictions_Mass.shape"
   ]
  },
  {
   "cell_type": "code",
   "execution_count": 37,
   "metadata": {},
   "outputs": [
    {
     "name": "stdout",
     "output_type": "stream",
     "text": [
      "0.7815037593984963\n"
     ]
    }
   ],
   "source": [
    "print(MassClassifier_Forest.score(Inputs,Bhad_Mass_Labels))"
   ]
  },
  {
   "cell_type": "code",
   "execution_count": 38,
   "metadata": {},
   "outputs": [
    {
     "data": {
      "text/plain": [
       "<sklearn.metrics._plot.confusion_matrix.ConfusionMatrixDisplay at 0x7f2584662be0>"
      ]
     },
     "execution_count": 38,
     "metadata": {},
     "output_type": "execute_result"
    },
    {
     "data": {
      "image/png": "[encoded data removed]",
      "text/plain": [
       "<Figure size 432x288 with 2 Axes>"
      ]
     },
     "metadata": {
      "needs_background": "light"
     },
     "output_type": "display_data"
    }
   ],
   "source": [
    "#Compute the confusion matrix for the random forest model's \n",
    "#predictions\n",
    "from sklearn.metrics import confusion_matrix\n",
    "from sklearn import metrics\n",
    "confusion_mat = confusion_matrix(Predictions_Mass, Bhad_Mass_Labels)\n",
    "confusion_visualized = metrics.ConfusionMatrixDisplay(confusion_matrix = confusion_mat)\n",
    "confusion_visualized.plot()"
   ]
  },
  {
   "cell_type": "code",
   "execution_count": 39,
   "metadata": {},
   "outputs": [
    {
     "name": "stdout",
     "output_type": "stream",
     "text": [
      "(93100, 1)\n",
      "(93100, 4)\n"
     ]
    }
   ],
   "source": [
    "#Convert the predictions of the MassClassifier Forest into a onehot embedding\n",
    "bhadron_masses_predictions = []\n",
    "for mass in Predictions_Mass:\n",
    "    bhadron_masses_predictions.append([str(mass)])\n",
    "print(np.shape(bhadron_masses_predictions))\n",
    "encoder = OneHotEncoder(sparse = False)\n",
    "predictions = encoder.fit_transform(bhadron_masses_predictions)\n",
    "predictions = np.array(predictions)\n",
    "print(np.shape(predictions))"
   ]
  },
  {
   "cell_type": "code",
   "execution_count": null,
   "metadata": {},
   "outputs": [],
   "source": [
    "print(onehot.shape)"
   ]
  },
  {
   "cell_type": "code",
   "execution_count": 40,
   "metadata": {},
   "outputs": [
    {
     "name": "stdout",
     "output_type": "stream",
     "text": [
      "              precision    recall  f1-score   support\n",
      "\n",
      "      Mass_0       0.79      0.79      0.79     39850\n",
      "      Mass_1       0.89      0.74      0.81     39551\n",
      "      Mass_2       0.58      0.84      0.68      9031\n",
      "      Mass_3       0.62      0.94      0.75      4668\n",
      "\n",
      "   micro avg       0.78      0.78      0.78     93100\n",
      "   macro avg       0.72      0.83      0.76     93100\n",
      "weighted avg       0.80      0.78      0.79     93100\n",
      " samples avg       0.78      0.78      0.78     93100\n",
      "\n"
     ]
    }
   ],
   "source": [
    "#Evaulates the performance of the model's predictions across the different models.\n",
    "from sklearn.metrics import classification_report\n",
    "target_names = [\"Mass_0\", \"Mass_1\", \"Mass_2\", \"Mass_3\"]\n",
    "print(classification_report(onehot, predictions, target_names=target_names))"
   ]
  },
  {
   "cell_type": "code",
   "execution_count": null,
   "metadata": {},
   "outputs": [],
   "source": []
  },
  {
   "cell_type": "code",
   "execution_count": 41,
   "metadata": {},
   "outputs": [
    {
     "data": {
      "image/png": "[encoded data removed]",
      "text/plain": [
       "<Figure size 432x432 with 1 Axes>"
      ]
     },
     "metadata": {
      "needs_background": "light"
     },
     "output_type": "display_data"
    }
   ],
   "source": [
    "import matplotlib.pyplot as plt\n",
    "from itertools import cycle\n",
    "from sklearn.metrics import RocCurveDisplay\n",
    "target_names = [\"Mass_0\", \"Mass_1\", \"Mass_2\", \"Mass_3\", \"Mass_4\", \"Mass_5\"]\n",
    "fig, ax = plt.subplots(figsize = (6,6))\n",
    "colors = cycle([\"aqua\", \"darkorange\", \"cornflowerblue\"])\n",
    "for class_id, colors in zip(range(4), colors):\n",
    "    RocCurveDisplay.from_predictions(\n",
    "        onehot[:,class_id],\n",
    "        predictions[:, class_id],\n",
    "        name = f\"ROC curve for {target_names[class_id]}\",\n",
    "        color = colors,\n",
    "        ax = ax,\n",
    "    )\n",
    "plt.plot([0, 1], [0, 1], \"k--\", label=\"chance level (AUC = 0.5)\")\n",
    "plt.axis(\"square\")\n",
    "plt.xlabel(\"False Positive Rate\")\n",
    "plt.ylabel(\"True Positive Rate\")\n",
    "plt.title(\"One-vs-Rest ROC curves:\\n Bhadron Masses vs the Rest:\")\n",
    "plt.legend()\n",
    "plt.show()"
   ]
  },
  {
   "cell_type": "code",
   "execution_count": null,
   "metadata": {},
   "outputs": [],
   "source": [
    "# Importing the necessary modules\n",
    "import numpy as np\n",
    "import matplotlib.pyplot as plt\n",
    "from scipy.stats import multivariate_normal\n",
    " \n",
    " \n",
    "plt.style.use('seaborn-dark')\n",
    "plt.rcParams['figure.figsize']=14,6\n",
    "fig = plt.figure()\n",
    " \n",
    "random_seed = 1000\n",
    "cov_val = Predictions_Covariance[0,:2]\n",
    "vari = Predictions_Variance[:,:2]\n",
    "print(vari[0,0])\n",
    "cov_matrix = np.array([[vari[0,0],cov_val[0]],[cov_val[1], vari[0,1]]])\n",
    "print(cov_matrix)\n",
    "mean = Predictions_X[0,:2]\n",
    "# Storing density function values for\n",
    "# further analysis\n",
    "pdf_list = []\n",
    " \n",
    "# Iterating over different covariance values\n",
    "for idx, val in enumerate(cov_val):\n",
    "    print(val.shape)\n",
    "    # Initializing the covariance matrix\n",
    "    cov = np.array([[vari[0,0], val], [val, vari[0,1]]])\n",
    "    print(cov.shape)\n",
    "    # Generating a Gaussian bivariate distribution\n",
    "    # with given mean and covariance matrix\n",
    "    distr = multivariate_normal(cov = cov, mean = mean,\n",
    "                                seed = random_seed)\n",
    "     \n",
    "    # Generating a meshgrid complacent with\n",
    "    # the 3-sigma boundary\n",
    "    mean_1, mean_2 = mean[0], mean[1]\n",
    "    sigma_1, sigma_2 = cov[0,0], cov[1,1]\n",
    "     \n",
    "    x = np.linspace(-3*sigma_1, 3*sigma_1, num=100)\n",
    "    y = np.linspace(-3*sigma_2, 3*sigma_2, num=100)\n",
    "    X, Y = np.meshgrid(x,y)\n",
    "     \n",
    "    # Generating the density function\n",
    "    # for each point in the meshgrid\n",
    "    pdf = np.zeros(X.shape)\n",
    "    for i in range(X.shape[0]):\n",
    "        for j in range(X.shape[1]):\n",
    "            pdf[i,j] = distr.pdf([X[i,j], Y[i,j]])\n",
    "     \n",
    "    # Plotting the density function values\n",
    "    key = 131+idx\n",
    "    ax = fig.add_subplot(key, projection = '3d')\n",
    "    ax.plot_surface(X, Y, pdf, cmap = 'viridis')\n",
    "    plt.xlabel(\"x1\")\n",
    "    plt.ylabel(\"x2\")\n",
    "    plt.title(f'Covariance between x1 and x2 = {val}')\n",
    "    pdf_list.append(pdf)\n",
    "    ax.axes.zaxis.set_ticks([])\n",
    " \n",
    "plt.tight_layout()\n",
    "plt.show()\n",
    " \n",
    "# Plotting contour plots\n",
    "for idx, val in enumerate(pdf_list):\n",
    "    plt.subplot(1,3,idx+1)\n",
    "    plt.contourf(X, Y, val, cmap='viridis')\n",
    "    plt.xlabel(\"x1\")\n",
    "    plt.ylabel(\"x2\")\n",
    "    plt.title(f'Covariance between x1 and x2 = {cov_val[idx]}')\n",
    "plt.tight_layout()\n",
    "plt.show()\n",
    "     "
   ]
  },
  {
   "cell_type": "code",
   "execution_count": null,
   "metadata": {},
   "outputs": [],
   "source": [
    "multivariate_normal(mean*1e6, cov_matrix*1e6)"
   ]
  },
  {
   "cell_type": "code",
   "execution_count": null,
   "metadata": {},
   "outputs": [],
   "source": [
    "print(mean*1e6)\n",
    "print(cov_matrix*1e6)"
   ]
  },
  {
   "cell_type": "code",
   "execution_count": null,
   "metadata": {},
   "outputs": [],
   "source": [
    "binneddensity(Predictions_Variance[:,7], fixedbinning(0,100,100), xlabel = \" bhadron X momentum fraction Uncertainty\")"
   ]
  },
  {
   "cell_type": "code",
   "execution_count": null,
   "metadata": {},
   "outputs": [],
   "source": [
    "from sklearn.model_selection import train_test_split\n",
    "X_1= np.ma.masked_equal(tracks[:,:,0],-999)\n",
    "print(X_1.mask)\n",
    "print(np.shape(X_1),np.shape(bhads[:,0]))\n",
    "X_train_ml,X_valid_ml,y_train_ml,y_valid_ml = train_test_split(X_1,bhads[:,0],random_state = 42)\n",
    "print(np.shape(X_train_ml),np.shape(y_train_ml))"
   ]
  },
  {
   "cell_type": "code",
   "execution_count": null,
   "metadata": {},
   "outputs": [],
   "source": [
    "ForestRegressor = RandomForestRegressor(n_estimators = 200, max_depth = 14, random_state = 42)\n",
    "ForestRegressor.fit(X_train_ml,y_train_ml)"
   ]
  },
  {
   "cell_type": "code",
   "execution_count": null,
   "metadata": {},
   "outputs": [],
   "source": [
    "ForestRegressor.score(X_valid_ml,y_valid_ml)"
   ]
  },
  {
   "cell_type": "code",
   "execution_count": null,
   "metadata": {},
   "outputs": [],
   "source": [
    "Predictions = ForestRegressor.predict(X_valid_ml)\n",
    "mean = np.mean(Predictions)\n",
    "std = np.std(Predictions)\n",
    "Pull_RandomForest = (Predictions - y_valid_ml)/std\n",
    "mean2 = np.mean(Pull_RandomForest)\n",
    "std2 = np.std(Pull_RandomForest)\n",
    "print(mean,std)\n",
    "print(mean2,std2)"
   ]
  },
  {
   "cell_type": "code",
   "execution_count": null,
   "metadata": {},
   "outputs": [],
   "source": [
    "from sklearn.metrics import mean_absolute_error\n",
    "predictions = ForestRegressor.predict(X_valid_ml)\n",
    "print(\"Mean Absolute Error: \" + str(mean_absolute_error(predictions,y_valid_ml)))"
   ]
  },
  {
   "cell_type": "code",
   "execution_count": null,
   "metadata": {},
   "outputs": [],
   "source": [
    "binneddensity(Predictions - y_valid_ml, fixedbinning(-100000,100000,100), xlabel =\"RandomForestModel Error\")"
   ]
  },
  {
   "cell_type": "code",
   "execution_count": null,
   "metadata": {},
   "outputs": [],
   "source": [
    "binneddensity(Pull_RandomForest, fixedbinning(-1,1,100), xlabel =\"RandomForestModel Pull\")"
   ]
  },
  {
   "cell_type": "code",
   "execution_count": null,
   "metadata": {},
   "outputs": [],
   "source": [
    "binneddensity(Predictions, fixedbinning(-100000,100000,100), xlabel =\"RandomForestModel\")"
   ]
  },
  {
   "cell_type": "code",
   "execution_count": null,
   "metadata": {},
   "outputs": [],
   "source": [
    "fig,ax = plt.subplots(figsize = (12,12))\n",
    "sns.scatterplot(\n",
    "    x = y_valid_ml,\n",
    "    y = Predictions,\n",
    "    color = \"green\"\n",
    ")\n",
    "ax.set_title(\"Scatterplot of the true vs pred X momenta\")\n",
    "ax.set_xlim([np.min(y_valid_ml),np.max(y_valid_ml)])\n",
    "ax.set_ylim([np.min(Predictions),np.max(Predictions)])\n",
    "ax.set_xlabel(\"The true X momenta of the tracks from each event\")\n",
    "ax.set_ylabel(\"The predicted X momenta of b hadron jets\")\n",
    "plt.show()"
   ]
  },
  {
   "cell_type": "code",
   "execution_count": null,
   "metadata": {},
   "outputs": [],
   "source": [
    "xgbooster = XGBRegressor(n_estimators = 6000, num_parallel_tree = 1,early_stopping_rounds= 5, learning_rate = 1e-3)\n",
    "xgbooster.fit(X_train_ml,y_train_ml, eval_set = [(X_valid_ml,y_valid_ml)], verbose = False)"
   ]
  },
  {
   "cell_type": "code",
   "execution_count": null,
   "metadata": {},
   "outputs": [],
   "source": [
    "from sklearn.metrics import mean_absolute_error\n",
    "predictions = xgbooster.predict(X_valid_ml)\n",
    "print(\"Mean Absolute Error: \" + str(mean_absolute_error(predictions,y_valid_ml)))"
   ]
  },
  {
   "cell_type": "code",
   "execution_count": null,
   "metadata": {},
   "outputs": [],
   "source": [
    "predictions[:10]"
   ]
  },
  {
   "cell_type": "code",
   "execution_count": null,
   "metadata": {},
   "outputs": [],
   "source": [
    "Predictions = xgbooster.predict(X_valid_ml)\n",
    "mean = np.mean(Predictions)\n",
    "std = np.std(Predictions)\n",
    "Pull_xgbooster = (Predictions - y_valid_ml)/std\n",
    "mean2 = np.mean(Pull_xgbooster)\n",
    "std2 = np.std(Pull_xgbooster)\n",
    "print(mean,std)\n",
    "print(mean2,std2)"
   ]
  },
  {
   "cell_type": "code",
   "execution_count": null,
   "metadata": {},
   "outputs": [],
   "source": [
    "binneddensity(Predictions - y_valid_ml, fixedbinning(-100000,100000,100), xlabel =\"XgBooster Error\")"
   ]
  },
  {
   "cell_type": "code",
   "execution_count": null,
   "metadata": {},
   "outputs": [],
   "source": [
    "binneddensity(Pull_xgbooster, fixedbinning(-1,1,100), xlabel =\"Xgbooster Pull\")"
   ]
  },
  {
   "cell_type": "code",
   "execution_count": null,
   "metadata": {},
   "outputs": [],
   "source": [
    "fig,ax = plt.subplots(figsize = (12,12))\n",
    "sns.scatterplot(\n",
    "    x = y_valid_ml,\n",
    "    y = Predictions,\n",
    "    color = \"purple\"\n",
    ")\n",
    "ax.set_title(\"Scatterplot of the true vs pred X momenta\")\n",
    "ax.set_xlim([np.min(y_valid_ml),np.max(y_valid_ml)])\n",
    "ax.set_ylim([np.min(Predictions),np.max(Predictions)])\n",
    "ax.set_xlabel(\"The true X momenta of the tracks from each event\")\n",
    "ax.set_ylabel(\"The predicted X momenta of b hadron jets\")\n",
    "plt.show()"
   ]
  }
 ],
 "metadata": {
  "kernelspec": {
   "display_name": "Python 3.9.12 ('SpocFit')",
   "language": "python",
   "name": "python3"
  },
  "language_info": {
   "codemirror_mode": {
    "name": "ipython",
    "version": 3
   },
   "file_extension": ".py",
   "mimetype": "text/x-python",
   "name": "python",
   "nbconvert_exporter": "python",
   "pygments_lexer": "ipython3",
   "version": "3.9.12"
  },
  "orig_nbformat": 4,
  "vscode": {
   "interpreter": {
    "hash": "a05ddcd8ffea9a6a7d2e914b733df5445b717626b5b8c92c04bfc4eb6e7f5cba"
   }
  }
 },
 "nbformat": 4,
 "nbformat_minor": 2
}
