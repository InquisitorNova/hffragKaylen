{
 "cells": [
  {
   "cell_type": "code",
   "execution_count": null,
   "metadata": {},
   "outputs": [],
   "source": [
    "import numpy as np\n",
    "import matplotlib.pyplot as plt"
   ]
  },
  {
   "cell_type": "code",
   "execution_count": null,
   "metadata": {},
   "outputs": [],
   "source": [
    "pred = np.load(\"/home/physics/phujdj/DeepLearningParticlePhysics/pred.npy\")\n",
    "bhads = np.load(\"/home/physics/phujdj/DeepLearningParticlePhysics/true.npy\")"
   ]
  },
  {
   "cell_type": "code",
   "execution_count": null,
   "metadata": {},
   "outputs": [],
   "source": [
    "plt.Figure()\n",
    "plt.plot(pred[:,0]-bhads[:])\n",
    "plt.show()"
   ]
  },
  {
   "cell_type": "code",
   "execution_count": null,
   "metadata": {},
   "outputs": [],
   "source": [
    "plt.Figure()\n",
    "plt.plot((pred[:,0]-bhads[:])/np.exp(pred[:,1]))\n",
    "plt.show()"
   ]
  }
 ],
 "metadata": {
  "kernelspec": {
   "display_name": "Python 3.9.13 ('DeepLearningParticlePhysics')",
   "language": "python",
   "name": "python3"
  },
  "language_info": {
   "name": "python",
   "version": "3.9.13"
  },
  "orig_nbformat": 4,
  "vscode": {
   "interpreter": {
    "hash": "eadd9fb5f4dc5349e458d3ad6d3a5847384a7f4d0db1c8d129ea191670ee9b16"
   }
  }
 },
 "nbformat": 4,
 "nbformat_minor": 2
}
