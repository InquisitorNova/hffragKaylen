{
 "cells": [
  {
   "cell_type": "code",
   "execution_count": 1,
   "id": "cf52dc84",
   "metadata": {},
   "outputs": [
    {
     "name": "stderr",
     "output_type": "stream",
     "text": [
      "2023-01-14 14:55:41.638095: I tensorflow/core/platform/cpu_feature_guard.cc:193] This TensorFlow binary is optimized with oneAPI Deep Neural Network Library (oneDNN) to use the following CPU instructions in performance-critical operations:  AVX2 AVX512F AVX512_VNNI FMA\n",
      "To enable them in other operations, rebuild TensorFlow with the appropriate compiler flags.\n",
      "2023-01-14 14:55:41.795502: I tensorflow/core/util/port.cc:104] oneDNN custom operations are on. You may see slightly different numerical results due to floating-point round-off errors from different computation orders. To turn them off, set the environment variable `TF_ENABLE_ONEDNN_OPTS=0`.\n",
      "2023-01-14 14:55:41.799807: W tensorflow/compiler/xla/stream_executor/platform/default/dso_loader.cc:64] Could not load dynamic library 'libcudart.so.11.0'; dlerror: libcudart.so.11.0: cannot open shared object file: No such file or directory\n",
      "2023-01-14 14:55:41.799824: I tensorflow/compiler/xla/stream_executor/cuda/cudart_stub.cc:29] Ignore above cudart dlerror if you do not have a GPU set up on your machine.\n",
      "2023-01-14 14:55:42.914489: W tensorflow/compiler/xla/stream_executor/platform/default/dso_loader.cc:64] Could not load dynamic library 'libnvinfer.so.7'; dlerror: libnvinfer.so.7: cannot open shared object file: No such file or directory\n",
      "2023-01-14 14:55:42.914560: W tensorflow/compiler/xla/stream_executor/platform/default/dso_loader.cc:64] Could not load dynamic library 'libnvinfer_plugin.so.7'; dlerror: libnvinfer_plugin.so.7: cannot open shared object file: No such file or directory\n",
      "2023-01-14 14:55:42.914567: W tensorflow/compiler/tf2tensorrt/utils/py_utils.cc:38] TF-TRT Warning: Cannot dlopen some TensorRT libraries. If you would like to use Nvidia GPU with TensorRT, please make sure the missing libraries mentioned above are installed properly.\n",
      "/home/physics/phujdj/anaconda3/envs/SpocFit/lib/python3.9/site-packages/tensorflow_addons/utils/ensure_tf_install.py:53: UserWarning: Tensorflow Addons supports using Python ops for all Tensorflow versions above or equal to 2.8.0 and strictly below 2.11.0 (nightly versions are not supported). \n",
      " The versions of TensorFlow you are currently using is 2.11.0 and is not supported. \n",
      "Some things might work, some things might not.\n",
      "If you were to encounter a bug, do not file an issue.\n",
      "If you want to make sure you're using a tested and supported configuration, either change the TensorFlow version or the TensorFlow Addons's version. \n",
      "You can find the compatibility matrix in TensorFlow Addon's readme:\n",
      "https://github.com/tensorflow/addons\n",
      "  warnings.warn(\n"
     ]
    },
    {
     "name": "stdout",
     "output_type": "stream",
     "text": [
      "number of jets to train on:\n",
      "141329\n"
     ]
    },
    {
     "name": "stderr",
     "output_type": "stream",
     "text": [
      "/home/physics/phujdj/DeepLearningParticlePhysics/hffrag.py:136: RuntimeWarning: overflow encountered in sinh\n",
      "  pzs = numpy.where(mask, pts, pts * numpy.sinh(etas))\n"
     ]
    }
   ],
   "source": [
    "# Import relevant modules\n",
    "import os\n",
    "import awkward as ak\n",
    "import matplotlib.pyplot as plt\n",
    "import numpy as np\n",
    "import seaborn as  sns\n",
    "import tensorflow as tf\n",
    "import keras.layers as layers\n",
    "from keras import regularizers\n",
    "from keras import callbacks\n",
    "import keras\n",
    "from timeit import default_timer as timer\n",
    "from sklearn.preprocessing import StandardScaler\n",
    "import tensorflow_addons as tfa\n",
    "import DeepSetNeuralNetArchitecture as DSNNA\n",
    "import uproot\n",
    "from Sum import Sum\n",
    "import sklearn as sk\n",
    "from numpy.lib.recfunctions import structured_to_unstructured\n",
    "from sklearn.model_selection import train_test_split\n",
    "import pandas as pd\n",
    "import hffrag\n",
    "import keras_tuner as kt\n",
    "from hffrag import fixedbinning\n",
    "from hffrag import binneddensity\n"
   ]
  },
  {
   "cell_type": "code",
   "execution_count": 2,
   "id": "f02cddc8",
   "metadata": {},
   "outputs": [
    {
     "name": "stderr",
     "output_type": "stream",
     "text": [
      "2023-01-14 14:56:12.121913: W tensorflow/compiler/xla/stream_executor/platform/default/dso_loader.cc:64] Could not load dynamic library 'libcuda.so.1'; dlerror: libcuda.so.1: cannot open shared object file: No such file or directory\n",
      "2023-01-14 14:56:12.121945: W tensorflow/compiler/xla/stream_executor/cuda/cuda_driver.cc:265] failed call to cuInit: UNKNOWN ERROR (303)\n",
      "2023-01-14 14:56:12.121966: I tensorflow/compiler/xla/stream_executor/cuda/cuda_diagnostics.cc:156] kernel driver does not appear to be running on this host (vonneumann.csc.warwick.ac.uk): /proc/driver/nvidia/version does not exist\n"
     ]
    },
    {
     "data": {
      "text/plain": [
       "[PhysicalDevice(name='/physical_device:CPU:0', device_type='CPU')]"
      ]
     },
     "execution_count": 2,
     "metadata": {},
     "output_type": "execute_result"
    }
   ],
   "source": [
    "tf.config.experimental.list_physical_devices()"
   ]
  },
  {
   "cell_type": "code",
   "execution_count": 3,
   "id": "03fbe6c8",
   "metadata": {},
   "outputs": [],
   "source": [
    "#A magic operator to allow Jupyter Notebooks to display matplotlib plots as outputs of cells\n",
    "%matplotlib inline"
   ]
  },
  {
   "cell_type": "code",
   "execution_count": 4,
   "id": "646b0267",
   "metadata": {},
   "outputs": [],
   "source": [
    "# The data is being stored in a tree datastructure.\n",
    "# We access the charm root using this command\n",
    "tree = uproot.open(\"hffrag.root:CharmAnalysis\")\n"
   ]
  },
  {
   "cell_type": "code",
   "execution_count": 5,
   "id": "f85a8243",
   "metadata": {},
   "outputs": [],
   "source": [
    "# Initial parameters\n",
    "MASKVAL = -999 # This value is introduced to ensure arrays are regular (Of the same size). They will be masked later by the network\n",
    "MAXTRACKS = 32 # This value is the maximum number of tracks allowed per event\n",
    "BATCHSIZE = 64 # This is the batch size of the mini batches used during training\n",
    "EPOCHS = 300 # This is the default number of epochs for which the neural network will train providing that early stopping does not occur\n",
    "MAXEVENTS = 1e20 #This is the maximum number of events that will the program will accept\n",
    "LR = 1e-3 #This is the default learning rate\n"
   ]
  },
  {
   "cell_type": "code",
   "execution_count": 6,
   "id": "10435331",
   "metadata": {},
   "outputs": [],
   "source": [
    "# Find the associated tracks for each jet\n",
    "def Match_Tracks(jets, tracks):\n",
    "    \"\"\"Used to determine if a set of tracks belong to a particular set of jets\"\"\"\n",
    "\n",
    "    jet_eta = jets[\"AnalysisAntiKt4TruthJets_eta\"]\n",
    "    jet_phi = jets[\"AnalysisAntiKt4TruthJets_phi\"] \n",
    "\n",
    "    tracks_eta = tracks[\"AnalysisTracks_eta\"]\n",
    "    tracks_phi = tracks[\"AnalysisTracks_phi\"]\n",
    "\n",
    "    delta_etas = jet_eta - tracks_eta\n",
    "    delta_phis = np.abs(jet_phi - tracks_phi)\n",
    "\n",
    "    # Map the phis from a cyclical period onto a linear relation\n",
    "    ak.where(delta_phis > np.pi, delta_phis - np.pi, delta_phis)\n",
    "\n",
    "    # Returns a list of true and false, determining which tracks belong to those jets.\n",
    "    return np.sqrt(delta_phis**2 + delta_etas**2) < 0.4 \n"
   ]
  },
  {
   "cell_type": "code",
   "execution_count": 7,
   "id": "c5f5e74d",
   "metadata": {},
   "outputs": [],
   "source": [
    "# Convert from cylindrical to cartesian coordinates\n",
    "def pt_eta_phi_2_px_py_pz_jets(pt_eta_phi):\n",
    "    \"\"\"Converts the cylindrical polar coordinates to cartesian coordinates for jets\"\"\"\n",
    "\n",
    "    # Seperate the pts, etas and phis\n",
    "    pts = pt_eta_phi[:, 0:1]\n",
    "    etas = pt_eta_phi[:, 1:2]\n",
    "    phis = pt_eta_phi[:, 2:3]\n",
    "\n",
    "    # Convert from polar to cartesian\n",
    "    pxs = pts * np.cos(phis)\n",
    "    pys = pts * np.sin(phis)\n",
    "    pzs = pts * np.sinh(etas)\n",
    "\n",
    "    # Check to see if there are any infinities\n",
    "    isinf = np.isinf(pzs)\n",
    "\n",
    "    if np.any(isinf):\n",
    "        print(\"Infinities in eta detected!\")\n",
    "        print(etas[isinf])\n",
    "        raise ValueError(\"Infinity from sinh(eta) has been detected\")\n",
    "\n",
    "    # Returns the momentum vector\n",
    "    return np.concatenate([pxs, pys, pzs], axis=1)\n"
   ]
  },
  {
   "cell_type": "code",
   "execution_count": 8,
   "id": "e31bd425",
   "metadata": {},
   "outputs": [],
   "source": [
    "def pt_eta_phi_2_px_py_pz_tracks(pt_eta_phi, MASKVAL=-999):\n",
    "    \"\"\"Converts the cylindrical polar coordinates to cartesian coordinates for jets\"\"\"\n",
    "\n",
    "    # Seperate the pts, etas and phis\n",
    "    pts = pt_eta_phi[:, :, 0:1]\n",
    "    etas = pt_eta_phi[:, :, 1:2]\n",
    "    phis = pt_eta_phi[:, :, 2:3]\n",
    "\n",
    "    # Convert from polar to cartesian\n",
    "    # Transforms only the non masked values from cylindrical to cartesian coordinates. Mask values are left unchanged.\n",
    "    mask1 = pts == MASKVAL \n",
    "    mask2 = phis == MASKVAL\n",
    "    mask3 = etas == MASKVAL\n",
    "    pxs = np.where(mask1 | mask2, pts, pts * np.cos(phis)) \n",
    "    pys = np.where(mask1 | mask2, pts, pts * np.sin(phis))\n",
    "    pzs = np.where(mask1 | mask3, pts, pts * np.sinh(etas))\n",
    "\n",
    "    # Check to see if there are any infinities\n",
    "    isinf = np.isinf(pzs)\n",
    "\n",
    "    if np.any(isinf):\n",
    "        print(\"Infinities in eta detected!\")\n",
    "        print(etas[isinf])\n",
    "        raise ValueError(\"Infinity from sinh(eta) has been detected\")\n",
    "\n",
    "    # Returns the momentum vector in cartesian coordinates\n",
    "    return np.concatenate([pxs, pys, pzs], axis=2)\n"
   ]
  },
  {
   "cell_type": "code",
   "execution_count": 9,
   "id": "a032c4ff",
   "metadata": {},
   "outputs": [],
   "source": [
    "def pt_eta_phi2_px_py_pz_predicted_tracks(predictions):\n",
    "    #Obtain the pts,etas and phis\n",
    "    pts = predictions[:,0:1]\n",
    "    etas = predictions[:,1:2]\n",
    "    phis = predictions[:,2:3]\n",
    "\n",
    "    # Convert from polar to cartesian\n",
    "    # Transforms only the non masked values from cylindrical to cartesian coordinates. Mask values are left unchanged.\n",
    "    pxs =  pts * np.cos(phis)\n",
    "    pys =  pts * np.sin(phis)\n",
    "    pzs =  pts * np.sinh(etas)\n",
    "\n",
    "    # Check to see if there are any infinities\n",
    "    isinf = np.isinf(pzs)\n",
    "\n",
    "    if np.any(isinf):\n",
    "        print(\"Infinities in eta detected!\")\n",
    "        print(etas[isinf])\n",
    "        raise ValueError(\"Infinity from sinh(eta) has been detected\")\n",
    "\n",
    "    # Returns the momentum vector in cartesian coordinates\n",
    "    return np.concatenate([pxs, pys, pzs], axis= 1)\n"
   ]
  },
  {
   "cell_type": "code",
   "execution_count": 10,
   "id": "dd743c6a",
   "metadata": {},
   "outputs": [],
   "source": [
    "def pad(x_values, maxsize, MASKVAL=-999):\n",
    "    \"\"\"\n",
    "    Pads the inputs with nans to get to the maxsize\n",
    "    \"\"\"\n",
    "    #Pad the non-regular arrays with null values until they are all of the same size. Then replace the nulls with MASVAL\n",
    "    y_values = ak.fill_none(ak.pad_none(x_values, maxsize, axis=1, clip=True), MASKVAL)[:, :maxsize]\n",
    "    return ak.to_regular(y_values, axis=1) #Return the regular arrays\n"
   ]
  },
  {
   "cell_type": "code",
   "execution_count": 11,
   "id": "849df671",
   "metadata": {},
   "outputs": [],
   "source": [
    "def flatten(x_values, maxsize=-1, MASKVAL=-999):\n",
    "    \"\"\"\"Pads the input to ensure they are all of regular size and then zips together result\"\"\"\n",
    "    y_values = {} \n",
    "    for field in x_values.fields:\n",
    "        z_values = x_values[field]\n",
    "        if maxsize > 0:\n",
    "            z_values = pad(z_values, maxsize, MASKVAL)\n",
    "        y_values[field] = z_values\n",
    "\n",
    "    return ak.zip(y_values)\n"
   ]
  },
  {
   "cell_type": "code",
   "execution_count": 12,
   "id": "c0f51140",
   "metadata": {},
   "outputs": [],
   "source": [
    "def LogNormal_Loss_Function(true, meanscovs_matrix):\n",
    "    \"\"\"\n",
    "    This is a loss function hand crafted for the task of ensuring the neural network \n",
    "    learns to predict the true value of the transverse momentum and it's uncertainty\n",
    "    The logNormal constrains the neural network, by forcing upon it what it's output layers should be\n",
    "    and what the weights and biases of the neural network will be in order to predict the means, variances and covariances\n",
    "    \"\"\"\n",
    "    n_targets = np.shape(true)[1]\n",
    "    # The first n_target of the features are the means\n",
    "    means = meanscovs_matrix[:, :n_targets]\n",
    "    # The second n_target of the feautres are the standard deviations\n",
    "    logsigma = meanscovs_matrix[:, n_targets:2*n_targets]\n",
    "    # The rest of the targets are the covariances\n",
    "    logcosigma = meanscovs_matrix[:,2*n_targets:]\n",
    "\n",
    "    loss = 0\n",
    "    for n_target in range(n_targets): #Sum the individual losses and use that as the loss for the neural network\n",
    "        loss += ((means[:, n_target] - true[:, n_target])**2) / (2 * keras.backend.exp(logsigma[:, n_target])**2) + logsigma[:, n_target]\n",
    "\n",
    "    # Build loss function\n",
    "    return loss"
   ]
  },
  {
   "cell_type": "code",
   "execution_count": 13,
   "id": "abab3efc",
   "metadata": {},
   "outputs": [],
   "source": [
    "def Normal_Accuracy_Metric(true,meanscovs_matrix):\n",
    "    \"\"\"\n",
    "    The primary function of the LogNormal loss function is to determine\n",
    "    best normal distribution to fit to the bhadron data. By including the \n",
    "    uncertainity however, the metric is not so usefull for error checking. \n",
    "    I have added accuracy metric to better measure the ability of the neural \n",
    "    network to predict the correct values\n",
    "    \"\"\"\n",
    "    # Determine the number of features we are predicting\n",
    "    n_targets = np.shape(true)[1]\n",
    "    \n",
    "    # Extract the means of the features\n",
    "    means = meanscovs_matrix[:,:n_targets]\n",
    "\n",
    "    Accuracy = []\n",
    "    for n_target in range(n_targets):\n",
    "        Accuracy.append(abs((means[:,n_target]-true[:,n_target])/true[:,n_target])*100)\n",
    "    Accuracy = tf.convert_to_tensor(Accuracy)\n",
    "    return keras.backend.mean(Accuracy)"
   ]
  },
  {
   "cell_type": "code",
   "execution_count": 14,
   "id": "51140913",
   "metadata": {},
   "outputs": [],
   "source": [
    "def LogNormal_Loss_Function_Check(true,meanscovs_matrix):\n",
    "    \"\"\"The role of this function is to calculate the loss for each individual b jet. This is used for the purpose of error checking\"\"\"\n",
    "    n_targets = np.shape(true)[0]\n",
    "    # Obtain data from convarience matrix\n",
    "    means = meanscovs_matrix[0, :n_targets]\n",
    "    # ensure diagonal is postive:\n",
    "    logsigma = meanscovs_matrix[0, n_targets:2*n_targets]\n",
    "\n",
    "    loss = []\n",
    "    for n_target in range(n_targets):\n",
    "        loss.append(((means[n_target] - true[n_target])**2) / (2 * keras.backend.exp(logsigma[n_target])**2) + logsigma[n_target])\n",
    "    return loss"
   ]
  },
  {
   "cell_type": "code",
   "execution_count": 15,
   "id": "fb387c85",
   "metadata": {},
   "outputs": [],
   "source": [
    "def expontial_decay(lr0,s):\n",
    "    def exponential_decay_fn(epoch):\n",
    "        return lr0 * 0.1**(epoch/s)\n",
    "    return exponential_decay_fn\n",
    "exponential_decay_fn = expontial_decay(lr0 = LR,s = 20)"
   ]
  },
  {
   "cell_type": "code",
   "execution_count": 16,
   "id": "982cae49",
   "metadata": {},
   "outputs": [],
   "source": [
    "class MCDropout(keras.layers.Dropout):\n",
    "    def call(self,inputs):\n",
    "        return super().call(inputs, training = True)"
   ]
  },
  {
   "cell_type": "code",
   "execution_count": 17,
   "id": "1b6ecfc6",
   "metadata": {},
   "outputs": [],
   "source": [
    "def JetNetwork( jet_layers, n_targets,Learning_rate):\n",
    "    \"\"\"\n",
    "    This function lays out the Deep Set Neural Architecture\n",
    "    - A neural network is applied first to the tracks to extract information from the tracks.\n",
    "    - This information produces an ensemble space which, the outputs of which are then summed to produce\n",
    "        the inputs for the next layer\n",
    "    - A neural network is then applied to the jet data obtained from the tracks. \n",
    "        To perform current univariate regression.\n",
    "    \"\"\"\n",
    "    inputs = layers.Input(shape=(n_targets)) # Creates a layer for each input\n",
    "    outputs = inputs  # Creates another layer to pass the inputs onto the ouputs\n",
    "\n",
    "    counter = 0\n",
    "    for nodes in jet_layers: #Repeat of the track neural network without the need for the timedistributed layers\n",
    "        outputs = layers.Dense(nodes, activation='elu', kernel_initializer= \"he_normal\", kernel_regularizer= regularizers.l2(0.01))(outputs)\n",
    "        outputs = layers.BatchNormalization()(outputs)\n",
    "        if counter % 2 == 0:\n",
    "            outputs = MCDropout(0.2)(outputs)\n",
    "        else:\n",
    "            counter += 1\n",
    "    \n",
    "    outputs = layers.Dense(n_targets+n_targets*(n_targets+1)//2)(outputs) # The output will have a number of neurons needed to form the mean covariance function of the loss func\n",
    "\n",
    "    Model = keras.Model(inputs=inputs, outputs=outputs) #Create a keras model\n",
    "\n",
    "    # Specify the neural network's optimizer and loss function\n",
    "    Model.compile(\n",
    "    optimizer=keras.optimizers.Nadam(learning_rate=Learning_rate, clipnorm = 1.0), # Optimizer used to train model\n",
    "    metrics = [Normal_Accuracy_Metric], # Metric used to assess true performance of model\n",
    "    loss=LogNormal_Loss_Function, #Loss function\n",
    "    )\n",
    "\n",
    "    return Model\n"
   ]
  },
  {
   "cell_type": "code",
   "execution_count": 18,
   "id": "09cc7efa",
   "metadata": {},
   "outputs": [],
   "source": [
    "# Select the features we wish to study\n",
    "track_features = [\"AnalysisTracks_pt\", \"AnalysisTracks_eta\", \"AnalysisTracks_phi\", \"AnalysisTracks_z0sinTheta\",\n",
    "                  \"AnalysisTracks_d0sig\", \"AnalysisTracks_d0\", \"AnalysisTracks_d0sigPV\", \"AnalysisTracks_d0PV\"]\n",
    "jet_features = [\"AnalysisAntiKt4TruthJets_pt\", \"AnalysisAntiKt4TruthJets_eta\", \"AnalysisAntiKt4TruthJets_phi\",\n",
    "                \"AnalysisAntiKt4TruthJets_ghostB_pt\", \"AnalysisAntiKt4TruthJets_ghostB_eta\",\"AnalysisAntiKt4TruthJets_ghostB_phi\"]\n"
   ]
  },
  {
   "cell_type": "code",
   "execution_count": 19,
   "id": "94fb5db3",
   "metadata": {},
   "outputs": [],
   "source": [
    "# Read in the data from the root file\n",
    "features = tree.arrays(jet_features+track_features, entry_stop=MAXEVENTS)"
   ]
  },
  {
   "cell_type": "code",
   "execution_count": 20,
   "metadata": {},
   "outputs": [],
   "source": [
    "# Select the events of interest\n",
    "events = features[ak.sum(\n",
    "    features[\"AnalysisAntiKt4TruthJets_pt\"] > 25000, axis=1) > 0]\n"
   ]
  },
  {
   "cell_type": "code",
   "execution_count": 21,
   "metadata": {},
   "outputs": [
    {
     "name": "stdout",
     "output_type": "stream",
     "text": [
      "The number of jets to train on is:  141329\n",
      "The number of track features is:  8\n"
     ]
    }
   ],
   "source": [
    "# Displays the number of jets being trained on\n",
    "jets = events[jet_features][:, 0]\n",
    "print(\"The number of jets to train on is: \", len(jets))\n",
    "print(\"The number of track features is: \",len(track_features))"
   ]
  },
  {
   "cell_type": "code",
   "execution_count": 22,
   "metadata": {},
   "outputs": [],
   "source": [
    "# Select tracks from the events\n",
    "tracks = events[track_features]\n",
    "\n",
    "# Match the tracks to the jets\n",
    "matchedtracks = tracks[Match_Tracks(jets, tracks)]\n",
    "\n",
    "# Pad and Flatten the data\n",
    "matchedtracks = flatten(matchedtracks, MAXTRACKS)"
   ]
  },
  {
   "cell_type": "code",
   "execution_count": 23,
   "metadata": {},
   "outputs": [
    {
     "name": "stdout",
     "output_type": "stream",
     "text": [
      "There are 3 outputs\n",
      "There are 32 inputs\n"
     ]
    }
   ],
   "source": [
    "# Identify the the bottom jets and their associated tracks\n",
    "bjets = ak.sum(jets[\"AnalysisAntiKt4TruthJets_ghostB_pt\"] > 5000, axis=1) > 0\n",
    "jets = jets[bjets]\n",
    "\n",
    "# Obtain the pt, eta and phi of each b hadron jet\n",
    "bhads_pt = jets[\"AnalysisAntiKt4TruthJets_ghostB_pt\"][:, 0].to_numpy()\n",
    "bhads_eta = jets[\"AnalysisAntiKt4TruthJets_ghostB_eta\"][:,0].to_numpy()\n",
    "bhads_phi = jets[\"AnalysisAntiKt4TruthJets_ghostB_phi\"][:,0].to_numpy()\n",
    "\n",
    "bhads = np.stack([bhads_pt,bhads_eta,bhads_phi],axis = -1) #Combine the momentum, eta and phi for each jet into one array\n",
    "\n",
    "print(\"There are {} outputs\".format(np.shape(bhads)[1])) # Display the number of target features the neural network will predict\n",
    "matchedtracks = matchedtracks[bjets]\n",
    "print(\"There are {} inputs\".format(np.shape(matchedtracks)[1])) # Display the number of target features the neural network will use in it's ppredictions"
   ]
  },
  {
   "cell_type": "code",
   "execution_count": 24,
   "id": "d6443dc6",
   "metadata": {},
   "outputs": [
    {
     "name": "stdout",
     "output_type": "stream",
     "text": [
      "5019.13330078125 777955.875\n",
      "5019.13330078125 777955.875\n",
      "-4.383444786071777 4.218461990356445\n",
      "-3.1415696144104004 3.1414966583251953\n"
     ]
    }
   ],
   "source": [
    "print(np.min(bhads_pt),np.max(bhads_pt))\n",
    "print(np.min(bhads[:,0]),np.max(np.max(bhads[:,0])))\n",
    "print(np.min(bhads[:,1]),np.max(np.max(bhads[:,1])))\n",
    "print(np.min(bhads[:,2]),np.max(np.max(bhads[:,2])))"
   ]
  },
  {
   "cell_type": "code",
   "execution_count": 25,
   "metadata": {},
   "outputs": [
    {
     "name": "stdout",
     "output_type": "stream",
     "text": [
      "(68143, 3)\n",
      "(5,)\n",
      "[1.48e+05, 1.04e+05, 1.16e+05, 4.03e+04, ... 8.14e+04, 9.83e+04, 1.45e+05, 9.11e+04]\n"
     ]
    }
   ],
   "source": [
    "print(np.shape(bhads)) #Check the shape of the neural network\n",
    "print(np.shape(jet_features[:-1])) #Check for shape of the jet features\n",
    "print(jets[jet_features[0]]) # Check the jets"
   ]
  },
  {
   "cell_type": "code",
   "execution_count": 26,
   "metadata": {},
   "outputs": [
    {
     "name": "stdout",
     "output_type": "stream",
     "text": [
      "(68143, 3)\n"
     ]
    }
   ],
   "source": [
    "# Transform the jet and tracks to unstructed data.\n",
    "jets = structured_to_unstructured(jets[jet_features[:-3]])\n",
    "matchedtracks = structured_to_unstructured(matchedtracks)\n",
    "print(np.shape(jets))"
   ]
  },
  {
   "cell_type": "code",
   "execution_count": 27,
   "metadata": {},
   "outputs": [
    {
     "name": "stdout",
     "output_type": "stream",
     "text": [
      "[[[1.47e+04, 0.753, 1.14, 1.19, 75.5, ... -0.165, -0.51, -0.0283, -0.692, -0.038]]]\n",
      "(68143, 32)\n"
     ]
    }
   ],
   "source": [
    "#Check the matchtracks are the correct shape\n",
    "print(matchedtracks[:, 0:1])\n",
    "print(np.shape(matchedtracks[:, :, 3]))"
   ]
  },
  {
   "cell_type": "code",
   "execution_count": 28,
   "metadata": {},
   "outputs": [
    {
     "name": "stdout",
     "output_type": "stream",
     "text": [
      "(68143, 32, 3)\n",
      "(68143, 32, 5)\n"
     ]
    },
    {
     "name": "stderr",
     "output_type": "stream",
     "text": [
      "/tmp/ipykernel_1230/1222727277.py:16: RuntimeWarning: overflow encountered in sinh\n",
      "  pzs = np.where(mask1 | mask3, pts, pts * np.sinh(etas))\n"
     ]
    }
   ],
   "source": [
    "# Convert the coordinates of the b jets and tracks to cartesian coordinates\n",
    "tracks_p = pt_eta_phi_2_px_py_pz_tracks(matchedtracks.to_numpy())\n",
    "bhads = pt_eta_phi_2_px_py_pz_jets(bhads)\n",
    "\n",
    "#Check the shape of the momenta of the tracks and the rest of the data is consistent\n",
    "print(np.shape(tracks_p))\n",
    "print(np.shape(matchedtracks[:, :, 3:]))\n",
    "\n",
    "#Combine the momenta of the tracks with the rest of the track features to form the track dataset\n",
    "tracks = np.concatenate([tracks_p,matchedtracks[:,:,3:].to_numpy()],axis = 2)"
   ]
  },
  {
   "cell_type": "code",
   "execution_count": 29,
   "metadata": {},
   "outputs": [
    {
     "name": "stdout",
     "output_type": "stream",
     "text": [
      "(68143, 32, 8)\n",
      "[6.20926450e+03 1.33553447e+04 1.21693980e+04 1.18753994e+00\n",
      " 7.55359192e+01 1.33110714e+00 8.57456207e+01 1.32391548e+00]\n",
      "[ 48855.56531144 128363.19160447 124938.01790683]\n"
     ]
    }
   ],
   "source": [
    "#Check that this is all the correct shape\n",
    "print(np.shape(tracks))\n",
    "print(tracks[0,0])\n",
    "print(bhads[0])"
   ]
  },
  {
   "cell_type": "code",
   "execution_count": 30,
   "id": "d6e5efc1",
   "metadata": {},
   "outputs": [],
   "source": [
    "Scaler = StandardScaler()\n",
    "Num_events,Num_tracks,Num_features = np.shape(tracks)\n",
    "tracks = np.reshape(tracks, newshape=(-1,Num_features))\n",
    "tracks = Scaler.fit_transform(tracks)\n",
    "tracks = np.reshape(tracks, newshape= (Num_events,Num_tracks,Num_features))"
   ]
  },
  {
   "cell_type": "code",
   "execution_count": 31,
   "id": "c88921ad",
   "metadata": {},
   "outputs": [
    {
     "name": "stdout",
     "output_type": "stream",
     "text": [
      "-45323.37521116479 45619.11585227443\n"
     ]
    }
   ],
   "source": [
    "print(np.quantile(bhads[:,0],0.25),np.quantile(bhads[:,0],0.75))"
   ]
  },
  {
   "cell_type": "code",
   "execution_count": 32,
   "id": "41fc51c9",
   "metadata": {},
   "outputs": [
    {
     "name": "stdout",
     "output_type": "stream",
     "text": [
      "-45850.21672252206 45385.04496221799\n"
     ]
    }
   ],
   "source": [
    "print(np.quantile(bhads[:,1],0.25),np.quantile(bhads[:,1],0.75))"
   ]
  },
  {
   "cell_type": "code",
   "execution_count": 33,
   "id": "009b5179",
   "metadata": {},
   "outputs": [
    {
     "name": "stdout",
     "output_type": "stream",
     "text": [
      "-71548.99755847821 71260.15837823163\n"
     ]
    }
   ],
   "source": [
    "print(np.quantile(bhads[:,2],0.25),np.quantile(bhads[:,2],0.75))"
   ]
  },
  {
   "cell_type": "code",
   "execution_count": 34,
   "id": "ff4db89a",
   "metadata": {},
   "outputs": [],
   "source": [
    "px_tracks = np.ma.masked_equal(tracks[:,:,0],-999)\n",
    "py_tracks = np.ma.masked_equal(tracks[:,:,1],-999)\n",
    "pz_tracks = np.ma.masked_equal(tracks[:,:,2],-999)\n",
    "sum_tracks = np.stack([np.sum(px_tracks,axis = 1), np.sum(py_tracks, axis = 1), np.sum(pz_tracks,axis = 1)], axis = -1)"
   ]
  },
  {
   "cell_type": "code",
   "execution_count": 35,
   "id": "b1658211",
   "metadata": {},
   "outputs": [],
   "source": [
    "# Split the data into training and validation sets.\n",
    "X_train, X_valid, y_train, y_valid = train_test_split(\n",
    "    sum_tracks, bhads, train_size=0.7, random_state=42)\n",
    "#Save the training and validation datasets."
   ]
  },
  {
   "cell_type": "code",
   "execution_count": 36,
   "id": "fa889737",
   "metadata": {},
   "outputs": [],
   "source": [
    "#Cyclical Learning Rate Scheduler:\n",
    "steps_per_epoch = len(X_train)\n",
    "clr = tfa.optimizers.CyclicalLearningRate(initial_learning_rate = 1e-3,\n",
    "maximal_learning_rate = 0.01,\n",
    "scale_fn = lambda x: 1/(2**(x-1)),\n",
    "step_size = 2.0 * steps_per_epoch\n",
    ")\n",
    "class TimingCallback(keras.callbacks.Callback):\n",
    "    def __init__(self, logs = {}):\n",
    "        self.logs = []\n",
    "    def on_epoch_begin(self, epoch, logs ={}):\n",
    "        self.starttime = timer()\n",
    "    def on_epoch_end(self, epoch, logs = {}):\n",
    "        self.logs.append(timer() - self.starttime)"
   ]
  },
  {
   "cell_type": "code",
   "execution_count": 37,
   "metadata": {},
   "outputs": [
    {
     "name": "stderr",
     "output_type": "stream",
     "text": [
      "2023-01-14 14:57:31.737833: I tensorflow/core/platform/cpu_feature_guard.cc:193] This TensorFlow binary is optimized with oneAPI Deep Neural Network Library (oneDNN) to use the following CPU instructions in performance-critical operations:  AVX2 AVX512F AVX512_VNNI FMA\n",
      "To enable them in other operations, rebuild TensorFlow with the appropriate compiler flags.\n"
     ]
    }
   ],
   "source": [
    "# Builds the deep neural network\n",
    "jet_layers = [64,64,64,64,64]\n",
    "DeepNet = JetNetwork(jet_layers,3,LR)"
   ]
  },
  {
   "cell_type": "code",
   "execution_count": 38,
   "metadata": {},
   "outputs": [
    {
     "name": "stdout",
     "output_type": "stream",
     "text": [
      "Model: \"model\"\n",
      "_________________________________________________________________\n",
      " Layer (type)                Output Shape              Param #   \n",
      "=================================================================\n",
      " input_1 (InputLayer)        [(None, 3)]               0         \n",
      "                                                                 \n",
      " dense (Dense)               (None, 64)                256       \n",
      "                                                                 \n",
      " batch_normalization (BatchN  (None, 64)               256       \n",
      " ormalization)                                                   \n",
      "                                                                 \n",
      " mc_dropout (MCDropout)      (None, 64)                0         \n",
      "                                                                 \n",
      " dense_1 (Dense)             (None, 64)                4160      \n",
      "                                                                 \n",
      " batch_normalization_1 (Batc  (None, 64)               256       \n",
      " hNormalization)                                                 \n",
      "                                                                 \n",
      " mc_dropout_1 (MCDropout)    (None, 64)                0         \n",
      "                                                                 \n",
      " dense_2 (Dense)             (None, 64)                4160      \n",
      "                                                                 \n",
      " batch_normalization_2 (Batc  (None, 64)               256       \n",
      " hNormalization)                                                 \n",
      "                                                                 \n",
      " mc_dropout_2 (MCDropout)    (None, 64)                0         \n",
      "                                                                 \n",
      " dense_3 (Dense)             (None, 64)                4160      \n",
      "                                                                 \n",
      " batch_normalization_3 (Batc  (None, 64)               256       \n",
      " hNormalization)                                                 \n",
      "                                                                 \n",
      " mc_dropout_3 (MCDropout)    (None, 64)                0         \n",
      "                                                                 \n",
      " dense_4 (Dense)             (None, 64)                4160      \n",
      "                                                                 \n",
      " batch_normalization_4 (Batc  (None, 64)               256       \n",
      " hNormalization)                                                 \n",
      "                                                                 \n",
      " mc_dropout_4 (MCDropout)    (None, 64)                0         \n",
      "                                                                 \n",
      " dense_5 (Dense)             (None, 9)                 585       \n",
      "                                                                 \n",
      "=================================================================\n",
      "Total params: 18,761\n",
      "Trainable params: 18,121\n",
      "Non-trainable params: 640\n",
      "_________________________________________________________________\n"
     ]
    }
   ],
   "source": [
    "#Summarises the Neural Network Architecture\n",
    "DeepNet.summary()\n"
   ]
  },
  {
   "cell_type": "code",
   "execution_count": 39,
   "metadata": {},
   "outputs": [
    {
     "name": "stdout",
     "output_type": "stream",
     "text": [
      "(20443, 3) (20443, 3)\n"
     ]
    }
   ],
   "source": [
    "#Check for the of the training and validation sets\n",
    "print(np.shape(X_valid), np.shape(y_valid))\n"
   ]
  },
  {
   "cell_type": "code",
   "execution_count": 40,
   "metadata": {},
   "outputs": [],
   "source": [
    "# Introduce early_stopping to prevent overfitting\n",
    "early_stopping = callbacks.EarlyStopping(\n",
    "    min_delta=0.001,  # The minimum amount of change to count as an improvement\n",
    "    patience=10,  # The number of epochs to wait before stopping\n",
    "    restore_best_weights=True,  # Keep the best weights\n",
    ")\n",
    "# Prevent spikes in the validation and training loss due to the gradient descent kicking the network out of a local minima\n",
    "reduce_learn_on_plateau = callbacks.ReduceLROnPlateau(\n",
    "    monitor='val_loss', factor=0.8, patience=5, min_lr=1e-6)\n",
    "\n",
    "# Save the weights of the model to allow reuse in future.\n",
    "path = \"/home/physics/phujdj/DeepLearningParticlePhysics/CheckPoints/DeepNetWeights&Biases-{epoch:04d}.ckpt\"\n",
    "checkpoint_dir = os.path.dirname(path)\n",
    "cp_callback = tf.keras.callbacks.ModelCheckpoint(filepath=path,\n",
    "                                                 save_weights_only=True, verbose=0, save_best_only=True)\n",
    "\n",
    "# Learning Scheduler:\n",
    "learning_scheduler = tf.keras.callbacks.LearningRateScheduler(exponential_decay_fn)\n"
   ]
  },
  {
   "cell_type": "code",
   "execution_count": 41,
   "metadata": {},
   "outputs": [
    {
     "name": "stdout",
     "output_type": "stream",
     "text": [
      "Epoch 1/300\n",
      "746/746 [==============================] - 5s 3ms/step - loss: 82415067136.0000 - Normal_Accuracy_Metric: 100.0051 - val_loss: inf - val_Normal_Accuracy_Metric: 99.9860 - lr: 0.0010\n",
      "Epoch 2/300\n",
      "746/746 [==============================] - 2s 3ms/step - loss: 47.4889 - Normal_Accuracy_Metric: 99.9978 - val_loss: inf - val_Normal_Accuracy_Metric: 99.9815 - lr: 0.0010\n",
      "Epoch 3/300\n",
      "746/746 [==============================] - 2s 3ms/step - loss: 43.1743 - Normal_Accuracy_Metric: 99.9924 - val_loss: 31807.3652 - val_Normal_Accuracy_Metric: 99.9878 - lr: 0.0010\n",
      "Epoch 4/300\n",
      "746/746 [==============================] - 2s 3ms/step - loss: 39.6260 - Normal_Accuracy_Metric: 99.9954 - val_loss: 38.7304 - val_Normal_Accuracy_Metric: 99.9961 - lr: 0.0010\n",
      "Epoch 5/300\n",
      "746/746 [==============================] - 2s 2ms/step - loss: 38.4081 - Normal_Accuracy_Metric: 99.9964 - val_loss: 37.9463 - val_Normal_Accuracy_Metric: 99.9852 - lr: 0.0010\n",
      "Epoch 6/300\n",
      "746/746 [==============================] - 2s 3ms/step - loss: 37.5588 - Normal_Accuracy_Metric: 99.9962 - val_loss: 37.2923 - val_Normal_Accuracy_Metric: 100.0023 - lr: 0.0010\n",
      "Epoch 7/300\n",
      "746/746 [==============================] - 2s 3ms/step - loss: 37.2746 - Normal_Accuracy_Metric: 100.0027 - val_loss: 37.0625 - val_Normal_Accuracy_Metric: 100.0004 - lr: 0.0010\n",
      "Epoch 8/300\n",
      "746/746 [==============================] - 2s 3ms/step - loss: 36.8907 - Normal_Accuracy_Metric: 100.0236 - val_loss: 36.7544 - val_Normal_Accuracy_Metric: 100.0133 - lr: 0.0010\n",
      "Epoch 9/300\n",
      "746/746 [==============================] - 2s 2ms/step - loss: 36.8563 - Normal_Accuracy_Metric: 100.0241 - val_loss: 36.8352 - val_Normal_Accuracy_Metric: 100.0092 - lr: 0.0010\n",
      "Epoch 10/300\n",
      "746/746 [==============================] - 2s 2ms/step - loss: 36.5849 - Normal_Accuracy_Metric: 100.0288 - val_loss: 2517.2363 - val_Normal_Accuracy_Metric: 100.0238 - lr: 0.0010\n",
      "Epoch 11/300\n",
      "746/746 [==============================] - 2s 3ms/step - loss: 36.4671 - Normal_Accuracy_Metric: 100.0369 - val_loss: 36.5779 - val_Normal_Accuracy_Metric: 100.0420 - lr: 0.0010\n",
      "Epoch 12/300\n",
      "746/746 [==============================] - 2s 3ms/step - loss: 36.4567 - Normal_Accuracy_Metric: 100.0660 - val_loss: 36.4906 - val_Normal_Accuracy_Metric: 100.0477 - lr: 0.0010\n",
      "Epoch 13/300\n",
      "746/746 [==============================] - 2s 3ms/step - loss: 36.3531 - Normal_Accuracy_Metric: 100.0969 - val_loss: 30373507497984.0000 - val_Normal_Accuracy_Metric: 100.0609 - lr: 0.0010\n",
      "Epoch 14/300\n",
      "746/746 [==============================] - 2s 2ms/step - loss: 36.2427 - Normal_Accuracy_Metric: 100.0850 - val_loss: 95543995630878720.0000 - val_Normal_Accuracy_Metric: 100.0642 - lr: 0.0010\n",
      "Epoch 15/300\n",
      "746/746 [==============================] - 2s 2ms/step - loss: 36.1728 - Normal_Accuracy_Metric: 100.0887 - val_loss: 26196692905427410855697317888.0000 - val_Normal_Accuracy_Metric: 100.1049 - lr: 0.0010\n",
      "Epoch 16/300\n",
      "746/746 [==============================] - 2s 3ms/step - loss: 36.1604 - Normal_Accuracy_Metric: 100.1428 - val_loss: 36.3767 - val_Normal_Accuracy_Metric: 100.1243 - lr: 0.0010\n",
      "Epoch 17/300\n",
      "746/746 [==============================] - 2s 2ms/step - loss: 36.1108 - Normal_Accuracy_Metric: 100.1172 - val_loss: 38.2595 - val_Normal_Accuracy_Metric: 100.1445 - lr: 0.0010\n",
      "Epoch 18/300\n",
      "746/746 [==============================] - 2s 2ms/step - loss: 36.0812 - Normal_Accuracy_Metric: 100.1657 - val_loss: 1234702303232.0000 - val_Normal_Accuracy_Metric: 100.1963 - lr: 0.0010\n",
      "Epoch 19/300\n",
      "746/746 [==============================] - 2s 2ms/step - loss: 36.0188 - Normal_Accuracy_Metric: 100.2643 - val_loss: 56259.5859 - val_Normal_Accuracy_Metric: 100.1811 - lr: 0.0010\n",
      "Epoch 20/300\n",
      "746/746 [==============================] - 2s 3ms/step - loss: 35.9529 - Normal_Accuracy_Metric: 100.3312 - val_loss: 36.0474 - val_Normal_Accuracy_Metric: 100.2812 - lr: 0.0010\n",
      "Epoch 21/300\n",
      "746/746 [==============================] - 2s 3ms/step - loss: 35.9701 - Normal_Accuracy_Metric: 100.3261 - val_loss: 183168480.0000 - val_Normal_Accuracy_Metric: 100.2971 - lr: 0.0010\n",
      "Epoch 22/300\n",
      "746/746 [==============================] - 2s 2ms/step - loss: 35.8664 - Normal_Accuracy_Metric: 100.4143 - val_loss: 364.5457 - val_Normal_Accuracy_Metric: 100.3395 - lr: 0.0010\n",
      "Epoch 23/300\n",
      "746/746 [==============================] - 2s 3ms/step - loss: 35.8512 - Normal_Accuracy_Metric: 100.4978 - val_loss: 5622278656.0000 - val_Normal_Accuracy_Metric: 100.4092 - lr: 0.0010\n",
      "Epoch 24/300\n",
      "746/746 [==============================] - 2s 3ms/step - loss: 35.8002 - Normal_Accuracy_Metric: 100.4989 - val_loss: 36.4176 - val_Normal_Accuracy_Metric: 100.4674 - lr: 0.0010\n",
      "Epoch 25/300\n",
      "746/746 [==============================] - 2s 2ms/step - loss: 35.7764 - Normal_Accuracy_Metric: 100.5525 - val_loss: inf - val_Normal_Accuracy_Metric: 100.5535 - lr: 0.0010\n",
      "Epoch 26/300\n",
      "746/746 [==============================] - 2s 3ms/step - loss: 35.7120 - Normal_Accuracy_Metric: 100.6915 - val_loss: 35.9760 - val_Normal_Accuracy_Metric: 100.6292 - lr: 8.0000e-04\n",
      "Epoch 27/300\n",
      "746/746 [==============================] - 2s 2ms/step - loss: 35.6922 - Normal_Accuracy_Metric: 100.7692 - val_loss: 36.4591 - val_Normal_Accuracy_Metric: 100.6487 - lr: 8.0000e-04\n",
      "Epoch 28/300\n",
      "746/746 [==============================] - 2s 3ms/step - loss: 35.6654 - Normal_Accuracy_Metric: 100.8414 - val_loss: 36.0407 - val_Normal_Accuracy_Metric: 100.7016 - lr: 8.0000e-04\n",
      "Epoch 29/300\n",
      "746/746 [==============================] - 2s 2ms/step - loss: 35.6613 - Normal_Accuracy_Metric: 100.9013 - val_loss: 36.0628 - val_Normal_Accuracy_Metric: 100.7644 - lr: 8.0000e-04\n",
      "Epoch 30/300\n",
      "746/746 [==============================] - 2s 2ms/step - loss: 35.6233 - Normal_Accuracy_Metric: 100.9828 - val_loss: 36.0535 - val_Normal_Accuracy_Metric: 100.8999 - lr: 8.0000e-04\n",
      "Epoch 31/300\n",
      "746/746 [==============================] - 2s 2ms/step - loss: 35.6051 - Normal_Accuracy_Metric: 101.0761 - val_loss: 2005.3534 - val_Normal_Accuracy_Metric: 100.8816 - lr: 8.0000e-04\n",
      "Epoch 32/300\n",
      "746/746 [==============================] - 2s 2ms/step - loss: 35.5756 - Normal_Accuracy_Metric: 101.0615 - val_loss: 189700947763273203187712.0000 - val_Normal_Accuracy_Metric: 100.9477 - lr: 6.4000e-04\n",
      "Epoch 33/300\n",
      "746/746 [==============================] - 2s 2ms/step - loss: 35.5285 - Normal_Accuracy_Metric: 101.2439 - val_loss: 233056587279046691949790625792.0000 - val_Normal_Accuracy_Metric: 101.0171 - lr: 6.4000e-04\n",
      "Epoch 34/300\n",
      "746/746 [==============================] - 2s 3ms/step - loss: 35.5570 - Normal_Accuracy_Metric: 101.2628 - val_loss: 35.4259 - val_Normal_Accuracy_Metric: 101.0989 - lr: 6.4000e-04\n",
      "Epoch 35/300\n",
      "746/746 [==============================] - 2s 3ms/step - loss: 35.5055 - Normal_Accuracy_Metric: 101.3098 - val_loss: 3385339.7500 - val_Normal_Accuracy_Metric: 101.1796 - lr: 6.4000e-04\n",
      "Epoch 36/300\n",
      "746/746 [==============================] - 2s 2ms/step - loss: 35.5040 - Normal_Accuracy_Metric: 101.4219 - val_loss: 35.4292 - val_Normal_Accuracy_Metric: 101.1872 - lr: 6.4000e-04\n",
      "Epoch 37/300\n",
      "746/746 [==============================] - 2s 3ms/step - loss: 35.4843 - Normal_Accuracy_Metric: 101.3806 - val_loss: 37.9972 - val_Normal_Accuracy_Metric: 101.3087 - lr: 6.4000e-04\n",
      "Epoch 38/300\n",
      "746/746 [==============================] - 2s 2ms/step - loss: 35.4681 - Normal_Accuracy_Metric: 101.5115 - val_loss: 35.4515 - val_Normal_Accuracy_Metric: 101.3177 - lr: 6.4000e-04\n",
      "Epoch 39/300\n",
      "746/746 [==============================] - 2s 3ms/step - loss: 35.4517 - Normal_Accuracy_Metric: 101.5282 - val_loss: 75454.8281 - val_Normal_Accuracy_Metric: 101.3524 - lr: 6.4000e-04\n",
      "Epoch 40/300\n",
      "746/746 [==============================] - 2s 3ms/step - loss: 35.4154 - Normal_Accuracy_Metric: 101.6824 - val_loss: 35.2903 - val_Normal_Accuracy_Metric: 101.3680 - lr: 5.1200e-04\n",
      "Epoch 41/300\n",
      "746/746 [==============================] - 2s 2ms/step - loss: 35.4135 - Normal_Accuracy_Metric: 101.7889 - val_loss: 35.3565 - val_Normal_Accuracy_Metric: 101.4218 - lr: 5.1200e-04\n",
      "Epoch 42/300\n",
      "746/746 [==============================] - 2s 3ms/step - loss: 35.4248 - Normal_Accuracy_Metric: 101.7906 - val_loss: 35.3918 - val_Normal_Accuracy_Metric: 101.5301 - lr: 5.1200e-04\n",
      "Epoch 43/300\n",
      "746/746 [==============================] - 2s 2ms/step - loss: 35.4011 - Normal_Accuracy_Metric: 101.7045 - val_loss: 35.8553 - val_Normal_Accuracy_Metric: 101.4909 - lr: 5.1200e-04\n",
      "Epoch 44/300\n",
      "746/746 [==============================] - 2s 3ms/step - loss: 35.3670 - Normal_Accuracy_Metric: 101.8800 - val_loss: 36.1609 - val_Normal_Accuracy_Metric: 101.5941 - lr: 5.1200e-04\n",
      "Epoch 45/300\n",
      "746/746 [==============================] - 2s 3ms/step - loss: 35.3719 - Normal_Accuracy_Metric: 101.8859 - val_loss: 88.0955 - val_Normal_Accuracy_Metric: 101.5393 - lr: 5.1200e-04\n",
      "Epoch 46/300\n",
      "746/746 [==============================] - 2s 3ms/step - loss: 35.3547 - Normal_Accuracy_Metric: 102.0313 - val_loss: 35.8816 - val_Normal_Accuracy_Metric: 101.8151 - lr: 4.0960e-04\n",
      "Epoch 47/300\n",
      "746/746 [==============================] - 2s 3ms/step - loss: 35.3365 - Normal_Accuracy_Metric: 101.9928 - val_loss: 35.5021 - val_Normal_Accuracy_Metric: 101.6684 - lr: 4.0960e-04\n",
      "Epoch 48/300\n",
      "746/746 [==============================] - 2s 3ms/step - loss: 35.3484 - Normal_Accuracy_Metric: 102.1100 - val_loss: 40919.5469 - val_Normal_Accuracy_Metric: 101.7762 - lr: 4.0960e-04\n",
      "Epoch 49/300\n",
      "746/746 [==============================] - 2s 3ms/step - loss: 35.3252 - Normal_Accuracy_Metric: 102.2149 - val_loss: 43.7860 - val_Normal_Accuracy_Metric: 101.7684 - lr: 4.0960e-04\n",
      "Epoch 50/300\n",
      "746/746 [==============================] - 2s 3ms/step - loss: 35.3083 - Normal_Accuracy_Metric: 102.2677 - val_loss: inf - val_Normal_Accuracy_Metric: 101.9168 - lr: 4.0960e-04\n"
     ]
    }
   ],
   "source": [
    "# Train the neural network\n",
    "history = DeepNet.fit(\n",
    "    X_train, y_train,\n",
    "    validation_data=(X_valid, y_valid),\n",
    "    batch_size=BATCHSIZE,\n",
    "    epochs=EPOCHS,\n",
    "    callbacks=[early_stopping, reduce_learn_on_plateau,\n",
    "               cp_callback]  # Enter call back\n",
    ")\n"
   ]
  },
  {
   "cell_type": "code",
   "execution_count": 42,
   "metadata": {},
   "outputs": [
    {
     "data": {
      "text/plain": [
       "<AxesSubplot:>"
      ]
     },
     "execution_count": 42,
     "metadata": {},
     "output_type": "execute_result"
    },
    {
     "data": {
      "image/png": "[encoded data removed]",
      "text/plain": [
       "<Figure size 432x288 with 1 Axes>"
      ]
     },
     "metadata": {
      "needs_background": "light"
     },
     "output_type": "display_data"
    }
   ],
   "source": [
    "# Plot the loss and validation curves vs epoch\n",
    "history_df = pd.DataFrame(history.history)\n",
    "np.log(history_df.loc[:, [\"loss\", \"val_loss\"]]).plot()\n"
   ]
  },
  {
   "cell_type": "code",
   "execution_count": 43,
   "metadata": {},
   "outputs": [
    {
     "name": "stdout",
     "output_type": "stream",
     "text": [
      "Minimum validation loss: 35.290260314941406\n"
     ]
    }
   ],
   "source": [
    "# Output to the console the minimum epoch\n",
    "print(\"Minimum validation loss: {}\".format(history_df[\"val_loss\"].min()))"
   ]
  },
  {
   "cell_type": "code",
   "execution_count": 44,
   "id": "f83d29eb",
   "metadata": {},
   "outputs": [],
   "source": [
    "predictions_sample = np.stack([DeepNet(sum_tracks) for sample in range(100)])\n",
    "predictions  = np.mean(predictions_sample,axis = 0)"
   ]
  },
  {
   "cell_type": "code",
   "execution_count": 45,
   "id": "65c5a429",
   "metadata": {},
   "outputs": [
    {
     "name": "stdout",
     "output_type": "stream",
     "text": [
      "[-443.55652   -239.02147    165.56625     10.812364    10.94656\n",
      "   12.863838     1.1041923   -8.674091    -5.4290395]\n",
      "[ 14105.86372119 -28270.27862345   3567.73767912]\n",
      "154.96008 587.5199\n",
      "-2273167.0883596055 1827356.5267840482\n"
     ]
    }
   ],
   "source": [
    "#Predict the momentas for a single jet and determine the loss\n",
    "print(predictions[3])\n",
    "print(bhads[3])\n",
    "print(np.min(predictions[:,2]),np.max(predictions[:,2]))\n",
    "print(np.min(bhads[:,2]),np.max(bhads[:,2]))\n",
    "# Calculate the individual loss for each feature\n",
    "#LogNormal_Loss_Function_Check(bhads[0],DeepNet.predict(tracks[0]))"
   ]
  },
  {
   "cell_type": "code",
   "execution_count": 46,
   "metadata": {},
   "outputs": [
    {
     "name": "stdout",
     "output_type": "stream",
     "text": [
      "2130/2130 - 2s - loss: 35.2974 - Normal_Accuracy_Metric: 101.6003 - 2s/epoch - 816us/step\n",
      "The Loaded DeepNet has loss:  [35.29740905761719, 101.60031127929688] 3\n"
     ]
    }
   ],
   "source": [
    "#Evaluate the entire performance of the model\n",
    "loss = DeepNet.evaluate(sum_tracks,bhads,verbose = 2)\n",
    "print(\"The Loaded DeepNet has loss: \", loss,3)"
   ]
  },
  {
   "cell_type": "code",
   "execution_count": 60,
   "id": "081006a1",
   "metadata": {},
   "outputs": [
    {
     "data": {
      "image/png": "[encoded data removed]",
      "text/plain": [
       "<Figure size 864x864 with 1 Axes>"
      ]
     },
     "metadata": {
      "needs_background": "light"
     },
     "output_type": "display_data"
    }
   ],
   "source": [
    "fig,ax = plt.subplots(figsize = (12,12))\n",
    "sns.scatterplot(\n",
    "    x = bhads[:,0],\n",
    "    y = predictions[:,0],\n",
    "    color = \"violet\"\n",
    ")\n",
    "ax.set_title(\"Scatterplot of the true vs pred Y momenta\")\n",
    "ax.set_xlabel(\"The true Y momenta of the tracks from each event\")\n",
    "ax.set_ylim(-1000,-250)\n",
    "ax.set_ylabel(\"The predicted Y momenta of b hadron jets\")\n",
    "plt.show()"
   ]
  },
  {
   "cell_type": "code",
   "execution_count": 48,
   "id": "bc0a3132",
   "metadata": {},
   "outputs": [
    {
     "name": "stdout",
     "output_type": "stream",
     "text": [
      "154.96008 587.5199\n",
      "-2273167.0883596055 1827356.5267840482\n",
      "Mean and standard deviation\n",
      "The mean/std for the ppred - ptrue:  849.1501401295428 197673.3967559112\n",
      "The mean/std for the pull 0.029808260193919557 0.7358970280620576\n"
     ]
    }
   ],
   "source": [
    "#Assesses the error and pull in the transverse momentum predictions by the neural network\n",
    "error = (predictions[:, 2] - bhads[:,2])\n",
    "pull = error/np.exp(predictions[:, 5])\n",
    "\n",
    "# Compares and constrasts the true and predicted momentums\n",
    "print(np.min(predictions[:,2]),np.max(predictions[:,2]))\n",
    "print(np.min(bhads[:,2]), np.max(bhads[:,2]))\n",
    "\n",
    "print(\"Mean and standard deviation\")\n",
    "print(\"The mean/std for the ppred - ptrue: \", np.mean(error), np.std(error))\n",
    "print(\"The mean/std for the pull\", np.mean(pull), np.std(pull))"
   ]
  },
  {
   "cell_type": "code",
   "execution_count": 49,
   "id": "53fc7a3e",
   "metadata": {},
   "outputs": [],
   "source": [
    "%matplotlib inline\n",
    "plt.rcParams['axes.facecolor'] = 'white'\n",
    "plt.rcParams['savefig.facecolor'] = 'red'\n",
    "plt.rc('text',usetex = False)\n",
    "plt.rc('font',family = 'Times New Roman')\n",
    "%config InlineBackend.print_figure_kwargs={'facecolor' : \"w\"}"
   ]
  },
  {
   "cell_type": "code",
   "execution_count": 50,
   "id": "e09949ec",
   "metadata": {},
   "outputs": [
    {
     "name": "stderr",
     "output_type": "stream",
     "text": [
      "/home/physics/phujdj/DeepLearningParticlePhysics/hffrag.py:209: RuntimeWarning: invalid value encountered in true_divide\n",
      "  ys = ys / s\n",
      "/home/physics/phujdj/DeepLearningParticlePhysics/hffrag.py:210: RuntimeWarning: invalid value encountered in true_divide\n",
      "  yerrs = yerrs / s\n",
      "/home/physics/phujdj/anaconda3/lib/python3.9/site-packages/numpy/core/_asarray.py:102: UserWarning: Warning: converting a masked element to nan.\n",
      "  return array(a, dtype, copy=False, order=order)\n"
     ]
    },
    {
     "data": {
      "image/png": "[encoded data removed]",
      "text/plain": [
       "<Figure size 576x576 with 1 Axes>"
      ]
     },
     "execution_count": 50,
     "metadata": {},
     "output_type": "execute_result"
    }
   ],
   "source": [
    "binneddensity(predictions[:,2], fixedbinning(-4,4,100),xlabel = \"Dist\")"
   ]
  },
  {
   "cell_type": "code",
   "execution_count": 51,
   "id": "8e465687",
   "metadata": {},
   "outputs": [],
   "source": [
    "from sklearn.feature_selection import mutual_info_regression\n",
    "def make_mi_scores(X,y):\n",
    "    mi_scores = mutual_info_regression(X,y)\n",
    "    mi_scores = pd.Series(mi_scores,name = \"MI Scores\")\n",
    "    mi_scores = mi_scores.sort_values(ascending = False)\n",
    "    return mi_scores\n",
    "def plot_mi_scores(scores):\n",
    "    scores = scores.sort_values(ascending = True)\n",
    "    width = np.arange(len(scores))\n",
    "    ticks = list(scores.index)\n",
    "    plt.barh(width, scores)\n",
    "    plt.yticks(width,ticks)\n",
    "    plt.title(\"Mutual Informarion Scores\")"
   ]
  },
  {
   "cell_type": "code",
   "execution_count": 52,
   "id": "badf6edf",
   "metadata": {},
   "outputs": [
    {
     "name": "stdout",
     "output_type": "stream",
     "text": [
      "(68143, 3)\n"
     ]
    }
   ],
   "source": [
    "print(sum_tracks.shape)"
   ]
  },
  {
   "cell_type": "code",
   "execution_count": 59,
   "id": "d440b64c",
   "metadata": {},
   "outputs": [
    {
     "data": {
      "text/plain": [
       "2    1.443711\n",
       "0    0.049606\n",
       "1    0.048121\n",
       "Name: MI Scores, dtype: float64"
      ]
     },
     "execution_count": 59,
     "metadata": {},
     "output_type": "execute_result"
    }
   ],
   "source": [
    "mi_scores_py_momentum =  make_mi_scores(sum_tracks, bhads[:,2])\n",
    "mi_scores_py_momentum"
   ]
  }
 ],
 "metadata": {
  "kernelspec": {
   "display_name": "Python 3",
   "language": "python",
   "name": "python3"
  },
  "language_info": {
   "codemirror_mode": {
    "name": "ipython",
    "version": 3
   },
   "file_extension": ".py",
   "mimetype": "text/x-python",
   "name": "python",
   "nbconvert_exporter": "python",
   "pygments_lexer": "ipython3",
   "version": "3.9.12 (main, Apr  5 2022, 06:56:58) \n[GCC 7.5.0]"
  },
  "vscode": {
   "interpreter": {
    "hash": "a05ddcd8ffea9a6a7d2e914b733df5445b717626b5b8c92c04bfc4eb6e7f5cba"
   }
  }
 },
 "nbformat": 4,
 "nbformat_minor": 5
}
