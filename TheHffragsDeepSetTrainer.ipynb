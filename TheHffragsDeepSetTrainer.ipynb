{
 "cells": [
  {
   "cell_type": "code",
   "execution_count": 2,
   "metadata": {},
   "outputs": [
    {
     "ename": "AttributeError",
     "evalue": "module 'numpy' has no attribute 'ndarray'",
     "output_type": "error",
     "traceback": [
      "\u001b[0;31m---------------------------------------------------------------------------\u001b[0m",
      "\u001b[0;31mAttributeError\u001b[0m                            Traceback (most recent call last)",
      "\u001b[0;32m/tmp/ipykernel_26881/3683453684.py\u001b[0m in \u001b[0;36m<module>\u001b[0;34m\u001b[0m\n\u001b[1;32m     10\u001b[0m \u001b[0;31m# Import relevant modules\u001b[0m\u001b[0;34m\u001b[0m\u001b[0;34m\u001b[0m\u001b[0m\n\u001b[1;32m     11\u001b[0m \u001b[0;32mimport\u001b[0m \u001b[0mos\u001b[0m\u001b[0;34m\u001b[0m\u001b[0;34m\u001b[0m\u001b[0m\n\u001b[0;32m---> 12\u001b[0;31m \u001b[0;32mimport\u001b[0m \u001b[0mnumpy\u001b[0m \u001b[0;32mas\u001b[0m \u001b[0mnp\u001b[0m\u001b[0;34m\u001b[0m\u001b[0;34m\u001b[0m\u001b[0m\n\u001b[0m\u001b[1;32m     13\u001b[0m \u001b[0;32mimport\u001b[0m \u001b[0mseaborn\u001b[0m \u001b[0;32mas\u001b[0m \u001b[0msns\u001b[0m\u001b[0;34m\u001b[0m\u001b[0;34m\u001b[0m\u001b[0m\n\u001b[1;32m     14\u001b[0m \u001b[0;32mimport\u001b[0m \u001b[0mwandb\u001b[0m\u001b[0;34m\u001b[0m\u001b[0;34m\u001b[0m\u001b[0m\n",
      "\u001b[0;32m~/anaconda3/lib/python3.9/site-packages/numpy/__init__.py\u001b[0m in \u001b[0;36m<module>\u001b[0;34m\u001b[0m\n\u001b[1;32m    216\u001b[0m     \u001b[0;32mfrom\u001b[0m \u001b[0;34m.\u001b[0m\u001b[0mcore\u001b[0m \u001b[0;32mimport\u001b[0m \u001b[0mround\u001b[0m\u001b[0;34m,\u001b[0m \u001b[0mabs\u001b[0m\u001b[0;34m,\u001b[0m \u001b[0mmax\u001b[0m\u001b[0;34m,\u001b[0m \u001b[0mmin\u001b[0m\u001b[0;34m\u001b[0m\u001b[0;34m\u001b[0m\u001b[0m\n\u001b[1;32m    217\u001b[0m     \u001b[0;31m# now that numpy modules are imported, can initialize limits\u001b[0m\u001b[0;34m\u001b[0m\u001b[0;34m\u001b[0m\u001b[0m\n\u001b[0;32m--> 218\u001b[0;31m     \u001b[0mcore\u001b[0m\u001b[0;34m.\u001b[0m\u001b[0mgetlimits\u001b[0m\u001b[0;34m.\u001b[0m\u001b[0m_register_known_types\u001b[0m\u001b[0;34m(\u001b[0m\u001b[0;34m)\u001b[0m\u001b[0;34m\u001b[0m\u001b[0;34m\u001b[0m\u001b[0m\n\u001b[0m\u001b[1;32m    219\u001b[0m \u001b[0;34m\u001b[0m\u001b[0m\n\u001b[1;32m    220\u001b[0m     \u001b[0m__all__\u001b[0m\u001b[0;34m.\u001b[0m\u001b[0mextend\u001b[0m\u001b[0;34m(\u001b[0m\u001b[0;34m[\u001b[0m\u001b[0;34m'__version__'\u001b[0m\u001b[0;34m,\u001b[0m \u001b[0;34m'show_config'\u001b[0m\u001b[0;34m]\u001b[0m\u001b[0;34m)\u001b[0m\u001b[0;34m\u001b[0m\u001b[0;34m\u001b[0m\u001b[0m\n",
      "\u001b[0;32m~/anaconda3/lib/python3.9/site-packages/numpy/core/getlimits.py\u001b[0m in \u001b[0;36m_register_known_types\u001b[0;34m()\u001b[0m\n\u001b[1;32m    160\u001b[0m     \u001b[0;32mwith\u001b[0m \u001b[0mnumeric\u001b[0m\u001b[0;34m.\u001b[0m\u001b[0merrstate\u001b[0m\u001b[0;34m(\u001b[0m\u001b[0mall\u001b[0m\u001b[0;34m=\u001b[0m\u001b[0;34m'ignore'\u001b[0m\u001b[0;34m)\u001b[0m\u001b[0;34m:\u001b[0m\u001b[0;34m\u001b[0m\u001b[0;34m\u001b[0m\u001b[0m\n\u001b[1;32m    161\u001b[0m         \u001b[0mhuge_f128\u001b[0m \u001b[0;34m=\u001b[0m \u001b[0;34m(\u001b[0m\u001b[0mld\u001b[0m\u001b[0;34m(\u001b[0m\u001b[0;36m1\u001b[0m\u001b[0;34m)\u001b[0m \u001b[0;34m-\u001b[0m \u001b[0mepsneg_f128\u001b[0m\u001b[0;34m)\u001b[0m \u001b[0;34m/\u001b[0m \u001b[0mtiny_f128\u001b[0m \u001b[0;34m*\u001b[0m \u001b[0mld\u001b[0m\u001b[0;34m(\u001b[0m\u001b[0;36m4\u001b[0m\u001b[0;34m)\u001b[0m\u001b[0;34m\u001b[0m\u001b[0;34m\u001b[0m\u001b[0m\n\u001b[0;32m--> 162\u001b[0;31m     float128_ma = MachArLike(ld,\n\u001b[0m\u001b[1;32m    163\u001b[0m                              \u001b[0mmachep\u001b[0m\u001b[0;34m=\u001b[0m\u001b[0;34m-\u001b[0m\u001b[0;36m112\u001b[0m\u001b[0;34m,\u001b[0m\u001b[0;34m\u001b[0m\u001b[0;34m\u001b[0m\u001b[0m\n\u001b[1;32m    164\u001b[0m                              \u001b[0mnegep\u001b[0m\u001b[0;34m=\u001b[0m\u001b[0;34m-\u001b[0m\u001b[0;36m113\u001b[0m\u001b[0;34m,\u001b[0m\u001b[0;34m\u001b[0m\u001b[0;34m\u001b[0m\u001b[0m\n",
      "\u001b[0;32m~/anaconda3/lib/python3.9/site-packages/numpy/core/getlimits.py\u001b[0m in \u001b[0;36m__init__\u001b[0;34m(self, ftype, eps, epsneg, huge, tiny, ibeta, **kwargs)\u001b[0m\n\u001b[1;32m     51\u001b[0m         \u001b[0mself\u001b[0m\u001b[0;34m.\u001b[0m\u001b[0mprecision\u001b[0m \u001b[0;34m=\u001b[0m \u001b[0mint\u001b[0m\u001b[0;34m(\u001b[0m\u001b[0;34m-\u001b[0m\u001b[0mlog10\u001b[0m\u001b[0;34m(\u001b[0m\u001b[0mself\u001b[0m\u001b[0;34m.\u001b[0m\u001b[0meps\u001b[0m\u001b[0;34m)\u001b[0m\u001b[0;34m)\u001b[0m\u001b[0;34m\u001b[0m\u001b[0;34m\u001b[0m\u001b[0m\n\u001b[1;32m     52\u001b[0m         \u001b[0mself\u001b[0m\u001b[0;34m.\u001b[0m\u001b[0mresolution\u001b[0m \u001b[0;34m=\u001b[0m \u001b[0mfloat_to_float\u001b[0m\u001b[0;34m(\u001b[0m\u001b[0mfloat_conv\u001b[0m\u001b[0;34m(\u001b[0m\u001b[0;36m10\u001b[0m\u001b[0;34m)\u001b[0m \u001b[0;34m**\u001b[0m \u001b[0;34m(\u001b[0m\u001b[0;34m-\u001b[0m\u001b[0mself\u001b[0m\u001b[0;34m.\u001b[0m\u001b[0mprecision\u001b[0m\u001b[0;34m)\u001b[0m\u001b[0;34m)\u001b[0m\u001b[0;34m\u001b[0m\u001b[0;34m\u001b[0m\u001b[0m\n\u001b[0;32m---> 53\u001b[0;31m         \u001b[0mself\u001b[0m\u001b[0;34m.\u001b[0m\u001b[0m_str_eps\u001b[0m \u001b[0;34m=\u001b[0m \u001b[0mfloat_to_str\u001b[0m\u001b[0;34m(\u001b[0m\u001b[0mself\u001b[0m\u001b[0;34m.\u001b[0m\u001b[0meps\u001b[0m\u001b[0;34m)\u001b[0m\u001b[0;34m\u001b[0m\u001b[0;34m\u001b[0m\u001b[0m\n\u001b[0m\u001b[1;32m     54\u001b[0m         \u001b[0mself\u001b[0m\u001b[0;34m.\u001b[0m\u001b[0m_str_epsneg\u001b[0m \u001b[0;34m=\u001b[0m \u001b[0mfloat_to_str\u001b[0m\u001b[0;34m(\u001b[0m\u001b[0mself\u001b[0m\u001b[0;34m.\u001b[0m\u001b[0mepsneg\u001b[0m\u001b[0;34m)\u001b[0m\u001b[0;34m\u001b[0m\u001b[0;34m\u001b[0m\u001b[0m\n\u001b[1;32m     55\u001b[0m         \u001b[0mself\u001b[0m\u001b[0;34m.\u001b[0m\u001b[0m_str_xmin\u001b[0m \u001b[0;34m=\u001b[0m \u001b[0mfloat_to_str\u001b[0m\u001b[0;34m(\u001b[0m\u001b[0mself\u001b[0m\u001b[0;34m.\u001b[0m\u001b[0mxmin\u001b[0m\u001b[0;34m)\u001b[0m\u001b[0;34m\u001b[0m\u001b[0;34m\u001b[0m\u001b[0m\n",
      "\u001b[0;32m~/anaconda3/lib/python3.9/site-packages/numpy/core/getlimits.py\u001b[0m in \u001b[0;36m<lambda>\u001b[0;34m(v)\u001b[0m\n\u001b[1;32m     39\u001b[0m         \u001b[0mfloat_conv\u001b[0m \u001b[0;34m=\u001b[0m \u001b[0;32mlambda\u001b[0m \u001b[0mv\u001b[0m\u001b[0;34m:\u001b[0m \u001b[0marray\u001b[0m\u001b[0;34m(\u001b[0m\u001b[0;34m[\u001b[0m\u001b[0mv\u001b[0m\u001b[0;34m]\u001b[0m\u001b[0;34m,\u001b[0m \u001b[0mftype\u001b[0m\u001b[0;34m)\u001b[0m\u001b[0;34m\u001b[0m\u001b[0;34m\u001b[0m\u001b[0m\n\u001b[1;32m     40\u001b[0m         \u001b[0mfloat_to_float\u001b[0m \u001b[0;34m=\u001b[0m \u001b[0;32mlambda\u001b[0m \u001b[0mv\u001b[0m \u001b[0;34m:\u001b[0m \u001b[0m_fr1\u001b[0m\u001b[0;34m(\u001b[0m\u001b[0mfloat_conv\u001b[0m\u001b[0;34m(\u001b[0m\u001b[0mv\u001b[0m\u001b[0;34m)\u001b[0m\u001b[0;34m)\u001b[0m\u001b[0;34m\u001b[0m\u001b[0;34m\u001b[0m\u001b[0m\n\u001b[0;32m---> 41\u001b[0;31m         \u001b[0mfloat_to_str\u001b[0m \u001b[0;34m=\u001b[0m \u001b[0;32mlambda\u001b[0m \u001b[0mv\u001b[0m\u001b[0;34m:\u001b[0m \u001b[0;34m(\u001b[0m\u001b[0mparams\u001b[0m\u001b[0;34m[\u001b[0m\u001b[0;34m'fmt'\u001b[0m\u001b[0;34m]\u001b[0m \u001b[0;34m%\u001b[0m \u001b[0marray\u001b[0m\u001b[0;34m(\u001b[0m\u001b[0m_fr0\u001b[0m\u001b[0;34m(\u001b[0m\u001b[0mv\u001b[0m\u001b[0;34m)\u001b[0m\u001b[0;34m[\u001b[0m\u001b[0;36m0\u001b[0m\u001b[0;34m]\u001b[0m\u001b[0;34m,\u001b[0m \u001b[0mftype\u001b[0m\u001b[0;34m)\u001b[0m\u001b[0;34m)\u001b[0m\u001b[0;34m\u001b[0m\u001b[0;34m\u001b[0m\u001b[0m\n\u001b[0m\u001b[1;32m     42\u001b[0m \u001b[0;34m\u001b[0m\u001b[0m\n\u001b[1;32m     43\u001b[0m         \u001b[0mself\u001b[0m\u001b[0;34m.\u001b[0m\u001b[0mtitle\u001b[0m \u001b[0;34m=\u001b[0m \u001b[0mparams\u001b[0m\u001b[0;34m[\u001b[0m\u001b[0;34m'title'\u001b[0m\u001b[0;34m]\u001b[0m\u001b[0;34m\u001b[0m\u001b[0;34m\u001b[0m\u001b[0m\n",
      "\u001b[0;32m~/anaconda3/lib/python3.9/site-packages/numpy/core/arrayprint.py\u001b[0m in \u001b[0;36m_array_str_implementation\u001b[0;34m(a, max_line_width, precision, suppress_small, array2string)\u001b[0m\n\u001b[1;32m   1513\u001b[0m         \u001b[0;31m# for which indexing with () returns a 0d instead of a scalar by using\u001b[0m\u001b[0;34m\u001b[0m\u001b[0;34m\u001b[0m\u001b[0m\n\u001b[1;32m   1514\u001b[0m         \u001b[0;31m# ndarray's getindex. Also guard against recursive 0d object arrays.\u001b[0m\u001b[0;34m\u001b[0m\u001b[0;34m\u001b[0m\u001b[0m\n\u001b[0;32m-> 1515\u001b[0;31m         \u001b[0;32mreturn\u001b[0m \u001b[0m_guarded_repr_or_str\u001b[0m\u001b[0;34m(\u001b[0m\u001b[0mnp\u001b[0m\u001b[0;34m.\u001b[0m\u001b[0mndarray\u001b[0m\u001b[0;34m.\u001b[0m\u001b[0m__getitem__\u001b[0m\u001b[0;34m(\u001b[0m\u001b[0ma\u001b[0m\u001b[0;34m,\u001b[0m \u001b[0;34m(\u001b[0m\u001b[0;34m)\u001b[0m\u001b[0;34m)\u001b[0m\u001b[0;34m)\u001b[0m\u001b[0;34m\u001b[0m\u001b[0;34m\u001b[0m\u001b[0m\n\u001b[0m\u001b[1;32m   1516\u001b[0m \u001b[0;34m\u001b[0m\u001b[0m\n\u001b[1;32m   1517\u001b[0m     \u001b[0;32mreturn\u001b[0m \u001b[0marray2string\u001b[0m\u001b[0;34m(\u001b[0m\u001b[0ma\u001b[0m\u001b[0;34m,\u001b[0m \u001b[0mmax_line_width\u001b[0m\u001b[0;34m,\u001b[0m \u001b[0mprecision\u001b[0m\u001b[0;34m,\u001b[0m \u001b[0msuppress_small\u001b[0m\u001b[0;34m,\u001b[0m \u001b[0;34m' '\u001b[0m\u001b[0;34m,\u001b[0m \u001b[0;34m\"\"\u001b[0m\u001b[0;34m)\u001b[0m\u001b[0;34m\u001b[0m\u001b[0;34m\u001b[0m\u001b[0m\n",
      "\u001b[0;31mAttributeError\u001b[0m: module 'numpy' has no attribute 'ndarray'"
     ]
    }
   ],
   "source": [
    "\"\"\"\n",
    "*Filename: SecondaryVertexDeepSetTrainer\n",
    "*Description: This jupyter notebook is an extension of the ProjectorTrainer, it trains the same\n",
    "*residual deep sets neural network architecture as the projector trainer with the additional\n",
    "*features as well. In addition it adds the secondary vertex displacement of the b_jets as an\n",
    "*additional target for the network to converge to.\n",
    "Date: 16/02/2023\n",
    "Author: Kaylen Smith Darnbrook\n",
    "\"\"\"\n",
    "# Import relevant modules\n",
    "import os\n",
    "import numpy as np\n",
    "import seaborn as sns\n",
    "import wandb\n",
    "#from wandb.keras import WandbCallback\n",
    "from keras import callbacks\n",
    "import keras\n",
    "import DeepSetNeuralNetArchitecture as DSNNA\n",
    "from DeepSetNeuralNetArchitecture import LogNormal_Loss_Function\n",
    "from DeepSetNeuralNetArchitecture import Mean_Squared_Error\n",
    "from HffragDeepSetsProjectionMultivariate2 import DeepSetsProjection\n",
    "from sklearn.feature_selection import mutual_info_regression\n",
    "import keras.backend as k\n",
    "import uproot\n",
    "import awkward as ak\n",
    "import sklearn as sk\n",
    "from numpy.lib.recfunctions import structured_to_unstructured\n",
    "from sklearn.model_selection import train_test_split\n",
    "from sklearn.decomposition import PCA\n",
    "import tensorflow as tf\n",
    "from sklearn.preprocessing import StandardScaler\n",
    "import pandas as pd\n",
    "from hffrag import fixedbinning\n",
    "from hffrag import binneddensity\n",
    "from keras.utils.vis_utils import plot_model\n",
    "from timeit import default_timer as timer\n",
    "import matplotlib.pyplot as plt\n",
    "%matplotlib inline"
   ]
  },
  {
   "cell_type": "code",
   "execution_count": null,
   "metadata": {},
   "outputs": [],
   "source": [
    "#Format the style and format of the matplotlib plots\n",
    "plt.style.use(\"default\")\n",
    "plt.rcParams['axes.facecolor'] = 'white'\n",
    "plt.rcParams['savefig.facecolor'] = 'white'\n",
    "plt.rc('text',usetex = False)\n",
    "plt.rc('font',family = 'Times New Roman')"
   ]
  },
  {
   "cell_type": "code",
   "execution_count": null,
   "metadata": {},
   "outputs": [],
   "source": [
    "#Format the style and format of the matplotlib plots\n",
    "plt.style.use(\"default\")\n",
    "plt.rcParams['axes.facecolor'] = 'white'\n",
    "plt.rcParams['savefig.facecolor'] = 'white'\n",
    "plt.rc('text',usetex = False)\n",
    "plt.rc('font',family = 'Times New Roman')"
   ]
  },
  {
   "cell_type": "code",
   "execution_count": null,
   "metadata": {},
   "outputs": [],
   "source": [
    "# The data is being stored in a tree datastructure\n",
    "# We access the charm root using this command\n",
    "tree = uproot.open(\"/storage/epp2/phswmv/data/hffrag/hffrag.root:CharmAnalysis\")"
   ]
  },
  {
   "cell_type": "code",
   "execution_count": null,
   "metadata": {},
   "outputs": [],
   "source": [
    "# Initial parameters\n",
    "MASKVAL = -999 # This value is introduced to ensure arrays are regular (Of the same size). They will be masked later by the network\n",
    "MAXTRACKS = 32 # This value is the maximum number of tracks allowed per event\n",
    "BATCHSIZE = 64 # This is the batch size of the mini batches used during training\n",
    "EPOCHS = 1000  # This is the default number of epochs for which the neural network will train providing that early stopping does not occur\n",
    "MAXEVENTS = 2e5 #This is the maximum number of events that will the program will accept\n",
    "LR = 3e-4 #This is the default learning rate"
   ]
  },
  {
   "cell_type": "code",
   "execution_count": null,
   "metadata": {},
   "outputs": [],
   "source": [
    "# Select the features we wish to study\n",
    "track_features = [\"AnalysisTracks_pt\", \"AnalysisTracks_eta\", \"AnalysisTracks_phi\", \"AnalysisTracks_z0sinTheta\",\n",
    "                   \"AnalysisTracks_d0sig\", \"AnalysisTracks_d0\", \"AnalysisTracks_d0sigPV\", \"AnalysisTracks_d0PV\"]\n",
    "jet_features = [\"AnalysisAntiKt4TruthJets_pt\", \"AnalysisAntiKt4TruthJets_eta\", \"AnalysisAntiKt4TruthJets_phi\", \"AnalysisAntiKt4TruthJets_m\",\"AnalysisAntiKt4TruthJets_ghostB_pdgId\",\n",
    "                \"AnalysisAntiKt4TruthJets_ghostB_pt\", \"AnalysisAntiKt4TruthJets_ghostB_eta\",\"AnalysisAntiKt4TruthJets_ghostB_phi\", \"AnalysisAntiKt4TruthJets_ghostB_m\"]\n",
    "Electrons_features = [\"AnalysisElectrons_pt_NOSYS\",\"AnalysisElectrons_eta\", \"AnalysisElectrons_phi\", \"AnalysisElectrons_z0sinTheta\", \n",
    "                    \"AnalysisElectrons_d0sig\", \"AnalysisElectrons_d0\", \"AnalysisElectrons_d0sigPV\", \"AnalysisElectrons_d0PV\"]\n",
    "Muon_Features = [\"AnalysisMuons_pt_NOSYS\", \"AnalysisMuons_eta\", \"AnalysisMuons_phi\",\"AnalysisMuons_z0sinTheta\", \n",
    "                    \"AnalysisMuons_d0sig\", \"AnalysisMuons_d0\", \"AnalysisMuons_d0sigPV\", \"AnalysisMuons_d0PV\"]"
   ]
  },
  {
   "cell_type": "code",
   "execution_count": null,
   "metadata": {},
   "outputs": [],
   "source": [
    "# Read in the data from the root file\n",
    "features = tree.arrays(jet_features+track_features + Electrons_features + Muon_Features, entry_stop=MAXEVENTS)"
   ]
  },
  {
   "cell_type": "code",
   "execution_count": null,
   "metadata": {},
   "outputs": [],
   "source": [
    "# Select the events of interest\n",
    "events = features[ak.sum(\n",
    "    features[\"AnalysisAntiKt4TruthJets_pt\"] > 25000, axis=1) > 0]"
   ]
  },
  {
   "cell_type": "code",
   "execution_count": null,
   "metadata": {},
   "outputs": [
    {
     "name": "stdout",
     "output_type": "stream",
     "text": [
      "The number of jets to train on is:  199840\n",
      "The number of track features is:  8\n"
     ]
    }
   ],
   "source": [
    "# Displays the number of jets being trained on\n",
    "jets = events[jet_features][:,0]\n",
    "print(\"The number of jets to train on is: \", len(jets))\n",
    "print(\"The number of track features is: \",len(track_features))"
   ]
  },
  {
   "cell_type": "code",
   "execution_count": null,
   "metadata": {},
   "outputs": [],
   "source": [
    "# Select tracks from the events\n",
    "tracks = events[track_features]\n",
    "electrons = events[Electrons_features]\n",
    "muons = events[Muon_Features]\n",
    "\n",
    "# Match the tracks to the jets\n",
    "mask_tracks = DSNNA.Match_Tracks(jets, tracks)\n",
    "mask_electrons = DSNNA.Match_Electrons(jets,electrons)\n",
    "mask_muons = DSNNA.Match_Muons(jets,muons)\n",
    "matchedtracks = tracks[mask_tracks]\n",
    "matchedelectrons = electrons[mask_electrons]\n",
    "matchedmuons = muons[mask_muons]\n",
    "\n",
    "# Pad and Flatten the data\n",
    "matchedtracks = DSNNA.flatten(matchedtracks, MAXTRACKS)\n",
    "matchedelectrons = DSNNA.flatten(matchedelectrons, MAXTRACKS)\n",
    "matchedmuons = DSNNA.flatten(matchedmuons, MAXTRACKS)"
   ]
  },
  {
   "cell_type": "code",
   "execution_count": null,
   "metadata": {},
   "outputs": [
    {
     "name": "stdout",
     "output_type": "stream",
     "text": [
      "There are 4 outputs\n",
      "There are 32 tracks inputs\n",
      "There are 32 electrons inputs\n",
      "There are 32 muons inputs\n"
     ]
    }
   ],
   "source": [
    "#Selects the b-jets with bhadrons with a transverse momentum over 5000 MeV\n",
    "bjets = ak.sum(jets[\"AnalysisAntiKt4TruthJets_ghostB_pt\"] > 5000, axis=1) > 0\n",
    "jets = jets[bjets]\n",
    "\n",
    "# Obtain the pt, eta and phi of each b hadron jet\n",
    "bhads_pt = jets[\"AnalysisAntiKt4TruthJets_ghostB_pt\"][:, 0].to_numpy()\n",
    "bhads_eta = jets[\"AnalysisAntiKt4TruthJets_ghostB_eta\"][:,0].to_numpy()\n",
    "bhads_phi = jets[\"AnalysisAntiKt4TruthJets_ghostB_phi\"][:,0].to_numpy()\n",
    "bhads_m = jets[\"AnalysisAntiKt4TruthJets_ghostB_m\"][:,0].to_numpy()\n",
    "bhads_PGID = jets[\"AnalysisAntiKt4TruthJets_ghostB_pdgId\"][:,0].to_numpy()\n",
    "\n",
    "jets_pt = jets[\"AnalysisAntiKt4TruthJets_pt\"].to_numpy()\n",
    "jets_eta = jets[\"AnalysisAntiKt4TruthJets_eta\"].to_numpy()\n",
    "jets_phi = jets[\"AnalysisAntiKt4TruthJets_phi\"].to_numpy()\n",
    "jets_m = jets[\"AnalysisAntiKt4TruthJets_m\"].to_numpy()\n",
    "b_jets = np.stack([jets_pt,jets_eta,jets_phi, jets_m], axis = -1)\n",
    "\n",
    "bhads = np.stack([bhads_pt,bhads_eta,bhads_phi, bhads_m],axis = -1) #Combine the momentum, eta and phi for each jet into one array\n",
    "\n",
    "print(\"There are {} outputs\".format(np.shape(bhads)[1])) # Display the number of target features the neural network will predict\n",
    "matchedtracks = matchedtracks[bjets]\n",
    "matchedelectrons = matchedelectrons[bjets]\n",
    "matchedmuons = matchedmuons[bjets]\n",
    "print(\"There are {} tracks inputs\".format(np.shape(matchedtracks)[1])) # Display the number of target features the neural network will use in it's predictions\n",
    "print(\"There are {} electrons inputs\".format(np.shape(matchedelectrons)[1])) # Display the number of target features the neural network will use in it's predictions\n",
    "print(\"There are {} muons inputs\".format(np.shape(matchedmuons)[1])) # Display the number of target features the neural network will use in it's predictions"
   ]
  },
  {
   "cell_type": "code",
   "execution_count": null,
   "metadata": {},
   "outputs": [],
   "source": [
    "# Transform the jet and tracks to unstructed data.\n",
    "jets = structured_to_unstructured(jets[jet_features[:-5]])\n",
    "matchedtracks = structured_to_unstructured(matchedtracks)\n",
    "matchedelectrons  = structured_to_unstructured(matchedelectrons)\n",
    "matchedmuons = structured_to_unstructured(matchedmuons)"
   ]
  },
  {
   "cell_type": "code",
   "execution_count": null,
   "metadata": {},
   "outputs": [
    {
     "name": "stdout",
     "output_type": "stream",
     "text": [
      "(96659, 32, 3)\n",
      "(96659, 32, 3)\n",
      "(96659, 32, 3)\n",
      "(96659, 3)\n"
     ]
    },
    {
     "name": "stderr",
     "output_type": "stream",
     "text": [
      "/home/physics/phujdj/DeepLearningParticlePhysics/DeepSetNeuralNetArchitecture.py:146: RuntimeWarning: overflow encountered in sinh\n",
      "  pzs = np.where(mask1 | mask3, pts, pts * np.sinh(etas))\n"
     ]
    },
    {
     "name": "stdout",
     "output_type": "stream",
     "text": [
      "(96659, 32, 11) (96659, 32, 11) (96659, 32, 11)\n"
     ]
    }
   ],
   "source": [
    "# Convert the coordinates of the b jets and tracks to cartesian coordinates\n",
    "polartracks = matchedtracks.to_numpy()\n",
    "polarelectrons = matchedelectrons.to_numpy()\n",
    "polarmuons = matchedmuons.to_numpy()\n",
    "\n",
    "Num_events = MAXTRACKS\n",
    "tracks_pt = polartracks[:,:,0].reshape(-1,Num_events,1)\n",
    "tracks_eta = polartracks[:,:,1].reshape(-1,Num_events,1)\n",
    "tracks_phi = polartracks[:,:,2].reshape(-1,Num_events,1)\n",
    "\n",
    "tracks_pep = np.concatenate([tracks_pt,tracks_eta,tracks_phi], axis = -1) \n",
    "print(tracks_pep.shape)\n",
    "\n",
    "electrons_pt = polarelectrons[:,:,0].reshape(-1,Num_events,1)\n",
    "electrons_eta = polarelectrons[:,:,1].reshape(-1,Num_events,1)\n",
    "electrons_phi = polarelectrons[:,:,2].reshape(-1,Num_events,1)\n",
    "\n",
    "electrons_pep = np.concatenate([electrons_pt,electrons_eta,electrons_phi], axis = -1) \n",
    "print(electrons_pep.shape)\n",
    "\n",
    "muons_pt = polarmuons[:,:,0].reshape(-1,Num_events,1)\n",
    "muons_eta = polarmuons[:,:,1].reshape(-1,Num_events,1)\n",
    "muons_phi = polarmuons[:,:,2].reshape(-1,Num_events,1)\n",
    "\n",
    "muons_pep = np.concatenate([muons_pt,muons_eta,muons_phi], axis = -1) \n",
    "print(muons_pep.shape)\n",
    "\n",
    "jets_pt = b_jets[:,0].reshape(-1,1)\n",
    "jets_eta = b_jets[:,1].reshape(-1,1)\n",
    "jets_phi = b_jets[:,2].reshape(-1,1)\n",
    "\n",
    "b_jets_pep = np.concatenate([jets_pt,jets_eta,jets_phi], axis = -1) \n",
    "print(b_jets_pep.shape)\n",
    "\n",
    "tracks_p = DSNNA.pt_eta_phi_2_px_py_pz_tracks(matchedtracks.to_numpy())\n",
    "electrons_p = DSNNA.pt_eta_phi_2_px_py_pz_tracks(matchedelectrons.to_numpy())\n",
    "muons_p = DSNNA.pt_eta_phi_2_px_py_pz_tracks(matchedmuons.to_numpy())\n",
    "\n",
    "bhads = DSNNA.pt_eta_phi_2_px_py_pz_jets(bhads)\n",
    "b_jets_p = DSNNA.pt_eta_phi_2_px_py_pz_jets(b_jets)\n",
    "b_jets_m = b_jets[:,-1].reshape(-1,1)\n",
    "\n",
    "#Combine the momenta of the tracks with the rest of the track features to form the track dataset\n",
    "tracks = np.concatenate([tracks_p,tracks_pep,matchedtracks[:,:,3:].to_numpy()],axis = 2)\n",
    "electrons = np.concatenate([electrons_p, electrons_pep, matchedelectrons[:,:,3:].to_numpy()], axis = 2)\n",
    "muons = np.concatenate([muons_p, muons_pep, matchedmuons[:,:,3:].to_numpy()], axis = 2)\n",
    "\n",
    "print(np.shape(tracks), np.shape(electrons), np.shape(muons))\n",
    "particles = np.concatenate([tracks,electrons,muons], axis = 1)\n",
    "b_jets = np.concatenate([b_jets_p,b_jets_pep,b_jets_m] ,axis = 1)"
   ]
  },
  {
   "cell_type": "code",
   "execution_count": null,
   "metadata": {},
   "outputs": [
    {
     "data": {
      "text/plain": [
       "(96659, 96, 11)"
      ]
     },
     "execution_count": 55,
     "metadata": {},
     "output_type": "execute_result"
    }
   ],
   "source": [
    "np.shape(particles)"
   ]
  },
  {
   "cell_type": "code",
   "execution_count": null,
   "metadata": {},
   "outputs": [],
   "source": [
    "#Mask out the MASKVALs used to pad the arrays\n",
    "particles = np.ma.masked_values(particles,-999)"
   ]
  },
  {
   "cell_type": "code",
   "execution_count": null,
   "metadata": {},
   "outputs": [
    {
     "name": "stdout",
     "output_type": "stream",
     "text": [
      "(96659,)\n"
     ]
    }
   ],
   "source": [
    "#Calculate the fraction of the momenta that\n",
    "# the bhadrons represent of the b_jet momenta\n",
    "bhads_fractions_px = bhads[:,0]/b_jets[:,0]\n",
    "bhads_fractions_py = bhads[:,1]/b_jets[:,1]\n",
    "bhads_fractions_pz = bhads[:,2]/b_jets[:,2]\n",
    "print(bhads_fractions_px.shape)"
   ]
  },
  {
   "cell_type": "code",
   "execution_count": null,
   "metadata": {},
   "outputs": [
    {
     "data": {
      "text/plain": [
       "0.9983033137110874"
      ]
     },
     "execution_count": 58,
     "metadata": {},
     "output_type": "execute_result"
    }
   ],
   "source": [
    "len(bhads_fractions_px[(bhads_fractions_px>=-5) & (bhads_fractions_px <= 5)])/len(bhads_fractions_px)"
   ]
  },
  {
   "cell_type": "code",
   "execution_count": null,
   "metadata": {},
   "outputs": [
    {
     "name": "stdout",
     "output_type": "stream",
     "text": [
      "(96659, 3)\n"
     ]
    }
   ],
   "source": [
    "# Calculate the magnitude of the b_jets momenta and \n",
    "# use it to calculate the projection of the bhadron momenta along the \n",
    "# b_jet momenta\n",
    "b_jets_mag = np.linalg.norm(b_jets[:,:3], axis = 1)\n",
    "bhads_fractions = np.stack([bhads_fractions_px,bhads_fractions_py, bhads_fractions_pz], axis = -1)\n",
    "bhads_projection = ((bhads[:,:3]*b_jets[:,:3]).sum(axis = 1))/(b_jets_mag**2)\n",
    "print(bhads_fractions.shape)"
   ]
  },
  {
   "cell_type": "code",
   "execution_count": null,
   "metadata": {},
   "outputs": [
    {
     "name": "stdout",
     "output_type": "stream",
     "text": [
      "618.1237235802715 -4195.466731248074\n",
      "(96178, 5)\n",
      "4.860656659309027 -4.962589364023186\n",
      "(96178,)\n"
     ]
    }
   ],
   "source": [
    "#Identify the outliers in the dataset and remove them to prevent spikes during learning.\n",
    "print(np.max(bhads_fractions), np.min(bhads_fractions_px))\n",
    "array = [x for x in range(bhads_fractions_px.shape[0])]\n",
    "\n",
    "#Remove the outliers in the dataset with momenta fractions and projections that are either unphysical or statistically unlikely\n",
    "bhads_trial = np.stack([array,bhads_fractions_px, bhads_fractions_py, bhads_fractions_pz, bhads_projection], axis = -1)\n",
    "bhads_fractions_clean  = bhads_trial[(bhads_trial[:,1] <= 5) & (bhads_trial[:,1] >= -5) & (bhads_trial[:,2] <= 5) & (bhads_trial[:,2] >= -5) & (bhads_trial[:,3] <= 5) & (bhads_trial[:,3] >= -5) & (bhads_trial[:,4] >= 0) & (bhads_trial[:,4] <= 5)]\n",
    "print(bhads_fractions_clean.shape)\n",
    "\n",
    "#Compare to the original range of the momenta fractions\n",
    "print(np.max(bhads_fractions_clean[:,1]), np.min(bhads_fractions_clean[:,1]))\n",
    "indices = bhads_fractions_clean[:,0]\n",
    "print(indices.shape)"
   ]
  },
  {
   "cell_type": "code",
   "execution_count": null,
   "metadata": {},
   "outputs": [
    {
     "name": "stdout",
     "output_type": "stream",
     "text": [
      "(96178,)\n"
     ]
    }
   ],
   "source": [
    "#Find the indices of the remaining datapoints\n",
    "indices = [int(x) for x in indices]\n",
    "print(np.shape(indices))\n",
    "\n",
    "#Removes the outliers from the data\n",
    "particles = particles[indices]\n",
    "b_jets = b_jets[indices]\n",
    "bhads = bhads[indices]\n",
    "bhads_pt = bhads_pt[indices]\n",
    "bhads_eta = bhads_eta[indices]\n",
    "bhads_phi = bhads_phi[indices]\n",
    "b_jets_pep = b_jets_pep[indices]\n",
    "bhads_PGID = bhads_PGID[indices]\n",
    "b_jets_m = b_jets_m[indices]\n",
    "bhads_m = bhads_m[indices]"
   ]
  },
  {
   "cell_type": "code",
   "execution_count": null,
   "metadata": {},
   "outputs": [
    {
     "name": "stderr",
     "output_type": "stream",
     "text": [
      "/tmp/ipykernel_13410/4078472412.py:2: RuntimeWarning: invalid value encountered in sqrt\n",
      "  particles_Momentum = np.sqrt(particles[:, : ,0]**2 + particles[:,:,1]**2 + particles[:,:,2]**2)\n"
     ]
    },
    {
     "name": "stdout",
     "output_type": "stream",
     "text": [
      "(96178, 96, 4)\n"
     ]
    }
   ],
   "source": [
    "#Creates an approximate track momentum and 4 momentum for the network to use.\n",
    "particles_Momentum = np.sqrt(particles[:, : ,0]**2 + particles[:,:,1]**2 + particles[:,:,2]**2)\n",
    "particles_4_Momentum = np.stack([particles_Momentum, particles[:,:,0], particles[:,:,1], particles[:,:,2]], axis = -1)\n",
    "print(particles_4_Momentum.shape)"
   ]
  },
  {
   "cell_type": "code",
   "execution_count": null,
   "metadata": {},
   "outputs": [
    {
     "name": "stdout",
     "output_type": "stream",
     "text": [
      "(96178,)\n"
     ]
    }
   ],
   "source": [
    "#Creates a very approximate track mass for the network to use.\n",
    "particles_Invariant_Mass = np.sqrt((np.sum(particles_4_Momentum, axis = 1) * np.sum(particles_4_Momentum, axis = 1)).sum(axis = -1))\n",
    "print(particles_Invariant_Mass.shape)"
   ]
  },
  {
   "cell_type": "code",
   "execution_count": null,
   "metadata": {},
   "outputs": [
    {
     "name": "stdout",
     "output_type": "stream",
     "text": [
      "(96178,)\n",
      "(96178,) (96178, 1)\n",
      "(96178,)\n",
      "[0.9923946  1.00824593 0.99120818]\n",
      "0.9923945992521676\n",
      "-34465.39587820514 618.1237235802715\n",
      "0.9923945992521676\n",
      "0.9923945992521676\n",
      "-4.962589364023186 4.860656659309027\n",
      "Hello\n"
     ]
    },
    {
     "name": "stderr",
     "output_type": "stream",
     "text": [
      "/tmp/ipykernel_13410/3752742969.py:24: RuntimeWarning: divide by zero encountered in true_divide\n",
      "  b_jet_energy_mass_ratio = b_jets_energy/b_jets_m[:,0]\n"
     ]
    },
    {
     "name": "stdout",
     "output_type": "stream",
     "text": [
      "(96178,)\n",
      "(96178,)\n",
      "(96178,)\n",
      "(96178,)\n"
     ]
    },
    {
     "name": "stderr",
     "output_type": "stream",
     "text": [
      "/tmp/ipykernel_13410/3752742969.py:71: RuntimeWarning: divide by zero encountered in log\n",
      "  Log_Sum_px = np.log(sum_px_particles/b_jets[:,0])\n",
      "/tmp/ipykernel_13410/3752742969.py:71: RuntimeWarning: invalid value encountered in log\n",
      "  Log_Sum_px = np.log(sum_px_particles/b_jets[:,0])\n",
      "/tmp/ipykernel_13410/3752742969.py:72: RuntimeWarning: divide by zero encountered in log\n",
      "  Log_Sum_py = np.log(sum_py_particles/b_jets[:,1])\n",
      "/tmp/ipykernel_13410/3752742969.py:72: RuntimeWarning: invalid value encountered in log\n",
      "  Log_Sum_py = np.log(sum_py_particles/b_jets[:,1])\n",
      "/tmp/ipykernel_13410/3752742969.py:73: RuntimeWarning: divide by zero encountered in log\n",
      "  Log_Sum_pz = np.log(sum_pz_particles/b_jets[:,2])\n",
      "/tmp/ipykernel_13410/3752742969.py:73: RuntimeWarning: invalid value encountered in log\n",
      "  Log_Sum_pz = np.log(sum_pz_particles/b_jets[:,2])\n",
      "/tmp/ipykernel_13410/3752742969.py:74: RuntimeWarning: divide by zero encountered in log\n",
      "  Log_Sum_pt = np.log(sum_pt_particles/b_jets[:,3])\n"
     ]
    },
    {
     "name": "stdout",
     "output_type": "stream",
     "text": [
      "(96178,)\n",
      "hey\n",
      "(96178, 96)\n",
      "(96178, 3)\n",
      "(96178,)\n",
      "(96178,)\n",
      "(96178,)\n",
      "79564.74\n",
      "()\n",
      "(96178,)\n",
      "(96178,)\n",
      "end\n",
      "215668.81 189328.97\n"
     ]
    }
   ],
   "source": [
    "#From the base features for the tracks and jet provided by the roots \n",
    "#file calculate the derived features needed for convergence.\n",
    "#These features were inspired from reading on current particle physics literature\n",
    "\n",
    "b_jets_mag = np.linalg.norm(b_jets[:,:3], axis = 1)\n",
    "bhads_mag = np.linalg.norm(bhads[:,:3], axis = 1)\n",
    "tracks_Momentum = np.sum(np.linalg.norm(tracks[:,:,:3], axis = 2))\n",
    "\n",
    "bhads_fractions_px = bhads[:,0]/b_jets[:,0]\n",
    "bhads_fractions_py = bhads[:,1]/b_jets[:,1]\n",
    "bhads_fractions_pz = bhads[:,2]/b_jets[:,2]\n",
    "bhads_fractions_pt = bhads_pt/b_jets_pep[:,0]\n",
    "print(bhads_fractions_px.shape)\n",
    "\n",
    "ConeRadius = np.sqrt(b_jets_pep[:,1]**2 + b_jets_pep[:,2]**2)\n",
    "LogConeRadius = np.log(ConeRadius)\n",
    "\n",
    "b_jets_energy = np.sqrt((b_jets_m[:,0]**2) + (b_jets_mag**2))\n",
    "print(b_jets_energy.shape, b_jets_m.shape)\n",
    "\n",
    "b_jets_energy_pt = np.sqrt((b_jets_m[:,0]**2) + (b_jets[:,4]**2))\n",
    "b_jets_energy_pt.shape\n",
    "\n",
    "b_jet_energy_mass_ratio = b_jets_energy/b_jets_m[:,0]\n",
    "\n",
    "print(b_jet_energy_mass_ratio.shape)\n",
    "bhads_energy = np.sqrt((bhads_m**2) + (bhads_mag**2))\n",
    "bhads_energy.shape\n",
    "\n",
    "bhads_energy_mass_ratio = bhads_energy/bhads_m\n",
    "\n",
    "print(bhads_fractions[0])\n",
    "print(bhads[0,0]/b_jets[0,0])\n",
    "print(np.min(bhads_fractions),np.max(bhads_fractions))\n",
    "\n",
    "print(bhads_fractions_px[0])\n",
    "print(bhads[0,0]/b_jets[0,0])\n",
    "print(np.min(bhads_fractions_px),np.max(bhads_fractions_px))\n",
    "\n",
    "print(\"Hello\")\n",
    "sum_px_particles = np.sum(particles[:,:,0], axis = 1)\n",
    "sum_py_particles = np.sum(particles[:,:,1], axis = 1)\n",
    "sum_pz_particles = np.sum(particles[:,:,2], axis = 1)\n",
    "sum_pt_particles = np.sum(particles[:,:,3], axis = 1)\n",
    "print(sum_pt_particles.shape)\n",
    "\n",
    "sum_px_particles_RSE = np.sqrt(np.sum(particles[:,:,0]**2, axis = 1))\n",
    "sum_py_particles_RSE= np.sqrt(np.sum(particles[:,:,1]**2, axis = 1))\n",
    "sum_pz_particles_RSE = np.sqrt(np.sum(particles[:,:,2]**2, axis = 1))\n",
    "sum_pt_particles_RSE = np.sqrt(np.sum(particles[:,:,3]**2, axis = 1))\n",
    "print(sum_pt_particles_RSE.shape)\n",
    "\n",
    "RSM_scaled_px = sum_px_particles_RSE/sum_px_particles\n",
    "RSM_scaled_py = sum_py_particles_RSE/sum_py_particles\n",
    "RSM_scaled_pz = sum_pz_particles_RSE/sum_pz_particles\n",
    "RSM_scaled_pt = sum_pt_particles_RSE/sum_pt_particles\n",
    "print(RSM_scaled_pt.shape)\n",
    "\n",
    "RMS_scaled_px = np.sqrt(np.sum(particles[:,:,0]**2, axis = 1)/MAXTRACKS)\n",
    "RMS_scaled_py = np.sqrt(np.sum(particles[:,:,1]**2, axis = 1)/MAXTRACKS)\n",
    "RMS_scaled_pz = np.sqrt(np.sum(particles[:,:,2]**2, axis = 1)/MAXTRACKS)\n",
    "RMS_scaled_pt = np.sqrt(np.sum(particles[:,:,3]**2, axis = 1)/MAXTRACKS)\n",
    "print(RMS_scaled_pt.shape)\n",
    "\n",
    "Log_px_particles = np.log(abs(particles[:,:,0]/b_jets[:,np.newaxis,0]))\n",
    "Log_py_particles = np.log(abs(particles[:,:,1]/b_jets[:,np.newaxis,1]))\n",
    "Log_pz_particles = np.log(abs(particles[:,:,2]/b_jets[:,np.newaxis,2]))\n",
    "Log_pt_particles = np.log(abs(particles[:,:,3]/b_jets[:,np.newaxis,3]))\n",
    "Log_particles = np.stack([Log_px_particles, Log_py_particles, Log_pz_particles, Log_pt_particles], axis = -1)\n",
    "\n",
    "Log_Sum_px = np.log(sum_px_particles/b_jets[:,0])\n",
    "Log_Sum_py = np.log(sum_py_particles/b_jets[:,1])\n",
    "Log_Sum_pz = np.log(sum_pz_particles/b_jets[:,2])\n",
    "Log_Sum_pt = np.log(sum_pt_particles/b_jets[:,3])\n",
    "Log_Momenta = np.log(abs(tracks_Momentum/np.sum(b_jets[:,:3], axis = 1)))\n",
    "print(Log_Sum_pt.shape)\n",
    "\n",
    "print(\"hey\")\n",
    "particles_projection = ((particles[:,:,:3]*b_jets[:,np.newaxis,:3]).sum(axis = 2)/(b_jets_mag[:,np.newaxis]**2))\n",
    "print(particles_projection.shape)\n",
    "particles_Momenta = np.stack([sum_px_particles, sum_py_particles, sum_pz_particles], axis = -1)\n",
    "print(particles_Momenta.shape)\n",
    "Sum_particles_projection = ((particles_Momenta*b_jets[:,:3]).sum(axis = 1))/(b_jets_mag**2)\n",
    "print(Sum_particles_projection.shape)\n",
    "\n",
    "b_jet_energy_ratio_px = sum_px_particles/b_jets_energy\n",
    "b_jet_energy_ratio_py = sum_py_particles/b_jets_energy\n",
    "b_jet_energy_ratio_pz = sum_pz_particles/b_jets_energy\n",
    "b_jet_energy_ratio_pt = sum_pt_particles/b_jets_energy\n",
    "print(b_jet_energy_ratio_pt.shape)\n",
    "\n",
    "b_jet_energy_ratio_cart = b_jets_mag/b_jets_energy\n",
    "b_jet_energy_ratio_pt = b_jets[:,4]/b_jets_energy\n",
    "print(b_jet_energy_ratio_pt.shape)\n",
    "\n",
    "b_jet_energy_ratio_total = np.sum(b_jets[:,4])/np.sum(b_jets_energy)  \n",
    "b_jet_transverse_mass = np.sqrt(b_jets_energy**2 - b_jets[:,2]**2)\n",
    "bhads_transverse_mass = np.sqrt(bhads_energy**2 - bhads[:,2]**2)\n",
    "print(b_jet_transverse_mass[0])\n",
    "print(b_jet_energy_ratio_total.shape)\n",
    "print(b_jet_transverse_mass.shape)\n",
    "print(np.full((len(b_jets)),b_jet_energy_ratio_total).shape)\n",
    "print(\"end\")\n",
    "bhads_projection = ((bhads[:,:3]*b_jets[:,:3]).sum(axis = 1))/(b_jets_mag**2)\n",
    "\n",
    "print(np.mean(b_jets_energy),np.std(b_jets_energy))\n",
    "\n",
    "b_jets = np.stack([b_jets[:,0], b_jets[:,1], b_jets[:,2],b_jets[:,3],b_jets[:,4], b_jets[:,5], b_jets[:,6], b_jets_mag, sum_px_particles, sum_py_particles, sum_pz_particles, sum_pt_particles, sum_px_particles_RSE, sum_py_particles_RSE, sum_pz_particles_RSE, sum_pt_particles_RSE, RSM_scaled_px, RSM_scaled_py, RSM_scaled_pz, RSM_scaled_pt, RMS_scaled_px, RMS_scaled_py, RMS_scaled_pz, RMS_scaled_pt, b_jet_transverse_mass, Log_Momenta, b_jets_energy, b_jet_energy_ratio_px, b_jet_energy_ratio_py, b_jet_energy_ratio_pz, b_jet_energy_ratio_cart, b_jet_energy_ratio_pt, ConeRadius, LogConeRadius, np.full((len(b_jets),),b_jet_energy_ratio_total)], axis = -1)\n",
    "bhads_targets = np.stack([bhads[:,0]/1e5,bhads[:,1]/1e5, bhads[:,2]/1e6, bhads_pt/1e6, bhads_eta, bhads_phi, bhads_fractions_pt,  bhads_energy/1e6, bhads_projection], axis = -1)"
   ]
  },
  {
   "cell_type": "code",
   "execution_count": null,
   "metadata": {},
   "outputs": [
    {
     "data": {
      "text/plain": [
       "(-6.417458914263675, 5.0853934107975345)"
      ]
     },
     "execution_count": 65,
     "metadata": {},
     "output_type": "execute_result"
    }
   ],
   "source": [
    "np.min(bhads_targets), np.max(bhads_targets)"
   ]
  },
  {
   "cell_type": "code",
   "execution_count": null,
   "metadata": {},
   "outputs": [
    {
     "data": {
      "text/plain": [
       "(31619725.805484924, -23884111.203433707)"
      ]
     },
     "execution_count": 66,
     "metadata": {},
     "output_type": "execute_result"
    }
   ],
   "source": [
    "np.max(b_jets), np.min(b_jets)"
   ]
  },
  {
   "cell_type": "code",
   "execution_count": null,
   "metadata": {},
   "outputs": [
    {
     "name": "stdout",
     "output_type": "stream",
     "text": [
      "(96178, 96, 15)\n"
     ]
    }
   ],
   "source": [
    "\"\"\"\n",
    "0 - Momentum Px Scaled\n",
    "1 - Momentum Py Scaled\n",
    "2 - Momentum Pz Scaled\n",
    "3-  Momentum Pt Scaled\n",
    "4-  Momentum Eta Scaled\n",
    "5 - Momentum Phi Scaled\n",
    "6 - Tranvserse Impact parameter sin component\n",
    "7 - Longitudinal Impact parameter\n",
    "8 - Longitudinal Impact parameter signficiance\n",
    "9 - Longitudinal Impact Parameter w.r.t PV\n",
    "10 - Longitudinal Impact Parameter wr.r.t PV\n",
    "11 - Momentum Fraction Px Scaled\n",
    "12 - Momentum Fraction Py Scaled\n",
    "13 - Momentum Fraction Pz Scaled\n",
    "14 - Momentum Fraction pt Scaled.\n",
    "15 - Logarithm of px of the tracks / b_jet x momenta\n",
    "16 - Logarithm of py of the tracks / b_jet y momenta\n",
    "17 - Logarithm of pz of the tracks / b_jet z momenta\n",
    "18 - Logarithm of sum pt of the tracks / b_jet t momenta\n",
    "\"\"\"\n",
    "#Combine the features into one array\n",
    "particles_input = np.concatenate([particles, Log_particles], axis = -1)\n",
    "print(particles_input.shape)"
   ]
  },
  {
   "cell_type": "code",
   "execution_count": null,
   "metadata": {},
   "outputs": [
    {
     "name": "stdout",
     "output_type": "stream",
     "text": [
      "(96178, 132)\n"
     ]
    }
   ],
   "source": [
    "\"\"\"\n",
    "0 - Momentum Px Scaled\n",
    "1 - Momentum Py Scaled\n",
    "2 - Momentum Pz Scaled\n",
    "3 - Momentum Pt Scaled\n",
    "4 - Momentum eta Scaled\n",
    "5 - Momentum Phi Scaled\n",
    "6 - Sum px of the tracks\n",
    "7 - Sum py of the tracks\n",
    "8 - Sum pz of the tracks\n",
    "9 - Sum pt of the tracks\n",
    "10 - Sqrt of the Sum px of the tracks\n",
    "11 - Sqrt of the Sum py of the tracks\n",
    "12 - Sqrt of the Sum pz of the tracks\n",
    "13 - Sqrt of the Sum pt of the tracks\n",
    "14 - Sqrt of the Sum px of the tracks scaled by the sum px of the tracks\n",
    "15 - Sqrt of the Sum py of the tracks scaled by the sum py of the tracks\n",
    "16 - Sqrt of the Sum pz of the tracks scaled by the sum pz of the tracks\n",
    "17 - Sqrt of the Sum pt of the tracks scaked by the sum pt of the tracks\n",
    "18 - Root Mean Square of the px momenta of the tracks\n",
    "19 - Root Mean Square of the py momenta of the tracks\n",
    "20 - Root Mean Square of the pz momenta of the tracks\n",
    "21 - Root Mean Square of the pt momenta of the tracks\n",
    "22 - Tranvserse mass of the b-jets\n",
    "23 - Logarithm of the  Sum px of the tracks divide by the b_jet x momenta\n",
    "24 - Logarithm of the  Sum py of the tracks divide by the b_jet y momenta\n",
    "25 - Logarithm of the  Sum pz of the tracks divide by the b_jet z momenta\n",
    "26 - Logarithm of the total momenta of the tracks divided by the b_jet total momenta\n",
    "27 - B_jet energy\n",
    "28 - B_jet energy ratio px\n",
    "29 - B_jet energy ratio py\n",
    "30 - B_jet energy ratio pz\n",
    "31 - B_jet energy ratio pt\n",
    "32 - B_jet energy ratio cart\n",
    "32 - B_jet energy ratio pt\n",
    "33 - B_jet energy ratio total\n",
    "\"\"\"\n",
    "#Combine the features into an array\n",
    "b_jets_input = np.concatenate([b_jets, particles_projection, Sum_particles_projection.reshape(-1,1)], axis = -1)\n",
    "print(b_jets_input.shape)"
   ]
  },
  {
   "cell_type": "code",
   "execution_count": null,
   "metadata": {},
   "outputs": [
    {
     "name": "stdout",
     "output_type": "stream",
     "text": [
      "Counter({511: 20653, -521: 20561, -511: 20454, 521: 20417, 531: 4674, -531: 4631, 5122: 1882, -5122: 1838, 5132: 276, 5232: 266, -5132: 261, -5232: 248, 5332: 6, -5332: 6, -541: 4, 555: 1})\n"
     ]
    }
   ],
   "source": [
    "from collections import Counter\n",
    "counter = Counter(bhads_PGID)\n",
    "print(counter)"
   ]
  },
  {
   "cell_type": "code",
   "execution_count": null,
   "metadata": {},
   "outputs": [
    {
     "name": "stdout",
     "output_type": "stream",
     "text": [
      "(96178, 1)\n",
      "Counter({1.0: 41107, 0.0: 40978, 3.0: 14093})\n",
      "(96178, 3)\n"
     ]
    }
   ],
   "source": [
    "from sklearn.preprocessing import OneHotEncoder\n",
    "counter = np.array([])\n",
    "bhadron_PGIDs = []\n",
    "for PGID in bhads_PGID:\n",
    "    if (PGID == 521 or PGID == -521):\n",
    "        element = 0\n",
    "    elif (PGID == 511 or PGID == -511):\n",
    "        element = 1\n",
    "    else:\n",
    "        element = 3\n",
    "    counter = np.append(counter, [element])\n",
    "    bhadron_PGIDs.append([str(element)])\n",
    "print(np.shape(bhadron_PGIDs))\n",
    "counter = Counter(counter)\n",
    "print(counter)\n",
    "encoder = OneHotEncoder(sparse = False)\n",
    "onehot = encoder.fit_transform(bhadron_PGIDs)\n",
    "print(np.shape(onehot))"
   ]
  },
  {
   "cell_type": "code",
   "execution_count": null,
   "metadata": {},
   "outputs": [
    {
     "name": "stdout",
     "output_type": "stream",
     "text": [
      "(96178, 96, 15)\n",
      "(96178, 132)\n",
      "(96178, 9)\n",
      "[-7.45468621e-04 -2.93386972e-04 -8.81265924e-05  8.22867092e-02\n",
      " -7.49448961e-04  2.54100987e-03  7.84193332e-01  1.62662058e-01\n",
      "  7.81971624e-01] [0.65493116 0.65337535 0.20020422 0.04227583 1.22783269 1.81482121\n",
      " 0.24581113 0.14902788 0.24554313]\n"
     ]
    }
   ],
   "source": [
    "Scaler_tracks = StandardScaler()\n",
    "Num_events,Num_tracks,Num_features = np.shape(particles_input)\n",
    "Scaled_particles = np.reshape(particles_input, newshape=(-1,Num_features))\n",
    "particles_scaled = Scaler_tracks.fit_transform(Scaled_particles)\n",
    "particles_input_scaled = np.reshape(particles_scaled, newshape= (Num_events,Num_tracks,Num_features))\n",
    "print(np.shape(particles_input_scaled))\n",
    "\n",
    "Scaler_jets = StandardScaler()\n",
    "Num_events,Num_features = np.shape(b_jets_input)\n",
    "b_jets_scaled = np.reshape(b_jets_input, newshape=(-1,Num_features))\n",
    "b_jets_scaled = Scaler_jets.fit_transform(b_jets_scaled)\n",
    "b_jets_input_scaled = np.reshape(b_jets_scaled, newshape= (Num_events,Num_features))\n",
    "print(np.shape(b_jets_input_scaled))\n",
    "\n",
    "means = []\n",
    "stds = []\n",
    "lister = []\n",
    "for bhads_target_feature in range(np.shape(bhads_targets)[1]):\n",
    "    Bhads_targets = bhads_targets[:,bhads_target_feature]\n",
    "    mean, std = np.mean(Bhads_targets), np.std(Bhads_targets)\n",
    "    means = np.append(means,mean)\n",
    "    stds = np.append(stds,std)\n",
    "    Standardized_Bhads_targets = (Bhads_targets - mean)/(std)\n",
    "    Standardized_Bhads_targets = Standardized_Bhads_targets.reshape(-1,1)\n",
    "    lister.append(Standardized_Bhads_targets)\n",
    "Standardized_Bhads_targets = np.concatenate(lister,axis = 1)\n",
    "print(Standardized_Bhads_targets.shape)\n",
    "print(means,stds)"
   ]
  },
  {
   "cell_type": "code",
   "execution_count": null,
   "metadata": {},
   "outputs": [
    {
     "name": "stdout",
     "output_type": "stream",
     "text": [
      "Counter({511: 20653, -521: 20561, -511: 20454, 521: 20417, 531: 4674, -531: 4631, 5122: 1882, -5122: 1838, 5132: 276, 5232: 266, -5132: 261, -5232: 248, 5332: 6, -5332: 6, -541: 4, 555: 1})\n"
     ]
    }
   ],
   "source": [
    "from collections import Counter\n",
    "counter = Counter(bhads_PGID)\n",
    "print(counter)"
   ]
  },
  {
   "cell_type": "code",
   "execution_count": null,
   "metadata": {},
   "outputs": [
    {
     "name": "stdout",
     "output_type": "stream",
     "text": [
      "[15, 100, 100, 100]\n",
      "3\n"
     ]
    }
   ],
   "source": [
    "# Builds the deep neural network\n",
    "track_layers = [100 for x in range(3)]\n",
    "jet_layers = [256 for x in range(3)]\n",
    "b_jets_layers = [100 for x in range(3)]\n",
    "\n",
    "track_layers = [np.shape(particles_input_scaled)[2]]+track_layers\n",
    "print(track_layers)\n",
    "print(np.shape(onehot)[1])\n",
    "#Initializers the optimizer used for training the network\n",
    "optimizer = tf.keras.optimizers.Nadam(LR)\n",
    "\n",
    "#Build a DeepSets Projection Neural Network\n",
    "DeepSetProjector = DeepSetsProjection(track_layers=track_layers, b_jet_layers= b_jets_layers, jet_layers=jet_layers, n_targets=np.shape(Standardized_Bhads_targets)[1], n_targets_classification= np.shape(onehot)[1], regularizer_strength= 1e-6, n_features=np.shape(b_jets_input_scaled)[1], Dropout_rate=0.1)"
   ]
  },
  {
   "cell_type": "code",
   "execution_count": null,
   "metadata": {},
   "outputs": [],
   "source": [
    "from DeepSetNeuralNetArchitecture import LogNormal_Loss_Function\n",
    "from HffragDeepSetsProjection import Multivariate_Gaussian_Negative_Likelihood_Loss_Curve\n",
    "from HffragDeepSetsProjectionMultivariateExperimental7 import Multivariate_Gaussian_Negative_Likelihood_Loss_Curve\n",
    "DeepSetProjector.compile(\n",
    " optimizer = optimizer,\n",
    " loss = {\"MultivariateLoss\": Multivariate_Gaussian_Negative_Likelihood_Loss_Curve, \"MassOutput\":tf.keras.losses.categorical_crossentropy},\n",
    " metrics = [Mean_Squared_Error]   \n",
    ")"
   ]
  },
  {
   "cell_type": "code",
   "execution_count": null,
   "metadata": {},
   "outputs": [
    {
     "name": "stdout",
     "output_type": "stream",
     "text": [
      "Model: \"model_4\"\n",
      "__________________________________________________________________________________________________\n",
      " Layer (type)                   Output Shape         Param #     Connected to                     \n",
      "==================================================================================================\n",
      " input_19 (InputLayer)          [(None, None, 15)]   0           []                               \n",
      "                                                                                                  \n",
      " time_distributed_40 (TimeDistr  (None, None, 15)    240         ['input_19[0][0]']               \n",
      " ibuted)                                                                                          \n",
      "                                                                                                  \n",
      " time_distributed_residual_unit  (None, None, 15)    510         ['time_distributed_40[1][0]']    \n",
      " s_12 (TimeDistributedResidualU                                                                   \n",
      " nits)                                                                                            \n",
      "                                                                                                  \n",
      " time_distributed_43 (TimeDistr  (None, None, 100)   1600        ['time_distributed_residual_units\n",
      " ibuted)                                                         _12[1][0]']                      \n",
      "                                                                                                  \n",
      " input_20 (InputLayer)          [(None, 132)]        0           []                               \n",
      "                                                                                                  \n",
      " time_distributed_residual_unit  (None, None, 100)   20400       ['time_distributed_43[1][0]']    \n",
      " s_13 (TimeDistributedResidualU                                                                   \n",
      " nits)                                                                                            \n",
      "                                                                                                  \n",
      " dense_102 (Dense)              (None, 100)          13300       ['input_20[0][0]']               \n",
      "                                                                                                  \n",
      " time_distributed_46 (TimeDistr  (None, None, 100)   10100       ['time_distributed_residual_units\n",
      " ibuted)                                                         _13[1][0]']                      \n",
      "                                                                                                  \n",
      " layer_normalization_31 (LayerN  (None, 100)         200         ['dense_102[1][0]']              \n",
      " ormalization)                                                                                    \n",
      "                                                                                                  \n",
      " time_distributed_residual_unit  (None, None, 100)   20400       ['time_distributed_46[1][0]']    \n",
      " s_14 (TimeDistributedResidualU                                                                   \n",
      " nits)                                                                                            \n",
      "                                                                                                  \n",
      " dense_103 (Dense)              (None, 100)          10100       ['layer_normalization_31[1][0]'] \n",
      "                                                                                                  \n",
      " time_distributed_49 (TimeDistr  (None, None, 100)   10100       ['time_distributed_residual_units\n",
      " ibuted)                                                         _14[1][0]']                      \n",
      "                                                                                                  \n",
      " layer_normalization_32 (LayerN  (None, 100)         200         ['dense_103[1][0]']              \n",
      " ormalization)                                                                                    \n",
      "                                                                                                  \n",
      " sum_4 (Sum)                    (None, 100)          0           ['time_distributed_49[1][0]']    \n",
      "                                                                                                  \n",
      " dense_104 (Dense)              (None, 100)          10100       ['layer_normalization_32[1][0]'] \n",
      "                                                                                                  \n",
      " concatenate_4 (Concatenate)    (None, 200)          0           ['sum_4[1][0]',                  \n",
      "                                                                  'dense_104[1][0]']              \n",
      "                                                                                                  \n",
      " dense_105 (Dense)              (None, 256)          51456       ['concatenate_4[1][0]']          \n",
      "                                                                                                  \n",
      " residual_units_8 (ResidualUnit  (None, 256)         132096      ['dense_105[1][0]']              \n",
      " s)                                                                                               \n",
      "                                                                                                  \n",
      " dense_108 (Dense)              (None, 256)          65792       ['residual_units_8[1][0]']       \n",
      "                                                                                                  \n",
      " residual_units_9 (ResidualUnit  (None, 256)         132096      ['dense_108[1][0]']              \n",
      " s)                                                                                               \n",
      "                                                                                                  \n",
      " HuberLoss (Dense)              (None, 9)            2313        ['residual_units_9[1][0]']       \n",
      "                                                                                                  \n",
      " dense_113 (Dense)              (None, 64)           640         ['HuberLoss[1][0]']              \n",
      "                                                                                                  \n",
      " dense_111 (Dense)              (None, 9)            2313        ['residual_units_9[1][0]']       \n",
      "                                                                                                  \n",
      " dense_112 (Dense)              (None, 36)           9252        ['residual_units_9[1][0]']       \n",
      "                                                                                                  \n",
      " dense_114 (Dense)              (None, 64)           4160        ['dense_113[1][0]']              \n",
      "                                                                                                  \n",
      " MultivariateLoss (Concatenate)  (None, 54)          0           ['HuberLoss[1][0]',              \n",
      "                                                                  'dense_111[1][0]',              \n",
      "                                                                  'dense_112[1][0]']              \n",
      "                                                                                                  \n",
      " MassOutput (Dense)             (None, 3)            195         ['dense_114[1][0]']              \n",
      "                                                                                                  \n",
      "==================================================================================================\n",
      "Total params: 497,563\n",
      "Trainable params: 497,563\n",
      "Non-trainable params: 0\n",
      "__________________________________________________________________________________________________\n"
     ]
    }
   ],
   "source": [
    "#Summarises the DeepSetsProjector Set Neural Network Architecture\n",
    "DeepSetProjector.summary()"
   ]
  },
  {
   "cell_type": "code",
   "execution_count": null,
   "metadata": {},
   "outputs": [],
   "source": [
    "# Introduce early_stopping to prevent overfitting\n",
    "early_stopping = callbacks.EarlyStopping(\n",
    "    min_delta=0.00001,  # The minimum amount of change to count as an improvement\n",
    "    patience=50,  # The number of epochs to wait before stopping\n",
    "    restore_best_weights=True,  # Keep the best weights\n",
    ")\n",
    "# Prevent spikes in the validation and training loss due to the gradient descent kicking the network out of a local minima\n",
    "reduce_learn_on_plateau = callbacks.ReduceLROnPlateau(\n",
    "    monitor='val_loss', factor=0.80, patience=15, min_lr=1e-9)\n",
    "\n",
    "# Save the weights of the model to allow reuse in future.\n",
    "path = \"/home/physics/phujdj/DeepLearningParticlePhysics/CheckPointsDeepNet/ResidualDeepSetsWeights&Biases.ckpt\"\n",
    "checkpoint_dir = os.path.dirname(path)\n",
    "cp_callback = tf.keras.callbacks.ModelCheckpoint(filepath=path,\n",
    "                                                 save_weights_only=True, verbose=0, save_freq = 25*BATCHSIZE)\n",
    "#Timer\n",
    "#cb = TimingCallback()\n",
    "\n",
    "#Weight&Biases Callback:\n",
    "#Wanda = WandbCallback(save_graph = True,save_weights_only = True, log_weights = True, log_gradients = True, log_evaluation = True, training_data = (X_train,y_train), validation_data = (X_valid,y_valid), log_batch_frequency = 5)\n",
    "\n",
    "# Learning Scheduler:\n",
    "exponential_decay_fn = DSNNA.expontial_decay(lr0 = LR,s = 100)\n",
    "learning_scheduler = tf.keras.callbacks.LearningRateScheduler(exponential_decay_fn)"
   ]
  },
  {
   "cell_type": "code",
   "execution_count": null,
   "metadata": {},
   "outputs": [
    {
     "name": "stdout",
     "output_type": "stream",
     "text": [
      "Epoch 1/1000\n",
      "1052/1052 [==============================] - 51s 38ms/step - loss: 586571.9375 - MultivariateLoss_loss: 586530.8125 - MassOutput_loss: 1.0233 - MultivariateLoss_Mean_Squared_Error: 2.5803 - MassOutput_Mean_Squared_Error: 0.2079 - val_loss: 818.1115 - val_MultivariateLoss_loss: 775.5984 - val_MassOutput_loss: 1.0166 - val_MultivariateLoss_Mean_Squared_Error: 2.8524 - val_MassOutput_Mean_Squared_Error: 0.2065 - lr: 3.0000e-04\n",
      "Epoch 2/1000\n",
      "1052/1052 [==============================] - 39s 37ms/step - loss: 525.7292 - MultivariateLoss_loss: 483.2206 - MassOutput_loss: 1.0122 - MultivariateLoss_Mean_Squared_Error: 2.8663 - MassOutput_Mean_Squared_Error: 0.2055 - val_loss: 374.3163 - val_MultivariateLoss_loss: 331.8025 - val_MassOutput_loss: 1.0171 - val_MultivariateLoss_Mean_Squared_Error: 2.8475 - val_MassOutput_Mean_Squared_Error: 0.2067 - lr: 3.0000e-04\n",
      "Epoch 3/1000\n",
      "1052/1052 [==============================] - 39s 37ms/step - loss: 273.9741 - MultivariateLoss_loss: 231.4673 - MassOutput_loss: 1.0103 - MultivariateLoss_Mean_Squared_Error: 2.7218 - MassOutput_Mean_Squared_Error: 0.2052 - val_loss: 220.6784 - val_MultivariateLoss_loss: 178.1684 - val_MassOutput_loss: 1.0135 - val_MultivariateLoss_Mean_Squared_Error: 2.6055 - val_MassOutput_Mean_Squared_Error: 0.2058 - lr: 3.0000e-04\n",
      "Epoch 4/1000\n",
      "1052/1052 [==============================] - 39s 37ms/step - loss: 174.2389 - MultivariateLoss_loss: 131.7333 - MassOutput_loss: 1.0092 - MultivariateLoss_Mean_Squared_Error: 2.4550 - MassOutput_Mean_Squared_Error: 0.2050 - val_loss: 150.3607 - val_MultivariateLoss_loss: 107.8525 - val_MassOutput_loss: 1.0120 - val_MultivariateLoss_Mean_Squared_Error: 2.3101 - val_MassOutput_Mean_Squared_Error: 0.2055 - lr: 3.0000e-04\n",
      "Epoch 5/1000\n",
      "1052/1052 [==============================] - 39s 37ms/step - loss: 125.9125 - MultivariateLoss_loss: 83.4075 - MassOutput_loss: 1.0089 - MultivariateLoss_Mean_Squared_Error: 2.1944 - MassOutput_Mean_Squared_Error: 0.2049 - val_loss: 113.8218 - val_MultivariateLoss_loss: 71.3138 - val_MassOutput_loss: 1.0122 - val_MultivariateLoss_Mean_Squared_Error: 2.1012 - val_MassOutput_Mean_Squared_Error: 0.2055 - lr: 3.0000e-04\n",
      "Epoch 6/1000\n",
      "1052/1052 [==============================] - 39s 37ms/step - loss: 100.1361 - MultivariateLoss_loss: 57.6323 - MassOutput_loss: 1.0084 - MultivariateLoss_Mean_Squared_Error: 2.0075 - MassOutput_Mean_Squared_Error: 0.2049 - val_loss: 93.6843 - val_MultivariateLoss_loss: 51.1769 - val_MassOutput_loss: 1.0123 - val_MultivariateLoss_Mean_Squared_Error: 1.9360 - val_MassOutput_Mean_Squared_Error: 0.2055 - lr: 3.0000e-04\n",
      "Epoch 7/1000\n",
      "1052/1052 [==============================] - 39s 37ms/step - loss: 85.6096 - MultivariateLoss_loss: 43.1068 - MassOutput_loss: 1.0081 - MultivariateLoss_Mean_Squared_Error: 1.8621 - MassOutput_Mean_Squared_Error: 0.2048 - val_loss: 81.9801 - val_MultivariateLoss_loss: 39.4720 - val_MassOutput_loss: 1.0140 - val_MultivariateLoss_Mean_Squared_Error: 1.8049 - val_MassOutput_Mean_Squared_Error: 0.2060 - lr: 3.0000e-04\n",
      "Epoch 8/1000\n",
      "1052/1052 [==============================] - 39s 37ms/step - loss: 77.1506 - MultivariateLoss_loss: 34.6493 - MassOutput_loss: 1.0079 - MultivariateLoss_Mean_Squared_Error: 1.7429 - MassOutput_Mean_Squared_Error: 0.2047 - val_loss: 75.1020 - val_MultivariateLoss_loss: 32.5958 - val_MassOutput_loss: 1.0137 - val_MultivariateLoss_Mean_Squared_Error: 1.6926 - val_MassOutput_Mean_Squared_Error: 0.2058 - lr: 3.0000e-04\n",
      "Epoch 9/1000\n",
      "1052/1052 [==============================] - 39s 37ms/step - loss: 72.1393 - MultivariateLoss_loss: 29.6404 - MassOutput_loss: 1.0075 - MultivariateLoss_Mean_Squared_Error: 1.6371 - MassOutput_Mean_Squared_Error: 0.2046 - val_loss: 70.9677 - val_MultivariateLoss_loss: 28.4652 - val_MassOutput_loss: 1.0123 - val_MultivariateLoss_Mean_Squared_Error: 1.6072 - val_MassOutput_Mean_Squared_Error: 0.2056 - lr: 3.0000e-04\n",
      "Epoch 10/1000\n",
      "1052/1052 [==============================] - 39s 37ms/step - loss: 69.0993 - MultivariateLoss_loss: 26.6032 - MassOutput_loss: 1.0074 - MultivariateLoss_Mean_Squared_Error: 1.5544 - MassOutput_Mean_Squared_Error: 0.2046 - val_loss: 68.4027 - val_MultivariateLoss_loss: 25.9031 - val_MassOutput_loss: 1.0128 - val_MultivariateLoss_Mean_Squared_Error: 1.5162 - val_MassOutput_Mean_Squared_Error: 0.2056 - lr: 3.0000e-04\n",
      "Epoch 11/1000\n",
      "1052/1052 [==============================] - 39s 37ms/step - loss: 67.1724 - MultivariateLoss_loss: 24.6804 - MassOutput_loss: 1.0073 - MultivariateLoss_Mean_Squared_Error: 1.4793 - MassOutput_Mean_Squared_Error: 0.2046 - val_loss: 66.7199 - val_MultivariateLoss_loss: 24.2257 - val_MassOutput_loss: 1.0120 - val_MultivariateLoss_Mean_Squared_Error: 1.4467 - val_MassOutput_Mean_Squared_Error: 0.2055 - lr: 3.0000e-04\n",
      "Epoch 12/1000\n",
      "1052/1052 [==============================] - 39s 37ms/step - loss: 65.8436 - MultivariateLoss_loss: 23.3573 - MassOutput_loss: 1.0072 - MultivariateLoss_Mean_Squared_Error: 1.4068 - MassOutput_Mean_Squared_Error: 0.2046 - val_loss: 65.4968 - val_MultivariateLoss_loss: 23.0101 - val_MassOutput_loss: 1.0111 - val_MultivariateLoss_Mean_Squared_Error: 1.3709 - val_MassOutput_Mean_Squared_Error: 0.2053 - lr: 3.0000e-04\n",
      "Epoch 13/1000\n",
      "1052/1052 [==============================] - 39s 37ms/step - loss: 64.7513 - MultivariateLoss_loss: 22.2733 - MassOutput_loss: 1.0069 - MultivariateLoss_Mean_Squared_Error: 1.3278 - MassOutput_Mean_Squared_Error: 0.2045 - val_loss: 64.3861 - val_MultivariateLoss_loss: 21.9089 - val_MassOutput_loss: 1.0111 - val_MultivariateLoss_Mean_Squared_Error: 1.2933 - val_MassOutput_Mean_Squared_Error: 0.2052 - lr: 3.0000e-04\n",
      "Epoch 14/1000\n",
      "1052/1052 [==============================] - 39s 37ms/step - loss: 63.6283 - MultivariateLoss_loss: 21.1618 - MassOutput_loss: 1.0068 - MultivariateLoss_Mean_Squared_Error: 1.2322 - MassOutput_Mean_Squared_Error: 0.2045 - val_loss: 63.1881 - val_MultivariateLoss_loss: 20.7249 - val_MassOutput_loss: 1.0109 - val_MultivariateLoss_Mean_Squared_Error: 1.1810 - val_MassOutput_Mean_Squared_Error: 0.2052 - lr: 3.0000e-04\n",
      "Epoch 15/1000\n",
      "1052/1052 [==============================] - 39s 37ms/step - loss: 62.3361 - MultivariateLoss_loss: 19.8868 - MassOutput_loss: 1.0065 - MultivariateLoss_Mean_Squared_Error: 1.1155 - MassOutput_Mean_Squared_Error: 0.2045 - val_loss: 61.7987 - val_MultivariateLoss_loss: 19.3547 - val_MassOutput_loss: 1.0119 - val_MultivariateLoss_Mean_Squared_Error: 1.0630 - val_MassOutput_Mean_Squared_Error: 0.2054 - lr: 3.0000e-04\n",
      "Epoch 16/1000\n",
      "1052/1052 [==============================] - 39s 37ms/step - loss: 60.8587 - MultivariateLoss_loss: 18.4343 - MassOutput_loss: 1.0066 - MultivariateLoss_Mean_Squared_Error: 1.0016 - MassOutput_Mean_Squared_Error: 0.2045 - val_loss: 60.1947 - val_MultivariateLoss_loss: 17.7814 - val_MassOutput_loss: 1.0120 - val_MultivariateLoss_Mean_Squared_Error: 0.9545 - val_MassOutput_Mean_Squared_Error: 0.2055 - lr: 3.0000e-04\n",
      "Epoch 17/1000\n",
      "1052/1052 [==============================] - 39s 37ms/step - loss: 59.1430 - MultivariateLoss_loss: 16.7562 - MassOutput_loss: 1.0068 - MultivariateLoss_Mean_Squared_Error: 0.9025 - MassOutput_Mean_Squared_Error: 0.2045 - val_loss: 58.3266 - val_MultivariateLoss_loss: 15.9601 - val_MassOutput_loss: 1.0112 - val_MultivariateLoss_Mean_Squared_Error: 0.8641 - val_MassOutput_Mean_Squared_Error: 0.2053 - lr: 3.0000e-04\n",
      "Epoch 18/1000\n",
      "1052/1052 [==============================] - 39s 37ms/step - loss: 57.2065 - MultivariateLoss_loss: 14.8768 - MassOutput_loss: 1.0070 - MultivariateLoss_Mean_Squared_Error: 0.8133 - MassOutput_Mean_Squared_Error: 0.2045 - val_loss: 56.1953 - val_MultivariateLoss_loss: 13.8992 - val_MassOutput_loss: 1.0107 - val_MultivariateLoss_Mean_Squared_Error: 0.7708 - val_MassOutput_Mean_Squared_Error: 0.2052 - lr: 3.0000e-04\n",
      "Epoch 19/1000\n",
      "1052/1052 [==============================] - 39s 37ms/step - loss: 54.7152 - MultivariateLoss_loss: 12.4709 - MassOutput_loss: 1.0070 - MultivariateLoss_Mean_Squared_Error: 0.7089 - MassOutput_Mean_Squared_Error: 0.2046 - val_loss: 53.2755 - val_MultivariateLoss_loss: 11.0815 - val_MassOutput_loss: 1.0108 - val_MultivariateLoss_Mean_Squared_Error: 0.6568 - val_MassOutput_Mean_Squared_Error: 0.2052 - lr: 3.0000e-04\n",
      "Epoch 20/1000\n",
      "1052/1052 [==============================] - 39s 37ms/step - loss: 51.4501 - MultivariateLoss_loss: 9.3236 - MassOutput_loss: 1.0072 - MultivariateLoss_Mean_Squared_Error: 0.5877 - MassOutput_Mean_Squared_Error: 0.2046 - val_loss: 49.6791 - val_MultivariateLoss_loss: 7.6258 - val_MassOutput_loss: 1.0107 - val_MultivariateLoss_Mean_Squared_Error: 0.5352 - val_MassOutput_Mean_Squared_Error: 0.2052 - lr: 3.0000e-04\n",
      "Epoch 21/1000\n",
      "1052/1052 [==============================] - 39s 37ms/step - loss: 47.7697 - MultivariateLoss_loss: 5.8219 - MassOutput_loss: 1.0075 - MultivariateLoss_Mean_Squared_Error: 0.4897 - MassOutput_Mean_Squared_Error: 0.2047 - val_loss: 45.8970 - val_MultivariateLoss_loss: 4.0625 - val_MassOutput_loss: 1.0110 - val_MultivariateLoss_Mean_Squared_Error: 0.4627 - val_MassOutput_Mean_Squared_Error: 0.2053 - lr: 3.0000e-04\n",
      "Epoch 22/1000\n",
      "1052/1052 [==============================] - 39s 37ms/step - loss: 44.1988 - MultivariateLoss_loss: 2.5186 - MassOutput_loss: 1.0076 - MultivariateLoss_Mean_Squared_Error: 0.4336 - MassOutput_Mean_Squared_Error: 0.2047 - val_loss: 42.6201 - val_MultivariateLoss_loss: 1.1073 - val_MassOutput_loss: 1.0111 - val_MultivariateLoss_Mean_Squared_Error: 0.4168 - val_MassOutput_Mean_Squared_Error: 0.2053 - lr: 3.0000e-04\n",
      "Epoch 23/1000\n",
      "1052/1052 [==============================] - 39s 37ms/step - loss: 49.1669 - MultivariateLoss_loss: 7.8552 - MassOutput_loss: 1.0083 - MultivariateLoss_Mean_Squared_Error: 0.7690 - MassOutput_Mean_Squared_Error: 0.2048 - val_loss: 50.2093 - val_MultivariateLoss_loss: 9.0516 - val_MassOutput_loss: 1.0110 - val_MultivariateLoss_Mean_Squared_Error: 0.8423 - val_MassOutput_Mean_Squared_Error: 0.2053 - lr: 3.0000e-04\n",
      "Epoch 24/1000\n",
      "1052/1052 [==============================] - 39s 37ms/step - loss: 45.4008 - MultivariateLoss_loss: 4.4917 - MassOutput_loss: 1.0076 - MultivariateLoss_Mean_Squared_Error: 0.5952 - MassOutput_Mean_Squared_Error: 0.2047 - val_loss: 41.4178 - val_MultivariateLoss_loss: 0.7885 - val_MassOutput_loss: 1.0110 - val_MultivariateLoss_Mean_Squared_Error: 0.5787 - val_MassOutput_Mean_Squared_Error: 0.2053 - lr: 3.0000e-04\n",
      "Epoch 25/1000\n",
      "1052/1052 [==============================] - 39s 37ms/step - loss: 79.5615 - MultivariateLoss_loss: 39.0924 - MassOutput_loss: 1.0094 - MultivariateLoss_Mean_Squared_Error: 2.0147 - MassOutput_Mean_Squared_Error: 0.2050 - val_loss: 49.8229 - val_MultivariateLoss_loss: 9.4380 - val_MassOutput_loss: 1.0106 - val_MultivariateLoss_Mean_Squared_Error: 1.4310 - val_MassOutput_Mean_Squared_Error: 0.2052 - lr: 3.0000e-04\n",
      "Epoch 26/1000\n",
      "1052/1052 [==============================] - 39s 37ms/step - loss: 74.4052 - MultivariateLoss_loss: 34.2161 - MassOutput_loss: 1.0082 - MultivariateLoss_Mean_Squared_Error: 1.6244 - MassOutput_Mean_Squared_Error: 0.2048 - val_loss: 78.8128 - val_MultivariateLoss_loss: 38.6931 - val_MassOutput_loss: 1.0113 - val_MultivariateLoss_Mean_Squared_Error: 4.5771 - val_MassOutput_Mean_Squared_Error: 0.2054 - lr: 3.0000e-04\n",
      "Epoch 27/1000\n",
      "1052/1052 [==============================] - 39s 37ms/step - loss: 62.6817 - MultivariateLoss_loss: 22.6328 - MassOutput_loss: 1.0091 - MultivariateLoss_Mean_Squared_Error: 3.5900 - MassOutput_Mean_Squared_Error: 0.2050 - val_loss: 48.8256 - val_MultivariateLoss_loss: 8.8999 - val_MassOutput_loss: 1.0107 - val_MultivariateLoss_Mean_Squared_Error: 1.9111 - val_MassOutput_Mean_Squared_Error: 0.2052 - lr: 3.0000e-04\n",
      "Epoch 28/1000\n",
      "1052/1052 [==============================] - 39s 37ms/step - loss: 50.5884 - MultivariateLoss_loss: 10.9161 - MassOutput_loss: 1.0081 - MultivariateLoss_Mean_Squared_Error: 1.5059 - MassOutput_Mean_Squared_Error: 0.2048 - val_loss: 50.5682 - val_MultivariateLoss_loss: 11.1704 - val_MassOutput_loss: 1.0142 - val_MultivariateLoss_Mean_Squared_Error: 1.4173 - val_MassOutput_Mean_Squared_Error: 0.2057 - lr: 3.0000e-04\n",
      "Epoch 29/1000\n",
      "1052/1052 [==============================] - 40s 38ms/step - loss: 45.4663 - MultivariateLoss_loss: 6.4128 - MassOutput_loss: 1.0078 - MultivariateLoss_Mean_Squared_Error: 1.0482 - MassOutput_Mean_Squared_Error: 0.2047 - val_loss: 41.4109 - val_MultivariateLoss_loss: 2.7330 - val_MassOutput_loss: 1.0107 - val_MultivariateLoss_Mean_Squared_Error: 0.8036 - val_MassOutput_Mean_Squared_Error: 0.2052 - lr: 3.0000e-04\n",
      "Epoch 30/1000\n",
      "1052/1052 [==============================] - 39s 37ms/step - loss: 743.6359 - MultivariateLoss_loss: 705.0432 - MassOutput_loss: 1.0086 - MultivariateLoss_Mean_Squared_Error: 3.9182 - MassOutput_Mean_Squared_Error: 0.2049 - val_loss: 68.0389 - val_MultivariateLoss_loss: 29.4477 - val_MassOutput_loss: 1.0109 - val_MultivariateLoss_Mean_Squared_Error: 5.3099 - val_MassOutput_Mean_Squared_Error: 0.2052 - lr: 3.0000e-04\n",
      "Epoch 31/1000\n",
      "1052/1052 [==============================] - 39s 37ms/step - loss: 63.1809 - MultivariateLoss_loss: 24.6558 - MassOutput_loss: 1.0081 - MultivariateLoss_Mean_Squared_Error: 3.9539 - MassOutput_Mean_Squared_Error: 0.2048 - val_loss: 56.2266 - val_MultivariateLoss_loss: 17.7148 - val_MassOutput_loss: 1.0106 - val_MultivariateLoss_Mean_Squared_Error: 2.0369 - val_MassOutput_Mean_Squared_Error: 0.2052 - lr: 3.0000e-04\n",
      "Epoch 32/1000\n",
      "1052/1052 [==============================] - 39s 37ms/step - loss: 50.1139 - MultivariateLoss_loss: 11.7147 - MassOutput_loss: 1.0080 - MultivariateLoss_Mean_Squared_Error: 1.4122 - MassOutput_Mean_Squared_Error: 0.2048 - val_loss: 44.3491 - val_MultivariateLoss_loss: 6.1497 - val_MassOutput_loss: 1.0104 - val_MultivariateLoss_Mean_Squared_Error: 0.9386 - val_MassOutput_Mean_Squared_Error: 0.2052 - lr: 3.0000e-04\n",
      "Epoch 33/1000\n",
      "1052/1052 [==============================] - 39s 37ms/step - loss: 71.0161 - MultivariateLoss_loss: 33.0116 - MassOutput_loss: 1.0083 - MultivariateLoss_Mean_Squared_Error: 2.8842 - MassOutput_Mean_Squared_Error: 0.2048 - val_loss: 62.7764 - val_MultivariateLoss_loss: 24.8957 - val_MassOutput_loss: 1.0110 - val_MultivariateLoss_Mean_Squared_Error: 6.0441 - val_MassOutput_Mean_Squared_Error: 0.2053 - lr: 3.0000e-04\n",
      "Epoch 34/1000\n",
      "1052/1052 [==============================] - 39s 37ms/step - loss: 55.8594 - MultivariateLoss_loss: 18.0796 - MassOutput_loss: 1.0081 - MultivariateLoss_Mean_Squared_Error: 5.4537 - MassOutput_Mean_Squared_Error: 0.2048 - val_loss: 51.5836 - val_MultivariateLoss_loss: 13.9893 - val_MassOutput_loss: 1.0111 - val_MultivariateLoss_Mean_Squared_Error: 4.4140 - val_MassOutput_Mean_Squared_Error: 0.2053 - lr: 3.0000e-04\n",
      "Epoch 35/1000\n",
      "1052/1052 [==============================] - 39s 37ms/step - loss: 49.4091 - MultivariateLoss_loss: 12.0577 - MassOutput_loss: 1.0079 - MultivariateLoss_Mean_Squared_Error: 3.5577 - MassOutput_Mean_Squared_Error: 0.2048 - val_loss: 46.5503 - val_MultivariateLoss_loss: 9.4413 - val_MassOutput_loss: 1.0106 - val_MultivariateLoss_Mean_Squared_Error: 2.7202 - val_MassOutput_Mean_Squared_Error: 0.2052 - lr: 3.0000e-04\n",
      "Epoch 36/1000\n",
      "1052/1052 [==============================] - 39s 37ms/step - loss: 44.1148 - MultivariateLoss_loss: 7.3434 - MassOutput_loss: 1.0077 - MultivariateLoss_Mean_Squared_Error: 1.9015 - MassOutput_Mean_Squared_Error: 0.2047 - val_loss: 40.6813 - val_MultivariateLoss_loss: 4.2681 - val_MassOutput_loss: 1.0120 - val_MultivariateLoss_Mean_Squared_Error: 1.1459 - val_MassOutput_Mean_Squared_Error: 0.2054 - lr: 3.0000e-04\n",
      "Epoch 37/1000\n",
      "1052/1052 [==============================] - 39s 37ms/step - loss: 96.8026 - MultivariateLoss_loss: 60.5575 - MassOutput_loss: 1.0088 - MultivariateLoss_Mean_Squared_Error: 6.1039 - MassOutput_Mean_Squared_Error: 0.2049 - val_loss: 67.2672 - val_MultivariateLoss_loss: 31.2276 - val_MassOutput_loss: 1.0125 - val_MultivariateLoss_Mean_Squared_Error: 6.7326 - val_MassOutput_Mean_Squared_Error: 0.2055 - lr: 3.0000e-04\n",
      "Epoch 38/1000\n",
      "1052/1052 [==============================] - 39s 37ms/step - loss: 58.6360 - MultivariateLoss_loss: 22.7970 - MassOutput_loss: 1.0081 - MultivariateLoss_Mean_Squared_Error: 5.2284 - MassOutput_Mean_Squared_Error: 0.2048 - val_loss: 53.8013 - val_MultivariateLoss_loss: 18.2672 - val_MassOutput_loss: 1.0106 - val_MultivariateLoss_Mean_Squared_Error: 3.9755 - val_MassOutput_Mean_Squared_Error: 0.2052 - lr: 3.0000e-04\n",
      "Epoch 39/1000\n",
      "1052/1052 [==============================] - 39s 37ms/step - loss: 50.0808 - MultivariateLoss_loss: 14.9441 - MassOutput_loss: 1.0080 - MultivariateLoss_Mean_Squared_Error: 3.3153 - MassOutput_Mean_Squared_Error: 0.2048 - val_loss: 46.7950 - val_MultivariateLoss_loss: 12.0891 - val_MassOutput_loss: 1.0107 - val_MultivariateLoss_Mean_Squared_Error: 3.0061 - val_MassOutput_Mean_Squared_Error: 0.2052 - lr: 3.0000e-04\n",
      "Epoch 40/1000\n",
      "1052/1052 [==============================] - 39s 37ms/step - loss: 43.7328 - MultivariateLoss_loss: 9.5467 - MassOutput_loss: 1.0078 - MultivariateLoss_Mean_Squared_Error: 2.5949 - MassOutput_Mean_Squared_Error: 0.2047 - val_loss: 40.9260 - val_MultivariateLoss_loss: 7.2969 - val_MassOutput_loss: 1.0106 - val_MultivariateLoss_Mean_Squared_Error: 2.2757 - val_MassOutput_Mean_Squared_Error: 0.2052 - lr: 3.0000e-04\n",
      "Epoch 41/1000\n",
      "1052/1052 [==============================] - 39s 37ms/step - loss: 46.9459 - MultivariateLoss_loss: 13.7513 - MassOutput_loss: 1.0078 - MultivariateLoss_Mean_Squared_Error: 2.0434 - MassOutput_Mean_Squared_Error: 0.2047 - val_loss: 38.7863 - val_MultivariateLoss_loss: 6.1646 - val_MassOutput_loss: 1.0114 - val_MultivariateLoss_Mean_Squared_Error: 0.7478 - val_MassOutput_Mean_Squared_Error: 0.2053 - lr: 3.0000e-04\n",
      "Epoch 42/1000\n",
      "1052/1052 [==============================] - 39s 37ms/step - loss: 50.9980 - MultivariateLoss_loss: 18.5883 - MassOutput_loss: 1.0082 - MultivariateLoss_Mean_Squared_Error: 1.2596 - MassOutput_Mean_Squared_Error: 0.2048 - val_loss: 33.8036 - val_MultivariateLoss_loss: 1.9146 - val_MassOutput_loss: 1.0105 - val_MultivariateLoss_Mean_Squared_Error: 0.6441 - val_MassOutput_Mean_Squared_Error: 0.2052 - lr: 3.0000e-04\n",
      "Epoch 43/1000\n",
      "1052/1052 [==============================] - 39s 37ms/step - loss: 67.0019 - MultivariateLoss_loss: 34.8851 - MassOutput_loss: 1.0082 - MultivariateLoss_Mean_Squared_Error: 2.7814 - MassOutput_Mean_Squared_Error: 0.2048 - val_loss: 46.4579 - val_MultivariateLoss_loss: 14.0474 - val_MassOutput_loss: 1.0106 - val_MultivariateLoss_Mean_Squared_Error: 2.5704 - val_MassOutput_Mean_Squared_Error: 0.2052 - lr: 3.0000e-04\n",
      "Epoch 44/1000\n",
      "1052/1052 [==============================] - 39s 37ms/step - loss: 47.2144 - MultivariateLoss_loss: 15.1396 - MassOutput_loss: 1.0080 - MultivariateLoss_Mean_Squared_Error: 2.1838 - MassOutput_Mean_Squared_Error: 0.2048 - val_loss: 53.5225 - val_MultivariateLoss_loss: 21.7421 - val_MassOutput_loss: 1.0106 - val_MultivariateLoss_Mean_Squared_Error: 3.3922 - val_MassOutput_Mean_Squared_Error: 0.2052 - lr: 3.0000e-04\n",
      "Epoch 45/1000\n",
      "1052/1052 [==============================] - 39s 37ms/step - loss: 44.9116 - MultivariateLoss_loss: 13.5019 - MassOutput_loss: 1.0079 - MultivariateLoss_Mean_Squared_Error: 2.4222 - MassOutput_Mean_Squared_Error: 0.2047 - val_loss: 38.5571 - val_MultivariateLoss_loss: 7.6141 - val_MassOutput_loss: 1.0108 - val_MultivariateLoss_Mean_Squared_Error: 1.4691 - val_MassOutput_Mean_Squared_Error: 0.2052 - lr: 3.0000e-04\n",
      "Epoch 46/1000\n",
      "1052/1052 [==============================] - 38s 36ms/step - loss: 145.7686 - MultivariateLoss_loss: 115.0631 - MassOutput_loss: 1.0080 - MultivariateLoss_Mean_Squared_Error: 3.9585 - MassOutput_Mean_Squared_Error: 0.2048 - val_loss: 72.5160 - val_MultivariateLoss_loss: 41.6665 - val_MassOutput_loss: 1.0109 - val_MultivariateLoss_Mean_Squared_Error: 6.7281 - val_MassOutput_Mean_Squared_Error: 0.2053 - lr: 3.0000e-04\n",
      "Epoch 47/1000\n",
      "1052/1052 [==============================] - 37s 35ms/step - loss: 52.0179 - MultivariateLoss_loss: 20.6098 - MassOutput_loss: 1.0079 - MultivariateLoss_Mean_Squared_Error: 3.6059 - MassOutput_Mean_Squared_Error: 0.2047 - val_loss: 37.5265 - val_MultivariateLoss_loss: 6.1665 - val_MassOutput_loss: 1.0106 - val_MultivariateLoss_Mean_Squared_Error: 1.2052 - val_MassOutput_Mean_Squared_Error: 0.2052 - lr: 3.0000e-04\n",
      "Epoch 48/1000\n",
      "1052/1052 [==============================] - 37s 35ms/step - loss: 121.4712 - MultivariateLoss_loss: 90.3524 - MassOutput_loss: 1.0076 - MultivariateLoss_Mean_Squared_Error: 1.1079 - MassOutput_Mean_Squared_Error: 0.2047 - val_loss: 65.5435 - val_MultivariateLoss_loss: 34.4319 - val_MassOutput_loss: 1.0122 - val_MultivariateLoss_Mean_Squared_Error: 6.8463 - val_MassOutput_Mean_Squared_Error: 0.2054 - lr: 3.0000e-04\n",
      "Epoch 49/1000\n",
      "1052/1052 [==============================] - 37s 35ms/step - loss: 62.2472 - MultivariateLoss_loss: 31.2844 - MassOutput_loss: 1.0081 - MultivariateLoss_Mean_Squared_Error: 6.7468 - MassOutput_Mean_Squared_Error: 0.2048 - val_loss: 58.8880 - val_MultivariateLoss_loss: 28.0650 - val_MassOutput_loss: 1.0109 - val_MultivariateLoss_Mean_Squared_Error: 6.6264 - val_MassOutput_Mean_Squared_Error: 0.2052 - lr: 3.0000e-04\n",
      "Epoch 50/1000\n",
      "1052/1052 [==============================] - 37s 35ms/step - loss: 54.9090 - MultivariateLoss_loss: 24.1371 - MassOutput_loss: 1.0078 - MultivariateLoss_Mean_Squared_Error: 6.4300 - MassOutput_Mean_Squared_Error: 0.2047 - val_loss: 49.9546 - val_MultivariateLoss_loss: 19.1782 - val_MassOutput_loss: 1.0106 - val_MultivariateLoss_Mean_Squared_Error: 6.0835 - val_MassOutput_Mean_Squared_Error: 0.2052 - lr: 3.0000e-04\n",
      "Epoch 51/1000\n",
      "1052/1052 [==============================] - 37s 35ms/step - loss: 45.2482 - MultivariateLoss_loss: 14.6317 - MassOutput_loss: 1.0077 - MultivariateLoss_Mean_Squared_Error: 5.0499 - MassOutput_Mean_Squared_Error: 0.2047 - val_loss: 41.8964 - val_MultivariateLoss_loss: 11.5660 - val_MassOutput_loss: 1.0107 - val_MultivariateLoss_Mean_Squared_Error: 4.0621 - val_MassOutput_Mean_Squared_Error: 0.2052 - lr: 3.0000e-04\n",
      "Epoch 52/1000\n",
      "1052/1052 [==============================] - 37s 35ms/step - loss: 44.9578 - MultivariateLoss_loss: 14.9321 - MassOutput_loss: 1.0078 - MultivariateLoss_Mean_Squared_Error: 3.4121 - MassOutput_Mean_Squared_Error: 0.2047 - val_loss: 51.3961 - val_MultivariateLoss_loss: 21.6148 - val_MassOutput_loss: 1.0133 - val_MultivariateLoss_Mean_Squared_Error: 4.2315 - val_MassOutput_Mean_Squared_Error: 0.2057 - lr: 3.0000e-04\n",
      "Epoch 53/1000\n",
      "1052/1052 [==============================] - 37s 35ms/step - loss: 44.3035 - MultivariateLoss_loss: 14.4549 - MassOutput_loss: 1.0079 - MultivariateLoss_Mean_Squared_Error: 2.8910 - MassOutput_Mean_Squared_Error: 0.2047 - val_loss: 36.6193 - val_MultivariateLoss_loss: 6.8302 - val_MassOutput_loss: 1.0105 - val_MultivariateLoss_Mean_Squared_Error: 0.8631 - val_MassOutput_Mean_Squared_Error: 0.2052 - lr: 3.0000e-04\n",
      "Epoch 54/1000\n",
      "1052/1052 [==============================] - 37s 35ms/step - loss: 51.0440 - MultivariateLoss_loss: 21.5725 - MassOutput_loss: 1.0078 - MultivariateLoss_Mean_Squared_Error: 1.5605 - MassOutput_Mean_Squared_Error: 0.2047 - val_loss: 47.2102 - val_MultivariateLoss_loss: 18.0157 - val_MassOutput_loss: 1.0104 - val_MultivariateLoss_Mean_Squared_Error: 2.3801 - val_MassOutput_Mean_Squared_Error: 0.2052 - lr: 3.0000e-04\n",
      "Epoch 55/1000\n",
      "1052/1052 [==============================] - 36s 35ms/step - loss: 42.7831 - MultivariateLoss_loss: 13.9809 - MassOutput_loss: 1.0076 - MultivariateLoss_Mean_Squared_Error: 2.0734 - MassOutput_Mean_Squared_Error: 0.2047 - val_loss: 38.2189 - val_MultivariateLoss_loss: 9.8365 - val_MassOutput_loss: 1.0105 - val_MultivariateLoss_Mean_Squared_Error: 1.8740 - val_MassOutput_Mean_Squared_Error: 0.2052 - lr: 3.0000e-04\n",
      "Epoch 56/1000\n",
      "1052/1052 [==============================] - 37s 35ms/step - loss: 36.2678 - MultivariateLoss_loss: 8.4069 - MassOutput_loss: 1.0075 - MultivariateLoss_Mean_Squared_Error: 1.5922 - MassOutput_Mean_Squared_Error: 0.2047 - val_loss: 33.7681 - val_MultivariateLoss_loss: 6.4568 - val_MassOutput_loss: 1.0106 - val_MultivariateLoss_Mean_Squared_Error: 1.3228 - val_MassOutput_Mean_Squared_Error: 0.2052 - lr: 3.0000e-04\n",
      "Epoch 57/1000\n",
      "1052/1052 [==============================] - 37s 35ms/step - loss: 68.9850 - MultivariateLoss_loss: 41.8551 - MassOutput_loss: 1.0084 - MultivariateLoss_Mean_Squared_Error: 2.2829 - MassOutput_Mean_Squared_Error: 0.2048 - val_loss: 46.3238 - val_MultivariateLoss_loss: 19.1738 - val_MassOutput_loss: 1.0111 - val_MultivariateLoss_Mean_Squared_Error: 2.7777 - val_MassOutput_Mean_Squared_Error: 0.2053 - lr: 3.0000e-04\n",
      "Epoch 58/1000\n",
      "1052/1052 [==============================] - 37s 35ms/step - loss: 42.5216 - MultivariateLoss_loss: 15.3725 - MassOutput_loss: 1.0077 - MultivariateLoss_Mean_Squared_Error: 1.9896 - MassOutput_Mean_Squared_Error: 0.2047 - val_loss: 38.1169 - val_MultivariateLoss_loss: 11.0702 - val_MassOutput_loss: 1.0107 - val_MultivariateLoss_Mean_Squared_Error: 1.0492 - val_MassOutput_Mean_Squared_Error: 0.2052 - lr: 3.0000e-04\n",
      "Epoch 59/1000\n",
      "1052/1052 [==============================] - 37s 35ms/step - loss: 37.8850 - MultivariateLoss_loss: 11.1825 - MassOutput_loss: 1.0075 - MultivariateLoss_Mean_Squared_Error: 1.0754 - MassOutput_Mean_Squared_Error: 0.2047 - val_loss: 39.2827 - val_MultivariateLoss_loss: 12.7360 - val_MassOutput_loss: 1.0108 - val_MultivariateLoss_Mean_Squared_Error: 1.0147 - val_MassOutput_Mean_Squared_Error: 0.2052 - lr: 3.0000e-04\n",
      "Epoch 60/1000\n",
      "1052/1052 [==============================] - 37s 35ms/step - loss: 32.8771 - MultivariateLoss_loss: 6.6897 - MassOutput_loss: 1.0075 - MultivariateLoss_Mean_Squared_Error: 0.7153 - MassOutput_Mean_Squared_Error: 0.2046 - val_loss: 28.7848 - val_MultivariateLoss_loss: 3.0811 - val_MassOutput_loss: 1.0106 - val_MultivariateLoss_Mean_Squared_Error: 0.6520 - val_MassOutput_Mean_Squared_Error: 0.2052 - lr: 3.0000e-04\n",
      "Epoch 61/1000\n",
      "1052/1052 [==============================] - 37s 35ms/step - loss: 33.8839 - MultivariateLoss_loss: 8.5805 - MassOutput_loss: 1.0075 - MultivariateLoss_Mean_Squared_Error: 0.8339 - MassOutput_Mean_Squared_Error: 0.2046 - val_loss: 28.3312 - val_MultivariateLoss_loss: 3.6018 - val_MassOutput_loss: 1.0106 - val_MultivariateLoss_Mean_Squared_Error: 0.6736 - val_MassOutput_Mean_Squared_Error: 0.2052 - lr: 3.0000e-04\n",
      "Epoch 62/1000\n",
      "1052/1052 [==============================] - 37s 35ms/step - loss: 104.4385 - MultivariateLoss_loss: 80.0934 - MassOutput_loss: 1.0078 - MultivariateLoss_Mean_Squared_Error: 1.2930 - MassOutput_Mean_Squared_Error: 0.2047 - val_loss: 45.3441 - val_MultivariateLoss_loss: 20.9486 - val_MassOutput_loss: 1.0111 - val_MultivariateLoss_Mean_Squared_Error: 2.0906 - val_MassOutput_Mean_Squared_Error: 0.2053 - lr: 3.0000e-04\n",
      "Epoch 63/1000\n",
      "1052/1052 [==============================] - 37s 35ms/step - loss: 42.4746 - MultivariateLoss_loss: 18.2559 - MassOutput_loss: 1.0076 - MultivariateLoss_Mean_Squared_Error: 1.7386 - MassOutput_Mean_Squared_Error: 0.2047 - val_loss: 40.6191 - val_MultivariateLoss_loss: 16.6134 - val_MassOutput_loss: 1.0105 - val_MultivariateLoss_Mean_Squared_Error: 1.5656 - val_MassOutput_Mean_Squared_Error: 0.2052 - lr: 3.0000e-04\n",
      "Epoch 64/1000\n",
      "1052/1052 [==============================] - 37s 35ms/step - loss: 38.3147 - MultivariateLoss_loss: 14.5452 - MassOutput_loss: 1.0075 - MultivariateLoss_Mean_Squared_Error: 1.4231 - MassOutput_Mean_Squared_Error: 0.2047 - val_loss: 36.2077 - val_MultivariateLoss_loss: 12.7029 - val_MassOutput_loss: 1.0105 - val_MultivariateLoss_Mean_Squared_Error: 1.2214 - val_MassOutput_Mean_Squared_Error: 0.2052 - lr: 3.0000e-04\n",
      "Epoch 65/1000\n",
      "1052/1052 [==============================] - 36s 35ms/step - loss: 33.6977 - MultivariateLoss_loss: 10.5024 - MassOutput_loss: 1.0075 - MultivariateLoss_Mean_Squared_Error: 1.0541 - MassOutput_Mean_Squared_Error: 0.2047 - val_loss: 31.3798 - val_MultivariateLoss_loss: 8.5092 - val_MassOutput_loss: 1.0104 - val_MultivariateLoss_Mean_Squared_Error: 0.9353 - val_MassOutput_Mean_Squared_Error: 0.2052 - lr: 3.0000e-04\n",
      "Epoch 66/1000\n",
      "1052/1052 [==============================] - 37s 35ms/step - loss: 28.2438 - MultivariateLoss_loss: 5.7202 - MassOutput_loss: 1.0075 - MultivariateLoss_Mean_Squared_Error: 0.9025 - MassOutput_Mean_Squared_Error: 0.2046 - val_loss: 25.7184 - val_MultivariateLoss_loss: 3.5962 - val_MassOutput_loss: 1.0105 - val_MultivariateLoss_Mean_Squared_Error: 0.8291 - val_MassOutput_Mean_Squared_Error: 0.2052 - lr: 3.0000e-04\n",
      "Epoch 67/1000\n",
      "1052/1052 [==============================] - 37s 35ms/step - loss: 24.8601 - MultivariateLoss_loss: 3.2064 - MassOutput_loss: 1.0074 - MultivariateLoss_Mean_Squared_Error: 0.7583 - MassOutput_Mean_Squared_Error: 0.2046 - val_loss: 22.0386 - val_MultivariateLoss_loss: 0.8496 - val_MassOutput_loss: 1.0107 - val_MultivariateLoss_Mean_Squared_Error: 0.6721 - val_MassOutput_Mean_Squared_Error: 0.2052 - lr: 3.0000e-04\n",
      "Epoch 68/1000\n",
      "1052/1052 [==============================] - 37s 35ms/step - loss: 26.2793 - MultivariateLoss_loss: 5.5799 - MassOutput_loss: 1.0075 - MultivariateLoss_Mean_Squared_Error: 0.7165 - MassOutput_Mean_Squared_Error: 0.2047 - val_loss: 24.5378 - val_MultivariateLoss_loss: 4.3206 - val_MassOutput_loss: 1.0104 - val_MultivariateLoss_Mean_Squared_Error: 0.6985 - val_MassOutput_Mean_Squared_Error: 0.2052 - lr: 3.0000e-04\n",
      "Epoch 69/1000\n",
      "1052/1052 [==============================] - 37s 35ms/step - loss: 21.1988 - MultivariateLoss_loss: 1.5568 - MassOutput_loss: 1.0075 - MultivariateLoss_Mean_Squared_Error: 0.6622 - MassOutput_Mean_Squared_Error: 0.2046 - val_loss: 18.4882 - val_MultivariateLoss_loss: -0.5360 - val_MassOutput_loss: 1.0104 - val_MultivariateLoss_Mean_Squared_Error: 0.6482 - val_MassOutput_Mean_Squared_Error: 0.2052 - lr: 3.0000e-04\n",
      "Epoch 70/1000\n",
      "1052/1052 [==============================] - 37s 35ms/step - loss: 73.1962 - MultivariateLoss_loss: 54.0493 - MassOutput_loss: 1.0077 - MultivariateLoss_Mean_Squared_Error: 1.7368 - MassOutput_Mean_Squared_Error: 0.2047 - val_loss: 29.9024 - val_MultivariateLoss_loss: 10.8593 - val_MassOutput_loss: 1.0109 - val_MultivariateLoss_Mean_Squared_Error: 2.0249 - val_MassOutput_Mean_Squared_Error: 0.2052 - lr: 3.0000e-04\n",
      "Epoch 71/1000\n",
      "1052/1052 [==============================] - 37s 35ms/step - loss: 26.5074 - MultivariateLoss_loss: 7.6723 - MassOutput_loss: 1.0076 - MultivariateLoss_Mean_Squared_Error: 2.2222 - MassOutput_Mean_Squared_Error: 0.2047 - val_loss: 24.1931 - val_MultivariateLoss_loss: 5.6045 - val_MassOutput_loss: 1.0105 - val_MultivariateLoss_Mean_Squared_Error: 2.3516 - val_MassOutput_Mean_Squared_Error: 0.2052 - lr: 3.0000e-04\n",
      "Epoch 72/1000\n",
      "1052/1052 [==============================] - 37s 35ms/step - loss: 22.9819 - MultivariateLoss_loss: 4.7185 - MassOutput_loss: 1.0075 - MultivariateLoss_Mean_Squared_Error: 2.1829 - MassOutput_Mean_Squared_Error: 0.2047 - val_loss: 21.8901 - val_MultivariateLoss_loss: 3.9771 - val_MassOutput_loss: 1.0104 - val_MultivariateLoss_Mean_Squared_Error: 1.9781 - val_MassOutput_Mean_Squared_Error: 0.2052 - lr: 3.0000e-04\n",
      "Epoch 73/1000\n",
      "1052/1052 [==============================] - 37s 35ms/step - loss: 21.0069 - MultivariateLoss_loss: 3.5003 - MassOutput_loss: 1.0074 - MultivariateLoss_Mean_Squared_Error: 1.7900 - MassOutput_Mean_Squared_Error: 0.2046 - val_loss: 19.7494 - val_MultivariateLoss_loss: 2.6666 - val_MassOutput_loss: 1.0105 - val_MultivariateLoss_Mean_Squared_Error: 1.6082 - val_MassOutput_Mean_Squared_Error: 0.2052 - lr: 3.0000e-04\n",
      "Epoch 74/1000\n",
      "1052/1052 [==============================] - 37s 35ms/step - loss: 26.9332 - MultivariateLoss_loss: 10.2880 - MassOutput_loss: 1.0076 - MultivariateLoss_Mean_Squared_Error: 1.6569 - MassOutput_Mean_Squared_Error: 0.2047 - val_loss: 28.9244 - val_MultivariateLoss_loss: 12.6632 - val_MassOutput_loss: 1.0107 - val_MultivariateLoss_Mean_Squared_Error: 1.9463 - val_MassOutput_Mean_Squared_Error: 0.2052 - lr: 3.0000e-04\n",
      "Epoch 75/1000\n",
      "1052/1052 [==============================] - 37s 35ms/step - loss: 26.6970 - MultivariateLoss_loss: 10.8306 - MassOutput_loss: 1.0076 - MultivariateLoss_Mean_Squared_Error: 1.6308 - MassOutput_Mean_Squared_Error: 0.2047 - val_loss: 24.6053 - val_MultivariateLoss_loss: 9.1456 - val_MassOutput_loss: 1.0105 - val_MultivariateLoss_Mean_Squared_Error: 1.2432 - val_MassOutput_Mean_Squared_Error: 0.2052 - lr: 3.0000e-04\n",
      "Epoch 76/1000\n",
      "1052/1052 [==============================] - 37s 35ms/step - loss: 21.9958 - MultivariateLoss_loss: 6.9912 - MassOutput_loss: 1.0075 - MultivariateLoss_Mean_Squared_Error: 1.0212 - MassOutput_Mean_Squared_Error: 0.2047 - val_loss: 18.9895 - val_MultivariateLoss_loss: 4.4631 - val_MassOutput_loss: 1.0107 - val_MultivariateLoss_Mean_Squared_Error: 0.8568 - val_MassOutput_Mean_Squared_Error: 0.2052 - lr: 3.0000e-04\n",
      "Epoch 77/1000\n",
      "1052/1052 [==============================] - 37s 35ms/step - loss: 16.9935 - MultivariateLoss_loss: 3.0100 - MassOutput_loss: 1.0075 - MultivariateLoss_Mean_Squared_Error: 0.7403 - MassOutput_Mean_Squared_Error: 0.2047 - val_loss: 15.6065 - val_MultivariateLoss_loss: 2.1816 - val_MassOutput_loss: 1.0104 - val_MultivariateLoss_Mean_Squared_Error: 0.6661 - val_MassOutput_Mean_Squared_Error: 0.2052 - lr: 3.0000e-04\n",
      "Epoch 78/1000\n",
      "1052/1052 [==============================] - 37s 35ms/step - loss: 27.4418 - MultivariateLoss_loss: 14.1989 - MassOutput_loss: 1.0077 - MultivariateLoss_Mean_Squared_Error: 2.0396 - MassOutput_Mean_Squared_Error: 0.2047 - val_loss: 23.2052 - val_MultivariateLoss_loss: 10.1213 - val_MassOutput_loss: 1.0106 - val_MultivariateLoss_Mean_Squared_Error: 1.6607 - val_MassOutput_Mean_Squared_Error: 0.2052 - lr: 3.0000e-04\n",
      "Epoch 79/1000\n",
      "1052/1052 [==============================] - 37s 35ms/step - loss: 20.1886 - MultivariateLoss_loss: 7.4311 - MassOutput_loss: 1.0076 - MultivariateLoss_Mean_Squared_Error: 1.1904 - MassOutput_Mean_Squared_Error: 0.2047 - val_loss: 21.6388 - val_MultivariateLoss_loss: 9.2360 - val_MassOutput_loss: 1.0106 - val_MultivariateLoss_Mean_Squared_Error: 1.1144 - val_MassOutput_Mean_Squared_Error: 0.2052 - lr: 3.0000e-04\n",
      "Epoch 80/1000\n",
      "1052/1052 [==============================] - 37s 35ms/step - loss: 20.3505 - MultivariateLoss_loss: 8.2649 - MassOutput_loss: 1.0075 - MultivariateLoss_Mean_Squared_Error: 1.1496 - MassOutput_Mean_Squared_Error: 0.2047 - val_loss: 23.1121 - val_MultivariateLoss_loss: 11.2641 - val_MassOutput_loss: 1.0108 - val_MultivariateLoss_Mean_Squared_Error: 2.7296 - val_MassOutput_Mean_Squared_Error: 0.2052 - lr: 3.0000e-04\n",
      "Epoch 81/1000\n",
      "1052/1052 [==============================] - 37s 35ms/step - loss: 20.8822 - MultivariateLoss_loss: 9.3742 - MassOutput_loss: 1.0076 - MultivariateLoss_Mean_Squared_Error: 2.2497 - MassOutput_Mean_Squared_Error: 0.2047 - val_loss: 34.2594 - val_MultivariateLoss_loss: 23.0134 - val_MassOutput_loss: 1.0113 - val_MultivariateLoss_Mean_Squared_Error: 3.3125 - val_MassOutput_Mean_Squared_Error: 0.2053 - lr: 3.0000e-04\n",
      "Epoch 82/1000\n",
      "1052/1052 [==============================] - 37s 35ms/step - loss: 22.9889 - MultivariateLoss_loss: 11.8630 - MassOutput_loss: 1.0076 - MultivariateLoss_Mean_Squared_Error: 1.7118 - MassOutput_Mean_Squared_Error: 0.2047 - val_loss: 18.2617 - val_MultivariateLoss_loss: 7.3473 - val_MassOutput_loss: 1.0105 - val_MultivariateLoss_Mean_Squared_Error: 1.1881 - val_MassOutput_Mean_Squared_Error: 0.2052 - lr: 3.0000e-04\n",
      "Epoch 83/1000\n",
      "1052/1052 [==============================] - 37s 35ms/step - loss: 17.0242 - MultivariateLoss_loss: 6.4040 - MassOutput_loss: 1.0074 - MultivariateLoss_Mean_Squared_Error: 0.7990 - MassOutput_Mean_Squared_Error: 0.2046 - val_loss: 20.6134 - val_MultivariateLoss_loss: 10.2963 - val_MassOutput_loss: 1.0110 - val_MultivariateLoss_Mean_Squared_Error: 0.7172 - val_MassOutput_Mean_Squared_Error: 0.2053 - lr: 3.0000e-04\n",
      "Epoch 84/1000\n",
      "1052/1052 [==============================] - 37s 35ms/step - loss: 67.0062 - MultivariateLoss_loss: 56.9813 - MassOutput_loss: 1.0074 - MultivariateLoss_Mean_Squared_Error: 0.8694 - MassOutput_Mean_Squared_Error: 0.2046 - val_loss: 28.4557 - val_MultivariateLoss_loss: 18.4991 - val_MassOutput_loss: 1.0152 - val_MultivariateLoss_Mean_Squared_Error: 4.7641 - val_MassOutput_Mean_Squared_Error: 0.2058 - lr: 3.0000e-04\n",
      "Epoch 85/1000\n",
      "1052/1052 [==============================] - 37s 35ms/step - loss: 26.7972 - MultivariateLoss_loss: 16.9961 - MassOutput_loss: 1.0078 - MultivariateLoss_Mean_Squared_Error: 5.0214 - MassOutput_Mean_Squared_Error: 0.2047 - val_loss: 25.3794 - val_MultivariateLoss_loss: 15.7041 - val_MassOutput_loss: 1.0105 - val_MultivariateLoss_Mean_Squared_Error: 4.9714 - val_MassOutput_Mean_Squared_Error: 0.2052 - lr: 3.0000e-04\n",
      "Epoch 86/1000\n",
      "1052/1052 [==============================] - 37s 35ms/step - loss: 22.0543 - MultivariateLoss_loss: 12.4410 - MassOutput_loss: 1.0075 - MultivariateLoss_Mean_Squared_Error: 3.9959 - MassOutput_Mean_Squared_Error: 0.2047 - val_loss: 18.4339 - val_MultivariateLoss_loss: 8.8590 - val_MassOutput_loss: 1.0104 - val_MultivariateLoss_Mean_Squared_Error: 2.6220 - val_MassOutput_Mean_Squared_Error: 0.2052 - lr: 3.0000e-04\n",
      "Epoch 87/1000\n",
      "1052/1052 [==============================] - 37s 35ms/step - loss: 16.5197 - MultivariateLoss_loss: 7.0734 - MassOutput_loss: 1.0075 - MultivariateLoss_Mean_Squared_Error: 1.9067 - MassOutput_Mean_Squared_Error: 0.2047 - val_loss: 15.0747 - val_MultivariateLoss_loss: 5.7900 - val_MassOutput_loss: 1.0104 - val_MultivariateLoss_Mean_Squared_Error: 1.5895 - val_MassOutput_Mean_Squared_Error: 0.2052 - lr: 3.0000e-04\n",
      "Epoch 88/1000\n",
      "1052/1052 [==============================] - 37s 35ms/step - loss: 14.0271 - MultivariateLoss_loss: 4.9362 - MassOutput_loss: 1.0074 - MultivariateLoss_Mean_Squared_Error: 1.4650 - MassOutput_Mean_Squared_Error: 0.2046 - val_loss: 12.8428 - val_MultivariateLoss_loss: 3.9438 - val_MassOutput_loss: 1.0105 - val_MultivariateLoss_Mean_Squared_Error: 1.3606 - val_MassOutput_Mean_Squared_Error: 0.2052 - lr: 3.0000e-04\n",
      "Epoch 89/1000\n",
      "1052/1052 [==============================] - 37s 35ms/step - loss: 17.0731 - MultivariateLoss_loss: 8.3396 - MassOutput_loss: 1.0075 - MultivariateLoss_Mean_Squared_Error: 1.4858 - MassOutput_Mean_Squared_Error: 0.2047 - val_loss: 23.8506 - val_MultivariateLoss_loss: 15.1644 - val_MassOutput_loss: 1.0104 - val_MultivariateLoss_Mean_Squared_Error: 1.9548 - val_MassOutput_Mean_Squared_Error: 0.2052 - lr: 3.0000e-04\n",
      "Epoch 90/1000\n",
      "1052/1052 [==============================] - 37s 35ms/step - loss: 16.8342 - MultivariateLoss_loss: 8.1444 - MassOutput_loss: 1.0075 - MultivariateLoss_Mean_Squared_Error: 1.1930 - MassOutput_Mean_Squared_Error: 0.2047 - val_loss: 12.4711 - val_MultivariateLoss_loss: 3.8633 - val_MassOutput_loss: 1.0105 - val_MultivariateLoss_Mean_Squared_Error: 0.6896 - val_MassOutput_Mean_Squared_Error: 0.2052 - lr: 3.0000e-04\n",
      "Epoch 91/1000\n",
      "1052/1052 [==============================] - 37s 35ms/step - loss: 13.1702 - MultivariateLoss_loss: 4.5871 - MassOutput_loss: 1.0074 - MultivariateLoss_Mean_Squared_Error: 0.6855 - MassOutput_Mean_Squared_Error: 0.2046 - val_loss: 8.8181 - val_MultivariateLoss_loss: 0.2741 - val_MassOutput_loss: 1.0104 - val_MultivariateLoss_Mean_Squared_Error: 0.4976 - val_MassOutput_Mean_Squared_Error: 0.2052 - lr: 3.0000e-04\n",
      "Epoch 92/1000\n",
      "1052/1052 [==============================] - 37s 35ms/step - loss: 24.3117 - MultivariateLoss_loss: 15.5002 - MassOutput_loss: 1.0076 - MultivariateLoss_Mean_Squared_Error: 1.7464 - MassOutput_Mean_Squared_Error: 0.2047 - val_loss: 18.2391 - val_MultivariateLoss_loss: 9.1434 - val_MassOutput_loss: 1.0107 - val_MultivariateLoss_Mean_Squared_Error: 2.0211 - val_MassOutput_Mean_Squared_Error: 0.2052 - lr: 3.0000e-04\n",
      "Epoch 93/1000\n",
      "1052/1052 [==============================] - 37s 35ms/step - loss: 17.7538 - MultivariateLoss_loss: 8.6581 - MassOutput_loss: 1.0075 - MultivariateLoss_Mean_Squared_Error: 1.5479 - MassOutput_Mean_Squared_Error: 0.2047 - val_loss: 18.8986 - val_MultivariateLoss_loss: 9.7663 - val_MassOutput_loss: 1.0105 - val_MultivariateLoss_Mean_Squared_Error: 1.5616 - val_MassOutput_Mean_Squared_Error: 0.2052 - lr: 3.0000e-04\n",
      "Epoch 94/1000\n",
      "1052/1052 [==============================] - 36s 35ms/step - loss: 17.6095 - MultivariateLoss_loss: 8.4591 - MassOutput_loss: 1.0075 - MultivariateLoss_Mean_Squared_Error: 1.2470 - MassOutput_Mean_Squared_Error: 0.2046 - val_loss: 19.6031 - val_MultivariateLoss_loss: 10.4225 - val_MassOutput_loss: 1.0105 - val_MultivariateLoss_Mean_Squared_Error: 1.4143 - val_MassOutput_Mean_Squared_Error: 0.2052 - lr: 3.0000e-04\n",
      "Epoch 95/1000\n",
      "1052/1052 [==============================] - 37s 35ms/step - loss: 13.4615 - MultivariateLoss_loss: 4.3444 - MassOutput_loss: 1.0075 - MultivariateLoss_Mean_Squared_Error: 0.8304 - MassOutput_Mean_Squared_Error: 0.2046 - val_loss: 20.5276 - val_MultivariateLoss_loss: 11.4435 - val_MassOutput_loss: 1.0105 - val_MultivariateLoss_Mean_Squared_Error: 1.5860 - val_MassOutput_Mean_Squared_Error: 0.2052 - lr: 3.0000e-04\n",
      "Epoch 96/1000\n",
      "1052/1052 [==============================] - 37s 35ms/step - loss: 13.6618 - MultivariateLoss_loss: 4.6893 - MassOutput_loss: 1.0074 - MultivariateLoss_Mean_Squared_Error: 0.8299 - MassOutput_Mean_Squared_Error: 0.2046 - val_loss: 12.5412 - val_MultivariateLoss_loss: 3.6931 - val_MassOutput_loss: 1.0106 - val_MultivariateLoss_Mean_Squared_Error: 0.4455 - val_MassOutput_Mean_Squared_Error: 0.2052 - lr: 3.0000e-04\n",
      "Epoch 97/1000\n",
      "1052/1052 [==============================] - 37s 35ms/step - loss: 21.6515 - MultivariateLoss_loss: 12.7826 - MassOutput_loss: 1.0076 - MultivariateLoss_Mean_Squared_Error: 1.2184 - MassOutput_Mean_Squared_Error: 0.2047 - val_loss: 20.3586 - val_MultivariateLoss_loss: 11.6029 - val_MassOutput_loss: 1.0104 - val_MultivariateLoss_Mean_Squared_Error: 1.2661 - val_MassOutput_Mean_Squared_Error: 0.2052 - lr: 3.0000e-04\n",
      "Epoch 98/1000\n",
      "1052/1052 [==============================] - 37s 35ms/step - loss: 16.0837 - MultivariateLoss_loss: 7.5038 - MassOutput_loss: 1.0075 - MultivariateLoss_Mean_Squared_Error: 1.0688 - MassOutput_Mean_Squared_Error: 0.2047 - val_loss: 10.6408 - val_MultivariateLoss_loss: 2.2480 - val_MassOutput_loss: 1.0104 - val_MultivariateLoss_Mean_Squared_Error: 0.8899 - val_MassOutput_Mean_Squared_Error: 0.2052 - lr: 3.0000e-04\n",
      "Epoch 99/1000\n",
      "1052/1052 [==============================] - 37s 35ms/step - loss: 22.6612 - MultivariateLoss_loss: 14.3330 - MassOutput_loss: 1.0076 - MultivariateLoss_Mean_Squared_Error: 0.9991 - MassOutput_Mean_Squared_Error: 0.2047 - val_loss: 18.2385 - val_MultivariateLoss_loss: 10.0944 - val_MassOutput_loss: 1.0104 - val_MultivariateLoss_Mean_Squared_Error: 0.7516 - val_MassOutput_Mean_Squared_Error: 0.2052 - lr: 3.0000e-04\n",
      "Epoch 100/1000\n",
      "1052/1052 [==============================] - 37s 35ms/step - loss: 13.8678 - MultivariateLoss_loss: 5.9330 - MassOutput_loss: 1.0074 - MultivariateLoss_Mean_Squared_Error: 0.5486 - MassOutput_Mean_Squared_Error: 0.2046 - val_loss: 8.9234 - val_MultivariateLoss_loss: 1.2275 - val_MassOutput_loss: 1.0105 - val_MultivariateLoss_Mean_Squared_Error: 0.4209 - val_MassOutput_Mean_Squared_Error: 0.2052 - lr: 3.0000e-04\n",
      "Epoch 101/1000\n",
      "1052/1052 [==============================] - 37s 35ms/step - loss: 22.4733 - MultivariateLoss_loss: 14.6535 - MassOutput_loss: 1.0076 - MultivariateLoss_Mean_Squared_Error: 1.5760 - MassOutput_Mean_Squared_Error: 0.2047 - val_loss: 15.8493 - val_MultivariateLoss_loss: 7.9837 - val_MassOutput_loss: 1.0107 - val_MultivariateLoss_Mean_Squared_Error: 1.1169 - val_MassOutput_Mean_Squared_Error: 0.2052 - lr: 3.0000e-04\n",
      "Epoch 102/1000\n",
      "1052/1052 [==============================] - 37s 35ms/step - loss: 15.2377 - MultivariateLoss_loss: 7.4788 - MassOutput_loss: 1.0075 - MultivariateLoss_Mean_Squared_Error: 0.9721 - MassOutput_Mean_Squared_Error: 0.2046 - val_loss: 12.3266 - val_MultivariateLoss_loss: 4.6571 - val_MassOutput_loss: 1.0105 - val_MultivariateLoss_Mean_Squared_Error: 0.8258 - val_MassOutput_Mean_Squared_Error: 0.2052 - lr: 3.0000e-04\n",
      "Epoch 103/1000\n",
      "1052/1052 [==============================] - 37s 35ms/step - loss: 16.6583 - MultivariateLoss_loss: 8.9822 - MassOutput_loss: 1.0075 - MultivariateLoss_Mean_Squared_Error: 0.6097 - MassOutput_Mean_Squared_Error: 0.2046 - val_loss: 13.7075 - val_MultivariateLoss_loss: 6.0523 - val_MassOutput_loss: 1.0106 - val_MultivariateLoss_Mean_Squared_Error: 0.4164 - val_MassOutput_Mean_Squared_Error: 0.2052 - lr: 3.0000e-04\n",
      "Epoch 104/1000\n",
      "1052/1052 [==============================] - 37s 35ms/step - loss: 130.2791 - MultivariateLoss_loss: 122.5741 - MassOutput_loss: 1.0075 - MultivariateLoss_Mean_Squared_Error: 0.9811 - MassOutput_Mean_Squared_Error: 0.2047 - val_loss: 29.8532 - val_MultivariateLoss_loss: 21.9918 - val_MassOutput_loss: 1.0108 - val_MultivariateLoss_Mean_Squared_Error: 1.7821 - val_MassOutput_Mean_Squared_Error: 0.2052 - lr: 3.0000e-04\n",
      "Epoch 105/1000\n",
      "1052/1052 [==============================] - 37s 35ms/step - loss: 28.9463 - MultivariateLoss_loss: 21.1560 - MassOutput_loss: 1.0074 - MultivariateLoss_Mean_Squared_Error: 1.8130 - MassOutput_Mean_Squared_Error: 0.2046 - val_loss: 27.7740 - val_MultivariateLoss_loss: 20.0415 - val_MassOutput_loss: 1.0104 - val_MultivariateLoss_Mean_Squared_Error: 1.8900 - val_MassOutput_Mean_Squared_Error: 0.2052 - lr: 3.0000e-04\n",
      "Epoch 106/1000\n",
      "1052/1052 [==============================] - 37s 35ms/step - loss: 23.8030 - MultivariateLoss_loss: 16.0573 - MassOutput_loss: 1.0075 - MultivariateLoss_Mean_Squared_Error: 1.8531 - MassOutput_Mean_Squared_Error: 0.2046 - val_loss: 14.9563 - val_MultivariateLoss_loss: 7.1472 - val_MassOutput_loss: 1.0106 - val_MultivariateLoss_Mean_Squared_Error: 1.1358 - val_MassOutput_Mean_Squared_Error: 0.2052 - lr: 3.0000e-04\n",
      "Epoch 107/1000\n",
      "1052/1052 [==============================] - 37s 35ms/step - loss: 14.5749 - MultivariateLoss_loss: 6.8087 - MassOutput_loss: 1.0074 - MultivariateLoss_Mean_Squared_Error: 0.9372 - MassOutput_Mean_Squared_Error: 0.2046 - val_loss: 15.7633 - val_MultivariateLoss_loss: 8.0213 - val_MassOutput_loss: 1.0105 - val_MultivariateLoss_Mean_Squared_Error: 0.7995 - val_MassOutput_Mean_Squared_Error: 0.2052 - lr: 2.4000e-04\n",
      "Epoch 108/1000\n",
      "1052/1052 [==============================] - 37s 35ms/step - loss: 11.3708 - MultivariateLoss_loss: 3.6667 - MassOutput_loss: 1.0074 - MultivariateLoss_Mean_Squared_Error: 0.8135 - MassOutput_Mean_Squared_Error: 0.2046 - val_loss: 7.7205 - val_MultivariateLoss_loss: 0.0810 - val_MassOutput_loss: 1.0105 - val_MultivariateLoss_Mean_Squared_Error: 0.6083 - val_MassOutput_Mean_Squared_Error: 0.2052 - lr: 2.4000e-04\n",
      "Epoch 109/1000\n",
      "1052/1052 [==============================] - 37s 35ms/step - loss: 26.4143 - MultivariateLoss_loss: 18.6460 - MassOutput_loss: 1.0075 - MultivariateLoss_Mean_Squared_Error: 1.5244 - MassOutput_Mean_Squared_Error: 0.2047 - val_loss: 21.4872 - val_MultivariateLoss_loss: 13.6567 - val_MassOutput_loss: 1.0104 - val_MultivariateLoss_Mean_Squared_Error: 1.3375 - val_MassOutput_Mean_Squared_Error: 0.2052 - lr: 2.4000e-04\n",
      "Epoch 110/1000\n",
      "1052/1052 [==============================] - 37s 35ms/step - loss: 16.7310 - MultivariateLoss_loss: 8.8078 - MassOutput_loss: 1.0074 - MultivariateLoss_Mean_Squared_Error: 0.7254 - MassOutput_Mean_Squared_Error: 0.2046 - val_loss: 11.2624 - val_MultivariateLoss_loss: 3.3503 - val_MassOutput_loss: 1.0109 - val_MultivariateLoss_Mean_Squared_Error: 0.4615 - val_MassOutput_Mean_Squared_Error: 0.2052 - lr: 2.4000e-04\n",
      "Epoch 111/1000\n",
      "1052/1052 [==============================] - 37s 35ms/step - loss: 21.2958 - MultivariateLoss_loss: 13.3604 - MassOutput_loss: 1.0075 - MultivariateLoss_Mean_Squared_Error: 0.7390 - MassOutput_Mean_Squared_Error: 0.2046 - val_loss: 17.3760 - val_MultivariateLoss_loss: 9.4941 - val_MassOutput_loss: 1.0110 - val_MultivariateLoss_Mean_Squared_Error: 0.5672 - val_MassOutput_Mean_Squared_Error: 0.2053 - lr: 2.4000e-04\n",
      "Epoch 112/1000\n",
      "1052/1052 [==============================] - 37s 35ms/step - loss: 14.2547 - MultivariateLoss_loss: 6.4363 - MassOutput_loss: 1.0074 - MultivariateLoss_Mean_Squared_Error: 0.4473 - MassOutput_Mean_Squared_Error: 0.2046 - val_loss: 10.8802 - val_MultivariateLoss_loss: 3.1039 - val_MassOutput_loss: 1.0106 - val_MultivariateLoss_Mean_Squared_Error: 0.3144 - val_MassOutput_Mean_Squared_Error: 0.2052 - lr: 2.4000e-04\n",
      "Epoch 113/1000\n",
      "1052/1052 [==============================] - 37s 35ms/step - loss: 8.0133 - MultivariateLoss_loss: 0.3187 - MassOutput_loss: 1.0073 - MultivariateLoss_Mean_Squared_Error: 0.2386 - MassOutput_Mean_Squared_Error: 0.2046 - val_loss: 4.5244 - val_MultivariateLoss_loss: -3.0697 - val_MassOutput_loss: 1.0105 - val_MultivariateLoss_Mean_Squared_Error: 0.1900 - val_MassOutput_Mean_Squared_Error: 0.2052 - lr: 2.4000e-04\n",
      "Epoch 114/1000\n",
      "1052/1052 [==============================] - 37s 35ms/step - loss: 173.5781 - MultivariateLoss_loss: 165.7546 - MassOutput_loss: 1.0076 - MultivariateLoss_Mean_Squared_Error: 3.5621 - MassOutput_Mean_Squared_Error: 0.2047 - val_loss: 22.5581 - val_MultivariateLoss_loss: 14.7315 - val_MassOutput_loss: 1.0108 - val_MultivariateLoss_Mean_Squared_Error: 3.6691 - val_MassOutput_Mean_Squared_Error: 0.2052 - lr: 2.4000e-04\n",
      "Epoch 115/1000\n",
      "1052/1052 [==============================] - 37s 35ms/step - loss: 22.1577 - MultivariateLoss_loss: 14.3505 - MassOutput_loss: 1.0074 - MultivariateLoss_Mean_Squared_Error: 3.5831 - MassOutput_Mean_Squared_Error: 0.2046 - val_loss: 21.7160 - val_MultivariateLoss_loss: 13.9229 - val_MassOutput_loss: 1.0104 - val_MultivariateLoss_Mean_Squared_Error: 3.5034 - val_MassOutput_Mean_Squared_Error: 0.2052 - lr: 2.4000e-04\n",
      "Epoch 116/1000\n",
      "1052/1052 [==============================] - 37s 35ms/step - loss: 21.1836 - MultivariateLoss_loss: 13.4118 - MassOutput_loss: 1.0074 - MultivariateLoss_Mean_Squared_Error: 3.3917 - MassOutput_Mean_Squared_Error: 0.2046 - val_loss: 20.5881 - val_MultivariateLoss_loss: 12.8319 - val_MassOutput_loss: 1.0105 - val_MultivariateLoss_Mean_Squared_Error: 3.3087 - val_MassOutput_Mean_Squared_Error: 0.2052 - lr: 2.4000e-04\n",
      "Epoch 117/1000\n",
      "1052/1052 [==============================] - 37s 35ms/step - loss: 19.9259 - MultivariateLoss_loss: 12.1912 - MassOutput_loss: 1.0074 - MultivariateLoss_Mean_Squared_Error: 3.2508 - MassOutput_Mean_Squared_Error: 0.2046 - val_loss: 19.2573 - val_MultivariateLoss_loss: 11.5381 - val_MassOutput_loss: 1.0105 - val_MultivariateLoss_Mean_Squared_Error: 3.2196 - val_MassOutput_Mean_Squared_Error: 0.2052 - lr: 2.4000e-04\n",
      "Epoch 118/1000\n",
      "1052/1052 [==============================] - 37s 35ms/step - loss: 18.6018 - MultivariateLoss_loss: 10.9038 - MassOutput_loss: 1.0073 - MultivariateLoss_Mean_Squared_Error: 3.1409 - MassOutput_Mean_Squared_Error: 0.2046 - val_loss: 17.8347 - val_MultivariateLoss_loss: 10.1480 - val_MassOutput_loss: 1.0104 - val_MultivariateLoss_Mean_Squared_Error: 3.0452 - val_MassOutput_Mean_Squared_Error: 0.2052 - lr: 2.4000e-04\n",
      "Epoch 119/1000\n",
      "1052/1052 [==============================] - 37s 35ms/step - loss: 16.9882 - MultivariateLoss_loss: 9.3169 - MassOutput_loss: 1.0074 - MultivariateLoss_Mean_Squared_Error: 2.9022 - MassOutput_Mean_Squared_Error: 0.2046 - val_loss: 16.0857 - val_MultivariateLoss_loss: 8.4288 - val_MassOutput_loss: 1.0104 - val_MultivariateLoss_Mean_Squared_Error: 2.8042 - val_MassOutput_Mean_Squared_Error: 0.2052 - lr: 2.4000e-04\n",
      "Epoch 120/1000\n",
      "1052/1052 [==============================] - 37s 35ms/step - loss: 15.0436 - MultivariateLoss_loss: 7.4090 - MassOutput_loss: 1.0074 - MultivariateLoss_Mean_Squared_Error: 2.6606 - MassOutput_Mean_Squared_Error: 0.2046 - val_loss: 13.7013 - val_MultivariateLoss_loss: 6.0825 - val_MassOutput_loss: 1.0105 - val_MultivariateLoss_Mean_Squared_Error: 2.4391 - val_MassOutput_Mean_Squared_Error: 0.2052 - lr: 2.4000e-04\n",
      "Epoch 121/1000\n",
      "1052/1052 [==============================] - 37s 35ms/step - loss: 12.2571 - MultivariateLoss_loss: 4.6610 - MassOutput_loss: 1.0074 - MultivariateLoss_Mean_Squared_Error: 1.9850 - MassOutput_Mean_Squared_Error: 0.2046 - val_loss: 10.4468 - val_MultivariateLoss_loss: 2.8794 - val_MassOutput_loss: 1.0106 - val_MultivariateLoss_Mean_Squared_Error: 1.5366 - val_MassOutput_Mean_Squared_Error: 0.2052 - lr: 2.4000e-04\n",
      "Epoch 122/1000\n",
      "1052/1052 [==============================] - 37s 35ms/step - loss: 11.7505 - MultivariateLoss_loss: 4.2312 - MassOutput_loss: 1.0074 - MultivariateLoss_Mean_Squared_Error: 1.1408 - MassOutput_Mean_Squared_Error: 0.2046 - val_loss: 8.3950 - val_MultivariateLoss_loss: 0.9315 - val_MassOutput_loss: 1.0105 - val_MultivariateLoss_Mean_Squared_Error: 0.8120 - val_MassOutput_Mean_Squared_Error: 0.2052 - lr: 2.4000e-04\n",
      "Epoch 123/1000\n",
      "1052/1052 [==============================] - 36s 35ms/step - loss: 24.1882 - MultivariateLoss_loss: 16.6720 - MassOutput_loss: 1.0075 - MultivariateLoss_Mean_Squared_Error: 1.5874 - MassOutput_Mean_Squared_Error: 0.2046 - val_loss: 19.9407 - val_MultivariateLoss_loss: 12.3460 - val_MassOutput_loss: 1.0107 - val_MultivariateLoss_Mean_Squared_Error: 1.5910 - val_MassOutput_Mean_Squared_Error: 0.2052 - lr: 2.4000e-04\n",
      "Epoch 124/1000\n",
      "1052/1052 [==============================] - 36s 35ms/step - loss: 15.8203 - MultivariateLoss_loss: 8.2268 - MassOutput_loss: 1.0074 - MultivariateLoss_Mean_Squared_Error: 0.9897 - MassOutput_Mean_Squared_Error: 0.2046 - val_loss: 12.1190 - val_MultivariateLoss_loss: 4.5360 - val_MassOutput_loss: 1.0106 - val_MultivariateLoss_Mean_Squared_Error: 0.4497 - val_MassOutput_Mean_Squared_Error: 0.2052 - lr: 2.4000e-04\n",
      "Epoch 125/1000\n",
      "1052/1052 [==============================] - 37s 35ms/step - loss: 9.3465 - MultivariateLoss_loss: 1.8261 - MassOutput_loss: 1.0074 - MultivariateLoss_Mean_Squared_Error: 0.3333 - MassOutput_Mean_Squared_Error: 0.2046 - val_loss: 6.0371 - val_MultivariateLoss_loss: -1.4215 - val_MassOutput_loss: 1.0106 - val_MultivariateLoss_Mean_Squared_Error: 0.2601 - val_MassOutput_Mean_Squared_Error: 0.2052 - lr: 2.4000e-04\n",
      "Epoch 126/1000\n",
      "1052/1052 [==============================] - 37s 35ms/step - loss: 2794.5183 - MultivariateLoss_loss: 2787.1094 - MassOutput_loss: 1.0076 - MultivariateLoss_Mean_Squared_Error: 0.5440 - MassOutput_Mean_Squared_Error: 0.2047 - val_loss: 36.6374 - val_MultivariateLoss_loss: 29.0426 - val_MassOutput_loss: 1.0105 - val_MultivariateLoss_Mean_Squared_Error: 3.9458 - val_MassOutput_Mean_Squared_Error: 0.2052 - lr: 2.4000e-04\n",
      "Epoch 127/1000\n",
      "1052/1052 [==============================] - 37s 35ms/step - loss: 28.9342 - MultivariateLoss_loss: 21.2780 - MassOutput_loss: 1.0075 - MultivariateLoss_Mean_Squared_Error: 3.8624 - MassOutput_Mean_Squared_Error: 0.2046 - val_loss: 24.9071 - val_MultivariateLoss_loss: 17.1920 - val_MassOutput_loss: 1.0106 - val_MultivariateLoss_Mean_Squared_Error: 3.8100 - val_MassOutput_Mean_Squared_Error: 0.2052 - lr: 2.4000e-04\n",
      "Epoch 128/1000\n",
      "1052/1052 [==============================] - 37s 35ms/step - loss: 23.0089 - MultivariateLoss_loss: 15.2617 - MassOutput_loss: 1.0074 - MultivariateLoss_Mean_Squared_Error: 3.5684 - MassOutput_Mean_Squared_Error: 0.2046 - val_loss: 21.3734 - val_MultivariateLoss_loss: 13.5808 - val_MassOutput_loss: 1.0105 - val_MultivariateLoss_Mean_Squared_Error: 3.3093 - val_MassOutput_Mean_Squared_Error: 0.2052 - lr: 2.4000e-04\n",
      "Epoch 129/1000\n",
      "1052/1052 [==============================] - 36s 35ms/step - loss: 20.4934 - MultivariateLoss_loss: 12.6923 - MassOutput_loss: 1.0074 - MultivariateLoss_Mean_Squared_Error: 3.2071 - MassOutput_Mean_Squared_Error: 0.2046 - val_loss: 19.7209 - val_MultivariateLoss_loss: 11.9117 - val_MassOutput_loss: 1.0105 - val_MultivariateLoss_Mean_Squared_Error: 3.1404 - val_MassOutput_Mean_Squared_Error: 0.2052 - lr: 1.9200e-04\n",
      "Epoch 130/1000\n",
      "1052/1052 [==============================] - 37s 35ms/step - loss: 18.8777 - MultivariateLoss_loss: 11.0675 - MassOutput_loss: 1.0074 - MultivariateLoss_Mean_Squared_Error: 3.0092 - MassOutput_Mean_Squared_Error: 0.2046 - val_loss: 18.0434 - val_MultivariateLoss_loss: 10.2270 - val_MassOutput_loss: 1.0104 - val_MultivariateLoss_Mean_Squared_Error: 2.9141 - val_MassOutput_Mean_Squared_Error: 0.2052 - lr: 1.9200e-04\n",
      "Epoch 131/1000\n",
      "1052/1052 [==============================] - 37s 35ms/step - loss: 17.4759 - MultivariateLoss_loss: 9.6862 - MassOutput_loss: 1.0073 - MultivariateLoss_Mean_Squared_Error: 2.8539 - MassOutput_Mean_Squared_Error: 0.2046 - val_loss: 16.9479 - val_MultivariateLoss_loss: 9.1770 - val_MassOutput_loss: 1.0104 - val_MultivariateLoss_Mean_Squared_Error: 2.7712 - val_MassOutput_Mean_Squared_Error: 0.2052 - lr: 1.9200e-04\n",
      "Epoch 132/1000\n",
      "1052/1052 [==============================] - 37s 35ms/step - loss: 16.1501 - MultivariateLoss_loss: 8.3946 - MassOutput_loss: 1.0074 - MultivariateLoss_Mean_Squared_Error: 2.6270 - MassOutput_Mean_Squared_Error: 0.2046 - val_loss: 15.1433 - val_MultivariateLoss_loss: 7.3911 - val_MassOutput_loss: 1.0105 - val_MultivariateLoss_Mean_Squared_Error: 2.4221 - val_MassOutput_Mean_Squared_Error: 0.2052 - lr: 1.9200e-04\n",
      "Epoch 133/1000\n",
      "1052/1052 [==============================] - 37s 35ms/step - loss: 14.0971 - MultivariateLoss_loss: 6.3597 - MassOutput_loss: 1.0074 - MultivariateLoss_Mean_Squared_Error: 2.1010 - MassOutput_Mean_Squared_Error: 0.2046 - val_loss: 13.1174 - val_MultivariateLoss_loss: 5.3809 - val_MassOutput_loss: 1.0106 - val_MultivariateLoss_Mean_Squared_Error: 1.7743 - val_MassOutput_Mean_Squared_Error: 0.2052 - lr: 1.9200e-04\n",
      "Epoch 134/1000\n",
      "1052/1052 [==============================] - 36s 35ms/step - loss: 12.4802 - MultivariateLoss_loss: 4.7591 - MassOutput_loss: 1.0074 - MultivariateLoss_Mean_Squared_Error: 1.5235 - MassOutput_Mean_Squared_Error: 0.2046 - val_loss: 11.7478 - val_MultivariateLoss_loss: 4.0469 - val_MassOutput_loss: 1.0107 - val_MultivariateLoss_Mean_Squared_Error: 1.3294 - val_MassOutput_Mean_Squared_Error: 0.2052 - lr: 1.9200e-04\n",
      "Epoch 135/1000\n",
      "1052/1052 [==============================] - 36s 35ms/step - loss: 11.8090 - MultivariateLoss_loss: 4.1397 - MassOutput_loss: 1.0074 - MultivariateLoss_Mean_Squared_Error: 1.1734 - MassOutput_Mean_Squared_Error: 0.2046 - val_loss: 10.7192 - val_MultivariateLoss_loss: 3.0699 - val_MassOutput_loss: 1.0108 - val_MultivariateLoss_Mean_Squared_Error: 0.9908 - val_MassOutput_Mean_Squared_Error: 0.2053 - lr: 1.9200e-04\n",
      "Epoch 136/1000\n",
      "1052/1052 [==============================] - 37s 35ms/step - loss: 12.1396 - MultivariateLoss_loss: 4.5073 - MassOutput_loss: 1.0074 - MultivariateLoss_Mean_Squared_Error: 0.9677 - MassOutput_Mean_Squared_Error: 0.2046 - val_loss: 10.1101 - val_MultivariateLoss_loss: 2.4768 - val_MassOutput_loss: 1.0105 - val_MultivariateLoss_Mean_Squared_Error: 0.7462 - val_MassOutput_Mean_Squared_Error: 0.2052 - lr: 1.9200e-04\n",
      "Epoch 137/1000\n",
      "1052/1052 [==============================] - 37s 35ms/step - loss: 14.3274 - MultivariateLoss_loss: 6.7155 - MassOutput_loss: 1.0074 - MultivariateLoss_Mean_Squared_Error: 0.9833 - MassOutput_Mean_Squared_Error: 0.2046 - val_loss: 18.8849 - val_MultivariateLoss_loss: 11.2607 - val_MassOutput_loss: 1.0107 - val_MultivariateLoss_Mean_Squared_Error: 1.3842 - val_MassOutput_Mean_Squared_Error: 0.2052 - lr: 1.9200e-04\n",
      "Epoch 138/1000\n",
      "1052/1052 [==============================] - 36s 35ms/step - loss: 14.4336 - MultivariateLoss_loss: 6.7248 - MassOutput_loss: 1.0074 - MultivariateLoss_Mean_Squared_Error: 0.7106 - MassOutput_Mean_Squared_Error: 0.2046 - val_loss: 11.3066 - val_MultivariateLoss_loss: 3.5780 - val_MassOutput_loss: 1.0106 - val_MultivariateLoss_Mean_Squared_Error: 0.4167 - val_MassOutput_Mean_Squared_Error: 0.2052 - lr: 1.9200e-04\n",
      "Epoch 139/1000\n",
      "1052/1052 [==============================] - 37s 35ms/step - loss: 9.2528 - MultivariateLoss_loss: 1.5692 - MassOutput_loss: 1.0073 - MultivariateLoss_Mean_Squared_Error: 0.3427 - MassOutput_Mean_Squared_Error: 0.2046 - val_loss: 8.3158 - val_MultivariateLoss_loss: 0.6780 - val_MassOutput_loss: 1.0107 - val_MultivariateLoss_Mean_Squared_Error: 0.2871 - val_MassOutput_Mean_Squared_Error: 0.2052 - lr: 1.9200e-04\n",
      "Epoch 140/1000\n",
      "1052/1052 [==============================] - 36s 35ms/step - loss: 95.6993 - MultivariateLoss_loss: 88.0020 - MassOutput_loss: 1.0075 - MultivariateLoss_Mean_Squared_Error: 2.2866 - MassOutput_Mean_Squared_Error: 0.2046 - val_loss: 29.1305 - val_MultivariateLoss_loss: 21.3828 - val_MassOutput_loss: 1.0105 - val_MultivariateLoss_Mean_Squared_Error: 3.5882 - val_MassOutput_Mean_Squared_Error: 0.2052 - lr: 1.9200e-04\n",
      "Epoch 141/1000\n",
      "1052/1052 [==============================] - 37s 35ms/step - loss: 28.4450 - MultivariateLoss_loss: 20.7142 - MassOutput_loss: 1.0074 - MultivariateLoss_Mean_Squared_Error: 3.4760 - MassOutput_Mean_Squared_Error: 0.2046 - val_loss: 27.5962 - val_MultivariateLoss_loss: 19.8760 - val_MassOutput_loss: 1.0104 - val_MultivariateLoss_Mean_Squared_Error: 3.4157 - val_MassOutput_Mean_Squared_Error: 0.2052 - lr: 1.9200e-04\n",
      "Epoch 142/1000\n",
      "1052/1052 [==============================] - 37s 35ms/step - loss: 26.3433 - MultivariateLoss_loss: 18.6374 - MassOutput_loss: 1.0074 - MultivariateLoss_Mean_Squared_Error: 3.3395 - MassOutput_Mean_Squared_Error: 0.2046 - val_loss: 23.6411 - val_MultivariateLoss_loss: 15.9135 - val_MassOutput_loss: 1.0109 - val_MultivariateLoss_Mean_Squared_Error: 2.7445 - val_MassOutput_Mean_Squared_Error: 0.2052 - lr: 1.9200e-04\n",
      "Epoch 143/1000\n",
      "1052/1052 [==============================] - 37s 35ms/step - loss: 17.3336 - MultivariateLoss_loss: 9.4961 - MassOutput_loss: 1.0074 - MultivariateLoss_Mean_Squared_Error: 1.6147 - MassOutput_Mean_Squared_Error: 0.2046 - val_loss: 14.4177 - val_MultivariateLoss_loss: 6.5363 - val_MassOutput_loss: 1.0107 - val_MultivariateLoss_Mean_Squared_Error: 0.6858 - val_MassOutput_Mean_Squared_Error: 0.2052 - lr: 1.9200e-04\n",
      "Epoch 144/1000\n",
      "1052/1052 [==============================] - 36s 35ms/step - loss: 14.1780 - MultivariateLoss_loss: 6.3013 - MassOutput_loss: 1.0074 - MultivariateLoss_Mean_Squared_Error: 1.0480 - MassOutput_Mean_Squared_Error: 0.2046 - val_loss: 23.1501 - val_MultivariateLoss_loss: 15.2647 - val_MassOutput_loss: 1.0105 - val_MultivariateLoss_Mean_Squared_Error: 3.5047 - val_MassOutput_Mean_Squared_Error: 0.2052 - lr: 1.5360e-04\n",
      "Epoch 145/1000\n",
      "1052/1052 [==============================] - 37s 35ms/step - loss: 14.5199 - MultivariateLoss_loss: 6.6278 - MassOutput_loss: 1.0074 - MultivariateLoss_Mean_Squared_Error: 1.4709 - MassOutput_Mean_Squared_Error: 0.2046 - val_loss: 9.3870 - val_MultivariateLoss_loss: 1.5142 - val_MassOutput_loss: 1.0108 - val_MultivariateLoss_Mean_Squared_Error: 0.3616 - val_MassOutput_Mean_Squared_Error: 0.2052 - lr: 1.5360e-04\n",
      "Epoch 146/1000\n",
      "1052/1052 [==============================] - 36s 35ms/step - loss: 15.1150 - MultivariateLoss_loss: 7.2611 - MassOutput_loss: 1.0074 - MultivariateLoss_Mean_Squared_Error: 0.9943 - MassOutput_Mean_Squared_Error: 0.2046 - val_loss: 13.4665 - val_MultivariateLoss_loss: 5.6251 - val_MassOutput_loss: 1.0105 - val_MultivariateLoss_Mean_Squared_Error: 0.7585 - val_MassOutput_Mean_Squared_Error: 0.2052 - lr: 1.5360e-04\n",
      "Epoch 147/1000\n",
      "1052/1052 [==============================] - 37s 35ms/step - loss: 9.4713 - MultivariateLoss_loss: 1.6608 - MassOutput_loss: 1.0073 - MultivariateLoss_Mean_Squared_Error: 0.3560 - MassOutput_Mean_Squared_Error: 0.2046 - val_loss: 6.3708 - val_MultivariateLoss_loss: -1.4084 - val_MassOutput_loss: 1.0107 - val_MultivariateLoss_Mean_Squared_Error: 0.1222 - val_MassOutput_Mean_Squared_Error: 0.2052 - lr: 1.5360e-04\n",
      "Epoch 148/1000\n",
      "1052/1052 [==============================] - 37s 35ms/step - loss: 8174.8486 - MultivariateLoss_loss: 8167.0415 - MassOutput_loss: 1.0075 - MultivariateLoss_Mean_Squared_Error: 2.4951 - MassOutput_Mean_Squared_Error: 0.2046 - val_loss: 25.3385 - val_MultivariateLoss_loss: 17.4702 - val_MassOutput_loss: 1.0104 - val_MultivariateLoss_Mean_Squared_Error: 2.6647 - val_MassOutput_Mean_Squared_Error: 0.2052 - lr: 1.5360e-04\n",
      "Epoch 149/1000\n",
      "1052/1052 [==============================] - 37s 35ms/step - loss: 25.1419 - MultivariateLoss_loss: 17.2796 - MassOutput_loss: 1.0074 - MultivariateLoss_Mean_Squared_Error: 2.6258 - MassOutput_Mean_Squared_Error: 0.2046 - val_loss: 24.9955 - val_MultivariateLoss_loss: 17.1332 - val_MassOutput_loss: 1.0105 - val_MultivariateLoss_Mean_Squared_Error: 2.6015 - val_MassOutput_Mean_Squared_Error: 0.2052 - lr: 1.5360e-04\n",
      "Epoch 150/1000\n",
      "1052/1052 [==============================] - 37s 35ms/step - loss: 24.7694 - MultivariateLoss_loss: 16.9142 - MassOutput_loss: 1.0074 - MultivariateLoss_Mean_Squared_Error: 2.5450 - MassOutput_Mean_Squared_Error: 0.2046 - val_loss: 24.5940 - val_MultivariateLoss_loss: 16.7400 - val_MassOutput_loss: 1.0104 - val_MultivariateLoss_Mean_Squared_Error: 2.5010 - val_MassOutput_Mean_Squared_Error: 0.2052 - lr: 1.5360e-04\n",
      "Epoch 151/1000\n",
      "1052/1052 [==============================] - 37s 35ms/step - loss: 24.3582 - MultivariateLoss_loss: 16.5123 - MassOutput_loss: 1.0074 - MultivariateLoss_Mean_Squared_Error: 2.4465 - MassOutput_Mean_Squared_Error: 0.2046 - val_loss: 24.1697 - val_MultivariateLoss_loss: 16.3261 - val_MassOutput_loss: 1.0105 - val_MultivariateLoss_Mean_Squared_Error: 2.4161 - val_MassOutput_Mean_Squared_Error: 0.2052 - lr: 1.5360e-04\n",
      "Epoch 152/1000\n",
      "1052/1052 [==============================] - 37s 35ms/step - loss: 23.9341 - MultivariateLoss_loss: 16.0999 - MassOutput_loss: 1.0074 - MultivariateLoss_Mean_Squared_Error: 2.3721 - MassOutput_Mean_Squared_Error: 0.2046 - val_loss: 23.7316 - val_MultivariateLoss_loss: 15.9008 - val_MassOutput_loss: 1.0104 - val_MultivariateLoss_Mean_Squared_Error: 2.3465 - val_MassOutput_Mean_Squared_Error: 0.2052 - lr: 1.5360e-04\n",
      "Epoch 153/1000\n",
      "1052/1052 [==============================] - 37s 35ms/step - loss: 23.4792 - MultivariateLoss_loss: 15.6585 - MassOutput_loss: 1.0074 - MultivariateLoss_Mean_Squared_Error: 2.3053 - MassOutput_Mean_Squared_Error: 0.2046 - val_loss: 23.2451 - val_MultivariateLoss_loss: 15.4285 - val_MassOutput_loss: 1.0104 - val_MultivariateLoss_Mean_Squared_Error: 2.2818 - val_MassOutput_Mean_Squared_Error: 0.2052 - lr: 1.5360e-04\n",
      "Epoch 154/1000\n",
      "1052/1052 [==============================] - 37s 35ms/step - loss: 22.9664 - MultivariateLoss_loss: 15.1602 - MassOutput_loss: 1.0074 - MultivariateLoss_Mean_Squared_Error: 2.2628 - MassOutput_Mean_Squared_Error: 0.2046 - val_loss: 22.7141 - val_MultivariateLoss_loss: 14.9122 - val_MassOutput_loss: 1.0105 - val_MultivariateLoss_Mean_Squared_Error: 2.2732 - val_MassOutput_Mean_Squared_Error: 0.2052 - lr: 1.5360e-04\n",
      "Epoch 155/1000\n",
      "1052/1052 [==============================] - 37s 35ms/step - loss: 22.4210 - MultivariateLoss_loss: 14.6304 - MassOutput_loss: 1.0073 - MultivariateLoss_Mean_Squared_Error: 2.2916 - MassOutput_Mean_Squared_Error: 0.2046 - val_loss: 22.1365 - val_MultivariateLoss_loss: 14.3513 - val_MassOutput_loss: 1.0106 - val_MultivariateLoss_Mean_Squared_Error: 2.3282 - val_MassOutput_Mean_Squared_Error: 0.2052 - lr: 1.5360e-04\n",
      "Epoch 156/1000\n",
      "1052/1052 [==============================] - 37s 35ms/step - loss: 21.7932 - MultivariateLoss_loss: 14.0213 - MassOutput_loss: 1.0073 - MultivariateLoss_Mean_Squared_Error: 2.3509 - MassOutput_Mean_Squared_Error: 0.2046 - val_loss: 21.4494 - val_MultivariateLoss_loss: 13.6845 - val_MassOutput_loss: 1.0104 - val_MultivariateLoss_Mean_Squared_Error: 2.3793 - val_MassOutput_Mean_Squared_Error: 0.2052 - lr: 1.5360e-04\n",
      "Epoch 157/1000\n",
      "1052/1052 [==============================] - 37s 35ms/step - loss: 21.0087 - MultivariateLoss_loss: 13.2548 - MassOutput_loss: 1.0073 - MultivariateLoss_Mean_Squared_Error: 2.3970 - MassOutput_Mean_Squared_Error: 0.2046 - val_loss: 20.5378 - val_MultivariateLoss_loss: 12.7859 - val_MassOutput_loss: 1.0105 - val_MultivariateLoss_Mean_Squared_Error: 2.4225 - val_MassOutput_Mean_Squared_Error: 0.2052 - lr: 1.5360e-04\n",
      "Epoch 158/1000\n",
      "1052/1052 [==============================] - 38s 36ms/step - loss: 19.8903 - MultivariateLoss_loss: 12.1370 - MassOutput_loss: 1.0073 - MultivariateLoss_Mean_Squared_Error: 2.4161 - MassOutput_Mean_Squared_Error: 0.2046 - val_loss: 19.1442 - val_MultivariateLoss_loss: 11.3764 - val_MassOutput_loss: 1.0106 - val_MultivariateLoss_Mean_Squared_Error: 2.4075 - val_MassOutput_Mean_Squared_Error: 0.2052 - lr: 1.5360e-04\n",
      "Epoch 159/1000\n",
      "1052/1052 [==============================] - 37s 35ms/step - loss: 18.2883 - MultivariateLoss_loss: 10.5131 - MassOutput_loss: 1.0073 - MultivariateLoss_Mean_Squared_Error: 2.3974 - MassOutput_Mean_Squared_Error: 0.2046 - val_loss: 17.4274 - val_MultivariateLoss_loss: 9.6493 - val_MassOutput_loss: 1.0105 - val_MultivariateLoss_Mean_Squared_Error: 2.4532 - val_MassOutput_Mean_Squared_Error: 0.2052 - lr: 1.2288e-04\n",
      "Epoch 160/1000\n",
      "1052/1052 [==============================] - 37s 35ms/step - loss: 16.5028 - MultivariateLoss_loss: 8.7382 - MassOutput_loss: 1.0073 - MultivariateLoss_Mean_Squared_Error: 2.4983 - MassOutput_Mean_Squared_Error: 0.2046 - val_loss: 15.4794 - val_MultivariateLoss_loss: 7.7234 - val_MassOutput_loss: 1.0106 - val_MultivariateLoss_Mean_Squared_Error: 2.5223 - val_MassOutput_Mean_Squared_Error: 0.2052 - lr: 1.2288e-04\n",
      "Epoch 161/1000\n",
      "1052/1052 [==============================] - 37s 35ms/step - loss: 13.6887 - MultivariateLoss_loss: 5.9447 - MassOutput_loss: 1.0073 - MultivariateLoss_Mean_Squared_Error: 2.4560 - MassOutput_Mean_Squared_Error: 0.2046 - val_loss: 11.3427 - val_MultivariateLoss_loss: 3.6064 - val_MassOutput_loss: 1.0106 - val_MultivariateLoss_Mean_Squared_Error: 2.1837 - val_MassOutput_Mean_Squared_Error: 0.2052 - lr: 1.2288e-04\n",
      "Epoch 162/1000\n",
      "1052/1052 [==============================] - 37s 35ms/step - loss: 9.6108 - MultivariateLoss_loss: 1.9020 - MassOutput_loss: 1.0074 - MultivariateLoss_Mean_Squared_Error: 1.7259 - MassOutput_Mean_Squared_Error: 0.2046 - val_loss: 7.8814 - val_MultivariateLoss_loss: 0.1914 - val_MassOutput_loss: 1.0106 - val_MultivariateLoss_Mean_Squared_Error: 1.3887 - val_MassOutput_Mean_Squared_Error: 0.2052 - lr: 1.2288e-04\n",
      "Epoch 163/1000\n",
      "1052/1052 [==============================] - 37s 35ms/step - loss: 356.1994 - MultivariateLoss_loss: 348.5392 - MassOutput_loss: 1.0073 - MultivariateLoss_Mean_Squared_Error: 1.1875 - MassOutput_Mean_Squared_Error: 0.2046 - val_loss: 63.9383 - val_MultivariateLoss_loss: 56.2355 - val_MassOutput_loss: 1.0106 - val_MultivariateLoss_Mean_Squared_Error: 2.9517 - val_MassOutput_Mean_Squared_Error: 0.2052 - lr: 1.2288e-04\n"
     ]
    }
   ],
   "source": [
    "history  = DeepSetProjector.fit(\n",
    "    (particles_input_scaled,b_jets_input_scaled), y = {\"MultivariateLoss\":bhads_targets, \"MassOutput\":onehot},\n",
    "    validation_split = 0.3,\n",
    "    epochs = EPOCHS,\n",
    "    batch_size = BATCHSIZE,\n",
    "    callbacks = [early_stopping, cp_callback, reduce_learn_on_plateau],\n",
    "    )"
   ]
  },
  {
   "cell_type": "code",
   "execution_count": null,
   "metadata": {},
   "outputs": [
    {
     "data": {
      "image/png": "[encoded data removed]",
      "text/plain": [
       "<Figure size 640x480 with 1 Axes>"
      ]
     },
     "metadata": {},
     "output_type": "display_data"
    }
   ],
   "source": [
    "# Plot the loss and validation curves vs epoch\n",
    "history_df = pd.DataFrame(history.history)\n",
    "np.log(history_df.loc[:, [\"loss\",\"val_loss\"]]).plot()\n",
    "history_df.to_csv('/home/physics/phujdj/DeepLearningParticlePhysics/historyResidualNeuralNetwork.csv')"
   ]
  },
  {
   "cell_type": "code",
   "execution_count": null,
   "metadata": {},
   "outputs": [
    {
     "name": "stdout",
     "output_type": "stream",
     "text": [
      "3006/3006 - 23s - loss: 4.5361 - MultivariateLoss_loss: -3.0558e+00 - MassOutput_loss: 1.0083 - MultivariateLoss_Mean_Squared_Error: 0.1906 - MassOutput_Mean_Squared_Error: 0.2048 - 23s/epoch - 8ms/step\n",
      "The Loaded DeepNet has loss:  [4.536115646362305, -3.0558054447174072, 1.0082509517669678, 0.19064921140670776, 0.20477493107318878]\n"
     ]
    }
   ],
   "source": [
    "#Evaluate the entire performance of the model\n",
    "loss = DeepSetProjector.evaluate((particles_input_scaled,b_jets_input_scaled),(bhads_targets, onehot),verbose = 2)\n",
    "print(\"The Loaded DeepNet has loss: \", loss)"
   ]
  },
  {
   "cell_type": "code",
   "execution_count": null,
   "metadata": {},
   "outputs": [],
   "source": [
    "Predictions = np.stack([DeepSetProjector((particles_input_scaled, b_jets_input_scaled))[0] for sample in range(100)])\n",
    "Predictions = Predictions.mean(axis = 0)"
   ]
  },
  {
   "cell_type": "code",
   "execution_count": null,
   "metadata": {},
   "outputs": [],
   "source": [
    "lister = []\n",
    "index = 0\n",
    "predictions_x = Predictions[:,:np.shape(Standardized_Bhads_targets)[1]]\n",
    "predictions_X = predictions_x\n",
    "lister = []\n",
    "index = 0\n",
    "predictions_x_uncertainty = Predictions[:,np.shape(Standardized_Bhads_targets)[1]:2*np.shape(Standardized_Bhads_targets)[1]]\n",
    "Predictions_Uncertainty = predictions_x_uncertainty"
   ]
  },
  {
   "cell_type": "code",
   "execution_count": null,
   "metadata": {},
   "outputs": [],
   "source": [
    "Error_px_unscaled = (bhads_targets[:,0] - predictions_X[:,0])*1e5\n",
    "Pull_bhads_px_unscaled = Error_px_unscaled/np.std(bhads_targets[:,0]*1e5)\n",
    "Pull_px = Error_px_unscaled/(Predictions_Uncertainty[:,0]*1e5)"
   ]
  },
  {
   "cell_type": "code",
   "execution_count": null,
   "metadata": {},
   "outputs": [
    {
     "data": {
      "image/png": "[encoded data removed]",
      "text/plain": [
       "<Figure size 800x800 with 1 Axes>"
      ]
     },
     "execution_count": 103,
     "metadata": {},
     "output_type": "execute_result"
    }
   ],
   "source": [
    "binneddensity(predictions_X[:,0]*1e5,fixedbinning(-5e4,5e4,100), xlabel = \"Px\")"
   ]
  },
  {
   "cell_type": "code",
   "execution_count": null,
   "metadata": {},
   "outputs": [
    {
     "name": "stdout",
     "output_type": "stream",
     "text": [
      "-13569.289432574495\n",
      "54616.994439764494\n"
     ]
    },
    {
     "data": {
      "image/png": "[encoded data removed]",
      "text/plain": [
       "<Figure size 800x800 with 1 Axes>"
      ]
     },
     "execution_count": 104,
     "metadata": {},
     "output_type": "execute_result"
    }
   ],
   "source": [
    "print(np.mean(Error_px_unscaled))\n",
    "print(np.std(Error_px_unscaled))\n",
    "binneddensity(Error_px_unscaled, fixedbinning(-20000,20000,100),xlabel = \"Error_px_unscaled\")"
   ]
  }
 ],
 "metadata": {
  "kernelspec": {
   "display_name": "Python 3",
   "language": "python",
   "name": "python3"
  },
  "language_info": {
   "codemirror_mode": {
    "name": "ipython",
    "version": 3
   },
   "file_extension": ".py",
   "mimetype": "text/x-python",
   "name": "python",
   "nbconvert_exporter": "python",
   "pygments_lexer": "ipython3",
   "version": "3.9.12"
  },
  "orig_nbformat": 4,
  "vscode": {
   "interpreter": {
    "hash": "a05ddcd8ffea9a6a7d2e914b733df5445b717626b5b8c92c04bfc4eb6e7f5cba"
   }
  }
 },
 "nbformat": 4,
 "nbformat_minor": 2
}
