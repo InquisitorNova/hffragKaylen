{
 "cells": [
  {
   "cell_type": "code",
   "execution_count": 1,
   "metadata": {},
   "outputs": [
    {
     "name": "stderr",
     "output_type": "stream",
     "text": [
      "2023-02-17 15:07:33.372257: I tensorflow/core/platform/cpu_feature_guard.cc:193] This TensorFlow binary is optimized with oneAPI Deep Neural Network Library (oneDNN) to use the following CPU instructions in performance-critical operations:  AVX2 AVX512F AVX512_VNNI FMA\n",
      "To enable them in other operations, rebuild TensorFlow with the appropriate compiler flags.\n",
      "2023-02-17 15:07:33.519256: I tensorflow/core/util/port.cc:104] oneDNN custom operations are on. You may see slightly different numerical results due to floating-point round-off errors from different computation orders. To turn them off, set the environment variable `TF_ENABLE_ONEDNN_OPTS=0`.\n",
      "2023-02-17 15:07:33.523440: W tensorflow/compiler/xla/stream_executor/platform/default/dso_loader.cc:64] Could not load dynamic library 'libcudart.so.11.0'; dlerror: libcudart.so.11.0: cannot open shared object file: No such file or directory\n",
      "2023-02-17 15:07:33.523455: I tensorflow/compiler/xla/stream_executor/cuda/cudart_stub.cc:29] Ignore above cudart dlerror if you do not have a GPU set up on your machine.\n",
      "2023-02-17 15:07:34.881145: W tensorflow/compiler/xla/stream_executor/platform/default/dso_loader.cc:64] Could not load dynamic library 'libnvinfer.so.7'; dlerror: libnvinfer.so.7: cannot open shared object file: No such file or directory\n",
      "2023-02-17 15:07:34.881215: W tensorflow/compiler/xla/stream_executor/platform/default/dso_loader.cc:64] Could not load dynamic library 'libnvinfer_plugin.so.7'; dlerror: libnvinfer_plugin.so.7: cannot open shared object file: No such file or directory\n",
      "2023-02-17 15:07:34.881222: W tensorflow/compiler/tf2tensorrt/utils/py_utils.cc:38] TF-TRT Warning: Cannot dlopen some TensorRT libraries. If you would like to use Nvidia GPU with TensorRT, please make sure the missing libraries mentioned above are installed properly.\n"
     ]
    },
    {
     "name": "stdout",
     "output_type": "stream",
     "text": [
      "number of jets to train on:\n",
      "141329\n"
     ]
    },
    {
     "name": "stderr",
     "output_type": "stream",
     "text": [
      "/home/physics/phujdj/DeepLearningParticlePhysics/hffrag.py:136: RuntimeWarning: overflow encountered in sinh\n",
      "  pzs = numpy.where(mask, pts, pts * numpy.sinh(etas))\n"
     ]
    }
   ],
   "source": [
    "import os\n",
    "import numpy as np\n",
    "import seaborn as sns\n",
    "import wandb\n",
    "#from wandb.keras import WandbCallback\n",
    "from keras import callbacks\n",
    "import keras\n",
    "from keras import regularizers\n",
    "import DeepSetNeuralNetArchitecture as DSNNA\n",
    "from DeepSetNeuralNetArchitecture import LogNormal_Loss_Function\n",
    "from DeepSetNeuralNetArchitecture import Mean_Squared_Error\n",
    "from HffragDeepSetsProjectionMultivariate import DeepSetsProjection\n",
    "from sklearn.feature_selection import mutual_info_regression\n",
    "import keras.backend as k\n",
    "import uproot\n",
    "import awkward as ak\n",
    "import sklearn as sk\n",
    "from numpy.lib.recfunctions import structured_to_unstructured\n",
    "from sklearn.model_selection import train_test_split\n",
    "from sklearn.decomposition import PCA\n",
    "import tensorflow as tf\n",
    "from sklearn.preprocessing import StandardScaler\n",
    "import pandas as pd\n",
    "from hffrag import fixedbinning\n",
    "from hffrag import binneddensity\n",
    "from keras.utils.vis_utils import plot_model\n",
    "from timeit import default_timer as timer\n",
    "import matplotlib.pyplot as plt\n",
    "%matplotlib inline"
   ]
  },
  {
   "cell_type": "code",
   "execution_count": 2,
   "metadata": {},
   "outputs": [],
   "source": [
    "plt.style.use(\"default\")\n",
    "plt.rcParams['axes.facecolor'] = 'white'\n",
    "plt.rcParams['savefig.facecolor'] = 'white'\n",
    "plt.rc('text',usetex = False)\n",
    "plt.rc('font',family = 'Times New Roman')"
   ]
  },
  {
   "cell_type": "code",
   "execution_count": 3,
   "metadata": {},
   "outputs": [],
   "source": [
    "# The data is being stored in a tree datastructure.\n",
    "# We access the charm root using this command\n",
    "tree = uproot.open(\"/storage/epp2/phswmv/data/hffrag/hffrag.root:CharmAnalysis\")"
   ]
  },
  {
   "cell_type": "code",
   "execution_count": 4,
   "metadata": {},
   "outputs": [],
   "source": [
    "# Initial parameters\n",
    "MASKVAL = -999 # This value is introduced to ensure arrays are regular (Of the same size). They will be masked later by the network\n",
    "MAXTRACKS = 32 # This value is the maximum number of tracks allowed per event\n",
    "BATCHSIZE = 64 # This is the batch size of the mini batches used during training\n",
    "EPOCHS = 1000 # This is the default number of epochs for which the neural network will train providing that early stopping does not occur\n",
    "MAXEVENTS = 2e5 #This is the maximum number of events that will the program will accept\n",
    "LR = 1e-4 #This is the default learning rate"
   ]
  },
  {
   "cell_type": "code",
   "execution_count": 5,
   "metadata": {},
   "outputs": [],
   "source": [
    "# Select the features we wish to study\n",
    "track_features = [\"AnalysisTracks_pt\", \"AnalysisTracks_eta\", \"AnalysisTracks_phi\", \"AnalysisTracks_z0sinTheta\",\n",
    "                  \"AnalysisTracks_d0sig\", \"AnalysisTracks_d0\", \"AnalysisTracks_d0sigPV\", \"AnalysisTracks_d0PV\"]\n",
    "jet_features = [\"AnalysisAntiKt4TruthJets_pt\", \"AnalysisAntiKt4TruthJets_eta\", \"AnalysisAntiKt4TruthJets_phi\", \"AnalysisAntiKt4TruthJets_m\",\"AnalysisAntiKt4TruthJets_ghostB_pdgId\",\n",
    "                \"AnalysisAntiKt4TruthJets_ghostB_pt\", \"AnalysisAntiKt4TruthJets_ghostB_eta\",\"AnalysisAntiKt4TruthJets_ghostB_phi\", \"AnalysisAntiKt4TruthJets_ghostB_m\"]\n",
    "SV_features = [\"TruthParticles_Selected_LxyT\"]"
   ]
  },
  {
   "cell_type": "code",
   "execution_count": 6,
   "metadata": {},
   "outputs": [],
   "source": [
    "# Read in the data from the root file\n",
    "features = tree.arrays(jet_features+track_features + SV_features, entry_stop=MAXEVENTS)"
   ]
  },
  {
   "cell_type": "code",
   "execution_count": 7,
   "metadata": {},
   "outputs": [],
   "source": [
    "# Select the events of interest\n",
    "events = features[ak.sum(\n",
    "    features[\"AnalysisAntiKt4TruthJets_pt\"] > 25000, axis=1) > 0]"
   ]
  },
  {
   "cell_type": "code",
   "execution_count": 8,
   "metadata": {},
   "outputs": [
    {
     "name": "stdout",
     "output_type": "stream",
     "text": [
      "The number of jets to train on is:  199840\n",
      "The number of track features is:  8\n"
     ]
    }
   ],
   "source": [
    "# Displays the number of jets being trained on\n",
    "jets = events[jet_features][:, 0]\n",
    "print(\"The number of jets to train on is: \", len(jets))\n",
    "print(\"The number of track features is: \",len(track_features))"
   ]
  },
  {
   "cell_type": "code",
   "execution_count": 9,
   "metadata": {},
   "outputs": [],
   "source": [
    "# Select tracks from the events\n",
    "tracks = events[track_features]\n",
    "Secondary_Displacement_temp_first = events[SV_features]\n",
    "\n",
    "# Match the tracks to the jets\n",
    "mask = DSNNA.Match_Tracks(jets, tracks)\n",
    "matchedtracks = tracks[mask]\n",
    "\n",
    "# Pad and Flatten the data\n",
    "matchedtracks = DSNNA.flatten(matchedtracks, MAXTRACKS)"
   ]
  },
  {
   "cell_type": "code",
   "execution_count": 10,
   "metadata": {},
   "outputs": [
    {
     "name": "stdout",
     "output_type": "stream",
     "text": [
      "There are 4 outputs\n",
      "There are 32 inputs\n"
     ]
    }
   ],
   "source": [
    "bjets = ak.sum(jets[\"AnalysisAntiKt4TruthJets_ghostB_pt\"] > 5000, axis=1) > 0\n",
    "Secondary_Displacement_temp_a = DSNNA.flatten(Secondary_Displacement_temp_first, 6).to_numpy()\n",
    "Secondary_Displacement_temp_b = Secondary_Displacement_temp_a[:,0]\n",
    "Secondary_Displacement_temp = Secondary_Displacement_temp_b[bjets]\n",
    "jets = jets[bjets]\n",
    "\n",
    "# Obtain the pt, eta and phi of each b hadron jet\n",
    "bhads_pt = jets[\"AnalysisAntiKt4TruthJets_ghostB_pt\"][:, 0].to_numpy()\n",
    "bhads_eta = jets[\"AnalysisAntiKt4TruthJets_ghostB_eta\"][:,0].to_numpy()\n",
    "bhads_phi = jets[\"AnalysisAntiKt4TruthJets_ghostB_phi\"][:,0].to_numpy()\n",
    "bhads_m = jets[\"AnalysisAntiKt4TruthJets_ghostB_m\"][:,0].to_numpy()\n",
    "bhads_PGID = jets[\"AnalysisAntiKt4TruthJets_ghostB_pdgId\"][:,0].to_numpy()\n",
    "\n",
    "jets_pt = jets[\"AnalysisAntiKt4TruthJets_pt\"].to_numpy()\n",
    "jets_eta = jets[\"AnalysisAntiKt4TruthJets_eta\"].to_numpy()\n",
    "jets_phi = jets[\"AnalysisAntiKt4TruthJets_phi\"].to_numpy()\n",
    "jets_m = jets[\"AnalysisAntiKt4TruthJets_m\"].to_numpy()\n",
    "b_jets = np.stack([jets_pt,jets_eta,jets_phi, jets_m], axis = -1)\n",
    "\n",
    "bhads = np.stack([bhads_pt,bhads_eta,bhads_phi, bhads_m],axis = -1) #Combine the momentum, eta and phi for each jet into one array\n",
    "\n",
    "print(\"There are {} outputs\".format(np.shape(bhads)[1])) # Display the number of target features the neural network will predict\n",
    "matchedtracks = matchedtracks[bjets]\n",
    "print(\"There are {} inputs\".format(np.shape(matchedtracks)[1])) # Display the number of target features the neural network will use in it's predictions"
   ]
  },
  {
   "cell_type": "code",
   "execution_count": 11,
   "metadata": {},
   "outputs": [
    {
     "name": "stdout",
     "output_type": "stream",
     "text": [
      "-999.0 115.98360443115234\n"
     ]
    }
   ],
   "source": [
    "Secondary_Displacement = np.array([x[0] for x in Secondary_Displacement_temp])\n",
    "print(np.min(Secondary_Displacement), np.max(Secondary_Displacement))"
   ]
  },
  {
   "cell_type": "code",
   "execution_count": 12,
   "metadata": {},
   "outputs": [],
   "source": [
    "# Transform the jet and tracks to unstructed data.\n",
    "jets = structured_to_unstructured(jets[jet_features[:-5]])\n",
    "matchedtracks = structured_to_unstructured(matchedtracks)"
   ]
  },
  {
   "cell_type": "code",
   "execution_count": 13,
   "metadata": {},
   "outputs": [
    {
     "name": "stdout",
     "output_type": "stream",
     "text": [
      "(96659, 32, 3)\n",
      "(96659, 3)\n"
     ]
    },
    {
     "name": "stderr",
     "output_type": "stream",
     "text": [
      "/home/physics/phujdj/DeepLearningParticlePhysics/DeepSetNeuralNetArchitecture.py:108: RuntimeWarning: overflow encountered in sinh\n",
      "  pzs = np.where(mask1 | mask3, pts, pts * np.sinh(etas))\n"
     ]
    }
   ],
   "source": [
    "# Convert the coordinates of the b jets and tracks to cartesian coordinates\n",
    "polartracks = matchedtracks.to_numpy()\n",
    "Num_events = MAXTRACKS\n",
    "tracks_pt = polartracks[:,:,0].reshape(-1,Num_events,1)\n",
    "tracks_eta = polartracks[:,:,1].reshape(-1,Num_events,1)\n",
    "tracks_phi = polartracks[:,:,2].reshape(-1,Num_events,1)\n",
    "\n",
    "tracks_pep = np.concatenate([tracks_pt,tracks_eta,tracks_phi], axis = -1) \n",
    "print(tracks_pep.shape)\n",
    "\n",
    "jets_pt = b_jets[:,0].reshape(-1,1)\n",
    "jets_eta = b_jets[:,1].reshape(-1,1)\n",
    "jets_phi = b_jets[:,2].reshape(-1,1)\n",
    "\n",
    "b_jets_pep = np.concatenate([jets_pt,jets_eta,jets_phi], axis = -1) \n",
    "print(b_jets_pep.shape)\n",
    "\n",
    "tracks_p = DSNNA.pt_eta_phi_2_px_py_pz_tracks(matchedtracks.to_numpy())\n",
    "bhads = DSNNA.pt_eta_phi_2_px_py_pz_jets(bhads)\n",
    "b_jets_p = DSNNA.pt_eta_phi_2_px_py_pz_jets(b_jets)\n",
    "b_jets_m = b_jets[:,-1].reshape(-1,1)\n",
    "\n",
    "#Combine the momenta of the tracks with the rest of the track features to form the track dataset\n",
    "tracks = np.concatenate([tracks_p,tracks_pep,matchedtracks[:,:,3:].to_numpy()],axis = 2)\n",
    "b_jets = np.concatenate([b_jets_p,b_jets_pep,b_jets_m] ,axis = 1)"
   ]
  },
  {
   "cell_type": "code",
   "execution_count": 14,
   "metadata": {},
   "outputs": [],
   "source": [
    "tracks = np.ma.masked_values(tracks,-999)\n",
    "Secondary_Displacement = np.ma.masked_values(Secondary_Displacement,-999)"
   ]
  },
  {
   "cell_type": "code",
   "execution_count": 15,
   "metadata": {},
   "outputs": [
    {
     "name": "stdout",
     "output_type": "stream",
     "text": [
      "(96659,)\n"
     ]
    }
   ],
   "source": [
    "bhads_fractions_px = bhads[:,0]/b_jets[:,0]\n",
    "bhads_fractions_py = bhads[:,1]/b_jets[:,1]\n",
    "bhads_fractions_pz = bhads[:,2]/b_jets[:,2]\n",
    "b_jets_mag = np.linalg.norm(b_jets[:,:3], axis = 1)\n",
    "bhads_fractions = np.stack([bhads_fractions_px,bhads_fractions_py, bhads_fractions_pz], axis = -1)\n",
    "bhads_projection = ((bhads[:,:3]*b_jets[:,:3]).sum(axis = 1))/(b_jets_mag**2)\n",
    "print(bhads_fractions_px.shape)"
   ]
  },
  {
   "cell_type": "code",
   "execution_count": 16,
   "metadata": {},
   "outputs": [
    {
     "name": "stderr",
     "output_type": "stream",
     "text": [
      "/tmp/ipykernel_15737/381760229.py:1: RuntimeWarning: invalid value encountered in sqrt\n",
      "  Tracks_Momentum = np.sqrt(tracks[:, : ,0]**2 + tracks[:,:,1]**2 + tracks[:,:,2]**2)\n"
     ]
    },
    {
     "name": "stdout",
     "output_type": "stream",
     "text": [
      "(96659, 32, 4)\n",
      "(96659,)\n"
     ]
    }
   ],
   "source": [
    "Tracks_Momentum = np.sqrt(tracks[:, : ,0]**2 + tracks[:,:,1]**2 + tracks[:,:,2]**2)\n",
    "Tracks_4_Momentum = np.stack([Tracks_Momentum, tracks[:,:,0], tracks[:,:,1], tracks[:,:,2]], axis = -1)\n",
    "print(Tracks_4_Momentum.shape)\n",
    "Tracks_Invariant_Mass = np.sqrt((np.sum(Tracks_4_Momentum, axis = 1) * np.sum(Tracks_4_Momentum, axis = 1)).sum(axis = -1))\n",
    "print(Tracks_Invariant_Mass.shape)"
   ]
  },
  {
   "cell_type": "code",
   "execution_count": 17,
   "metadata": {},
   "outputs": [],
   "source": [
    "Secondary_Displacement = np.ma.masked_values(Secondary_Displacement,-999)"
   ]
  },
  {
   "cell_type": "code",
   "execution_count": 18,
   "metadata": {},
   "outputs": [
    {
     "name": "stdout",
     "output_type": "stream",
     "text": [
      "(96659,)\n",
      "(96659,)\n",
      "(96659,) (96659, 1)\n",
      "(96659,)\n",
      "[0.9923946  1.00824593 0.99120818]\n",
      "0.9923945992521676\n",
      "-34465.39587820514 618.1237235802715\n",
      "0.9923945992521676\n",
      "0.9923945992521676\n",
      "-4195.466731248074 618.1237235802715\n",
      "Hello\n",
      "(96659,)\n"
     ]
    },
    {
     "name": "stderr",
     "output_type": "stream",
     "text": [
      "/tmp/ipykernel_15737/2583003470.py:18: RuntimeWarning: divide by zero encountered in true_divide\n",
      "  b_jet_energy_mass_ratio = b_jets_energy/b_jets_m[:,0]\n"
     ]
    },
    {
     "name": "stdout",
     "output_type": "stream",
     "text": [
      "(96659,)\n",
      "(96659,)\n",
      "(96659,)\n"
     ]
    },
    {
     "name": "stderr",
     "output_type": "stream",
     "text": [
      "/tmp/ipykernel_15737/2583003470.py:65: RuntimeWarning: divide by zero encountered in log\n",
      "  Log_Sum_px = np.log(sum_px_tracks/b_jets[:,0])\n",
      "/tmp/ipykernel_15737/2583003470.py:65: RuntimeWarning: invalid value encountered in log\n",
      "  Log_Sum_px = np.log(sum_px_tracks/b_jets[:,0])\n",
      "/tmp/ipykernel_15737/2583003470.py:66: RuntimeWarning: divide by zero encountered in log\n",
      "  Log_Sum_py = np.log(sum_py_tracks/b_jets[:,1])\n",
      "/tmp/ipykernel_15737/2583003470.py:66: RuntimeWarning: invalid value encountered in log\n",
      "  Log_Sum_py = np.log(sum_py_tracks/b_jets[:,1])\n",
      "/tmp/ipykernel_15737/2583003470.py:67: RuntimeWarning: divide by zero encountered in log\n",
      "  Log_Sum_pz = np.log(sum_pz_tracks/b_jets[:,2])\n",
      "/tmp/ipykernel_15737/2583003470.py:67: RuntimeWarning: invalid value encountered in log\n",
      "  Log_Sum_pz = np.log(sum_pz_tracks/b_jets[:,2])\n",
      "/tmp/ipykernel_15737/2583003470.py:68: RuntimeWarning: divide by zero encountered in log\n",
      "  Log_Sum_pt = np.log(sum_pt_tracks/b_jets[:,3])\n"
     ]
    },
    {
     "name": "stdout",
     "output_type": "stream",
     "text": [
      "(96659,)\n",
      "(96659, 32)\n",
      "(96659, 32, 3)\n",
      "(96659, 32, 3)\n",
      "0.14894195156291137\n",
      "-670.9594413217917 469.1820966775337\n",
      "hey\n",
      "(96659, 32)\n",
      "(96659, 3)\n",
      "(96659,)\n",
      "(96659,)\n",
      "(96659,)\n",
      "79564.74\n",
      "()\n",
      "(96659,)\n",
      "(96659,)\n",
      "end\n",
      "215380.48 189104.06\n"
     ]
    }
   ],
   "source": [
    "b_jets_mag = np.linalg.norm(b_jets[:,:3], axis = 1)\n",
    "bhads_mag = np.linalg.norm(bhads[:,:3], axis = 1)\n",
    "tracks_Momentum = np.sum(np.linalg.norm(tracks[:,:,:3], axis = 2))\n",
    "\n",
    "bhads_fractions_px = bhads[:,0]/b_jets[:,0]\n",
    "bhads_fractions_py = bhads[:,1]/b_jets[:,1]\n",
    "bhads_fractions_pz = bhads[:,2]/b_jets[:,2]\n",
    "bhads_fractions_pt = bhads_pt/b_jets_pep[:,0]\n",
    "print(bhads_fractions_px.shape)\n",
    "print(bhads_fractions_px.shape)\n",
    "\n",
    "b_jets_energy = np.sqrt((b_jets_m[:,0]**2) + (b_jets_mag**2))\n",
    "print(b_jets_energy.shape, b_jets_m.shape)\n",
    "\n",
    "b_jets_energy_pt = np.sqrt((b_jets_m[:,0]**2) + (b_jets[:,4]**2))\n",
    "b_jets_energy_pt.shape\n",
    "\n",
    "b_jet_energy_mass_ratio = b_jets_energy/b_jets_m[:,0]\n",
    "\n",
    "print(b_jet_energy_mass_ratio.shape)\n",
    "bhads_energy = np.sqrt((bhads_m**2) + (bhads_mag**2))\n",
    "bhads_energy.shape\n",
    "\n",
    "bhads_energy_mass_ratio = bhads_energy/bhads_m\n",
    "\n",
    "print(bhads_fractions[0])\n",
    "print(bhads[0,0]/b_jets[0,0])\n",
    "print(np.min(bhads_fractions),np.max(bhads_fractions))\n",
    "\n",
    "print(bhads_fractions_px[0])\n",
    "print(bhads[0,0]/b_jets[0,0])\n",
    "print(np.min(bhads_fractions_px),np.max(bhads_fractions_px))\n",
    "\n",
    "print(\"Hello\")\n",
    "sum_px_tracks = np.sum(tracks[:,:,0], axis = 1)\n",
    "sum_py_tracks = np.sum(tracks[:,:,1], axis = 1)\n",
    "sum_pz_tracks = np.sum(tracks[:,:,2], axis = 1)\n",
    "sum_pt_tracks = np.sum(tracks[:,:,3], axis = 1)\n",
    "print(sum_pt_tracks.shape)\n",
    "\n",
    "sum_px_tracks_RSE = np.sqrt(np.sum(tracks[:,:,0]**2, axis = 1))\n",
    "sum_py_tracks_RSE= np.sqrt(np.sum(tracks[:,:,1]**2, axis = 1))\n",
    "sum_pz_tracks_RSE = np.sqrt(np.sum(tracks[:,:,2]**2, axis = 1))\n",
    "sum_pt_tracks_RSE = np.sqrt(np.sum(tracks[:,:,3]**2, axis = 1))\n",
    "print(sum_pt_tracks_RSE.shape)\n",
    "\n",
    "RSM_scaled_px = sum_px_tracks_RSE/sum_px_tracks\n",
    "RSM_scaled_py = sum_py_tracks_RSE/sum_py_tracks\n",
    "RSM_scaled_pz = sum_pz_tracks_RSE/sum_pz_tracks\n",
    "RSM_scaled_pt = sum_pt_tracks_RSE/sum_pt_tracks\n",
    "print(RSM_scaled_pt.shape)\n",
    "\n",
    "RMS_scaled_px = np.sqrt(np.sum(tracks[:,:,0]**2, axis = 1)/MAXTRACKS)\n",
    "RMS_scaled_py = np.sqrt(np.sum(tracks[:,:,1]**2, axis = 1)/MAXTRACKS)\n",
    "RMS_scaled_pz = np.sqrt(np.sum(tracks[:,:,2]**2, axis = 1)/MAXTRACKS)\n",
    "RMS_scaled_pt = np.sqrt(np.sum(tracks[:,:,3]**2, axis = 1)/MAXTRACKS)\n",
    "print(RMS_scaled_pt.shape)\n",
    "\n",
    "Log_px_tracks = np.log(abs(tracks[:,:,0]/b_jets[:,np.newaxis,0]))\n",
    "Log_py_tracks = np.log(abs(tracks[:,:,1]/b_jets[:,np.newaxis,1]))\n",
    "Log_pz_tracks = np.log(abs(tracks[:,:,2]/b_jets[:,np.newaxis,2]))\n",
    "Log_pt_tracks = np.log(abs(tracks[:,:,3]/b_jets[:,np.newaxis,3]))\n",
    "Log_tracks = np.stack([Log_px_tracks, Log_py_tracks, Log_pz_tracks, Log_pt_tracks], axis = -1)\n",
    "\n",
    "Log_Sum_px = np.log(sum_px_tracks/b_jets[:,0])\n",
    "Log_Sum_py = np.log(sum_py_tracks/b_jets[:,1])\n",
    "Log_Sum_pz = np.log(sum_pz_tracks/b_jets[:,2])\n",
    "Log_Sum_pt = np.log(sum_pt_tracks/b_jets[:,3])\n",
    "Log_Momenta = np.log(abs(tracks_Momentum/np.sum(b_jets[:,:3], axis = 1)))\n",
    "print(Log_Sum_pt.shape)\n",
    "\n",
    "tracks_fractions_px = tracks[:,:,0]/b_jets[:,np.newaxis,0]\n",
    "tracks_fractions_py = tracks[:,:,1]/b_jets[:,np.newaxis,1]\n",
    "tracks_fractions_pz = tracks[:,:,2]/b_jets[:,np.newaxis,2]\n",
    "tracks_fractions_pt = tracks[:,:,3]/b_jets[:,np.newaxis,3]\n",
    "print(tracks_fractions_pt.shape)\n",
    "Track_fractions = np.stack([tracks_fractions_px,tracks_fractions_py, tracks_fractions_pz], axis = -1)\n",
    "print(Track_fractions.shape)\n",
    "\n",
    "print(Track_fractions.shape)\n",
    "print(tracks[0,0,0]/b_jets[0,0])\n",
    "print(np.mean(Track_fractions),np.std(Track_fractions))\n",
    "\n",
    "print(\"hey\")\n",
    "Tracks_projection = ((tracks[:,:,:3]*b_jets[:,np.newaxis,:3]).sum(axis = 2)/(b_jets_mag[:,np.newaxis]**2))\n",
    "print(Tracks_projection.shape)\n",
    "Track_Momenta = np.stack([sum_px_tracks, sum_py_tracks, sum_pz_tracks], axis = -1)\n",
    "print(Track_Momenta.shape)\n",
    "Sum_Tracks_projection = ((Track_Momenta*b_jets[:,:3]).sum(axis = 1))/(b_jets_mag**2)\n",
    "print(Sum_Tracks_projection.shape)\n",
    "\n",
    "b_jet_energy_ratio_px = sum_px_tracks/b_jets_energy\n",
    "b_jet_energy_ratio_py = sum_py_tracks/b_jets_energy\n",
    "b_jet_energy_ratio_pz = sum_pz_tracks/b_jets_energy\n",
    "b_jet_energy_ratio_pt = sum_pt_tracks/b_jets_energy\n",
    "print(b_jet_energy_ratio_pt.shape)\n",
    "\n",
    "b_jet_energy_ratio_cart = b_jets_mag/b_jets_energy\n",
    "b_jet_energy_ratio_pt = b_jets[:,4]/b_jets_energy\n",
    "print(b_jet_energy_ratio_pt.shape)\n",
    "\n",
    "b_jet_energy_ratio_total = np.sum(b_jets[:,4])/np.sum(b_jets_energy)  \n",
    "b_jet_transverse_mass = np.sqrt(b_jets_energy**2 - b_jets[:,2]**2)\n",
    "bhads_transverse_mass = np.sqrt(bhads_energy**2 - bhads[:,2]**2)\n",
    "print(b_jet_transverse_mass[0])\n",
    "print(b_jet_energy_ratio_total.shape)\n",
    "print(b_jet_transverse_mass.shape)\n",
    "print(np.full((len(b_jets)),b_jet_energy_ratio_total).shape)\n",
    "print(\"end\")\n",
    "bhads_projection = ((bhads[:,:3]*b_jets[:,:3]).sum(axis = 1))/(b_jets_mag**2)\n",
    "\n",
    "print(np.mean(b_jets_energy),np.std(b_jets_energy))\n",
    "\n",
    "b_jets = np.stack([b_jets[:,0], b_jets[:,1], b_jets[:,2],b_jets[:,3],b_jets[:,4], b_jets[:,5], b_jets[:,6], b_jets_mag, sum_px_tracks, sum_py_tracks, sum_pz_tracks, sum_pt_tracks, sum_px_tracks_RSE, sum_py_tracks_RSE, sum_pz_tracks_RSE, sum_pt_tracks_RSE, RSM_scaled_px, RSM_scaled_py, RSM_scaled_pz, RSM_scaled_pt, RMS_scaled_px, RMS_scaled_py, RMS_scaled_pz, RMS_scaled_pt, b_jet_transverse_mass, Log_Sum_px, Log_Sum_py, Log_Sum_pz, Log_Sum_pt, Log_Momenta, b_jets_energy, b_jet_energy_ratio_px, b_jet_energy_ratio_py, b_jet_energy_ratio_pz, b_jet_energy_ratio_cart, b_jet_energy_ratio_pt, b_jet_energy_mass_ratio, np.full((len(b_jets),),b_jet_energy_ratio_total)], axis = -1)\n",
    "bhads_targets = np.stack([bhads[:,0]/1e6,bhads[:,1]/1e6, bhads[:,2]/1e6, bhads_pt/1e6, bhads_eta, bhads_phi, bhads_energy/1e6, bhads_fractions_pt, bhads_transverse_mass/1e6, bhads_energy_mass_ratio/1e3, bhads_projection, bhads_m/1e3, Secondary_Displacement/1e4], axis = -1)"
   ]
  },
  {
   "cell_type": "code",
   "execution_count": 19,
   "metadata": {},
   "outputs": [
    {
     "data": {
      "text/plain": [
       "(0.007714192445469887, 3.841544124624852)"
      ]
     },
     "execution_count": 19,
     "metadata": {},
     "output_type": "execute_result"
    }
   ],
   "source": [
    "bhads_targets = np.ma.masked_values(bhads_targets, -999)\n",
    "np.min(bhads_projection), np.max(bhads_projection)"
   ]
  },
  {
   "cell_type": "code",
   "execution_count": 20,
   "metadata": {},
   "outputs": [
    {
     "name": "stdout",
     "output_type": "stream",
     "text": [
      "(96659, 32, 19)\n"
     ]
    }
   ],
   "source": [
    "\"\"\"\n",
    "0 - Momentum Px \n",
    "1 - Momentum Py\n",
    "2 - Momentum Pz\n",
    "3 - Momentum Pt\n",
    "4 - Total Momentum\n",
    "5-  Momentum Eta Scaled\n",
    "6 - Momentum Phi Scaled\n",
    "7 - Tranvserse Impact parameter sin component\n",
    "8 - Longitudinal Impact parameter\n",
    "9 - Longitudinal Impact parameter signficiance\n",
    "10 - Longitudinal Impact Parameter w.r.t PV\n",
    "11 - Longitudinal Impact Parameter wr.r.t PV\n",
    "12 - Momentum Fraction Px Scaled\n",
    "13 - Momentum Fraction Py Scaled\n",
    "14 - Momentum Fraction Pz Scaled\n",
    "16 - Momentum Fraction pt Scaled.\n",
    "17 - Logarithm of px of the tracks / b_jet x momenta\n",
    "18 - Logarithm of py of the tracks / b_jet y momenta\n",
    "19 - Logarithm of pz of the tracks / b_jet z momenta\n",
    "20 - Logarithm of sum pt of the tracks / b_jet t momenta\n",
    "\"\"\"\n",
    "Tracks_input = np.concatenate([tracks, Tracks_4_Momentum[:,:,0].reshape(-1,32,1), Track_fractions, Log_tracks], axis = -1)\n",
    "print(Tracks_input.shape)"
   ]
  },
  {
   "cell_type": "code",
   "execution_count": 21,
   "metadata": {},
   "outputs": [
    {
     "name": "stdout",
     "output_type": "stream",
     "text": [
      "(96659, 72)\n"
     ]
    }
   ],
   "source": [
    "\"\"\"\n",
    "0 - Momentum Px Scaled\n",
    "1 - Momentum Py Scaled\n",
    "2 - Momentum Pz Scaled\n",
    "3 - Momentum Pt Scaled\n",
    "4 - Momentum eta Scaled\n",
    "5 - Momentum Phi Scaled\n",
    "6 - Sum px of the tracks\n",
    "7 - Sum py of the tracks\n",
    "8 - Sum pz of the tracks\n",
    "9 - Sum pt of the tracks\n",
    "10 - Sqrt of the Sum px of the tracks\n",
    "11 - Sqrt of the Sum py of the tracks\n",
    "12 - Sqrt of the Sum pz of the tracks\n",
    "13 - Sqrt of the Sum pt of the tracks\n",
    "14 - Sqrt of the Sum px of the tracks scaled by the sum px of the tracks\n",
    "15 - Sqrt of the Sum py of the tracks scaled by the sum py of the tracks\n",
    "16 - Sqrt of the Sum pz of the tracks scaled by the sum pz of the tracks\n",
    "17 - Sqrt of the Sum pt of the tracks scaked by the sum pt of the tracks\n",
    "18 - Root Mean Square of the px momenta of the tracks\n",
    "19 - Root Mean Square of the py momenta of the tracks\n",
    "20 - Root Mean Square of the pz momenta of the tracks\n",
    "21 - Root Mean Square of the pt momenta of the tracks\n",
    "22 - Tranvserse mass of the b-jets\n",
    "23 - Logarithm of the  Sum px of the tracks divide by the b_jet x momenta\n",
    "24 - Logarithm of the  Sum py of the tracks divide by the b_jet y momenta\n",
    "25 - Logarithm of the  Sum pz of the tracks divide by the b_jet z momenta\n",
    "26 - Logarithm of the total momenta of the tracks divided by the b_jet total momenta\n",
    "27 - B_jet energy\n",
    "28 - B_jet energy ratio px\n",
    "29 - B_jet energy ratio py\n",
    "30 - B_jet energy ratio pz\n",
    "31 - B_jet energy ratio pt\n",
    "32 - B_jet energy ratio cart\n",
    "32 - B_jet energy ratio pt\n",
    "33 - B_jet energy ratio total\n",
    "\"\"\"\n",
    "b_jets_input = np.concatenate([b_jets, Tracks_projection, Sum_Tracks_projection.reshape(-1,1), Tracks_Invariant_Mass.reshape(-1,1)], axis = -1)\n",
    "print(b_jets_input.shape)"
   ]
  },
  {
   "cell_type": "code",
   "execution_count": 22,
   "metadata": {},
   "outputs": [
    {
     "name": "stdout",
     "output_type": "stream",
     "text": [
      "(96657, 72)\n",
      "(96657, 32, 19) (96657, 72) (96657,) (96657, 13)\n"
     ]
    }
   ],
   "source": [
    "mask = np.where(np.isinf(b_jets_input) == True)\n",
    "b_jets_input_clean = np.delete(b_jets_input, mask, axis = 0)\n",
    "print(b_jets_input_clean.shape)\n",
    "Tracks_input_clean = np.delete(Tracks_input, mask, axis = 0)\n",
    "bhads_m_clean = np.delete(bhads_m, mask, axis = 0)\n",
    "bhads_targets_clean = np.delete(bhads_targets, mask, axis = 0) \n",
    "print(Tracks_input_clean.shape,b_jets_input_clean.shape,bhads_m_clean.shape, bhads_targets_clean.shape)"
   ]
  },
  {
   "cell_type": "code",
   "execution_count": 23,
   "metadata": {},
   "outputs": [
    {
     "name": "stdout",
     "output_type": "stream",
     "text": [
      "(96657, 32, 19)\n",
      "(96657, 72)\n",
      "(96657, 13)\n",
      "[-6.71877590e-05 -3.34489880e-05 -7.65972120e-05  8.22205499e-02\n",
      " -6.61961181e-04  2.30489625e-03  1.62377512e-01  7.83897821e-01\n",
      "  8.24450736e-02  3.06013891e-02  7.81662893e-01  5.30677439e+00\n",
      " -6.10813892e+00] [6.54480286e-02 6.52975067e-02 1.99864208e-01 4.22728711e-02\n",
      " 1.22645971e+00 1.81510578e+00 1.48844332e-01 2.46600067e-01\n",
      " 4.21686355e-02 2.80446521e-02 2.46340602e-01 8.75071722e-02\n",
      " 7.78772912e+01]\n"
     ]
    }
   ],
   "source": [
    "Scaler_tracks = StandardScaler()\n",
    "Num_events,Num_tracks,Num_features = np.shape(Tracks_input_clean)\n",
    "Scaled_tracks = np.reshape(Tracks_input_clean, newshape=(-1,Num_features))\n",
    "tracks_scaled = Scaler_tracks.fit_transform(Scaled_tracks)\n",
    "Tracks_input_scaled = np.reshape(tracks_scaled, newshape= (Num_events,Num_tracks,Num_features))\n",
    "print(np.shape(Tracks_input_scaled))\n",
    "\n",
    "Scaler_jets = StandardScaler()\n",
    "Num_events,Num_features = np.shape(b_jets_input_clean)\n",
    "b_jets_scaled = np.reshape(b_jets_input_clean, newshape=(-1,Num_features))\n",
    "b_jets_scaled = Scaler_jets.fit_transform(b_jets_scaled)\n",
    "b_jets_input_scaled = np.reshape(b_jets_scaled, newshape= (Num_events,Num_features))\n",
    "print(np.shape(b_jets_input_scaled))\n",
    "\n",
    "means = []\n",
    "stds = []\n",
    "lister = []\n",
    "for bhads_target_feature in range(np.shape(bhads_targets_clean)[1]):\n",
    "    Bhads_targets = bhads_targets_clean[:,bhads_target_feature]\n",
    "    mean, std = np.mean(Bhads_targets), np.std(Bhads_targets)\n",
    "    means = np.append(means,mean)\n",
    "    stds = np.append(stds,std)\n",
    "    Standardized_Bhads_targets = (Bhads_targets - mean)/(std)\n",
    "    Standardized_Bhads_targets = Standardized_Bhads_targets.reshape(-1,1)\n",
    "    lister.append(Standardized_Bhads_targets)\n",
    "Standardized_Bhads_targets = np.concatenate(lister,axis = 1)\n",
    "print(Standardized_Bhads_targets.shape)\n",
    "print(means,stds)"
   ]
  },
  {
   "cell_type": "code",
   "execution_count": 24,
   "metadata": {},
   "outputs": [],
   "source": [
    "def TrackEncoder(Num_Tracks_Features, bottleneck, MASKVAL = -999):\n",
    "\n",
    "    Track_features = keras.layers.Input(shape = [None, Num_Tracks_Features])\n",
    "\n",
    "    Track_layers = keras.layers.Masking(MASKVAL)(Track_features)\n",
    "\n",
    "    #Encoder:\n",
    "    Track_layers_Embedding = keras.layers.TimeDistributed(keras.layers.Dense(Num_Tracks_Features*2, activation = \"gelu\", kernel_initializer = \"he_normal\", kernel_regularizer = regularizers.l1_l2(1e-4)))(Track_layers)\n",
    "    Track_layers_Embedding = keras.layers.BatchNormalization()(Track_layers_Embedding)\n",
    "    Track_layers_Embedding = keras.layers.TimeDistributed(keras.layers.Dense(round(Num_Tracks_Features)/2, activation = \"gelu\", kernel_initializer = \"he_normal\",  kernel_regularizer = regularizers.l1_l2(1e-4)))(Track_layers_Embedding)\n",
    "    Track_layers_Embedding = keras.layers.BatchNormalization()(Track_layers_Embedding)\n",
    "    Track_layers_Embedding = keras.layers.TimeDistributed(keras.layers.Dense(round(Num_Tracks_Features)/4, activation = \"gelu\", kernel_initializer = \"he_normal\",  kernel_regularizer = regularizers.l1_l2(1e-4)))(Track_layers_Embedding)\n",
    "    Track_layers_Embedding = keras.layers.BatchNormalization()(Track_layers_Embedding)\n",
    "    Track_layers_Embedding = keras.layers.TimeDistributed(keras.layers.Dense(bottleneck, activation = \"gelu\", kernel_initializer = \"he_normal\",  kernel_regularizer = regularizers.l1_l2(1e-4)))(Track_layers_Embedding)\n",
    "    Track_layers_Embedding = keras.layers.BatchNormalization()(Track_layers_Embedding)\n",
    "    \n",
    "    #Decoder:\n",
    "    Track_layers_Reconstructed = keras.layers.TimeDistributed(keras.layers.Dense(bottleneck, activation = \"gelu\", kernel_initializer = \"he_normal\",  kernel_regularizer = regularizers.l1_l2(1e-4)))(Track_layers_Embedding)\n",
    "    Track_layers_Reconstructed = keras.layers.BatchNormalization()(Track_layers_Reconstructed)\n",
    "    Track_layers_Reconstructed = keras.layers.TimeDistributed(keras.layers.Dense(Num_Tracks_Features/4, activation = \"gelu\", kernel_initializer = \"he_normal\",  kernel_regularizer = regularizers.l1_l2(1e-4)))(Track_layers_Reconstructed)\n",
    "    Track_layers_Reconstructed = keras.layers.BatchNormalization()(Track_layers_Reconstructed)\n",
    "    Track_layers_Reconstructed = keras.layers.TimeDistributed(keras.layers.Dense(Num_Tracks_Features/2, activation = \"gelu\", kernel_initializer = \"he_normal\",  kernel_regularizer = regularizers.l1_l2(1e-4)))(Track_layers_Reconstructed)\n",
    "    Track_layers_Reconstructed = keras.layers.BatchNormalization()(Track_layers_Reconstructed)\n",
    "    Track_layers_Reconstructed = keras.layers.TimeDistributed(keras.layers.Dense(Num_Tracks_Features, activation = \"gelu\", kernel_initializer = \"he_normal\",  kernel_regularizer = regularizers.l1_l2(1e-4)))(Track_layers_Reconstructed)\n",
    "\n",
    "    #Output\n",
    "    output = keras.layers.TimeDistributed(keras.layers.Dense(Num_Tracks_Features, activation = \"linear\"))(Track_layers_Reconstructed)\n",
    "\n",
    "    Model = keras.Model(inputs = Track_features, outputs = output)\n",
    "\n",
    "    return Model\n"
   ]
  },
  {
   "cell_type": "code",
   "execution_count": 25,
   "metadata": {},
   "outputs": [],
   "source": [
    "def JetEncoder(Num_Jets_Features, bottleneck, MASKVAL = -999):\n",
    "\n",
    "    Jet_features = keras.layers.Input(shape = [Num_Jets_Features])\n",
    "\n",
    "    Jet_layers = keras.layers.Masking(MASKVAL)(Jet_features)\n",
    "\n",
    "    #Encoder:\n",
    "    Jet_layers_Embedding = keras.layers.Dense(Num_Jets_Features*2, activation = \"gelu\", kernel_initializer = \"he_normal\")(Jet_layers)\n",
    "    Jet_layers_Embedding = keras.layers.BatchNormalization()(Jet_layers_Embedding)\n",
    "    Jet_layers_Embedding = keras.layers.Dense(Num_Jets_Features, activation = \"gelu\", kernel_initializer = \"he_normal\")(Jet_layers)\n",
    "    Jet_layers_Embedding = keras.layers.BatchNormalization()(Jet_layers_Embedding)\n",
    "    Jet_layers_Embedding = keras.layers.Dense(round(Num_Jets_Features/2), activation = \"gelu\", kernel_initializer = \"he_normal\")(Jet_layers_Embedding)\n",
    "    Jet_layers_Embedding = keras.layers.BatchNormalization()(Jet_layers_Embedding)\n",
    "    Jet_layers_Embedding = keras.layers.Dense(round(Num_Jets_Features/4), activation = \"gelu\", kernel_initializer = \"he_normal\")(Jet_layers_Embedding)\n",
    "    Jet_layers_Embedding = keras.layers.BatchNormalization()(Jet_layers_Embedding)\n",
    "    Jet_layers_Embedding = keras.layers.Dense(round(Num_Jets_Features/8), activation = \"gelu\", kernel_initializer = \"he_normal\")(Jet_layers_Embedding)\n",
    "    Jet_layers_Embedding = keras.layers.BatchNormalization()(Jet_layers_Embedding)\n",
    "    Jet_layers_Embedding = keras.layers.Dense(bottleneck, activation = \"gelu\", kernel_initializer = \"he_normal\")(Jet_layers_Embedding)\n",
    "    Jet_layers_Embedding = keras.layers.BatchNormalization()(Jet_layers_Embedding)\n",
    "    \n",
    "    #Decoder:\n",
    "    Jet_layers_Reconstructed = keras.layers.Dense(bottleneck, activation = \"gelu\", kernel_initializer = \"he_normal\")(Jet_layers_Embedding)\n",
    "    Jet_layers_Reconstructed = keras.layers.BatchNormalization()(Jet_layers_Reconstructed)\n",
    "    Jet_layers_Reconstructed = keras.layers.Dense(round(Num_Jets_Features/8), activation = \"gelu\", kernel_initializer = \"he_normal\")(Jet_layers_Reconstructed)\n",
    "    Jet_layers_Reconstructed = keras.layers.BatchNormalization()(Jet_layers_Reconstructed)\n",
    "    Jet_layers_Reconstructed = keras.layers.Dense(round(Num_Jets_Features/4), activation = \"gelu\", kernel_initializer = \"he_normal\")(Jet_layers_Reconstructed)\n",
    "    Jet_layers_Reconstructed = keras.layers.BatchNormalization()(Jet_layers_Reconstructed)\n",
    "    Jet_layers_Reconstructed = keras.layers.Dense(round(Num_Jets_Features/2), activation = \"gelu\", kernel_initializer = \"he_normal\")(Jet_layers_Reconstructed)\n",
    "    Jet_layers_Reconstructed = keras.layers.BatchNormalization()(Jet_layers_Reconstructed)\n",
    "    Jet_layers_Reconstructed = keras.layers.Dense(Num_Jets_Features, activation = \"gelu\", kernel_initializer = \"he_normal\")(Jet_layers_Reconstructed)\n",
    "\n",
    "    #Output\n",
    "    output = keras.layers.Dense(Num_Jets_Features, activation = \"linear\")(Jet_layers_Reconstructed)\n",
    "\n",
    "    Model = keras.Model(inputs = Jet_features, outputs = output)\n",
    "\n",
    "    return Model"
   ]
  },
  {
   "cell_type": "code",
   "execution_count": 26,
   "metadata": {},
   "outputs": [
    {
     "name": "stderr",
     "output_type": "stream",
     "text": [
      "2023-02-17 15:11:06.851552: W tensorflow/compiler/xla/stream_executor/platform/default/dso_loader.cc:64] Could not load dynamic library 'libcuda.so.1'; dlerror: libcuda.so.1: cannot open shared object file: No such file or directory\n",
      "2023-02-17 15:11:06.851585: W tensorflow/compiler/xla/stream_executor/cuda/cuda_driver.cc:265] failed call to cuInit: UNKNOWN ERROR (303)\n",
      "2023-02-17 15:11:06.851609: I tensorflow/compiler/xla/stream_executor/cuda/cuda_diagnostics.cc:156] kernel driver does not appear to be running on this host (vonneumann.csc.warwick.ac.uk): /proc/driver/nvidia/version does not exist\n",
      "2023-02-17 15:11:06.851919: I tensorflow/core/platform/cpu_feature_guard.cc:193] This TensorFlow binary is optimized with oneAPI Deep Neural Network Library (oneDNN) to use the following CPU instructions in performance-critical operations:  AVX2 AVX512F AVX512_VNNI FMA\n",
      "To enable them in other operations, rebuild TensorFlow with the appropriate compiler flags.\n"
     ]
    }
   ],
   "source": [
    "ParticleEncoder = TrackEncoder(np.shape(Tracks_input_clean)[2], 5)"
   ]
  },
  {
   "cell_type": "code",
   "execution_count": 27,
   "metadata": {},
   "outputs": [],
   "source": [
    "ParticleEncoder.compile(\n",
    "    loss = keras.losses.huber,\n",
    "    optimizer = tf.keras.optimizers.Nadam(LR, clipnorm = 1.0, use_ema = True),\n",
    ")"
   ]
  },
  {
   "cell_type": "code",
   "execution_count": 28,
   "metadata": {},
   "outputs": [
    {
     "name": "stdout",
     "output_type": "stream",
     "text": [
      "Model: \"model\"\n",
      "_________________________________________________________________\n",
      " Layer (type)                Output Shape              Param #   \n",
      "=================================================================\n",
      " input_1 (InputLayer)        [(None, None, 19)]        0         \n",
      "                                                                 \n",
      " masking (Masking)           (None, None, 19)          0         \n",
      "                                                                 \n",
      " time_distributed (TimeDistr  (None, None, 38)         760       \n",
      " ibuted)                                                         \n",
      "                                                                 \n",
      " batch_normalization (BatchN  (None, None, 38)         152       \n",
      " ormalization)                                                   \n",
      "                                                                 \n",
      " time_distributed_1 (TimeDis  (None, None, 9)          351       \n",
      " tributed)                                                       \n",
      "                                                                 \n",
      " batch_normalization_1 (Batc  (None, None, 9)          36        \n",
      " hNormalization)                                                 \n",
      "                                                                 \n",
      " time_distributed_2 (TimeDis  (None, None, 4)          40        \n",
      " tributed)                                                       \n",
      "                                                                 \n",
      " batch_normalization_2 (Batc  (None, None, 4)          16        \n",
      " hNormalization)                                                 \n",
      "                                                                 \n",
      " time_distributed_3 (TimeDis  (None, None, 5)          25        \n",
      " tributed)                                                       \n",
      "                                                                 \n",
      " batch_normalization_3 (Batc  (None, None, 5)          20        \n",
      " hNormalization)                                                 \n",
      "                                                                 \n",
      " time_distributed_4 (TimeDis  (None, None, 5)          30        \n",
      " tributed)                                                       \n",
      "                                                                 \n",
      " batch_normalization_4 (Batc  (None, None, 5)          20        \n",
      " hNormalization)                                                 \n",
      "                                                                 \n",
      " time_distributed_5 (TimeDis  (None, None, 4)          24        \n",
      " tributed)                                                       \n",
      "                                                                 \n",
      " batch_normalization_5 (Batc  (None, None, 4)          16        \n",
      " hNormalization)                                                 \n",
      "                                                                 \n",
      " time_distributed_6 (TimeDis  (None, None, 9)          45        \n",
      " tributed)                                                       \n",
      "                                                                 \n",
      " batch_normalization_6 (Batc  (None, None, 9)          36        \n",
      " hNormalization)                                                 \n",
      "                                                                 \n",
      " time_distributed_7 (TimeDis  (None, None, 19)         190       \n",
      " tributed)                                                       \n",
      "                                                                 \n",
      " time_distributed_8 (TimeDis  (None, None, 19)         380       \n",
      " tributed)                                                       \n",
      "                                                                 \n",
      "=================================================================\n",
      "Total params: 2,141\n",
      "Trainable params: 1,993\n",
      "Non-trainable params: 148\n",
      "_________________________________________________________________\n",
      "None\n"
     ]
    }
   ],
   "source": [
    "print(ParticleEncoder.summary())"
   ]
  },
  {
   "cell_type": "code",
   "execution_count": 29,
   "metadata": {},
   "outputs": [
    {
     "data": {
      "image/png": "[encoded data removed]",
      "text/plain": [
       "<IPython.core.display.Image object>"
      ]
     },
     "execution_count": 29,
     "metadata": {},
     "output_type": "execute_result"
    }
   ],
   "source": [
    "tf.keras.utils.plot_model(ParticleEncoder, \"The Encoder.png\", show_shapes = True)"
   ]
  },
  {
   "cell_type": "code",
   "execution_count": 39,
   "metadata": {},
   "outputs": [],
   "source": [
    "# Split the data into training and validation sets.\n",
    "X_train, X_valid, y_train, y_valid = train_test_split(\n",
    "    Tracks_input_scaled, Standardized_Bhads_targets, train_size=0.7, random_state = 42)"
   ]
  },
  {
   "cell_type": "code",
   "execution_count": 40,
   "metadata": {},
   "outputs": [],
   "source": [
    "# Split the data into training and validation sets.\n",
    "X_train_b_jets, X_valid_b_jets, y_train_b_jets, y_valid_b_jets = train_test_split(\n",
    "    b_jets_input_scaled, Standardized_Bhads_targets, train_size=0.7, random_state = 42)"
   ]
  },
  {
   "cell_type": "code",
   "execution_count": 32,
   "metadata": {},
   "outputs": [],
   "source": [
    "# Introduce early_stopping to prevent overfitting\n",
    "early_stopping = callbacks.EarlyStopping(\n",
    "    min_delta=0.00001,  # The minimum amount of change to count as an improvement\n",
    "    patience=50,  # The number of epochs to wait before stopping\n",
    "    restore_best_weights=True,  # Keep the best weights\n",
    ")\n",
    "# Prevent spikes in the validation and training loss due to the gradient descent kicking the network out of a local minima\n",
    "reduce_learn_on_plateau = callbacks.ReduceLROnPlateau(\n",
    "    monitor='val_loss', factor=0.80, patience=15, min_lr=1e-9)\n",
    "\n",
    "# Save the weights of the model to allow reuse in future.\n",
    "path = \"/home/physics/phujdj/DeepLearningParticlePhysics/CheckPointsDeepNet/AutoEncoderWeights&Biases.ckpt\"\n",
    "checkpoint_dir = os.path.dirname(path)\n",
    "cp_callback = tf.keras.callbacks.ModelCheckpoint(filepath=path,\n",
    "                                                 save_weights_only=True, verbose=0, save_freq = 100*BATCHSIZE)\n",
    "#Timer\n",
    "#cb = TimingCallback()\n",
    "\n",
    "#Weight&Biases Callback:\n",
    "#Wanda = WandbCallback(save_graph = True,save_weights_only = True, log_weights = True, log_gradients = True, log_evaluation = True, training_data = (X_train,y_train), validation_data = (X_valid,y_valid), log_batch_frequency = 5)\n",
    "\n",
    "# Learning Scheduler:\n",
    "exponential_decay_fn = DSNNA.expontial_decay(lr0 = LR,s = 100)\n",
    "learning_scheduler = tf.keras.callbacks.LearningRateScheduler(exponential_decay_fn)"
   ]
  },
  {
   "cell_type": "code",
   "execution_count": 41,
   "metadata": {},
   "outputs": [
    {
     "name": "stdout",
     "output_type": "stream",
     "text": [
      "Epoch 1/300\n",
      "1058/1058 [==============================] - 8s 8ms/step - loss: 0.0071 - val_loss: 0.0070 - lr: 2.6214e-05\n",
      "Epoch 2/300\n",
      " 357/1058 [=========>....................] - ETA: 4s - loss: 0.0070"
     ]
    },
    {
     "ename": "KeyboardInterrupt",
     "evalue": "",
     "output_type": "error",
     "traceback": [
      "\u001b[0;31m---------------------------------------------------------------------------\u001b[0m",
      "\u001b[0;31mKeyboardInterrupt\u001b[0m                         Traceback (most recent call last)",
      "\u001b[0;32m/tmp/ipykernel_15737/3738635659.py\u001b[0m in \u001b[0;36m<module>\u001b[0;34m\u001b[0m\n\u001b[0;32m----> 1\u001b[0;31m history_1 = ParticleEncoder.fit(\n\u001b[0m\u001b[1;32m      2\u001b[0m     \u001b[0mX_train\u001b[0m\u001b[0;34m,\u001b[0m \u001b[0mX_train\u001b[0m\u001b[0;34m,\u001b[0m\u001b[0;34m\u001b[0m\u001b[0;34m\u001b[0m\u001b[0m\n\u001b[1;32m      3\u001b[0m     \u001b[0mvalidation_data\u001b[0m\u001b[0;34m=\u001b[0m \u001b[0;34m(\u001b[0m\u001b[0mX_valid\u001b[0m\u001b[0;34m,\u001b[0m \u001b[0mX_valid\u001b[0m\u001b[0;34m)\u001b[0m\u001b[0;34m,\u001b[0m\u001b[0;34m\u001b[0m\u001b[0;34m\u001b[0m\u001b[0m\n\u001b[1;32m      4\u001b[0m     \u001b[0mepochs\u001b[0m\u001b[0;34m=\u001b[0m \u001b[0;36m300\u001b[0m\u001b[0;34m,\u001b[0m\u001b[0;34m\u001b[0m\u001b[0;34m\u001b[0m\u001b[0m\n\u001b[1;32m      5\u001b[0m     \u001b[0mbatch_size\u001b[0m\u001b[0;34m=\u001b[0m \u001b[0mBATCHSIZE\u001b[0m\u001b[0;34m,\u001b[0m\u001b[0;34m\u001b[0m\u001b[0;34m\u001b[0m\u001b[0m\n",
      "\u001b[0;32m~/anaconda3/envs/SpocFit/lib/python3.9/site-packages/keras/utils/traceback_utils.py\u001b[0m in \u001b[0;36merror_handler\u001b[0;34m(*args, **kwargs)\u001b[0m\n\u001b[1;32m     63\u001b[0m         \u001b[0mfiltered_tb\u001b[0m \u001b[0;34m=\u001b[0m \u001b[0;32mNone\u001b[0m\u001b[0;34m\u001b[0m\u001b[0;34m\u001b[0m\u001b[0m\n\u001b[1;32m     64\u001b[0m         \u001b[0;32mtry\u001b[0m\u001b[0;34m:\u001b[0m\u001b[0;34m\u001b[0m\u001b[0;34m\u001b[0m\u001b[0m\n\u001b[0;32m---> 65\u001b[0;31m             \u001b[0;32mreturn\u001b[0m \u001b[0mfn\u001b[0m\u001b[0;34m(\u001b[0m\u001b[0;34m*\u001b[0m\u001b[0margs\u001b[0m\u001b[0;34m,\u001b[0m \u001b[0;34m**\u001b[0m\u001b[0mkwargs\u001b[0m\u001b[0;34m)\u001b[0m\u001b[0;34m\u001b[0m\u001b[0;34m\u001b[0m\u001b[0m\n\u001b[0m\u001b[1;32m     66\u001b[0m         \u001b[0;32mexcept\u001b[0m \u001b[0mException\u001b[0m \u001b[0;32mas\u001b[0m \u001b[0me\u001b[0m\u001b[0;34m:\u001b[0m\u001b[0;34m\u001b[0m\u001b[0;34m\u001b[0m\u001b[0m\n\u001b[1;32m     67\u001b[0m             \u001b[0mfiltered_tb\u001b[0m \u001b[0;34m=\u001b[0m \u001b[0m_process_traceback_frames\u001b[0m\u001b[0;34m(\u001b[0m\u001b[0me\u001b[0m\u001b[0;34m.\u001b[0m\u001b[0m__traceback__\u001b[0m\u001b[0;34m)\u001b[0m\u001b[0;34m\u001b[0m\u001b[0;34m\u001b[0m\u001b[0m\n",
      "\u001b[0;32m~/anaconda3/envs/SpocFit/lib/python3.9/site-packages/keras/engine/training.py\u001b[0m in \u001b[0;36mfit\u001b[0;34m(self, x, y, batch_size, epochs, verbose, callbacks, validation_split, validation_data, shuffle, class_weight, sample_weight, initial_epoch, steps_per_epoch, validation_steps, validation_batch_size, validation_freq, max_queue_size, workers, use_multiprocessing)\u001b[0m\n\u001b[1;32m   1648\u001b[0m                         ):\n\u001b[1;32m   1649\u001b[0m                             \u001b[0mcallbacks\u001b[0m\u001b[0;34m.\u001b[0m\u001b[0mon_train_batch_begin\u001b[0m\u001b[0;34m(\u001b[0m\u001b[0mstep\u001b[0m\u001b[0;34m)\u001b[0m\u001b[0;34m\u001b[0m\u001b[0;34m\u001b[0m\u001b[0m\n\u001b[0;32m-> 1650\u001b[0;31m                             \u001b[0mtmp_logs\u001b[0m \u001b[0;34m=\u001b[0m \u001b[0mself\u001b[0m\u001b[0;34m.\u001b[0m\u001b[0mtrain_function\u001b[0m\u001b[0;34m(\u001b[0m\u001b[0miterator\u001b[0m\u001b[0;34m)\u001b[0m\u001b[0;34m\u001b[0m\u001b[0;34m\u001b[0m\u001b[0m\n\u001b[0m\u001b[1;32m   1651\u001b[0m                             \u001b[0;32mif\u001b[0m \u001b[0mdata_handler\u001b[0m\u001b[0;34m.\u001b[0m\u001b[0mshould_sync\u001b[0m\u001b[0;34m:\u001b[0m\u001b[0;34m\u001b[0m\u001b[0;34m\u001b[0m\u001b[0m\n\u001b[1;32m   1652\u001b[0m                                 \u001b[0mcontext\u001b[0m\u001b[0;34m.\u001b[0m\u001b[0masync_wait\u001b[0m\u001b[0;34m(\u001b[0m\u001b[0;34m)\u001b[0m\u001b[0;34m\u001b[0m\u001b[0;34m\u001b[0m\u001b[0m\n",
      "\u001b[0;32m~/anaconda3/envs/SpocFit/lib/python3.9/site-packages/tensorflow/python/util/traceback_utils.py\u001b[0m in \u001b[0;36merror_handler\u001b[0;34m(*args, **kwargs)\u001b[0m\n\u001b[1;32m    148\u001b[0m     \u001b[0mfiltered_tb\u001b[0m \u001b[0;34m=\u001b[0m \u001b[0;32mNone\u001b[0m\u001b[0;34m\u001b[0m\u001b[0;34m\u001b[0m\u001b[0m\n\u001b[1;32m    149\u001b[0m     \u001b[0;32mtry\u001b[0m\u001b[0;34m:\u001b[0m\u001b[0;34m\u001b[0m\u001b[0;34m\u001b[0m\u001b[0m\n\u001b[0;32m--> 150\u001b[0;31m       \u001b[0;32mreturn\u001b[0m \u001b[0mfn\u001b[0m\u001b[0;34m(\u001b[0m\u001b[0;34m*\u001b[0m\u001b[0margs\u001b[0m\u001b[0;34m,\u001b[0m \u001b[0;34m**\u001b[0m\u001b[0mkwargs\u001b[0m\u001b[0;34m)\u001b[0m\u001b[0;34m\u001b[0m\u001b[0;34m\u001b[0m\u001b[0m\n\u001b[0m\u001b[1;32m    151\u001b[0m     \u001b[0;32mexcept\u001b[0m \u001b[0mException\u001b[0m \u001b[0;32mas\u001b[0m \u001b[0me\u001b[0m\u001b[0;34m:\u001b[0m\u001b[0;34m\u001b[0m\u001b[0;34m\u001b[0m\u001b[0m\n\u001b[1;32m    152\u001b[0m       \u001b[0mfiltered_tb\u001b[0m \u001b[0;34m=\u001b[0m \u001b[0m_process_traceback_frames\u001b[0m\u001b[0;34m(\u001b[0m\u001b[0me\u001b[0m\u001b[0;34m.\u001b[0m\u001b[0m__traceback__\u001b[0m\u001b[0;34m)\u001b[0m\u001b[0;34m\u001b[0m\u001b[0;34m\u001b[0m\u001b[0m\n",
      "\u001b[0;32m~/anaconda3/envs/SpocFit/lib/python3.9/site-packages/tensorflow/python/eager/polymorphic_function/polymorphic_function.py\u001b[0m in \u001b[0;36m__call__\u001b[0;34m(self, *args, **kwds)\u001b[0m\n\u001b[1;32m    878\u001b[0m \u001b[0;34m\u001b[0m\u001b[0m\n\u001b[1;32m    879\u001b[0m       \u001b[0;32mwith\u001b[0m \u001b[0mOptionalXlaContext\u001b[0m\u001b[0;34m(\u001b[0m\u001b[0mself\u001b[0m\u001b[0;34m.\u001b[0m\u001b[0m_jit_compile\u001b[0m\u001b[0;34m)\u001b[0m\u001b[0;34m:\u001b[0m\u001b[0;34m\u001b[0m\u001b[0;34m\u001b[0m\u001b[0m\n\u001b[0;32m--> 880\u001b[0;31m         \u001b[0mresult\u001b[0m \u001b[0;34m=\u001b[0m \u001b[0mself\u001b[0m\u001b[0;34m.\u001b[0m\u001b[0m_call\u001b[0m\u001b[0;34m(\u001b[0m\u001b[0;34m*\u001b[0m\u001b[0margs\u001b[0m\u001b[0;34m,\u001b[0m \u001b[0;34m**\u001b[0m\u001b[0mkwds\u001b[0m\u001b[0;34m)\u001b[0m\u001b[0;34m\u001b[0m\u001b[0;34m\u001b[0m\u001b[0m\n\u001b[0m\u001b[1;32m    881\u001b[0m \u001b[0;34m\u001b[0m\u001b[0m\n\u001b[1;32m    882\u001b[0m       \u001b[0mnew_tracing_count\u001b[0m \u001b[0;34m=\u001b[0m \u001b[0mself\u001b[0m\u001b[0;34m.\u001b[0m\u001b[0mexperimental_get_tracing_count\u001b[0m\u001b[0;34m(\u001b[0m\u001b[0;34m)\u001b[0m\u001b[0;34m\u001b[0m\u001b[0;34m\u001b[0m\u001b[0m\n",
      "\u001b[0;32m~/anaconda3/envs/SpocFit/lib/python3.9/site-packages/tensorflow/python/eager/polymorphic_function/polymorphic_function.py\u001b[0m in \u001b[0;36m_call\u001b[0;34m(self, *args, **kwds)\u001b[0m\n\u001b[1;32m    910\u001b[0m       \u001b[0;31m# In this case we have created variables on the first call, so we run the\u001b[0m\u001b[0;34m\u001b[0m\u001b[0;34m\u001b[0m\u001b[0m\n\u001b[1;32m    911\u001b[0m       \u001b[0;31m# defunned version which is guaranteed to never create variables.\u001b[0m\u001b[0;34m\u001b[0m\u001b[0;34m\u001b[0m\u001b[0m\n\u001b[0;32m--> 912\u001b[0;31m       \u001b[0;32mreturn\u001b[0m \u001b[0mself\u001b[0m\u001b[0;34m.\u001b[0m\u001b[0m_no_variable_creation_fn\u001b[0m\u001b[0;34m(\u001b[0m\u001b[0;34m*\u001b[0m\u001b[0margs\u001b[0m\u001b[0;34m,\u001b[0m \u001b[0;34m**\u001b[0m\u001b[0mkwds\u001b[0m\u001b[0;34m)\u001b[0m  \u001b[0;31m# pylint: disable=not-callable\u001b[0m\u001b[0;34m\u001b[0m\u001b[0;34m\u001b[0m\u001b[0m\n\u001b[0m\u001b[1;32m    913\u001b[0m     \u001b[0;32melif\u001b[0m \u001b[0mself\u001b[0m\u001b[0;34m.\u001b[0m\u001b[0m_variable_creation_fn\u001b[0m \u001b[0;32mis\u001b[0m \u001b[0;32mnot\u001b[0m \u001b[0;32mNone\u001b[0m\u001b[0;34m:\u001b[0m\u001b[0;34m\u001b[0m\u001b[0;34m\u001b[0m\u001b[0m\n\u001b[1;32m    914\u001b[0m       \u001b[0;31m# Release the lock early so that multiple threads can perform the call\u001b[0m\u001b[0;34m\u001b[0m\u001b[0;34m\u001b[0m\u001b[0m\n",
      "\u001b[0;32m~/anaconda3/envs/SpocFit/lib/python3.9/site-packages/tensorflow/python/eager/polymorphic_function/tracing_compiler.py\u001b[0m in \u001b[0;36m__call__\u001b[0;34m(self, *args, **kwargs)\u001b[0m\n\u001b[1;32m    132\u001b[0m       (concrete_function,\n\u001b[1;32m    133\u001b[0m        filtered_flat_args) = self._maybe_define_function(args, kwargs)\n\u001b[0;32m--> 134\u001b[0;31m     return concrete_function._call_flat(\n\u001b[0m\u001b[1;32m    135\u001b[0m         filtered_flat_args, captured_inputs=concrete_function.captured_inputs)  # pylint: disable=protected-access\n\u001b[1;32m    136\u001b[0m \u001b[0;34m\u001b[0m\u001b[0m\n",
      "\u001b[0;32m~/anaconda3/envs/SpocFit/lib/python3.9/site-packages/tensorflow/python/eager/polymorphic_function/monomorphic_function.py\u001b[0m in \u001b[0;36m_call_flat\u001b[0;34m(self, args, captured_inputs, cancellation_manager)\u001b[0m\n\u001b[1;32m   1743\u001b[0m         and executing_eagerly):\n\u001b[1;32m   1744\u001b[0m       \u001b[0;31m# No tape is watching; skip to running the function.\u001b[0m\u001b[0;34m\u001b[0m\u001b[0;34m\u001b[0m\u001b[0m\n\u001b[0;32m-> 1745\u001b[0;31m       return self._build_call_outputs(self._inference_function.call(\n\u001b[0m\u001b[1;32m   1746\u001b[0m           ctx, args, cancellation_manager=cancellation_manager))\n\u001b[1;32m   1747\u001b[0m     forward_backward = self._select_forward_and_backward_functions(\n",
      "\u001b[0;32m~/anaconda3/envs/SpocFit/lib/python3.9/site-packages/tensorflow/python/eager/polymorphic_function/monomorphic_function.py\u001b[0m in \u001b[0;36mcall\u001b[0;34m(self, ctx, args, cancellation_manager)\u001b[0m\n\u001b[1;32m    376\u001b[0m       \u001b[0;32mwith\u001b[0m \u001b[0m_InterpolateFunctionError\u001b[0m\u001b[0;34m(\u001b[0m\u001b[0mself\u001b[0m\u001b[0;34m)\u001b[0m\u001b[0;34m:\u001b[0m\u001b[0;34m\u001b[0m\u001b[0;34m\u001b[0m\u001b[0m\n\u001b[1;32m    377\u001b[0m         \u001b[0;32mif\u001b[0m \u001b[0mcancellation_manager\u001b[0m \u001b[0;32mis\u001b[0m \u001b[0;32mNone\u001b[0m\u001b[0;34m:\u001b[0m\u001b[0;34m\u001b[0m\u001b[0;34m\u001b[0m\u001b[0m\n\u001b[0;32m--> 378\u001b[0;31m           outputs = execute.execute(\n\u001b[0m\u001b[1;32m    379\u001b[0m               \u001b[0mstr\u001b[0m\u001b[0;34m(\u001b[0m\u001b[0mself\u001b[0m\u001b[0;34m.\u001b[0m\u001b[0msignature\u001b[0m\u001b[0;34m.\u001b[0m\u001b[0mname\u001b[0m\u001b[0;34m)\u001b[0m\u001b[0;34m,\u001b[0m\u001b[0;34m\u001b[0m\u001b[0;34m\u001b[0m\u001b[0m\n\u001b[1;32m    380\u001b[0m               \u001b[0mnum_outputs\u001b[0m\u001b[0;34m=\u001b[0m\u001b[0mself\u001b[0m\u001b[0;34m.\u001b[0m\u001b[0m_num_outputs\u001b[0m\u001b[0;34m,\u001b[0m\u001b[0;34m\u001b[0m\u001b[0;34m\u001b[0m\u001b[0m\n",
      "\u001b[0;32m~/anaconda3/envs/SpocFit/lib/python3.9/site-packages/tensorflow/python/eager/execute.py\u001b[0m in \u001b[0;36mquick_execute\u001b[0;34m(op_name, num_outputs, inputs, attrs, ctx, name)\u001b[0m\n\u001b[1;32m     50\u001b[0m   \u001b[0;32mtry\u001b[0m\u001b[0;34m:\u001b[0m\u001b[0;34m\u001b[0m\u001b[0;34m\u001b[0m\u001b[0m\n\u001b[1;32m     51\u001b[0m     \u001b[0mctx\u001b[0m\u001b[0;34m.\u001b[0m\u001b[0mensure_initialized\u001b[0m\u001b[0;34m(\u001b[0m\u001b[0;34m)\u001b[0m\u001b[0;34m\u001b[0m\u001b[0;34m\u001b[0m\u001b[0m\n\u001b[0;32m---> 52\u001b[0;31m     tensors = pywrap_tfe.TFE_Py_Execute(ctx._handle, device_name, op_name,\n\u001b[0m\u001b[1;32m     53\u001b[0m                                         inputs, attrs, num_outputs)\n\u001b[1;32m     54\u001b[0m   \u001b[0;32mexcept\u001b[0m \u001b[0mcore\u001b[0m\u001b[0;34m.\u001b[0m\u001b[0m_NotOkStatusException\u001b[0m \u001b[0;32mas\u001b[0m \u001b[0me\u001b[0m\u001b[0;34m:\u001b[0m\u001b[0;34m\u001b[0m\u001b[0;34m\u001b[0m\u001b[0m\n",
      "\u001b[0;31mKeyboardInterrupt\u001b[0m: "
     ]
    }
   ],
   "source": [
    "history_1 = ParticleEncoder.fit(\n",
    "    X_train, X_train,\n",
    "    validation_data= (X_valid, X_valid),\n",
    "    epochs= 300,\n",
    "    batch_size= BATCHSIZE,\n",
    "     callbacks = [early_stopping, cp_callback, reduce_learn_on_plateau],\n",
    "    )"
   ]
  },
  {
   "cell_type": "code",
   "execution_count": 34,
   "metadata": {},
   "outputs": [
    {
     "data": {
      "image/png": "[encoded data removed]",
      "text/plain": [
       "<Figure size 640x480 with 1 Axes>"
      ]
     },
     "metadata": {},
     "output_type": "display_data"
    }
   ],
   "source": [
    "# Plot the loss and validation curves vs epoch\n",
    "history_df = pd.DataFrame(history_1.history)\n",
    "np.log(history_df.loc[:, [\"loss\",\"val_loss\"]]).plot()\n",
    "history_df.to_csv('/home/physics/phujdj/DeepLearningParticlePhysics/history.csv')"
   ]
  },
  {
   "cell_type": "code",
   "execution_count": 42,
   "metadata": {},
   "outputs": [
    {
     "name": "stdout",
     "output_type": "stream",
     "text": [
      "3021/3021 - 4s - loss: 0.0066 - 4s/epoch - 1ms/step\n",
      "The TrackParticleEncoder has loss:  0.006627953145653009\n"
     ]
    }
   ],
   "source": [
    "#Evaluate the entire performance of the model\n",
    "loss = ParticleEncoder.evaluate(Tracks_input_scaled,Tracks_input_scaled,verbose = 2)\n",
    "print(\"The TrackParticleEncoder has loss: \", loss)"
   ]
  },
  {
   "cell_type": "code",
   "execution_count": 43,
   "metadata": {},
   "outputs": [],
   "source": [
    "BParticleEncoder = JetEncoder(np.shape(b_jets_input_scaled)[1], 9)"
   ]
  },
  {
   "cell_type": "code",
   "execution_count": 44,
   "metadata": {},
   "outputs": [],
   "source": [
    "BParticleEncoder.compile(\n",
    "    loss = keras.losses.huber,\n",
    "    optimizer = tf.keras.optimizers.Nadam(LR, use_ema = True),\n",
    ")"
   ]
  },
  {
   "cell_type": "code",
   "execution_count": 45,
   "metadata": {},
   "outputs": [
    {
     "name": "stdout",
     "output_type": "stream",
     "text": [
      "Model: \"model_2\"\n",
      "_________________________________________________________________\n",
      " Layer (type)                Output Shape              Param #   \n",
      "=================================================================\n",
      " input_3 (InputLayer)        [(None, 72)]              0         \n",
      "                                                                 \n",
      " masking_2 (Masking)         (None, 72)                0         \n",
      "                                                                 \n",
      " dense_22 (Dense)            (None, 72)                5256      \n",
      "                                                                 \n",
      " batch_normalization_18 (Bat  (None, 72)               288       \n",
      " chNormalization)                                                \n",
      "                                                                 \n",
      " dense_23 (Dense)            (None, 36)                2628      \n",
      "                                                                 \n",
      " batch_normalization_19 (Bat  (None, 36)               144       \n",
      " chNormalization)                                                \n",
      "                                                                 \n",
      " dense_24 (Dense)            (None, 18)                666       \n",
      "                                                                 \n",
      " batch_normalization_20 (Bat  (None, 18)               72        \n",
      " chNormalization)                                                \n",
      "                                                                 \n",
      " dense_25 (Dense)            (None, 9)                 171       \n",
      "                                                                 \n",
      " batch_normalization_21 (Bat  (None, 9)                36        \n",
      " chNormalization)                                                \n",
      "                                                                 \n",
      " dense_26 (Dense)            (None, 9)                 90        \n",
      "                                                                 \n",
      " batch_normalization_22 (Bat  (None, 9)                36        \n",
      " chNormalization)                                                \n",
      "                                                                 \n",
      " dense_27 (Dense)            (None, 9)                 90        \n",
      "                                                                 \n",
      " batch_normalization_23 (Bat  (None, 9)                36        \n",
      " chNormalization)                                                \n",
      "                                                                 \n",
      " dense_28 (Dense)            (None, 9)                 90        \n",
      "                                                                 \n",
      " batch_normalization_24 (Bat  (None, 9)                36        \n",
      " chNormalization)                                                \n",
      "                                                                 \n",
      " dense_29 (Dense)            (None, 18)                180       \n",
      "                                                                 \n",
      " batch_normalization_25 (Bat  (None, 18)               72        \n",
      " chNormalization)                                                \n",
      "                                                                 \n",
      " dense_30 (Dense)            (None, 36)                684       \n",
      "                                                                 \n",
      " batch_normalization_26 (Bat  (None, 36)               144       \n",
      " chNormalization)                                                \n",
      "                                                                 \n",
      " dense_31 (Dense)            (None, 72)                2664      \n",
      "                                                                 \n",
      " dense_32 (Dense)            (None, 72)                5256      \n",
      "                                                                 \n",
      "=================================================================\n",
      "Total params: 18,639\n",
      "Trainable params: 18,207\n",
      "Non-trainable params: 432\n",
      "_________________________________________________________________\n",
      "None\n"
     ]
    }
   ],
   "source": [
    "print(BParticleEncoder.summary())"
   ]
  },
  {
   "cell_type": "code",
   "execution_count": null,
   "metadata": {},
   "outputs": [],
   "source": [
    "tf.keras.utils.plot_model(BParticleEncoder, \"The Encoder.png\", show_shapes = True)"
   ]
  },
  {
   "cell_type": "code",
   "execution_count": 46,
   "metadata": {},
   "outputs": [
    {
     "name": "stdout",
     "output_type": "stream",
     "text": [
      "Epoch 1/300\n",
      "1058/1058 [==============================] - 11s 4ms/step - loss: 0.2119 - val_loss: 0.1451 - lr: 1.0000e-04\n",
      "Epoch 2/300\n",
      "1058/1058 [==============================] - 4s 4ms/step - loss: 0.1296 - val_loss: 0.1257 - lr: 1.0000e-04\n",
      "Epoch 3/300\n",
      "1058/1058 [==============================] - 4s 4ms/step - loss: 0.1162 - val_loss: 0.1128 - lr: 1.0000e-04\n",
      "Epoch 4/300\n",
      "1058/1058 [==============================] - 4s 4ms/step - loss: 0.1060 - val_loss: 0.1032 - lr: 1.0000e-04\n",
      "Epoch 5/300\n",
      "1058/1058 [==============================] - 4s 4ms/step - loss: 0.0984 - val_loss: 0.0961 - lr: 1.0000e-04\n",
      "Epoch 6/300\n",
      "1058/1058 [==============================] - 4s 4ms/step - loss: 0.0917 - val_loss: 0.0887 - lr: 1.0000e-04\n",
      "Epoch 7/300\n",
      "1058/1058 [==============================] - 4s 4ms/step - loss: 0.0861 - val_loss: 0.0838 - lr: 1.0000e-04\n",
      "Epoch 8/300\n",
      "1058/1058 [==============================] - 4s 4ms/step - loss: 0.0819 - val_loss: 0.0810 - lr: 1.0000e-04\n",
      "Epoch 9/300\n",
      "1058/1058 [==============================] - 4s 4ms/step - loss: 0.0786 - val_loss: 0.0753 - lr: 1.0000e-04\n",
      "Epoch 10/300\n",
      "1058/1058 [==============================] - 4s 4ms/step - loss: 0.0757 - val_loss: 0.0731 - lr: 1.0000e-04\n",
      "Epoch 11/300\n",
      "1058/1058 [==============================] - 4s 4ms/step - loss: 0.0735 - val_loss: 0.0691 - lr: 1.0000e-04\n",
      "Epoch 12/300\n",
      "1058/1058 [==============================] - 4s 4ms/step - loss: 0.0712 - val_loss: 0.0663 - lr: 1.0000e-04\n",
      "Epoch 13/300\n",
      "1058/1058 [==============================] - 4s 4ms/step - loss: 0.0695 - val_loss: 0.0677 - lr: 1.0000e-04\n",
      "Epoch 14/300\n",
      "1058/1058 [==============================] - 4s 4ms/step - loss: 0.0677 - val_loss: 0.0627 - lr: 1.0000e-04\n",
      "Epoch 15/300\n",
      "1058/1058 [==============================] - 4s 4ms/step - loss: 0.0661 - val_loss: 0.0622 - lr: 1.0000e-04\n",
      "Epoch 16/300\n",
      "1058/1058 [==============================] - 4s 4ms/step - loss: 0.0647 - val_loss: 0.0603 - lr: 1.0000e-04\n",
      "Epoch 17/300\n",
      "1058/1058 [==============================] - 4s 4ms/step - loss: 0.0634 - val_loss: 0.0602 - lr: 1.0000e-04\n",
      "Epoch 18/300\n",
      "1058/1058 [==============================] - 4s 4ms/step - loss: 0.0623 - val_loss: 0.0584 - lr: 1.0000e-04\n",
      "Epoch 19/300\n",
      "1058/1058 [==============================] - 4s 4ms/step - loss: 0.0613 - val_loss: 0.0572 - lr: 1.0000e-04\n",
      "Epoch 20/300\n",
      "1058/1058 [==============================] - 4s 4ms/step - loss: 0.0604 - val_loss: 0.0559 - lr: 1.0000e-04\n",
      "Epoch 21/300\n",
      "1058/1058 [==============================] - 4s 4ms/step - loss: 0.0593 - val_loss: 0.0557 - lr: 1.0000e-04\n",
      "Epoch 22/300\n",
      "1058/1058 [==============================] - 4s 4ms/step - loss: 0.0586 - val_loss: 0.0559 - lr: 1.0000e-04\n",
      "Epoch 23/300\n",
      "1058/1058 [==============================] - 4s 4ms/step - loss: 0.0579 - val_loss: 0.0540 - lr: 1.0000e-04\n",
      "Epoch 24/300\n",
      "1058/1058 [==============================] - 4s 4ms/step - loss: 0.0571 - val_loss: 0.0536 - lr: 1.0000e-04\n",
      "Epoch 25/300\n",
      "1058/1058 [==============================] - 4s 4ms/step - loss: 0.0566 - val_loss: 0.0535 - lr: 1.0000e-04\n",
      "Epoch 26/300\n",
      "1058/1058 [==============================] - 4s 4ms/step - loss: 0.0560 - val_loss: 0.0550 - lr: 1.0000e-04\n",
      "Epoch 27/300\n",
      "1058/1058 [==============================] - 4s 4ms/step - loss: 0.0555 - val_loss: 0.0521 - lr: 1.0000e-04\n",
      "Epoch 28/300\n",
      "1058/1058 [==============================] - 4s 4ms/step - loss: 0.0550 - val_loss: 0.0519 - lr: 1.0000e-04\n",
      "Epoch 29/300\n",
      "1058/1058 [==============================] - 4s 4ms/step - loss: 0.0545 - val_loss: 0.0514 - lr: 1.0000e-04\n",
      "Epoch 30/300\n",
      "1058/1058 [==============================] - 4s 4ms/step - loss: 0.0540 - val_loss: 0.0505 - lr: 1.0000e-04\n",
      "Epoch 31/300\n",
      "1058/1058 [==============================] - 4s 4ms/step - loss: 0.0536 - val_loss: 0.0518 - lr: 1.0000e-04\n",
      "Epoch 32/300\n",
      "1058/1058 [==============================] - 4s 4ms/step - loss: 0.0532 - val_loss: 0.0512 - lr: 1.0000e-04\n",
      "Epoch 33/300\n",
      "1058/1058 [==============================] - 4s 4ms/step - loss: 0.0530 - val_loss: 0.0509 - lr: 1.0000e-04\n",
      "Epoch 34/300\n",
      "1058/1058 [==============================] - 4s 4ms/step - loss: 0.0527 - val_loss: 0.0500 - lr: 1.0000e-04\n",
      "Epoch 35/300\n",
      "1058/1058 [==============================] - 4s 4ms/step - loss: 0.0522 - val_loss: 0.0502 - lr: 1.0000e-04\n",
      "Epoch 36/300\n",
      "1058/1058 [==============================] - 4s 4ms/step - loss: 0.0520 - val_loss: 0.0497 - lr: 1.0000e-04\n",
      "Epoch 37/300\n",
      "1058/1058 [==============================] - 4s 4ms/step - loss: 0.0517 - val_loss: 0.0495 - lr: 1.0000e-04\n",
      "Epoch 38/300\n",
      "1058/1058 [==============================] - 4s 4ms/step - loss: 0.0512 - val_loss: 0.0483 - lr: 1.0000e-04\n",
      "Epoch 39/300\n",
      "1058/1058 [==============================] - 4s 4ms/step - loss: 0.0510 - val_loss: 0.0483 - lr: 1.0000e-04\n",
      "Epoch 40/300\n",
      "1058/1058 [==============================] - 4s 4ms/step - loss: 0.0506 - val_loss: 0.0502 - lr: 1.0000e-04\n",
      "Epoch 41/300\n",
      "1058/1058 [==============================] - 4s 4ms/step - loss: 0.0502 - val_loss: 0.0490 - lr: 1.0000e-04\n",
      "Epoch 42/300\n",
      "1058/1058 [==============================] - 4s 4ms/step - loss: 0.0498 - val_loss: 0.0470 - lr: 1.0000e-04\n",
      "Epoch 43/300\n",
      "1058/1058 [==============================] - 4s 4ms/step - loss: 0.0498 - val_loss: 0.0472 - lr: 1.0000e-04\n",
      "Epoch 44/300\n",
      "1058/1058 [==============================] - 4s 4ms/step - loss: 0.0494 - val_loss: 0.0470 - lr: 1.0000e-04\n",
      "Epoch 45/300\n",
      "1058/1058 [==============================] - 4s 4ms/step - loss: 0.0489 - val_loss: 0.0472 - lr: 1.0000e-04\n",
      "Epoch 46/300\n",
      "1058/1058 [==============================] - 4s 4ms/step - loss: 0.0487 - val_loss: 0.0470 - lr: 1.0000e-04\n",
      "Epoch 47/300\n",
      "1058/1058 [==============================] - 4s 4ms/step - loss: 0.0482 - val_loss: 0.0460 - lr: 1.0000e-04\n",
      "Epoch 48/300\n",
      "1058/1058 [==============================] - 4s 4ms/step - loss: 0.0478 - val_loss: 0.0454 - lr: 1.0000e-04\n",
      "Epoch 49/300\n",
      "1058/1058 [==============================] - 4s 4ms/step - loss: 0.0474 - val_loss: 0.0452 - lr: 1.0000e-04\n",
      "Epoch 50/300\n",
      "1058/1058 [==============================] - 4s 4ms/step - loss: 0.0470 - val_loss: 0.0444 - lr: 1.0000e-04\n",
      "Epoch 51/300\n",
      "1058/1058 [==============================] - 4s 4ms/step - loss: 0.0466 - val_loss: 0.0449 - lr: 1.0000e-04\n",
      "Epoch 52/300\n",
      "1058/1058 [==============================] - 4s 4ms/step - loss: 0.0461 - val_loss: 0.0437 - lr: 1.0000e-04\n",
      "Epoch 53/300\n",
      "1058/1058 [==============================] - 4s 4ms/step - loss: 0.0457 - val_loss: 0.0431 - lr: 1.0000e-04\n",
      "Epoch 54/300\n",
      "1058/1058 [==============================] - 4s 4ms/step - loss: 0.0453 - val_loss: 0.0427 - lr: 1.0000e-04\n",
      "Epoch 55/300\n",
      "1058/1058 [==============================] - 4s 4ms/step - loss: 0.0449 - val_loss: 0.0424 - lr: 1.0000e-04\n",
      "Epoch 56/300\n",
      "1058/1058 [==============================] - 4s 4ms/step - loss: 0.0443 - val_loss: 0.0415 - lr: 1.0000e-04\n",
      "Epoch 57/300\n",
      "1058/1058 [==============================] - 4s 4ms/step - loss: 0.0439 - val_loss: 0.0409 - lr: 1.0000e-04\n",
      "Epoch 58/300\n",
      "1058/1058 [==============================] - 4s 4ms/step - loss: 0.0435 - val_loss: 0.0410 - lr: 1.0000e-04\n",
      "Epoch 59/300\n",
      "1058/1058 [==============================] - 4s 4ms/step - loss: 0.0431 - val_loss: 0.0399 - lr: 1.0000e-04\n",
      "Epoch 60/300\n",
      "1058/1058 [==============================] - 4s 4ms/step - loss: 0.0427 - val_loss: 0.0398 - lr: 1.0000e-04\n",
      "Epoch 61/300\n",
      "1058/1058 [==============================] - 4s 4ms/step - loss: 0.0424 - val_loss: 0.0394 - lr: 1.0000e-04\n",
      "Epoch 62/300\n",
      "1058/1058 [==============================] - 4s 4ms/step - loss: 0.0421 - val_loss: 0.0395 - lr: 1.0000e-04\n",
      "Epoch 63/300\n",
      "1058/1058 [==============================] - 4s 4ms/step - loss: 0.0420 - val_loss: 0.0392 - lr: 1.0000e-04\n",
      "Epoch 64/300\n",
      "1058/1058 [==============================] - 4s 4ms/step - loss: 0.0415 - val_loss: 0.0392 - lr: 1.0000e-04\n",
      "Epoch 65/300\n",
      "1058/1058 [==============================] - 4s 4ms/step - loss: 0.0413 - val_loss: 0.0389 - lr: 1.0000e-04\n",
      "Epoch 66/300\n",
      "1058/1058 [==============================] - 4s 4ms/step - loss: 0.0410 - val_loss: 0.0379 - lr: 1.0000e-04\n",
      "Epoch 67/300\n",
      "1058/1058 [==============================] - 4s 4ms/step - loss: 0.0407 - val_loss: 0.0380 - lr: 1.0000e-04\n",
      "Epoch 68/300\n",
      "1058/1058 [==============================] - 4s 4ms/step - loss: 0.0406 - val_loss: 0.0377 - lr: 1.0000e-04\n",
      "Epoch 69/300\n",
      "1058/1058 [==============================] - 4s 4ms/step - loss: 0.0403 - val_loss: 0.0378 - lr: 1.0000e-04\n",
      "Epoch 70/300\n",
      "1058/1058 [==============================] - 4s 4ms/step - loss: 0.0402 - val_loss: 0.0373 - lr: 1.0000e-04\n",
      "Epoch 71/300\n",
      "1058/1058 [==============================] - 4s 4ms/step - loss: 0.0400 - val_loss: 0.0377 - lr: 1.0000e-04\n",
      "Epoch 72/300\n",
      "1058/1058 [==============================] - 4s 4ms/step - loss: 0.0399 - val_loss: 0.0368 - lr: 1.0000e-04\n",
      "Epoch 73/300\n",
      "1058/1058 [==============================] - 4s 4ms/step - loss: 0.0395 - val_loss: 0.0371 - lr: 1.0000e-04\n",
      "Epoch 74/300\n",
      "1058/1058 [==============================] - 4s 4ms/step - loss: 0.0394 - val_loss: 0.0366 - lr: 1.0000e-04\n",
      "Epoch 75/300\n",
      "1058/1058 [==============================] - 4s 4ms/step - loss: 0.0393 - val_loss: 0.0369 - lr: 1.0000e-04\n",
      "Epoch 76/300\n",
      "1058/1058 [==============================] - 4s 4ms/step - loss: 0.0390 - val_loss: 0.0367 - lr: 1.0000e-04\n",
      "Epoch 77/300\n",
      "1058/1058 [==============================] - 4s 4ms/step - loss: 0.0389 - val_loss: 0.0364 - lr: 1.0000e-04\n",
      "Epoch 78/300\n",
      "1058/1058 [==============================] - 4s 4ms/step - loss: 0.0389 - val_loss: 0.0373 - lr: 1.0000e-04\n",
      "Epoch 79/300\n",
      "1058/1058 [==============================] - 4s 4ms/step - loss: 0.0388 - val_loss: 0.0361 - lr: 1.0000e-04\n",
      "Epoch 80/300\n",
      "1058/1058 [==============================] - 4s 4ms/step - loss: 0.0385 - val_loss: 0.0360 - lr: 1.0000e-04\n",
      "Epoch 81/300\n",
      "1058/1058 [==============================] - 4s 4ms/step - loss: 0.0385 - val_loss: 0.0357 - lr: 1.0000e-04\n",
      "Epoch 82/300\n",
      "1058/1058 [==============================] - 4s 4ms/step - loss: 0.0382 - val_loss: 0.0360 - lr: 1.0000e-04\n",
      "Epoch 83/300\n",
      "1058/1058 [==============================] - 4s 4ms/step - loss: 0.0381 - val_loss: 0.0363 - lr: 1.0000e-04\n",
      "Epoch 84/300\n",
      "1058/1058 [==============================] - 4s 4ms/step - loss: 0.0381 - val_loss: 0.0352 - lr: 1.0000e-04\n",
      "Epoch 85/300\n",
      "1058/1058 [==============================] - 4s 4ms/step - loss: 0.0379 - val_loss: 0.0362 - lr: 1.0000e-04\n",
      "Epoch 86/300\n",
      "1058/1058 [==============================] - 4s 4ms/step - loss: 0.0378 - val_loss: 0.0363 - lr: 1.0000e-04\n",
      "Epoch 87/300\n",
      "1058/1058 [==============================] - 4s 4ms/step - loss: 0.0377 - val_loss: 0.0357 - lr: 1.0000e-04\n",
      "Epoch 88/300\n",
      "1058/1058 [==============================] - 4s 4ms/step - loss: 0.0377 - val_loss: 0.0348 - lr: 1.0000e-04\n",
      "Epoch 89/300\n",
      "1058/1058 [==============================] - 4s 4ms/step - loss: 0.0374 - val_loss: 0.0349 - lr: 1.0000e-04\n",
      "Epoch 90/300\n",
      "1058/1058 [==============================] - 4s 4ms/step - loss: 0.0374 - val_loss: 0.0345 - lr: 1.0000e-04\n",
      "Epoch 91/300\n",
      "1058/1058 [==============================] - 4s 4ms/step - loss: 0.0372 - val_loss: 0.0348 - lr: 1.0000e-04\n",
      "Epoch 92/300\n",
      "1058/1058 [==============================] - 4s 4ms/step - loss: 0.0371 - val_loss: 0.0352 - lr: 1.0000e-04\n",
      "Epoch 93/300\n",
      "1058/1058 [==============================] - 4s 4ms/step - loss: 0.0371 - val_loss: 0.0343 - lr: 1.0000e-04\n",
      "Epoch 94/300\n",
      "1058/1058 [==============================] - 4s 4ms/step - loss: 0.0371 - val_loss: 0.0341 - lr: 1.0000e-04\n",
      "Epoch 95/300\n",
      "1058/1058 [==============================] - 4s 4ms/step - loss: 0.0370 - val_loss: 0.0343 - lr: 1.0000e-04\n",
      "Epoch 96/300\n",
      "1058/1058 [==============================] - 4s 4ms/step - loss: 0.0369 - val_loss: 0.0344 - lr: 1.0000e-04\n",
      "Epoch 97/300\n",
      "1058/1058 [==============================] - 4s 4ms/step - loss: 0.0370 - val_loss: 0.0341 - lr: 1.0000e-04\n",
      "Epoch 98/300\n",
      "1058/1058 [==============================] - 4s 4ms/step - loss: 0.0368 - val_loss: 0.0342 - lr: 1.0000e-04\n",
      "Epoch 99/300\n",
      "1058/1058 [==============================] - 4s 4ms/step - loss: 0.0366 - val_loss: 0.0345 - lr: 1.0000e-04\n",
      "Epoch 100/300\n",
      "1058/1058 [==============================] - 4s 4ms/step - loss: 0.0365 - val_loss: 0.0345 - lr: 1.0000e-04\n",
      "Epoch 101/300\n",
      "1058/1058 [==============================] - 4s 4ms/step - loss: 0.0365 - val_loss: 0.0338 - lr: 1.0000e-04\n",
      "Epoch 102/300\n",
      "1058/1058 [==============================] - 4s 4ms/step - loss: 0.0364 - val_loss: 0.0339 - lr: 1.0000e-04\n",
      "Epoch 103/300\n",
      "1058/1058 [==============================] - 4s 4ms/step - loss: 0.0363 - val_loss: 0.0342 - lr: 1.0000e-04\n",
      "Epoch 104/300\n",
      "1058/1058 [==============================] - 4s 4ms/step - loss: 0.0363 - val_loss: 0.0337 - lr: 1.0000e-04\n",
      "Epoch 105/300\n",
      "1058/1058 [==============================] - 4s 4ms/step - loss: 0.0362 - val_loss: 0.0340 - lr: 1.0000e-04\n",
      "Epoch 106/300\n",
      "1058/1058 [==============================] - 4s 4ms/step - loss: 0.0361 - val_loss: 0.0345 - lr: 1.0000e-04\n",
      "Epoch 107/300\n",
      "1058/1058 [==============================] - 4s 4ms/step - loss: 0.0361 - val_loss: 0.0337 - lr: 1.0000e-04\n",
      "Epoch 108/300\n",
      "1058/1058 [==============================] - 4s 4ms/step - loss: 0.0361 - val_loss: 0.0335 - lr: 1.0000e-04\n",
      "Epoch 109/300\n",
      "1058/1058 [==============================] - 4s 4ms/step - loss: 0.0359 - val_loss: 0.0337 - lr: 1.0000e-04\n",
      "Epoch 110/300\n",
      "1058/1058 [==============================] - 4s 4ms/step - loss: 0.0358 - val_loss: 0.0332 - lr: 1.0000e-04\n",
      "Epoch 111/300\n",
      "1058/1058 [==============================] - 4s 4ms/step - loss: 0.0357 - val_loss: 0.0332 - lr: 1.0000e-04\n",
      "Epoch 112/300\n",
      "1058/1058 [==============================] - 4s 4ms/step - loss: 0.0357 - val_loss: 0.0331 - lr: 1.0000e-04\n",
      "Epoch 113/300\n",
      "1058/1058 [==============================] - 4s 4ms/step - loss: 0.0356 - val_loss: 0.0338 - lr: 1.0000e-04\n",
      "Epoch 114/300\n",
      "1058/1058 [==============================] - 4s 4ms/step - loss: 0.0356 - val_loss: 0.0335 - lr: 1.0000e-04\n",
      "Epoch 115/300\n",
      "1058/1058 [==============================] - 4s 4ms/step - loss: 0.0354 - val_loss: 0.0330 - lr: 1.0000e-04\n",
      "Epoch 116/300\n",
      "1058/1058 [==============================] - 4s 4ms/step - loss: 0.0354 - val_loss: 0.0329 - lr: 1.0000e-04\n",
      "Epoch 117/300\n",
      "1058/1058 [==============================] - 4s 4ms/step - loss: 0.0353 - val_loss: 0.0331 - lr: 1.0000e-04\n",
      "Epoch 118/300\n",
      "1058/1058 [==============================] - 4s 4ms/step - loss: 0.0352 - val_loss: 0.0330 - lr: 1.0000e-04\n",
      "Epoch 119/300\n",
      "1058/1058 [==============================] - 4s 4ms/step - loss: 0.0352 - val_loss: 0.0329 - lr: 1.0000e-04\n",
      "Epoch 120/300\n",
      "1058/1058 [==============================] - 4s 4ms/step - loss: 0.0351 - val_loss: 0.0334 - lr: 1.0000e-04\n",
      "Epoch 121/300\n",
      "1058/1058 [==============================] - 4s 4ms/step - loss: 0.0350 - val_loss: 0.0327 - lr: 1.0000e-04\n",
      "Epoch 122/300\n",
      "1058/1058 [==============================] - 4s 4ms/step - loss: 0.0349 - val_loss: 0.0328 - lr: 1.0000e-04\n",
      "Epoch 123/300\n",
      "1058/1058 [==============================] - 5s 4ms/step - loss: 0.0348 - val_loss: 0.0325 - lr: 1.0000e-04\n",
      "Epoch 124/300\n",
      "1058/1058 [==============================] - 4s 4ms/step - loss: 0.0347 - val_loss: 0.0329 - lr: 1.0000e-04\n",
      "Epoch 125/300\n",
      "1058/1058 [==============================] - 4s 4ms/step - loss: 0.0347 - val_loss: 0.0323 - lr: 1.0000e-04\n",
      "Epoch 126/300\n",
      "1058/1058 [==============================] - 4s 4ms/step - loss: 0.0345 - val_loss: 0.0329 - lr: 1.0000e-04\n",
      "Epoch 127/300\n",
      "1058/1058 [==============================] - 4s 4ms/step - loss: 0.0344 - val_loss: 0.0320 - lr: 1.0000e-04\n",
      "Epoch 128/300\n",
      "1058/1058 [==============================] - 4s 4ms/step - loss: 0.0343 - val_loss: 0.0322 - lr: 1.0000e-04\n",
      "Epoch 129/300\n",
      "1058/1058 [==============================] - 4s 4ms/step - loss: 0.0341 - val_loss: 0.0318 - lr: 1.0000e-04\n",
      "Epoch 130/300\n",
      "1058/1058 [==============================] - 4s 4ms/step - loss: 0.0340 - val_loss: 0.0325 - lr: 1.0000e-04\n",
      "Epoch 131/300\n",
      "1058/1058 [==============================] - 4s 4ms/step - loss: 0.0339 - val_loss: 0.0323 - lr: 1.0000e-04\n",
      "Epoch 132/300\n",
      "1058/1058 [==============================] - 4s 4ms/step - loss: 0.0338 - val_loss: 0.0312 - lr: 1.0000e-04\n",
      "Epoch 133/300\n",
      "1058/1058 [==============================] - 4s 4ms/step - loss: 0.0336 - val_loss: 0.0314 - lr: 1.0000e-04\n",
      "Epoch 134/300\n",
      "1058/1058 [==============================] - 4s 4ms/step - loss: 0.0333 - val_loss: 0.0311 - lr: 1.0000e-04\n",
      "Epoch 135/300\n",
      "1058/1058 [==============================] - 4s 4ms/step - loss: 0.0332 - val_loss: 0.0318 - lr: 1.0000e-04\n",
      "Epoch 136/300\n",
      "1058/1058 [==============================] - 4s 4ms/step - loss: 0.0331 - val_loss: 0.0307 - lr: 1.0000e-04\n",
      "Epoch 137/300\n",
      "1058/1058 [==============================] - 4s 4ms/step - loss: 0.0329 - val_loss: 0.0306 - lr: 1.0000e-04\n",
      "Epoch 138/300\n",
      "1058/1058 [==============================] - 4s 4ms/step - loss: 0.0328 - val_loss: 0.0311 - lr: 1.0000e-04\n",
      "Epoch 139/300\n",
      "1058/1058 [==============================] - 4s 4ms/step - loss: 0.0326 - val_loss: 0.0303 - lr: 1.0000e-04\n",
      "Epoch 140/300\n",
      "1058/1058 [==============================] - 4s 4ms/step - loss: 0.0326 - val_loss: 0.0302 - lr: 1.0000e-04\n",
      "Epoch 141/300\n",
      "1058/1058 [==============================] - 5s 5ms/step - loss: 0.0323 - val_loss: 0.0300 - lr: 1.0000e-04\n",
      "Epoch 142/300\n",
      "1058/1058 [==============================] - 5s 4ms/step - loss: 0.0322 - val_loss: 0.0300 - lr: 1.0000e-04\n",
      "Epoch 143/300\n",
      "1058/1058 [==============================] - 4s 4ms/step - loss: 0.0321 - val_loss: 0.0305 - lr: 1.0000e-04\n",
      "Epoch 144/300\n",
      "1058/1058 [==============================] - 4s 4ms/step - loss: 0.0320 - val_loss: 0.0301 - lr: 1.0000e-04\n",
      "Epoch 145/300\n",
      "1058/1058 [==============================] - 4s 4ms/step - loss: 0.0320 - val_loss: 0.0304 - lr: 1.0000e-04\n",
      "Epoch 146/300\n",
      "1058/1058 [==============================] - 4s 4ms/step - loss: 0.0318 - val_loss: 0.0298 - lr: 1.0000e-04\n",
      "Epoch 147/300\n",
      "1058/1058 [==============================] - 4s 4ms/step - loss: 0.0317 - val_loss: 0.0294 - lr: 1.0000e-04\n",
      "Epoch 148/300\n",
      "1058/1058 [==============================] - 4s 4ms/step - loss: 0.0318 - val_loss: 0.0295 - lr: 1.0000e-04\n",
      "Epoch 149/300\n",
      "1058/1058 [==============================] - 4s 4ms/step - loss: 0.0315 - val_loss: 0.0293 - lr: 1.0000e-04\n",
      "Epoch 150/300\n",
      "1058/1058 [==============================] - 4s 4ms/step - loss: 0.0315 - val_loss: 0.0294 - lr: 1.0000e-04\n",
      "Epoch 151/300\n",
      "1058/1058 [==============================] - 4s 4ms/step - loss: 0.0314 - val_loss: 0.0293 - lr: 1.0000e-04\n",
      "Epoch 152/300\n",
      "1058/1058 [==============================] - 4s 4ms/step - loss: 0.0314 - val_loss: 0.0296 - lr: 1.0000e-04\n",
      "Epoch 153/300\n",
      "1058/1058 [==============================] - 4s 4ms/step - loss: 0.0313 - val_loss: 0.0292 - lr: 1.0000e-04\n",
      "Epoch 154/300\n",
      "1058/1058 [==============================] - 4s 4ms/step - loss: 0.0312 - val_loss: 0.0290 - lr: 1.0000e-04\n",
      "Epoch 155/300\n",
      "1058/1058 [==============================] - 4s 4ms/step - loss: 0.0312 - val_loss: 0.0291 - lr: 1.0000e-04\n",
      "Epoch 156/300\n",
      "1058/1058 [==============================] - 4s 4ms/step - loss: 0.0311 - val_loss: 0.0290 - lr: 1.0000e-04\n",
      "Epoch 157/300\n",
      "1058/1058 [==============================] - 4s 4ms/step - loss: 0.0310 - val_loss: 0.0293 - lr: 1.0000e-04\n",
      "Epoch 158/300\n",
      "1058/1058 [==============================] - 4s 4ms/step - loss: 0.0310 - val_loss: 0.0289 - lr: 1.0000e-04\n",
      "Epoch 159/300\n",
      "1058/1058 [==============================] - 4s 4ms/step - loss: 0.0310 - val_loss: 0.0288 - lr: 1.0000e-04\n",
      "Epoch 160/300\n",
      "1058/1058 [==============================] - 4s 4ms/step - loss: 0.0309 - val_loss: 0.0293 - lr: 1.0000e-04\n",
      "Epoch 161/300\n",
      "1058/1058 [==============================] - 4s 4ms/step - loss: 0.0308 - val_loss: 0.0286 - lr: 1.0000e-04\n",
      "Epoch 162/300\n",
      "1058/1058 [==============================] - 4s 4ms/step - loss: 0.0308 - val_loss: 0.0291 - lr: 1.0000e-04\n",
      "Epoch 163/300\n",
      "1058/1058 [==============================] - 5s 5ms/step - loss: 0.0307 - val_loss: 0.0287 - lr: 1.0000e-04\n",
      "Epoch 164/300\n",
      "1058/1058 [==============================] - 4s 4ms/step - loss: 0.0307 - val_loss: 0.0288 - lr: 1.0000e-04\n",
      "Epoch 165/300\n",
      "1058/1058 [==============================] - 4s 4ms/step - loss: 0.0307 - val_loss: 0.0287 - lr: 1.0000e-04\n",
      "Epoch 166/300\n",
      "1058/1058 [==============================] - 4s 4ms/step - loss: 0.0306 - val_loss: 0.0287 - lr: 1.0000e-04\n",
      "Epoch 167/300\n",
      "1058/1058 [==============================] - 4s 4ms/step - loss: 0.0305 - val_loss: 0.0289 - lr: 1.0000e-04\n",
      "Epoch 168/300\n",
      "1058/1058 [==============================] - 4s 4ms/step - loss: 0.0305 - val_loss: 0.0286 - lr: 1.0000e-04\n",
      "Epoch 169/300\n",
      "1058/1058 [==============================] - 4s 4ms/step - loss: 0.0304 - val_loss: 0.0285 - lr: 1.0000e-04\n",
      "Epoch 170/300\n",
      "1058/1058 [==============================] - 4s 4ms/step - loss: 0.0304 - val_loss: 0.0288 - lr: 1.0000e-04\n",
      "Epoch 171/300\n",
      "1058/1058 [==============================] - 4s 4ms/step - loss: 0.0304 - val_loss: 0.0285 - lr: 1.0000e-04\n",
      "Epoch 172/300\n",
      "1058/1058 [==============================] - 4s 4ms/step - loss: 0.0304 - val_loss: 0.0284 - lr: 1.0000e-04\n",
      "Epoch 173/300\n",
      "1058/1058 [==============================] - 4s 4ms/step - loss: 0.0304 - val_loss: 0.0286 - lr: 1.0000e-04\n",
      "Epoch 174/300\n",
      "1058/1058 [==============================] - 4s 4ms/step - loss: 0.0302 - val_loss: 0.0284 - lr: 1.0000e-04\n",
      "Epoch 175/300\n",
      "1058/1058 [==============================] - 4s 4ms/step - loss: 0.0302 - val_loss: 0.0285 - lr: 1.0000e-04\n",
      "Epoch 176/300\n",
      "1058/1058 [==============================] - 4s 4ms/step - loss: 0.0301 - val_loss: 0.0285 - lr: 1.0000e-04\n",
      "Epoch 177/300\n",
      "1058/1058 [==============================] - 4s 4ms/step - loss: 0.0301 - val_loss: 0.0284 - lr: 1.0000e-04\n",
      "Epoch 178/300\n",
      "1058/1058 [==============================] - 4s 4ms/step - loss: 0.0300 - val_loss: 0.0284 - lr: 1.0000e-04\n",
      "Epoch 179/300\n",
      "1058/1058 [==============================] - 4s 4ms/step - loss: 0.0300 - val_loss: 0.0283 - lr: 1.0000e-04\n",
      "Epoch 180/300\n",
      "1058/1058 [==============================] - 4s 4ms/step - loss: 0.0300 - val_loss: 0.0286 - lr: 1.0000e-04\n",
      "Epoch 181/300\n",
      "1058/1058 [==============================] - 4s 4ms/step - loss: 0.0300 - val_loss: 0.0284 - lr: 1.0000e-04\n",
      "Epoch 182/300\n",
      "1058/1058 [==============================] - 4s 4ms/step - loss: 0.0299 - val_loss: 0.0283 - lr: 1.0000e-04\n",
      "Epoch 183/300\n",
      "1058/1058 [==============================] - 4s 4ms/step - loss: 0.0299 - val_loss: 0.0283 - lr: 1.0000e-04\n",
      "Epoch 184/300\n",
      "1058/1058 [==============================] - 4s 4ms/step - loss: 0.0298 - val_loss: 0.0280 - lr: 1.0000e-04\n",
      "Epoch 185/300\n",
      "1058/1058 [==============================] - 4s 4ms/step - loss: 0.0298 - val_loss: 0.0281 - lr: 1.0000e-04\n",
      "Epoch 186/300\n",
      "1058/1058 [==============================] - 4s 4ms/step - loss: 0.0297 - val_loss: 0.0281 - lr: 1.0000e-04\n",
      "Epoch 187/300\n",
      "1058/1058 [==============================] - 4s 4ms/step - loss: 0.0297 - val_loss: 0.0282 - lr: 1.0000e-04\n",
      "Epoch 188/300\n",
      "1058/1058 [==============================] - 4s 4ms/step - loss: 0.0298 - val_loss: 0.0280 - lr: 1.0000e-04\n",
      "Epoch 189/300\n",
      "1058/1058 [==============================] - 4s 4ms/step - loss: 0.0296 - val_loss: 0.0281 - lr: 1.0000e-04\n",
      "Epoch 190/300\n",
      "1058/1058 [==============================] - 4s 4ms/step - loss: 0.0297 - val_loss: 0.0284 - lr: 1.0000e-04\n",
      "Epoch 191/300\n",
      "1058/1058 [==============================] - 4s 4ms/step - loss: 0.0296 - val_loss: 0.0280 - lr: 1.0000e-04\n",
      "Epoch 192/300\n",
      "1058/1058 [==============================] - 4s 4ms/step - loss: 0.0297 - val_loss: 0.0281 - lr: 1.0000e-04\n",
      "Epoch 193/300\n",
      "1058/1058 [==============================] - 4s 4ms/step - loss: 0.0294 - val_loss: 0.0280 - lr: 1.0000e-04\n",
      "Epoch 194/300\n",
      "1058/1058 [==============================] - 4s 4ms/step - loss: 0.0295 - val_loss: 0.0278 - lr: 1.0000e-04\n",
      "Epoch 195/300\n",
      "1058/1058 [==============================] - 4s 4ms/step - loss: 0.0294 - val_loss: 0.0279 - lr: 1.0000e-04\n",
      "Epoch 196/300\n",
      "1058/1058 [==============================] - 4s 4ms/step - loss: 0.0293 - val_loss: 0.0278 - lr: 1.0000e-04\n",
      "Epoch 197/300\n",
      "1058/1058 [==============================] - 4s 4ms/step - loss: 0.0293 - val_loss: 0.0277 - lr: 1.0000e-04\n",
      "Epoch 198/300\n",
      "1058/1058 [==============================] - 4s 4ms/step - loss: 0.0293 - val_loss: 0.0276 - lr: 1.0000e-04\n",
      "Epoch 199/300\n",
      "1058/1058 [==============================] - 4s 4ms/step - loss: 0.0290 - val_loss: 0.0277 - lr: 1.0000e-04\n",
      "Epoch 200/300\n",
      "1058/1058 [==============================] - 4s 4ms/step - loss: 0.0290 - val_loss: 0.0276 - lr: 1.0000e-04\n",
      "Epoch 201/300\n",
      "1058/1058 [==============================] - 4s 4ms/step - loss: 0.0289 - val_loss: 0.0274 - lr: 1.0000e-04\n",
      "Epoch 202/300\n",
      "1058/1058 [==============================] - 4s 4ms/step - loss: 0.0288 - val_loss: 0.0272 - lr: 1.0000e-04\n",
      "Epoch 203/300\n",
      "1058/1058 [==============================] - 4s 4ms/step - loss: 0.0287 - val_loss: 0.0273 - lr: 1.0000e-04\n",
      "Epoch 204/300\n",
      "1058/1058 [==============================] - 4s 4ms/step - loss: 0.0287 - val_loss: 0.0276 - lr: 1.0000e-04\n",
      "Epoch 205/300\n",
      "1058/1058 [==============================] - 4s 4ms/step - loss: 0.0285 - val_loss: 0.0275 - lr: 1.0000e-04\n",
      "Epoch 206/300\n",
      "1058/1058 [==============================] - 4s 4ms/step - loss: 0.0285 - val_loss: 0.0276 - lr: 1.0000e-04\n",
      "Epoch 207/300\n",
      "1058/1058 [==============================] - 4s 4ms/step - loss: 0.0285 - val_loss: 0.0274 - lr: 1.0000e-04\n",
      "Epoch 208/300\n",
      "1058/1058 [==============================] - 4s 4ms/step - loss: 0.0286 - val_loss: 0.0272 - lr: 1.0000e-04\n",
      "Epoch 209/300\n",
      "1058/1058 [==============================] - 4s 4ms/step - loss: 0.0285 - val_loss: 0.0272 - lr: 1.0000e-04\n",
      "Epoch 210/300\n",
      "1058/1058 [==============================] - 4s 4ms/step - loss: 0.0285 - val_loss: 0.0271 - lr: 1.0000e-04\n",
      "Epoch 211/300\n",
      "1058/1058 [==============================] - 4s 4ms/step - loss: 0.0283 - val_loss: 0.0272 - lr: 1.0000e-04\n",
      "Epoch 212/300\n",
      "1058/1058 [==============================] - 4s 4ms/step - loss: 0.0284 - val_loss: 0.0272 - lr: 1.0000e-04\n",
      "Epoch 213/300\n",
      "1058/1058 [==============================] - 4s 4ms/step - loss: 0.0284 - val_loss: 0.0269 - lr: 1.0000e-04\n",
      "Epoch 214/300\n",
      "1058/1058 [==============================] - 4s 4ms/step - loss: 0.0284 - val_loss: 0.0270 - lr: 1.0000e-04\n",
      "Epoch 215/300\n",
      "1058/1058 [==============================] - 4s 4ms/step - loss: 0.0283 - val_loss: 0.0267 - lr: 1.0000e-04\n",
      "Epoch 216/300\n",
      "1058/1058 [==============================] - 4s 4ms/step - loss: 0.0282 - val_loss: 0.0273 - lr: 1.0000e-04\n",
      "Epoch 217/300\n",
      "1058/1058 [==============================] - 4s 4ms/step - loss: 0.0282 - val_loss: 0.0270 - lr: 1.0000e-04\n",
      "Epoch 218/300\n",
      "1058/1058 [==============================] - 4s 4ms/step - loss: 0.0282 - val_loss: 0.0267 - lr: 1.0000e-04\n",
      "Epoch 219/300\n",
      "1058/1058 [==============================] - 4s 4ms/step - loss: 0.0281 - val_loss: 0.0272 - lr: 1.0000e-04\n",
      "Epoch 220/300\n",
      "1058/1058 [==============================] - 4s 4ms/step - loss: 0.0281 - val_loss: 0.0270 - lr: 1.0000e-04\n",
      "Epoch 221/300\n",
      "1058/1058 [==============================] - 4s 4ms/step - loss: 0.0280 - val_loss: 0.0271 - lr: 1.0000e-04\n",
      "Epoch 222/300\n",
      "1058/1058 [==============================] - 4s 4ms/step - loss: 0.0280 - val_loss: 0.0271 - lr: 1.0000e-04\n",
      "Epoch 223/300\n",
      "1058/1058 [==============================] - 4s 4ms/step - loss: 0.0280 - val_loss: 0.0267 - lr: 1.0000e-04\n",
      "Epoch 224/300\n",
      "1058/1058 [==============================] - 4s 4ms/step - loss: 0.0278 - val_loss: 0.0273 - lr: 1.0000e-04\n",
      "Epoch 225/300\n",
      "1058/1058 [==============================] - 4s 4ms/step - loss: 0.0280 - val_loss: 0.0264 - lr: 1.0000e-04\n",
      "Epoch 226/300\n",
      "1058/1058 [==============================] - 4s 4ms/step - loss: 0.0280 - val_loss: 0.0267 - lr: 1.0000e-04\n",
      "Epoch 227/300\n",
      "1058/1058 [==============================] - 4s 4ms/step - loss: 0.0278 - val_loss: 0.0269 - lr: 1.0000e-04\n",
      "Epoch 228/300\n",
      "1058/1058 [==============================] - 4s 4ms/step - loss: 0.0279 - val_loss: 0.0267 - lr: 1.0000e-04\n",
      "Epoch 229/300\n",
      "1058/1058 [==============================] - 4s 4ms/step - loss: 0.0280 - val_loss: 0.0272 - lr: 1.0000e-04\n",
      "Epoch 230/300\n",
      "1058/1058 [==============================] - 4s 4ms/step - loss: 0.0278 - val_loss: 0.0263 - lr: 1.0000e-04\n",
      "Epoch 231/300\n",
      "1058/1058 [==============================] - 4s 4ms/step - loss: 0.0277 - val_loss: 0.0264 - lr: 1.0000e-04\n",
      "Epoch 232/300\n",
      "1058/1058 [==============================] - 4s 4ms/step - loss: 0.0277 - val_loss: 0.0263 - lr: 1.0000e-04\n",
      "Epoch 233/300\n",
      "1058/1058 [==============================] - 4s 4ms/step - loss: 0.0277 - val_loss: 0.0264 - lr: 1.0000e-04\n",
      "Epoch 234/300\n",
      "1058/1058 [==============================] - 4s 4ms/step - loss: 0.0277 - val_loss: 0.0263 - lr: 1.0000e-04\n",
      "Epoch 235/300\n",
      "1058/1058 [==============================] - 4s 4ms/step - loss: 0.0276 - val_loss: 0.0263 - lr: 1.0000e-04\n",
      "Epoch 236/300\n",
      "1058/1058 [==============================] - 4s 4ms/step - loss: 0.0276 - val_loss: 0.0263 - lr: 1.0000e-04\n",
      "Epoch 237/300\n",
      "1058/1058 [==============================] - 4s 4ms/step - loss: 0.0276 - val_loss: 0.0269 - lr: 1.0000e-04\n",
      "Epoch 238/300\n",
      "1058/1058 [==============================] - 4s 4ms/step - loss: 0.0275 - val_loss: 0.0269 - lr: 1.0000e-04\n",
      "Epoch 239/300\n",
      "1058/1058 [==============================] - 4s 4ms/step - loss: 0.0275 - val_loss: 0.0265 - lr: 1.0000e-04\n",
      "Epoch 240/300\n",
      "1058/1058 [==============================] - 4s 4ms/step - loss: 0.0276 - val_loss: 0.0263 - lr: 1.0000e-04\n",
      "Epoch 241/300\n",
      "1058/1058 [==============================] - 4s 4ms/step - loss: 0.0274 - val_loss: 0.0262 - lr: 1.0000e-04\n",
      "Epoch 242/300\n",
      "1058/1058 [==============================] - 4s 4ms/step - loss: 0.0275 - val_loss: 0.0263 - lr: 1.0000e-04\n",
      "Epoch 243/300\n",
      "1058/1058 [==============================] - 4s 4ms/step - loss: 0.0274 - val_loss: 0.0260 - lr: 1.0000e-04\n",
      "Epoch 244/300\n",
      "1058/1058 [==============================] - 4s 4ms/step - loss: 0.0273 - val_loss: 0.0264 - lr: 1.0000e-04\n",
      "Epoch 245/300\n",
      "1058/1058 [==============================] - 4s 4ms/step - loss: 0.0274 - val_loss: 0.0262 - lr: 1.0000e-04\n",
      "Epoch 246/300\n",
      "1058/1058 [==============================] - 4s 4ms/step - loss: 0.0272 - val_loss: 0.0264 - lr: 1.0000e-04\n",
      "Epoch 247/300\n",
      "1058/1058 [==============================] - 4s 4ms/step - loss: 0.0273 - val_loss: 0.0262 - lr: 1.0000e-04\n",
      "Epoch 248/300\n",
      "1058/1058 [==============================] - 4s 4ms/step - loss: 0.0272 - val_loss: 0.0261 - lr: 1.0000e-04\n",
      "Epoch 249/300\n",
      "1058/1058 [==============================] - 4s 4ms/step - loss: 0.0272 - val_loss: 0.0263 - lr: 1.0000e-04\n",
      "Epoch 250/300\n",
      "1058/1058 [==============================] - 4s 4ms/step - loss: 0.0271 - val_loss: 0.0259 - lr: 1.0000e-04\n",
      "Epoch 251/300\n",
      "1058/1058 [==============================] - 4s 4ms/step - loss: 0.0272 - val_loss: 0.0259 - lr: 1.0000e-04\n",
      "Epoch 252/300\n",
      "1058/1058 [==============================] - 4s 4ms/step - loss: 0.0271 - val_loss: 0.0257 - lr: 1.0000e-04\n",
      "Epoch 253/300\n",
      "1058/1058 [==============================] - 4s 4ms/step - loss: 0.0271 - val_loss: 0.0256 - lr: 1.0000e-04\n",
      "Epoch 254/300\n",
      "1058/1058 [==============================] - 4s 4ms/step - loss: 0.0271 - val_loss: 0.0257 - lr: 1.0000e-04\n",
      "Epoch 255/300\n",
      "1058/1058 [==============================] - 4s 4ms/step - loss: 0.0269 - val_loss: 0.0256 - lr: 1.0000e-04\n",
      "Epoch 256/300\n",
      "1058/1058 [==============================] - 4s 4ms/step - loss: 0.0270 - val_loss: 0.0261 - lr: 1.0000e-04\n",
      "Epoch 257/300\n",
      "1058/1058 [==============================] - 4s 4ms/step - loss: 0.0269 - val_loss: 0.0257 - lr: 1.0000e-04\n",
      "Epoch 258/300\n",
      "1058/1058 [==============================] - 4s 4ms/step - loss: 0.0269 - val_loss: 0.0254 - lr: 1.0000e-04\n",
      "Epoch 259/300\n",
      "1058/1058 [==============================] - 4s 4ms/step - loss: 0.0269 - val_loss: 0.0254 - lr: 1.0000e-04\n",
      "Epoch 260/300\n",
      "1058/1058 [==============================] - 4s 4ms/step - loss: 0.0269 - val_loss: 0.0262 - lr: 1.0000e-04\n",
      "Epoch 261/300\n",
      "1058/1058 [==============================] - 4s 4ms/step - loss: 0.0268 - val_loss: 0.0255 - lr: 1.0000e-04\n",
      "Epoch 262/300\n",
      "1058/1058 [==============================] - 4s 4ms/step - loss: 0.0268 - val_loss: 0.0262 - lr: 1.0000e-04\n",
      "Epoch 263/300\n",
      "1058/1058 [==============================] - 4s 4ms/step - loss: 0.0268 - val_loss: 0.0259 - lr: 1.0000e-04\n",
      "Epoch 264/300\n",
      "1058/1058 [==============================] - 4s 4ms/step - loss: 0.0267 - val_loss: 0.0260 - lr: 1.0000e-04\n",
      "Epoch 265/300\n",
      "1058/1058 [==============================] - 5s 4ms/step - loss: 0.0268 - val_loss: 0.0252 - lr: 1.0000e-04\n",
      "Epoch 266/300\n",
      "1058/1058 [==============================] - 4s 4ms/step - loss: 0.0267 - val_loss: 0.0258 - lr: 1.0000e-04\n",
      "Epoch 267/300\n",
      "1058/1058 [==============================] - 4s 4ms/step - loss: 0.0267 - val_loss: 0.0258 - lr: 1.0000e-04\n",
      "Epoch 268/300\n",
      "1058/1058 [==============================] - 4s 4ms/step - loss: 0.0267 - val_loss: 0.0261 - lr: 1.0000e-04\n",
      "Epoch 269/300\n",
      "1058/1058 [==============================] - 4s 4ms/step - loss: 0.0267 - val_loss: 0.0254 - lr: 1.0000e-04\n",
      "Epoch 270/300\n",
      "1058/1058 [==============================] - 4s 4ms/step - loss: 0.0267 - val_loss: 0.0262 - lr: 1.0000e-04\n",
      "Epoch 271/300\n",
      "1058/1058 [==============================] - 4s 4ms/step - loss: 0.0266 - val_loss: 0.0256 - lr: 1.0000e-04\n",
      "Epoch 272/300\n",
      "1058/1058 [==============================] - 4s 4ms/step - loss: 0.0266 - val_loss: 0.0256 - lr: 1.0000e-04\n",
      "Epoch 273/300\n",
      "1058/1058 [==============================] - 4s 4ms/step - loss: 0.0266 - val_loss: 0.0260 - lr: 1.0000e-04\n",
      "Epoch 274/300\n",
      "1058/1058 [==============================] - 4s 4ms/step - loss: 0.0266 - val_loss: 0.0259 - lr: 1.0000e-04\n",
      "Epoch 275/300\n",
      "1058/1058 [==============================] - 4s 4ms/step - loss: 0.0265 - val_loss: 0.0254 - lr: 1.0000e-04\n",
      "Epoch 276/300\n",
      "1058/1058 [==============================] - 4s 4ms/step - loss: 0.0265 - val_loss: 0.0256 - lr: 1.0000e-04\n",
      "Epoch 277/300\n",
      "1058/1058 [==============================] - 4s 4ms/step - loss: 0.0265 - val_loss: 0.0258 - lr: 1.0000e-04\n",
      "Epoch 278/300\n",
      "1058/1058 [==============================] - 4s 4ms/step - loss: 0.0265 - val_loss: 0.0259 - lr: 1.0000e-04\n",
      "Epoch 279/300\n",
      "1058/1058 [==============================] - 4s 4ms/step - loss: 0.0265 - val_loss: 0.0250 - lr: 1.0000e-04\n",
      "Epoch 280/300\n",
      "1058/1058 [==============================] - 4s 4ms/step - loss: 0.0265 - val_loss: 0.0250 - lr: 1.0000e-04\n",
      "Epoch 281/300\n",
      "1058/1058 [==============================] - 4s 4ms/step - loss: 0.0264 - val_loss: 0.0253 - lr: 1.0000e-04\n",
      "Epoch 282/300\n",
      "1058/1058 [==============================] - 4s 4ms/step - loss: 0.0264 - val_loss: 0.0251 - lr: 1.0000e-04\n",
      "Epoch 283/300\n",
      "1058/1058 [==============================] - 4s 4ms/step - loss: 0.0264 - val_loss: 0.0256 - lr: 1.0000e-04\n",
      "Epoch 284/300\n",
      "1058/1058 [==============================] - 4s 4ms/step - loss: 0.0262 - val_loss: 0.0254 - lr: 1.0000e-04\n",
      "Epoch 285/300\n",
      "1058/1058 [==============================] - 4s 4ms/step - loss: 0.0262 - val_loss: 0.0256 - lr: 1.0000e-04\n",
      "Epoch 286/300\n",
      "1058/1058 [==============================] - 4s 4ms/step - loss: 0.0263 - val_loss: 0.0255 - lr: 1.0000e-04\n",
      "Epoch 287/300\n",
      "1058/1058 [==============================] - 4s 4ms/step - loss: 0.0263 - val_loss: 0.0253 - lr: 1.0000e-04\n",
      "Epoch 288/300\n",
      "1058/1058 [==============================] - 4s 4ms/step - loss: 0.0263 - val_loss: 0.0285 - lr: 1.0000e-04\n",
      "Epoch 289/300\n",
      "1058/1058 [==============================] - 4s 4ms/step - loss: 0.0263 - val_loss: 0.0251 - lr: 1.0000e-04\n",
      "Epoch 290/300\n",
      "1058/1058 [==============================] - 4s 4ms/step - loss: 0.0262 - val_loss: 0.0258 - lr: 1.0000e-04\n",
      "Epoch 291/300\n",
      "1058/1058 [==============================] - 4s 4ms/step - loss: 0.0262 - val_loss: 0.0259 - lr: 1.0000e-04\n",
      "Epoch 292/300\n",
      "1058/1058 [==============================] - 4s 4ms/step - loss: 0.0261 - val_loss: 0.0254 - lr: 1.0000e-04\n",
      "Epoch 293/300\n",
      "1058/1058 [==============================] - 4s 4ms/step - loss: 0.0261 - val_loss: 0.0252 - lr: 1.0000e-04\n",
      "Epoch 294/300\n",
      "1058/1058 [==============================] - 4s 4ms/step - loss: 0.0261 - val_loss: 0.0255 - lr: 1.0000e-04\n",
      "Epoch 295/300\n",
      "1058/1058 [==============================] - 4s 4ms/step - loss: 0.0261 - val_loss: 0.0251 - lr: 8.0000e-05\n",
      "Epoch 296/300\n",
      "1058/1058 [==============================] - 4s 4ms/step - loss: 0.0261 - val_loss: 0.0254 - lr: 8.0000e-05\n",
      "Epoch 297/300\n",
      "1058/1058 [==============================] - 4s 4ms/step - loss: 0.0261 - val_loss: 0.0253 - lr: 8.0000e-05\n",
      "Epoch 298/300\n",
      "1058/1058 [==============================] - 4s 4ms/step - loss: 0.0261 - val_loss: 0.0253 - lr: 8.0000e-05\n",
      "Epoch 299/300\n",
      "1058/1058 [==============================] - 4s 4ms/step - loss: 0.0261 - val_loss: 0.0255 - lr: 8.0000e-05\n",
      "Epoch 300/300\n",
      "1058/1058 [==============================] - 4s 4ms/step - loss: 0.0260 - val_loss: 0.0250 - lr: 8.0000e-05\n"
     ]
    }
   ],
   "source": [
    "history_2 = BParticleEncoder.fit(\n",
    "    X_train_b_jets, X_train_b_jets,\n",
    "    validation_data= (X_valid_b_jets, X_valid_b_jets),\n",
    "    epochs= 300,\n",
    "    batch_size= BATCHSIZE,\n",
    "     callbacks = [early_stopping, cp_callback, reduce_learn_on_plateau],\n",
    "    )"
   ]
  },
  {
   "cell_type": "code",
   "execution_count": 47,
   "metadata": {},
   "outputs": [
    {
     "data": {
      "image/png": "[encoded data removed]",
      "text/plain": [
       "<Figure size 640x480 with 1 Axes>"
      ]
     },
     "metadata": {},
     "output_type": "display_data"
    }
   ],
   "source": [
    "# Plot the loss and validation curves vs epoch\n",
    "history_df_1 = pd.DataFrame(history_2.history)\n",
    "np.log(history_df_1.loc[:, [\"loss\",\"val_loss\"]]).plot()\n",
    "history_df_1.to_csv('/home/physics/phujdj/DeepLearningParticlePhysics/history.csv')"
   ]
  },
  {
   "cell_type": "code",
   "execution_count": 50,
   "metadata": {},
   "outputs": [
    {
     "name": "stdout",
     "output_type": "stream",
     "text": [
      "3021/3021 - 3s - loss: 0.0231 - 3s/epoch - 840us/step\n",
      "The JetParticleEncoder has loss:  0.023126270622015\n"
     ]
    }
   ],
   "source": [
    "#Evaluate the entire performance of the model\n",
    "loss = BParticleEncoder.evaluate(b_jets_input_scaled,b_jets_input_scaled,verbose = 2)\n",
    "print(\"The JetParticleEncoder has loss: \", loss)"
   ]
  },
  {
   "cell_type": "code",
   "execution_count": 48,
   "metadata": {},
   "outputs": [
    {
     "name": "stdout",
     "output_type": "stream",
     "text": [
      "<keras.layers.core.masking.Masking object at 0x7f680f837e80>\n",
      "<keras.layers.rnn.time_distributed.TimeDistributed object at 0x7f680f837130>\n",
      "<keras.layers.normalization.batch_normalization.BatchNormalization object at 0x7f680f833280>\n",
      "<keras.layers.rnn.time_distributed.TimeDistributed object at 0x7f680f8a8730>\n",
      "<keras.layers.normalization.batch_normalization.BatchNormalization object at 0x7f680f8aa8b0>\n",
      "<keras.layers.rnn.time_distributed.TimeDistributed object at 0x7f680f8adb50>\n",
      "<keras.layers.normalization.batch_normalization.BatchNormalization object at 0x7f680f842910>\n",
      "<keras.layers.rnn.time_distributed.TimeDistributed object at 0x7f680f848550>\n"
     ]
    }
   ],
   "source": [
    "ParticleEncoderTracksInput = keras.layers.Input(ParticleEncoder.layers[0].input_shape[0][1:])\n",
    "ParticleEncoderTracks = ParticleEncoderTracksInput\n",
    "for layer in ParticleEncoder.layers[1:9]:\n",
    "    print(layer)\n",
    "    ParticleEncoderTracks = layer(ParticleEncoderTracks)\n",
    "ParticleEncoderTracks = keras.Model(inputs = ParticleEncoderTracksInput, outputs = ParticleEncoderTracks)"
   ]
  },
  {
   "cell_type": "code",
   "execution_count": 49,
   "metadata": {},
   "outputs": [
    {
     "name": "stdout",
     "output_type": "stream",
     "text": [
      "<keras.layers.core.masking.Masking object at 0x7f634826f550>\n",
      "<keras.layers.core.dense.Dense object at 0x7f6348277eb0>\n",
      "<keras.layers.normalization.batch_normalization.BatchNormalization object at 0x7f634826f7c0>\n",
      "<keras.layers.core.dense.Dense object at 0x7f6348285700>\n",
      "<keras.layers.normalization.batch_normalization.BatchNormalization object at 0x7f634826fe80>\n",
      "<keras.layers.core.dense.Dense object at 0x7f63482980d0>\n",
      "<keras.layers.normalization.batch_normalization.BatchNormalization object at 0x7f6348222520>\n",
      "<keras.layers.core.dense.Dense object at 0x7f63482225e0>\n"
     ]
    }
   ],
   "source": [
    "ParticleEncoderJetsInput = keras.layers.Input(BParticleEncoder.layers[0].input_shape[0][1:])\n",
    "ParticleEncoderJets = ParticleEncoderJetsInput\n",
    "for layer in BParticleEncoder.layers[1:9]:\n",
    "    print(layer)\n",
    "    ParticleEncoderJets = layer(ParticleEncoderJets)\n",
    "ParticleEncoderJets = keras.Model(inputs = ParticleEncoderJetsInput, outputs = ParticleEncoderJets)"
   ]
  },
  {
   "cell_type": "code",
   "execution_count": 51,
   "metadata": {},
   "outputs": [
    {
     "name": "stdout",
     "output_type": "stream",
     "text": [
      "Model: \"model_3\"\n",
      "_________________________________________________________________\n",
      " Layer (type)                Output Shape              Param #   \n",
      "=================================================================\n",
      " input_4 (InputLayer)        [(None, None, 19)]        0         \n",
      "                                                                 \n",
      " masking (Masking)           (None, None, 19)          0         \n",
      "                                                                 \n",
      " time_distributed (TimeDistr  (None, None, 38)         760       \n",
      " ibuted)                                                         \n",
      "                                                                 \n",
      " batch_normalization (BatchN  (None, None, 38)         152       \n",
      " ormalization)                                                   \n",
      "                                                                 \n",
      " time_distributed_1 (TimeDis  (None, None, 9)          351       \n",
      " tributed)                                                       \n",
      "                                                                 \n",
      " batch_normalization_1 (Batc  (None, None, 9)          36        \n",
      " hNormalization)                                                 \n",
      "                                                                 \n",
      " time_distributed_2 (TimeDis  (None, None, 4)          40        \n",
      " tributed)                                                       \n",
      "                                                                 \n",
      " batch_normalization_2 (Batc  (None, None, 4)          16        \n",
      " hNormalization)                                                 \n",
      "                                                                 \n",
      " time_distributed_3 (TimeDis  (None, None, 5)          25        \n",
      " tributed)                                                       \n",
      "                                                                 \n",
      "=================================================================\n",
      "Total params: 1,380\n",
      "Trainable params: 1,278\n",
      "Non-trainable params: 102\n",
      "_________________________________________________________________\n"
     ]
    }
   ],
   "source": [
    "ParticleEncoderTracks.summary()"
   ]
  },
  {
   "cell_type": "code",
   "execution_count": 52,
   "metadata": {},
   "outputs": [
    {
     "name": "stdout",
     "output_type": "stream",
     "text": [
      "Model: \"model_4\"\n",
      "_________________________________________________________________\n",
      " Layer (type)                Output Shape              Param #   \n",
      "=================================================================\n",
      " input_5 (InputLayer)        [(None, 72)]              0         \n",
      "                                                                 \n",
      " masking_2 (Masking)         (None, 72)                0         \n",
      "                                                                 \n",
      " dense_22 (Dense)            (None, 72)                5256      \n",
      "                                                                 \n",
      " batch_normalization_18 (Bat  (None, 72)               288       \n",
      " chNormalization)                                                \n",
      "                                                                 \n",
      " dense_23 (Dense)            (None, 36)                2628      \n",
      "                                                                 \n",
      " batch_normalization_19 (Bat  (None, 36)               144       \n",
      " chNormalization)                                                \n",
      "                                                                 \n",
      " dense_24 (Dense)            (None, 18)                666       \n",
      "                                                                 \n",
      " batch_normalization_20 (Bat  (None, 18)               72        \n",
      " chNormalization)                                                \n",
      "                                                                 \n",
      " dense_25 (Dense)            (None, 9)                 171       \n",
      "                                                                 \n",
      "=================================================================\n",
      "Total params: 9,225\n",
      "Trainable params: 8,973\n",
      "Non-trainable params: 252\n",
      "_________________________________________________________________\n"
     ]
    }
   ],
   "source": [
    "ParticleEncoderJets.summary()"
   ]
  },
  {
   "cell_type": "code",
   "execution_count": 53,
   "metadata": {},
   "outputs": [],
   "source": [
    "ParticleEncoderTracksClone = keras.models.clone_model(ParticleEncoderTracks)\n",
    "ParticleEncoderTracksClone.set_weights(ParticleEncoderTracks.get_weights())"
   ]
  },
  {
   "cell_type": "code",
   "execution_count": 54,
   "metadata": {},
   "outputs": [],
   "source": [
    "ParticleEncoderJetsClone = keras.models.clone_model(ParticleEncoderJets)\n",
    "ParticleEncoderJetsClone.set_weights(ParticleEncoderJets.get_weights())"
   ]
  },
  {
   "cell_type": "code",
   "execution_count": 55,
   "metadata": {},
   "outputs": [
    {
     "name": "stdout",
     "output_type": "stream",
     "text": [
      "2115/2115 [==============================] - 2s 1ms/step\n",
      "907/907 [==============================] - 1s 927us/step\n"
     ]
    }
   ],
   "source": [
    "X_train_encoded = ParticleEncoderTracksClone.predict(X_train) \n",
    "X_valid_encoded = ParticleEncoderTracksClone.predict(X_valid)"
   ]
  },
  {
   "cell_type": "code",
   "execution_count": 56,
   "metadata": {},
   "outputs": [
    {
     "name": "stdout",
     "output_type": "stream",
     "text": [
      "3021/3021 [==============================] - 3s 997us/step\n"
     ]
    }
   ],
   "source": [
    "tracks_encoded = ParticleEncoderTracksClone.predict(Tracks_input_scaled)"
   ]
  },
  {
   "cell_type": "code",
   "execution_count": 57,
   "metadata": {},
   "outputs": [
    {
     "name": "stdout",
     "output_type": "stream",
     "text": [
      "2115/2115 [==============================] - 2s 662us/step\n",
      "907/907 [==============================] - 1s 639us/step\n"
     ]
    }
   ],
   "source": [
    "X_train_b_jets_encoded = ParticleEncoderJetsClone.predict(X_train_b_jets)\n",
    "X_valid_b_jets_encoded = ParticleEncoderJetsClone.predict(X_valid_b_jets)"
   ]
  },
  {
   "cell_type": "code",
   "execution_count": 58,
   "metadata": {},
   "outputs": [
    {
     "name": "stdout",
     "output_type": "stream",
     "text": [
      "3021/3021 [==============================] - 2s 653us/step\n"
     ]
    }
   ],
   "source": [
    "jets_encoded = ParticleEncoderJetsClone.predict(b_jets_input_scaled)"
   ]
  },
  {
   "cell_type": "code",
   "execution_count": 59,
   "metadata": {},
   "outputs": [
    {
     "name": "stdout",
     "output_type": "stream",
     "text": [
      "(96657, 1)\n",
      "(96657, 12)\n"
     ]
    }
   ],
   "source": [
    "from sklearn.preprocessing import OneHotEncoder\n",
    "bhadron_masses = []\n",
    "for mass in bhads_m_clean:\n",
    "    bhadron_masses.append([str(mass)])\n",
    "print(np.shape(bhadron_masses))\n",
    "encoder = OneHotEncoder(sparse = False)\n",
    "onehot = encoder.fit_transform(bhadron_masses)\n",
    "print(np.shape(onehot))"
   ]
  },
  {
   "cell_type": "code",
   "execution_count": 60,
   "metadata": {},
   "outputs": [
    {
     "name": "stdout",
     "output_type": "stream",
     "text": [
      "[5, 20, 30, 40]\n"
     ]
    }
   ],
   "source": [
    "# Builds the deep neural network\n",
    "track_layers = [20,30,40]\n",
    "jet_layers = [250 for x in range(3)]\n",
    "b_jets_layers = [20,30,40]\n",
    "\n",
    "track_layers = [np.shape(tracks_encoded)[2]]+track_layers\n",
    "print(track_layers)\n",
    "\n",
    "#Initializers the optimizer used for training the network\n",
    "optimizer = tf.keras.optimizers.Nadam(LR, use_ema=True)\n",
    "\n",
    "#Build a DeepSets Projection Neural Network\n",
    "DeepSetProjector = DeepSetsProjection(track_layers=track_layers, jet_layers=jet_layers, b_jet_layers=b_jets_layers, n_targets_classification=np.shape(onehot)[1], regularizer_strength = 1e-4, n_features = np.shape(jets_encoded)[1], n_targets=np.shape(bhads_targets)[1], Dropout_rate=0.1)"
   ]
  },
  {
   "cell_type": "code",
   "execution_count": null,
   "metadata": {},
   "outputs": [],
   "source": [
    "# Builds the deep neural network\n",
    "track_layers = [16 for x in range(2)]\n",
    "jet_layers = [256 for x in range(3)]\n",
    "b_jets_layers = [16 for x in range(2)]\n",
    "\n",
    "track_layers = [np.shape(Tracks_input_scaled)[2]]+track_layers\n",
    "print(track_layers)\n",
    "print(np.shape(onehot)[1])\n",
    "#Initializers the optimizer used for training the network\n",
    "optimizer = tf.keras.optimizers.Nadam(LR)\n",
    "\n",
    "#Build a DeepSets Projection Neural Network\n",
    "DeepSetProjector = DeepSetsProjection(track_layers=track_layers, b_jet_layers= b_jets_layers, jet_layers=jet_layers, n_targets=np.shape(Standardized_Bhads_targets)[1], n_targets_classification= np.shape(onehot)[1], regularizer_strength= 1e-6, n_features=np.shape(b_jets_input_scaled)[1], Dropout_rate=0.0001)"
   ]
  },
  {
   "cell_type": "code",
   "execution_count": 61,
   "metadata": {},
   "outputs": [],
   "source": [
    "# Save the weights of the model to allow reuse in future.\n",
    "path = \"/home/physics/phujdj/DeepLearningParticlePhysics/CheckPointsDeepNet/ResidualDeepNetProjectorWeights&Biases.ckpt\"\n",
    "checkpoint_dir = os.path.dirname(path)\n",
    "cp_callback = tf.keras.callbacks.ModelCheckpoint(filepath=path,\n",
    "                                                 save_weights_only=True, verbose=0, save_freq = 50*BATCHSIZE)"
   ]
  },
  {
   "cell_type": "code",
   "execution_count": 62,
   "metadata": {},
   "outputs": [],
   "source": [
    "from DeepSetNeuralNetArchitecture import LogNormal_Loss_Function\n",
    "from HffragDeepSetsProjection import Multivariate_Gaussian_Negative_Likelihood_Loss_Curve\n",
    "DeepSetProjector.compile(\n",
    " optimizer = optimizer,\n",
    " loss = {\"MultivariateLoss\": Multivariate_Gaussian_Negative_Likelihood_Loss_Curve, \"MassOutput\":tf.keras.losses.categorical_crossentropy},\n",
    " metrics = [Mean_Squared_Error]   \n",
    ")"
   ]
  },
  {
   "cell_type": "code",
   "execution_count": null,
   "metadata": {},
   "outputs": [],
   "source": [
    "bhads_targets"
   ]
  },
  {
   "cell_type": "code",
   "execution_count": null,
   "metadata": {},
   "outputs": [],
   "source": [
    "DeepSetProjector.summary()"
   ]
  },
  {
   "cell_type": "code",
   "execution_count": 63,
   "metadata": {},
   "outputs": [
    {
     "name": "stdout",
     "output_type": "stream",
     "text": [
      "Epoch 1/1000\n",
      "WARNING:tensorflow:From /home/physics/phujdj/anaconda3/envs/SpocFit/lib/python3.9/site-packages/tensorflow/python/autograph/pyct/static_analysis/liveness.py:83: Analyzer.lamba_check (from tensorflow.python.autograph.pyct.static_analysis.liveness) is deprecated and will be removed after 2023-09-23.\n",
      "Instructions for updating:\n",
      "Lambda fuctions will be no more assumed to be used in the statement where they are used, or at least in the same block. https://github.com/tensorflow/tensorflow/issues/56089\n",
      "WARNING:tensorflow:From /home/physics/phujdj/anaconda3/envs/SpocFit/lib/python3.9/site-packages/tensorflow/python/util/deprecation.py:629: calling map_fn_v2 (from tensorflow.python.ops.map_fn) with dtype is deprecated and will be removed in a future version.\n",
      "Instructions for updating:\n",
      "Use fn_output_signature instead\n",
      "1058/1058 [==============================] - 36s 23ms/step - loss: 72.4531 - MultivariateLoss_loss: 39.5165 - MassOutput_loss: 1.5295 - MultivariateLoss_Mean_Squared_Error: 476.0299 - MassOutput_Mean_Squared_Error: 0.0603 - val_loss: 48.4504 - val_MultivariateLoss_loss: 18.1867 - val_MassOutput_loss: 1.4472 - val_MultivariateLoss_Mean_Squared_Error: 467.0605 - val_MassOutput_Mean_Squared_Error: 0.0589 - lr: 1.0000e-04\n",
      "Epoch 2/1000\n",
      "1058/1058 [==============================] - 23s 22ms/step - loss: 43.2486 - MultivariateLoss_loss: 13.9708 - MassOutput_loss: 1.4431 - MultivariateLoss_Mean_Squared_Error: 474.1856 - MassOutput_Mean_Squared_Error: 0.0589 - val_loss: 38.0015 - val_MultivariateLoss_loss: 9.4061 - val_MassOutput_loss: 1.4376 - val_MultivariateLoss_Mean_Squared_Error: 463.8477 - val_MassOutput_Mean_Squared_Error: 0.0588 - lr: 1.0000e-04\n",
      "Epoch 3/1000\n",
      "1058/1058 [==============================] - 23s 22ms/step - loss: 34.4182 - MultivariateLoss_loss: 6.2276 - MassOutput_loss: 1.4386 - MultivariateLoss_Mean_Squared_Error: 472.1111 - MassOutput_Mean_Squared_Error: 0.0588 - val_loss: 31.1038 - val_MultivariateLoss_loss: 3.2746 - val_MassOutput_loss: 1.4356 - val_MultivariateLoss_Mean_Squared_Error: 462.9477 - val_MassOutput_Mean_Squared_Error: 0.0587 - lr: 1.0000e-04\n",
      "Epoch 4/1000\n",
      "1058/1058 [==============================] - 23s 22ms/step - loss: 28.8888 - MultivariateLoss_loss: 1.3955 - MassOutput_loss: 1.4368 - MultivariateLoss_Mean_Squared_Error: 471.5069 - MassOutput_Mean_Squared_Error: 0.0588 - val_loss: 27.3299 - val_MultivariateLoss_loss: 0.1848 - val_MassOutput_loss: 1.4372 - val_MultivariateLoss_Mean_Squared_Error: 462.7627 - val_MassOutput_Mean_Squared_Error: 0.0588 - lr: 1.0000e-04\n",
      "Epoch 5/1000\n",
      "1058/1058 [==============================] - 23s 22ms/step - loss: 26.2666 - MultivariateLoss_loss: -0.4987 - MassOutput_loss: 1.4364 - MultivariateLoss_Mean_Squared_Error: 471.3339 - MassOutput_Mean_Squared_Error: 0.0588 - val_loss: 25.7249 - val_MultivariateLoss_loss: -0.6421 - val_MassOutput_loss: 1.4361 - val_MultivariateLoss_Mean_Squared_Error: 462.5886 - val_MassOutput_Mean_Squared_Error: 0.0588 - lr: 1.0000e-04\n",
      "Epoch 6/1000\n",
      "1058/1058 [==============================] - 23s 22ms/step - loss: 24.2381 - MultivariateLoss_loss: -1.6924 - MassOutput_loss: 1.4364 - MultivariateLoss_Mean_Squared_Error: 471.1657 - MassOutput_Mean_Squared_Error: 0.0588 - val_loss: 23.0900 - val_MultivariateLoss_loss: -2.3843 - val_MassOutput_loss: 1.4406 - val_MultivariateLoss_Mean_Squared_Error: 462.3905 - val_MassOutput_Mean_Squared_Error: 0.0590 - lr: 1.0000e-04\n",
      "Epoch 7/1000\n",
      "1058/1058 [==============================] - 23s 22ms/step - loss: 22.0346 - MultivariateLoss_loss: -2.9350 - MassOutput_loss: 1.4368 - MultivariateLoss_Mean_Squared_Error: 470.9877 - MassOutput_Mean_Squared_Error: 0.0588 - val_loss: 20.6141 - val_MultivariateLoss_loss: -3.8389 - val_MassOutput_loss: 1.4371 - val_MultivariateLoss_Mean_Squared_Error: 462.2624 - val_MassOutput_Mean_Squared_Error: 0.0588 - lr: 1.0000e-04\n",
      "Epoch 8/1000\n",
      "1058/1058 [==============================] - 23s 22ms/step - loss: 19.4219 - MultivariateLoss_loss: -4.4970 - MassOutput_loss: 1.4369 - MultivariateLoss_Mean_Squared_Error: 470.8234 - MassOutput_Mean_Squared_Error: 0.0588 - val_loss: 17.7534 - val_MultivariateLoss_loss: -5.6239 - val_MassOutput_loss: 1.4354 - val_MultivariateLoss_Mean_Squared_Error: 462.0356 - val_MassOutput_Mean_Squared_Error: 0.0588 - lr: 1.0000e-04\n",
      "Epoch 9/1000\n",
      "1058/1058 [==============================] - 23s 22ms/step - loss: 16.6204 - MultivariateLoss_loss: -6.2090 - MassOutput_loss: 1.4367 - MultivariateLoss_Mean_Squared_Error: 470.5797 - MassOutput_Mean_Squared_Error: 0.0588 - val_loss: 15.2526 - val_MultivariateLoss_loss: -7.0262 - val_MassOutput_loss: 1.4381 - val_MultivariateLoss_Mean_Squared_Error: 461.8308 - val_MassOutput_Mean_Squared_Error: 0.0588 - lr: 1.0000e-04\n",
      "Epoch 10/1000\n",
      "1058/1058 [==============================] - 23s 22ms/step - loss: 14.2499 - MultivariateLoss_loss: -7.4803 - MassOutput_loss: 1.4370 - MultivariateLoss_Mean_Squared_Error: 470.4836 - MassOutput_Mean_Squared_Error: 0.0588 - val_loss: 13.2946 - val_MultivariateLoss_loss: -7.8894 - val_MassOutput_loss: 1.4353 - val_MultivariateLoss_Mean_Squared_Error: 461.7266 - val_MassOutput_Mean_Squared_Error: 0.0588 - lr: 1.0000e-04\n",
      "Epoch 11/1000\n",
      "1058/1058 [==============================] - 23s 22ms/step - loss: 12.0369 - MultivariateLoss_loss: -8.6173 - MassOutput_loss: 1.4366 - MultivariateLoss_Mean_Squared_Error: 470.4204 - MassOutput_Mean_Squared_Error: 0.0588 - val_loss: 11.0407 - val_MultivariateLoss_loss: -9.0881 - val_MassOutput_loss: 1.4378 - val_MultivariateLoss_Mean_Squared_Error: 461.6632 - val_MassOutput_Mean_Squared_Error: 0.0588 - lr: 1.0000e-04\n",
      "Epoch 12/1000\n",
      "1058/1058 [==============================] - 23s 22ms/step - loss: 10.1624 - MultivariateLoss_loss: -9.4579 - MassOutput_loss: 1.4365 - MultivariateLoss_Mean_Squared_Error: 470.3516 - MassOutput_Mean_Squared_Error: 0.0588 - val_loss: 9.7660 - val_MultivariateLoss_loss: -9.3578 - val_MassOutput_loss: 1.4369 - val_MultivariateLoss_Mean_Squared_Error: 461.6535 - val_MassOutput_Mean_Squared_Error: 0.0588 - lr: 1.0000e-04\n",
      "Epoch 13/1000\n",
      "1058/1058 [==============================] - 23s 22ms/step - loss: 8.5386 - MultivariateLoss_loss: -10.1099 - MassOutput_loss: 1.4361 - MultivariateLoss_Mean_Squared_Error: 470.2747 - MassOutput_Mean_Squared_Error: 0.0588 - val_loss: 8.2976 - val_MultivariateLoss_loss: -9.8867 - val_MassOutput_loss: 1.4348 - val_MultivariateLoss_Mean_Squared_Error: 461.5628 - val_MassOutput_Mean_Squared_Error: 0.0588 - lr: 1.0000e-04\n",
      "Epoch 14/1000\n",
      "1058/1058 [==============================] - 23s 22ms/step - loss: 7.1584 - MultivariateLoss_loss: -10.5917 - MassOutput_loss: 1.4364 - MultivariateLoss_Mean_Squared_Error: 470.2147 - MassOutput_Mean_Squared_Error: 0.0588 - val_loss: 8.3166 - val_MultivariateLoss_loss: -9.0142 - val_MassOutput_loss: 1.4390 - val_MultivariateLoss_Mean_Squared_Error: 461.5599 - val_MassOutput_Mean_Squared_Error: 0.0590 - lr: 1.0000e-04\n",
      "Epoch 15/1000\n",
      "1058/1058 [==============================] - 23s 22ms/step - loss: 5.9799 - MultivariateLoss_loss: -10.9571 - MassOutput_loss: 1.4366 - MultivariateLoss_Mean_Squared_Error: 470.1749 - MassOutput_Mean_Squared_Error: 0.0588 - val_loss: 5.3644 - val_MultivariateLoss_loss: -11.1928 - val_MassOutput_loss: 1.4343 - val_MultivariateLoss_Mean_Squared_Error: 461.4937 - val_MassOutput_Mean_Squared_Error: 0.0588 - lr: 1.0000e-04\n",
      "Epoch 16/1000\n",
      "1058/1058 [==============================] - 23s 22ms/step - loss: 4.9005 - MultivariateLoss_loss: -11.3094 - MassOutput_loss: 1.4355 - MultivariateLoss_Mean_Squared_Error: 470.1443 - MassOutput_Mean_Squared_Error: 0.0588 - val_loss: 5.0908 - val_MultivariateLoss_loss: -10.7857 - val_MassOutput_loss: 1.4385 - val_MultivariateLoss_Mean_Squared_Error: 461.5729 - val_MassOutput_Mean_Squared_Error: 0.0588 - lr: 1.0000e-04\n",
      "Epoch 17/1000\n",
      "1058/1058 [==============================] - 23s 22ms/step - loss: 4.0156 - MultivariateLoss_loss: -11.5524 - MassOutput_loss: 1.4354 - MultivariateLoss_Mean_Squared_Error: 470.1102 - MassOutput_Mean_Squared_Error: 0.0588 - val_loss: 4.5781 - val_MultivariateLoss_loss: -10.6987 - val_MassOutput_loss: 1.4401 - val_MultivariateLoss_Mean_Squared_Error: 461.3778 - val_MassOutput_Mean_Squared_Error: 0.0589 - lr: 1.0000e-04\n",
      "Epoch 18/1000\n",
      "1058/1058 [==============================] - 23s 22ms/step - loss: 3.1310 - MultivariateLoss_loss: -11.8696 - MassOutput_loss: 1.4352 - MultivariateLoss_Mean_Squared_Error: 470.0900 - MassOutput_Mean_Squared_Error: 0.0588 - val_loss: 3.8750 - val_MultivariateLoss_loss: -10.8682 - val_MassOutput_loss: 1.4388 - val_MultivariateLoss_Mean_Squared_Error: 461.4246 - val_MassOutput_Mean_Squared_Error: 0.0589 - lr: 1.0000e-04\n",
      "Epoch 19/1000\n",
      "1058/1058 [==============================] - 23s 22ms/step - loss: 2.4215 - MultivariateLoss_loss: -12.0793 - MassOutput_loss: 1.4355 - MultivariateLoss_Mean_Squared_Error: 470.0800 - MassOutput_Mean_Squared_Error: 0.0588 - val_loss: 1.8573 - val_MultivariateLoss_loss: -12.4106 - val_MassOutput_loss: 1.4333 - val_MultivariateLoss_Mean_Squared_Error: 461.3859 - val_MassOutput_Mean_Squared_Error: 0.0587 - lr: 1.0000e-04\n",
      "Epoch 20/1000\n",
      "1058/1058 [==============================] - 23s 22ms/step - loss: 1.7328 - MultivariateLoss_loss: -12.3238 - MassOutput_loss: 1.4353 - MultivariateLoss_Mean_Squared_Error: 470.0681 - MassOutput_Mean_Squared_Error: 0.0588 - val_loss: 1.8122 - val_MultivariateLoss_loss: -12.0375 - val_MassOutput_loss: 1.4337 - val_MultivariateLoss_Mean_Squared_Error: 461.4338 - val_MassOutput_Mean_Squared_Error: 0.0587 - lr: 1.0000e-04\n",
      "Epoch 21/1000\n",
      "1058/1058 [==============================] - 23s 22ms/step - loss: 1.1183 - MultivariateLoss_loss: -12.5432 - MassOutput_loss: 1.4351 - MultivariateLoss_Mean_Squared_Error: 470.0369 - MassOutput_Mean_Squared_Error: 0.0588 - val_loss: 0.8000 - val_MultivariateLoss_loss: -12.6782 - val_MassOutput_loss: 1.4350 - val_MultivariateLoss_Mean_Squared_Error: 461.3792 - val_MassOutput_Mean_Squared_Error: 0.0588 - lr: 1.0000e-04\n",
      "Epoch 22/1000\n",
      "1058/1058 [==============================] - 24s 22ms/step - loss: 0.5768 - MultivariateLoss_loss: -12.7314 - MassOutput_loss: 1.4349 - MultivariateLoss_Mean_Squared_Error: 470.0164 - MassOutput_Mean_Squared_Error: 0.0588 - val_loss: 1.5111 - val_MultivariateLoss_loss: -11.6303 - val_MassOutput_loss: 1.4342 - val_MultivariateLoss_Mean_Squared_Error: 461.3717 - val_MassOutput_Mean_Squared_Error: 0.0588 - lr: 1.0000e-04\n",
      "Epoch 23/1000\n",
      "1058/1058 [==============================] - 23s 22ms/step - loss: 0.0559 - MultivariateLoss_loss: -12.9316 - MassOutput_loss: 1.4349 - MultivariateLoss_Mean_Squared_Error: 469.9993 - MassOutput_Mean_Squared_Error: 0.0588 - val_loss: 2.2720 - val_MultivariateLoss_loss: -10.5683 - val_MassOutput_loss: 1.4380 - val_MultivariateLoss_Mean_Squared_Error: 461.2952 - val_MassOutput_Mean_Squared_Error: 0.0589 - lr: 1.0000e-04\n",
      "Epoch 24/1000\n",
      "1058/1058 [==============================] - 23s 22ms/step - loss: -0.4167 - MultivariateLoss_loss: -13.1097 - MassOutput_loss: 1.4344 - MultivariateLoss_Mean_Squared_Error: 469.9539 - MassOutput_Mean_Squared_Error: 0.0588 - val_loss: -0.6973 - val_MultivariateLoss_loss: -13.2505 - val_MassOutput_loss: 1.4344 - val_MultivariateLoss_Mean_Squared_Error: 461.3571 - val_MassOutput_Mean_Squared_Error: 0.0587 - lr: 1.0000e-04\n",
      "Epoch 25/1000\n",
      "1058/1058 [==============================] - 23s 22ms/step - loss: -0.8572 - MultivariateLoss_loss: -13.2772 - MassOutput_loss: 1.4346 - MultivariateLoss_Mean_Squared_Error: 469.9629 - MassOutput_Mean_Squared_Error: 0.0588 - val_loss: 0.3194 - val_MultivariateLoss_loss: -11.9699 - val_MassOutput_loss: 1.4343 - val_MultivariateLoss_Mean_Squared_Error: 461.2905 - val_MassOutput_Mean_Squared_Error: 0.0587 - lr: 1.0000e-04\n",
      "Epoch 26/1000\n",
      "1058/1058 [==============================] - 24s 22ms/step - loss: -1.2554 - MultivariateLoss_loss: -13.4204 - MassOutput_loss: 1.4341 - MultivariateLoss_Mean_Squared_Error: 469.9464 - MassOutput_Mean_Squared_Error: 0.0587 - val_loss: -1.5495 - val_MultivariateLoss_loss: -13.5920 - val_MassOutput_loss: 1.4344 - val_MultivariateLoss_Mean_Squared_Error: 461.2790 - val_MassOutput_Mean_Squared_Error: 0.0588 - lr: 1.0000e-04\n",
      "Epoch 27/1000\n",
      "1058/1058 [==============================] - 23s 22ms/step - loss: -1.6257 - MultivariateLoss_loss: -13.5517 - MassOutput_loss: 1.4345 - MultivariateLoss_Mean_Squared_Error: 469.9503 - MassOutput_Mean_Squared_Error: 0.0588 - val_loss: -1.7420 - val_MultivariateLoss_loss: -13.5538 - val_MassOutput_loss: 1.4346 - val_MultivariateLoss_Mean_Squared_Error: 461.2635 - val_MassOutput_Mean_Squared_Error: 0.0588 - lr: 1.0000e-04\n",
      "Epoch 28/1000\n",
      "1058/1058 [==============================] - 23s 22ms/step - loss: -2.0134 - MultivariateLoss_loss: -13.7147 - MassOutput_loss: 1.4347 - MultivariateLoss_Mean_Squared_Error: 469.9253 - MassOutput_Mean_Squared_Error: 0.0588 - val_loss: -1.8238 - val_MultivariateLoss_loss: -13.4154 - val_MassOutput_loss: 1.4343 - val_MultivariateLoss_Mean_Squared_Error: 461.2772 - val_MassOutput_Mean_Squared_Error: 0.0587 - lr: 1.0000e-04\n",
      "Epoch 29/1000\n",
      "1058/1058 [==============================] - 23s 22ms/step - loss: -2.3445 - MultivariateLoss_loss: -13.8312 - MassOutput_loss: 1.4341 - MultivariateLoss_Mean_Squared_Error: 469.9240 - MassOutput_Mean_Squared_Error: 0.0587 - val_loss: -2.2194 - val_MultivariateLoss_loss: -13.6072 - val_MassOutput_loss: 1.4379 - val_MultivariateLoss_Mean_Squared_Error: 461.2806 - val_MassOutput_Mean_Squared_Error: 0.0588 - lr: 1.0000e-04\n",
      "Epoch 30/1000\n",
      "1058/1058 [==============================] - 23s 22ms/step - loss: -2.6638 - MultivariateLoss_loss: -13.9484 - MassOutput_loss: 1.4342 - MultivariateLoss_Mean_Squared_Error: 469.9289 - MassOutput_Mean_Squared_Error: 0.0587 - val_loss: -2.5569 - val_MultivariateLoss_loss: -13.7451 - val_MassOutput_loss: 1.4361 - val_MultivariateLoss_Mean_Squared_Error: 461.2565 - val_MassOutput_Mean_Squared_Error: 0.0588 - lr: 1.0000e-04\n",
      "Epoch 31/1000\n",
      "1058/1058 [==============================] - 23s 22ms/step - loss: -2.9624 - MultivariateLoss_loss: -14.0535 - MassOutput_loss: 1.4335 - MultivariateLoss_Mean_Squared_Error: 469.9158 - MassOutput_Mean_Squared_Error: 0.0587 - val_loss: -2.4859 - val_MultivariateLoss_loss: -13.4841 - val_MassOutput_loss: 1.4343 - val_MultivariateLoss_Mean_Squared_Error: 461.2448 - val_MassOutput_Mean_Squared_Error: 0.0587 - lr: 1.0000e-04\n",
      "Epoch 32/1000\n",
      "1058/1058 [==============================] - 23s 22ms/step - loss: -3.2627 - MultivariateLoss_loss: -14.1700 - MassOutput_loss: 1.4338 - MultivariateLoss_Mean_Squared_Error: 469.9043 - MassOutput_Mean_Squared_Error: 0.0587 - val_loss: -3.4590 - val_MultivariateLoss_loss: -14.2813 - val_MassOutput_loss: 1.4378 - val_MultivariateLoss_Mean_Squared_Error: 461.2681 - val_MassOutput_Mean_Squared_Error: 0.0589 - lr: 1.0000e-04\n",
      "Epoch 33/1000\n",
      "1058/1058 [==============================] - 23s 22ms/step - loss: -3.5294 - MultivariateLoss_loss: -14.2616 - MassOutput_loss: 1.4333 - MultivariateLoss_Mean_Squared_Error: 469.9011 - MassOutput_Mean_Squared_Error: 0.0587 - val_loss: -2.7207 - val_MultivariateLoss_loss: -13.3744 - val_MassOutput_loss: 1.4412 - val_MultivariateLoss_Mean_Squared_Error: 461.2185 - val_MassOutput_Mean_Squared_Error: 0.0590 - lr: 1.0000e-04\n",
      "Epoch 34/1000\n",
      "1058/1058 [==============================] - 23s 22ms/step - loss: -3.7202 - MultivariateLoss_loss: -14.2841 - MassOutput_loss: 1.4335 - MultivariateLoss_Mean_Squared_Error: 469.8929 - MassOutput_Mean_Squared_Error: 0.0587 - val_loss: -3.5628 - val_MultivariateLoss_loss: -14.0489 - val_MassOutput_loss: 1.4369 - val_MultivariateLoss_Mean_Squared_Error: 461.1937 - val_MassOutput_Mean_Squared_Error: 0.0588 - lr: 1.0000e-04\n",
      "Epoch 35/1000\n",
      "1058/1058 [==============================] - 23s 22ms/step - loss: -4.0070 - MultivariateLoss_loss: -14.4102 - MassOutput_loss: 1.4338 - MultivariateLoss_Mean_Squared_Error: 469.8891 - MassOutput_Mean_Squared_Error: 0.0587 - val_loss: -3.4323 - val_MultivariateLoss_loss: -13.7589 - val_MassOutput_loss: 1.4343 - val_MultivariateLoss_Mean_Squared_Error: 461.2044 - val_MassOutput_Mean_Squared_Error: 0.0588 - lr: 1.0000e-04\n",
      "Epoch 36/1000\n",
      "1058/1058 [==============================] - 23s 22ms/step - loss: -4.2398 - MultivariateLoss_loss: -14.4895 - MassOutput_loss: 1.4332 - MultivariateLoss_Mean_Squared_Error: 469.8820 - MassOutput_Mean_Squared_Error: 0.0587 - val_loss: -3.5474 - val_MultivariateLoss_loss: -13.7219 - val_MassOutput_loss: 1.4337 - val_MultivariateLoss_Mean_Squared_Error: 461.2024 - val_MassOutput_Mean_Squared_Error: 0.0587 - lr: 1.0000e-04\n",
      "Epoch 37/1000\n",
      "1058/1058 [==============================] - 24s 22ms/step - loss: -4.4767 - MultivariateLoss_loss: -14.5774 - MassOutput_loss: 1.4335 - MultivariateLoss_Mean_Squared_Error: 469.8800 - MassOutput_Mean_Squared_Error: 0.0587 - val_loss: -4.0694 - val_MultivariateLoss_loss: -14.0994 - val_MassOutput_loss: 1.4347 - val_MultivariateLoss_Mean_Squared_Error: 461.2308 - val_MassOutput_Mean_Squared_Error: 0.0588 - lr: 1.0000e-04\n",
      "Epoch 38/1000\n",
      "1058/1058 [==============================] - 23s 22ms/step - loss: -4.6543 - MultivariateLoss_loss: -14.6124 - MassOutput_loss: 1.4329 - MultivariateLoss_Mean_Squared_Error: 469.8771 - MassOutput_Mean_Squared_Error: 0.0587 - val_loss: -3.7587 - val_MultivariateLoss_loss: -13.6488 - val_MassOutput_loss: 1.4342 - val_MultivariateLoss_Mean_Squared_Error: 461.1950 - val_MassOutput_Mean_Squared_Error: 0.0587 - lr: 1.0000e-04\n",
      "Epoch 39/1000\n",
      "1058/1058 [==============================] - 23s 22ms/step - loss: -4.8921 - MultivariateLoss_loss: -14.7133 - MassOutput_loss: 1.4330 - MultivariateLoss_Mean_Squared_Error: 469.8723 - MassOutput_Mean_Squared_Error: 0.0587 - val_loss: -4.9809 - val_MultivariateLoss_loss: -14.7418 - val_MassOutput_loss: 1.4402 - val_MultivariateLoss_Mean_Squared_Error: 461.1980 - val_MassOutput_Mean_Squared_Error: 0.0591 - lr: 1.0000e-04\n",
      "Epoch 40/1000\n",
      "1058/1058 [==============================] - 24s 22ms/step - loss: -5.0852 - MultivariateLoss_loss: -14.7737 - MassOutput_loss: 1.4329 - MultivariateLoss_Mean_Squared_Error: 469.8771 - MassOutput_Mean_Squared_Error: 0.0587 - val_loss: -4.3110 - val_MultivariateLoss_loss: -13.9393 - val_MassOutput_loss: 1.4375 - val_MultivariateLoss_Mean_Squared_Error: 461.2333 - val_MassOutput_Mean_Squared_Error: 0.0588 - lr: 1.0000e-04\n",
      "Epoch 41/1000\n",
      "1058/1058 [==============================] - 33s 31ms/step - loss: -5.2656 - MultivariateLoss_loss: -14.8267 - MassOutput_loss: 1.4331 - MultivariateLoss_Mean_Squared_Error: 469.8655 - MassOutput_Mean_Squared_Error: 0.0587 - val_loss: -4.3910 - val_MultivariateLoss_loss: -13.8896 - val_MassOutput_loss: 1.4334 - val_MultivariateLoss_Mean_Squared_Error: 461.1935 - val_MassOutput_Mean_Squared_Error: 0.0587 - lr: 1.0000e-04\n",
      "Epoch 42/1000\n",
      "1058/1058 [==============================] - 37s 35ms/step - loss: -5.4353 - MultivariateLoss_loss: -14.8736 - MassOutput_loss: 1.4330 - MultivariateLoss_Mean_Squared_Error: 469.8702 - MassOutput_Mean_Squared_Error: 0.0587 - val_loss: -5.3370 - val_MultivariateLoss_loss: -14.7149 - val_MassOutput_loss: 1.4327 - val_MultivariateLoss_Mean_Squared_Error: 461.1754 - val_MassOutput_Mean_Squared_Error: 0.0587 - lr: 1.0000e-04\n",
      "Epoch 43/1000\n",
      "1058/1058 [==============================] - 38s 36ms/step - loss: -5.6461 - MultivariateLoss_loss: -14.9652 - MassOutput_loss: 1.4327 - MultivariateLoss_Mean_Squared_Error: 469.8638 - MassOutput_Mean_Squared_Error: 0.0587 - val_loss: -5.5263 - val_MultivariateLoss_loss: -14.7889 - val_MassOutput_loss: 1.4343 - val_MultivariateLoss_Mean_Squared_Error: 461.2023 - val_MassOutput_Mean_Squared_Error: 0.0587 - lr: 1.0000e-04\n",
      "Epoch 44/1000\n",
      "1058/1058 [==============================] - 38s 36ms/step - loss: -5.7769 - MultivariateLoss_loss: -14.9811 - MassOutput_loss: 1.4323 - MultivariateLoss_Mean_Squared_Error: 469.8587 - MassOutput_Mean_Squared_Error: 0.0587 - val_loss: -5.3230 - val_MultivariateLoss_loss: -14.4746 - val_MassOutput_loss: 1.4361 - val_MultivariateLoss_Mean_Squared_Error: 461.1737 - val_MassOutput_Mean_Squared_Error: 0.0588 - lr: 1.0000e-04\n",
      "Epoch 45/1000\n",
      "1058/1058 [==============================] - 39s 37ms/step - loss: -5.9748 - MultivariateLoss_loss: -15.0681 - MassOutput_loss: 1.4326 - MultivariateLoss_Mean_Squared_Error: 469.8549 - MassOutput_Mean_Squared_Error: 0.0587 - val_loss: -5.6270 - val_MultivariateLoss_loss: -14.6686 - val_MassOutput_loss: 1.4359 - val_MultivariateLoss_Mean_Squared_Error: 461.1882 - val_MassOutput_Mean_Squared_Error: 0.0589 - lr: 1.0000e-04\n",
      "Epoch 46/1000\n",
      "1058/1058 [==============================] - 29s 28ms/step - loss: -6.1171 - MultivariateLoss_loss: -15.1021 - MassOutput_loss: 1.4321 - MultivariateLoss_Mean_Squared_Error: 469.8507 - MassOutput_Mean_Squared_Error: 0.0587 - val_loss: -5.7164 - val_MultivariateLoss_loss: -14.6515 - val_MassOutput_loss: 1.4341 - val_MultivariateLoss_Mean_Squared_Error: 461.2029 - val_MassOutput_Mean_Squared_Error: 0.0587 - lr: 1.0000e-04\n",
      "Epoch 47/1000\n",
      "1058/1058 [==============================] - 42s 39ms/step - loss: -6.2566 - MultivariateLoss_loss: -15.1381 - MassOutput_loss: 1.4323 - MultivariateLoss_Mean_Squared_Error: 469.8592 - MassOutput_Mean_Squared_Error: 0.0587 - val_loss: -4.0908 - val_MultivariateLoss_loss: -12.9219 - val_MassOutput_loss: 1.4335 - val_MultivariateLoss_Mean_Squared_Error: 461.1841 - val_MassOutput_Mean_Squared_Error: 0.0587 - lr: 1.0000e-04\n",
      "Epoch 48/1000\n",
      "1058/1058 [==============================] - 39s 37ms/step - loss: -6.4064 - MultivariateLoss_loss: -15.1858 - MassOutput_loss: 1.4319 - MultivariateLoss_Mean_Squared_Error: 469.8535 - MassOutput_Mean_Squared_Error: 0.0587 - val_loss: -3.9942 - val_MultivariateLoss_loss: -12.7250 - val_MassOutput_loss: 1.4330 - val_MultivariateLoss_Mean_Squared_Error: 461.1776 - val_MassOutput_Mean_Squared_Error: 0.0587 - lr: 1.0000e-04\n",
      "Epoch 49/1000\n",
      "1058/1058 [==============================] - 27s 26ms/step - loss: -6.5734 - MultivariateLoss_loss: -15.2548 - MassOutput_loss: 1.4319 - MultivariateLoss_Mean_Squared_Error: 469.8503 - MassOutput_Mean_Squared_Error: 0.0587 - val_loss: -5.5328 - val_MultivariateLoss_loss: -14.1655 - val_MassOutput_loss: 1.4316 - val_MultivariateLoss_Mean_Squared_Error: 461.2015 - val_MassOutput_Mean_Squared_Error: 0.0587 - lr: 1.0000e-04\n",
      "Epoch 50/1000\n",
      "1058/1058 [==============================] - 21s 20ms/step - loss: -6.7185 - MultivariateLoss_loss: -15.3046 - MassOutput_loss: 1.4317 - MultivariateLoss_Mean_Squared_Error: 469.8521 - MassOutput_Mean_Squared_Error: 0.0587 - val_loss: -6.7075 - val_MultivariateLoss_loss: -15.2476 - val_MassOutput_loss: 1.4332 - val_MultivariateLoss_Mean_Squared_Error: 461.1780 - val_MassOutput_Mean_Squared_Error: 0.0587 - lr: 1.0000e-04\n",
      "Epoch 51/1000\n",
      "1058/1058 [==============================] - 21s 20ms/step - loss: -6.8646 - MultivariateLoss_loss: -15.3572 - MassOutput_loss: 1.4317 - MultivariateLoss_Mean_Squared_Error: 469.8379 - MassOutput_Mean_Squared_Error: 0.0587 - val_loss: -6.0002 - val_MultivariateLoss_loss: -14.4560 - val_MassOutput_loss: 1.4406 - val_MultivariateLoss_Mean_Squared_Error: 461.1472 - val_MassOutput_Mean_Squared_Error: 0.0590 - lr: 1.0000e-04\n",
      "Epoch 52/1000\n",
      "1058/1058 [==============================] - 22s 20ms/step - loss: -6.9825 - MultivariateLoss_loss: -15.3852 - MassOutput_loss: 1.4316 - MultivariateLoss_Mean_Squared_Error: 469.8354 - MassOutput_Mean_Squared_Error: 0.0587 - val_loss: -6.8882 - val_MultivariateLoss_loss: -15.2481 - val_MassOutput_loss: 1.4331 - val_MultivariateLoss_Mean_Squared_Error: 461.1509 - val_MassOutput_Mean_Squared_Error: 0.0587 - lr: 1.0000e-04\n",
      "Epoch 53/1000\n",
      "1058/1058 [==============================] - 21s 20ms/step - loss: -7.0765 - MultivariateLoss_loss: -15.3929 - MassOutput_loss: 1.4317 - MultivariateLoss_Mean_Squared_Error: 469.8319 - MassOutput_Mean_Squared_Error: 0.0587 - val_loss: -5.8531 - val_MultivariateLoss_loss: -14.1267 - val_MassOutput_loss: 1.4327 - val_MultivariateLoss_Mean_Squared_Error: 461.1722 - val_MassOutput_Mean_Squared_Error: 0.0587 - lr: 1.0000e-04\n",
      "Epoch 54/1000\n",
      "1058/1058 [==============================] - 21s 20ms/step - loss: -7.2482 - MultivariateLoss_loss: -15.4785 - MassOutput_loss: 1.4314 - MultivariateLoss_Mean_Squared_Error: 469.8313 - MassOutput_Mean_Squared_Error: 0.0587 - val_loss: -5.4920 - val_MultivariateLoss_loss: -13.6891 - val_MassOutput_loss: 1.4406 - val_MultivariateLoss_Mean_Squared_Error: 461.1245 - val_MassOutput_Mean_Squared_Error: 0.0589 - lr: 1.0000e-04\n",
      "Epoch 55/1000\n",
      "1058/1058 [==============================] - 22s 20ms/step - loss: -7.3720 - MultivariateLoss_loss: -15.5186 - MassOutput_loss: 1.4314 - MultivariateLoss_Mean_Squared_Error: 469.8301 - MassOutput_Mean_Squared_Error: 0.0587 - val_loss: -5.7698 - val_MultivariateLoss_loss: -13.8757 - val_MassOutput_loss: 1.4321 - val_MultivariateLoss_Mean_Squared_Error: 461.1369 - val_MassOutput_Mean_Squared_Error: 0.0587 - lr: 1.0000e-04\n",
      "Epoch 56/1000\n",
      " 487/1058 [============>.................] - ETA: 10s - loss: -7.4045 - MultivariateLoss_loss: -15.4945 - MassOutput_loss: 1.4340 - MultivariateLoss_Mean_Squared_Error: 482.9529 - MassOutput_Mean_Squared_Error: 0.0588"
     ]
    },
    {
     "ename": "KeyboardInterrupt",
     "evalue": "",
     "output_type": "error",
     "traceback": [
      "\u001b[0;31m---------------------------------------------------------------------------\u001b[0m",
      "\u001b[0;31mKeyboardInterrupt\u001b[0m                         Traceback (most recent call last)",
      "\u001b[0;32m/tmp/ipykernel_15737/192768184.py\u001b[0m in \u001b[0;36m<module>\u001b[0;34m\u001b[0m\n\u001b[0;32m----> 1\u001b[0;31m history  = DeepSetProjector.fit(\n\u001b[0m\u001b[1;32m      2\u001b[0m     \u001b[0;34m(\u001b[0m\u001b[0mtracks_encoded\u001b[0m\u001b[0;34m,\u001b[0m \u001b[0mjets_encoded\u001b[0m\u001b[0;34m)\u001b[0m\u001b[0;34m,\u001b[0m \u001b[0my\u001b[0m \u001b[0;34m=\u001b[0m \u001b[0;34m{\u001b[0m\u001b[0;34m\"MultivariateLoss\"\u001b[0m\u001b[0;34m:\u001b[0m\u001b[0mbhads_targets_clean\u001b[0m\u001b[0;34m,\u001b[0m \u001b[0;34m\"MassOutput\"\u001b[0m\u001b[0;34m:\u001b[0m\u001b[0monehot\u001b[0m\u001b[0;34m}\u001b[0m\u001b[0;34m,\u001b[0m\u001b[0;34m\u001b[0m\u001b[0;34m\u001b[0m\u001b[0m\n\u001b[1;32m      3\u001b[0m     \u001b[0mvalidation_split\u001b[0m \u001b[0;34m=\u001b[0m \u001b[0;36m0.3\u001b[0m\u001b[0;34m,\u001b[0m\u001b[0;34m\u001b[0m\u001b[0;34m\u001b[0m\u001b[0m\n\u001b[1;32m      4\u001b[0m     \u001b[0mepochs\u001b[0m \u001b[0;34m=\u001b[0m \u001b[0mEPOCHS\u001b[0m\u001b[0;34m,\u001b[0m\u001b[0;34m\u001b[0m\u001b[0;34m\u001b[0m\u001b[0m\n\u001b[1;32m      5\u001b[0m     \u001b[0mbatch_size\u001b[0m \u001b[0;34m=\u001b[0m \u001b[0mBATCHSIZE\u001b[0m\u001b[0;34m,\u001b[0m\u001b[0;34m\u001b[0m\u001b[0;34m\u001b[0m\u001b[0m\n",
      "\u001b[0;32m~/anaconda3/envs/SpocFit/lib/python3.9/site-packages/keras/utils/traceback_utils.py\u001b[0m in \u001b[0;36merror_handler\u001b[0;34m(*args, **kwargs)\u001b[0m\n\u001b[1;32m     63\u001b[0m         \u001b[0mfiltered_tb\u001b[0m \u001b[0;34m=\u001b[0m \u001b[0;32mNone\u001b[0m\u001b[0;34m\u001b[0m\u001b[0;34m\u001b[0m\u001b[0m\n\u001b[1;32m     64\u001b[0m         \u001b[0;32mtry\u001b[0m\u001b[0;34m:\u001b[0m\u001b[0;34m\u001b[0m\u001b[0;34m\u001b[0m\u001b[0m\n\u001b[0;32m---> 65\u001b[0;31m             \u001b[0;32mreturn\u001b[0m \u001b[0mfn\u001b[0m\u001b[0;34m(\u001b[0m\u001b[0;34m*\u001b[0m\u001b[0margs\u001b[0m\u001b[0;34m,\u001b[0m \u001b[0;34m**\u001b[0m\u001b[0mkwargs\u001b[0m\u001b[0;34m)\u001b[0m\u001b[0;34m\u001b[0m\u001b[0;34m\u001b[0m\u001b[0m\n\u001b[0m\u001b[1;32m     66\u001b[0m         \u001b[0;32mexcept\u001b[0m \u001b[0mException\u001b[0m \u001b[0;32mas\u001b[0m \u001b[0me\u001b[0m\u001b[0;34m:\u001b[0m\u001b[0;34m\u001b[0m\u001b[0;34m\u001b[0m\u001b[0m\n\u001b[1;32m     67\u001b[0m             \u001b[0mfiltered_tb\u001b[0m \u001b[0;34m=\u001b[0m \u001b[0m_process_traceback_frames\u001b[0m\u001b[0;34m(\u001b[0m\u001b[0me\u001b[0m\u001b[0;34m.\u001b[0m\u001b[0m__traceback__\u001b[0m\u001b[0;34m)\u001b[0m\u001b[0;34m\u001b[0m\u001b[0;34m\u001b[0m\u001b[0m\n",
      "\u001b[0;32m~/anaconda3/envs/SpocFit/lib/python3.9/site-packages/keras/engine/training.py\u001b[0m in \u001b[0;36mfit\u001b[0;34m(self, x, y, batch_size, epochs, verbose, callbacks, validation_split, validation_data, shuffle, class_weight, sample_weight, initial_epoch, steps_per_epoch, validation_steps, validation_batch_size, validation_freq, max_queue_size, workers, use_multiprocessing)\u001b[0m\n\u001b[1;32m   1648\u001b[0m                         ):\n\u001b[1;32m   1649\u001b[0m                             \u001b[0mcallbacks\u001b[0m\u001b[0;34m.\u001b[0m\u001b[0mon_train_batch_begin\u001b[0m\u001b[0;34m(\u001b[0m\u001b[0mstep\u001b[0m\u001b[0;34m)\u001b[0m\u001b[0;34m\u001b[0m\u001b[0;34m\u001b[0m\u001b[0m\n\u001b[0;32m-> 1650\u001b[0;31m                             \u001b[0mtmp_logs\u001b[0m \u001b[0;34m=\u001b[0m \u001b[0mself\u001b[0m\u001b[0;34m.\u001b[0m\u001b[0mtrain_function\u001b[0m\u001b[0;34m(\u001b[0m\u001b[0miterator\u001b[0m\u001b[0;34m)\u001b[0m\u001b[0;34m\u001b[0m\u001b[0;34m\u001b[0m\u001b[0m\n\u001b[0m\u001b[1;32m   1651\u001b[0m                             \u001b[0;32mif\u001b[0m \u001b[0mdata_handler\u001b[0m\u001b[0;34m.\u001b[0m\u001b[0mshould_sync\u001b[0m\u001b[0;34m:\u001b[0m\u001b[0;34m\u001b[0m\u001b[0;34m\u001b[0m\u001b[0m\n\u001b[1;32m   1652\u001b[0m                                 \u001b[0mcontext\u001b[0m\u001b[0;34m.\u001b[0m\u001b[0masync_wait\u001b[0m\u001b[0;34m(\u001b[0m\u001b[0;34m)\u001b[0m\u001b[0;34m\u001b[0m\u001b[0;34m\u001b[0m\u001b[0m\n",
      "\u001b[0;32m~/anaconda3/envs/SpocFit/lib/python3.9/site-packages/tensorflow/python/util/traceback_utils.py\u001b[0m in \u001b[0;36merror_handler\u001b[0;34m(*args, **kwargs)\u001b[0m\n\u001b[1;32m    148\u001b[0m     \u001b[0mfiltered_tb\u001b[0m \u001b[0;34m=\u001b[0m \u001b[0;32mNone\u001b[0m\u001b[0;34m\u001b[0m\u001b[0;34m\u001b[0m\u001b[0m\n\u001b[1;32m    149\u001b[0m     \u001b[0;32mtry\u001b[0m\u001b[0;34m:\u001b[0m\u001b[0;34m\u001b[0m\u001b[0;34m\u001b[0m\u001b[0m\n\u001b[0;32m--> 150\u001b[0;31m       \u001b[0;32mreturn\u001b[0m \u001b[0mfn\u001b[0m\u001b[0;34m(\u001b[0m\u001b[0;34m*\u001b[0m\u001b[0margs\u001b[0m\u001b[0;34m,\u001b[0m \u001b[0;34m**\u001b[0m\u001b[0mkwargs\u001b[0m\u001b[0;34m)\u001b[0m\u001b[0;34m\u001b[0m\u001b[0;34m\u001b[0m\u001b[0m\n\u001b[0m\u001b[1;32m    151\u001b[0m     \u001b[0;32mexcept\u001b[0m \u001b[0mException\u001b[0m \u001b[0;32mas\u001b[0m \u001b[0me\u001b[0m\u001b[0;34m:\u001b[0m\u001b[0;34m\u001b[0m\u001b[0;34m\u001b[0m\u001b[0m\n\u001b[1;32m    152\u001b[0m       \u001b[0mfiltered_tb\u001b[0m \u001b[0;34m=\u001b[0m \u001b[0m_process_traceback_frames\u001b[0m\u001b[0;34m(\u001b[0m\u001b[0me\u001b[0m\u001b[0;34m.\u001b[0m\u001b[0m__traceback__\u001b[0m\u001b[0;34m)\u001b[0m\u001b[0;34m\u001b[0m\u001b[0;34m\u001b[0m\u001b[0m\n",
      "\u001b[0;32m~/anaconda3/envs/SpocFit/lib/python3.9/site-packages/tensorflow/python/eager/polymorphic_function/polymorphic_function.py\u001b[0m in \u001b[0;36m__call__\u001b[0;34m(self, *args, **kwds)\u001b[0m\n\u001b[1;32m    878\u001b[0m \u001b[0;34m\u001b[0m\u001b[0m\n\u001b[1;32m    879\u001b[0m       \u001b[0;32mwith\u001b[0m \u001b[0mOptionalXlaContext\u001b[0m\u001b[0;34m(\u001b[0m\u001b[0mself\u001b[0m\u001b[0;34m.\u001b[0m\u001b[0m_jit_compile\u001b[0m\u001b[0;34m)\u001b[0m\u001b[0;34m:\u001b[0m\u001b[0;34m\u001b[0m\u001b[0;34m\u001b[0m\u001b[0m\n\u001b[0;32m--> 880\u001b[0;31m         \u001b[0mresult\u001b[0m \u001b[0;34m=\u001b[0m \u001b[0mself\u001b[0m\u001b[0;34m.\u001b[0m\u001b[0m_call\u001b[0m\u001b[0;34m(\u001b[0m\u001b[0;34m*\u001b[0m\u001b[0margs\u001b[0m\u001b[0;34m,\u001b[0m \u001b[0;34m**\u001b[0m\u001b[0mkwds\u001b[0m\u001b[0;34m)\u001b[0m\u001b[0;34m\u001b[0m\u001b[0;34m\u001b[0m\u001b[0m\n\u001b[0m\u001b[1;32m    881\u001b[0m \u001b[0;34m\u001b[0m\u001b[0m\n\u001b[1;32m    882\u001b[0m       \u001b[0mnew_tracing_count\u001b[0m \u001b[0;34m=\u001b[0m \u001b[0mself\u001b[0m\u001b[0;34m.\u001b[0m\u001b[0mexperimental_get_tracing_count\u001b[0m\u001b[0;34m(\u001b[0m\u001b[0;34m)\u001b[0m\u001b[0;34m\u001b[0m\u001b[0;34m\u001b[0m\u001b[0m\n",
      "\u001b[0;32m~/anaconda3/envs/SpocFit/lib/python3.9/site-packages/tensorflow/python/eager/polymorphic_function/polymorphic_function.py\u001b[0m in \u001b[0;36m_call\u001b[0;34m(self, *args, **kwds)\u001b[0m\n\u001b[1;32m    910\u001b[0m       \u001b[0;31m# In this case we have created variables on the first call, so we run the\u001b[0m\u001b[0;34m\u001b[0m\u001b[0;34m\u001b[0m\u001b[0m\n\u001b[1;32m    911\u001b[0m       \u001b[0;31m# defunned version which is guaranteed to never create variables.\u001b[0m\u001b[0;34m\u001b[0m\u001b[0;34m\u001b[0m\u001b[0m\n\u001b[0;32m--> 912\u001b[0;31m       \u001b[0;32mreturn\u001b[0m \u001b[0mself\u001b[0m\u001b[0;34m.\u001b[0m\u001b[0m_no_variable_creation_fn\u001b[0m\u001b[0;34m(\u001b[0m\u001b[0;34m*\u001b[0m\u001b[0margs\u001b[0m\u001b[0;34m,\u001b[0m \u001b[0;34m**\u001b[0m\u001b[0mkwds\u001b[0m\u001b[0;34m)\u001b[0m  \u001b[0;31m# pylint: disable=not-callable\u001b[0m\u001b[0;34m\u001b[0m\u001b[0;34m\u001b[0m\u001b[0m\n\u001b[0m\u001b[1;32m    913\u001b[0m     \u001b[0;32melif\u001b[0m \u001b[0mself\u001b[0m\u001b[0;34m.\u001b[0m\u001b[0m_variable_creation_fn\u001b[0m \u001b[0;32mis\u001b[0m \u001b[0;32mnot\u001b[0m \u001b[0;32mNone\u001b[0m\u001b[0;34m:\u001b[0m\u001b[0;34m\u001b[0m\u001b[0;34m\u001b[0m\u001b[0m\n\u001b[1;32m    914\u001b[0m       \u001b[0;31m# Release the lock early so that multiple threads can perform the call\u001b[0m\u001b[0;34m\u001b[0m\u001b[0;34m\u001b[0m\u001b[0m\n",
      "\u001b[0;32m~/anaconda3/envs/SpocFit/lib/python3.9/site-packages/tensorflow/python/eager/polymorphic_function/tracing_compiler.py\u001b[0m in \u001b[0;36m__call__\u001b[0;34m(self, *args, **kwargs)\u001b[0m\n\u001b[1;32m    132\u001b[0m       (concrete_function,\n\u001b[1;32m    133\u001b[0m        filtered_flat_args) = self._maybe_define_function(args, kwargs)\n\u001b[0;32m--> 134\u001b[0;31m     return concrete_function._call_flat(\n\u001b[0m\u001b[1;32m    135\u001b[0m         filtered_flat_args, captured_inputs=concrete_function.captured_inputs)  # pylint: disable=protected-access\n\u001b[1;32m    136\u001b[0m \u001b[0;34m\u001b[0m\u001b[0m\n",
      "\u001b[0;32m~/anaconda3/envs/SpocFit/lib/python3.9/site-packages/tensorflow/python/eager/polymorphic_function/monomorphic_function.py\u001b[0m in \u001b[0;36m_call_flat\u001b[0;34m(self, args, captured_inputs, cancellation_manager)\u001b[0m\n\u001b[1;32m   1743\u001b[0m         and executing_eagerly):\n\u001b[1;32m   1744\u001b[0m       \u001b[0;31m# No tape is watching; skip to running the function.\u001b[0m\u001b[0;34m\u001b[0m\u001b[0;34m\u001b[0m\u001b[0m\n\u001b[0;32m-> 1745\u001b[0;31m       return self._build_call_outputs(self._inference_function.call(\n\u001b[0m\u001b[1;32m   1746\u001b[0m           ctx, args, cancellation_manager=cancellation_manager))\n\u001b[1;32m   1747\u001b[0m     forward_backward = self._select_forward_and_backward_functions(\n",
      "\u001b[0;32m~/anaconda3/envs/SpocFit/lib/python3.9/site-packages/tensorflow/python/eager/polymorphic_function/monomorphic_function.py\u001b[0m in \u001b[0;36mcall\u001b[0;34m(self, ctx, args, cancellation_manager)\u001b[0m\n\u001b[1;32m    376\u001b[0m       \u001b[0;32mwith\u001b[0m \u001b[0m_InterpolateFunctionError\u001b[0m\u001b[0;34m(\u001b[0m\u001b[0mself\u001b[0m\u001b[0;34m)\u001b[0m\u001b[0;34m:\u001b[0m\u001b[0;34m\u001b[0m\u001b[0;34m\u001b[0m\u001b[0m\n\u001b[1;32m    377\u001b[0m         \u001b[0;32mif\u001b[0m \u001b[0mcancellation_manager\u001b[0m \u001b[0;32mis\u001b[0m \u001b[0;32mNone\u001b[0m\u001b[0;34m:\u001b[0m\u001b[0;34m\u001b[0m\u001b[0;34m\u001b[0m\u001b[0m\n\u001b[0;32m--> 378\u001b[0;31m           outputs = execute.execute(\n\u001b[0m\u001b[1;32m    379\u001b[0m               \u001b[0mstr\u001b[0m\u001b[0;34m(\u001b[0m\u001b[0mself\u001b[0m\u001b[0;34m.\u001b[0m\u001b[0msignature\u001b[0m\u001b[0;34m.\u001b[0m\u001b[0mname\u001b[0m\u001b[0;34m)\u001b[0m\u001b[0;34m,\u001b[0m\u001b[0;34m\u001b[0m\u001b[0;34m\u001b[0m\u001b[0m\n\u001b[1;32m    380\u001b[0m               \u001b[0mnum_outputs\u001b[0m\u001b[0;34m=\u001b[0m\u001b[0mself\u001b[0m\u001b[0;34m.\u001b[0m\u001b[0m_num_outputs\u001b[0m\u001b[0;34m,\u001b[0m\u001b[0;34m\u001b[0m\u001b[0;34m\u001b[0m\u001b[0m\n",
      "\u001b[0;32m~/anaconda3/envs/SpocFit/lib/python3.9/site-packages/tensorflow/python/eager/execute.py\u001b[0m in \u001b[0;36mquick_execute\u001b[0;34m(op_name, num_outputs, inputs, attrs, ctx, name)\u001b[0m\n\u001b[1;32m     50\u001b[0m   \u001b[0;32mtry\u001b[0m\u001b[0;34m:\u001b[0m\u001b[0;34m\u001b[0m\u001b[0;34m\u001b[0m\u001b[0m\n\u001b[1;32m     51\u001b[0m     \u001b[0mctx\u001b[0m\u001b[0;34m.\u001b[0m\u001b[0mensure_initialized\u001b[0m\u001b[0;34m(\u001b[0m\u001b[0;34m)\u001b[0m\u001b[0;34m\u001b[0m\u001b[0;34m\u001b[0m\u001b[0m\n\u001b[0;32m---> 52\u001b[0;31m     tensors = pywrap_tfe.TFE_Py_Execute(ctx._handle, device_name, op_name,\n\u001b[0m\u001b[1;32m     53\u001b[0m                                         inputs, attrs, num_outputs)\n\u001b[1;32m     54\u001b[0m   \u001b[0;32mexcept\u001b[0m \u001b[0mcore\u001b[0m\u001b[0;34m.\u001b[0m\u001b[0m_NotOkStatusException\u001b[0m \u001b[0;32mas\u001b[0m \u001b[0me\u001b[0m\u001b[0;34m:\u001b[0m\u001b[0;34m\u001b[0m\u001b[0;34m\u001b[0m\u001b[0m\n",
      "\u001b[0;31mKeyboardInterrupt\u001b[0m: "
     ]
    }
   ],
   "source": [
    "history  = DeepSetProjector.fit(\n",
    "    (tracks_encoded, jets_encoded), y = {\"MultivariateLoss\":bhads_targets_clean, \"MassOutput\":onehot},\n",
    "    validation_split = 0.3,\n",
    "    epochs = EPOCHS,\n",
    "    batch_size = BATCHSIZE,\n",
    "    callbacks = [early_stopping, cp_callback, reduce_learn_on_plateau],\n",
    "    )"
   ]
  },
  {
   "cell_type": "code",
   "execution_count": null,
   "metadata": {},
   "outputs": [],
   "source": [
    "# Plot the loss and validation curves vs epoch\n",
    "history_df = pd.DataFrame(history.history)\n",
    "np.log(history_df.loc[:, [\"loss\",\"val_loss\"]]).plot()\n",
    "history_df.to_csv('/home/physics/phujdj/DeepLearningParticlePhysics/history.csv')"
   ]
  },
  {
   "cell_type": "code",
   "execution_count": null,
   "metadata": {},
   "outputs": [],
   "source": [
    "#Evaluate the entire performance of the model\n",
    "loss = DeepSetProjector.evaluate((tracks_encoded, jets_encoded),(bhads_targets_clean, onehot),verbose = 2)\n",
    "print(\"The Loaded DeepNet has loss: \", loss)"
   ]
  },
  {
   "cell_type": "code",
   "execution_count": null,
   "metadata": {},
   "outputs": [],
   "source": [
    "mask = np.where(np.isinf(b_jets_input) == True)\n",
    "b_jets_input_clean = np.delete(b_jets_input, mask, axis = 0)\n",
    "print(b_jets_input_clean.shape)\n",
    "Tracks_input_clean = np.delete(Tracks_input, mask, axis = 0)\n",
    "bhads_m_clean = np.delete(bhads_m, mask, axis = 0)\n",
    "bhads_targets_clean = np.delete(bhads_targets, mask, axis = 0) \n",
    "print(Tracks_input_clean.shape,b_jets_input_clean.shape,bhads_m_clean.shape, bhads_targets_clean.shape)"
   ]
  },
  {
   "cell_type": "code",
   "execution_count": null,
   "metadata": {},
   "outputs": [],
   "source": [
    "Scaler_tracks = StandardScaler()\n",
    "Num_events,Num_tracks,Num_features = np.shape(Tracks_input_clean)\n",
    "Scaled_tracks = np.reshape(Tracks_input_clean, newshape=(-1,Num_features))\n",
    "tracks_scaled = Scaler_tracks.fit_transform(Scaled_tracks)\n",
    "Tracks_input_scaled = np.reshape(tracks_scaled, newshape= (Num_events,Num_tracks,Num_features))\n",
    "print(np.shape(Tracks_input_scaled))\n",
    "\n",
    "Scaler_jets = StandardScaler()\n",
    "Num_events,Num_features = np.shape(b_jets_input_clean)\n",
    "b_jets_scaled = np.reshape(b_jets_input_clean, newshape=(-1,Num_features))\n",
    "b_jets_scaled = Scaler_jets.fit_transform(b_jets_scaled)\n",
    "b_jets_input_scaled = np.reshape(b_jets_scaled, newshape= (Num_events,Num_features))\n",
    "print(np.shape(b_jets_input_scaled))\n",
    "\n",
    "means_2 = []\n",
    "stds_2 = []\n",
    "lister = []\n",
    "for bhads_target_feature in range(np.shape(bhads_targets_clean)[1]):\n",
    "    Bhads_targets = bhads_targets_clean[:,bhads_target_feature]\n",
    "    mean, std = np.mean(Bhads_targets), np.std(Bhads_targets)\n",
    "    means_2 = np.append(means_2,mean)\n",
    "    stds_2 = np.append(stds_2,std)\n",
    "    Standardized_Bhads_targets = (Bhads_targets - mean)/(std)\n",
    "    Standardized_Bhads_targets = Standardized_Bhads_targets.reshape(-1,1)\n",
    "    lister.append(Standardized_Bhads_targets)\n",
    "Standardized_Bhads_targets_unmasked = np.concatenate(lister,axis = 1)\n",
    "print(Standardized_Bhads_targets_unmasked.shape)\n",
    "print(means_2,stds_2)"
   ]
  },
  {
   "cell_type": "code",
   "execution_count": null,
   "metadata": {},
   "outputs": [],
   "source": [
    "tracks_encoded_unmasked = ParticleEncoderTracksClone.predict(Tracks_input_scaled)\n",
    "jets_encoded_unmasked = ParticleEncoderJetsClone.predict(b_jets_input_scaled)\n",
    "from sklearn.preprocessing import OneHotEncoder\n",
    "bhadron_masses = []\n",
    "for mass in bhads_m_clean:\n",
    "    bhadron_masses.append([str(mass)])\n",
    "print(np.shape(bhadron_masses))\n",
    "encoder = OneHotEncoder(sparse = False)\n",
    "onehot_unmasked = encoder.fit_transform(bhadron_masses)\n",
    "print(np.shape(onehot_unmasked))"
   ]
  },
  {
   "cell_type": "code",
   "execution_count": null,
   "metadata": {},
   "outputs": [],
   "source": [
    "tracks_encoded_unmasked = ParticleEncoderTracksClone.predict(Tracks_input_scaled)\n",
    "jets_encoded_unmasked = ParticleEncoderJetsClone.predict(b_jets_input_scaled)"
   ]
  },
  {
   "cell_type": "code",
   "execution_count": null,
   "metadata": {},
   "outputs": [],
   "source": [
    "#Evaluate the entire performance of the model\n",
    "loss = DeepSetProjector.evaluate((tracks_encoded_unmasked, jets_encoded_unmasked),(bhads_targets_clean, onehot_unmasked),verbose = 2)\n",
    "print(\"The Loaded DeepNet has loss: \", loss)"
   ]
  },
  {
   "cell_type": "code",
   "execution_count": null,
   "metadata": {},
   "outputs": [],
   "source": [
    "predictions = DeepSetProjector.predict((tracks_encoded_unmasked, jets_encoded_unmasked))"
   ]
  },
  {
   "cell_type": "code",
   "execution_count": null,
   "metadata": {},
   "outputs": [],
   "source": [
    "Predictions = np.stack([DeepSetProjector((tracks_encoded, jets_encoded))[0] for sample in range(100)])\n",
    "Predictions = Predictions.mean(axis = 0)"
   ]
  },
  {
   "cell_type": "code",
   "execution_count": null,
   "metadata": {},
   "outputs": [],
   "source": [
    "print(predictions[0].shape)\n",
    "print(predictions[1].shape)\n",
    "Predictions = predictions[0]\n",
    "Predictions_Mass = predictions[1]"
   ]
  },
  {
   "cell_type": "code",
   "execution_count": null,
   "metadata": {},
   "outputs": [],
   "source": [
    "lister = []\n",
    "index = 0\n",
    "predictions_x = Predictions[:,:11]\n",
    "for bhads_features in range(np.shape(predictions_x)[1]):\n",
    "    Predictions_temp = predictions_x[:, bhads_features]\n",
    "    Predictions_temp = (Predictions_temp*stds_2[index]) + means_2[index]\n",
    "    Predictions_temp = Predictions_temp.reshape(-1,1)\n",
    "    lister.append(Predictions_temp)\n",
    "    index+=1\n",
    "Predictions_X = np.concatenate(lister, axis = 1)"
   ]
  },
  {
   "cell_type": "code",
   "execution_count": null,
   "metadata": {},
   "outputs": [],
   "source": [
    "lister = []\n",
    "index = 0\n",
    "predictions_x_uncertainty = Predictions[:,11:22]\n",
    "print(predictions_x_uncertainty)\n",
    "for bhads_features in range(np.shape(predictions_x_uncertainty)[1]):\n",
    "    Predictions_temp = predictions_x_uncertainty[:, bhads_features]\n",
    "    Predictions_temp = (Predictions_temp*stds_2[index]) + means_2[index]\n",
    "    Predictions_temp = Predictions_temp.reshape(-1,1)\n",
    "    lister.append(Predictions_temp)\n",
    "    index+=\n",
    "Predictions_Uncertainty = np.concatenate(lister, axis = 1)\n",
    "print(Predictions_Uncertainty)"
   ]
  },
  {
   "cell_type": "code",
   "execution_count": null,
   "metadata": {},
   "outputs": [],
   "source": [
    "Error_px_unscaled = bhads_targets_clean[:,0] - Predictions_X[:,0]\n",
    "Pull_bhads_px_unscaled = Error_px_unscaled/np.std(bhads_targets_clean[:,0])\n",
    "Pull_px = Error_px_unscaled/Predictions_Uncertainty[:,0]"
   ]
  },
  {
   "cell_type": "code",
   "execution_count": null,
   "metadata": {},
   "outputs": [],
   "source": [
    "Error_py_unscaled = bhads_targets_clean[:,1] - Predictions_X[:,1]\n",
    "Pull_bhads_py_unscaled = Error_py_unscaled/np.std(bhads_targets_clean[:,1])\n",
    "Pull_py = Error_py_unscaled/Predictions_Uncertainty[:,1]"
   ]
  },
  {
   "cell_type": "code",
   "execution_count": null,
   "metadata": {},
   "outputs": [],
   "source": [
    "Error_pz_unscaled = bhads_targets_clean[:,2] - Predictions_X[:,2]\n",
    "Pull_bhads_pz_unscaled = Error_pz_unscaled/np.std(bhads_targets_clean[:,2])\n",
    "Pull_pz = Error_px_unscaled/Predictions_Uncertainty[:,2]"
   ]
  },
  {
   "cell_type": "code",
   "execution_count": null,
   "metadata": {},
   "outputs": [],
   "source": [
    "Error_projection_unscaled = bhads_targets_clean[:,9] - Predictions_X[:,9]\n",
    "Pull_bhads_projection_unscaled = Error_projection_unscaled/np.std(bhads_targets_clean[:,9])\n",
    "Pull_projection = Error_projection_unscaled/Predictions_Uncertainty[:,9]"
   ]
  },
  {
   "cell_type": "code",
   "execution_count": null,
   "metadata": {},
   "outputs": [],
   "source": [
    "Error_pxfraction_unscaled = bhads_targets_clean[:,3] - Predictions_X[:,3]\n",
    "Pull_pxfraction_unscaled = Error_pxfraction_unscaled/np.std(bhads_targets_clean[:,3])\n",
    "Pull_pxfraction = Error_pxfraction_unscaled/Predictions_Uncertainty[:,3]"
   ]
  },
  {
   "cell_type": "code",
   "execution_count": null,
   "metadata": {},
   "outputs": [],
   "source": [
    "Error_pyfraction_unscaled = bhads_targets_clean[:,4] - Predictions_X[:,4]\n",
    "Pull_pyfraction_unscaled = Error_pyfraction_unscaled/np.std(bhads_targets_clean[:,4])\n",
    "Pull_pyfraction = Error_pyfraction_unscaled/Predictions_Uncertainty[:,4]"
   ]
  },
  {
   "cell_type": "code",
   "execution_count": null,
   "metadata": {},
   "outputs": [],
   "source": [
    "Error_pzfraction_unscaled = bhads_targets_clean[:,5] - Predictions_X[:,5]\n",
    "Pull_pzfraction_unscaled = Error_pzfraction_unscaled/np.std(bhads_targets_clean[:,5])\n",
    "Pull_pzfraction = Error_pzfraction_unscaled/Predictions_Uncertainty[:,5]"
   ]
  },
  {
   "cell_type": "code",
   "execution_count": null,
   "metadata": {},
   "outputs": [],
   "source": [
    "Error_energy_unscaled = bhads_targets_clean[:,6] - Predictions_X[:,6]\n",
    "Pull_energy_unscaled = Error_energy_unscaled/np.std(bhads_targets_clean[:,6])\n",
    "Pull_energy = Error_energy_unscaled/Predictions_Uncertainty[:,6]"
   ]
  },
  {
   "cell_type": "code",
   "execution_count": null,
   "metadata": {},
   "outputs": [],
   "source": [
    "Error_mass_unscaled = bhads_targets_clean[:,10] - Predictions_X[:,10]\n",
    "Pull_mass_unscaled = Error_mass_unscaled/np.std(bhads_targets_clean[:,10])\n",
    "Pull_mass = Error_mass_unscaled/Predictions_Uncertainty[:,10]"
   ]
  },
  {
   "cell_type": "code",
   "execution_count": null,
   "metadata": {},
   "outputs": [],
   "source": [
    "print(np.mean(Error_px_unscaled))\n",
    "print(np.std(Error_px_unscaled))\n",
    "binneddensity(Error_px_unscaled, fixedbinning(-20000,20000,100),xlabel = \"Error_px_unscaled\")"
   ]
  },
  {
   "cell_type": "code",
   "execution_count": null,
   "metadata": {},
   "outputs": [],
   "source": [
    "print(np.mean(Pull_px))\n",
    "print(np.std(Pull_px))\n",
    "binneddensity(Pull_px, fixedbinning(-2,2,100),xlabel = \"Pull_Px\")"
   ]
  },
  {
   "cell_type": "code",
   "execution_count": null,
   "metadata": {},
   "outputs": [],
   "source": [
    "print(np.mean(Error_py_unscaled))\n",
    "print(np.std(Error_py_unscaled))\n",
    "binneddensity(Error_py_unscaled, fixedbinning(-20000,20000,100),xlabel = \"Error_py_unscaled\")"
   ]
  },
  {
   "cell_type": "code",
   "execution_count": null,
   "metadata": {},
   "outputs": [],
   "source": [
    "print(np.mean(Pull_py))\n",
    "print(np.std(Pull_py))\n",
    "binneddensity(Pull_py, fixedbinning(-2,2,100),xlabel = \"Pull_Py\")"
   ]
  },
  {
   "cell_type": "code",
   "execution_count": null,
   "metadata": {},
   "outputs": [],
   "source": [
    "print(np.mean(Error_pz_unscaled))\n",
    "print(np.std(Error_pz_unscaled))\n",
    "binneddensity(Error_pz_unscaled, fixedbinning(-40000,40000,100),xlabel = \"Error_pz_unscaled\")"
   ]
  },
  {
   "cell_type": "code",
   "execution_count": null,
   "metadata": {},
   "outputs": [],
   "source": [
    "print(np.mean(Pull_pz))\n",
    "print(np.std(Pull_pz))\n",
    "binneddensity(Pull_pz, fixedbinning(-2,2,100),xlabel = \"Pull_Pz\")"
   ]
  },
  {
   "cell_type": "code",
   "execution_count": null,
   "metadata": {},
   "outputs": [],
   "source": [
    "print(np.mean(Error_projection_unscaled))\n",
    "print(np.std(Error_projection_unscaled))\n",
    "binneddensity(Error_projection_unscaled, fixedbinning(-1,1,100),xlabel = \"Error_projection\")"
   ]
  },
  {
   "cell_type": "code",
   "execution_count": null,
   "metadata": {},
   "outputs": [],
   "source": [
    "print(np.mean(Pull_projection))\n",
    "print(np.std(Pull_projection))\n",
    "binneddensity(Pull_projection, fixedbinning(-1,1,100),xlabel = \"Pull_projection\")"
   ]
  },
  {
   "cell_type": "code",
   "execution_count": null,
   "metadata": {},
   "outputs": [],
   "source": [
    "print(np.mean(Error_pxfraction_unscaled))\n",
    "print(np.std(Error_pxfraction_unscaled))\n",
    "binneddensity(Error_pxfraction_unscaled, fixedbinning(-1,1,100),xlabel = \"Error_px_fraction\")"
   ]
  },
  {
   "cell_type": "code",
   "execution_count": null,
   "metadata": {},
   "outputs": [],
   "source": [
    "print(np.mean(Pull_pxfraction_unscaled))\n",
    "print(np.std(Pull_pxfraction_unscaled))\n",
    "binneddensity(Pull_pxfraction_unscaled, fixedbinning(-2,2,100),xlabel = \"Pull_px_fraction\")"
   ]
  },
  {
   "cell_type": "code",
   "execution_count": null,
   "metadata": {},
   "outputs": [],
   "source": [
    "print(np.mean(Error_pyfraction_unscaled))\n",
    "print(np.std(Error_pyfraction_unscaled))\n",
    "binneddensity(Error_pyfraction_unscaled, fixedbinning(-1,1,100),xlabel = \"Error_py_fraction\")"
   ]
  },
  {
   "cell_type": "code",
   "execution_count": null,
   "metadata": {},
   "outputs": [],
   "source": [
    "print(np.mean(Pull_pyfraction_unscaled))\n",
    "print(np.std(Pull_pyfraction_unscaled))\n",
    "binneddensity(Pull_pyfraction_unscaled, fixedbinning(-2,2,100),xlabel = \"Pull_py_fraction\")"
   ]
  },
  {
   "cell_type": "code",
   "execution_count": null,
   "metadata": {},
   "outputs": [],
   "source": [
    "print(np.mean(Error_pzfraction_unscaled))\n",
    "print(np.std(Error_pzfraction_unscaled))\n",
    "binneddensity(Error_pzfraction_unscaled, fixedbinning(-1,1,100),xlabel = \"Error_pz_fraction\")"
   ]
  },
  {
   "cell_type": "code",
   "execution_count": null,
   "metadata": {},
   "outputs": [],
   "source": [
    "print(np.mean(Pull_pzfraction_unscaled))\n",
    "print(np.std(Pull_pzfraction_unscaled))\n",
    "binneddensity(Pull_pzfraction_unscaled, fixedbinning(-1.5,1.5,100),xlabel = \"Pull_pz_fraction\")"
   ]
  },
  {
   "cell_type": "code",
   "execution_count": null,
   "metadata": {},
   "outputs": [],
   "source": [
    "print(np.mean(Error_energy_unscaled))\n",
    "print(np.std(Error_energy_unscaled))\n",
    "binneddensity(Error_energy_unscaled, fixedbinning(-60000,60000,100),xlabel = \"Error_energy\")"
   ]
  },
  {
   "cell_type": "code",
   "execution_count": null,
   "metadata": {},
   "outputs": [],
   "source": [
    "print(np.mean(Pull_energy_unscaled))\n",
    "print(np.std(Pull_energy_unscaled))\n",
    "binneddensity(Pull_energy_unscaled, fixedbinning(-1,1,100),xlabel = \"Pull_energy_fraction\")"
   ]
  },
  {
   "cell_type": "code",
   "execution_count": null,
   "metadata": {},
   "outputs": [],
   "source": [
    "print(np.mean(Error_mass_unscaled))\n",
    "print(np.std(Error_mass_unscaled))\n",
    "binneddensity(Error_mass_unscaled, fixedbinning(-250,500,100),xlabel = \"Mass Error\")"
   ]
  },
  {
   "cell_type": "code",
   "execution_count": null,
   "metadata": {},
   "outputs": [],
   "source": [
    "import matplotlib as mpl\n",
    "import seaborn as sns\n",
    "import matplotlib.pyplot as plt\n",
    "from scipy.stats import gaussian_kde\n",
    "fig, ax = plt.subplots(figsize = (12,12))\n",
    "x = bhads_targets_clean[:,0]\n",
    "y = Predictions_X[:,0]\n",
    "grid = np.vstack([x, y])\n",
    "z = gaussian_kde(grid)(grid)\n",
    "idx = z.argsort()\n",
    "x,y,z = x[idx], y[idx], z[idx]\n",
    "\n",
    "im = sns.scatterplot(\n",
    "    x,\n",
    "    y,\n",
    "    c = z,\n",
    "    s = 5,\n",
    "    cmap = \"autumn\",\n",
    "    )\n",
    "norm = plt.Normalize(z.min(), z.max())\n",
    "sm = plt.cm.ScalarMappable(cmap = \"autumn\", norm = norm)\n",
    "sm.set_array([])\n",
    "im.figure.colorbar(sm)\n",
    "ax.set_title(\"Scatterplot of the true vs pred X momenta\")\n",
    "ax.set_xlabel(\"The true X momenta of the tracks from each event\")\n",
    "ax.set_ylabel(\"The predicted X momenta of b hadron jets\")"
   ]
  },
  {
   "cell_type": "code",
   "execution_count": null,
   "metadata": {},
   "outputs": [],
   "source": [
    "import matplotlib as mpl\n",
    "from scipy.stats import gaussian_kde\n",
    "fig, ax = plt.subplots(figsize = (12,12))\n",
    "x = bhads_targets_clean[:,1]\n",
    "y = Predictions_X[:,1]\n",
    "grid = np.vstack([x, y])\n",
    "z = gaussian_kde(grid)(grid)\n",
    "idx = z.argsort()\n",
    "x,y,z = x[idx], y[idx], z[idx]\n",
    "\n",
    "im = sns.scatterplot(\n",
    "    x,\n",
    "    y,\n",
    "    c = z,\n",
    "    s = 5,\n",
    "    cmap = \"inferno\",\n",
    "    )\n",
    "norm = plt.Normalize(z.min(), z.max())\n",
    "sm = plt.cm.ScalarMappable(cmap = \"inferno\", norm = norm)\n",
    "sm.set_array([])\n",
    "im.figure.colorbar(sm)\n",
    "ax.set_title(\"Scatterplot of the true vs pred Y momenta\")\n",
    "ax.set_xlabel(\"The true Y momenta of the tracks from each event\")\n",
    "ax.set_ylabel(\"The predicted Y momenta of b hadron jets\")"
   ]
  },
  {
   "cell_type": "code",
   "execution_count": null,
   "metadata": {},
   "outputs": [],
   "source": [
    "import matplotlib as mpl\n",
    "from scipy.stats import gaussian_kde\n",
    "fig, ax = plt.subplots(figsize = (12,12))\n",
    "x = bhads_targets_clean[:,2]\n",
    "y = Predictions_X[:,2]\n",
    "grid = np.vstack([x, y])\n",
    "z = gaussian_kde(grid)(grid)\n",
    "idx = z.argsort()\n",
    "x,y,z = x[idx], y[idx], z[idx]\n",
    "\n",
    "im = sns.scatterplot(\n",
    "    x,\n",
    "    y,\n",
    "    c = z,\n",
    "    s = 5,\n",
    "    cmap = \"winter\",\n",
    "    )\n",
    "norm = plt.Normalize(z.min(), z.max())\n",
    "sm = plt.cm.ScalarMappable(cmap = \"winter\", norm = norm)\n",
    "sm.set_array([])\n",
    "im.figure.colorbar(sm)\n",
    "ax.set_title(\"Scatterplot of the true vs pred Z momenta\")\n",
    "ax.set_xlabel(\"The true Z momenta of the tracks from each event\")\n",
    "ax.set_ylabel(\"The predicted Z momenta of b hadron jets\")"
   ]
  },
  {
   "cell_type": "code",
   "execution_count": null,
   "metadata": {},
   "outputs": [],
   "source": [
    "import matplotlib as mpl\n",
    "from scipy.stats import gaussian_kde\n",
    "fig, ax = plt.subplots(figsize = (12,12))\n",
    "x = bhads_targets_clean[:,3]\n",
    "y = Predictions_X[:,3]\n",
    "grid = np.vstack([x, y])\n",
    "z = gaussian_kde(grid)(grid)\n",
    "idx = z.argsort()\n",
    "x,y,z = x[idx], y[idx], z[idx]\n",
    "\n",
    "im = sns.scatterplot(\n",
    "    x,\n",
    "    y,\n",
    "    c = z,\n",
    "    s = 5,\n",
    "    cmap = \"spring\",\n",
    "    )\n",
    "norm = plt.Normalize(z.min(), z.max())\n",
    "sm = plt.cm.ScalarMappable(cmap = \"spring\", norm = norm)\n",
    "sm.set_array([])\n",
    "im.figure.colorbar(sm)\n",
    "ax.set_title(\"Scatterplot of the true vs pred X momenta fraction\")\n",
    "ax.set_xlabel(\"The true X momenta fraction of the tracks from each event\")\n",
    "ax.set_ylabel(\"The predicted X fraction of b hadron jets\")"
   ]
  },
  {
   "cell_type": "code",
   "execution_count": null,
   "metadata": {},
   "outputs": [],
   "source": [
    "import matplotlib as mpl\n",
    "from scipy.stats import gaussian_kde\n",
    "fig, ax = plt.subplots(figsize = (12,12))\n",
    "x = bhads_targets_clean[:,4]\n",
    "y = Predictions_X[:,4]\n",
    "grid = np.vstack([x, y])\n",
    "z = gaussian_kde(grid)(grid)\n",
    "idx = z.argsort()\n",
    "x,y,z = x[idx], y[idx], z[idx]\n",
    "\n",
    "im = sns.scatterplot(\n",
    "    x,\n",
    "    y,\n",
    "    c = z,\n",
    "    s = 5,\n",
    "    cmap = \"gist_heat\",\n",
    "    )\n",
    "norm = plt.Normalize(z.min(), z.max())\n",
    "sm = plt.cm.ScalarMappable(cmap = \"gist_heat\", norm = norm)\n",
    "sm.set_array([])\n",
    "im.figure.colorbar(sm)\n",
    "ax.set_title(\"Scatterplot of the true vs pred Y momenta fraction\")\n",
    "ax.set_xlabel(\"The true Y momenta fraction of the tracks from each event\")\n",
    "ax.set_ylabel(\"The predicted Y fraction of b hadron jets\")"
   ]
  },
  {
   "cell_type": "code",
   "execution_count": null,
   "metadata": {},
   "outputs": [],
   "source": [
    "import matplotlib as mpl\n",
    "from scipy.stats import gaussian_kde\n",
    "fig, ax = plt.subplots(figsize = (12,12))\n",
    "x = bhads_targets_clean[:,5]\n",
    "y = Predictions_X[:,5]\n",
    "grid = np.vstack([x, y])\n",
    "z = gaussian_kde(grid)(grid)\n",
    "idx = z.argsort()\n",
    "x,y,z = x[idx], y[idx], z[idx]\n",
    "\n",
    "im = sns.scatterplot(\n",
    "    x,\n",
    "    y,\n",
    "    c = z,\n",
    "    s = 5,\n",
    "    cmap = \"summer\",\n",
    "    )\n",
    "norm = plt.Normalize(z.min(), z.max())\n",
    "sm = plt.cm.ScalarMappable(cmap = \"summer\", norm = norm)\n",
    "sm.set_array([])\n",
    "im.figure.colorbar(sm)\n",
    "ax.set_title(\"Scatterplot of the true vs pred Z momenta fraction\")\n",
    "ax.set_xlabel(\"The true Z momenta fraction of the tracks from each event\")\n",
    "ax.set_ylabel(\"The predicted Z fraction of b hadron jets\")"
   ]
  },
  {
   "cell_type": "code",
   "execution_count": null,
   "metadata": {},
   "outputs": [],
   "source": [
    "import matplotlib as mpl\n",
    "from scipy.stats import gaussian_kde\n",
    "fig, ax = plt.subplots(figsize = (12,12))\n",
    "x = bhads_targets_clean[:,9]\n",
    "y = Predictions_X[:,9]\n",
    "grid = np.vstack([x, y])\n",
    "z = gaussian_kde(grid)(grid)\n",
    "idx = z.argsort()\n",
    "x,y,z = x[idx], y[idx], z[idx]\n",
    "\n",
    "im = sns.scatterplot(\n",
    "    x,\n",
    "    y,\n",
    "    c = z,\n",
    "    s = 5,\n",
    "    cmap = \"PiYG\",\n",
    "    )\n",
    "norm = plt.Normalize(z.min(), z.max())\n",
    "sm = plt.cm.ScalarMappable(cmap = \"PiYG\", norm = norm)\n",
    "sm.set_array([])\n",
    "im.figure.colorbar(sm)\n",
    "ax.set_title(\"Scatterplot of the true vs pred Bhadron Projection\")\n",
    "ax.set_xlabel(\"The true Bhadron Projection of the tracks from each event\")\n",
    "ax.set_ylabel(\"The predicted Bhadron Projection of b hadron jets\")"
   ]
  },
  {
   "cell_type": "code",
   "execution_count": null,
   "metadata": {},
   "outputs": [],
   "source": [
    "fig, ax = plt.subplots(figsize = (12,12))\n",
    "x = Predictions_X[:,6]\n",
    "y = bhads_targets_clean[:,6]\n",
    "grid = np.vstack([x, y])\n",
    "z = gaussian_kde(grid)(grid)\n",
    "idx = z.argsort()\n",
    "x,y,z = x[idx], y[idx], z[idx]\n",
    "\n",
    "im = sns.scatterplot(\n",
    "    x,\n",
    "    y,\n",
    "    c = z,\n",
    "    s = 5,\n",
    "    cmap = \"Spectral\",\n",
    "    )\n",
    "norm = plt.Normalize(z.min(), z.max())\n",
    "sm = plt.cm.ScalarMappable(cmap = \"Spectral\", norm = norm)\n",
    "sm.set_array([])\n",
    "im.figure.colorbar(sm)\n",
    "ax.set_title(\"Scatterplot of the true vs pred B-hadron Energy\")\n",
    "ax.set_xlabel(\"The true B-hadron Energy of the tracks from each event\")\n",
    "ax.set_ylabel(\"The predicted B-hadron Energy of b hadron jets\")"
   ]
  },
  {
   "cell_type": "code",
   "execution_count": null,
   "metadata": {},
   "outputs": [],
   "source": [
    "print(Predictions_X[:5,10])\n",
    "print(bhads_targets_clean[:5,10])"
   ]
  },
  {
   "cell_type": "code",
   "execution_count": null,
   "metadata": {},
   "outputs": [],
   "source": [
    "fig, ax = plt.subplots(figsize = (12,12))\n",
    "x = Predictions_X[:,10]\n",
    "y = bhads_targets_clean[:,10]\n",
    "grid = np.vstack([x, y])\n",
    "z = gaussian_kde(grid)(grid)\n",
    "idx = z.argsort()\n",
    "x,y,z = x[idx], y[idx], z[idx]\n",
    "\n",
    "im = sns.scatterplot(\n",
    "    x,\n",
    "    y,\n",
    "    c = z,\n",
    "    s = 5,\n",
    "    cmap = \"Spectral\",\n",
    "    )\n",
    "norm = plt.Normalize(z.min(), z.max())\n",
    "sm = plt.cm.ScalarMappable(cmap = \"Spectral\", norm = norm)\n",
    "sm.set_array([])\n",
    "im.figure.colorbar(sm)\n",
    "ax.set_title(\"Scatterplot of the true vs pred B-hadron Mass\")\n",
    "ax.set_xlabel(\"The true B-hadron Mass of the tracks from each event\")\n",
    "ax.set_ylabel(\"The predicted B-hadron Mass of b hadron jets\")"
   ]
  }
 ],
 "metadata": {
  "kernelspec": {
   "display_name": "Python 3",
   "language": "python",
   "name": "python3"
  },
  "language_info": {
   "codemirror_mode": {
    "name": "ipython",
    "version": 3
   },
   "file_extension": ".py",
   "mimetype": "text/x-python",
   "name": "python",
   "nbconvert_exporter": "python",
   "pygments_lexer": "ipython3",
   "version": "3.9.12"
  },
  "orig_nbformat": 4,
  "vscode": {
   "interpreter": {
    "hash": "a05ddcd8ffea9a6a7d2e914b733df5445b717626b5b8c92c04bfc4eb6e7f5cba"
   }
  }
 },
 "nbformat": 4,
 "nbformat_minor": 2
}
