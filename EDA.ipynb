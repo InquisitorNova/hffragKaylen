{
 "cells": [
  {
   "cell_type": "code",
   "execution_count": null,
   "metadata": {},
   "outputs": [],
   "source": [
    "import awkward as ak\n",
    "import numpy as np\n",
    "import uproot\n",
    "import nbimporter\n",
    "import import_ipynb\n",
    "import matplotlib.pyplot as plt\n",
    "from hffrag import fixedbinning\n",
    "from hffrag import binneddensity\n",
    "import seaborn as sns\n",
    "import DeepSetNeuralNetArchitecture as DSNNA\n",
    "from numpy.lib.recfunctions import structured_to_unstructured\n",
    "import pandas as pd\n",
    "from pandas.plotting import scatter_matrix\n",
    "from sklearn.feature_selection import mutual_info_regression\n",
    "from sklearn.preprocessing import StandardScaler\n",
    "from sklearn.decomposition import PCA"
   ]
  },
  {
   "cell_type": "code",
   "execution_count": null,
   "metadata": {},
   "outputs": [],
   "source": [
    "%matplotlib inline\n",
    "#plt.rcParams['axes.facecolor'] = 'white'\n",
    "#plt.rcParams['savefig.facecolor'] = 'red'\n",
    "#plt.rc('text',usetex = False)\n",
    "#plt.rc('font',family = 'Times New Roman')\n",
    "%config InlineBackend.print_figure_kwargs={'facecolor' : \"w\"}\n",
    "sns.set_theme(style = \"ticks\")"
   ]
  },
  {
   "cell_type": "code",
   "execution_count": null,
   "metadata": {},
   "outputs": [],
   "source": [
    "#The data is being stored in a tree datastructure. \n",
    "#We access the charm root using this command\n",
    "tree = uproot.open(\"hffrag.root:CharmAnalysis\")"
   ]
  },
  {
   "cell_type": "code",
   "execution_count": null,
   "metadata": {},
   "outputs": [],
   "source": [
    "# Select the features we wish to study\n",
    "track_features = [\"AnalysisTracks_pt\", \"AnalysisTracks_eta\", \"AnalysisTracks_phi\", \"AnalysisTracks_z0sinTheta\",\n",
    "                  \"AnalysisTracks_d0sig\", \"AnalysisTracks_d0\", \"AnalysisTracks_d0sigPV\", \"AnalysisTracks_d0PV\"]\n",
    "jet_features = [\"AnalysisAntiKt4TruthJets_pt\", \"AnalysisAntiKt4TruthJets_eta\", \"AnalysisAntiKt4TruthJets_phi\",\n",
    "                \"AnalysisAntiKt4TruthJets_ghostB_pt\", \"AnalysisAntiKt4TruthJets_ghostB_eta\",\"AnalysisAntiKt4TruthJets_ghostB_phi\"]\n",
    "\n",
    "MAXEVENTS = 1e20\n",
    "MAXTRACKS = 32\n",
    "MASKVAL = 0"
   ]
  },
  {
   "cell_type": "code",
   "execution_count": null,
   "metadata": {},
   "outputs": [],
   "source": [
    "def make_mi_scores(X,y):\n",
    "    mi_scores = mutual_info_regression(X,y)\n",
    "    mi_scores = pd.Series(mi_scores,name = \"MI Scores\",index = X.columns)\n",
    "    mi_scores = mi_scores.sort_values(ascending = False)\n",
    "    return mi_scores\n",
    "def plot_mi_scores(scores):\n",
    "    scores = scores.sort_values(ascending = True)\n",
    "    width = np.arange(len(scores))\n",
    "    ticks = list(scores.index)\n",
    "    plt.barh(width, scores)\n",
    "    plt.yticks(width,ticks)\n",
    "    plt.title(\"Mutual Informarion Scores\")"
   ]
  },
  {
   "cell_type": "code",
   "execution_count": null,
   "metadata": {},
   "outputs": [],
   "source": [
    "#Read in the data from the root file\n",
    "features = tree.arrays(jet_features+track_features,entry_stop = MAXEVENTS)"
   ]
  },
  {
   "cell_type": "code",
   "execution_count": null,
   "metadata": {},
   "outputs": [],
   "source": [
    "Figure = plt.figure()\n",
    "jet_pt_distribution = binneddensity(features[\"AnalysisAntiKt4TruthJets_pt\"][:,0],fixedbinning(0,500000,100),xlabel = \"Transverse momentum [MeV] of first jets from each event\")\n",
    "jet_pt_distribution"
   ]
  },
  {
   "cell_type": "code",
   "execution_count": null,
   "metadata": {},
   "outputs": [],
   "source": [
    "Figure = plt.figure()\n",
    "jet_pt_distribution = binneddensity(features[\"AnalysisAntiKt4TruthJets_eta\"][:,0],fixedbinning(-np.pi,np.pi,100),xlabel = \"Pseudorapidity of first jets from each event\")\n",
    "jet_pt_distribution"
   ]
  },
  {
   "cell_type": "code",
   "execution_count": null,
   "metadata": {},
   "outputs": [],
   "source": [
    "Figure = plt.figure()\n",
    "jet_pt_distribution = binneddensity(features[\"AnalysisAntiKt4TruthJets_phi\"][:,0],fixedbinning(-np.pi-0.5,np.pi+0.5,100),xlabel = \"Phi angle [rad] of first jets from event\")\n",
    "jet_pt_distribution"
   ]
  },
  {
   "cell_type": "code",
   "execution_count": null,
   "metadata": {},
   "outputs": [],
   "source": [
    "Figure = plt.figure()\n",
    "bhadrons = ak.flatten(features[\"AnalysisAntiKt4TruthJets_ghostB_pt\"],axis = None)\n",
    "jet_bhadron_pt_distribution = binneddensity(bhadrons,fixedbinning(-10000,500000,1000),xlabel = \"Transverse momentum [MeV] of first bhadrons jets from each event\")\n",
    "jet_bhadron_pt_distribution"
   ]
  },
  {
   "cell_type": "code",
   "execution_count": null,
   "metadata": {},
   "outputs": [],
   "source": [
    "Figure = plt.figure()\n",
    "Tracks_pt = binneddensity(features[\"AnalysisTracks_pt\"][:,0],fixedbinning(400,3000,400),xlabel = \"Transverse momentum [MeV] of first tracks from each event\")\n",
    "Tracks_pt"
   ]
  },
  {
   "cell_type": "code",
   "execution_count": null,
   "metadata": {},
   "outputs": [],
   "source": [
    "Figure = plt.figure()\n",
    "Tracks_eta = binneddensity(features[\"AnalysisTracks_eta\"][:,0],fixedbinning(-np.pi,np.pi,10000),xlabel = \" Pseudorapidity of the first tracks from each event\")\n",
    "Tracks_eta"
   ]
  },
  {
   "cell_type": "code",
   "execution_count": null,
   "metadata": {},
   "outputs": [],
   "source": [
    "Figure = plt.figure()\n",
    "Tracks_phi = binneddensity(features[\"AnalysisTracks_phi\"][:,0],fixedbinning(-np.pi,np.pi,4000),xlabel = \"The phi [rad] angles of first tracks from each event\")\n",
    "Tracks_phi"
   ]
  },
  {
   "cell_type": "code",
   "execution_count": null,
   "metadata": {},
   "outputs": [],
   "source": [
    "Figure = plt.figure()\n",
    "Tracks_z0_sin_theta = binneddensity(features[\"AnalysisTracks_z0sinTheta\"][:,0],fixedbinning(-1,1,400),xlabel = \"The z0sin(theta) for the first track of each event \")\n",
    "Tracks_z0_sin_theta"
   ]
  },
  {
   "cell_type": "code",
   "execution_count": null,
   "metadata": {},
   "outputs": [],
   "source": [
    "Figure = plt.figure()\n",
    "Tracks_z0 = binneddensity(features[\"AnalysisTracks_d0\"][:,0],fixedbinning(-1,1,400),xlabel = \"The d0 of first tracks from each event\")\n",
    "Tracks_z0"
   ]
  },
  {
   "cell_type": "code",
   "execution_count": null,
   "metadata": {},
   "outputs": [],
   "source": [
    "Figure = plt.figure()\n",
    "Tracks_pt = binneddensity(features[\"AnalysisTracks_d0sig\"][:,0],fixedbinning(-10,10,400),xlabel = \"The d0sig of first tracks from each event\")\n",
    "Tracks_pt"
   ]
  },
  {
   "cell_type": "code",
   "execution_count": null,
   "metadata": {},
   "outputs": [],
   "source": [
    "Figure = plt.figure()\n",
    "Tracks_pt = binneddensity(features[\"AnalysisTracks_d0PV\"][:,0],fixedbinning(-1,1,400),xlabel = \"The d0PV of first tracks from each event\")\n",
    "Tracks_pt"
   ]
  },
  {
   "cell_type": "code",
   "execution_count": null,
   "metadata": {},
   "outputs": [],
   "source": [
    "Figure = plt.figure()\n",
    "Tracks_pt = binneddensity(features[\"AnalysisTracks_d0sigPV\"][:,0],fixedbinning(-10,10,400),xlabel = \" The d0sigPVsig of first tracks from each event\")\n",
    "Tracks_pt"
   ]
  },
  {
   "cell_type": "code",
   "execution_count": null,
   "metadata": {},
   "outputs": [],
   "source": [
    "#Select the events of interest\n",
    "events = features[ak.sum(features[\"AnalysisAntiKt4TruthJets_pt\"] > 25000, axis = 1) > 0]\n",
    "#Displays the number of jets being trained on\n",
    "jets = events[jet_features][:,0]\n",
    "print(\"The number of jets to train on is: \", len(jets))\n",
    "\n",
    "#Select tracks from the events\n",
    "tracks = events[track_features]\n",
    "\n",
    "#Match the tracks to the jets\n",
    "matchedtracks = tracks[DeepSetNeuralNet.Match_Tracks(jets,tracks)]\n",
    "\n",
    "#Pad and Flatten the data\n",
    "matchedtracks = DeepSetNeuralNet.flatten(matchedtracks, MAXTRACKS)\n",
    "\n",
    "# Identify the the bottom jets and their associated tracks\n",
    "bjets = ak.sum(jets[\"AnalysisAntiKt4TruthJets_ghostB_pt\"] > 5000, axis=1) > 0\n",
    "jets = jets[bjets]\n",
    "bhads_pt = jets[\"AnalysisAntiKt4TruthJets_ghostB_pt\"][:, 0].to_numpy()\n",
    "bhads_eta = jets[\"AnalysisAntiKt4TruthJets_ghostB_eta\"][:,0].to_numpy()\n",
    "bhads_phi = jets[\"AnalysisAntiKt4TruthJets_ghostB_phi\"][:,0].to_numpy()\n",
    "bhads = np.stack([bhads_pt,bhads_eta,bhads_phi],axis = -1)\n",
    "\n",
    "print(\"There are {} outputs\".format(np.shape(bhads)[1]))\n",
    "matchedtracks = matchedtracks[bjets]\n",
    "print(\"There are {} inputs\".format(np.shape(matchedtracks)[1]))\n",
    "\n",
    "#Transform the jet and tracks to unstructed data.\n",
    "jets = structured_to_unstructured(jets[jet_features[:-3]])\n",
    "matchedtracks = structured_to_unstructured(matchedtracks)\n",
    "\n",
    "#Fix the angles\n",
    "jets = DSNNA.pt_eta_phi_2_px_py_pz_jets(jets).to_numpy()\n",
    "tracks_p = DSNNA.pt_eta_phi_2_px_py_pz_tracks(matchedtracks.to_numpy())\n",
    "bhads_cart = DSNNA.pt_eta_phi_2_px_py_pz_jets(bhads)\n",
    "print(np.shape(tracks_p))\n",
    "print(np.shape(matchedtracks[:, :, 3:]))\n",
    "tracks = np.concatenate([tracks_p,matchedtracks[:,:,3:].to_numpy()],axis = 2)\n",
    "print(np.shape(tracks))\n",
    "\n"
   ]
  },
  {
   "cell_type": "code",
   "execution_count": null,
   "metadata": {},
   "outputs": [],
   "source": [
    "Scaler = StandardScaler()\n",
    "Num_events,Num_tracks,Num_features = np.shape(tracks)\n",
    "tracks = np.reshape(tracks, newshape=(-1,Num_features))\n",
    "tracks = Scaler.fit_transform(tracks)\n",
    "tracks = np.reshape(tracks, newshape= (Num_events,Num_tracks,Num_features))\n",
    "print(np.shape(tracks))\n",
    "print(tracks[0,0,:])"
   ]
  },
  {
   "cell_type": "code",
   "execution_count": null,
   "metadata": {},
   "outputs": [],
   "source": [
    "pca = PCA()\n",
    "track_pca = pca.fit_transform(tracks[0,:,:])\n",
    "component_names = [f\"PC{i+1}\" for i in range(track_pca.shape[1])]\n",
    "tracks_pca = pd.DataFrame(track_pca, columns = component_names)\n",
    "tracks_pca.head()"
   ]
  },
  {
   "cell_type": "code",
   "execution_count": null,
   "metadata": {},
   "outputs": [],
   "source": [
    "def plot_variance(pca, width=8, dpi=100):\n",
    "    # Create figure\n",
    "    fig, axs = plt.subplots(1, 2)\n",
    "    n = pca.n_components_\n",
    "    grid = np.arange(1, n + 1)\n",
    "    # Explained variance\n",
    "    evr = pca.explained_variance_ratio_\n",
    "    axs[0].bar(grid, evr)\n",
    "    axs[0].set(\n",
    "        xlabel=\"Component\", title=\"% Explained Variance\", ylim=(0.0, 1.0)\n",
    "    )\n",
    "    # Cumulative Variance\n",
    "    cv = np.cumsum(evr)\n",
    "    axs[1].plot(np.r_[0, grid], np.r_[0, cv], \"o-\")\n",
    "    axs[1].set(\n",
    "        xlabel=\"Component\", title=\"% Cumulative Variance\", ylim=(0.0, 1.0)\n",
    "    )\n",
    "    # Set up figure\n",
    "    fig.set(figwidth=8, dpi=100)\n",
    "    return axs\n",
    "plot_variance(pca)"
   ]
  },
  {
   "cell_type": "code",
   "execution_count": null,
   "metadata": {},
   "outputs": [],
   "source": [
    "tracks[0,:,0]"
   ]
  },
  {
   "cell_type": "code",
   "execution_count": null,
   "metadata": {},
   "outputs": [],
   "source": [
    "tracks = np.ma.masked_equal(tracks, -999)\n",
    "matchedtracks = np.ma.masked_equal(matchedtracks,-999)\n",
    "print(tracks[0,:,1])\n",
    "print(matchedtracks[0,:,1])\n",
    "print(np.shape(tracks))\n",
    "print(np.shape(matchedtracks))"
   ]
  },
  {
   "cell_type": "code",
   "execution_count": null,
   "metadata": {},
   "outputs": [],
   "source": [
    "binneddensity(matchedtracks[:,0,0],fixedbinning(0,50000,100),xlabel = \"Transverse Momentum of the first tracks from b jet events\")"
   ]
  },
  {
   "cell_type": "code",
   "execution_count": null,
   "metadata": {},
   "outputs": [],
   "source": [
    "binneddensity(matchedtracks[:,0,1],fixedbinning(-2.8,2.8,100),xlabel = \"The Pseudorapidities of the first tracks from the b jet events\")"
   ]
  },
  {
   "cell_type": "code",
   "execution_count": null,
   "metadata": {},
   "outputs": [],
   "source": [
    "binneddensity(matchedtracks[:,0,2],fixedbinning(-np.pi,np.pi,100),xlabel = \"The Phi angles of the first tracks from the b jet events\")"
   ]
  },
  {
   "cell_type": "code",
   "execution_count": null,
   "metadata": {},
   "outputs": [],
   "source": [
    "binneddensity(bhads[:,0],fixedbinning(0, 500000,100),xlabel = \"Transverse Momentum of the B hadron jets\")"
   ]
  },
  {
   "cell_type": "code",
   "execution_count": null,
   "metadata": {},
   "outputs": [],
   "source": [
    "binneddensity(bhads[:,1],fixedbinning(-2.5, 2.5,100),xlabel = \"The Pseudorapidities of the B hadron jets\")"
   ]
  },
  {
   "cell_type": "code",
   "execution_count": null,
   "metadata": {},
   "outputs": [],
   "source": [
    "binneddensity(bhads[:,2],fixedbinning(-np.pi, np.pi,100),xlabel = \"Phi Angles of the B hadron jets\")"
   ]
  },
  {
   "cell_type": "code",
   "execution_count": null,
   "metadata": {},
   "outputs": [],
   "source": [
    "binneddensity(tracks[:,0,0],fixedbinning(-998, 1000,100),xlabel = \"X Momentum of the first tracks from b jet events\")"
   ]
  },
  {
   "cell_type": "code",
   "execution_count": null,
   "metadata": {},
   "outputs": [],
   "source": [
    "binneddensity(tracks[:,0,1],fixedbinning(-998, 1000,100),xlabel = \"Y Momentum of the first tracks from b jet events\")"
   ]
  },
  {
   "cell_type": "code",
   "execution_count": null,
   "metadata": {},
   "outputs": [],
   "source": [
    "binneddensity(tracks[:,0,2],fixedbinning(-998, 1000,100),xlabel = \"Z Momentum of the first tracks from b jet events\")"
   ]
  },
  {
   "cell_type": "code",
   "execution_count": null,
   "metadata": {},
   "outputs": [],
   "source": [
    "binneddensity(bhads_cart[:,0],fixedbinning(-998, 1000,100),xlabel = \"X Momentum of the bjets\")"
   ]
  },
  {
   "cell_type": "code",
   "execution_count": null,
   "metadata": {},
   "outputs": [],
   "source": [
    "binneddensity(bhads_cart[:,1],fixedbinning(-998, 1000,100),xlabel = \"Y Momentum of the bjets\")"
   ]
  },
  {
   "cell_type": "code",
   "execution_count": null,
   "metadata": {},
   "outputs": [],
   "source": [
    "binneddensity(bhads_cart[:,2],fixedbinning(-998, 1000,100),xlabel = \"Z Momentum of the bjets\")"
   ]
  },
  {
   "cell_type": "code",
   "execution_count": null,
   "metadata": {},
   "outputs": [],
   "source": [
    "bhads[:,0]"
   ]
  },
  {
   "cell_type": "code",
   "execution_count": null,
   "metadata": {},
   "outputs": [],
   "source": [
    "bhads_cart[:,0]"
   ]
  },
  {
   "cell_type": "code",
   "execution_count": null,
   "metadata": {},
   "outputs": [],
   "source": [
    "Track_Data = pd.DataFrame(data = matchedtracks[:,0,:],columns = [\"AnalysisTracks_pt\", \"AnalysisTracks_pseudorapidity\", \"AnalysisTracks_phi_angles\", \"AnalysisTracks_z0sinTheta\",\n",
    "                  \"AnalysisTracks_d0sig\", \"AnalysisTracks_d0\", \"AnalysisTracks_d0sigPV\", \"AnalysisTracks_d0PV\"])\n",
    "Track_Cart_Data = pd.DataFrame(data = tracks[:,0,:],columns = [\"AnalysisTracks_px\", \"AnalysisTracks_py\", \"AnalysisTracks_pz\", \"AnalysisTracks_z0sinTheta\",\n",
    "                  \"AnalysisTracks_d0sig\", \"AnalysisTracks_d0\", \"AnalysisTracks_d0sigPV\", \"AnalysisTracks_d0PV\"])          \n",
    "Bhad_Data = pd.DataFrame(data = bhads, columns = [\"Transverse Momentum\",\"Pseudorapidity\",\"Phi Angle\"] )\n",
    "Bhad_Cart_Data = pd.DataFrame(data = bhads_cart, columns = [\"Momentum_px\",\"Momentum_py\",\"Momentum_pz\"])\n",
    "Track_Cart_Data[\"AnalysisTracks_Momenta\"] = np.sqrt(Track_Cart_Data[\"AnalysisTracks_px\"]**2 + Track_Cart_Data[\"AnalysisTracks_py\"]**2 + Track_Cart_Data[\"AnalysisTracks_pz\"]**2)"
   ]
  },
  {
   "cell_type": "code",
   "execution_count": null,
   "metadata": {},
   "outputs": [],
   "source": [
    "Track_Data.head()"
   ]
  },
  {
   "cell_type": "code",
   "execution_count": null,
   "metadata": {},
   "outputs": [],
   "source": [
    "Track_Cart_Data.head()"
   ]
  },
  {
   "cell_type": "code",
   "execution_count": null,
   "metadata": {},
   "outputs": [],
   "source": [
    "Bhad_Data.head()"
   ]
  },
  {
   "cell_type": "code",
   "execution_count": null,
   "metadata": {},
   "outputs": [],
   "source": [
    "Bhad_Cart_Data.head()"
   ]
  },
  {
   "cell_type": "code",
   "execution_count": null,
   "metadata": {},
   "outputs": [],
   "source": [
    "Track_Data.describe()"
   ]
  },
  {
   "cell_type": "code",
   "execution_count": null,
   "metadata": {},
   "outputs": [],
   "source": [
    "Track_Cart_Data.describe()"
   ]
  },
  {
   "cell_type": "code",
   "execution_count": null,
   "metadata": {},
   "outputs": [],
   "source": [
    "Bhad_Data.describe()"
   ]
  },
  {
   "cell_type": "code",
   "execution_count": null,
   "metadata": {},
   "outputs": [],
   "source": [
    "Bhad_Cart_Data.describe()"
   ]
  },
  {
   "cell_type": "code",
   "execution_count": null,
   "metadata": {},
   "outputs": [],
   "source": [
    "Track_Data.info()"
   ]
  },
  {
   "cell_type": "code",
   "execution_count": null,
   "metadata": {},
   "outputs": [],
   "source": [
    "Track_Cart_Data.info()"
   ]
  },
  {
   "cell_type": "code",
   "execution_count": null,
   "metadata": {},
   "outputs": [],
   "source": [
    "Bhad_Data.info()"
   ]
  },
  {
   "cell_type": "code",
   "execution_count": null,
   "metadata": {},
   "outputs": [],
   "source": [
    "Bhad_Cart_Data.info()"
   ]
  },
  {
   "cell_type": "code",
   "execution_count": null,
   "metadata": {},
   "outputs": [],
   "source": [
    "Data = pd.concat([Track_Data,Bhad_Data],axis = 1)\n",
    "Data_Cart = pd.concat([Track_Cart_Data,Bhad_Cart_Data], axis = 1)"
   ]
  },
  {
   "cell_type": "code",
   "execution_count": null,
   "metadata": {},
   "outputs": [],
   "source": [
    "Data = Data[Data.AnalysisTracks_pt != -999]\n",
    "Data_Cart = Data_Cart[Data_Cart.AnalysisTracks_px != -999]\n",
    "Data.dropna(inplace = True)\n",
    "Data_Cart.dropna(inplace = True)"
   ]
  },
  {
   "cell_type": "code",
   "execution_count": null,
   "metadata": {},
   "outputs": [],
   "source": [
    "Data.head()"
   ]
  },
  {
   "cell_type": "code",
   "execution_count": null,
   "metadata": {},
   "outputs": [],
   "source": [
    "Data_Cart.head()"
   ]
  },
  {
   "cell_type": "code",
   "execution_count": null,
   "metadata": {},
   "outputs": [],
   "source": [
    "Track_Data = Data[[\"AnalysisTracks_pt\",\"AnalysisTracks_pseudorapidity\",\"AnalysisTracks_phi_angles\",\"AnalysisTracks_z0sinTheta\",\"AnalysisTracks_d0sig\",\"AnalysisTracks_d0\",\"AnalysisTracks_d0sigPV\",\"AnalysisTracks_d0PV\"]]\n",
    "Track_Cart_Data = Data_Cart[[\"AnalysisTracks_px\",\"AnalysisTracks_py\",\"AnalysisTracks_pz\",\"AnalysisTracks_z0sinTheta\",\"AnalysisTracks_d0sig\",\"AnalysisTracks_d0\",\"AnalysisTracks_d0sigPV\",\"AnalysisTracks_d0PV\"]]\n",
    "Bhad_Data = Data[[\"Transverse Momentum\", \"Pseudorapidity\",\"Phi Angle\"]]\n",
    "Bhad_Cart_Data = Data_Cart[[\"Momentum_px\",\"Momentum_py\",\"Momentum_pz\"]]"
   ]
  },
  {
   "cell_type": "code",
   "execution_count": null,
   "metadata": {},
   "outputs": [],
   "source": [
    "attributesA = [\"AnalysisTracks_pt\",\"AnalysisTracks_pseudorapidity\",\"AnalysisTracks_phi_angles\",\"Transverse Momentum\"]\n",
    "attributes2A = [\"AnalysisTracks_z0sinTheta\",\"AnalysisTracks_d0sig\",\"AnalysisTracks_d0\",\"AnalysisTracks_d0sigPV\",\"Transverse Momentum\"]"
   ]
  },
  {
   "cell_type": "code",
   "execution_count": null,
   "metadata": {},
   "outputs": [],
   "source": [
    "attributesB = [\"AnalysisTracks_px\",\"AnalysisTracks_py\",\"AnalysisTracks_pz\",\"Momentum_px\",\"Momentum_py\",\"Momentum_pz\"]\n",
    "attributes2B = [\"AnalysisTracks_z0sinTheta\",\"AnalysisTracks_d0sig\",\"AnalysisTracks_d0\",\"AnalysisTracks_d0sigPV\",\"Momentum_px\",\"Momentum_py\",\"Momentum_pz\"]"
   ]
  },
  {
   "cell_type": "code",
   "execution_count": null,
   "metadata": {},
   "outputs": [],
   "source": [
    "Data.AnalysisTracks_d0.describe()"
   ]
  },
  {
   "cell_type": "code",
   "execution_count": null,
   "metadata": {},
   "outputs": [],
   "source": [
    "scatter_matrix(Data[attributesA],figsize = (12,8))"
   ]
  },
  {
   "cell_type": "code",
   "execution_count": null,
   "metadata": {},
   "outputs": [],
   "source": [
    "scatter_matrix(Data[attributes2A],figsize = (12,12))"
   ]
  },
  {
   "cell_type": "code",
   "execution_count": null,
   "metadata": {},
   "outputs": [],
   "source": [
    "scatter_matrix(Data_Cart[attributesB],figsize = (12,8))"
   ]
  },
  {
   "cell_type": "code",
   "execution_count": null,
   "metadata": {},
   "outputs": [],
   "source": [
    "scatter_matrix(Data_Cart[attributes2B],figsize = (12,8))"
   ]
  },
  {
   "cell_type": "code",
   "execution_count": null,
   "metadata": {},
   "outputs": [],
   "source": [
    "Data.hist(bins = 50,figsize = (12,12))\n",
    "plt.show()"
   ]
  },
  {
   "cell_type": "code",
   "execution_count": null,
   "metadata": {},
   "outputs": [],
   "source": [
    "Data_Cart.hist(bins = 50,figsize = (12,12))\n",
    "plt.show()"
   ]
  },
  {
   "cell_type": "code",
   "execution_count": null,
   "metadata": {},
   "outputs": [],
   "source": [
    "mi_scores_Transverse_Momentum = make_mi_scores(Track_Data,Bhad_Data[\"Transverse Momentum\"])\n",
    "mi_scores_Transverse_Momentum"
   ]
  },
  {
   "cell_type": "code",
   "execution_count": null,
   "metadata": {},
   "outputs": [],
   "source": [
    "plt.Figure(dpi = 200,figsize = (12,12))\n",
    "plot_mi_scores(mi_scores_Transverse_Momentum)"
   ]
  },
  {
   "cell_type": "code",
   "execution_count": null,
   "metadata": {},
   "outputs": [],
   "source": [
    "mi_scores_Pseudorapidity = make_mi_scores(Track_Data,Bhad_Data[\"Pseudorapidity\"])\n",
    "mi_scores_Pseudorapidity"
   ]
  },
  {
   "cell_type": "code",
   "execution_count": null,
   "metadata": {},
   "outputs": [],
   "source": [
    "plt.Figure(dpi = 200, figsize = (8,5))\n",
    "plot_mi_scores(mi_scores_Pseudorapidity)"
   ]
  },
  {
   "cell_type": "code",
   "execution_count": null,
   "metadata": {},
   "outputs": [],
   "source": [
    "mi_scores_Phi_Angle = make_mi_scores(Track_Data,Bhad_Data[\"Phi Angle\"])\n",
    "mi_scores_Phi_Angle"
   ]
  },
  {
   "cell_type": "code",
   "execution_count": null,
   "metadata": {},
   "outputs": [],
   "source": [
    "plt.Figure(dpi = 100, figsize = (12,12))\n",
    "plot_mi_scores(mi_scores_Phi_Angle)"
   ]
  },
  {
   "cell_type": "code",
   "execution_count": null,
   "metadata": {},
   "outputs": [],
   "source": [
    "mi_scores_Momentum_px = make_mi_scores(Track_Cart_Data,Bhad_Cart_Data[\"Momentum_px\"])\n",
    "mi_scores_Momentum_px"
   ]
  },
  {
   "cell_type": "code",
   "execution_count": null,
   "metadata": {},
   "outputs": [],
   "source": [
    "plt.Figure(dpi = 100, figsize = (12,12))\n",
    "plot_mi_scores(mi_scores_Momentum_px)"
   ]
  },
  {
   "cell_type": "code",
   "execution_count": null,
   "metadata": {},
   "outputs": [],
   "source": [
    "mi_scores_Momentum_py = make_mi_scores(Track_Cart_Data,Bhad_Cart_Data[\"Momentum_py\"])\n",
    "mi_scores_Momentum_py"
   ]
  },
  {
   "cell_type": "code",
   "execution_count": null,
   "metadata": {},
   "outputs": [],
   "source": [
    "plt.Figure(dpi = 100, figsize = (12,12))\n",
    "plot_mi_scores(mi_scores_Momentum_py)"
   ]
  },
  {
   "cell_type": "code",
   "execution_count": null,
   "metadata": {},
   "outputs": [],
   "source": [
    "mi_scores_Momentum_pz = make_mi_scores(Track_Cart_Data,Bhad_Cart_Data[\"Momentum_pz\"])\n",
    "mi_scores_Momentum_pz"
   ]
  },
  {
   "cell_type": "code",
   "execution_count": null,
   "metadata": {},
   "outputs": [],
   "source": [
    "plt.Figure(dpi = 100, figsize = (12,12))\n",
    "plot_mi_scores(mi_scores_Momentum_pz)"
   ]
  },
  {
   "cell_type": "code",
   "execution_count": null,
   "metadata": {},
   "outputs": [],
   "source": [
    "sum_tracks = np.sum(matchedtracks[:,:,0],axis = 1)\n",
    "print(np.shape(tracks))\n",
    "print(np.shape(sum_tracks))\n",
    "print(sum_tracks[0])\n",
    "print(matchedtracks[0,:,0])\n",
    "binneddensity(sum_tracks-bhads[:,0],fixedbinning(-150000,300000,100),xlabel =\"Sum_px_Tracks - Momentum True\")"
   ]
  },
  {
   "cell_type": "code",
   "execution_count": null,
   "metadata": {},
   "outputs": [],
   "source": [
    "sum_tracks_cart_px = np.ma.sum(tracks[:,:,0],axis = 1)\n",
    "print(sum_tracks_cart_px)\n",
    "binneddensity(sum_tracks_cart_px-bhads_cart[:,0],fixedbinning(-250000,300000,100),xlabel =\"Sum_Tracks_px - Momentum True\")"
   ]
  },
  {
   "cell_type": "code",
   "execution_count": null,
   "metadata": {},
   "outputs": [],
   "source": [
    "binneddensity(sum_tracks_cart_px,fixedbinning(-90000,90000,100),xlabel = \"Sum of the X momenta of the tracks of each event\")"
   ]
  },
  {
   "cell_type": "code",
   "execution_count": null,
   "metadata": {},
   "outputs": [],
   "source": [
    "sum_tracks_cart_py = np.ma.sum(tracks[:,:,1],axis = 1)\n",
    "binneddensity(sum_tracks_cart_py-bhads_cart[:,1],fixedbinning(-250000,300000,100),xlabel =\"Sum_py_Tracks - Momentum True\")"
   ]
  },
  {
   "cell_type": "code",
   "execution_count": null,
   "metadata": {},
   "outputs": [],
   "source": [
    "sum_tracks_cart_pz = np.ma.sum(tracks[:,:,2],axis = 1)\n",
    "binneddensity(sum_tracks_cart_pz-bhads_cart[:,2],fixedbinning(-250000,300000,100),xlabel =\"Sum_pz_Tracks - Momentum True\")"
   ]
  },
  {
   "cell_type": "code",
   "execution_count": null,
   "metadata": {},
   "outputs": [],
   "source": [
    "binneddensity(sum_tracks,fixedbinning(-25000,150000,100),xlabel = \"Sum Tracks\")"
   ]
  },
  {
   "cell_type": "code",
   "execution_count": null,
   "metadata": {},
   "outputs": [],
   "source": [
    "Covariance_matrix = Data.corr()\n",
    "Covariance_matrix[\"Transverse Momentum\"].sort_values(ascending = False)"
   ]
  },
  {
   "cell_type": "code",
   "execution_count": null,
   "metadata": {},
   "outputs": [],
   "source": [
    "Covariance_matrix = Data_Cart.corr()\n",
    "Covariance_matrix[\"Momentum_px\"].sort_values(ascending = False)"
   ]
  },
  {
   "cell_type": "code",
   "execution_count": null,
   "metadata": {},
   "outputs": [],
   "source": [
    "Covariance_matrix = Data_Cart.corr()\n",
    "Covariance_matrix[\"Momentum_py\"].sort_values(ascending = False)"
   ]
  },
  {
   "cell_type": "code",
   "execution_count": null,
   "metadata": {},
   "outputs": [],
   "source": [
    "Covariance_matrix = Data_Cart.corr()\n",
    "Covariance_matrix[\"Momentum_pz\"].sort_values(ascending = False)"
   ]
  },
  {
   "cell_type": "code",
   "execution_count": null,
   "metadata": {},
   "outputs": [],
   "source": [
    "fig,ax = plt.subplots(figsize = (12,12))\n",
    "sns.scatterplot(\n",
    "    x = bhads[:,0],\n",
    "    y = sum_tracks,\n",
    "    color = \"red\"\n",
    ")\n",
    "ax.set_title(\"Scatterplot \")\n",
    "ax.set_xlim([np.min(bhads[:,0]),np.max(bhads[:,0])])\n",
    "ax.set_ylim([np.min(matchedtracks[:,0,0]),np.max(matchedtracks[:,0,0])])\n",
    "ax.set_ylabel(\"The sum tranverse momenta of the tracks from each event\")\n",
    "ax.set_xlabel(\"Tranverse momenta of b hadron\")\n",
    "plt.show()"
   ]
  },
  {
   "cell_type": "code",
   "execution_count": null,
   "metadata": {},
   "outputs": [],
   "source": [
    "fig,ax = plt.subplots(figsize = (12,12))\n",
    "sns.scatterplot(\n",
    "    x = bhads[:,0],\n",
    "    y = matchedtracks[:,0,0],\n",
    "    color = \"red\"\n",
    ")\n",
    "ax.set_title(\"Scatterplot \")\n",
    "ax.set_xlim([np.min(bhads[:,0]),np.max(bhads[:,0])])\n",
    "ax.set_ylim([np.min(matchedtracks[:,0,0]),np.max(matchedtracks[:,0,0])])\n",
    "ax.set_ylabel(\"The tranverse momenta of first tracks from events\")\n",
    "ax.set_xlabel(\"Tranverse momenta of b hadron\")\n",
    "plt.show()"
   ]
  },
  {
   "cell_type": "code",
   "execution_count": null,
   "metadata": {},
   "outputs": [],
   "source": [
    "fig,ax = plt.subplots(figsize = (12,12))\n",
    "sns.scatterplot(\n",
    "    x = bhads_cart[:,0],\n",
    "    y = sum_tracks_cart_px,\n",
    "    color = \"purple\"\n",
    ")\n",
    "ax.set_title(\"Scatterplot \")\n",
    "ax.set_xlim([np.min(bhads_cart[:,0]),np.max(bhads_cart[:,0])])\n",
    "ax.set_ylim([np.min(tracks[:,0,0]),np.max(tracks[:,0,0])])\n",
    "ax.set_ylabel(\"The sum of the X momenta of the tracks from each event\")\n",
    "ax.set_xlabel(\"The X momenta of b hadron jets\")\n",
    "plt.show()"
   ]
  },
  {
   "cell_type": "code",
   "execution_count": null,
   "metadata": {},
   "outputs": [],
   "source": [
    "fig,ax = plt.subplots(figsize = (12,12))\n",
    "sns.scatterplot(\n",
    "    x = bhads_cart[:,0],\n",
    "    y = tracks[:,0,0],\n",
    "    color = \"purple\"\n",
    ")\n",
    "ax.set_title(\"Scatterplot \")\n",
    "ax.set_xlim([np.min(bhads_cart[:,0]),np.max(bhads_cart[:,0])])\n",
    "ax.set_ylim([np.min(tracks[:,0,0]),np.max(tracks[:,0,0])])\n",
    "ax.set_ylabel(\"The X momenta of first tracks from events\")\n",
    "ax.set_xlabel(\"The X momenta of b hadron jets\")\n",
    "plt.show()"
   ]
  },
  {
   "cell_type": "code",
   "execution_count": null,
   "metadata": {},
   "outputs": [],
   "source": [
    "fig,ax = plt.subplots(figsize = (12,12))\n",
    "sns.scatterplot(\n",
    "    x = bhads_cart[:,1],\n",
    "    y = sum_tracks_cart_py,\n",
    "    color = \"orange\"\n",
    ")\n",
    "ax.set_title(\"Scatterplot \")\n",
    "ax.set_xlim([np.min(bhads_cart[:,1]),np.max(bhads_cart[:,1])])\n",
    "ax.set_ylim([np.min(tracks[:,0,1]),np.max(tracks[:,0,1])])\n",
    "ax.set_ylabel(\"The sum Y momenta of the tracks from each event\")\n",
    "ax.set_xlabel(\"The Y momenta of b hadron jets\")\n",
    "plt.show()"
   ]
  },
  {
   "cell_type": "code",
   "execution_count": null,
   "metadata": {},
   "outputs": [],
   "source": [
    "fig,ax = plt.subplots(figsize = (12,12))\n",
    "sns.scatterplot(\n",
    "    x = bhads_cart[:,1],\n",
    "    y = tracks[:,0,1],\n",
    "    color = \"orange\"\n",
    ")\n",
    "ax.set_title(\"Scatterplot \")\n",
    "ax.set_xlim([np.min(bhads_cart[:,1]),np.max(bhads_cart[:,1])])\n",
    "ax.set_ylim([np.min(tracks[:,0,1]),np.max(tracks[:,0,1])])\n",
    "ax.set_ylabel(\"The Y momenta of the first tracks from events\")\n",
    "ax.set_xlabel(\"The Y momenta of b hadron jets\")\n",
    "plt.show()"
   ]
  },
  {
   "cell_type": "code",
   "execution_count": null,
   "metadata": {},
   "outputs": [],
   "source": [
    "fig,ax = plt.subplots(figsize = (12,12))\n",
    "sns.scatterplot(\n",
    "    x = bhads_cart[:,2],\n",
    "    y = sum_tracks_cart_pz,\n",
    "    color = \"green\"\n",
    ")\n",
    "ax.set_title(\"Scatterplot \")\n",
    "ax.set_xlim([np.min(bhads_cart[:,2]),np.max(bhads_cart[:,2])])\n",
    "ax.set_ylim([np.min(tracks[:,0,2]),np.max(tracks[:,0,2])])\n",
    "ax.set_ylabel(\"The sum Z momenta of the tracks from each event\")\n",
    "ax.set_xlabel(\"The Z momenta of b hadron jets\")\n",
    "plt.show()"
   ]
  },
  {
   "cell_type": "code",
   "execution_count": null,
   "metadata": {},
   "outputs": [],
   "source": [
    "fig,ax = plt.subplots(figsize = (12,12))\n",
    "sns.scatterplot(\n",
    "    x = bhads_cart[:,2],\n",
    "    y = tracks[:,0,2],\n",
    "    color = \"green\"\n",
    ")\n",
    "ax.set_title(\"Scatterplot \")\n",
    "ax.set_xlim([np.min(bhads_cart[:,2]),np.max(bhads_cart[:,2])])\n",
    "ax.set_ylim([np.min(tracks[:,0,2]),np.max(tracks[:,0,2])])\n",
    "ax.set_ylabel(\"The Z momenta of the first tracks from events\")\n",
    "ax.set_xlabel(\"The Z momenta of b hadron jets\")\n",
    "plt.show()"
   ]
  }
 ],
 "metadata": {
  "kernelspec": {
   "display_name": "Python 3.9.12 ('SpocFit')",
   "language": "python",
   "name": "python3"
  },
  "language_info": {
   "codemirror_mode": {
    "name": "ipython",
    "version": 3
   },
   "file_extension": ".py",
   "mimetype": "text/x-python",
   "name": "python",
   "nbconvert_exporter": "python",
   "pygments_lexer": "ipython3",
   "version": "3.9.12 (main, Apr  5 2022, 06:56:58) \n[GCC 7.5.0]"
  },
  "orig_nbformat": 4,
  "vscode": {
   "interpreter": {
    "hash": "a05ddcd8ffea9a6a7d2e914b733df5445b717626b5b8c92c04bfc4eb6e7f5cba"
   }
  }
 },
 "nbformat": 4,
 "nbformat_minor": 2
}
