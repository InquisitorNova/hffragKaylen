{
 "cells": [
  {
   "cell_type": "code",
   "execution_count": 1,
   "metadata": {},
   "outputs": [
    {
     "name": "stderr",
     "output_type": "stream",
     "text": [
      "2023-01-27 19:49:09.981353: I tensorflow/core/platform/cpu_feature_guard.cc:193] This TensorFlow binary is optimized with oneAPI Deep Neural Network Library (oneDNN) to use the following CPU instructions in performance-critical operations:  AVX2 AVX512F AVX512_VNNI FMA\n",
      "To enable them in other operations, rebuild TensorFlow with the appropriate compiler flags.\n",
      "2023-01-27 19:49:10.133075: I tensorflow/core/util/port.cc:104] oneDNN custom operations are on. You may see slightly different numerical results due to floating-point round-off errors from different computation orders. To turn them off, set the environment variable `TF_ENABLE_ONEDNN_OPTS=0`.\n",
      "2023-01-27 19:49:10.137152: W tensorflow/compiler/xla/stream_executor/platform/default/dso_loader.cc:64] Could not load dynamic library 'libcudart.so.11.0'; dlerror: libcudart.so.11.0: cannot open shared object file: No such file or directory\n",
      "2023-01-27 19:49:10.137167: I tensorflow/compiler/xla/stream_executor/cuda/cudart_stub.cc:29] Ignore above cudart dlerror if you do not have a GPU set up on your machine.\n",
      "2023-01-27 19:49:11.306149: W tensorflow/compiler/xla/stream_executor/platform/default/dso_loader.cc:64] Could not load dynamic library 'libnvinfer.so.7'; dlerror: libnvinfer.so.7: cannot open shared object file: No such file or directory\n",
      "2023-01-27 19:49:11.306215: W tensorflow/compiler/xla/stream_executor/platform/default/dso_loader.cc:64] Could not load dynamic library 'libnvinfer_plugin.so.7'; dlerror: libnvinfer_plugin.so.7: cannot open shared object file: No such file or directory\n",
      "2023-01-27 19:49:11.306222: W tensorflow/compiler/tf2tensorrt/utils/py_utils.cc:38] TF-TRT Warning: Cannot dlopen some TensorRT libraries. If you would like to use Nvidia GPU with TensorRT, please make sure the missing libraries mentioned above are installed properly.\n"
     ]
    },
    {
     "name": "stdout",
     "output_type": "stream",
     "text": [
      "number of jets to train on:\n",
      "141329\n"
     ]
    },
    {
     "name": "stderr",
     "output_type": "stream",
     "text": [
      "/home/physics/phujdj/DeepLearningParticlePhysics/hffrag.py:136: RuntimeWarning: overflow encountered in sinh\n",
      "  pzs = numpy.where(mask, pts, pts * numpy.sinh(etas))\n",
      "/home/physics/phujdj/anaconda3/envs/SpocFit/lib/python3.9/site-packages/tensorflow_addons/utils/ensure_tf_install.py:53: UserWarning: Tensorflow Addons supports using Python ops for all Tensorflow versions above or equal to 2.8.0 and strictly below 2.11.0 (nightly versions are not supported). \n",
      " The versions of TensorFlow you are currently using is 2.11.0 and is not supported. \n",
      "Some things might work, some things might not.\n",
      "If you were to encounter a bug, do not file an issue.\n",
      "If you want to make sure you're using a tested and supported configuration, either change the TensorFlow version or the TensorFlow Addons's version. \n",
      "You can find the compatibility matrix in TensorFlow Addon's readme:\n",
      "https://github.com/tensorflow/addons\n",
      "  warnings.warn(\n"
     ]
    }
   ],
   "source": [
    "\"\"\"\n",
    "*Filename: hffragMultivariateTransformerTrainer\n",
    "*Description: In this jupyter notebook the hffragTransformerMultivariateJetTransformer is trained\n",
    "*using the multivariate gaussian negative loss likelihood function. Once trained the program returns\n",
    "*the resolutions plots and scatterplots of the true vs predicted.\n",
    "Date: 16/02/2023\n",
    "Author: Kaylen Smith Darnbrook\n",
    "\"\"\"\n",
    "import os\n",
    "import numpy as np\n",
    "from keras import callbacks\n",
    "import keras\n",
    "import DeepSetNeuralNetArchitecture as DSNNA\n",
    "import hffragTransformerJetMSEMultivariate as hffragT\n",
    "from DeepSetNeuralNetArchitecture import PredictOnEpoch\n",
    "from DeepSetNeuralNetArchitecture import LogNormal_Loss_Function\n",
    "from DeepSetNeuralNetArchitecture import Mean_Squared_Error\n",
    "import keras.backend as k\n",
    "import numpy_indexed as npi\n",
    "import uproot\n",
    "import awkward as ak\n",
    "import sklearn as sk\n",
    "from numpy.lib.recfunctions import structured_to_unstructured\n",
    "from sklearn.model_selection import train_test_split\n",
    "import tensorflow as tf\n",
    "import tensorflow_addons as tfa\n",
    "from sklearn.preprocessing import StandardScaler\n",
    "import pandas as pd\n",
    "from hffrag import fixedbinning\n",
    "from hffrag import binneddensity\n",
    "from keras.utils.vis_utils import plot_model\n",
    "from timeit import default_timer as timer\n",
    "import matplotlib.pyplot as plt\n",
    "%matplotlib inline"
   ]
  },
  {
   "cell_type": "code",
   "execution_count": 3,
   "metadata": {},
   "outputs": [],
   "source": [
    "# The data is being stored in a tree datastructure.\n",
    "# We access the charm root using this command\n",
    "tree = uproot.open(\"hffrag.root:CharmAnalysis\")"
   ]
  },
  {
   "cell_type": "code",
   "execution_count": 4,
   "metadata": {},
   "outputs": [],
   "source": [
    "# Initial parameters\n",
    "MASKVAL = -999 # This value is introduced to ensure arrays are regular (Of the same size). They will be masked later by the network\n",
    "MAXTRACKS = 32 # This value is the maximum number of tracks allowed per event\n",
    "BATCHSIZE = 64 # This is the batch size of the mini batches used during training\n",
    "EPOCHS = 1000 # This is the default number of epochs for which the neural network will train providing that early stopping does not occur\n",
    "MAXEVENTS = 1e20 #This is the maximum number of events that will the program will accept\n",
    "LR = 1e-4 #This is the default learning rate\n",
    "num_layers = 2\n",
    "d_model = 32\n",
    "dff = 32\n",
    "num_heads = 2\n",
    "n_targets = 3\n",
    "dropout_rate = 0.0001\n",
    "track_layers = 3\n",
    "jet_layers = [64,64,64,64]"
   ]
  },
  {
   "cell_type": "code",
   "execution_count": 6,
   "metadata": {},
   "outputs": [],
   "source": [
    "# Select the features we wish to study\n",
    "track_features = [\"AnalysisTracks_pt\", \"AnalysisTracks_eta\", \"AnalysisTracks_phi\", \"AnalysisTracks_z0sinTheta\",\n",
    "                  \"AnalysisTracks_d0sig\", \"AnalysisTracks_d0\", \"AnalysisTracks_d0sigPV\", \"AnalysisTracks_d0PV\"]\n",
    "jet_features = [\"AnalysisAntiKt4TruthJets_pt\", \"AnalysisAntiKt4TruthJets_eta\", \"AnalysisAntiKt4TruthJets_phi\",\n",
    "                \"AnalysisAntiKt4TruthJets_ghostB_pt\", \"AnalysisAntiKt4TruthJets_ghostB_eta\",\"AnalysisAntiKt4TruthJets_ghostB_phi\"]"
   ]
  },
  {
   "cell_type": "code",
   "execution_count": 7,
   "metadata": {},
   "outputs": [],
   "source": [
    "# Read in the data from the root file\n",
    "features = tree.arrays(jet_features+track_features, entry_stop=MAXEVENTS)"
   ]
  },
  {
   "cell_type": "code",
   "execution_count": 8,
   "metadata": {},
   "outputs": [],
   "source": [
    "# Select the events of interest\n",
    "events = features[ak.sum(\n",
    "    features[\"AnalysisAntiKt4TruthJets_pt\"] > 25000, axis=1) > 0]"
   ]
  },
  {
   "cell_type": "code",
   "execution_count": 9,
   "metadata": {},
   "outputs": [
    {
     "name": "stdout",
     "output_type": "stream",
     "text": [
      "The number of jets to train on is:  141329\n",
      "The number of track features is:  8\n"
     ]
    }
   ],
   "source": [
    "# Displays the number of jets being trained on\n",
    "jets = events[jet_features][:, 0]\n",
    "print(\"The number of jets to train on is: \", len(jets))\n",
    "print(\"The number of track features is: \",len(track_features))"
   ]
  },
  {
   "cell_type": "code",
   "execution_count": 10,
   "metadata": {},
   "outputs": [],
   "source": [
    "# Select tracks from the events\n",
    "tracks = events[track_features]\n",
    "\n",
    "# Match the tracks to the jets\n",
    "matchedtracks = tracks[DSNNA.Match_Tracks(jets, tracks)]\n",
    "\n",
    "# Pad and Flatten the data\n",
    "matchedtracks = DSNNA.flatten(matchedtracks, MAXTRACKS)"
   ]
  },
  {
   "cell_type": "code",
   "execution_count": 11,
   "metadata": {},
   "outputs": [
    {
     "name": "stdout",
     "output_type": "stream",
     "text": [
      "There are 3 outputs\n",
      "There are 32 inputs\n"
     ]
    }
   ],
   "source": [
    "# Identify the the bottom jets and their associated tracks\n",
    "bjets = ak.sum(jets[\"AnalysisAntiKt4TruthJets_ghostB_pt\"] > 5000, axis=1) > 0\n",
    "jets = jets[bjets]\n",
    "\n",
    "# Obtain the pt, eta and phi of each b hadron jet\n",
    "bhads_pt = jets[\"AnalysisAntiKt4TruthJets_ghostB_pt\"][:, 0].to_numpy()\n",
    "bhads_eta = jets[\"AnalysisAntiKt4TruthJets_ghostB_eta\"][:,0].to_numpy()\n",
    "bhads_phi = jets[\"AnalysisAntiKt4TruthJets_ghostB_phi\"][:,0].to_numpy()\n",
    "\n",
    "jets_pt = jets[\"AnalysisAntiKt4TruthJets_pt\"].to_numpy()\n",
    "jets_eta = jets[\"AnalysisAntiKt4TruthJets_eta\"].to_numpy()\n",
    "jets_phi = jets[\"AnalysisAntiKt4TruthJets_phi\"].to_numpy()\n",
    "b_jets = np.stack([jets_pt,jets_eta,jets_phi], axis = -1)\n",
    "\n",
    "bhads = np.stack([bhads_pt,bhads_eta,bhads_phi],axis = -1) #Combine the momentum, eta and phi for each jet into one array\n",
    "\n",
    "print(\"There are {} outputs\".format(np.shape(bhads)[1])) # Display the number of target features the neural network will predict\n",
    "matchedtracks = matchedtracks[bjets]\n",
    "print(\"There are {} inputs\".format(np.shape(matchedtracks)[1])) # Display the number of target features the neural network will use in it's ppredictions"
   ]
  },
  {
   "cell_type": "code",
   "execution_count": 12,
   "metadata": {},
   "outputs": [],
   "source": [
    "# Transform the jet and tracks to unstructed data.\n",
    "jets = structured_to_unstructured(jets[jet_features[:-3]])\n",
    "matchedtracks = structured_to_unstructured(matchedtracks)"
   ]
  },
  {
   "cell_type": "code",
   "execution_count": 13,
   "metadata": {},
   "outputs": [
    {
     "name": "stderr",
     "output_type": "stream",
     "text": [
      "/home/physics/phujdj/DeepLearningParticlePhysics/DeepSetNeuralNetArchitecture.py:104: RuntimeWarning: overflow encountered in sinh\n",
      "  pzs = np.where(mask1 | mask3, pts, pts * np.sinh(etas))\n"
     ]
    }
   ],
   "source": [
    "# Convert the coordinates of the b jets and tracks to cartesian coordinates\n",
    "tracks_p = DSNNA.pt_eta_phi_2_px_py_pz_tracks(matchedtracks.to_numpy())\n",
    "bhads = DSNNA.pt_eta_phi_2_px_py_pz_jets(bhads)\n",
    "b_jets = DSNNA.pt_eta_phi_2_px_py_pz_jets(b_jets)\n",
    "\n",
    "#Combine the momenta of the tracks with the rest of the track features to form the track dataset\n",
    "tracks = np.concatenate([tracks_p,matchedtracks[:,:,3:].to_numpy()],axis = 2)"
   ]
  },
  {
   "cell_type": "code",
   "execution_count": 14,
   "metadata": {},
   "outputs": [
    {
     "name": "stdout",
     "output_type": "stream",
     "text": [
      "(68143,)\n",
      "(68143, 3)\n",
      "[0.92818976 0.92693198 0.92622171]\n",
      "0.928189759678061\n",
      "-1196.4922484782348 373.05142412393263\n"
     ]
    }
   ],
   "source": [
    "#Scale the bhads targets by the corresponding b_jet features\n",
    "bhads_scaled_px = bhads[:,0]/b_jets[:,0]\n",
    "bhads_scaled_py = bhads[:,1]/b_jets[:,1]\n",
    "bhads_scaled_pz = bhads[:,2]/b_jets[:,2]\n",
    "print(bhads_scaled_px.shape)\n",
    "\n",
    "bhads_scaled = np.stack([bhads_scaled_px,bhads_scaled_py, bhads_scaled_pz], axis = -1)\n",
    "print(bhads_scaled.shape)\n",
    "\n",
    "print(bhads_scaled[0])\n",
    "print(bhads[0,0]/b_jets[0,0])\n",
    "print(np.min(bhads_scaled),np.max(bhads_scaled))"
   ]
  },
  {
   "cell_type": "code",
   "execution_count": 15,
   "metadata": {},
   "outputs": [
    {
     "name": "stdout",
     "output_type": "stream",
     "text": [
      "0.0002445699975906098 1.4997481998002957\n"
     ]
    }
   ],
   "source": [
    "#Mask the outliers from the dataset\n",
    "bhads_scaled_0 = bhads_scaled[(bhads_scaled[:,0] > 0) & (bhads_scaled[:,0] < 1.5)]\n",
    "bhads_scaled_1 = bhads_scaled_0[(bhads_scaled_0[:,1] > 0) & (bhads_scaled_0[:,1] < 1.5)]\n",
    "bhads_scaled_masked = bhads_scaled_1[(bhads_scaled_1[:,2] > 0) & (bhads_scaled_1[:,2] < 1.5)]\n",
    "print(np.min(bhads_scaled_masked), np.max(bhads_scaled_masked))"
   ]
  },
  {
   "cell_type": "code",
   "execution_count": 16,
   "metadata": {},
   "outputs": [],
   "source": [
    "mask = npi.as_index(bhads_scaled_masked)\n",
    "indices = npi.indices(bhads_scaled, bhads_scaled_masked, missing = 'mask').compressed()"
   ]
  },
  {
   "cell_type": "code",
   "execution_count": 17,
   "metadata": {},
   "outputs": [],
   "source": [
    "#Apply the masking across the entire dataset\n",
    "tracks_masked = tracks[indices]\n",
    "bhads_masked = bhads[indices]\n",
    "b_jets_masked = b_jets[indices]"
   ]
  },
  {
   "cell_type": "code",
   "execution_count": 18,
   "metadata": {},
   "outputs": [
    {
     "name": "stdout",
     "output_type": "stream",
     "text": [
      "(64506,)\n",
      "(64506, 32, 8)\n",
      "(64506, 3)\n"
     ]
    }
   ],
   "source": [
    "print(indices.shape)\n",
    "print(tracks_masked.shape)\n",
    "print(bhads_scaled_masked.shape)"
   ]
  },
  {
   "cell_type": "code",
   "execution_count": 19,
   "metadata": {},
   "outputs": [
    {
     "name": "stdout",
     "output_type": "stream",
     "text": [
      "(64506, 3)\n",
      "(64506, 3)\n"
     ]
    }
   ],
   "source": [
    "print(b_jets_masked.shape)\n",
    "print(bhads_masked.shape)"
   ]
  },
  {
   "cell_type": "code",
   "execution_count": 20,
   "metadata": {},
   "outputs": [
    {
     "name": "stdout",
     "output_type": "stream",
     "text": [
      "(64506, 6)\n"
     ]
    }
   ],
   "source": [
    "#Generate additional track and jet features.\n",
    "sum_px_tracks_masked = np.sum(tracks_masked[:,:,0], axis = 1)\n",
    "sum_py_tracks_masked = np.sum(tracks_masked[:,:,1], axis = 1)\n",
    "sum_pz_tracks_masked = np.sum(tracks_masked[:,:,2], axis = 1)\n",
    "sum_tracks_masked = np.array([sum_px_tracks_masked, sum_py_tracks_masked, sum_pz_tracks_masked]).reshape(-1,3)\n",
    "b_jets_temp_masked = np.concatenate([b_jets_masked, sum_tracks_masked], axis = 1)\n",
    "b_jets_scaled_px = b_jets_temp_masked[:,0]/b_jets_masked[:,0]\n",
    "b_jets_scaled_py = b_jets_temp_masked[:,1]/b_jets_masked[:,1]\n",
    "b_jets_scaled_pz = b_jets_temp_masked[:,2]/b_jets_masked[:,2]\n",
    "b_jets_scaled_px_sum = b_jets_temp_masked[:,3]/b_jets_masked[:,0]\n",
    "b_jets_scaled_py_sum = b_jets_temp_masked[:,4]/b_jets_masked[:,1]\n",
    "b_jets_scaled_pz_sum = b_jets_temp_masked[:,5]/b_jets_masked[:,2]\n",
    "b_jets_scaled_masked = np.concatenate([np.array([b_jets_scaled_px, b_jets_scaled_py, b_jets_scaled_pz]).reshape(-1,3), np.array([b_jets_scaled_px_sum, b_jets_scaled_py_sum, b_jets_scaled_pz_sum]).reshape(-1,3)], axis = -1)\n",
    "print(b_jets_scaled_masked.shape)"
   ]
  },
  {
   "cell_type": "code",
   "execution_count": 21,
   "metadata": {},
   "outputs": [
    {
     "name": "stdout",
     "output_type": "stream",
     "text": [
      "-3238829.8914967137 4808153.95207433\n",
      "-683.5547883578922 1937.4886297791527\n"
     ]
    }
   ],
   "source": [
    "print(np.min(b_jets_temp_masked[:,3]), np.max(b_jets_temp_masked[:,3]))\n",
    "print(np.min(b_jets_scaled_masked[:,3]), np.max(b_jets_scaled_masked[:,3]))"
   ]
  },
  {
   "cell_type": "code",
   "execution_count": 22,
   "metadata": {},
   "outputs": [],
   "source": [
    "# Split the data into training and validation sets.\n",
    "X_train, X_valid, y_train, y_valid = train_test_split(\n",
    "    tracks_masked, bhads_scaled_masked, train_size=0.7, random_state = 42)"
   ]
  },
  {
   "cell_type": "code",
   "execution_count": 23,
   "metadata": {},
   "outputs": [],
   "source": [
    "# Split the data into training and validation sets.\n",
    "X_train_b_jets, X_valid_b_jets, y_train_b_jets, y_valid_b_jets = train_test_split(\n",
    "    b_jets_temp_masked, bhads_scaled_masked, train_size=0.7, random_state = 42)"
   ]
  },
  {
   "cell_type": "code",
   "execution_count": 24,
   "metadata": {},
   "outputs": [
    {
     "name": "stdout",
     "output_type": "stream",
     "text": [
      "(45154, 32, 8) (45154, 3)\n",
      "(1, 32, 8) (1, 3)\n"
     ]
    }
   ],
   "source": [
    "#Single Event Test Cases.\n",
    "X_train_event, y_train_event = np.array([X_train[0]]), np.array([y_train[0]])\n",
    "X_valid_event, y_valid_event = np.array([X_valid[0]]), np.array([y_valid[0]])\n",
    "print(np.shape(X_train),np.shape(y_train))\n",
    "print(np.shape(X_train_event),np.shape(y_train_event))"
   ]
  },
  {
   "cell_type": "code",
   "execution_count": 25,
   "metadata": {},
   "outputs": [
    {
     "name": "stdout",
     "output_type": "stream",
     "text": [
      "(45154, 32, 8) (19352, 32, 8)\n",
      "(45154, 6) (19352, 6)\n",
      "(45154, 3) (19352, 3)\n"
     ]
    }
   ],
   "source": [
    "#Check for the of the training and validation sets\n",
    "print(np.shape(X_train), np.shape(X_valid))\n",
    "print(np.shape(X_train_b_jets), np.shape(X_valid_b_jets))\n",
    "print(np.shape(y_train), np.shape(y_valid))"
   ]
  },
  {
   "cell_type": "code",
   "execution_count": 26,
   "metadata": {},
   "outputs": [],
   "source": [
    "#Save the training and validation datasets.\n",
    "np.save(\"/home/physics/phujdj/DeepLearningParticlePhysics/TrainingAndValidationData/X_train_data.npy\",X_train)\n",
    "np.save(\"/home/physics/phujdj/DeepLearningParticlePhysics/TrainingAndValidationData/X_valid_data.npy\",X_valid)\n",
    "np.save(\"/home/physics/phujdj/DeepLearningParticlePhysics/TrainingAndValidationData/y_train_data.npy\",y_train)\n",
    "np.save(\"/home/physics/phujdj/DeepLearningParticlePhysics/TrainingAndValidationData/y_valid_data.npy\",y_valid)"
   ]
  },
  {
   "cell_type": "code",
   "execution_count": 27,
   "metadata": {},
   "outputs": [],
   "source": [
    "#Define the learning rate schedule for the transformer\n",
    "class TransformerSchedule(tf.keras.optimizers.schedules.LearningRateSchedule):\n",
    "    def __init__(self, d_model, warmup_steps=4000):\n",
    "        super().__init__()\n",
    "\n",
    "        self.d_model = d_model\n",
    "        self.d_model = tf.cast(self.d_model, tf.float32)\n",
    "\n",
    "        self.warmup_steps = warmup_steps\n",
    "    \n",
    "    def __call__(self, step):\n",
    "        step = tf.cast(step, dtype=tf.float32)\n",
    "        arg1 = tf.math.rsqrt(step)\n",
    "        arg2 = step * (self.warmup_steps ** -1.5)\n",
    "\n",
    "        return tf.math.rsqrt(self.d_model) * tf.math.minimum(arg1, arg2)\n",
    "\n",
    "#Create the callback which clocks the time taken to train\n",
    "class TimingCallback(keras.callbacks.Callback):\n",
    "    def __init__(self, logs = {}):\n",
    "        self.logs = []\n",
    "    def on_epoch_begin(self, epoch, logs ={}):\n",
    "        self.starttime = timer()\n",
    "    def on_epoch_end(self, epoch, logs = {}):\n",
    "        self.logs.append(timer() - self.starttime)"
   ]
  },
  {
   "cell_type": "code",
   "execution_count": 28,
   "metadata": {},
   "outputs": [
    {
     "name": "stderr",
     "output_type": "stream",
     "text": [
      "2023-01-27 19:50:59.459433: W tensorflow/compiler/xla/stream_executor/platform/default/dso_loader.cc:64] Could not load dynamic library 'libcuda.so.1'; dlerror: libcuda.so.1: cannot open shared object file: No such file or directory\n",
      "2023-01-27 19:50:59.459466: W tensorflow/compiler/xla/stream_executor/cuda/cuda_driver.cc:265] failed call to cuInit: UNKNOWN ERROR (303)\n",
      "2023-01-27 19:50:59.459485: I tensorflow/compiler/xla/stream_executor/cuda/cuda_diagnostics.cc:156] kernel driver does not appear to be running on this host (vonneumann.csc.warwick.ac.uk): /proc/driver/nvidia/version does not exist\n",
      "2023-01-27 19:50:59.459954: I tensorflow/core/platform/cpu_feature_guard.cc:193] This TensorFlow binary is optimized with oneAPI Deep Neural Network Library (oneDNN) to use the following CPU instructions in performance-critical operations:  AVX2 AVX512F AVX512_VNNI FMA\n",
      "To enable them in other operations, rebuild TensorFlow with the appropriate compiler flags.\n"
     ]
    }
   ],
   "source": [
    "#Initialises a transformer model.\n",
    "ParticleTranformer = hffragT.hffragTransformer(\n",
    "    track_layers = 3,\n",
    "    jet_layers =  jet_layers, \n",
    "    d_model = d_model, \n",
    "    num_heads = num_heads,\n",
    "    MASKVAL= MASKVAL,\n",
    "    dff = dff,\n",
    "    n_targets= n_targets,\n",
    "    n_features=6)"
   ]
  },
  {
   "cell_type": "code",
   "execution_count": 29,
   "metadata": {},
   "outputs": [],
   "source": [
    "#Creates the optimizer used to train the transformer\n",
    "learning_rating = TransformerSchedule(d_model)\n",
    "optimizer = tf.keras.optimizers.Nadam(LR, clipnorm= 0.001)"
   ]
  },
  {
   "cell_type": "code",
   "execution_count": 30,
   "metadata": {},
   "outputs": [],
   "source": [
    "#Attach an optimizer and loss to the transformer\n",
    "ParticleTranformer.compile(\n",
    "    optimizer=optimizer,\n",
    "    loss = hffragT.Multivariate_Gaussian_Negative_Likelihood_Loss_Curve\n",
    ")"
   ]
  },
  {
   "cell_type": "code",
   "execution_count": 31,
   "metadata": {},
   "outputs": [
    {
     "data": {
      "text/plain": [
       "Text(0.5, 0, 'Train Step')"
      ]
     },
     "execution_count": 31,
     "metadata": {},
     "output_type": "execute_result"
    },
    {
     "data": {
      "image/png": "[encoded data removed]",
      "text/plain": [
       "<Figure size 432x288 with 1 Axes>"
      ]
     },
     "metadata": {
      "needs_background": "light"
     },
     "output_type": "display_data"
    }
   ],
   "source": [
    "#Plots how the learning rate evolves with steps\n",
    "plt.plot(learning_rating(tf.range(40000,dtype = tf.float32)))\n",
    "plt.ylabel(\"Learning_rate\")\n",
    "plt.xlabel(\"Train Step\")"
   ]
  },
  {
   "cell_type": "code",
   "execution_count": 32,
   "metadata": {},
   "outputs": [
    {
     "data": {
      "text/plain": [
       "<tf.Tensor: shape=(45154, 9), dtype=float32, numpy=\n",
       "array([[-1.5399098 ,  1.2009662 , -1.3766043 , ..., -1.7110934 ,\n",
       "        -1.95137   ,  1.8228079 ],\n",
       "       [ 1.1151946 , -2.7162232 , -1.0014962 , ...,  0.6829988 ,\n",
       "         1.2919912 , -0.4600667 ],\n",
       "       [ 1.3065096 , -2.9165664 , -0.6916702 , ...,  0.37771082,\n",
       "         1.6642616 ,  0.42707208],\n",
       "       ...,\n",
       "       [-0.9089909 , -0.5407385 , -2.630772  , ..., -0.47060436,\n",
       "         0.80856633, -0.96216846],\n",
       "       [-1.4851725 ,  0.77033025, -2.4090362 , ..., -1.6537037 ,\n",
       "        -1.0791326 ,  1.4020514 ],\n",
       "       [ 0.11070459,  0.9760075 , -1.2908206 , ..., -1.532798  ,\n",
       "         0.6781502 , -1.5208412 ]], dtype=float32)>"
      ]
     },
     "execution_count": 32,
     "metadata": {},
     "output_type": "execute_result"
    }
   ],
   "source": [
    "#Test to see whether the transformer is currently accepting the inputs \n",
    "#and producing the desired outputs\n",
    "output = ParticleTranformer((X_train,X_train_b_jets))\n",
    "output"
   ]
  },
  {
   "cell_type": "code",
   "execution_count": 33,
   "metadata": {},
   "outputs": [
    {
     "name": "stdout",
     "output_type": "stream",
     "text": [
      "Model: \"hffrag_transformer\"\n",
      "_________________________________________________________________\n",
      " Layer (type)                Output Shape              Param #   \n",
      "=================================================================\n",
      " encoder (Encoder)           multiple                  39968     \n",
      "                                                                 \n",
      " b__jet__layer (B_Jet_Layer)  multiple                 3285      \n",
      "                                                                 \n",
      "=================================================================\n",
      "Total params: 43,253\n",
      "Trainable params: 43,253\n",
      "Non-trainable params: 0\n",
      "_________________________________________________________________\n"
     ]
    }
   ],
   "source": [
    "ParticleTranformer.summary()"
   ]
  },
  {
   "cell_type": "code",
   "execution_count": 34,
   "metadata": {},
   "outputs": [],
   "source": [
    "# Introduce early_stopping to prevent overfitting\n",
    "early_stopping = callbacks.EarlyStopping(\n",
    "    min_delta=0.01,  # The minimum amount of change to count as an improvement\n",
    "    patience=30,  # The number of epochs to wait before stopping\n",
    "    restore_best_weights=True,  # Keep the best weights\n",
    ")\n",
    "# Prevent spikes in the validation and training loss due to the gradient descent kicking the network out of a local minima\n",
    "reduce_learn_on_plateau = callbacks.ReduceLROnPlateau(\n",
    "    monitor='loss', factor=0.80, patience=10, min_lr=1e-8)\n",
    "\n",
    "# Save the weights of the model to allow reuse in future.\n",
    "path = \"/home/physics/phujdj/DeepLearningParticlePhysics/CheckPoints_2/DeepNetWeights&Biases.ckpt\"\n",
    "checkpoint_dir = os.path.dirname(path)\n",
    "cp_callback = tf.keras.callbacks.ModelCheckpoint(filepath=path,\n",
    "                                                 save_weights_only=True, verbose=0, save_freq = 100*BATCHSIZE)\n",
    "#Timer\n",
    "cb = TimingCallback()\n",
    "\n",
    "#Weight&Biases Callback:\n",
    "#Wanda = WandbCallback(save_graph = True,save_weights_only = True, log_weights = True, log_gradients = True, log_evaluation = True, training_data = ((X_train,X_train),y_train), validation_data = ((X_valid,X_valid,),y_valid), log_batch_frequency = 5)"
   ]
  },
  {
   "cell_type": "code",
   "execution_count": 35,
   "metadata": {},
   "outputs": [
    {
     "name": "stdout",
     "output_type": "stream",
     "text": [
      "WARNING:tensorflow:From /home/physics/phujdj/anaconda3/envs/SpocFit/lib/python3.9/site-packages/tensorflow/python/autograph/pyct/static_analysis/liveness.py:83: Analyzer.lamba_check (from tensorflow.python.autograph.pyct.static_analysis.liveness) is deprecated and will be removed after 2023-09-23.\n",
      "Instructions for updating:\n",
      "Lambda fuctions will be no more assumed to be used in the statement where they are used, or at least in the same block. https://github.com/tensorflow/tensorflow/issues/56089\n",
      "WARNING:tensorflow:From /home/physics/phujdj/anaconda3/envs/SpocFit/lib/python3.9/site-packages/tensorflow/python/util/deprecation.py:629: calling map_fn_v2 (from tensorflow.python.ops.map_fn) with dtype is deprecated and will be removed in a future version.\n",
      "Instructions for updating:\n",
      "Use fn_output_signature instead\n",
      "706/706 [==============================] - 42s 37ms/step - loss: 12.8465 - val_loss: 2.7271 - lr: 1.0000e-04\n"
     ]
    }
   ],
   "source": [
    "# Train the neural network\n",
    "Training_data = X_train\n",
    "Validation_data = X_valid\n",
    "history = ParticleTranformer.fit(\n",
    "    (X_train, X_train_b_jets), y_train,\n",
    "    validation_data=((X_valid,X_valid_b_jets),y_valid),\n",
    "    batch_size=BATCHSIZE,\n",
    "    epochs=EPOCHS,\n",
    "    callbacks = [early_stopping,reduce_learn_on_plateau,cb,cp_callback]\n",
    ")"
   ]
  },
  {
   "cell_type": "code",
   "execution_count": 36,
   "metadata": {},
   "outputs": [
    {
     "data": {
      "image/png": "[encoded data removed]",
      "text/plain": [
       "<Figure size 432x288 with 1 Axes>"
      ]
     },
     "metadata": {
      "needs_background": "light"
     },
     "output_type": "display_data"
    }
   ],
   "source": [
    "# Plot the loss and validation curves vs epoch\n",
    "history_df = pd.DataFrame(history.history)\n",
    "np.log(history_df.loc[:, [\"loss\",\"val_loss\"]]).plot()\n",
    "history_df.to_csv('/home/physics/phujdj/DeepLearningParticlePhysics/history.csv')"
   ]
  },
  {
   "cell_type": "code",
   "execution_count": 37,
   "metadata": {},
   "outputs": [
    {
     "name": "stdout",
     "output_type": "stream",
     "text": [
      "41.82170066004619\n"
     ]
    }
   ],
   "source": [
    "#Determine how long the training took in seconds.\n",
    "print(sum(cb.logs))"
   ]
  },
  {
   "cell_type": "code",
   "execution_count": 38,
   "metadata": {},
   "outputs": [
    {
     "name": "stdout",
     "output_type": "stream",
     "text": [
      "Minimum validation loss: 12.846503257751465\n"
     ]
    }
   ],
   "source": [
    "# Output to the console the minimum epoch\n",
    "print(\"Minimum validation loss: {}\".format(history_df[\"loss\"].min()))"
   ]
  },
  {
   "cell_type": "code",
   "execution_count": 39,
   "metadata": {},
   "outputs": [
    {
     "ename": "InvalidArgumentError",
     "evalue": "Graph execution error:\n\nDetected at node 'hffrag_transformer/b__jet__layer/model/concatenate/concat' defined at (most recent call last):\n    File \"/home/physics/phujdj/anaconda3/envs/SpocFit/lib/python3.9/runpy.py\", line 197, in _run_module_as_main\n      return _run_code(code, main_globals, None,\n    File \"/home/physics/phujdj/anaconda3/envs/SpocFit/lib/python3.9/runpy.py\", line 87, in _run_code\n      exec(code, run_globals)\n    File \"/home/physics/phujdj/anaconda3/lib/python3.9/site-packages/ipykernel_launcher.py\", line 16, in <module>\n      app.launch_new_instance()\n    File \"/home/physics/phujdj/anaconda3/lib/python3.9/site-packages/traitlets/config/application.py\", line 846, in launch_instance\n      app.start()\n    File \"/home/physics/phujdj/anaconda3/lib/python3.9/site-packages/ipykernel/kernelapp.py\", line 677, in start\n      self.io_loop.start()\n    File \"/home/physics/phujdj/anaconda3/lib/python3.9/site-packages/tornado/platform/asyncio.py\", line 199, in start\n      self.asyncio_loop.run_forever()\n    File \"/home/physics/phujdj/anaconda3/envs/SpocFit/lib/python3.9/asyncio/base_events.py\", line 601, in run_forever\n      self._run_once()\n    File \"/home/physics/phujdj/anaconda3/envs/SpocFit/lib/python3.9/asyncio/base_events.py\", line 1905, in _run_once\n      handle._run()\n    File \"/home/physics/phujdj/anaconda3/envs/SpocFit/lib/python3.9/asyncio/events.py\", line 80, in _run\n      self._context.run(self._callback, *self._args)\n    File \"/home/physics/phujdj/anaconda3/lib/python3.9/site-packages/ipykernel/kernelbase.py\", line 457, in dispatch_queue\n      await self.process_one()\n    File \"/home/physics/phujdj/anaconda3/lib/python3.9/site-packages/ipykernel/kernelbase.py\", line 446, in process_one\n      await dispatch(*args)\n    File \"/home/physics/phujdj/anaconda3/lib/python3.9/site-packages/ipykernel/kernelbase.py\", line 353, in dispatch_shell\n      await result\n    File \"/home/physics/phujdj/anaconda3/lib/python3.9/site-packages/ipykernel/kernelbase.py\", line 648, in execute_request\n      reply_content = await reply_content\n    File \"/home/physics/phujdj/anaconda3/lib/python3.9/site-packages/ipykernel/ipkernel.py\", line 353, in do_execute\n      res = shell.run_cell(code, store_history=store_history, silent=silent)\n    File \"/home/physics/phujdj/anaconda3/lib/python3.9/site-packages/ipykernel/zmqshell.py\", line 533, in run_cell\n      return super(ZMQInteractiveShell, self).run_cell(*args, **kwargs)\n    File \"/home/physics/phujdj/anaconda3/lib/python3.9/site-packages/IPython/core/interactiveshell.py\", line 2901, in run_cell\n      result = self._run_cell(\n    File \"/home/physics/phujdj/anaconda3/lib/python3.9/site-packages/IPython/core/interactiveshell.py\", line 2947, in _run_cell\n      return runner(coro)\n    File \"/home/physics/phujdj/anaconda3/lib/python3.9/site-packages/IPython/core/async_helpers.py\", line 68, in _pseudo_sync_runner\n      coro.send(None)\n    File \"/home/physics/phujdj/anaconda3/lib/python3.9/site-packages/IPython/core/interactiveshell.py\", line 3172, in run_cell_async\n      has_raised = await self.run_ast_nodes(code_ast.body, cell_name,\n    File \"/home/physics/phujdj/anaconda3/lib/python3.9/site-packages/IPython/core/interactiveshell.py\", line 3364, in run_ast_nodes\n      if (await self.run_code(code, result,  async_=asy)):\n    File \"/home/physics/phujdj/anaconda3/lib/python3.9/site-packages/IPython/core/interactiveshell.py\", line 3444, in run_code\n      exec(code_obj, self.user_global_ns, self.user_ns)\n    File \"/tmp/ipykernel_32695/3099961922.py\", line 2, in <module>\n      loss = ParticleTranformer.evaluate((tracks,tracks),bhads,verbose = 2)\n    File \"/home/physics/phujdj/anaconda3/envs/SpocFit/lib/python3.9/site-packages/keras/utils/traceback_utils.py\", line 65, in error_handler\n      return fn(*args, **kwargs)\n    File \"/home/physics/phujdj/anaconda3/envs/SpocFit/lib/python3.9/site-packages/keras/engine/training.py\", line 2040, in evaluate\n      tmp_logs = self.test_function(iterator)\n    File \"/home/physics/phujdj/anaconda3/envs/SpocFit/lib/python3.9/site-packages/keras/engine/training.py\", line 1820, in test_function\n      return step_function(self, iterator)\n    File \"/home/physics/phujdj/anaconda3/envs/SpocFit/lib/python3.9/site-packages/keras/engine/training.py\", line 1804, in step_function\n      outputs = model.distribute_strategy.run(run_step, args=(data,))\n    File \"/home/physics/phujdj/anaconda3/envs/SpocFit/lib/python3.9/site-packages/keras/engine/training.py\", line 1792, in run_step\n      outputs = model.test_step(data)\n    File \"/home/physics/phujdj/anaconda3/envs/SpocFit/lib/python3.9/site-packages/keras/engine/training.py\", line 1756, in test_step\n      y_pred = self(x, training=False)\n    File \"/home/physics/phujdj/anaconda3/envs/SpocFit/lib/python3.9/site-packages/keras/utils/traceback_utils.py\", line 65, in error_handler\n      return fn(*args, **kwargs)\n    File \"/home/physics/phujdj/anaconda3/envs/SpocFit/lib/python3.9/site-packages/keras/engine/training.py\", line 561, in __call__\n      return super().__call__(*args, **kwargs)\n    File \"/home/physics/phujdj/anaconda3/envs/SpocFit/lib/python3.9/site-packages/keras/utils/traceback_utils.py\", line 65, in error_handler\n      return fn(*args, **kwargs)\n    File \"/home/physics/phujdj/anaconda3/envs/SpocFit/lib/python3.9/site-packages/keras/engine/base_layer.py\", line 1132, in __call__\n      outputs = call_fn(inputs, *args, **kwargs)\n    File \"/home/physics/phujdj/anaconda3/envs/SpocFit/lib/python3.9/site-packages/keras/utils/traceback_utils.py\", line 96, in error_handler\n      return fn(*args, **kwargs)\n    File \"/home/physics/phujdj/DeepLearningParticlePhysics/hffragTransformerJetMultivariate.py\", line 265, in call\n      Outputs = self.jet_layer(Jets,Embedding)\n    File \"/home/physics/phujdj/anaconda3/envs/SpocFit/lib/python3.9/site-packages/keras/utils/traceback_utils.py\", line 65, in error_handler\n      return fn(*args, **kwargs)\n    File \"/home/physics/phujdj/anaconda3/envs/SpocFit/lib/python3.9/site-packages/keras/engine/base_layer.py\", line 1132, in __call__\n      outputs = call_fn(inputs, *args, **kwargs)\n    File \"/home/physics/phujdj/anaconda3/envs/SpocFit/lib/python3.9/site-packages/keras/utils/traceback_utils.py\", line 96, in error_handler\n      return fn(*args, **kwargs)\n    File \"/home/physics/phujdj/DeepLearningParticlePhysics/hffragTransformerJetMultivariate.py\", line 159, in call\n      x = self.JetNet([x, context])\n    File \"/home/physics/phujdj/anaconda3/envs/SpocFit/lib/python3.9/site-packages/keras/utils/traceback_utils.py\", line 65, in error_handler\n      return fn(*args, **kwargs)\n    File \"/home/physics/phujdj/anaconda3/envs/SpocFit/lib/python3.9/site-packages/keras/engine/training.py\", line 561, in __call__\n      return super().__call__(*args, **kwargs)\n    File \"/home/physics/phujdj/anaconda3/envs/SpocFit/lib/python3.9/site-packages/keras/utils/traceback_utils.py\", line 65, in error_handler\n      return fn(*args, **kwargs)\n    File \"/home/physics/phujdj/anaconda3/envs/SpocFit/lib/python3.9/site-packages/keras/engine/base_layer.py\", line 1132, in __call__\n      outputs = call_fn(inputs, *args, **kwargs)\n    File \"/home/physics/phujdj/anaconda3/envs/SpocFit/lib/python3.9/site-packages/keras/utils/traceback_utils.py\", line 96, in error_handler\n      return fn(*args, **kwargs)\n    File \"/home/physics/phujdj/anaconda3/envs/SpocFit/lib/python3.9/site-packages/keras/engine/functional.py\", line 511, in call\n      return self._run_internal_graph(inputs, training=training, mask=mask)\n    File \"/home/physics/phujdj/anaconda3/envs/SpocFit/lib/python3.9/site-packages/keras/engine/functional.py\", line 668, in _run_internal_graph\n      outputs = node.layer(*args, **kwargs)\n    File \"/home/physics/phujdj/anaconda3/envs/SpocFit/lib/python3.9/site-packages/keras/utils/traceback_utils.py\", line 65, in error_handler\n      return fn(*args, **kwargs)\n    File \"/home/physics/phujdj/anaconda3/envs/SpocFit/lib/python3.9/site-packages/keras/engine/base_layer.py\", line 1132, in __call__\n      outputs = call_fn(inputs, *args, **kwargs)\n    File \"/home/physics/phujdj/anaconda3/envs/SpocFit/lib/python3.9/site-packages/keras/utils/traceback_utils.py\", line 96, in error_handler\n      return fn(*args, **kwargs)\n    File \"/home/physics/phujdj/anaconda3/envs/SpocFit/lib/python3.9/site-packages/keras/layers/merging/base_merge.py\", line 196, in call\n      return self._merge_function(inputs)\n    File \"/home/physics/phujdj/anaconda3/envs/SpocFit/lib/python3.9/site-packages/keras/layers/merging/concatenate.py\", line 134, in _merge_function\n      return backend.concatenate(inputs, axis=self.axis)\n    File \"/home/physics/phujdj/anaconda3/envs/SpocFit/lib/python3.9/site-packages/keras/backend.py\", line 3572, in concatenate\n      return tf.concat([to_dense(x) for x in tensors], axis)\nNode: 'hffrag_transformer/b__jet__layer/model/concatenate/concat'\nConcatOp : Ranks of all input tensors should match: shape[0] = [32,32,8] vs. shape[1] = [32,32]\n\t [[{{node hffrag_transformer/b__jet__layer/model/concatenate/concat}}]] [Op:__inference_test_function_34779]",
     "output_type": "error",
     "traceback": [
      "\u001b[0;31m---------------------------------------------------------------------------\u001b[0m",
      "\u001b[0;31mInvalidArgumentError\u001b[0m                      Traceback (most recent call last)",
      "\u001b[0;32m/tmp/ipykernel_32695/3099961922.py\u001b[0m in \u001b[0;36m<module>\u001b[0;34m\u001b[0m\n\u001b[1;32m      1\u001b[0m \u001b[0;31m#Evaluate the entire performance of the model\u001b[0m\u001b[0;34m\u001b[0m\u001b[0;34m\u001b[0m\u001b[0m\n\u001b[0;32m----> 2\u001b[0;31m \u001b[0mloss\u001b[0m \u001b[0;34m=\u001b[0m \u001b[0mParticleTranformer\u001b[0m\u001b[0;34m.\u001b[0m\u001b[0mevaluate\u001b[0m\u001b[0;34m(\u001b[0m\u001b[0;34m(\u001b[0m\u001b[0mtracks\u001b[0m\u001b[0;34m,\u001b[0m\u001b[0mtracks\u001b[0m\u001b[0;34m)\u001b[0m\u001b[0;34m,\u001b[0m\u001b[0mbhads\u001b[0m\u001b[0;34m,\u001b[0m\u001b[0mverbose\u001b[0m \u001b[0;34m=\u001b[0m \u001b[0;36m2\u001b[0m\u001b[0;34m)\u001b[0m\u001b[0;34m\u001b[0m\u001b[0;34m\u001b[0m\u001b[0m\n\u001b[0m\u001b[1;32m      3\u001b[0m \u001b[0mprint\u001b[0m\u001b[0;34m(\u001b[0m\u001b[0;34m\"The Loaded DeepNet has loss: \"\u001b[0m\u001b[0;34m,\u001b[0m \u001b[0mloss\u001b[0m\u001b[0;34m)\u001b[0m\u001b[0;34m\u001b[0m\u001b[0;34m\u001b[0m\u001b[0m\n",
      "\u001b[0;32m~/anaconda3/envs/SpocFit/lib/python3.9/site-packages/keras/utils/traceback_utils.py\u001b[0m in \u001b[0;36merror_handler\u001b[0;34m(*args, **kwargs)\u001b[0m\n\u001b[1;32m     68\u001b[0m             \u001b[0;31m# To get the full stack trace, call:\u001b[0m\u001b[0;34m\u001b[0m\u001b[0;34m\u001b[0m\u001b[0m\n\u001b[1;32m     69\u001b[0m             \u001b[0;31m# `tf.debugging.disable_traceback_filtering()`\u001b[0m\u001b[0;34m\u001b[0m\u001b[0;34m\u001b[0m\u001b[0m\n\u001b[0;32m---> 70\u001b[0;31m             \u001b[0;32mraise\u001b[0m \u001b[0me\u001b[0m\u001b[0;34m.\u001b[0m\u001b[0mwith_traceback\u001b[0m\u001b[0;34m(\u001b[0m\u001b[0mfiltered_tb\u001b[0m\u001b[0;34m)\u001b[0m \u001b[0;32mfrom\u001b[0m \u001b[0;32mNone\u001b[0m\u001b[0;34m\u001b[0m\u001b[0;34m\u001b[0m\u001b[0m\n\u001b[0m\u001b[1;32m     71\u001b[0m         \u001b[0;32mfinally\u001b[0m\u001b[0;34m:\u001b[0m\u001b[0;34m\u001b[0m\u001b[0;34m\u001b[0m\u001b[0m\n\u001b[1;32m     72\u001b[0m             \u001b[0;32mdel\u001b[0m \u001b[0mfiltered_tb\u001b[0m\u001b[0;34m\u001b[0m\u001b[0;34m\u001b[0m\u001b[0m\n",
      "\u001b[0;32m~/anaconda3/envs/SpocFit/lib/python3.9/site-packages/tensorflow/python/eager/execute.py\u001b[0m in \u001b[0;36mquick_execute\u001b[0;34m(op_name, num_outputs, inputs, attrs, ctx, name)\u001b[0m\n\u001b[1;32m     50\u001b[0m   \u001b[0;32mtry\u001b[0m\u001b[0;34m:\u001b[0m\u001b[0;34m\u001b[0m\u001b[0;34m\u001b[0m\u001b[0m\n\u001b[1;32m     51\u001b[0m     \u001b[0mctx\u001b[0m\u001b[0;34m.\u001b[0m\u001b[0mensure_initialized\u001b[0m\u001b[0;34m(\u001b[0m\u001b[0;34m)\u001b[0m\u001b[0;34m\u001b[0m\u001b[0;34m\u001b[0m\u001b[0m\n\u001b[0;32m---> 52\u001b[0;31m     tensors = pywrap_tfe.TFE_Py_Execute(ctx._handle, device_name, op_name,\n\u001b[0m\u001b[1;32m     53\u001b[0m                                         inputs, attrs, num_outputs)\n\u001b[1;32m     54\u001b[0m   \u001b[0;32mexcept\u001b[0m \u001b[0mcore\u001b[0m\u001b[0;34m.\u001b[0m\u001b[0m_NotOkStatusException\u001b[0m \u001b[0;32mas\u001b[0m \u001b[0me\u001b[0m\u001b[0;34m:\u001b[0m\u001b[0;34m\u001b[0m\u001b[0;34m\u001b[0m\u001b[0m\n",
      "\u001b[0;31mInvalidArgumentError\u001b[0m: Graph execution error:\n\nDetected at node 'hffrag_transformer/b__jet__layer/model/concatenate/concat' defined at (most recent call last):\n    File \"/home/physics/phujdj/anaconda3/envs/SpocFit/lib/python3.9/runpy.py\", line 197, in _run_module_as_main\n      return _run_code(code, main_globals, None,\n    File \"/home/physics/phujdj/anaconda3/envs/SpocFit/lib/python3.9/runpy.py\", line 87, in _run_code\n      exec(code, run_globals)\n    File \"/home/physics/phujdj/anaconda3/lib/python3.9/site-packages/ipykernel_launcher.py\", line 16, in <module>\n      app.launch_new_instance()\n    File \"/home/physics/phujdj/anaconda3/lib/python3.9/site-packages/traitlets/config/application.py\", line 846, in launch_instance\n      app.start()\n    File \"/home/physics/phujdj/anaconda3/lib/python3.9/site-packages/ipykernel/kernelapp.py\", line 677, in start\n      self.io_loop.start()\n    File \"/home/physics/phujdj/anaconda3/lib/python3.9/site-packages/tornado/platform/asyncio.py\", line 199, in start\n      self.asyncio_loop.run_forever()\n    File \"/home/physics/phujdj/anaconda3/envs/SpocFit/lib/python3.9/asyncio/base_events.py\", line 601, in run_forever\n      self._run_once()\n    File \"/home/physics/phujdj/anaconda3/envs/SpocFit/lib/python3.9/asyncio/base_events.py\", line 1905, in _run_once\n      handle._run()\n    File \"/home/physics/phujdj/anaconda3/envs/SpocFit/lib/python3.9/asyncio/events.py\", line 80, in _run\n      self._context.run(self._callback, *self._args)\n    File \"/home/physics/phujdj/anaconda3/lib/python3.9/site-packages/ipykernel/kernelbase.py\", line 457, in dispatch_queue\n      await self.process_one()\n    File \"/home/physics/phujdj/anaconda3/lib/python3.9/site-packages/ipykernel/kernelbase.py\", line 446, in process_one\n      await dispatch(*args)\n    File \"/home/physics/phujdj/anaconda3/lib/python3.9/site-packages/ipykernel/kernelbase.py\", line 353, in dispatch_shell\n      await result\n    File \"/home/physics/phujdj/anaconda3/lib/python3.9/site-packages/ipykernel/kernelbase.py\", line 648, in execute_request\n      reply_content = await reply_content\n    File \"/home/physics/phujdj/anaconda3/lib/python3.9/site-packages/ipykernel/ipkernel.py\", line 353, in do_execute\n      res = shell.run_cell(code, store_history=store_history, silent=silent)\n    File \"/home/physics/phujdj/anaconda3/lib/python3.9/site-packages/ipykernel/zmqshell.py\", line 533, in run_cell\n      return super(ZMQInteractiveShell, self).run_cell(*args, **kwargs)\n    File \"/home/physics/phujdj/anaconda3/lib/python3.9/site-packages/IPython/core/interactiveshell.py\", line 2901, in run_cell\n      result = self._run_cell(\n    File \"/home/physics/phujdj/anaconda3/lib/python3.9/site-packages/IPython/core/interactiveshell.py\", line 2947, in _run_cell\n      return runner(coro)\n    File \"/home/physics/phujdj/anaconda3/lib/python3.9/site-packages/IPython/core/async_helpers.py\", line 68, in _pseudo_sync_runner\n      coro.send(None)\n    File \"/home/physics/phujdj/anaconda3/lib/python3.9/site-packages/IPython/core/interactiveshell.py\", line 3172, in run_cell_async\n      has_raised = await self.run_ast_nodes(code_ast.body, cell_name,\n    File \"/home/physics/phujdj/anaconda3/lib/python3.9/site-packages/IPython/core/interactiveshell.py\", line 3364, in run_ast_nodes\n      if (await self.run_code(code, result,  async_=asy)):\n    File \"/home/physics/phujdj/anaconda3/lib/python3.9/site-packages/IPython/core/interactiveshell.py\", line 3444, in run_code\n      exec(code_obj, self.user_global_ns, self.user_ns)\n    File \"/tmp/ipykernel_32695/3099961922.py\", line 2, in <module>\n      loss = ParticleTranformer.evaluate((tracks,tracks),bhads,verbose = 2)\n    File \"/home/physics/phujdj/anaconda3/envs/SpocFit/lib/python3.9/site-packages/keras/utils/traceback_utils.py\", line 65, in error_handler\n      return fn(*args, **kwargs)\n    File \"/home/physics/phujdj/anaconda3/envs/SpocFit/lib/python3.9/site-packages/keras/engine/training.py\", line 2040, in evaluate\n      tmp_logs = self.test_function(iterator)\n    File \"/home/physics/phujdj/anaconda3/envs/SpocFit/lib/python3.9/site-packages/keras/engine/training.py\", line 1820, in test_function\n      return step_function(self, iterator)\n    File \"/home/physics/phujdj/anaconda3/envs/SpocFit/lib/python3.9/site-packages/keras/engine/training.py\", line 1804, in step_function\n      outputs = model.distribute_strategy.run(run_step, args=(data,))\n    File \"/home/physics/phujdj/anaconda3/envs/SpocFit/lib/python3.9/site-packages/keras/engine/training.py\", line 1792, in run_step\n      outputs = model.test_step(data)\n    File \"/home/physics/phujdj/anaconda3/envs/SpocFit/lib/python3.9/site-packages/keras/engine/training.py\", line 1756, in test_step\n      y_pred = self(x, training=False)\n    File \"/home/physics/phujdj/anaconda3/envs/SpocFit/lib/python3.9/site-packages/keras/utils/traceback_utils.py\", line 65, in error_handler\n      return fn(*args, **kwargs)\n    File \"/home/physics/phujdj/anaconda3/envs/SpocFit/lib/python3.9/site-packages/keras/engine/training.py\", line 561, in __call__\n      return super().__call__(*args, **kwargs)\n    File \"/home/physics/phujdj/anaconda3/envs/SpocFit/lib/python3.9/site-packages/keras/utils/traceback_utils.py\", line 65, in error_handler\n      return fn(*args, **kwargs)\n    File \"/home/physics/phujdj/anaconda3/envs/SpocFit/lib/python3.9/site-packages/keras/engine/base_layer.py\", line 1132, in __call__\n      outputs = call_fn(inputs, *args, **kwargs)\n    File \"/home/physics/phujdj/anaconda3/envs/SpocFit/lib/python3.9/site-packages/keras/utils/traceback_utils.py\", line 96, in error_handler\n      return fn(*args, **kwargs)\n    File \"/home/physics/phujdj/DeepLearningParticlePhysics/hffragTransformerJetMultivariate.py\", line 265, in call\n      Outputs = self.jet_layer(Jets,Embedding)\n    File \"/home/physics/phujdj/anaconda3/envs/SpocFit/lib/python3.9/site-packages/keras/utils/traceback_utils.py\", line 65, in error_handler\n      return fn(*args, **kwargs)\n    File \"/home/physics/phujdj/anaconda3/envs/SpocFit/lib/python3.9/site-packages/keras/engine/base_layer.py\", line 1132, in __call__\n      outputs = call_fn(inputs, *args, **kwargs)\n    File \"/home/physics/phujdj/anaconda3/envs/SpocFit/lib/python3.9/site-packages/keras/utils/traceback_utils.py\", line 96, in error_handler\n      return fn(*args, **kwargs)\n    File \"/home/physics/phujdj/DeepLearningParticlePhysics/hffragTransformerJetMultivariate.py\", line 159, in call\n      x = self.JetNet([x, context])\n    File \"/home/physics/phujdj/anaconda3/envs/SpocFit/lib/python3.9/site-packages/keras/utils/traceback_utils.py\", line 65, in error_handler\n      return fn(*args, **kwargs)\n    File \"/home/physics/phujdj/anaconda3/envs/SpocFit/lib/python3.9/site-packages/keras/engine/training.py\", line 561, in __call__\n      return super().__call__(*args, **kwargs)\n    File \"/home/physics/phujdj/anaconda3/envs/SpocFit/lib/python3.9/site-packages/keras/utils/traceback_utils.py\", line 65, in error_handler\n      return fn(*args, **kwargs)\n    File \"/home/physics/phujdj/anaconda3/envs/SpocFit/lib/python3.9/site-packages/keras/engine/base_layer.py\", line 1132, in __call__\n      outputs = call_fn(inputs, *args, **kwargs)\n    File \"/home/physics/phujdj/anaconda3/envs/SpocFit/lib/python3.9/site-packages/keras/utils/traceback_utils.py\", line 96, in error_handler\n      return fn(*args, **kwargs)\n    File \"/home/physics/phujdj/anaconda3/envs/SpocFit/lib/python3.9/site-packages/keras/engine/functional.py\", line 511, in call\n      return self._run_internal_graph(inputs, training=training, mask=mask)\n    File \"/home/physics/phujdj/anaconda3/envs/SpocFit/lib/python3.9/site-packages/keras/engine/functional.py\", line 668, in _run_internal_graph\n      outputs = node.layer(*args, **kwargs)\n    File \"/home/physics/phujdj/anaconda3/envs/SpocFit/lib/python3.9/site-packages/keras/utils/traceback_utils.py\", line 65, in error_handler\n      return fn(*args, **kwargs)\n    File \"/home/physics/phujdj/anaconda3/envs/SpocFit/lib/python3.9/site-packages/keras/engine/base_layer.py\", line 1132, in __call__\n      outputs = call_fn(inputs, *args, **kwargs)\n    File \"/home/physics/phujdj/anaconda3/envs/SpocFit/lib/python3.9/site-packages/keras/utils/traceback_utils.py\", line 96, in error_handler\n      return fn(*args, **kwargs)\n    File \"/home/physics/phujdj/anaconda3/envs/SpocFit/lib/python3.9/site-packages/keras/layers/merging/base_merge.py\", line 196, in call\n      return self._merge_function(inputs)\n    File \"/home/physics/phujdj/anaconda3/envs/SpocFit/lib/python3.9/site-packages/keras/layers/merging/concatenate.py\", line 134, in _merge_function\n      return backend.concatenate(inputs, axis=self.axis)\n    File \"/home/physics/phujdj/anaconda3/envs/SpocFit/lib/python3.9/site-packages/keras/backend.py\", line 3572, in concatenate\n      return tf.concat([to_dense(x) for x in tensors], axis)\nNode: 'hffrag_transformer/b__jet__layer/model/concatenate/concat'\nConcatOp : Ranks of all input tensors should match: shape[0] = [32,32,8] vs. shape[1] = [32,32]\n\t [[{{node hffrag_transformer/b__jet__layer/model/concatenate/concat}}]] [Op:__inference_test_function_34779]"
     ]
    }
   ],
   "source": [
    "#Evaluate the entire performance of the model\n",
    "loss = ParticleTranformer.evaluate((tracks,tracks),bhads,verbose = 2)\n",
    "print(\"The Loaded DeepNet has loss: \", loss)"
   ]
  }
 ],
 "metadata": {
  "kernelspec": {
   "display_name": "Python 3",
   "language": "python",
   "name": "python3"
  },
  "language_info": {
   "codemirror_mode": {
    "name": "ipython",
    "version": 3
   },
   "file_extension": ".py",
   "mimetype": "text/x-python",
   "name": "python",
   "nbconvert_exporter": "python",
   "pygments_lexer": "ipython3",
   "version": "3.9.12"
  },
  "orig_nbformat": 4,
  "vscode": {
   "interpreter": {
    "hash": "a05ddcd8ffea9a6a7d2e914b733df5445b717626b5b8c92c04bfc4eb6e7f5cba"
   }
  }
 },
 "nbformat": 4,
 "nbformat_minor": 2
}
