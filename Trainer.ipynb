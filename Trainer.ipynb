{
 "cells": [
  {
   "cell_type": "code",
   "execution_count": 52,
   "metadata": {},
   "outputs": [],
   "source": [
    "import os\n",
    "import numpy as np\n",
    "import seaborn as sns\n",
    "import wandb\n",
    "from wandb.keras import WandbCallback\n",
    "from keras import callbacks\n",
    "import keras\n",
    "import DeepSetNeuralNetArchitecture as DSNNA\n",
    "import ParticleTransformer as ParT\n",
    "from DeepSetNeuralNetArchitecture import PredictOnEpoch\n",
    "import ConvolutionalRecurrentNeuralNetworkArchitecture as CRNNA\n",
    "from DeepSetNeuralNetArchitecture import LogNormal_Loss_Function\n",
    "from DeepSetNeuralNetArchitecture import Mean_Squared_Error\n",
    "import keras.backend as k\n",
    "import uproot\n",
    "import awkward as ak\n",
    "import sklearn as sk\n",
    "from numpy.lib.recfunctions import structured_to_unstructured\n",
    "from sklearn.model_selection import train_test_split\n",
    "from sklearn.decomposition import PCA\n",
    "import tensorflow as tf\n",
    "import tensorflow_addons as tfa\n",
    "from sklearn.preprocessing import StandardScaler\n",
    "import pandas as pd\n",
    "from hffrag import fixedbinning\n",
    "from hffrag import binneddensity\n",
    "from keras.utils.vis_utils import plot_model\n",
    "from timeit import default_timer as timer\n",
    "import matplotlib.pyplot as plt\n",
    "%matplotlib inline"
   ]
  },
  {
   "cell_type": "code",
   "execution_count": null,
   "metadata": {},
   "outputs": [
    {
     "ename": "",
     "evalue": "",
     "output_type": "error",
     "traceback": [
      "\u001b[1;31mnotebook controller is DISPOSED. \n",
      "\u001b[1;31mView Jupyter <a href='command:jupyter.viewOutput'>log</a> for further details."
     ]
    }
   ],
   "source": [
    "wandb.init(project = \"hffrag-ParticleTransformerNeuralNetworkArchitecture\")"
   ]
  },
  {
   "cell_type": "code",
   "execution_count": 3,
   "metadata": {},
   "outputs": [],
   "source": [
    "# The data is being stored in a tree datastructure.\n",
    "# We access the charm root using this command\n",
    "tree = uproot.open(\"hffrag.root:CharmAnalysis\")"
   ]
  },
  {
   "cell_type": "code",
   "execution_count": 4,
   "metadata": {},
   "outputs": [],
   "source": [
    "# Initial parameters\n",
    "MASKVAL = -999 # This value is introduced to ensure arrays are regular (Of the same size). They will be masked later by the network\n",
    "MAXTRACKS = 32 # This value is the maximum number of tracks allowed per event\n",
    "BATCHSIZE = 64 # This is the batch size of the mini batches used during training\n",
    "EPOCHS = 100 # This is the default number of epochs for which the neural network will train providing that early stopping does not occur\n",
    "MAXEVENTS = 1e20 #This is the maximum number of events that will the program will accept\n",
    "LR = 1e-4 #This is the default learning rate"
   ]
  },
  {
   "cell_type": "code",
   "execution_count": 5,
   "metadata": {},
   "outputs": [],
   "source": [
    "wandb.config = {\n",
    "    \"learning_rate\": LR,\n",
    "    \"epochs\":EPOCHS,\n",
    "    \"batch_size\":BATCHSIZE,\n",
    "    \"max_events\": MAXEVENTS,\n",
    "    \"MAXTRACKS\": MAXTRACKS, \n",
    "}"
   ]
  },
  {
   "cell_type": "code",
   "execution_count": 6,
   "metadata": {},
   "outputs": [],
   "source": [
    "# Select the features we wish to study\n",
    "track_features = [\"AnalysisTracks_pt\", \"AnalysisTracks_eta\", \"AnalysisTracks_phi\", \"AnalysisTracks_z0sinTheta\",\n",
    "                  \"AnalysisTracks_d0sig\", \"AnalysisTracks_d0\", \"AnalysisTracks_d0sigPV\", \"AnalysisTracks_d0PV\"]\n",
    "jet_features = [\"AnalysisAntiKt4TruthJets_pt\", \"AnalysisAntiKt4TruthJets_eta\", \"AnalysisAntiKt4TruthJets_phi\",\n",
    "                \"AnalysisAntiKt4TruthJets_ghostB_pt\", \"AnalysisAntiKt4TruthJets_ghostB_eta\",\"AnalysisAntiKt4TruthJets_ghostB_phi\"]"
   ]
  },
  {
   "cell_type": "code",
   "execution_count": 7,
   "metadata": {},
   "outputs": [],
   "source": [
    "# Read in the dat from the root file\n",
    "features = tree.arrays(jet_features+track_features, entry_stop=MAXEVENTS)"
   ]
  },
  {
   "cell_type": "code",
   "execution_count": 8,
   "metadata": {},
   "outputs": [],
   "source": [
    "# Select the events of interest\n",
    "events = features[ak.sum(\n",
    "    features[\"AnalysisAntiKt4TruthJets_pt\"] > 25000, axis=1) > 0]"
   ]
  },
  {
   "cell_type": "code",
   "execution_count": 9,
   "metadata": {},
   "outputs": [
    {
     "name": "stdout",
     "output_type": "stream",
     "text": [
      "The number of jets to train on is:  141329\n",
      "The number of track features is:  8\n"
     ]
    }
   ],
   "source": [
    "# Displays the number of jets being trained on\n",
    "jets = events[jet_features][:, 0]\n",
    "print(\"The number of jets to train on is: \", len(jets))\n",
    "print(\"The number of track features is: \",len(track_features))"
   ]
  },
  {
   "cell_type": "code",
   "execution_count": 10,
   "metadata": {},
   "outputs": [],
   "source": [
    "# Select tracks from the events\n",
    "tracks = events[track_features]\n",
    "\n",
    "# Match the tracks to the jets\n",
    "matchedtracks = tracks[DSNNA.Match_Tracks(jets, tracks)]\n",
    "\n",
    "# Pad and Flatten the data\n",
    "matchedtracks = DSNNA.flatten(matchedtracks, MAXTRACKS)"
   ]
  },
  {
   "cell_type": "code",
   "execution_count": 11,
   "metadata": {},
   "outputs": [
    {
     "name": "stdout",
     "output_type": "stream",
     "text": [
      "There are 3 outputs\n",
      "There are 32 inputs\n"
     ]
    }
   ],
   "source": [
    "# Identify the the bottom jets and their associated tracks\n",
    "bjets = ak.sum(jets[\"AnalysisAntiKt4TruthJets_ghostB_pt\"] > 5000, axis=1) > 0\n",
    "jets = jets[bjets]\n",
    "\n",
    "# Obtain the pt, eta and phi of each b hadron jet\n",
    "bhads_pt = jets[\"AnalysisAntiKt4TruthJets_ghostB_pt\"][:, 0].to_numpy()\n",
    "bhads_eta = jets[\"AnalysisAntiKt4TruthJets_ghostB_eta\"][:,0].to_numpy()\n",
    "bhads_phi = jets[\"AnalysisAntiKt4TruthJets_ghostB_phi\"][:,0].to_numpy()\n",
    "\n",
    "bhads = np.stack([bhads_pt,bhads_eta,bhads_phi],axis = -1) #Combine the momentum, eta and phi for each jet into one array\n",
    "\n",
    "print(\"There are {} outputs\".format(np.shape(bhads)[1])) # Display the number of target features the neural network will predict\n",
    "matchedtracks = matchedtracks[bjets]\n",
    "print(\"There are {} inputs\".format(np.shape(matchedtracks)[1])) # Display the number of target features the neural network will use in it's ppredictions"
   ]
  },
  {
   "cell_type": "code",
   "execution_count": 13,
   "metadata": {},
   "outputs": [
    {
     "name": "stdout",
     "output_type": "stream",
     "text": [
      "(68143, 3)\n"
     ]
    }
   ],
   "source": [
    "# Transform the jet and tracks to unstructed data.\n",
    "jets = structured_to_unstructured(jets[jet_features[:-3]])\n",
    "matchedtracks = structured_to_unstructured(matchedtracks)"
   ]
  },
  {
   "cell_type": "code",
   "execution_count": 15,
   "metadata": {},
   "outputs": [
    {
     "name": "stdout",
     "output_type": "stream",
     "text": [
      "(68143, 32, 3)\n",
      "(68143, 32, 5)\n"
     ]
    },
    {
     "name": "stderr",
     "output_type": "stream",
     "text": [
      "/home/physics/phujdj/DeepLearningParticlePhysics/DeepSetNeuralNetArchitecture.py:103: RuntimeWarning: overflow encountered in sinh\n",
      "  pzs = np.where(mask1 | mask3, pts, pts * np.sinh(etas))\n"
     ]
    }
   ],
   "source": [
    "# Convert the coordinates of the b jets and tracks to cartesian coordinates\n",
    "tracks_p = DSNNA.pt_eta_phi_2_px_py_pz_tracks(matchedtracks.to_numpy())\n",
    "bhads = DSNNA.pt_eta_phi_2_px_py_pz_jets(bhads)\n",
    "\n",
    "#Combine the momenta of the tracks with the rest of the track features to form the track dataset\n",
    "tracks = np.concatenate([tracks_p,matchedtracks[:,:,3:].to_numpy()],axis = 2)"
   ]
  },
  {
   "cell_type": "code",
   "execution_count": 17,
   "metadata": {},
   "outputs": [
    {
     "name": "stdout",
     "output_type": "stream",
     "text": [
      "(68143, 32, 8)\n",
      "[0.26189855 0.38175348 0.10230412 1.42959932 1.58783932 1.42992229\n",
      " 1.60955267 1.42990682]\n"
     ]
    }
   ],
   "source": [
    "Scaler = StandardScaler()\n",
    "Num_events,Num_tracks,Num_features = np.shape(tracks)\n",
    "tracks = np.reshape(tracks, newshape=(-1,Num_features))\n",
    "tracks = Scaler.fit_transform(tracks)\n",
    "tracks = np.reshape(tracks, newshape= (Num_events,Num_tracks,Num_features))"
   ]
  },
  {
   "cell_type": "code",
   "execution_count": 18,
   "metadata": {},
   "outputs": [],
   "source": [
    "# Split the data into training and validation sets.\n",
    "X_train, X_valid, y_train, y_valid = train_test_split(\n",
    "    tracks, bhads, train_size=0.8, random_state=42)"
   ]
  },
  {
   "cell_type": "code",
   "execution_count": null,
   "metadata": {},
   "outputs": [],
   "source": [
    "X_train_event, y_train_event = np.array([X_train[0]]), np.array([y_train[0]])\n",
    "X_valid_event, y_valid_event = np.array([X_valid[0]]), np.array([y_valid[0]])\n",
    "print(np.shape(X_train),np.shape(y_train))\n",
    "print(np.shape(X_train_event),np.shape(y_train_event))"
   ]
  },
  {
   "cell_type": "code",
   "execution_count": null,
   "metadata": {},
   "outputs": [],
   "source": [
    "#Check for the of the training and validation sets\n",
    "print(np.shape(X_train), np.shape(X_valid))\n",
    "print(np.shape(y_train), np.shape(y_valid))"
   ]
  },
  {
   "cell_type": "code",
   "execution_count": 19,
   "metadata": {},
   "outputs": [],
   "source": [
    "#Save the training and validation datasets.\n",
    "np.save(\"/home/physics/phujdj/DeepLearningParticlePhysics/TrainingAndValidationData/X_train_data.npy\",X_train)\n",
    "np.save(\"/home/physics/phujdj/DeepLearningParticlePhysics/TrainingAndValidationData/X_valid_data.npy\",X_valid)\n",
    "np.save(\"/home/physics/phujdj/DeepLearningParticlePhysics/TrainingAndValidationData/y_train_data.npy\",y_train)\n",
    "np.save(\"/home/physics/phujdj/DeepLearningParticlePhysics/TrainingAndValidationData/y_valid_data.npy\",y_valid)"
   ]
  },
  {
   "cell_type": "code",
   "execution_count": 20,
   "metadata": {},
   "outputs": [
    {
     "name": "stdout",
     "output_type": "stream",
     "text": [
      "[8, 32, 32, 32, 32, 32]\n"
     ]
    },
    {
     "name": "stderr",
     "output_type": "stream",
     "text": [
      "2023-01-13 10:26:08.981221: W tensorflow/compiler/xla/stream_executor/platform/default/dso_loader.cc:64] Could not load dynamic library 'libcuda.so.1'; dlerror: libcuda.so.1: cannot open shared object file: No such file or directory\n",
      "2023-01-13 10:26:08.981254: W tensorflow/compiler/xla/stream_executor/cuda/cuda_driver.cc:265] failed call to cuInit: UNKNOWN ERROR (303)\n",
      "2023-01-13 10:26:08.981273: I tensorflow/compiler/xla/stream_executor/cuda/cuda_diagnostics.cc:156] kernel driver does not appear to be running on this host (vonneumann.csc.warwick.ac.uk): /proc/driver/nvidia/version does not exist\n",
      "2023-01-13 10:26:08.983204: I tensorflow/core/platform/cpu_feature_guard.cc:193] This TensorFlow binary is optimized with oneAPI Deep Neural Network Library (oneDNN) to use the following CPU instructions in performance-critical operations:  AVX2 AVX512F AVX512_VNNI FMA\n",
      "To enable them in other operations, rebuild TensorFlow with the appropriate compiler flags.\n"
     ]
    },
    {
     "name": "stdout",
     "output_type": "stream",
     "text": [
      "[8, 100, 100, 100, 100]\n"
     ]
    }
   ],
   "source": [
    "#Cyclical Learning Rate Scheduler:\n",
    "steps_per_epoch = len(X_train)\n",
    "clr = tfa.optimizers.CyclicalLearningRate(initial_learning_rate = 1e-4,\n",
    "maximal_learning_rate = 0.01,\n",
    "scale_fn = lambda x: 1/(2**(x-1)),\n",
    "step_size = 2.0 * steps_per_epoch\n",
    ")\n",
    "class TimingCallback(keras.callbacks.Callback):\n",
    "    def __init__(self, logs = {}):\n",
    "        self.logs = []\n",
    "    def on_epoch_begin(self, epoch, logs ={}):\n",
    "        self.starttime = timer()\n",
    "    def on_epoch_end(self, epoch, logs = {}):\n",
    "        self.logs.append(timer() - self.starttime)\n",
    "        \n",
    "# Builds the deep neural network\n",
    "track_layers = [64,64,64,64,64]\n",
    "jet_layers = [128,128,128,128,128]\n",
    "\n",
    "len1 = [len(track_features)]+track_layers\n",
    "print(len1)\n",
    "\n",
    "#Initializers the optimizer used for training the network\n",
    "optimizer = tf.keras.optimizers.Nadam(LR)\n",
    "optimizer_Constant = tf.keras.optimizers.SGD(learning_rate = 1e-4, momentum = 0.9, clipnorm = 1.0, nesterov = True )\n",
    "\n",
    "#Builds the DeepSet Neural Network\n",
    "DeepNet = DSNNA.DeepSetNeuralNetwork(\n",
    "    [len(track_features)] + track_layers, jet_layers,np.shape(y_train)[1],optimizer)"
   ]
  },
  {
   "cell_type": "code",
   "execution_count": 22,
   "metadata": {},
   "outputs": [
    {
     "name": "stdout",
     "output_type": "stream",
     "text": [
      "Model: \"model\"\n",
      "_________________________________________________________________\n",
      " Layer (type)                Output Shape              Param #   \n",
      "=================================================================\n",
      " input_1 (InputLayer)        [(None, None, 8)]         0         \n",
      "                                                                 \n",
      " masking (Masking)           (None, None, 8)           0         \n",
      "                                                                 \n",
      " time_distributed (TimeDistr  (None, None, 8)          72        \n",
      " ibuted)                                                         \n",
      "                                                                 \n",
      " batch_normalization (BatchN  (None, None, 8)          32        \n",
      " ormalization)                                                   \n",
      "                                                                 \n",
      " time_distributed_1 (TimeDis  (None, None, 32)         288       \n",
      " tributed)                                                       \n",
      "                                                                 \n",
      " batch_normalization_1 (Batc  (None, None, 32)         128       \n",
      " hNormalization)                                                 \n",
      "                                                                 \n",
      " time_distributed_2 (TimeDis  (None, None, 32)         1056      \n",
      " tributed)                                                       \n",
      "                                                                 \n",
      " batch_normalization_2 (Batc  (None, None, 32)         128       \n",
      " hNormalization)                                                 \n",
      "                                                                 \n",
      " time_distributed_3 (TimeDis  (None, None, 32)         1056      \n",
      " tributed)                                                       \n",
      "                                                                 \n",
      " batch_normalization_3 (Batc  (None, None, 32)         128       \n",
      " hNormalization)                                                 \n",
      "                                                                 \n",
      " time_distributed_4 (TimeDis  (None, None, 32)         1056      \n",
      " tributed)                                                       \n",
      "                                                                 \n",
      " batch_normalization_4 (Batc  (None, None, 32)         128       \n",
      " hNormalization)                                                 \n",
      "                                                                 \n",
      " time_distributed_5 (TimeDis  (None, None, 32)         1056      \n",
      " tributed)                                                       \n",
      "                                                                 \n",
      " sum (Sum)                   (None, 32)                0         \n",
      "                                                                 \n",
      " dense_6 (Dense)             (None, 64)                2112      \n",
      "                                                                 \n",
      " batch_normalization_5 (Batc  (None, 64)               256       \n",
      " hNormalization)                                                 \n",
      "                                                                 \n",
      " dense_7 (Dense)             (None, 64)                4160      \n",
      "                                                                 \n",
      " batch_normalization_6 (Batc  (None, 64)               256       \n",
      " hNormalization)                                                 \n",
      "                                                                 \n",
      " dense_8 (Dense)             (None, 64)                4160      \n",
      "                                                                 \n",
      " batch_normalization_7 (Batc  (None, 64)               256       \n",
      " hNormalization)                                                 \n",
      "                                                                 \n",
      " dense_9 (Dense)             (None, 64)                4160      \n",
      "                                                                 \n",
      " batch_normalization_8 (Batc  (None, 64)               256       \n",
      " hNormalization)                                                 \n",
      "                                                                 \n",
      " dense_10 (Dense)            (None, 64)                4160      \n",
      "                                                                 \n",
      " batch_normalization_9 (Batc  (None, 64)               256       \n",
      " hNormalization)                                                 \n",
      "                                                                 \n",
      " dense_11 (Dense)            (None, 9)                 585       \n",
      "                                                                 \n",
      "=================================================================\n",
      "Total params: 25,745\n",
      "Trainable params: 24,833\n",
      "Non-trainable params: 912\n",
      "_________________________________________________________________\n"
     ]
    }
   ],
   "source": [
    "#Summarises the Deep Set Neural Network Architecture\n",
    "DeepNet.summary()"
   ]
  },
  {
   "cell_type": "code",
   "execution_count": null,
   "metadata": {},
   "outputs": [
    {
     "ename": "",
     "evalue": "",
     "output_type": "error",
     "traceback": [
      "\u001b[1;31mnotebook controller is DISPOSED. \n",
      "\u001b[1;31mView Jupyter <a href='command:jupyter.viewOutput'>log</a> for further details."
     ]
    }
   ],
   "source": [
    "#plot_model(DeepNet, to_file =\"NetworkArchitecture.png\", show_shapes = True, show_layer_names = True)"
   ]
  },
  {
   "cell_type": "code",
   "execution_count": 26,
   "metadata": {},
   "outputs": [],
   "source": [
    "# Introduce early_stopping to prevent overfitting\n",
    "early_stopping = callbacks.EarlyStopping(\n",
    "    min_delta=0.00001,  # The minimum amount of change to count as an improvement\n",
    "    patience=30,  # The number of epochs to wait before stopping\n",
    "    restore_best_weights=True,  # Keep the best weights\n",
    ")\n",
    "# Prevent spikes in the validation and training loss due to the gradient descent kicking the network out of a local minima\n",
    "reduce_learn_on_plateau = callbacks.ReduceLROnPlateau(\n",
    "    monitor='loss', factor=0.80, patience=10, min_lr=1e-8)\n",
    "\n",
    "# Save the weights of the model to allow reuse in future.\n",
    "path = \"/home/physics/phujdj/DeepLearningParticlePhysics/CheckPointsDeepNet/DeepNetWeights&Biases.ckpt\"\n",
    "checkpoint_dir = os.path.dirname(path)\n",
    "cp_callback = tf.keras.callbacks.ModelCheckpoint(filepath=path,\n",
    "                                                 save_weights_only=True, verbose=0, save_freq = 100*BATCHSIZE)\n",
    "#Timer\n",
    "cb = TimingCallback()\n",
    "\n",
    "#Weight&Biases Callback:\n",
    "Wanda = WandbCallback(save_graph = True,save_weights_only = True, log_weights = True, log_gradients = True, log_evaluation = True, training_data = (X_train,y_train), validation_data = (X_valid,y_valid), log_batch_frequency = 5)\n",
    "\n",
    "# Learning Scheduler:\n",
    "exponential_decay_fn = DSNNA.expontial_decay(lr0 = LR,s = 30)\n",
    "learning_scheduler = tf.keras.callbacks.LearningRateScheduler(exponential_decay_fn)\n"
   ]
  },
  {
   "cell_type": "code",
   "execution_count": 29,
   "metadata": {},
   "outputs": [
    {
     "name": "stdout",
     "output_type": "stream",
     "text": [
      "Epoch 1/100\n"
     ]
    },
    {
     "name": "stderr",
     "output_type": "stream",
     "text": [
      "2023-01-13 10:26:58.888435: I tensorflow/compiler/xla/service/service.cc:173] XLA service 0x7fcb380c1120 initialized for platform Host (this does not guarantee that XLA will be used). Devices:\n",
      "2023-01-13 10:26:58.888478: I tensorflow/compiler/xla/service/service.cc:181]   StreamExecutor device (0): Host, Default Version\n",
      "2023-01-13 10:26:59.124260: I tensorflow/compiler/mlir/tensorflow/utils/dump_mlir_util.cc:268] disabling MLIR crash reproducer, set env var `MLIR_CRASH_REPRODUCER_DIRECTORY` to enable.\n"
     ]
    },
    {
     "name": "stdout",
     "output_type": "stream",
     "text": [
      " 26/852 [..............................] - ETA: 3s - loss: 5266564710400.0000    "
     ]
    },
    {
     "name": "stderr",
     "output_type": "stream",
     "text": [
      "2023-01-13 10:27:03.737755: I tensorflow/compiler/jit/xla_compilation_cache.cc:477] Compiled cluster using XLA!  This line is logged at most once for the lifetime of the process.\n"
     ]
    },
    {
     "name": "stdout",
     "output_type": "stream",
     "text": [
      "1704/1704 [==============================] - 3s 1ms/step\n",
      "852/852 [==============================] - 24s 16ms/step - loss: 530744344576.0000 - val_loss: 86475973798070845440.0000 - lr: 1.0000e-04\n",
      "Epoch 2/100\n",
      "1704/1704 [==============================] - 2s 1ms/step\n",
      "852/852 [==============================] - 7s 8ms/step - loss: 74805829632.0000 - val_loss: 118445989613797376000.0000 - lr: 1.0000e-04\n",
      "Epoch 3/100\n",
      "1704/1704 [==============================] - 2s 1ms/step\n",
      "852/852 [==============================] - 7s 8ms/step - loss: 46472138752.0000 - val_loss: 3015390674328970498823684096.0000 - lr: 1.0000e-04\n",
      "Epoch 4/100\n",
      "1704/1704 [==============================] - 2s 1ms/step\n",
      "852/852 [==============================] - 7s 8ms/step - loss: 30656745472.0000 - val_loss: 110446744194843409677025280.0000 - lr: 1.0000e-04\n",
      "Epoch 5/100\n",
      "1704/1704 [==============================] - 2s 1ms/step\n",
      "852/852 [==============================] - 7s 8ms/step - loss: 23999105024.0000 - val_loss: 19531023964595831177216.0000 - lr: 1.0000e-04\n",
      "Epoch 6/100\n",
      "1704/1704 [==============================] - 2s 1ms/step\n",
      "852/852 [==============================] - 7s 8ms/step - loss: 18953414656.0000 - val_loss: 2016183875087398172884992.0000 - lr: 1.0000e-04\n",
      "Epoch 7/100\n",
      "1704/1704 [==============================] - 2s 1ms/step\n",
      "852/852 [==============================] - 7s 8ms/step - loss: 15224202240.0000 - val_loss: 236544430474002432.0000 - lr: 1.0000e-04\n",
      "Epoch 8/100\n",
      "1704/1704 [==============================] - 2s 1ms/step\n",
      "852/852 [==============================] - 7s 8ms/step - loss: 12268038144.0000 - val_loss: 146341773312.0000 - lr: 1.0000e-04\n",
      "Epoch 9/100\n",
      "1704/1704 [==============================] - 2s 1ms/step\n",
      "852/852 [==============================] - 7s 8ms/step - loss: 9946646528.0000 - val_loss: 12123541762811625472.0000 - lr: 1.0000e-04\n",
      "Epoch 10/100\n",
      "1704/1704 [==============================] - 2s 1ms/step\n",
      "852/852 [==============================] - 7s 8ms/step - loss: 8241866752.0000 - val_loss: 1082277953536.0000 - lr: 1.0000e-04\n",
      "Epoch 11/100\n",
      "1704/1704 [==============================] - 2s 1ms/step\n",
      "852/852 [==============================] - 7s 8ms/step - loss: 6211756032.0000 - val_loss: 163316498432.0000 - lr: 1.0000e-04\n",
      "Epoch 12/100\n",
      "1704/1704 [==============================] - 2s 1ms/step\n",
      "852/852 [==============================] - 6s 8ms/step - loss: 4714739712.0000 - val_loss: 4405276283240448.0000 - lr: 1.0000e-04\n",
      "Epoch 13/100\n",
      "1704/1704 [==============================] - 2s 1ms/step\n",
      "852/852 [==============================] - 7s 8ms/step - loss: 3610052352.0000 - val_loss: 1164653980869984256.0000 - lr: 1.0000e-04\n",
      "Epoch 14/100\n",
      "1704/1704 [==============================] - 2s 1ms/step\n",
      "852/852 [==============================] - 7s 8ms/step - loss: 2602166784.0000 - val_loss: 45369647955968.0000 - lr: 1.0000e-04\n",
      "Epoch 15/100\n",
      "1704/1704 [==============================] - 2s 1ms/step\n",
      "852/852 [==============================] - 7s 8ms/step - loss: 1832428288.0000 - val_loss: 3343084421120.0000 - lr: 1.0000e-04\n",
      "Epoch 16/100\n",
      "1704/1704 [==============================] - 2s 1ms/step\n",
      "852/852 [==============================] - 7s 8ms/step - loss: 1281907328.0000 - val_loss: 52760797184.0000 - lr: 1.0000e-04\n",
      "Epoch 17/100\n",
      "1704/1704 [==============================] - 2s 1ms/step\n",
      "852/852 [==============================] - 7s 8ms/step - loss: 917150592.0000 - val_loss: 2653106944.0000 - lr: 1.0000e-04\n",
      "Epoch 18/100\n",
      "1704/1704 [==============================] - 2s 1ms/step\n",
      "852/852 [==============================] - 6s 8ms/step - loss: 590454400.0000 - val_loss: 71762657280.0000 - lr: 1.0000e-04\n",
      "Epoch 19/100\n",
      "1704/1704 [==============================] - 2s 1ms/step\n",
      "852/852 [==============================] - 7s 8ms/step - loss: 390776320.0000 - val_loss: 14444774400.0000 - lr: 1.0000e-04\n",
      "Epoch 20/100\n",
      "1704/1704 [==============================] - 2s 1ms/step\n",
      "852/852 [==============================] - 7s 8ms/step - loss: 254800912.0000 - val_loss: 4239628032.0000 - lr: 1.0000e-04\n",
      "Epoch 21/100\n",
      "1704/1704 [==============================] - 2s 1ms/step\n",
      "852/852 [==============================] - 7s 8ms/step - loss: 162845680.0000 - val_loss: 37828681728.0000 - lr: 1.0000e-04\n",
      "Epoch 22/100\n",
      "1704/1704 [==============================] - 2s 1ms/step\n",
      "852/852 [==============================] - 7s 8ms/step - loss: 103760832.0000 - val_loss: 1873261696.0000 - lr: 1.0000e-04\n",
      "Epoch 23/100\n",
      "1704/1704 [==============================] - 2s 1ms/step\n",
      "852/852 [==============================] - 7s 8ms/step - loss: 66984616.0000 - val_loss: 19960473600.0000 - lr: 1.0000e-04\n",
      "Epoch 24/100\n",
      "1704/1704 [==============================] - 2s 1ms/step\n",
      "852/852 [==============================] - 7s 8ms/step - loss: 41615172.0000 - val_loss: 110050770944.0000 - lr: 1.0000e-04\n",
      "Epoch 25/100\n",
      "1704/1704 [==============================] - 2s 1ms/step\n",
      "852/852 [==============================] - 7s 8ms/step - loss: 26146838.0000 - val_loss: 9778891776.0000 - lr: 1.0000e-04\n",
      "Epoch 26/100\n",
      "1704/1704 [==============================] - 2s 1ms/step\n",
      "852/852 [==============================] - 7s 8ms/step - loss: 16303497.0000 - val_loss: 1106726656.0000 - lr: 1.0000e-04\n",
      "Epoch 27/100\n",
      "1704/1704 [==============================] - 2s 1ms/step\n",
      "852/852 [==============================] - 6s 8ms/step - loss: 10388605.0000 - val_loss: 10596281344.0000 - lr: 1.0000e-04\n",
      "Epoch 28/100\n",
      "1704/1704 [==============================] - 2s 1ms/step\n",
      "852/852 [==============================] - 7s 8ms/step - loss: 6564105.5000 - val_loss: 2253117184.0000 - lr: 1.0000e-04\n",
      "Epoch 29/100\n",
      "1704/1704 [==============================] - 2s 1ms/step\n",
      "852/852 [==============================] - 7s 8ms/step - loss: 4014607.5000 - val_loss: 26292664.0000 - lr: 1.0000e-04\n",
      "Epoch 30/100\n",
      "1704/1704 [==============================] - 2s 1ms/step\n",
      "852/852 [==============================] - 7s 8ms/step - loss: 2532685.0000 - val_loss: 6364373504.0000 - lr: 1.0000e-04\n",
      "Epoch 31/100\n",
      "1704/1704 [==============================] - 2s 1ms/step\n",
      "852/852 [==============================] - 7s 8ms/step - loss: 1585571.0000 - val_loss: 78337776.0000 - lr: 1.0000e-04\n",
      "Epoch 32/100\n",
      "1704/1704 [==============================] - 2s 1ms/step\n",
      "852/852 [==============================] - 7s 8ms/step - loss: 991985.1250 - val_loss: 247751872.0000 - lr: 1.0000e-04\n",
      "Epoch 33/100\n",
      "1704/1704 [==============================] - 2s 1ms/step\n",
      "852/852 [==============================] - 6s 7ms/step - loss: 624930.9375 - val_loss: 56315504.0000 - lr: 1.0000e-04\n",
      "Epoch 34/100\n",
      "1704/1704 [==============================] - 2s 1ms/step\n",
      "852/852 [==============================] - 7s 8ms/step - loss: 392168.8125 - val_loss: 78227608.0000 - lr: 1.0000e-04\n",
      "Epoch 35/100\n",
      "1704/1704 [==============================] - 2s 1ms/step\n",
      "852/852 [==============================] - 7s 8ms/step - loss: 245189.2969 - val_loss: 3842852.2500 - lr: 1.0000e-04\n",
      "Epoch 36/100\n",
      "1704/1704 [==============================] - 2s 1ms/step\n",
      "852/852 [==============================] - 7s 8ms/step - loss: 154077.3281 - val_loss: 1602740.7500 - lr: 1.0000e-04\n",
      "Epoch 37/100\n",
      "1704/1704 [==============================] - 2s 1ms/step\n",
      "852/852 [==============================] - 7s 8ms/step - loss: 98058.7578 - val_loss: 8813657.0000 - lr: 1.0000e-04\n",
      "Epoch 38/100\n",
      "1704/1704 [==============================] - 2s 1ms/step\n",
      "852/852 [==============================] - 6s 8ms/step - loss: 62153.7227 - val_loss: 21254576.0000 - lr: 1.0000e-04\n",
      "Epoch 39/100\n",
      "1704/1704 [==============================] - 2s 1ms/step\n",
      "852/852 [==============================] - 6s 7ms/step - loss: 38645.1914 - val_loss: 4593148.5000 - lr: 1.0000e-04\n",
      "Epoch 40/100\n",
      "1704/1704 [==============================] - 2s 1ms/step\n",
      "852/852 [==============================] - 6s 8ms/step - loss: 24709.3086 - val_loss: 3611102.5000 - lr: 1.0000e-04\n",
      "Epoch 41/100\n",
      "1704/1704 [==============================] - 2s 1ms/step\n",
      "852/852 [==============================] - 7s 8ms/step - loss: 15637.5371 - val_loss: 74094.9766 - lr: 1.0000e-04\n",
      "Epoch 42/100\n",
      "1704/1704 [==============================] - 2s 1ms/step\n",
      "852/852 [==============================] - 7s 8ms/step - loss: 9721.4697 - val_loss: 223418.6719 - lr: 1.0000e-04\n",
      "Epoch 43/100\n",
      "1704/1704 [==============================] - 2s 1ms/step\n",
      "852/852 [==============================] - 7s 8ms/step - loss: 6210.0342 - val_loss: 201735.3281 - lr: 1.0000e-04\n",
      "Epoch 44/100\n",
      "1704/1704 [==============================] - 2s 1ms/step\n",
      "852/852 [==============================] - 7s 8ms/step - loss: 3999.1912 - val_loss: 2202206.7500 - lr: 1.0000e-04\n",
      "Epoch 45/100\n",
      "1704/1704 [==============================] - 2s 1ms/step\n",
      "852/852 [==============================] - 7s 8ms/step - loss: 2513.9563 - val_loss: 20639388.0000 - lr: 1.0000e-04\n",
      "Epoch 46/100\n",
      "1704/1704 [==============================] - 2s 1ms/step\n",
      "852/852 [==============================] - 7s 8ms/step - loss: 1610.5187 - val_loss: 7852.7456 - lr: 1.0000e-04\n",
      "Epoch 47/100\n",
      "1704/1704 [==============================] - 2s 1ms/step\n",
      "852/852 [==============================] - 6s 8ms/step - loss: 1068.3710 - val_loss: 237722.4219 - lr: 1.0000e-04\n",
      "Epoch 48/100\n",
      "1704/1704 [==============================] - 2s 1ms/step\n",
      "852/852 [==============================] - 7s 8ms/step - loss: 673.4807 - val_loss: 22829.7734 - lr: 1.0000e-04\n",
      "Epoch 49/100\n",
      "1704/1704 [==============================] - 2s 1ms/step\n",
      "852/852 [==============================] - 7s 8ms/step - loss: 431.6059 - val_loss: 1010765.5625 - lr: 1.0000e-04\n",
      "Epoch 50/100\n",
      "1704/1704 [==============================] - 2s 1ms/step\n",
      "852/852 [==============================] - 7s 8ms/step - loss: 289.6377 - val_loss: 15002.9922 - lr: 1.0000e-04\n",
      "Epoch 51/100\n",
      "1704/1704 [==============================] - 2s 1ms/step\n",
      "852/852 [==============================] - 7s 8ms/step - loss: 195.2928 - val_loss: 29750.3281 - lr: 1.0000e-04\n",
      "Epoch 52/100\n",
      "1704/1704 [==============================] - 2s 1ms/step\n",
      "852/852 [==============================] - 7s 8ms/step - loss: 137.1259 - val_loss: 693.8217 - lr: 1.0000e-04\n",
      "Epoch 53/100\n",
      "1704/1704 [==============================] - 2s 1ms/step\n",
      "852/852 [==============================] - 7s 8ms/step - loss: 99.4793 - val_loss: 14644.7393 - lr: 1.0000e-04\n",
      "Epoch 54/100\n",
      "1704/1704 [==============================] - 2s 1ms/step\n",
      "852/852 [==============================] - 6s 8ms/step - loss: 75.6322 - val_loss: 759.9718 - lr: 1.0000e-04\n",
      "Epoch 55/100\n",
      "1704/1704 [==============================] - 2s 1ms/step\n",
      "852/852 [==============================] - 6s 8ms/step - loss: 60.7133 - val_loss: 436.3485 - lr: 1.0000e-04\n",
      "Epoch 56/100\n",
      "1704/1704 [==============================] - 2s 1ms/step\n",
      "852/852 [==============================] - 7s 8ms/step - loss: 51.3978 - val_loss: 985.3936 - lr: 1.0000e-04\n",
      "Epoch 57/100\n",
      "1704/1704 [==============================] - 2s 1ms/step\n",
      "852/852 [==============================] - 6s 8ms/step - loss: 45.7205 - val_loss: 15541.4570 - lr: 1.0000e-04\n",
      "Epoch 58/100\n",
      "1704/1704 [==============================] - 2s 1ms/step\n",
      "852/852 [==============================] - 7s 8ms/step - loss: 42.1627 - val_loss: 106.8511 - lr: 1.0000e-04\n",
      "Epoch 59/100\n",
      "1704/1704 [==============================] - 2s 1ms/step\n",
      "852/852 [==============================] - 6s 8ms/step - loss: 40.2413 - val_loss: 935.9329 - lr: 1.0000e-04\n",
      "Epoch 60/100\n",
      "1704/1704 [==============================] - 2s 1ms/step\n",
      "852/852 [==============================] - 6s 7ms/step - loss: 39.0751 - val_loss: 55.1365 - lr: 1.0000e-04\n",
      "Epoch 61/100\n",
      "1704/1704 [==============================] - 2s 1ms/step\n",
      "852/852 [==============================] - 6s 8ms/step - loss: 38.4518 - val_loss: 70.6668 - lr: 1.0000e-04\n",
      "Epoch 62/100\n",
      "1704/1704 [==============================] - 2s 1ms/step\n",
      "852/852 [==============================] - 6s 8ms/step - loss: 38.1439 - val_loss: 14055.2373 - lr: 1.0000e-04\n",
      "Epoch 63/100\n",
      "1704/1704 [==============================] - 2s 1ms/step\n",
      "852/852 [==============================] - 7s 8ms/step - loss: 38.0263 - val_loss: 364.2190 - lr: 1.0000e-04\n",
      "Epoch 64/100\n",
      "1704/1704 [==============================] - 2s 1ms/step\n",
      "852/852 [==============================] - 6s 8ms/step - loss: 37.9585 - val_loss: 320.4366 - lr: 1.0000e-04\n",
      "Epoch 65/100\n",
      "1704/1704 [==============================] - 2s 1ms/step\n",
      "852/852 [==============================] - 7s 8ms/step - loss: 37.9389 - val_loss: 45.3303 - lr: 1.0000e-04\n",
      "Epoch 66/100\n",
      "1704/1704 [==============================] - 2s 1ms/step\n",
      "852/852 [==============================] - 6s 8ms/step - loss: 37.9167 - val_loss: 48.3656 - lr: 1.0000e-04\n",
      "Epoch 67/100\n",
      "1704/1704 [==============================] - 2s 1ms/step\n",
      "852/852 [==============================] - 7s 8ms/step - loss: 37.9259 - val_loss: 44.9368 - lr: 1.0000e-04\n",
      "Epoch 68/100\n",
      "1704/1704 [==============================] - 2s 1ms/step\n",
      "852/852 [==============================] - 7s 8ms/step - loss: 37.8932 - val_loss: 141.0496 - lr: 1.0000e-04\n",
      "Epoch 69/100\n",
      "1704/1704 [==============================] - 2s 1ms/step\n",
      "852/852 [==============================] - 7s 8ms/step - loss: 37.8419 - val_loss: 40.0186 - lr: 1.0000e-04\n",
      "Epoch 70/100\n",
      "1704/1704 [==============================] - 2s 1ms/step\n",
      "852/852 [==============================] - 6s 8ms/step - loss: 37.8308 - val_loss: 42.7764 - lr: 1.0000e-04\n",
      "Epoch 71/100\n",
      "1704/1704 [==============================] - 2s 1ms/step\n",
      "852/852 [==============================] - 7s 8ms/step - loss: 37.7883 - val_loss: 40.8556 - lr: 1.0000e-04\n",
      "Epoch 72/100\n",
      "1704/1704 [==============================] - 2s 1ms/step\n",
      "852/852 [==============================] - 6s 8ms/step - loss: 37.7427 - val_loss: 213.0987 - lr: 1.0000e-04\n",
      "Epoch 73/100\n",
      "1704/1704 [==============================] - 2s 1ms/step\n",
      "852/852 [==============================] - 6s 8ms/step - loss: 37.7046 - val_loss: 39.3040 - lr: 1.0000e-04\n",
      "Epoch 74/100\n",
      "1704/1704 [==============================] - 2s 1ms/step\n",
      "852/852 [==============================] - 6s 8ms/step - loss: 37.6640 - val_loss: 39.3998 - lr: 1.0000e-04\n",
      "Epoch 75/100\n",
      "1704/1704 [==============================] - 2s 1ms/step\n",
      "852/852 [==============================] - 7s 8ms/step - loss: 37.6286 - val_loss: 67.8787 - lr: 1.0000e-04\n",
      "Epoch 76/100\n",
      "1704/1704 [==============================] - 2s 1ms/step\n",
      "852/852 [==============================] - 6s 8ms/step - loss: 37.5818 - val_loss: 40.3467 - lr: 1.0000e-04\n",
      "Epoch 77/100\n",
      "1704/1704 [==============================] - 2s 1ms/step\n",
      "852/852 [==============================] - 6s 8ms/step - loss: 37.5802 - val_loss: 39.7070 - lr: 1.0000e-04\n",
      "Epoch 78/100\n",
      "1704/1704 [==============================] - 2s 1ms/step\n",
      "852/852 [==============================] - 7s 8ms/step - loss: 37.5313 - val_loss: 37.5797 - lr: 1.0000e-04\n",
      "Epoch 79/100\n",
      "1704/1704 [==============================] - 2s 1ms/step\n",
      "852/852 [==============================] - 6s 8ms/step - loss: 37.5096 - val_loss: 46.0664 - lr: 1.0000e-04\n",
      "Epoch 80/100\n",
      "1704/1704 [==============================] - 2s 1ms/step\n",
      "852/852 [==============================] - 6s 8ms/step - loss: 37.4825 - val_loss: 40.2439 - lr: 1.0000e-04\n",
      "Epoch 81/100\n",
      "1704/1704 [==============================] - 2s 1ms/step\n",
      "852/852 [==============================] - 7s 8ms/step - loss: 37.4656 - val_loss: 39.4734 - lr: 1.0000e-04\n",
      "Epoch 82/100\n",
      "1704/1704 [==============================] - 2s 1ms/step\n",
      "852/852 [==============================] - 6s 8ms/step - loss: 37.5479 - val_loss: 39.0308 - lr: 1.0000e-04\n",
      "Epoch 83/100\n",
      "1704/1704 [==============================] - 2s 1ms/step\n",
      "852/852 [==============================] - 6s 8ms/step - loss: 37.4409 - val_loss: 44.4702 - lr: 1.0000e-04\n",
      "Epoch 84/100\n",
      "1704/1704 [==============================] - 2s 1ms/step\n",
      "852/852 [==============================] - 7s 8ms/step - loss: 37.4405 - val_loss: 42.1305 - lr: 1.0000e-04\n",
      "Epoch 85/100\n",
      "1704/1704 [==============================] - 2s 1ms/step\n",
      "852/852 [==============================] - 7s 8ms/step - loss: 37.4198 - val_loss: 49.0125 - lr: 1.0000e-04\n",
      "Epoch 86/100\n",
      "1704/1704 [==============================] - 2s 1ms/step\n",
      "852/852 [==============================] - 7s 8ms/step - loss: 37.4130 - val_loss: 38.6521 - lr: 1.0000e-04\n",
      "Epoch 87/100\n",
      "1704/1704 [==============================] - 2s 1ms/step\n",
      "852/852 [==============================] - 7s 8ms/step - loss: 37.4129 - val_loss: 39.8997 - lr: 1.0000e-04\n",
      "Epoch 88/100\n",
      "1704/1704 [==============================] - 2s 1ms/step\n",
      "852/852 [==============================] - 7s 8ms/step - loss: 37.3964 - val_loss: 40.9495 - lr: 1.0000e-04\n",
      "Epoch 89/100\n",
      "1704/1704 [==============================] - 2s 1ms/step\n",
      "852/852 [==============================] - 7s 8ms/step - loss: 37.3842 - val_loss: 37.7177 - lr: 1.0000e-04\n",
      "Epoch 90/100\n",
      "1704/1704 [==============================] - 2s 1ms/step\n",
      "852/852 [==============================] - 7s 8ms/step - loss: 37.3741 - val_loss: 43.1464 - lr: 1.0000e-04\n",
      "Epoch 91/100\n",
      "1704/1704 [==============================] - 2s 1ms/step\n",
      "852/852 [==============================] - 7s 8ms/step - loss: 37.3609 - val_loss: 39.7248 - lr: 1.0000e-04\n",
      "Epoch 92/100\n",
      "1704/1704 [==============================] - 2s 1ms/step\n",
      "852/852 [==============================] - 6s 8ms/step - loss: 37.3549 - val_loss: 38.7052 - lr: 1.0000e-04\n",
      "Epoch 93/100\n",
      "1704/1704 [==============================] - 2s 1ms/step\n",
      "852/852 [==============================] - 7s 8ms/step - loss: 37.3425 - val_loss: 43.7828 - lr: 1.0000e-04\n",
      "Epoch 94/100\n",
      "1704/1704 [==============================] - 2s 1ms/step\n",
      "852/852 [==============================] - 7s 8ms/step - loss: 37.3295 - val_loss: 51.2191 - lr: 1.0000e-04\n",
      "Epoch 95/100\n",
      "1704/1704 [==============================] - 2s 1ms/step\n",
      "852/852 [==============================] - 7s 8ms/step - loss: 37.3166 - val_loss: 42.9528 - lr: 1.0000e-04\n",
      "Epoch 96/100\n",
      "1704/1704 [==============================] - 2s 1ms/step\n",
      "852/852 [==============================] - 7s 8ms/step - loss: 37.3090 - val_loss: 40.6568 - lr: 1.0000e-04\n",
      "Epoch 97/100\n",
      "1704/1704 [==============================] - 2s 1ms/step\n",
      "852/852 [==============================] - 7s 8ms/step - loss: 37.3025 - val_loss: 42.5153 - lr: 1.0000e-04\n",
      "Epoch 98/100\n",
      "1704/1704 [==============================] - 2s 1ms/step\n",
      "852/852 [==============================] - 7s 8ms/step - loss: 37.3036 - val_loss: 37.9384 - lr: 1.0000e-04\n",
      "Epoch 99/100\n",
      "1704/1704 [==============================] - 2s 1ms/step\n",
      "852/852 [==============================] - 6s 8ms/step - loss: 37.2931 - val_loss: 38.0996 - lr: 1.0000e-04\n",
      "Epoch 100/100\n",
      "1704/1704 [==============================] - 2s 1ms/step\n",
      "852/852 [==============================] - 7s 8ms/step - loss: 37.2809 - val_loss: 40.8101 - lr: 1.0000e-04\n"
     ]
    }
   ],
   "source": [
    "# Train the neural network\n",
    "history = DeepNet.fit(\n",
    "    X_train, y_train,\n",
    "    validation_data=(X_valid,y_valid),\n",
    "    batch_size=BATCHSIZE,\n",
    "    epochs=EPOCHS,\n",
    "    callbacks = [early_stopping,reduce_learn_on_plateau,PredictOnEpoch(DeepNet,X_train,y_train),cb,cp_callback],\n",
    "    use_multiprocessing=True\n",
    ")"
   ]
  },
  {
   "cell_type": "code",
   "execution_count": 46,
   "metadata": {},
   "outputs": [
    {
     "data": {
      "image/png": "[encoded data removed]",
      "text/plain": [
       "<Figure size 432x288 with 1 Axes>"
      ]
     },
     "metadata": {},
     "output_type": "display_data"
    }
   ],
   "source": [
    "# Plot the loss and validation curves vs epoch\n",
    "history_df = pd.DataFrame(history.history)\n",
    "np.log(history_df.loc[:, [\"loss\",\"val_loss\"]]).plot()\n",
    "history_df.to_csv('/home/physics/phujdj/DeepLearningParticlePhysics/history.csv')"
   ]
  },
  {
   "cell_type": "code",
   "execution_count": 47,
   "metadata": {},
   "outputs": [
    {
     "name": "stdout",
     "output_type": "stream",
     "text": [
      "673.0330443649727\n"
     ]
    }
   ],
   "source": [
    "print(sum(cb.logs))"
   ]
  },
  {
   "cell_type": "code",
   "execution_count": 48,
   "metadata": {},
   "outputs": [
    {
     "name": "stdout",
     "output_type": "stream",
     "text": [
      "Minimum validation loss: 37.28086471557617\n"
     ]
    }
   ],
   "source": [
    "# Output to the console the minimum epoch\n",
    "print(\"Minimum validation loss: {}\".format(history_df[\"loss\"].min()))"
   ]
  },
  {
   "cell_type": "code",
   "execution_count": 49,
   "metadata": {},
   "outputs": [
    {
     "name": "stdout",
     "output_type": "stream",
     "text": [
      "2130/2130 - 3s - loss: 40.8428 - 3s/epoch - 2ms/step\n",
      "The Loaded DeepNet has loss:  40.84280776977539\n"
     ]
    }
   ],
   "source": [
    "#Evaluate the entire performance of the model\n",
    "loss = DeepNet.evaluate(tracks,bhads,verbose = 2)\n",
    "print(\"The Loaded DeepNet has loss: \", loss)"
   ]
  }
 ],
 "metadata": {
  "kernelspec": {
   "display_name": "Python 3.9.12 ('SpocFit')",
   "language": "python",
   "name": "python3"
  },
  "language_info": {
   "codemirror_mode": {
    "name": "ipython",
    "version": 3
   },
   "file_extension": ".py",
   "mimetype": "text/x-python",
   "name": "python",
   "nbconvert_exporter": "python",
   "pygments_lexer": "ipython3",
   "version": "3.9.12"
  },
  "orig_nbformat": 4,
  "vscode": {
   "interpreter": {
    "hash": "a05ddcd8ffea9a6a7d2e914b733df5445b717626b5b8c92c04bfc4eb6e7f5cba"
   }
  }
 },
 "nbformat": 4,
 "nbformat_minor": 2
}
