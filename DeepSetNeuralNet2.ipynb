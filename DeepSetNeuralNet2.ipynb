{
 "cells": [
  {
   "cell_type": "code",
   "execution_count": 1,
   "id": "abcb2c0b",
   "metadata": {},
   "outputs": [
    {
     "name": "stderr",
     "output_type": "stream",
     "text": [
      "2022-11-18 04:58:17.282683: I tensorflow/core/platform/cpu_feature_guard.cc:193] This TensorFlow binary is optimized with oneAPI Deep Neural Network Library (oneDNN) to use the following CPU instructions in performance-critical operations:  AVX2 AVX512F AVX512_VNNI FMA\n",
      "To enable them in other operations, rebuild TensorFlow with the appropriate compiler flags.\n",
      "2022-11-18 04:58:17.432945: I tensorflow/core/util/util.cc:169] oneDNN custom operations are on. You may see slightly different numerical results due to floating-point round-off errors from different computation orders. To turn them off, set the environment variable `TF_ENABLE_ONEDNN_OPTS=0`.\n",
      "2022-11-18 04:58:17.438685: W tensorflow/stream_executor/platform/default/dso_loader.cc:64] Could not load dynamic library 'libcudart.so.11.0'; dlerror: libcudart.so.11.0: cannot open shared object file: No such file or directory\n",
      "2022-11-18 04:58:17.438699: I tensorflow/stream_executor/cuda/cudart_stub.cc:29] Ignore above cudart dlerror if you do not have a GPU set up on your machine.\n",
      "2022-11-18 04:58:17.469596: E tensorflow/stream_executor/cuda/cuda_blas.cc:2981] Unable to register cuBLAS factory: Attempting to register factory for plugin cuBLAS when one has already been registered\n",
      "2022-11-18 04:58:18.550119: W tensorflow/stream_executor/platform/default/dso_loader.cc:64] Could not load dynamic library 'libnvinfer.so.7'; dlerror: libnvinfer.so.7: cannot open shared object file: No such file or directory\n",
      "2022-11-18 04:58:18.550510: W tensorflow/stream_executor/platform/default/dso_loader.cc:64] Could not load dynamic library 'libnvinfer_plugin.so.7'; dlerror: libnvinfer_plugin.so.7: cannot open shared object file: No such file or directory\n",
      "2022-11-18 04:58:18.550517: W tensorflow/compiler/tf2tensorrt/utils/py_utils.cc:38] TF-TRT Warning: Cannot dlopen some TensorRT libraries. If you would like to use Nvidia GPU with TensorRT, please make sure the missing libraries mentioned above are installed properly.\n"
     ]
    },
    {
     "name": "stdout",
     "output_type": "stream",
     "text": [
      "\n",
      "PDG ID: 531\n",
      "number of b-hadrons: 13487\n",
      "\n",
      "PDG ID: -521\n",
      "number of b-hadrons: 61531\n",
      "\n",
      "PDG ID: -511\n",
      "number of b-hadrons: 61243\n",
      "\n",
      "PDG ID: 5232\n",
      "number of b-hadrons: 751\n",
      "\n",
      "PDG ID: 511\n",
      "number of b-hadrons: 61706\n",
      "\n",
      "PDG ID: 521\n",
      "number of b-hadrons: 61594\n",
      "\n",
      "PDG ID: -531\n",
      "number of b-hadrons: 13526\n",
      "\n",
      "PDG ID: -5122\n",
      "number of b-hadrons: 5447\n",
      "\n",
      "PDG ID: 5122\n",
      "number of b-hadrons: 5232\n",
      "\n",
      "PDG ID: -5132\n",
      "number of b-hadrons: 676\n",
      "\n",
      "PDG ID: 5132\n",
      "number of b-hadrons: 722\n",
      "\n",
      "PDG ID: -5232\n",
      "number of b-hadrons: 733\n",
      "\n",
      "PDG ID: 555\n",
      "number of b-hadrons: 3\n",
      "\n",
      "PDG ID: 553\n",
      "number of b-hadrons: 6\n",
      "\n",
      "PDG ID: -5332\n",
      "number of b-hadrons: 21\n",
      "\n",
      "PDG ID: 5332\n",
      "number of b-hadrons: 18\n",
      "\n",
      "PDG ID: 100553\n",
      "number of b-hadrons: 1\n",
      "\n",
      "PDG ID: -541\n",
      "number of b-hadrons: 5\n",
      "\n",
      "PDG ID: 10551\n",
      "number of b-hadrons: 3\n",
      "\n",
      "PDG ID: 541\n",
      "number of b-hadrons: 5\n",
      "\n",
      "PDG ID: 20553\n",
      "number of b-hadrons: 1\n",
      "\n"
     ]
    }
   ],
   "source": [
    "# Import relevant modules\n",
    "import os\n",
    "import awkward as ak\n",
    "import matplotlib.pyplot as plt\n",
    "import numpy as np\n",
    "import tensorflow as tf\n",
    "import keras.layers as layers\n",
    "from keras import callbacks\n",
    "import keras\n",
    "import uproot\n",
    "from Sum import Sum\n",
    "import sklearn as sk\n",
    "from numpy.lib.recfunctions import structured_to_unstructured\n",
    "from sklearn.model_selection import train_test_split\n",
    "import pandas as pd\n",
    "import hffrag\n",
    "import keras_tuner as kt\n",
    "from hffrag import fixedbinning\n",
    "from hffrag import binneddensity\n"
   ]
  },
  {
   "cell_type": "code",
   "execution_count": 2,
   "id": "9415eb90",
   "metadata": {},
   "outputs": [],
   "source": [
    "%matplotlib inline\n"
   ]
  },
  {
   "cell_type": "code",
   "execution_count": 3,
   "id": "de4ddcea",
   "metadata": {},
   "outputs": [],
   "source": [
    "# The data is being stored in a tree datastructure.\n",
    "# We access the charm root using this command\n",
    "tree = uproot.open(\"hffrag.root:CharmAnalysis\")\n"
   ]
  },
  {
   "cell_type": "code",
   "execution_count": 4,
   "id": "72bf7c5d",
   "metadata": {},
   "outputs": [],
   "source": [
    "# Initial parameter\n",
    "MASKVAL = -999\n",
    "MAXTRACKS = 8\n",
    "BATCHSIZE = 256\n",
    "EPOCHS = 1000\n",
    "MAXEVENTS = 1e20\n",
    "LR = 1e-4\n"
   ]
  },
  {
   "cell_type": "code",
   "execution_count": 5,
   "id": "69033a06",
   "metadata": {},
   "outputs": [],
   "source": [
    "# Connect the tracks of a jet to the jet.\n",
    "def Match_Tracks(jets, tracks):\n",
    "    \"\"\"Used to determine if a set of tracks belong to a particular set of jets\"\"\"\n",
    "\n",
    "    jet_eta = jets[\"AnalysisAntiKt4TruthJets_eta\"]\n",
    "    jet_phi = jets[\"AnalysisAntiKt4TruthJets_phi\"]\n",
    "\n",
    "    tracks_eta = tracks[\"AnalysisTracks_eta\"]\n",
    "    tracks_phi = tracks[\"AnalysisTracks_phi\"]\n",
    "\n",
    "    delta_etas = jet_eta - tracks_eta\n",
    "    delta_phis = np.abs(jet_phi - tracks_phi)\n",
    "\n",
    "    # Map the phis from a cyclical period onto a linear relation\n",
    "    ak.where(delta_phis > np.pi, delta_phis - np.pi, delta_phis)\n",
    "\n",
    "    # Returns a list of true and false, determining which tracks belong to those jets.\n",
    "    return np.sqrt(delta_phis**2 + delta_etas**2) < 0.4\n"
   ]
  },
  {
   "cell_type": "code",
   "execution_count": 6,
   "id": "12881a9b",
   "metadata": {},
   "outputs": [],
   "source": [
    "# Convert from cylindrical to cartesian coordinates\n",
    "def pt_eta_phi_2_px_py_pz_jets(pt_eta_phi):\n",
    "    \"\"\"Converts the cylindrical polar coordinates to cartesian coordinates for jets\"\"\"\n",
    "\n",
    "    # Seperate the pts, etas and phis\n",
    "    pts = pt_eta_phi[:, 0:1]\n",
    "    etas = pt_eta_phi[:, 1:2]\n",
    "    phis = pt_eta_phi[:, 2:3]\n",
    "\n",
    "    # Convert from polar to cartesian\n",
    "    pxs = pts * np.cos(phis)\n",
    "    pys = pts * np.sin(phis)\n",
    "    pzs = pts * np.sinh(etas)\n",
    "\n",
    "    # Check to see if there are any infinities\n",
    "    isinf = np.isinf(pzs)\n",
    "\n",
    "    if np.any(isinf):\n",
    "        print(\"Infinities in eta detected!\")\n",
    "        print(etas[isinf])\n",
    "        raise ValueError(\"Infinity from sinh(eta) has been detected\")\n",
    "\n",
    "    # Returns the momentum vector\n",
    "    return np.concatenate([pxs, pys, pzs], axis=1)\n"
   ]
  },
  {
   "cell_type": "code",
   "execution_count": 7,
   "id": "32c6dae1",
   "metadata": {},
   "outputs": [],
   "source": [
    "def pt_eta_phi_2_px_py_pz_tracks(pt_eta_phi, MASKVAL=-999):\n",
    "    \"\"\"Converts the cylindrical polar coordinates to cartesian coordinates for jets\"\"\"\n",
    "\n",
    "    # Seperate the pts, etas and phis\n",
    "    pts = pt_eta_phi[:, :, 0:1]\n",
    "    etas = pt_eta_phi[:, :, 1:2]\n",
    "    phis = pt_eta_phi[:, :, 2:3]\n",
    "\n",
    "    # Convert from polar to cartesian\n",
    "    # Removes the tracks where the pts are equal to the mask values\n",
    "    mask1 = pts == MASKVAL\n",
    "    mask2 = phis == MASKVAL\n",
    "    mask3 = etas == MASKVAL\n",
    "    pxs = np.where(mask1 | mask2, pts, pts * np.cos(phis))\n",
    "    pys = np.where(mask1 | mask2, pts, pts * np.sin(phis))\n",
    "    pzs = np.where(mask1 | mask3, pts, pts * np.sinh(etas))\n",
    "\n",
    "    # Check to see if there are any infinities\n",
    "    isinf = np.isinf(pzs)\n",
    "\n",
    "    if np.any(isinf):\n",
    "        print(\"Infinities in eta detected!\")\n",
    "        print(etas[isinf])\n",
    "        raise ValueError(\"Infinity from sinh(eta) has been detected\")\n",
    "\n",
    "    # Returns the momentum vector\n",
    "    return np.concatenate([pxs, pys, pzs], axis=2)\n"
   ]
  },
  {
   "cell_type": "code",
   "execution_count": 8,
   "id": "59e5a81d",
   "metadata": {},
   "outputs": [],
   "source": [
    "def pad(x_values, maxsize, MASKVAL=-999):\n",
    "    \"\"\"\n",
    "    Pads the inputs with nans to get to the maxsize\n",
    "    \"\"\"\n",
    "    y_values = ak.fill_none(ak.pad_none(\n",
    "        x_values, maxsize, axis=1, clip=True), MASKVAL)[:, :maxsize]\n",
    "    return ak.to_regular(y_values, axis=1)\n"
   ]
  },
  {
   "cell_type": "code",
   "execution_count": 9,
   "id": "f82becb1",
   "metadata": {},
   "outputs": [],
   "source": [
    "def flatten(x_values, maxsize=-1, MASKVAL=-999):\n",
    "    \"\"\"\"Pads the input to ensure they are all of regular size and then zips together result\"\"\"\n",
    "    y_values = {}\n",
    "    for field in x_values.fields:\n",
    "        z_values = x_values[field]\n",
    "        if maxsize > 0:\n",
    "            z_values = pad(z_values, maxsize, MASKVAL)\n",
    "        y_values[field] = z_values\n",
    "\n",
    "    return ak.zip(y_values)\n"
   ]
  },
  {
   "cell_type": "code",
   "execution_count": 10,
   "id": "0107723b",
   "metadata": {},
   "outputs": [],
   "source": [
    "def LogNormal_Loss_Function(true, meanscovs_matrix):\n",
    "    \"\"\"\n",
    "    This is a loss function hand crafted for the task of ensuring the neural network \n",
    "    learns to predict the true value of the transverse momentum and it's uncertainty\n",
    "    \"\"\"\n",
    "    n_targets = np.shape(true)[1]\n",
    "    # Obtain data from convarience matrix\n",
    "    means = meanscovs_matrix[:, :n_targets]\n",
    "    # ensure diagonal is postive\n",
    "    logsigma = meanscovs_matrix[:, n_targets:2*n_targets]\n",
    "\n",
    "    loss = 0\n",
    "    for n_target in range(n_targets):\n",
    "        loss += ((means[:, n_target] - true[:, n_target])**2) / (2 * keras.backend.exp(logsigma[:, n_target])**2) + logsigma[:, n_target]\n",
    "\n",
    "    # Build loss function\n",
    "    return loss"
   ]
  },
  {
   "cell_type": "code",
   "execution_count": 11,
   "id": "421c9327",
   "metadata": {},
   "outputs": [],
   "source": [
    "def LogNormal_Loss_Function_Check(true,meanscovs_matrix):\n",
    "\n",
    "    n_targets = np.shape(true)[0]\n",
    "    # Obtain data from convarience matrix\n",
    "    means = meanscovs_matrix[0, :n_targets]\n",
    "    # ensure diagonal is postive:\n",
    "    logsigma = meanscovs_matrix[0, n_targets:2*n_targets]\n",
    "\n",
    "    loss = 0\n",
    "    for n_target in range(n_targets):\n",
    "        loss += ((means[n_target] - true[n_target])**2) / (2 * keras.backend.exp(logsigma[n_target])**2) + logsigma[n_target]\n",
    "\n",
    "    return loss"
   ]
  },
  {
   "cell_type": "code",
   "execution_count": 12,
   "id": "d4e95861",
   "metadata": {},
   "outputs": [],
   "source": [
    "def DeepSetNeuralNetwork(track_layers, jet_layers, n_targets,Learning_rate, MASKVAL=-999):\n",
    "    \"\"\"\n",
    "    This function lays out the Deep Set Neural Architecture\n",
    "    - A neural network is applied first to the tracks to extract information from the tracks.\n",
    "    - This information produces an ensemble space which, the outputs of which are then summed to produce\n",
    "        the inputs for the next layer\n",
    "    - A neural network is then applied to the jet data obtained from the tracks. \n",
    "        To perform current univariate regression.\n",
    "    \"\"\"\n",
    "    drop_rate = 0.5\n",
    "    inputs = layers.Input(shape=(None, track_layers[0]))\n",
    "    outputs = inputs\n",
    "    outputs = layers.Masking(mask_value=MASKVAL)(outputs)\n",
    "\n",
    "    for nodes in track_layers[:-1]:\n",
    "        outputs = layers.TimeDistributed(\n",
    "            layers.Dense(nodes, activation=\"relu\", kernel_initializer= \"he_normal\"))(outputs)\n",
    "        outputs = layers.Dropout(0.05)(outputs)\n",
    "        outputs = layers.BatchNormalization()(outputs)\n",
    "\n",
    "    outputs = layers.TimeDistributed(layers.Dense(\n",
    "        track_layers[-1], activation='softmax'))(outputs)\n",
    "    outputs = Sum()(outputs)\n",
    "\n",
    "    for nodes in jet_layers:\n",
    "        outputs = layers.Dense(nodes, activation='relu', kernel_initializer= \"he_normal\")(outputs)\n",
    "        outputs = layers.Dropout(0.05)(outputs)\n",
    "        outputs = layers.BatchNormalization()(outputs)\n",
    "\n",
    "    outputs = layers.Dense(2*n_targets)(outputs)\n",
    "\n",
    "    Model = keras.Model(inputs=inputs, outputs=outputs)\n",
    "\n",
    "    # Specify the neural network's optimizer and loss function\n",
    "    Model.compile(\n",
    "    optimizer=keras.optimizers.Adam(learning_rate=Learning_rate,clipnorm = 1.0),\n",
    "    loss=LogNormal_Loss_Function\n",
    "    )\n",
    "\n",
    "    return Model\n"
   ]
  },
  {
   "cell_type": "code",
   "execution_count": 13,
   "id": "656918f7",
   "metadata": {},
   "outputs": [],
   "source": [
    "# Select the features we wish to study\n",
    "track_features = [\"AnalysisTracks_pt\", \"AnalysisTracks_eta\", \"AnalysisTracks_phi\", \"AnalysisTracks_z0sinTheta\",\n",
    "                  \"AnalysisTracks_d0sig\", \"AnalysisTracks_d0\", \"AnalysisTracks_d0sigPV\", \"AnalysisTracks_d0PV\"]\n",
    "jet_features = [\"AnalysisAntiKt4TruthJets_pt\", \"AnalysisAntiKt4TruthJets_eta\", \"AnalysisAntiKt4TruthJets_phi\",\n",
    "                \"AnalysisAntiKt4TruthJets_ghostB_pt\", \"AnalysisAntiKt4TruthJets_ghostB_eta\",\"AnalysisAntiKt4TruthJets_ghostB_phi\"]\n"
   ]
  },
  {
   "cell_type": "code",
   "execution_count": 14,
   "id": "4a1b89d5",
   "metadata": {},
   "outputs": [],
   "source": [
    "# Read in the data from the root file\n",
    "features = tree.arrays(jet_features+track_features, entry_stop=MAXEVENTS)"
   ]
  },
  {
   "cell_type": "code",
   "execution_count": 15,
   "id": "9360f205",
   "metadata": {},
   "outputs": [],
   "source": [
    "# Select the events of interest\n",
    "events = features[ak.sum(\n",
    "    features[\"AnalysisAntiKt4TruthJets_pt\"] > 25000, axis=1) > 0]\n"
   ]
  },
  {
   "cell_type": "code",
   "execution_count": 16,
   "id": "015e551b",
   "metadata": {},
   "outputs": [
    {
     "name": "stdout",
     "output_type": "stream",
     "text": [
      "The number of jets to train on is:  141329\n",
      "The number of track features is:  8\n"
     ]
    }
   ],
   "source": [
    "# Displays the number of jets being trained on\n",
    "jets = events[jet_features][:, 0]\n",
    "print(\"The number of jets to train on is: \", len(jets))\n",
    "print(\"The number of track features is: \",len(track_features))"
   ]
  },
  {
   "cell_type": "code",
   "execution_count": 17,
   "id": "1e92bf0a",
   "metadata": {},
   "outputs": [],
   "source": [
    "# Select tracks from the events\n",
    "tracks = events[track_features]\n",
    "\n",
    "# Match the tracks to the jets\n",
    "matchedtracks = tracks[Match_Tracks(jets, tracks)]\n",
    "\n",
    "# Pad and Flatten the data\n",
    "matchedtracks = flatten(matchedtracks, MAXTRACKS)"
   ]
  },
  {
   "cell_type": "code",
   "execution_count": 18,
   "id": "9cac0fbe",
   "metadata": {},
   "outputs": [
    {
     "name": "stdout",
     "output_type": "stream",
     "text": [
      "There are 3 outputs\n",
      "There are 8 inputs\n"
     ]
    }
   ],
   "source": [
    "# Identify the the bottom jets and their associated tracks\n",
    "bjets = ak.sum(jets[\"AnalysisAntiKt4TruthJets_ghostB_pt\"] > 5000, axis=1) > 0\n",
    "jets = jets[bjets]\n",
    "bhads_pt = jets[\"AnalysisAntiKt4TruthJets_ghostB_pt\"][:, 0].to_numpy()\n",
    "bhads_eta = jets[\"AnalysisAntiKt4TruthJets_ghostB_eta\"][:,0].to_numpy()\n",
    "bhads_phi = jets[\"AnalysisAntiKt4TruthJets_ghostB_phi\"][:,0].to_numpy()\n",
    "bhads = np.stack([bhads_pt,bhads_eta,bhads_phi],axis = -1)\n",
    "\n",
    "print(\"There are {} outputs\".format(np.shape(bhads)[1]))\n",
    "matchedtracks = matchedtracks[bjets]\n",
    "print(\"There are {} inputs\".format(np.shape(matchedtracks)[1]))"
   ]
  },
  {
   "cell_type": "code",
   "execution_count": 19,
   "id": "353b9ba7",
   "metadata": {},
   "outputs": [
    {
     "name": "stdout",
     "output_type": "stream",
     "text": [
      "(68143, 3)\n",
      "(5,)\n",
      "[1.48e+05, 1.04e+05, 1.16e+05, 4.03e+04, ... 8.14e+04, 9.83e+04, 1.45e+05, 9.11e+04]\n"
     ]
    }
   ],
   "source": [
    "print(np.shape(bhads))\n",
    "print(np.shape(jet_features[:-1]))\n",
    "print(jets[jet_features[0]])"
   ]
  },
  {
   "cell_type": "code",
   "execution_count": 20,
   "id": "fe1e6403",
   "metadata": {},
   "outputs": [
    {
     "name": "stdout",
     "output_type": "stream",
     "text": [
      "(68143, 3)\n"
     ]
    }
   ],
   "source": [
    "# Transform the jet and tracks to unstructed data.\n",
    "jets = structured_to_unstructured(jets[jet_features[:-3]])\n",
    "matchedtracks = structured_to_unstructured(matchedtracks)\n",
    "print(np.shape(jets))"
   ]
  },
  {
   "cell_type": "code",
   "execution_count": 21,
   "id": "26ec35a2",
   "metadata": {},
   "outputs": [
    {
     "name": "stdout",
     "output_type": "stream",
     "text": [
      "[[[1.47e+04, 0.753, 1.14, 1.19, 75.5, ... -0.165, -0.51, -0.0283, -0.692, -0.038]]]\n",
      "(68143, 8)\n"
     ]
    }
   ],
   "source": [
    "print(matchedtracks[:, 0:1])\n",
    "print(np.shape(matchedtracks[:, :, 3]))"
   ]
  },
  {
   "cell_type": "code",
   "execution_count": 22,
   "id": "ce89f66d",
   "metadata": {},
   "outputs": [
    {
     "name": "stdout",
     "output_type": "stream",
     "text": [
      "(68143, 8, 3)\n",
      "(68143, 8, 5)\n"
     ]
    },
    {
     "name": "stderr",
     "output_type": "stream",
     "text": [
      "/tmp/ipykernel_11022/289123523.py:16: RuntimeWarning: overflow encountered in sinh\n",
      "  pzs = np.where(mask1 | mask3, pts, pts * np.sinh(etas))\n"
     ]
    }
   ],
   "source": [
    "# Fix the angles\n",
    "jets = pt_eta_phi_2_px_py_pz_jets(jets).to_numpy()\n",
    "tracks_p = pt_eta_phi_2_px_py_pz_tracks(matchedtracks.to_numpy())\n",
    "bhads = pt_eta_phi_2_px_py_pz_jets(bhads)\n",
    "print(np.shape(tracks_p))\n",
    "print(np.shape(matchedtracks[:, :, 3:]))\n",
    "tracks = np.concatenate([tracks_p,matchedtracks[:,:,3:].to_numpy()],axis = 2)"
   ]
  },
  {
   "cell_type": "code",
   "execution_count": 23,
   "id": "513b9981",
   "metadata": {},
   "outputs": [
    {
     "name": "stdout",
     "output_type": "stream",
     "text": [
      "(68143, 8, 8)\n",
      "[6.20926450e+03 1.33553447e+04 1.21693980e+04 1.18753994e+00\n",
      " 7.55359192e+01 1.33110714e+00 8.57456207e+01 1.32391548e+00]\n",
      "[ 48855.56531144 128363.19160447 124938.01790683]\n"
     ]
    }
   ],
   "source": [
    "print(np.shape(tracks))\n",
    "print(tracks[0,0])\n",
    "print(bhads[0])\n"
   ]
  },
  {
   "cell_type": "code",
   "execution_count": 24,
   "id": "7123c3ba",
   "metadata": {},
   "outputs": [
    {
     "name": "stderr",
     "output_type": "stream",
     "text": [
      "2022-11-18 05:00:04.744238: W tensorflow/stream_executor/platform/default/dso_loader.cc:64] Could not load dynamic library 'libcuda.so.1'; dlerror: libcuda.so.1: cannot open shared object file: No such file or directory\n",
      "2022-11-18 05:00:04.744267: W tensorflow/stream_executor/cuda/cuda_driver.cc:263] failed call to cuInit: UNKNOWN ERROR (303)\n",
      "2022-11-18 05:00:04.744282: I tensorflow/stream_executor/cuda/cuda_diagnostics.cc:156] kernel driver does not appear to be running on this host (vonneumann.csc.warwick.ac.uk): /proc/driver/nvidia/version does not exist\n",
      "2022-11-18 05:00:04.744462: I tensorflow/core/platform/cpu_feature_guard.cc:193] This TensorFlow binary is optimized with oneAPI Deep Neural Network Library (oneDNN) to use the following CPU instructions in performance-critical operations:  AVX2 AVX512F AVX512_VNNI FMA\n",
      "To enable them in other operations, rebuild TensorFlow with the appropriate compiler flags.\n"
     ]
    }
   ],
   "source": [
    "# Builds the deep neural network\n",
    "track_layers = [192, 192, 192, 192, 192]\n",
    "jet_layers = [192, 192, 192, 192, 192]\n",
    "DeepNet = DeepSetNeuralNetwork(\n",
    "    [len(track_features)]+track_layers, jet_layers,3, LR)\n"
   ]
  },
  {
   "cell_type": "code",
   "execution_count": 25,
   "id": "976a4e26",
   "metadata": {},
   "outputs": [],
   "source": [
    "def model_builder(hp):\n",
    "    \"\"\"\n",
    "    This function lays out the Deep Set Neural Architecture\n",
    "    - A neural network is applied first to the tracks to extract information from the tracks.\n",
    "    - This information produces an ensemble space which, the outputs of which are then summed to produce\n",
    "        the inputs for the next layer\n",
    "    - A neural network is then applied to the jet data obtained from the tracks. \n",
    "        To perform current univariate regression.\n",
    "    \"\"\"\n",
    "    hp_units = hp.Int('units', min_value=32, max_value=512, step=32)\n",
    "    track_layers = [len(track_features)] + [hp_units,\n",
    "                                            hp_units, hp_units, hp_units, hp_units]\n",
    "    jet_layers = [hp_units, hp_units, hp_units, hp_units, hp_units]\n",
    "    n_targets = 3\n",
    "    drop_rate = 0.5\n",
    "    inputs = layers.Input(shape=(None, track_layers[0]))\n",
    "    outputs = inputs\n",
    "    outputs = layers.Masking(mask_value=MASKVAL)(outputs)\n",
    "\n",
    "    for nodes in track_layers[:-1]:\n",
    "        outputs = layers.TimeDistributed(\n",
    "            layers.Dense(nodes, activation=\"elu\", kernel_initializer= \"he_normal\"))(outputs)\n",
    "        outputs = layers.BatchNormalization()(outputs)\n",
    "\n",
    "    outputs = layers.TimeDistributed(layers.Dense(\n",
    "        track_layers[-1], activation='softmax'))(outputs)\n",
    "    outputs = Sum()(outputs)\n",
    "\n",
    "    for nodes in jet_layers:\n",
    "        outputs = layers.Dense(nodes, activation=\"elu\", kernel_initializer= \"he_normal\")(outputs)\n",
    "        outputs = layers.BatchNormalization()(outputs)\n",
    "\n",
    "    outputs = layers.Dense(n_targets + n_targets*(n_targets+1)//2)(outputs)\n",
    "\n",
    "    # Tune the learning rate of the optimizer\n",
    "    hp_learning_rate = hp.Choice(\"learning_rate\", values=[\n",
    "                                 1e-1, 1e-2, 1e-3, 1e-4, ])\n",
    "\n",
    "    Model = keras.Model(inputs=inputs, outputs=outputs)\n",
    "    Model.compile(optimizer=keras.optimizers.Adam(learning_rate=hp_learning_rate),\n",
    "                  loss=LogNormal_Loss_Function, metrics=[LogNormal_Loss_Function])\n",
    "\n",
    "    return Model\n"
   ]
  },
  {
   "cell_type": "code",
   "execution_count": 26,
   "id": "b8fc9cc2",
   "metadata": {},
   "outputs": [
    {
     "name": "stdout",
     "output_type": "stream",
     "text": [
      "Model: \"model\"\n",
      "_________________________________________________________________\n",
      " Layer (type)                Output Shape              Param #   \n",
      "=================================================================\n",
      " input_1 (InputLayer)        [(None, None, 8)]         0         \n",
      "                                                                 \n",
      " masking (Masking)           (None, None, 8)           0         \n",
      "                                                                 \n",
      " time_distributed (TimeDistr  (None, None, 8)          72        \n",
      " ibuted)                                                         \n",
      "                                                                 \n",
      " dropout (Dropout)           (None, None, 8)           0         \n",
      "                                                                 \n",
      " batch_normalization (BatchN  (None, None, 8)          32        \n",
      " ormalization)                                                   \n",
      "                                                                 \n",
      " time_distributed_1 (TimeDis  (None, None, 192)        1728      \n",
      " tributed)                                                       \n",
      "                                                                 \n",
      " dropout_1 (Dropout)         (None, None, 192)         0         \n",
      "                                                                 \n",
      " batch_normalization_1 (Batc  (None, None, 192)        768       \n",
      " hNormalization)                                                 \n",
      "                                                                 \n",
      " time_distributed_2 (TimeDis  (None, None, 192)        37056     \n",
      " tributed)                                                       \n",
      "                                                                 \n",
      " dropout_2 (Dropout)         (None, None, 192)         0         \n",
      "                                                                 \n",
      " batch_normalization_2 (Batc  (None, None, 192)        768       \n",
      " hNormalization)                                                 \n",
      "                                                                 \n",
      " time_distributed_3 (TimeDis  (None, None, 192)        37056     \n",
      " tributed)                                                       \n",
      "                                                                 \n",
      " dropout_3 (Dropout)         (None, None, 192)         0         \n",
      "                                                                 \n",
      " batch_normalization_3 (Batc  (None, None, 192)        768       \n",
      " hNormalization)                                                 \n",
      "                                                                 \n",
      " time_distributed_4 (TimeDis  (None, None, 192)        37056     \n",
      " tributed)                                                       \n",
      "                                                                 \n",
      " dropout_4 (Dropout)         (None, None, 192)         0         \n",
      "                                                                 \n",
      " batch_normalization_4 (Batc  (None, None, 192)        768       \n",
      " hNormalization)                                                 \n",
      "                                                                 \n",
      " time_distributed_5 (TimeDis  (None, None, 192)        37056     \n",
      " tributed)                                                       \n",
      "                                                                 \n",
      " sum (Sum)                   (None, 192)               0         \n",
      "                                                                 \n",
      " dense_6 (Dense)             (None, 192)               37056     \n",
      "                                                                 \n",
      " dropout_5 (Dropout)         (None, 192)               0         \n",
      "                                                                 \n",
      " batch_normalization_5 (Batc  (None, 192)              768       \n",
      " hNormalization)                                                 \n",
      "                                                                 \n",
      " dense_7 (Dense)             (None, 192)               37056     \n",
      "                                                                 \n",
      " dropout_6 (Dropout)         (None, 192)               0         \n",
      "                                                                 \n",
      " batch_normalization_6 (Batc  (None, 192)              768       \n",
      " hNormalization)                                                 \n",
      "                                                                 \n",
      " dense_8 (Dense)             (None, 192)               37056     \n",
      "                                                                 \n",
      " dropout_7 (Dropout)         (None, 192)               0         \n",
      "                                                                 \n",
      " batch_normalization_7 (Batc  (None, 192)              768       \n",
      " hNormalization)                                                 \n",
      "                                                                 \n",
      " dense_9 (Dense)             (None, 192)               37056     \n",
      "                                                                 \n",
      " dropout_8 (Dropout)         (None, 192)               0         \n",
      "                                                                 \n",
      " batch_normalization_8 (Batc  (None, 192)              768       \n",
      " hNormalization)                                                 \n",
      "                                                                 \n",
      " dense_10 (Dense)            (None, 192)               37056     \n",
      "                                                                 \n",
      " dropout_9 (Dropout)         (None, 192)               0         \n",
      "                                                                 \n",
      " batch_normalization_9 (Batc  (None, 192)              768       \n",
      " hNormalization)                                                 \n",
      "                                                                 \n",
      " dense_11 (Dense)            (None, 6)                 1158      \n",
      "                                                                 \n",
      "=================================================================\n",
      "Total params: 343,406\n",
      "Trainable params: 339,934\n",
      "Non-trainable params: 3,472\n",
      "_________________________________________________________________\n"
     ]
    }
   ],
   "source": [
    "DeepNet.summary()\n"
   ]
  },
  {
   "cell_type": "code",
   "execution_count": 27,
   "id": "d40311b8",
   "metadata": {},
   "outputs": [],
   "source": [
    "# Split the data into training and validation sets.\n",
    "X_train, X_valid, y_train, y_valid = train_test_split(\n",
    "    tracks, bhads, train_size=0.7, random_state=42)\n"
   ]
  },
  {
   "cell_type": "code",
   "execution_count": 28,
   "id": "90a6341e",
   "metadata": {},
   "outputs": [
    {
     "name": "stdout",
     "output_type": "stream",
     "text": [
      "(47700, 8, 8) (47700, 3)\n"
     ]
    }
   ],
   "source": [
    "print(np.shape(X_train), np.shape(y_train))\n"
   ]
  },
  {
   "cell_type": "code",
   "execution_count": 43,
   "id": "8cceca1d",
   "metadata": {},
   "outputs": [],
   "source": [
    "# Introduce early_stopping to prevent overfitting\n",
    "early_stopping = callbacks.EarlyStopping(\n",
    "    min_delta=0.001,  # The minimum amount of change to count as an improvement\n",
    "    patience=20,  # The number of epochs to wait before stopping\n",
    "    restore_best_weights=True,  # Keep the best weights\n",
    ")\n",
    "# Prevent spikes in the validation and training loss due to the gradient descent kicking the network out of a local minima\n",
    "reduce_learn_on_plateau = callbacks.ReduceLROnPlateau(\n",
    "    monitor='val_loss', factor=0.8, patience=10, min_lr=1e-6)\n",
    "\n",
    "# Save the weights of the model to allow reuse in future.\n",
    "path = \"/home/physics/phujdj/DeepLearningParticlePhysics/CheckPoints/DeepNetWeights&Biases-{epoch:04d}.ckpt\"\n",
    "checkpoint_dir = os.path.dirname(path)\n",
    "cp_callback = tf.keras.callbacks.ModelCheckpoint(filepath=path,\n",
    "                                                 save_weights_only=True, verbose=0, save_best_only=True)\n"
   ]
  },
  {
   "cell_type": "code",
   "execution_count": 30,
   "id": "6de3f9f6",
   "metadata": {},
   "outputs": [
    {
     "name": "stdout",
     "output_type": "stream",
     "text": [
      "Epoch 1/1000\n",
      "187/187 [==============================] - 7s 23ms/step - loss: 2030715273216.0000 - val_loss: 67994734592.0000 - lr: 1.0000e-04\n",
      "Epoch 2/1000\n",
      "187/187 [==============================] - 4s 20ms/step - loss: 25394851840.0000 - val_loss: 30074701824.0000 - lr: 1.0000e-04\n",
      "Epoch 3/1000\n",
      "187/187 [==============================] - 4s 20ms/step - loss: 9706817536.0000 - val_loss: 6567086080.0000 - lr: 1.0000e-04\n",
      "Epoch 4/1000\n",
      "187/187 [==============================] - 4s 20ms/step - loss: 4823389696.0000 - val_loss: 2732318208.0000 - lr: 1.0000e-04\n",
      "Epoch 5/1000\n",
      "187/187 [==============================] - 4s 21ms/step - loss: 2460637184.0000 - val_loss: 1906685056.0000 - lr: 1.0000e-04\n",
      "Epoch 6/1000\n",
      "187/187 [==============================] - 4s 20ms/step - loss: 1221481088.0000 - val_loss: 839875776.0000 - lr: 1.0000e-04\n",
      "Epoch 7/1000\n",
      "187/187 [==============================] - 4s 20ms/step - loss: 562345984.0000 - val_loss: 300955200.0000 - lr: 1.0000e-04\n",
      "Epoch 8/1000\n",
      "187/187 [==============================] - 4s 20ms/step - loss: 230658128.0000 - val_loss: 125086184.0000 - lr: 1.0000e-04\n",
      "Epoch 9/1000\n",
      "187/187 [==============================] - 4s 20ms/step - loss: 75202176.0000 - val_loss: 33997908.0000 - lr: 1.0000e-04\n",
      "Epoch 10/1000\n",
      "187/187 [==============================] - 4s 20ms/step - loss: 28178288.0000 - val_loss: 9205727.0000 - lr: 1.0000e-04\n",
      "Epoch 11/1000\n",
      "187/187 [==============================] - 4s 21ms/step - loss: 5998857.0000 - val_loss: 2241995.0000 - lr: 1.0000e-04\n",
      "Epoch 12/1000\n",
      "187/187 [==============================] - 4s 21ms/step - loss: 24600514.0000 - val_loss: 308532.6562 - lr: 1.0000e-04\n",
      "Epoch 13/1000\n",
      "187/187 [==============================] - 4s 21ms/step - loss: 716847.1250 - val_loss: 49392.3359 - lr: 1.0000e-04\n",
      "Epoch 14/1000\n",
      "187/187 [==============================] - 4s 20ms/step - loss: 37690.7109 - val_loss: 6231.5610 - lr: 1.0000e-04\n",
      "Epoch 15/1000\n",
      "187/187 [==============================] - 4s 20ms/step - loss: 18625.2285 - val_loss: 824.6780 - lr: 1.0000e-04\n",
      "Epoch 16/1000\n",
      "187/187 [==============================] - 4s 20ms/step - loss: 998.2513 - val_loss: 97.5563 - lr: 1.0000e-04\n",
      "Epoch 17/1000\n",
      "187/187 [==============================] - 4s 21ms/step - loss: 142.1829 - val_loss: 37.3018 - lr: 1.0000e-04\n",
      "Epoch 18/1000\n",
      "187/187 [==============================] - 4s 20ms/step - loss: 38.8653 - val_loss: 35.9539 - lr: 1.0000e-04\n",
      "Epoch 19/1000\n",
      "187/187 [==============================] - 4s 21ms/step - loss: 11133.6143 - val_loss: 35.9341 - lr: 1.0000e-04\n",
      "Epoch 20/1000\n",
      "187/187 [==============================] - 4s 20ms/step - loss: 1357.1350 - val_loss: 35.9504 - lr: 1.0000e-04\n",
      "Epoch 21/1000\n",
      "187/187 [==============================] - 4s 20ms/step - loss: 387.1898 - val_loss: 36.0402 - lr: 1.0000e-04\n",
      "Epoch 22/1000\n",
      "187/187 [==============================] - 4s 20ms/step - loss: 45.9873 - val_loss: 35.9176 - lr: 1.0000e-04\n",
      "Epoch 23/1000\n",
      "187/187 [==============================] - 4s 22ms/step - loss: 41.1767 - val_loss: 35.8651 - lr: 1.0000e-04\n",
      "Epoch 24/1000\n",
      "187/187 [==============================] - 4s 20ms/step - loss: 60.2983 - val_loss: 36.0547 - lr: 1.0000e-04\n",
      "Epoch 25/1000\n",
      "187/187 [==============================] - 4s 20ms/step - loss: 38.9441 - val_loss: 35.8950 - lr: 1.0000e-04\n",
      "Epoch 26/1000\n",
      "187/187 [==============================] - 4s 20ms/step - loss: 108.5352 - val_loss: 35.9358 - lr: 1.0000e-04\n",
      "Epoch 27/1000\n",
      "187/187 [==============================] - 4s 20ms/step - loss: 44.8340 - val_loss: 35.9007 - lr: 1.0000e-04\n",
      "Epoch 28/1000\n",
      "187/187 [==============================] - 4s 20ms/step - loss: 172637.5469 - val_loss: 35.8867 - lr: 1.0000e-04\n",
      "Epoch 29/1000\n",
      "187/187 [==============================] - 4s 20ms/step - loss: 44.4045 - val_loss: 36.0076 - lr: 1.0000e-04\n",
      "Epoch 30/1000\n",
      "187/187 [==============================] - 4s 20ms/step - loss: 147.7097 - val_loss: 35.8785 - lr: 1.0000e-04\n",
      "Epoch 31/1000\n",
      "187/187 [==============================] - 4s 20ms/step - loss: 887.7752 - val_loss: 35.8477 - lr: 1.0000e-04\n",
      "Epoch 32/1000\n",
      "187/187 [==============================] - 4s 20ms/step - loss: 51.3773 - val_loss: 36.0387 - lr: 1.0000e-04\n",
      "Epoch 33/1000\n",
      "187/187 [==============================] - 4s 20ms/step - loss: 347.1794 - val_loss: 36.0127 - lr: 1.0000e-04\n",
      "Epoch 34/1000\n",
      "187/187 [==============================] - 4s 22ms/step - loss: 53.5199 - val_loss: 35.7960 - lr: 1.0000e-04\n",
      "Epoch 35/1000\n",
      "187/187 [==============================] - 4s 20ms/step - loss: 2406.5327 - val_loss: 35.9391 - lr: 1.0000e-04\n",
      "Epoch 36/1000\n",
      "187/187 [==============================] - 4s 20ms/step - loss: 68.1729 - val_loss: 36.1034 - lr: 1.0000e-04\n",
      "Epoch 37/1000\n",
      "187/187 [==============================] - 4s 20ms/step - loss: 50.3187 - val_loss: 35.9090 - lr: 1.0000e-04\n",
      "Epoch 38/1000\n",
      "187/187 [==============================] - 4s 20ms/step - loss: 10745.4668 - val_loss: 35.8505 - lr: 1.0000e-04\n",
      "Epoch 39/1000\n",
      "187/187 [==============================] - 4s 20ms/step - loss: 136.3864 - val_loss: 36.2909 - lr: 1.0000e-04\n",
      "Epoch 40/1000\n",
      "187/187 [==============================] - 4s 20ms/step - loss: 57.5428 - val_loss: 35.8460 - lr: 1.0000e-04\n",
      "Epoch 41/1000\n",
      "187/187 [==============================] - 4s 20ms/step - loss: 517475.7188 - val_loss: 35.7872 - lr: 1.0000e-04\n",
      "Epoch 42/1000\n",
      "187/187 [==============================] - 4s 20ms/step - loss: 128611.6641 - val_loss: 35.8467 - lr: 1.0000e-04\n",
      "Epoch 43/1000\n",
      "187/187 [==============================] - 4s 20ms/step - loss: 76.6631 - val_loss: 36.5313 - lr: 1.0000e-04\n",
      "Epoch 44/1000\n",
      "187/187 [==============================] - 4s 20ms/step - loss: 1235.2961 - val_loss: 35.9423 - lr: 1.0000e-04\n",
      "Epoch 45/1000\n",
      "187/187 [==============================] - 4s 20ms/step - loss: 42.0736 - val_loss: 35.8862 - lr: 1.0000e-04\n",
      "Epoch 46/1000\n",
      "187/187 [==============================] - 4s 20ms/step - loss: 36.8284 - val_loss: 35.8236 - lr: 1.0000e-04\n",
      "Epoch 47/1000\n",
      "187/187 [==============================] - 4s 20ms/step - loss: 82.8491 - val_loss: 36.3583 - lr: 1.0000e-04\n",
      "Epoch 48/1000\n",
      "187/187 [==============================] - 4s 20ms/step - loss: 303.7000 - val_loss: 36.0817 - lr: 1.0000e-04\n",
      "Epoch 49/1000\n",
      "187/187 [==============================] - 4s 20ms/step - loss: 603.9344 - val_loss: 36.3113 - lr: 1.0000e-04\n",
      "Epoch 50/1000\n",
      "187/187 [==============================] - 4s 20ms/step - loss: 59.6521 - val_loss: 36.4596 - lr: 1.0000e-04\n",
      "Epoch 51/1000\n",
      "187/187 [==============================] - 4s 20ms/step - loss: 201.5230 - val_loss: 36.3194 - lr: 1.0000e-04\n",
      "Epoch 52/1000\n",
      "187/187 [==============================] - 4s 20ms/step - loss: 1481.7268 - val_loss: 37.0635 - lr: 8.0000e-05\n",
      "Epoch 53/1000\n",
      "187/187 [==============================] - 4s 20ms/step - loss: 1791.9803 - val_loss: 36.5639 - lr: 8.0000e-05\n",
      "Epoch 54/1000\n",
      "187/187 [==============================] - 4s 20ms/step - loss: 39.4316 - val_loss: 37.8894 - lr: 8.0000e-05\n",
      "Epoch 55/1000\n",
      "187/187 [==============================] - 4s 20ms/step - loss: 206.2494 - val_loss: 36.8958 - lr: 8.0000e-05\n",
      "Epoch 56/1000\n",
      "187/187 [==============================] - 4s 20ms/step - loss: 45.1482 - val_loss: 36.7320 - lr: 8.0000e-05\n",
      "Epoch 57/1000\n",
      "187/187 [==============================] - 4s 20ms/step - loss: 67.4268 - val_loss: 36.5764 - lr: 8.0000e-05\n",
      "Epoch 58/1000\n",
      "187/187 [==============================] - 4s 20ms/step - loss: 36.9524 - val_loss: 37.4154 - lr: 8.0000e-05\n",
      "Epoch 59/1000\n",
      "187/187 [==============================] - 4s 20ms/step - loss: 52.2854 - val_loss: 37.3690 - lr: 8.0000e-05\n",
      "Epoch 60/1000\n",
      "187/187 [==============================] - 4s 20ms/step - loss: 35.4669 - val_loss: 37.7271 - lr: 8.0000e-05\n",
      "Epoch 61/1000\n",
      "187/187 [==============================] - 4s 20ms/step - loss: 51.1064 - val_loss: 37.1124 - lr: 8.0000e-05\n"
     ]
    }
   ],
   "source": [
    "# Train the neural network\n",
    "history = DeepNet.fit(\n",
    "    X_train, y_train,\n",
    "    validation_data=(X_valid, y_valid),\n",
    "    batch_size=BATCHSIZE,\n",
    "    epochs=EPOCHS,\n",
    "    callbacks=[early_stopping, reduce_learn_on_plateau,\n",
    "               cp_callback]  # Enter call back\n",
    ")\n"
   ]
  },
  {
   "cell_type": "code",
   "execution_count": 31,
   "id": "819e6fad",
   "metadata": {},
   "outputs": [
    {
     "data": {
      "text/plain": [
       "<AxesSubplot:>"
      ]
     },
     "execution_count": 31,
     "metadata": {},
     "output_type": "execute_result"
    },
    {
     "data": {
      "image/png": "[encoded data removed]",
      "text/plain": [
       "<Figure size 432x288 with 1 Axes>"
      ]
     },
     "metadata": {
      "needs_background": "light"
     },
     "output_type": "display_data"
    }
   ],
   "source": [
    "# Plot the loss and validation curves vs epoch\n",
    "history_df = pd.DataFrame(history.history)\n",
    "np.log(history_df.loc[:, [\"loss\", \"val_loss\"]]).plot()\n"
   ]
  },
  {
   "cell_type": "code",
   "execution_count": 32,
   "id": "6916df88",
   "metadata": {},
   "outputs": [
    {
     "name": "stdout",
     "output_type": "stream",
     "text": [
      "2130/2130 [==============================] - 4s 2ms/step\n",
      "[[  3.5618067   -5.0864577   -0.62015516  10.752908    10.524082\n",
      "   11.603152  ]\n",
      " [  4.3047967   -3.9066625   -0.5520572   11.071079    10.455435\n",
      "   11.773886  ]\n",
      " [ -1.6263082  -10.639834    -8.087603    10.55743     10.992943\n",
      "   12.366784  ]\n",
      " [ -0.99395466 -11.048855    -7.1698036   10.505982    11.117477\n",
      "   12.1648245 ]\n",
      " [  0.03132836 -10.37358     -6.029527    10.372187    11.139601\n",
      "   12.077116  ]\n",
      " [  2.6072235   -5.504687    -2.4190638   10.733937    10.866156\n",
      "   11.6250305 ]\n",
      " [  5.1170454   -3.0718591    1.8761926   10.966973    10.485588\n",
      "   11.873177  ]\n",
      " [ -0.48685053 -10.077505    -6.53706     10.459536    11.057657\n",
      "   12.094972  ]\n",
      " [  0.18489096 -10.586338    -6.2642574   10.690289    10.94231\n",
      "   12.209788  ]\n",
      " [  3.6513016   -3.3267725   -0.7500735   11.028736    10.927835\n",
      "   11.628569  ]]\n"
     ]
    }
   ],
   "source": [
    "# Have the model predict the total momentum of the b tracks\n",
    "predictions = DeepNet.predict(tracks)\n",
    "# Output the first 10 guesses\n",
    "print(predictions[:10])\n"
   ]
  },
  {
   "cell_type": "code",
   "execution_count": 33,
   "id": "26625761",
   "metadata": {},
   "outputs": [
    {
     "name": "stdout",
     "output_type": "stream",
     "text": [
      "Minimum validation loss: 35.78717803955078\n"
     ]
    }
   ],
   "source": [
    "# Output to the console the minimum epoch\n",
    "print(\"Minimum validation loss: {}\".format(history_df[\"val_loss\"].min()))"
   ]
  },
  {
   "cell_type": "code",
   "execution_count": 34,
   "id": "9b49381d",
   "metadata": {},
   "outputs": [
    {
     "name": "stdout",
     "output_type": "stream",
     "text": [
      "68143 68143\n",
      "(68143, 6)\n"
     ]
    }
   ],
   "source": [
    "# Ensure the dimensions are correct\n",
    "print(len(tracks), len(predictions))\n",
    "print(np.shape(predictions))"
   ]
  },
  {
   "cell_type": "code",
   "execution_count": 35,
   "id": "f9b27c71",
   "metadata": {},
   "outputs": [
    {
     "name": "stdout",
     "output_type": "stream",
     "text": [
      "-14.90728 120.451904\n",
      "Minimum and maximum values\n",
      "The min/max of bhad momenta:  -2273167.0883596055 1827356.5267840482\n",
      "The min/max of the ppred - ptrue -777837.9499493665 467827.9026205825\n",
      "The min/max of the pull -12.74473821572968 8.535503734195974\n",
      "Median and IQR\n",
      "The Median/IQR for the ppred - ptrue:  394.32195937929214 91235.52927310788\n",
      "The Median/IQR for the pull  0.008586751759153686 1.778325933350898\n",
      "Mean and standard deviation\n",
      "The mean/std for the ppred - ptrue:  62.89892767744419 65421.146704035906\n",
      "The mean/std for the pull -0.10842962354235346 1.2751875922094418\n"
     ]
    }
   ],
   "source": [
    "# Create the distribution of errors to access the performance of the neural network\n",
    "pull = (predictions[:, 1] - bhads[:,1])\n",
    "scaled_pull = pull/np.exp(predictions[:, 4])\n",
    "# Compare and constrast the true and predicted momentums\n",
    "print(np.min(predictions[:,1]),np.max(predictions[:,1]))\n",
    "\n",
    "print(\"Minimum and maximum values\")\n",
    "print(\"The min/max of bhad momenta: \", np.min(bhads), np.max(bhads))\n",
    "print(\"The min/max of the ppred - ptrue\", np.min(pull), np.max(pull))\n",
    "print(\"The min/max of the pull\", np.min(scaled_pull), np.max(scaled_pull))\n",
    "\n",
    "print(\"Median and IQR\")\n",
    "print(\"The Median/IQR for the ppred - ptrue: \", np.median(pull),\n",
    "      np.percentile(pull, 75)-np.percentile(pull, 25))\n",
    "print(\"The Median/IQR for the pull \", np.median(scaled_pull),\n",
    "      np.percentile(scaled_pull, 75)-np.percentile(scaled_pull, 25))\n",
    "\n",
    "print(\"Mean and standard deviation\")\n",
    "print(\"The mean/std for the ppred - ptrue: \", np.mean(pull), np.std(pull))\n",
    "print(\"The mean/std for the pull\", np.mean(scaled_pull), np.std(scaled_pull))\n"
   ]
  },
  {
   "cell_type": "code",
   "execution_count": 36,
   "id": "42888cd1",
   "metadata": {},
   "outputs": [
    {
     "data": {
      "image/png": "[encoded data removed]",
      "text/plain": [
       "<Figure size 576x576 with 1 Axes>"
      ]
     },
     "execution_count": 36,
     "metadata": {},
     "output_type": "execute_result"
    }
   ],
   "source": [
    "fig = binneddensity(pull, fixedbinning(-3e5, 3e5, 100),\n",
    "                    xlabel=\"ptpred - pttrue [MeV]\")\n",
    "fig\n"
   ]
  },
  {
   "cell_type": "code",
   "execution_count": 37,
   "id": "a8ee417a",
   "metadata": {},
   "outputs": [
    {
     "data": {
      "image/png": "[encoded data removed]",
      "text/plain": [
       "<Figure size 576x576 with 1 Axes>"
      ]
     },
     "execution_count": 37,
     "metadata": {},
     "output_type": "execute_result"
    }
   ],
   "source": [
    "fig = binneddensity(scaled_pull, fixedbinning(-4.0, 4.0, 100), xlabel=\"pull\")\n",
    "fig\n"
   ]
  },
  {
   "cell_type": "code",
   "execution_count": 38,
   "id": "e3d77bec",
   "metadata": {},
   "outputs": [
    {
     "name": "stdout",
     "output_type": "stream",
     "text": [
      "1/1 [==============================] - 0s 304ms/step\n",
      "[[ 4.3047967 -3.9066625 -0.5520572 11.071079  10.455435  11.773886 ]]\n",
      "[   843.45625286  77133.74792279 179693.16123271]\n",
      "1/1 [==============================] - 0s 20ms/step\n"
     ]
    },
    {
     "data": {
      "text/plain": [
       "<tf.Tensor: shape=(), dtype=float32, numpy=36.724686>"
      ]
     },
     "execution_count": 38,
     "metadata": {},
     "output_type": "execute_result"
    }
   ],
   "source": [
    "print(DeepNet.predict(tracks[1]))\n",
    "print(bhads[1])\n",
    "\n",
    "LogNormal_Loss_Function_Check(bhads[1],DeepNet.predict(tracks[1]))"
   ]
  },
  {
   "cell_type": "code",
   "execution_count": 39,
   "id": "f8f40041",
   "metadata": {},
   "outputs": [
    {
     "name": "stdout",
     "output_type": "stream",
     "text": [
      "2130/2130 - 3s - loss: 35.7953 - 3s/epoch - 2ms/step\n",
      "The Loaded DeepNet has loss:  35.795\n"
     ]
    }
   ],
   "source": [
    "loss = DeepNet.evaluate(tracks,bhads,verbose = 2)\n",
    "print(\"The Loaded DeepNet has loss: \", round(loss,3))"
   ]
  },
  {
   "cell_type": "code",
   "execution_count": 40,
   "id": "7aa92ca6",
   "metadata": {},
   "outputs": [],
   "source": [
    "SEED = tf.random.set_seed(42)\n",
    "max_trials = 10\n",
    "tuner = kt.RandomSearch(model_builder,\n",
    "                        objective='val_loss',\n",
    "                        seed=SEED,\n",
    "                        overwrite=True,\n",
    "                        max_trials=5,\n",
    "                        directory='/home/physics/phujdj/DeepLearningParticlePhysics',\n",
    "                        project_name=\"DeepSetHyperTraining\",\n",
    "                        )\n"
   ]
  },
  {
   "cell_type": "code",
   "execution_count": 41,
   "id": "d005a520",
   "metadata": {},
   "outputs": [],
   "source": [
    "stop_early = tf.keras.callbacks.EarlyStopping(monitor='val_loss', patience=5)\n"
   ]
  },
  {
   "cell_type": "code",
   "execution_count": 42,
   "id": "8e005fb5",
   "metadata": {},
   "outputs": [
    {
     "name": "stdout",
     "output_type": "stream",
     "text": [
      "\n",
      "Search: Running Trial #1\n",
      "\n",
      "Value             |Best Value So Far |Hyperparameter\n",
      "288               |?                 |units\n",
      "0.001             |?                 |learning_rate\n",
      "\n",
      "Epoch 1/20\n",
      "1491/1491 [==============================] - 18s 11ms/step - loss: 10087250944.0000 - LogNormal_Loss_Function: 10087250944.0000 - val_loss: 1398701568.0000 - val_LogNormal_Loss_Function: 1398701568.0000\n",
      "Epoch 2/20\n",
      "1491/1491 [==============================] - 15s 10ms/step - loss: 834950784.0000 - LogNormal_Loss_Function: 834950784.0000 - val_loss: 396306080.0000 - val_LogNormal_Loss_Function: 396306080.0000\n",
      "Epoch 3/20\n",
      "1491/1491 [==============================] - 15s 10ms/step - loss: 265453520.0000 - LogNormal_Loss_Function: 265453520.0000 - val_loss: 142133040.0000 - val_LogNormal_Loss_Function: 142133040.0000\n",
      "Epoch 4/20\n",
      "1491/1491 [==============================] - 15s 10ms/step - loss: 96984792.0000 - LogNormal_Loss_Function: 96984792.0000 - val_loss: 64365052.0000 - val_LogNormal_Loss_Function: 64365052.0000\n",
      "Epoch 5/20\n",
      "1491/1491 [==============================] - 15s 10ms/step - loss: 37730748.0000 - LogNormal_Loss_Function: 37730748.0000 - val_loss: 32723910.0000 - val_LogNormal_Loss_Function: 32723910.0000\n",
      "Epoch 6/20\n",
      "1491/1491 [==============================] - 15s 10ms/step - loss: 15145654.0000 - LogNormal_Loss_Function: 15145654.0000 - val_loss: 9589088.0000 - val_LogNormal_Loss_Function: 9589088.0000\n",
      "Epoch 7/20\n",
      "1491/1491 [==============================] - 15s 10ms/step - loss: 6159264.5000 - LogNormal_Loss_Function: 6159264.5000 - val_loss: 3495574.0000 - val_LogNormal_Loss_Function: 3495574.0000\n",
      "Epoch 8/20\n",
      "1491/1491 [==============================] - 15s 10ms/step - loss: 2533440.0000 - LogNormal_Loss_Function: 2533440.0000 - val_loss: 1808298.3750 - val_LogNormal_Loss_Function: 1808298.3750\n",
      "Epoch 9/20\n",
      "1491/1491 [==============================] - 15s 10ms/step - loss: 1062591.0000 - LogNormal_Loss_Function: 1062591.0000 - val_loss: 634807.0625 - val_LogNormal_Loss_Function: 634807.0625\n",
      "Epoch 10/20\n",
      "1491/1491 [==============================] - 15s 10ms/step - loss: 441912.5938 - LogNormal_Loss_Function: 441912.5938 - val_loss: 241780.9844 - val_LogNormal_Loss_Function: 241780.9844\n",
      "Epoch 11/20\n",
      "1491/1491 [==============================] - 15s 10ms/step - loss: 189789.0625 - LogNormal_Loss_Function: 189789.0625 - val_loss: 124842.1719 - val_LogNormal_Loss_Function: 124842.1719\n",
      "Epoch 12/20\n",
      "1491/1491 [==============================] - 15s 10ms/step - loss: 80252.1172 - LogNormal_Loss_Function: 80252.1172 - val_loss: 51003.4727 - val_LogNormal_Loss_Function: 51003.4727\n",
      "Epoch 13/20\n",
      "1491/1491 [==============================] - 15s 10ms/step - loss: 34516.5508 - LogNormal_Loss_Function: 34516.5508 - val_loss: 18560.4297 - val_LogNormal_Loss_Function: 18560.4297\n",
      "Epoch 14/20\n",
      "1491/1491 [==============================] - 15s 10ms/step - loss: 15004.3760 - LogNormal_Loss_Function: 15004.3760 - val_loss: 10288.3740 - val_LogNormal_Loss_Function: 10288.3740\n",
      "Epoch 15/20\n",
      "1491/1491 [==============================] - 15s 10ms/step - loss: 6578.6890 - LogNormal_Loss_Function: 6578.6890 - val_loss: 3518.6387 - val_LogNormal_Loss_Function: 3518.6387\n",
      "Epoch 16/20\n",
      "1352/1491 [==========================>...] - ETA: 1s - loss: 2965.8716 - LogNormal_Loss_Function: 2965.8716"
     ]
    },
    {
     "ename": "KeyboardInterrupt",
     "evalue": "",
     "output_type": "error",
     "traceback": [
      "\u001b[0;31m---------------------------------------------------------------------------\u001b[0m",
      "\u001b[0;31mKeyboardInterrupt\u001b[0m                         Traceback (most recent call last)",
      "\u001b[0;32m/tmp/ipykernel_11022/1521541022.py\u001b[0m in \u001b[0;36m<module>\u001b[0;34m\u001b[0m\n\u001b[0;32m----> 1\u001b[0;31m tuner.search(X_train, y_train, validation_data=(\n\u001b[0m\u001b[1;32m      2\u001b[0m     X_valid, y_valid), epochs=20, callbacks=[stop_early])\n",
      "\u001b[0;32m~/anaconda3/envs/SpocFit/lib/python3.9/site-packages/keras_tuner/engine/base_tuner.py\u001b[0m in \u001b[0;36msearch\u001b[0;34m(self, *fit_args, **fit_kwargs)\u001b[0m\n\u001b[1;32m    181\u001b[0m \u001b[0;34m\u001b[0m\u001b[0m\n\u001b[1;32m    182\u001b[0m             \u001b[0mself\u001b[0m\u001b[0;34m.\u001b[0m\u001b[0mon_trial_begin\u001b[0m\u001b[0;34m(\u001b[0m\u001b[0mtrial\u001b[0m\u001b[0;34m)\u001b[0m\u001b[0;34m\u001b[0m\u001b[0;34m\u001b[0m\u001b[0m\n\u001b[0;32m--> 183\u001b[0;31m             \u001b[0mresults\u001b[0m \u001b[0;34m=\u001b[0m \u001b[0mself\u001b[0m\u001b[0;34m.\u001b[0m\u001b[0mrun_trial\u001b[0m\u001b[0;34m(\u001b[0m\u001b[0mtrial\u001b[0m\u001b[0;34m,\u001b[0m \u001b[0;34m*\u001b[0m\u001b[0mfit_args\u001b[0m\u001b[0;34m,\u001b[0m \u001b[0;34m**\u001b[0m\u001b[0mfit_kwargs\u001b[0m\u001b[0;34m)\u001b[0m\u001b[0;34m\u001b[0m\u001b[0;34m\u001b[0m\u001b[0m\n\u001b[0m\u001b[1;32m    184\u001b[0m             \u001b[0;31m# `results` is None indicates user updated oracle in `run_trial()`.\u001b[0m\u001b[0;34m\u001b[0m\u001b[0;34m\u001b[0m\u001b[0m\n\u001b[1;32m    185\u001b[0m             \u001b[0;32mif\u001b[0m \u001b[0mresults\u001b[0m \u001b[0;32mis\u001b[0m \u001b[0;32mNone\u001b[0m\u001b[0;34m:\u001b[0m\u001b[0;34m\u001b[0m\u001b[0;34m\u001b[0m\u001b[0m\n",
      "\u001b[0;32m~/anaconda3/envs/SpocFit/lib/python3.9/site-packages/keras_tuner/engine/tuner.py\u001b[0m in \u001b[0;36mrun_trial\u001b[0;34m(self, trial, *args, **kwargs)\u001b[0m\n\u001b[1;32m    293\u001b[0m             \u001b[0mcallbacks\u001b[0m\u001b[0;34m.\u001b[0m\u001b[0mappend\u001b[0m\u001b[0;34m(\u001b[0m\u001b[0mmodel_checkpoint\u001b[0m\u001b[0;34m)\u001b[0m\u001b[0;34m\u001b[0m\u001b[0;34m\u001b[0m\u001b[0m\n\u001b[1;32m    294\u001b[0m             \u001b[0mcopied_kwargs\u001b[0m\u001b[0;34m[\u001b[0m\u001b[0;34m\"callbacks\"\u001b[0m\u001b[0;34m]\u001b[0m \u001b[0;34m=\u001b[0m \u001b[0mcallbacks\u001b[0m\u001b[0;34m\u001b[0m\u001b[0;34m\u001b[0m\u001b[0m\n\u001b[0;32m--> 295\u001b[0;31m             \u001b[0mobj_value\u001b[0m \u001b[0;34m=\u001b[0m \u001b[0mself\u001b[0m\u001b[0;34m.\u001b[0m\u001b[0m_build_and_fit_model\u001b[0m\u001b[0;34m(\u001b[0m\u001b[0mtrial\u001b[0m\u001b[0;34m,\u001b[0m \u001b[0;34m*\u001b[0m\u001b[0margs\u001b[0m\u001b[0;34m,\u001b[0m \u001b[0;34m**\u001b[0m\u001b[0mcopied_kwargs\u001b[0m\u001b[0;34m)\u001b[0m\u001b[0;34m\u001b[0m\u001b[0;34m\u001b[0m\u001b[0m\n\u001b[0m\u001b[1;32m    296\u001b[0m \u001b[0;34m\u001b[0m\u001b[0m\n\u001b[1;32m    297\u001b[0m             \u001b[0mhistories\u001b[0m\u001b[0;34m.\u001b[0m\u001b[0mappend\u001b[0m\u001b[0;34m(\u001b[0m\u001b[0mobj_value\u001b[0m\u001b[0;34m)\u001b[0m\u001b[0;34m\u001b[0m\u001b[0;34m\u001b[0m\u001b[0m\n",
      "\u001b[0;32m~/anaconda3/envs/SpocFit/lib/python3.9/site-packages/keras_tuner/engine/tuner.py\u001b[0m in \u001b[0;36m_build_and_fit_model\u001b[0;34m(self, trial, *args, **kwargs)\u001b[0m\n\u001b[1;32m    220\u001b[0m         \u001b[0mhp\u001b[0m \u001b[0;34m=\u001b[0m \u001b[0mtrial\u001b[0m\u001b[0;34m.\u001b[0m\u001b[0mhyperparameters\u001b[0m\u001b[0;34m\u001b[0m\u001b[0;34m\u001b[0m\u001b[0m\n\u001b[1;32m    221\u001b[0m         \u001b[0mmodel\u001b[0m \u001b[0;34m=\u001b[0m \u001b[0mself\u001b[0m\u001b[0;34m.\u001b[0m\u001b[0m_try_build\u001b[0m\u001b[0;34m(\u001b[0m\u001b[0mhp\u001b[0m\u001b[0;34m)\u001b[0m\u001b[0;34m\u001b[0m\u001b[0;34m\u001b[0m\u001b[0m\n\u001b[0;32m--> 222\u001b[0;31m         \u001b[0mresults\u001b[0m \u001b[0;34m=\u001b[0m \u001b[0mself\u001b[0m\u001b[0;34m.\u001b[0m\u001b[0mhypermodel\u001b[0m\u001b[0;34m.\u001b[0m\u001b[0mfit\u001b[0m\u001b[0;34m(\u001b[0m\u001b[0mhp\u001b[0m\u001b[0;34m,\u001b[0m \u001b[0mmodel\u001b[0m\u001b[0;34m,\u001b[0m \u001b[0;34m*\u001b[0m\u001b[0margs\u001b[0m\u001b[0;34m,\u001b[0m \u001b[0;34m**\u001b[0m\u001b[0mkwargs\u001b[0m\u001b[0;34m)\u001b[0m\u001b[0;34m\u001b[0m\u001b[0;34m\u001b[0m\u001b[0m\n\u001b[0m\u001b[1;32m    223\u001b[0m         tuner_utils.validate_trial_results(\n\u001b[1;32m    224\u001b[0m             \u001b[0mresults\u001b[0m\u001b[0;34m,\u001b[0m \u001b[0mself\u001b[0m\u001b[0;34m.\u001b[0m\u001b[0moracle\u001b[0m\u001b[0;34m.\u001b[0m\u001b[0mobjective\u001b[0m\u001b[0;34m,\u001b[0m \u001b[0;34m\"HyperModel.fit()\"\u001b[0m\u001b[0;34m\u001b[0m\u001b[0;34m\u001b[0m\u001b[0m\n",
      "\u001b[0;32m~/anaconda3/envs/SpocFit/lib/python3.9/site-packages/keras_tuner/engine/hypermodel.py\u001b[0m in \u001b[0;36mfit\u001b[0;34m(self, hp, model, *args, **kwargs)\u001b[0m\n\u001b[1;32m    138\u001b[0m             \u001b[0mIf\u001b[0m \u001b[0;32mreturn\u001b[0m \u001b[0ma\u001b[0m \u001b[0mfloat\u001b[0m\u001b[0;34m,\u001b[0m \u001b[0mit\u001b[0m \u001b[0mshould\u001b[0m \u001b[0mbe\u001b[0m \u001b[0mthe\u001b[0m\u001b[0;31m \u001b[0m\u001b[0;31m`\u001b[0m\u001b[0mobjective\u001b[0m\u001b[0;31m`\u001b[0m \u001b[0mvalue\u001b[0m\u001b[0;34m.\u001b[0m\u001b[0;34m\u001b[0m\u001b[0;34m\u001b[0m\u001b[0m\n\u001b[1;32m    139\u001b[0m         \"\"\"\n\u001b[0;32m--> 140\u001b[0;31m         \u001b[0;32mreturn\u001b[0m \u001b[0mmodel\u001b[0m\u001b[0;34m.\u001b[0m\u001b[0mfit\u001b[0m\u001b[0;34m(\u001b[0m\u001b[0;34m*\u001b[0m\u001b[0margs\u001b[0m\u001b[0;34m,\u001b[0m \u001b[0;34m**\u001b[0m\u001b[0mkwargs\u001b[0m\u001b[0;34m)\u001b[0m\u001b[0;34m\u001b[0m\u001b[0;34m\u001b[0m\u001b[0m\n\u001b[0m\u001b[1;32m    141\u001b[0m \u001b[0;34m\u001b[0m\u001b[0m\n\u001b[1;32m    142\u001b[0m \u001b[0;34m\u001b[0m\u001b[0m\n",
      "\u001b[0;32m~/anaconda3/lib/python3.9/site-packages/keras/utils/traceback_utils.py\u001b[0m in \u001b[0;36merror_handler\u001b[0;34m(*args, **kwargs)\u001b[0m\n\u001b[1;32m     63\u001b[0m         \u001b[0mfiltered_tb\u001b[0m \u001b[0;34m=\u001b[0m \u001b[0;32mNone\u001b[0m\u001b[0;34m\u001b[0m\u001b[0;34m\u001b[0m\u001b[0m\n\u001b[1;32m     64\u001b[0m         \u001b[0;32mtry\u001b[0m\u001b[0;34m:\u001b[0m\u001b[0;34m\u001b[0m\u001b[0;34m\u001b[0m\u001b[0m\n\u001b[0;32m---> 65\u001b[0;31m             \u001b[0;32mreturn\u001b[0m \u001b[0mfn\u001b[0m\u001b[0;34m(\u001b[0m\u001b[0;34m*\u001b[0m\u001b[0margs\u001b[0m\u001b[0;34m,\u001b[0m \u001b[0;34m**\u001b[0m\u001b[0mkwargs\u001b[0m\u001b[0;34m)\u001b[0m\u001b[0;34m\u001b[0m\u001b[0;34m\u001b[0m\u001b[0m\n\u001b[0m\u001b[1;32m     66\u001b[0m         \u001b[0;32mexcept\u001b[0m \u001b[0mException\u001b[0m \u001b[0;32mas\u001b[0m \u001b[0me\u001b[0m\u001b[0;34m:\u001b[0m\u001b[0;34m\u001b[0m\u001b[0;34m\u001b[0m\u001b[0m\n\u001b[1;32m     67\u001b[0m             \u001b[0mfiltered_tb\u001b[0m \u001b[0;34m=\u001b[0m \u001b[0m_process_traceback_frames\u001b[0m\u001b[0;34m(\u001b[0m\u001b[0me\u001b[0m\u001b[0;34m.\u001b[0m\u001b[0m__traceback__\u001b[0m\u001b[0;34m)\u001b[0m\u001b[0;34m\u001b[0m\u001b[0;34m\u001b[0m\u001b[0m\n",
      "\u001b[0;32m~/anaconda3/lib/python3.9/site-packages/keras/engine/training.py\u001b[0m in \u001b[0;36mfit\u001b[0;34m(self, x, y, batch_size, epochs, verbose, callbacks, validation_split, validation_data, shuffle, class_weight, sample_weight, initial_epoch, steps_per_epoch, validation_steps, validation_batch_size, validation_freq, max_queue_size, workers, use_multiprocessing)\u001b[0m\n\u001b[1;32m   1562\u001b[0m                         ):\n\u001b[1;32m   1563\u001b[0m                             \u001b[0mcallbacks\u001b[0m\u001b[0;34m.\u001b[0m\u001b[0mon_train_batch_begin\u001b[0m\u001b[0;34m(\u001b[0m\u001b[0mstep\u001b[0m\u001b[0;34m)\u001b[0m\u001b[0;34m\u001b[0m\u001b[0;34m\u001b[0m\u001b[0m\n\u001b[0;32m-> 1564\u001b[0;31m                             \u001b[0mtmp_logs\u001b[0m \u001b[0;34m=\u001b[0m \u001b[0mself\u001b[0m\u001b[0;34m.\u001b[0m\u001b[0mtrain_function\u001b[0m\u001b[0;34m(\u001b[0m\u001b[0miterator\u001b[0m\u001b[0;34m)\u001b[0m\u001b[0;34m\u001b[0m\u001b[0;34m\u001b[0m\u001b[0m\n\u001b[0m\u001b[1;32m   1565\u001b[0m                             \u001b[0;32mif\u001b[0m \u001b[0mdata_handler\u001b[0m\u001b[0;34m.\u001b[0m\u001b[0mshould_sync\u001b[0m\u001b[0;34m:\u001b[0m\u001b[0;34m\u001b[0m\u001b[0;34m\u001b[0m\u001b[0m\n\u001b[1;32m   1566\u001b[0m                                 \u001b[0mcontext\u001b[0m\u001b[0;34m.\u001b[0m\u001b[0masync_wait\u001b[0m\u001b[0;34m(\u001b[0m\u001b[0;34m)\u001b[0m\u001b[0;34m\u001b[0m\u001b[0;34m\u001b[0m\u001b[0m\n",
      "\u001b[0;32m~/anaconda3/lib/python3.9/site-packages/tensorflow/python/util/traceback_utils.py\u001b[0m in \u001b[0;36merror_handler\u001b[0;34m(*args, **kwargs)\u001b[0m\n\u001b[1;32m    148\u001b[0m     \u001b[0mfiltered_tb\u001b[0m \u001b[0;34m=\u001b[0m \u001b[0;32mNone\u001b[0m\u001b[0;34m\u001b[0m\u001b[0;34m\u001b[0m\u001b[0m\n\u001b[1;32m    149\u001b[0m     \u001b[0;32mtry\u001b[0m\u001b[0;34m:\u001b[0m\u001b[0;34m\u001b[0m\u001b[0;34m\u001b[0m\u001b[0m\n\u001b[0;32m--> 150\u001b[0;31m       \u001b[0;32mreturn\u001b[0m \u001b[0mfn\u001b[0m\u001b[0;34m(\u001b[0m\u001b[0;34m*\u001b[0m\u001b[0margs\u001b[0m\u001b[0;34m,\u001b[0m \u001b[0;34m**\u001b[0m\u001b[0mkwargs\u001b[0m\u001b[0;34m)\u001b[0m\u001b[0;34m\u001b[0m\u001b[0;34m\u001b[0m\u001b[0m\n\u001b[0m\u001b[1;32m    151\u001b[0m     \u001b[0;32mexcept\u001b[0m \u001b[0mException\u001b[0m \u001b[0;32mas\u001b[0m \u001b[0me\u001b[0m\u001b[0;34m:\u001b[0m\u001b[0;34m\u001b[0m\u001b[0;34m\u001b[0m\u001b[0m\n\u001b[1;32m    152\u001b[0m       \u001b[0mfiltered_tb\u001b[0m \u001b[0;34m=\u001b[0m \u001b[0m_process_traceback_frames\u001b[0m\u001b[0;34m(\u001b[0m\u001b[0me\u001b[0m\u001b[0;34m.\u001b[0m\u001b[0m__traceback__\u001b[0m\u001b[0;34m)\u001b[0m\u001b[0;34m\u001b[0m\u001b[0;34m\u001b[0m\u001b[0m\n",
      "\u001b[0;32m~/anaconda3/lib/python3.9/site-packages/tensorflow/python/eager/def_function.py\u001b[0m in \u001b[0;36m__call__\u001b[0;34m(self, *args, **kwds)\u001b[0m\n\u001b[1;32m    913\u001b[0m \u001b[0;34m\u001b[0m\u001b[0m\n\u001b[1;32m    914\u001b[0m       \u001b[0;32mwith\u001b[0m \u001b[0mOptionalXlaContext\u001b[0m\u001b[0;34m(\u001b[0m\u001b[0mself\u001b[0m\u001b[0;34m.\u001b[0m\u001b[0m_jit_compile\u001b[0m\u001b[0;34m)\u001b[0m\u001b[0;34m:\u001b[0m\u001b[0;34m\u001b[0m\u001b[0;34m\u001b[0m\u001b[0m\n\u001b[0;32m--> 915\u001b[0;31m         \u001b[0mresult\u001b[0m \u001b[0;34m=\u001b[0m \u001b[0mself\u001b[0m\u001b[0;34m.\u001b[0m\u001b[0m_call\u001b[0m\u001b[0;34m(\u001b[0m\u001b[0;34m*\u001b[0m\u001b[0margs\u001b[0m\u001b[0;34m,\u001b[0m \u001b[0;34m**\u001b[0m\u001b[0mkwds\u001b[0m\u001b[0;34m)\u001b[0m\u001b[0;34m\u001b[0m\u001b[0;34m\u001b[0m\u001b[0m\n\u001b[0m\u001b[1;32m    916\u001b[0m \u001b[0;34m\u001b[0m\u001b[0m\n\u001b[1;32m    917\u001b[0m       \u001b[0mnew_tracing_count\u001b[0m \u001b[0;34m=\u001b[0m \u001b[0mself\u001b[0m\u001b[0;34m.\u001b[0m\u001b[0mexperimental_get_tracing_count\u001b[0m\u001b[0;34m(\u001b[0m\u001b[0;34m)\u001b[0m\u001b[0;34m\u001b[0m\u001b[0;34m\u001b[0m\u001b[0m\n",
      "\u001b[0;32m~/anaconda3/lib/python3.9/site-packages/tensorflow/python/eager/def_function.py\u001b[0m in \u001b[0;36m_call\u001b[0;34m(self, *args, **kwds)\u001b[0m\n\u001b[1;32m    945\u001b[0m       \u001b[0;31m# In this case we have created variables on the first call, so we run the\u001b[0m\u001b[0;34m\u001b[0m\u001b[0;34m\u001b[0m\u001b[0m\n\u001b[1;32m    946\u001b[0m       \u001b[0;31m# defunned version which is guaranteed to never create variables.\u001b[0m\u001b[0;34m\u001b[0m\u001b[0;34m\u001b[0m\u001b[0m\n\u001b[0;32m--> 947\u001b[0;31m       \u001b[0;32mreturn\u001b[0m \u001b[0mself\u001b[0m\u001b[0;34m.\u001b[0m\u001b[0m_stateless_fn\u001b[0m\u001b[0;34m(\u001b[0m\u001b[0;34m*\u001b[0m\u001b[0margs\u001b[0m\u001b[0;34m,\u001b[0m \u001b[0;34m**\u001b[0m\u001b[0mkwds\u001b[0m\u001b[0;34m)\u001b[0m  \u001b[0;31m# pylint: disable=not-callable\u001b[0m\u001b[0;34m\u001b[0m\u001b[0;34m\u001b[0m\u001b[0m\n\u001b[0m\u001b[1;32m    948\u001b[0m     \u001b[0;32melif\u001b[0m \u001b[0mself\u001b[0m\u001b[0;34m.\u001b[0m\u001b[0m_stateful_fn\u001b[0m \u001b[0;32mis\u001b[0m \u001b[0;32mnot\u001b[0m \u001b[0;32mNone\u001b[0m\u001b[0;34m:\u001b[0m\u001b[0;34m\u001b[0m\u001b[0;34m\u001b[0m\u001b[0m\n\u001b[1;32m    949\u001b[0m       \u001b[0;31m# Release the lock early so that multiple threads can perform the call\u001b[0m\u001b[0;34m\u001b[0m\u001b[0;34m\u001b[0m\u001b[0m\n",
      "\u001b[0;32m~/anaconda3/lib/python3.9/site-packages/tensorflow/python/eager/function.py\u001b[0m in \u001b[0;36m__call__\u001b[0;34m(self, *args, **kwargs)\u001b[0m\n\u001b[1;32m   2494\u001b[0m       (graph_function,\n\u001b[1;32m   2495\u001b[0m        filtered_flat_args) = self._maybe_define_function(args, kwargs)\n\u001b[0;32m-> 2496\u001b[0;31m     return graph_function._call_flat(\n\u001b[0m\u001b[1;32m   2497\u001b[0m         filtered_flat_args, captured_inputs=graph_function.captured_inputs)  # pylint: disable=protected-access\n\u001b[1;32m   2498\u001b[0m \u001b[0;34m\u001b[0m\u001b[0m\n",
      "\u001b[0;32m~/anaconda3/lib/python3.9/site-packages/tensorflow/python/eager/function.py\u001b[0m in \u001b[0;36m_call_flat\u001b[0;34m(self, args, captured_inputs, cancellation_manager)\u001b[0m\n\u001b[1;32m   1860\u001b[0m         and executing_eagerly):\n\u001b[1;32m   1861\u001b[0m       \u001b[0;31m# No tape is watching; skip to running the function.\u001b[0m\u001b[0;34m\u001b[0m\u001b[0;34m\u001b[0m\u001b[0m\n\u001b[0;32m-> 1862\u001b[0;31m       return self._build_call_outputs(self._inference_function.call(\n\u001b[0m\u001b[1;32m   1863\u001b[0m           ctx, args, cancellation_manager=cancellation_manager))\n\u001b[1;32m   1864\u001b[0m     forward_backward = self._select_forward_and_backward_functions(\n",
      "\u001b[0;32m~/anaconda3/lib/python3.9/site-packages/tensorflow/python/eager/function.py\u001b[0m in \u001b[0;36mcall\u001b[0;34m(self, ctx, args, cancellation_manager)\u001b[0m\n\u001b[1;32m    497\u001b[0m       \u001b[0;32mwith\u001b[0m \u001b[0m_InterpolateFunctionError\u001b[0m\u001b[0;34m(\u001b[0m\u001b[0mself\u001b[0m\u001b[0;34m)\u001b[0m\u001b[0;34m:\u001b[0m\u001b[0;34m\u001b[0m\u001b[0;34m\u001b[0m\u001b[0m\n\u001b[1;32m    498\u001b[0m         \u001b[0;32mif\u001b[0m \u001b[0mcancellation_manager\u001b[0m \u001b[0;32mis\u001b[0m \u001b[0;32mNone\u001b[0m\u001b[0;34m:\u001b[0m\u001b[0;34m\u001b[0m\u001b[0;34m\u001b[0m\u001b[0m\n\u001b[0;32m--> 499\u001b[0;31m           outputs = execute.execute(\n\u001b[0m\u001b[1;32m    500\u001b[0m               \u001b[0mstr\u001b[0m\u001b[0;34m(\u001b[0m\u001b[0mself\u001b[0m\u001b[0;34m.\u001b[0m\u001b[0msignature\u001b[0m\u001b[0;34m.\u001b[0m\u001b[0mname\u001b[0m\u001b[0;34m)\u001b[0m\u001b[0;34m,\u001b[0m\u001b[0;34m\u001b[0m\u001b[0;34m\u001b[0m\u001b[0m\n\u001b[1;32m    501\u001b[0m               \u001b[0mnum_outputs\u001b[0m\u001b[0;34m=\u001b[0m\u001b[0mself\u001b[0m\u001b[0;34m.\u001b[0m\u001b[0m_num_outputs\u001b[0m\u001b[0;34m,\u001b[0m\u001b[0;34m\u001b[0m\u001b[0;34m\u001b[0m\u001b[0m\n",
      "\u001b[0;32m~/anaconda3/lib/python3.9/site-packages/tensorflow/python/eager/execute.py\u001b[0m in \u001b[0;36mquick_execute\u001b[0;34m(op_name, num_outputs, inputs, attrs, ctx, name)\u001b[0m\n\u001b[1;32m     52\u001b[0m   \u001b[0;32mtry\u001b[0m\u001b[0;34m:\u001b[0m\u001b[0;34m\u001b[0m\u001b[0;34m\u001b[0m\u001b[0m\n\u001b[1;32m     53\u001b[0m     \u001b[0mctx\u001b[0m\u001b[0;34m.\u001b[0m\u001b[0mensure_initialized\u001b[0m\u001b[0;34m(\u001b[0m\u001b[0;34m)\u001b[0m\u001b[0;34m\u001b[0m\u001b[0;34m\u001b[0m\u001b[0m\n\u001b[0;32m---> 54\u001b[0;31m     tensors = pywrap_tfe.TFE_Py_Execute(ctx._handle, device_name, op_name,\n\u001b[0m\u001b[1;32m     55\u001b[0m                                         inputs, attrs, num_outputs)\n\u001b[1;32m     56\u001b[0m   \u001b[0;32mexcept\u001b[0m \u001b[0mcore\u001b[0m\u001b[0;34m.\u001b[0m\u001b[0m_NotOkStatusException\u001b[0m \u001b[0;32mas\u001b[0m \u001b[0me\u001b[0m\u001b[0;34m:\u001b[0m\u001b[0;34m\u001b[0m\u001b[0;34m\u001b[0m\u001b[0m\n",
      "\u001b[0;31mKeyboardInterrupt\u001b[0m: "
     ]
    }
   ],
   "source": [
    "tuner.search(X_train, y_train, validation_data=(\n",
    "    X_valid, y_valid), epochs=20, callbacks=[stop_early])\n"
   ]
  },
  {
   "cell_type": "code",
   "execution_count": null,
   "id": "5b93a050",
   "metadata": {},
   "outputs": [],
   "source": [
    "best_hps = tuner.get_best_hyperparameters(num_trials=10)[0]\n",
    "print(f\"\"\"\n",
    "The hyperparameter search is complete. The optimal number of units in the first densely-connected\n",
    "layer is {best_hps.get('units')} and the optimal learning rate for the optimizer\n",
    "is {best_hps.get('learning_rate')}.\n",
    "\"\"\")\n"
   ]
  }
 ],
 "metadata": {
  "kernelspec": {
   "display_name": "Python 3.9.12 ('SpocFit')",
   "language": "python",
   "name": "python3"
  },
  "language_info": {
   "codemirror_mode": {
    "name": "ipython",
    "version": 3
   },
   "file_extension": ".py",
   "mimetype": "text/x-python",
   "name": "python",
   "nbconvert_exporter": "python",
   "pygments_lexer": "ipython3",
   "version": "3.9.12 (main, Apr  5 2022, 06:56:58) \n[GCC 7.5.0]"
  },
  "vscode": {
   "interpreter": {
    "hash": "a05ddcd8ffea9a6a7d2e914b733df5445b717626b5b8c92c04bfc4eb6e7f5cba"
   }
  }
 },
 "nbformat": 4,
 "nbformat_minor": 5
}
