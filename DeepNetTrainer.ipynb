{
 "cells": [
  {
   "cell_type": "code",
   "execution_count": 1,
   "metadata": {},
   "outputs": [
    {
     "name": "stderr",
     "output_type": "stream",
     "text": [
      "2023-01-16 09:46:47.562655: I tensorflow/core/platform/cpu_feature_guard.cc:193] This TensorFlow binary is optimized with oneAPI Deep Neural Network Library (oneDNN) to use the following CPU instructions in performance-critical operations:  AVX2 AVX512F AVX512_VNNI FMA\n",
      "To enable them in other operations, rebuild TensorFlow with the appropriate compiler flags.\n",
      "2023-01-16 09:46:47.742355: I tensorflow/core/util/port.cc:104] oneDNN custom operations are on. You may see slightly different numerical results due to floating-point round-off errors from different computation orders. To turn them off, set the environment variable `TF_ENABLE_ONEDNN_OPTS=0`.\n",
      "2023-01-16 09:46:47.746841: W tensorflow/compiler/xla/stream_executor/platform/default/dso_loader.cc:64] Could not load dynamic library 'libcudart.so.11.0'; dlerror: libcudart.so.11.0: cannot open shared object file: No such file or directory\n",
      "2023-01-16 09:46:47.746858: I tensorflow/compiler/xla/stream_executor/cuda/cudart_stub.cc:29] Ignore above cudart dlerror if you do not have a GPU set up on your machine.\n",
      "2023-01-16 09:46:48.937949: W tensorflow/compiler/xla/stream_executor/platform/default/dso_loader.cc:64] Could not load dynamic library 'libnvinfer.so.7'; dlerror: libnvinfer.so.7: cannot open shared object file: No such file or directory\n",
      "2023-01-16 09:46:48.938022: W tensorflow/compiler/xla/stream_executor/platform/default/dso_loader.cc:64] Could not load dynamic library 'libnvinfer_plugin.so.7'; dlerror: libnvinfer_plugin.so.7: cannot open shared object file: No such file or directory\n",
      "2023-01-16 09:46:48.938029: W tensorflow/compiler/tf2tensorrt/utils/py_utils.cc:38] TF-TRT Warning: Cannot dlopen some TensorRT libraries. If you would like to use Nvidia GPU with TensorRT, please make sure the missing libraries mentioned above are installed properly.\n"
     ]
    },
    {
     "name": "stdout",
     "output_type": "stream",
     "text": [
      "number of jets to train on:\n",
      "141329\n"
     ]
    },
    {
     "name": "stderr",
     "output_type": "stream",
     "text": [
      "/home/physics/phujdj/DeepLearningParticlePhysics/hffrag.py:136: RuntimeWarning: overflow encountered in sinh\n",
      "  pzs = numpy.where(mask, pts, pts * numpy.sinh(etas))\n",
      "/home/physics/phujdj/anaconda3/envs/SpocFit/lib/python3.9/site-packages/tensorflow_addons/utils/ensure_tf_install.py:53: UserWarning: Tensorflow Addons supports using Python ops for all Tensorflow versions above or equal to 2.8.0 and strictly below 2.11.0 (nightly versions are not supported). \n",
      " The versions of TensorFlow you are currently using is 2.11.0 and is not supported. \n",
      "Some things might work, some things might not.\n",
      "If you were to encounter a bug, do not file an issue.\n",
      "If you want to make sure you're using a tested and supported configuration, either change the TensorFlow version or the TensorFlow Addons's version. \n",
      "You can find the compatibility matrix in TensorFlow Addon's readme:\n",
      "https://github.com/tensorflow/addons\n",
      "  warnings.warn(\n"
     ]
    }
   ],
   "source": [
    "import os\n",
    "import numpy as np\n",
    "import seaborn as sns\n",
    "import wandb\n",
    "from wandb.keras import WandbCallback\n",
    "from keras import callbacks\n",
    "import keras\n",
    "import DeepSetNeuralNetArchitecture as DSNNA\n",
    "import ParticleTransformer as ParT\n",
    "from DeepSetNeuralNetArchitecture import PredictOnEpoch\n",
    "import ConvolutionalRecurrentNeuralNetworkArchitecture as CRNNA\n",
    "from DeepSetNeuralNetArchitecture import LogNormal_Loss_Function\n",
    "from sklearn.feature_selection import mutual_info_regression\n",
    "from DeepSetNeuralNetArchitecture import Mean_Squared_Error\n",
    "import keras.backend as k\n",
    "import uproot\n",
    "import awkward as ak\n",
    "import sklearn as sk\n",
    "from numpy.lib.recfunctions import structured_to_unstructured\n",
    "from sklearn.model_selection import train_test_split\n",
    "from sklearn.decomposition import PCA\n",
    "import tensorflow as tf\n",
    "import tensorflow_addons as tfa\n",
    "from sklearn.preprocessing import StandardScaler\n",
    "import pandas as pd\n",
    "from hffrag import fixedbinning\n",
    "from hffrag import binneddensity\n",
    "from keras.utils.vis_utils import plot_model\n",
    "from timeit import default_timer as timer\n",
    "import matplotlib.pyplot as plt\n",
    "%matplotlib inline"
   ]
  },
  {
   "cell_type": "code",
   "execution_count": 2,
   "metadata": {},
   "outputs": [],
   "source": [
    "%matplotlib inline\n",
    "plt.rcParams['axes.facecolor'] = 'white'\n",
    "plt.rcParams['savefig.facecolor'] = 'red'\n",
    "plt.rc('text',usetex = False)\n",
    "plt.rc('font',family = 'Times New Roman')\n",
    "%config InlineBackend.print_figure_kwargs={'facecolor' : \"w\"}"
   ]
  },
  {
   "cell_type": "code",
   "execution_count": 3,
   "metadata": {},
   "outputs": [
    {
     "name": "stderr",
     "output_type": "stream",
     "text": [
      "\u001b[34m\u001b[1mwandb\u001b[0m: Currently logged in as: \u001b[33mkaylendarnbrook\u001b[0m. Use \u001b[1m`wandb login --relogin`\u001b[0m to force relogin\n"
     ]
    },
    {
     "data": {
      "text/html": [
       "wandb version 0.13.9 is available!  To upgrade, please run:\n",
       " $ pip install wandb --upgrade"
      ],
      "text/plain": [
       "<IPython.core.display.HTML object>"
      ]
     },
     "metadata": {},
     "output_type": "display_data"
    },
    {
     "data": {
      "text/html": [
       "Tracking run with wandb version 0.13.7"
      ],
      "text/plain": [
       "<IPython.core.display.HTML object>"
      ]
     },
     "metadata": {},
     "output_type": "display_data"
    },
    {
     "data": {
      "text/html": [
       "Run data is saved locally in <code>/home/physics/phujdj/DeepLearningParticlePhysics/wandb/run-20230116_094720-2yhklw3x</code>"
      ],
      "text/plain": [
       "<IPython.core.display.HTML object>"
      ]
     },
     "metadata": {},
     "output_type": "display_data"
    },
    {
     "data": {
      "text/html": [
       "Syncing run <strong><a href=\"https://wandb.ai/kaylendarnbrook/hffrag-DeepNetNeuralNetworkArchitecture/runs/2yhklw3x\" target=\"_blank\">golden-breeze-25</a></strong> to <a href=\"https://wandb.ai/kaylendarnbrook/hffrag-DeepNetNeuralNetworkArchitecture\" target=\"_blank\">Weights & Biases</a> (<a href=\"https://wandb.me/run\" target=\"_blank\">docs</a>)<br/>"
      ],
      "text/plain": [
       "<IPython.core.display.HTML object>"
      ]
     },
     "metadata": {},
     "output_type": "display_data"
    },
    {
     "data": {
      "text/html": [
       "<button onClick=\"this.nextSibling.style.display='block';this.style.display='none';\">Display W&B run</button><iframe src=\"https://wandb.ai/kaylendarnbrook/hffrag-DeepNetNeuralNetworkArchitecture/runs/2yhklw3x?jupyter=true\" style=\"border:none;width:100%;height:420px;display:none;\"></iframe>"
      ],
      "text/plain": [
       "<wandb.sdk.wandb_run.Run at 0x7f77ab8ab370>"
      ]
     },
     "execution_count": 3,
     "metadata": {},
     "output_type": "execute_result"
    }
   ],
   "source": [
    "#wandb.init(project = \"hffrag-DeepNetNeuralNetworkArchitecture\")"
   ]
  },
  {
   "cell_type": "code",
   "execution_count": 4,
   "metadata": {},
   "outputs": [],
   "source": [
    "# The data is being stored in a tree datastructure.\n",
    "# We access the charm root using this command\n",
    "tree = uproot.open(\"hffrag.root:CharmAnalysis\")"
   ]
  },
  {
   "cell_type": "code",
   "execution_count": 5,
   "metadata": {},
   "outputs": [],
   "source": [
    "# Initial parameters\n",
    "MASKVAL = -999 # This value is introduced to ensure arrays are regular (Of the same size). They will be masked later by the network\n",
    "MAXTRACKS = 32 # This value is the maximum number of tracks allowed per event\n",
    "BATCHSIZE = 128 # This is the batch size of the mini batches used during training\n",
    "EPOCHS = 512 # This is the default number of epochs for which the neural network will train providing that early stopping does not occur\n",
    "MAXEVENTS = 1e20 #This is the maximum number of events that will the program will accept\n",
    "LR = 1e-3 #This is the default learning rate"
   ]
  },
  {
   "cell_type": "code",
   "execution_count": 6,
   "metadata": {},
   "outputs": [],
   "source": [
    "def make_mi_scores(X,y):\n",
    "    mi_scores = mutual_info_regression(X,y)\n",
    "    mi_scores = pd.Series(mi_scores,name = \"MI Scores\")\n",
    "    mi_scores = mi_scores.sort_values(ascending = False)\n",
    "    return mi_scores\n",
    "def plot_mi_scores(scores):\n",
    "    scores = scores.sort_values(ascending = True)\n",
    "    width = np.arange(len(scores))\n",
    "    ticks = list(scores.index)\n",
    "    plt.barh(width, scores)\n",
    "    plt.yticks(width,ticks)\n",
    "    plt.title(\"Mutual Informarion Scores\")"
   ]
  },
  {
   "cell_type": "code",
   "execution_count": 7,
   "metadata": {},
   "outputs": [],
   "source": [
    "\"\"\"\n",
    "wandb.config = {\n",
    "    \"learning_rate\": LR,\n",
    "    \"epochs\":EPOCHS,\n",
    "    \"batch_size\":BATCHSIZE,\n",
    "    \"max_events\": MAXEVENTS,\n",
    "    \"MAXTRACKS\": MAXTRACKS, \n",
    "}\"\"\""
   ]
  },
  {
   "cell_type": "code",
   "execution_count": 8,
   "metadata": {},
   "outputs": [],
   "source": [
    "# Select the features we wish to study\n",
    "track_features = [\"AnalysisTracks_pt\", \"AnalysisTracks_eta\", \"AnalysisTracks_phi\", \"AnalysisTracks_z0sinTheta\",\n",
    "                  \"AnalysisTracks_d0sig\", \"AnalysisTracks_d0\", \"AnalysisTracks_d0sigPV\", \"AnalysisTracks_d0PV\"]\n",
    "jet_features = [\"AnalysisAntiKt4TruthJets_pt\", \"AnalysisAntiKt4TruthJets_eta\", \"AnalysisAntiKt4TruthJets_phi\",\n",
    "                \"AnalysisAntiKt4TruthJets_ghostB_pt\", \"AnalysisAntiKt4TruthJets_ghostB_eta\",\"AnalysisAntiKt4TruthJets_ghostB_phi\"]"
   ]
  },
  {
   "cell_type": "code",
   "execution_count": 9,
   "metadata": {},
   "outputs": [],
   "source": [
    "# Read in the dat from the root file\n",
    "features = tree.arrays(jet_features+track_features, entry_stop=MAXEVENTS)"
   ]
  },
  {
   "cell_type": "code",
   "execution_count": 10,
   "metadata": {},
   "outputs": [],
   "source": [
    "# Select the events of interest\n",
    "events = features[ak.sum(\n",
    "    features[\"AnalysisAntiKt4TruthJets_pt\"] > 25000, axis=1) > 0]"
   ]
  },
  {
   "cell_type": "code",
   "execution_count": 11,
   "metadata": {},
   "outputs": [
    {
     "name": "stdout",
     "output_type": "stream",
     "text": [
      "The number of jets to train on is:  141329\n",
      "The number of track features is:  8\n"
     ]
    }
   ],
   "source": [
    "# Displays the number of jets being trained on\n",
    "jets = events[jet_features][:, 0]\n",
    "print(\"The number of jets to train on is: \", len(jets))\n",
    "print(\"The number of track features is: \",len(track_features))"
   ]
  },
  {
   "cell_type": "code",
   "execution_count": 12,
   "metadata": {},
   "outputs": [],
   "source": [
    "# Select tracks from the events\n",
    "tracks = events[track_features]\n",
    "\n",
    "# Match the tracks to the jets\n",
    "matchedtracks = tracks[DSNNA.Match_Tracks(jets, tracks)]\n",
    "\n",
    "# Pad and Flatten the data\n",
    "matchedtracks = DSNNA.flatten(matchedtracks, MAXTRACKS)"
   ]
  },
  {
   "cell_type": "code",
   "execution_count": 13,
   "metadata": {},
   "outputs": [
    {
     "name": "stdout",
     "output_type": "stream",
     "text": [
      "There are 3 outputs\n",
      "There are 32 inputs\n"
     ]
    }
   ],
   "source": [
    "# Identify the the bottom jets and their associated tracks\n",
    "bjets = ak.sum(jets[\"AnalysisAntiKt4TruthJets_ghostB_pt\"] > 5000, axis=1) > 0\n",
    "jets = jets[bjets]\n",
    "\n",
    "# Obtain the pt, eta and phi of each b hadron jet\n",
    "bhads_pt = jets[\"AnalysisAntiKt4TruthJets_ghostB_pt\"][:, 0].to_numpy()\n",
    "bhads_eta = jets[\"AnalysisAntiKt4TruthJets_ghostB_eta\"][:,0].to_numpy()\n",
    "bhads_phi = jets[\"AnalysisAntiKt4TruthJets_ghostB_phi\"][:,0].to_numpy()\n",
    "\n",
    "bhads = np.stack([bhads_pt,bhads_eta,bhads_phi],axis = -1) #Combine the momentum, eta and phi for each jet into one array\n",
    "\n",
    "print(\"There are {} outputs\".format(np.shape(bhads)[1])) # Display the number of target features the neural network will predict\n",
    "matchedtracks = matchedtracks[bjets]\n",
    "print(\"There are {} inputs\".format(np.shape(matchedtracks)[1])) # Display the number of target features the neural network will use in it's ppredictions"
   ]
  },
  {
   "cell_type": "code",
   "execution_count": 14,
   "metadata": {},
   "outputs": [],
   "source": [
    "# Transform the jet and tracks to unstructed data.\n",
    "jets = structured_to_unstructured(jets[jet_features[:-3]])\n",
    "matchedtracks = structured_to_unstructured(matchedtracks)"
   ]
  },
  {
   "cell_type": "code",
   "execution_count": 15,
   "metadata": {},
   "outputs": [
    {
     "name": "stderr",
     "output_type": "stream",
     "text": [
      "/home/physics/phujdj/DeepLearningParticlePhysics/DeepSetNeuralNetArchitecture.py:103: RuntimeWarning: overflow encountered in sinh\n",
      "  pzs = np.where(mask1 | mask3, pts, pts * np.sinh(etas))\n"
     ]
    }
   ],
   "source": [
    "# Convert the coordinates of the b jets and tracks to cartesian coordinates\n",
    "tracks_p = DSNNA.pt_eta_phi_2_px_py_pz_tracks(matchedtracks.to_numpy())\n",
    "bhads = DSNNA.pt_eta_phi_2_px_py_pz_jets(bhads)\n",
    "\n",
    "#Combine the momenta of the tracks with the rest of the track features to form the track dataset\n",
    "tracks = np.concatenate([tracks_p,matchedtracks[:,:,3:].to_numpy()],axis = 2)"
   ]
  },
  {
   "cell_type": "code",
   "execution_count": 16,
   "metadata": {},
   "outputs": [],
   "source": [
    "Scaler = StandardScaler()\n",
    "Num_events,Num_tracks,Num_features = np.shape(tracks)\n",
    "tracks = np.reshape(tracks, newshape=(-1,Num_features))\n",
    "tracks = Scaler.fit_transform(tracks)\n",
    "tracks = np.reshape(tracks, newshape= (Num_events,Num_tracks,Num_features))"
   ]
  },
  {
   "cell_type": "code",
   "execution_count": 17,
   "metadata": {},
   "outputs": [],
   "source": [
    "# Split the data into training and validation sets.\n",
    "X_train, X_valid, y_train, y_valid = train_test_split(\n",
    "    tracks, bhads, train_size=0.8, random_state=42)"
   ]
  },
  {
   "cell_type": "code",
   "execution_count": 18,
   "metadata": {},
   "outputs": [
    {
     "name": "stdout",
     "output_type": "stream",
     "text": [
      "(54514, 32, 8) (54514, 3)\n",
      "(1, 32, 8) (1, 3)\n"
     ]
    }
   ],
   "source": [
    "X_train_event, y_train_event = np.array([X_train[0]]), np.array([y_train[0]])\n",
    "X_valid_event, y_valid_event = np.array([X_valid[0]]), np.array([y_valid[0]])\n",
    "print(np.shape(X_train),np.shape(y_train))\n",
    "print(np.shape(X_train_event),np.shape(y_train_event))"
   ]
  },
  {
   "cell_type": "code",
   "execution_count": 19,
   "metadata": {},
   "outputs": [
    {
     "name": "stdout",
     "output_type": "stream",
     "text": [
      "(54514, 32, 8) (13629, 32, 8)\n",
      "(54514, 3) (13629, 3)\n"
     ]
    }
   ],
   "source": [
    "#Check for the of the training and validation sets\n",
    "print(np.shape(X_train), np.shape(X_valid))\n",
    "print(np.shape(y_train), np.shape(y_valid))"
   ]
  },
  {
   "cell_type": "code",
   "execution_count": 20,
   "metadata": {},
   "outputs": [],
   "source": [
    "#Save the training and validation datasets.\n",
    "np.save(\"/home/physics/phujdj/DeepLearningParticlePhysics/TrainingAndValidationData/X_train_data.npy\",X_train)\n",
    "np.save(\"/home/physics/phujdj/DeepLearningParticlePhysics/TrainingAndValidationData/X_valid_data.npy\",X_valid)\n",
    "np.save(\"/home/physics/phujdj/DeepLearningParticlePhysics/TrainingAndValidationData/y_train_data.npy\",y_train)\n",
    "np.save(\"/home/physics/phujdj/DeepLearningParticlePhysics/TrainingAndValidationData/y_valid_data.npy\",y_valid)"
   ]
  },
  {
   "cell_type": "code",
   "execution_count": 21,
   "metadata": {},
   "outputs": [
    {
     "name": "stdout",
     "output_type": "stream",
     "text": [
      "[8, 128, 128, 128, 128, 128]\n"
     ]
    },
    {
     "name": "stderr",
     "output_type": "stream",
     "text": [
      "2023-01-16 09:48:44.007372: W tensorflow/compiler/xla/stream_executor/platform/default/dso_loader.cc:64] Could not load dynamic library 'libcuda.so.1'; dlerror: libcuda.so.1: cannot open shared object file: No such file or directory\n",
      "2023-01-16 09:48:44.007403: W tensorflow/compiler/xla/stream_executor/cuda/cuda_driver.cc:265] failed call to cuInit: UNKNOWN ERROR (303)\n",
      "2023-01-16 09:48:44.007441: I tensorflow/compiler/xla/stream_executor/cuda/cuda_diagnostics.cc:156] kernel driver does not appear to be running on this host (vonneumann.csc.warwick.ac.uk): /proc/driver/nvidia/version does not exist\n",
      "2023-01-16 09:48:44.009340: I tensorflow/core/platform/cpu_feature_guard.cc:193] This TensorFlow binary is optimized with oneAPI Deep Neural Network Library (oneDNN) to use the following CPU instructions in performance-critical operations:  AVX2 AVX512F AVX512_VNNI FMA\n",
      "To enable them in other operations, rebuild TensorFlow with the appropriate compiler flags.\n"
     ]
    }
   ],
   "source": [
    "#Cyclical Learning Rate Scheduler:\n",
    "steps_per_epoch = len(X_train)\n",
    "clr = tfa.optimizers.CyclicalLearningRate(initial_learning_rate = 1e-3,\n",
    "maximal_learning_rate = 0.01,\n",
    "scale_fn = lambda x: 1/(2**(x-1)),\n",
    "step_size = 2.0 * steps_per_epoch\n",
    ")\n",
    "class TimingCallback(keras.callbacks.Callback):\n",
    "    def __init__(self, logs = {}):\n",
    "        self.logs = []\n",
    "    def on_epoch_begin(self, epoch, logs ={}):\n",
    "        self.starttime = timer()\n",
    "    def on_epoch_end(self, epoch, logs = {}):\n",
    "        self.logs.append(timer() - self.starttime)\n",
    "        \n",
    "# Builds the deep neural network\n",
    "track_layers = [64,64,64,64,64]\n",
    "jet_layers = [128,128.128,128,128,128,128]\n",
    "\n",
    "len1 = [len(track_features)]+track_layers\n",
    "print(len1)\n",
    "\n",
    "#Initializers the optimizer used for training the network\n",
    "optimizer = tf.keras.optimizers.Nadam(clr)\n",
    "optimizer_Constant = tf.keras.optimizers.SGD(learning_rate = 1e-4, momentum = 0.9, clipnorm = 1.0, nesterov = True )\n",
    "\n",
    "#Builds the DeepSet Neural Network\n",
    "DeepNet = DSNNA.DeepSetNeuralNetwork(\n",
    "    [len(track_features)] + track_layers, jet_layers,np.shape(y_train)[1],optimizer)"
   ]
  },
  {
   "cell_type": "code",
   "execution_count": 22,
   "metadata": {},
   "outputs": [
    {
     "name": "stdout",
     "output_type": "stream",
     "text": [
      "Model: \"model\"\n",
      "_________________________________________________________________\n",
      " Layer (type)                Output Shape              Param #   \n",
      "=================================================================\n",
      " input_1 (InputLayer)        [(None, None, 8)]         0         \n",
      "                                                                 \n",
      " masking (Masking)           (None, None, 8)           0         \n",
      "                                                                 \n",
      " time_distributed (TimeDistr  (None, None, 8)          72        \n",
      " ibuted)                                                         \n",
      "                                                                 \n",
      " dropout (Dropout)           (None, None, 8)           0         \n",
      "                                                                 \n",
      " batch_normalization (BatchN  (None, None, 8)          32        \n",
      " ormalization)                                                   \n",
      "                                                                 \n",
      " time_distributed_1 (TimeDis  (None, None, 128)        1152      \n",
      " tributed)                                                       \n",
      "                                                                 \n",
      " dropout_1 (Dropout)         (None, None, 128)         0         \n",
      "                                                                 \n",
      " batch_normalization_1 (Batc  (None, None, 128)        512       \n",
      " hNormalization)                                                 \n",
      "                                                                 \n",
      " time_distributed_2 (TimeDis  (None, None, 128)        16512     \n",
      " tributed)                                                       \n",
      "                                                                 \n",
      " dropout_2 (Dropout)         (None, None, 128)         0         \n",
      "                                                                 \n",
      " batch_normalization_2 (Batc  (None, None, 128)        512       \n",
      " hNormalization)                                                 \n",
      "                                                                 \n",
      " time_distributed_3 (TimeDis  (None, None, 128)        16512     \n",
      " tributed)                                                       \n",
      "                                                                 \n",
      " dropout_3 (Dropout)         (None, None, 128)         0         \n",
      "                                                                 \n",
      " batch_normalization_3 (Batc  (None, None, 128)        512       \n",
      " hNormalization)                                                 \n",
      "                                                                 \n",
      " time_distributed_4 (TimeDis  (None, None, 128)        16512     \n",
      " tributed)                                                       \n",
      "                                                                 \n",
      " dropout_4 (Dropout)         (None, None, 128)         0         \n",
      "                                                                 \n",
      " batch_normalization_4 (Batc  (None, None, 128)        512       \n",
      " hNormalization)                                                 \n",
      "                                                                 \n",
      " time_distributed_5 (TimeDis  (None, None, 128)        16512     \n",
      " tributed)                                                       \n",
      "                                                                 \n",
      " sum (Sum)                   (None, 128)               0         \n",
      "                                                                 \n",
      " dense_6 (Dense)             (None, 128)               16512     \n",
      "                                                                 \n",
      " dropout_5 (Dropout)         (None, 128)               0         \n",
      "                                                                 \n",
      " batch_normalization_5 (Batc  (None, 128)              512       \n",
      " hNormalization)                                                 \n",
      "                                                                 \n",
      " dense_7 (Dense)             (None, 128)               16512     \n",
      "                                                                 \n",
      " dropout_6 (Dropout)         (None, 128)               0         \n",
      "                                                                 \n",
      " batch_normalization_6 (Batc  (None, 128)              512       \n",
      " hNormalization)                                                 \n",
      "                                                                 \n",
      " dense_8 (Dense)             (None, 128)               16512     \n",
      "                                                                 \n",
      " dropout_7 (Dropout)         (None, 128)               0         \n",
      "                                                                 \n",
      " batch_normalization_7 (Batc  (None, 128)              512       \n",
      " hNormalization)                                                 \n",
      "                                                                 \n",
      " dense_9 (Dense)             (None, 128)               16512     \n",
      "                                                                 \n",
      " dropout_8 (Dropout)         (None, 128)               0         \n",
      "                                                                 \n",
      " batch_normalization_8 (Batc  (None, 128)              512       \n",
      " hNormalization)                                                 \n",
      "                                                                 \n",
      " dense_10 (Dense)            (None, 128)               16512     \n",
      "                                                                 \n",
      " dropout_9 (Dropout)         (None, 128)               0         \n",
      "                                                                 \n",
      " batch_normalization_9 (Batc  (None, 128)              512       \n",
      " hNormalization)                                                 \n",
      "                                                                 \n",
      " dense_11 (Dense)            (None, 128)               16512     \n",
      "                                                                 \n",
      " dropout_10 (Dropout)        (None, 128)               0         \n",
      "                                                                 \n",
      " batch_normalization_10 (Bat  (None, 128)              512       \n",
      " chNormalization)                                                \n",
      "                                                                 \n",
      " dense_12 (Dense)            (None, 9)                 1161      \n",
      "                                                                 \n",
      "=================================================================\n",
      "Total params: 172,657\n",
      "Trainable params: 170,081\n",
      "Non-trainable params: 2,576\n",
      "_________________________________________________________________\n"
     ]
    }
   ],
   "source": [
    "#Summarises the Deep Set Neural Network Architecture\n",
    "print(DeepNet.summary())"
   ]
  },
  {
   "cell_type": "code",
   "execution_count": 23,
   "metadata": {},
   "outputs": [],
   "source": [
    "#plot_model(DeepNet, to_file =\"NetworkArchitecture.png\", show_shapes = True, show_layer_names = True)"
   ]
  },
  {
   "cell_type": "code",
   "execution_count": 24,
   "metadata": {},
   "outputs": [],
   "source": [
    "# Introduce early_stopping to prevent overfitting\n",
    "early_stopping = callbacks.EarlyStopping(\n",
    "    min_delta=0.00001,  # The minimum amount of change to count as an improvement\n",
    "    patience=15,  # The number of epochs to wait before stopping\n",
    "    restore_best_weights=True,  # Keep the best weights\n",
    ")\n",
    "# Prevent spikes in the validation and training loss due to the gradient descent kicking the network out of a local minima\n",
    "reduce_learn_on_plateau = callbacks.ReduceLROnPlateau(\n",
    "    monitor='loss', factor=0.80, patience=10, min_lr=1e-6)\n",
    "\n",
    "# Save the weights of the model to allow reuse in future.\n",
    "path = \"/home/physics/phujdj/DeepLearningParticlePhysics/CheckPointsDeepNet/DeepNetWeights&Biases.ckpt\"\n",
    "checkpoint_dir = os.path.dirname(path)\n",
    "cp_callback = tf.keras.callbacks.ModelCheckpoint(filepath=path,\n",
    "                                                 save_weights_only=True, verbose=0, save_freq = 100*BATCHSIZE)\n",
    "#Timer\n",
    "cb = TimingCallback()\n",
    "\n",
    "#Weight&Biases Callback:\n",
    "#Wanda = WandbCallback(save_graph = True,save_weights_only = True, log_weights = True, log_gradients = True, log_evaluation = True, training_data = (X_train,y_train), validation_data = (X_valid,y_valid), log_batch_frequency = 5)\n",
    "\n",
    "# Learning Scheduler:\n",
    "exponential_decay_fn = DSNNA.expontial_decay(lr0 = LR,s = 30)\n",
    "learning_scheduler = tf.keras.callbacks.LearningRateScheduler(exponential_decay_fn)\n"
   ]
  },
  {
   "cell_type": "code",
   "execution_count": 25,
   "metadata": {},
   "outputs": [
    {
     "name": "stdout",
     "output_type": "stream",
     "text": [
      "Epoch 1/512\n"
     ]
    },
    {
     "name": "stderr",
     "output_type": "stream",
     "text": [
      "2023-01-16 09:48:51.600416: I tensorflow/compiler/xla/service/service.cc:173] XLA service 0x7f75fc0c3cc0 initialized for platform Host (this does not guarantee that XLA will be used). Devices:\n",
      "2023-01-16 09:48:51.600459: I tensorflow/compiler/xla/service/service.cc:181]   StreamExecutor device (0): Host, Default Version\n",
      "2023-01-16 09:48:51.893014: I tensorflow/compiler/mlir/tensorflow/utils/dump_mlir_util.cc:268] disabling MLIR crash reproducer, set env var `MLIR_CRASH_REPRODUCER_DIRECTORY` to enable.\n",
      "2023-01-16 09:48:51.927492: W tensorflow/compiler/tf2xla/kernels/random_ops.cc:57] Warning: Using tf.random.uniform with XLA compilation will ignore seeds; consider using tf.random.stateless_uniform instead if reproducible behavior is desired. model/dropout/dropout/random_uniform/RandomUniform\n"
     ]
    },
    {
     "name": "stdout",
     "output_type": "stream",
     "text": [
      "  3/426 [..............................] - ETA: 11s - loss: 473997246464.0000    "
     ]
    },
    {
     "name": "stderr",
     "output_type": "stream",
     "text": [
      "2023-01-16 09:48:58.652611: I tensorflow/compiler/jit/xla_compilation_cache.cc:477] Compiled cluster using XLA!  This line is logged at most once for the lifetime of the process.\n"
     ]
    },
    {
     "name": "stdout",
     "output_type": "stream",
     "text": [
      "1704/1704 [==============================] - 5s 2ms/step\n",
      "426/426 [==============================] - 39s 59ms/step - loss: 73772539904.0000 - val_loss: 8649522176.0000 - lr: 0.0010\n",
      "Epoch 2/512\n",
      "1704/1704 [==============================] - 4s 2ms/step\n",
      "426/426 [==============================] - 16s 37ms/step - loss: 11918652416.0000 - val_loss: 5813428224.0000 - lr: 0.0011\n",
      "Epoch 3/512\n",
      "1704/1704 [==============================] - 4s 2ms/step\n",
      "426/426 [==============================] - 16s 38ms/step - loss: 5767526912.0000 - val_loss: 4409147904.0000 - lr: 0.0011\n",
      "Epoch 4/512\n",
      "1704/1704 [==============================] - 4s 2ms/step\n",
      "426/426 [==============================] - 16s 37ms/step - loss: 3372967168.0000 - val_loss: 2545849088.0000 - lr: 0.0011\n",
      "Epoch 5/512\n",
      "1704/1704 [==============================] - 4s 2ms/step\n",
      "426/426 [==============================] - 16s 37ms/step - loss: 2010244608.0000 - val_loss: 1461663104.0000 - lr: 0.0012\n",
      "Epoch 6/512\n",
      "1704/1704 [==============================] - 4s 2ms/step\n",
      "426/426 [==============================] - 16s 37ms/step - loss: 1300629120.0000 - val_loss: 796964352.0000 - lr: 0.0012\n",
      "Epoch 7/512\n",
      "1704/1704 [==============================] - 4s 2ms/step\n",
      "426/426 [==============================] - 16s 37ms/step - loss: 824643904.0000 - val_loss: 757911168.0000 - lr: 0.0012\n",
      "Epoch 8/512\n",
      "1704/1704 [==============================] - 4s 2ms/step\n",
      "426/426 [==============================] - 16s 37ms/step - loss: 575507200.0000 - val_loss: 493941024.0000 - lr: 0.0013\n",
      "Epoch 9/512\n",
      "1704/1704 [==============================] - 4s 2ms/step\n",
      "426/426 [==============================] - 16s 37ms/step - loss: 413991520.0000 - val_loss: 354341952.0000 - lr: 0.0013\n",
      "Epoch 10/512\n",
      "1704/1704 [==============================] - 4s 2ms/step\n",
      "426/426 [==============================] - 16s 37ms/step - loss: 296879136.0000 - val_loss: 205451168.0000 - lr: 0.0014\n",
      "Epoch 11/512\n",
      "1704/1704 [==============================] - 4s 2ms/step\n",
      "426/426 [==============================] - 16s 37ms/step - loss: 198343520.0000 - val_loss: 161519728.0000 - lr: 0.0014\n",
      "Epoch 12/512\n",
      "1704/1704 [==============================] - 4s 2ms/step\n",
      "426/426 [==============================] - 16s 37ms/step - loss: 139502784.0000 - val_loss: 115407680.0000 - lr: 0.0014\n",
      "Epoch 13/512\n",
      "1704/1704 [==============================] - 4s 2ms/step\n",
      "426/426 [==============================] - 16s 37ms/step - loss: 99552232.0000 - val_loss: 75170296.0000 - lr: 0.0015\n",
      "Epoch 14/512\n",
      "1704/1704 [==============================] - 4s 2ms/step\n",
      "426/426 [==============================] - 16s 37ms/step - loss: 71545968.0000 - val_loss: 55066836.0000 - lr: 0.0015\n",
      "Epoch 15/512\n",
      "1704/1704 [==============================] - 4s 2ms/step\n",
      "426/426 [==============================] - 16s 37ms/step - loss: 53026332.0000 - val_loss: 48044896.0000 - lr: 0.0015\n",
      "Epoch 16/512\n",
      "1704/1704 [==============================] - 4s 2ms/step\n",
      "426/426 [==============================] - 16s 37ms/step - loss: 39723312.0000 - val_loss: 37836364.0000 - lr: 0.0016\n",
      "Epoch 17/512\n",
      "1704/1704 [==============================] - 4s 2ms/step\n",
      "426/426 [==============================] - 16s 37ms/step - loss: 29905158.0000 - val_loss: 24323790.0000 - lr: 0.0016\n",
      "Epoch 18/512\n",
      "1704/1704 [==============================] - 4s 2ms/step\n",
      "426/426 [==============================] - 16s 37ms/step - loss: 22155436.0000 - val_loss: 19247148.0000 - lr: 0.0016\n",
      "Epoch 19/512\n",
      "1704/1704 [==============================] - 4s 2ms/step\n",
      "426/426 [==============================] - 16s 37ms/step - loss: 15667974.0000 - val_loss: 11885488.0000 - lr: 0.0017\n",
      "Epoch 20/512\n",
      "1704/1704 [==============================] - 4s 2ms/step\n",
      "426/426 [==============================] - 16s 37ms/step - loss: 12138361.0000 - val_loss: 8893504.0000 - lr: 0.0017\n",
      "Epoch 21/512\n",
      "1704/1704 [==============================] - 4s 2ms/step\n",
      "426/426 [==============================] - 16s 37ms/step - loss: 8732416.0000 - val_loss: 5649111.0000 - lr: 0.0017\n",
      "Epoch 22/512\n",
      "1704/1704 [==============================] - 4s 2ms/step\n",
      "426/426 [==============================] - 16s 37ms/step - loss: 7150642.0000 - val_loss: 5607401.0000 - lr: 0.0018\n",
      "Epoch 23/512\n",
      "1704/1704 [==============================] - 4s 2ms/step\n",
      "426/426 [==============================] - 16s 39ms/step - loss: 5030848.0000 - val_loss: 4298986.0000 - lr: 0.0018\n",
      "Epoch 24/512\n",
      "1704/1704 [==============================] - 4s 2ms/step\n",
      "426/426 [==============================] - 17s 40ms/step - loss: 3580421.2500 - val_loss: 2909456.2500 - lr: 0.0018\n",
      "Epoch 25/512\n",
      "1704/1704 [==============================] - 4s 2ms/step\n",
      "426/426 [==============================] - 17s 39ms/step - loss: 3034501.5000 - val_loss: 2514812.5000 - lr: 0.0019\n",
      "Epoch 26/512\n",
      "1704/1704 [==============================] - 4s 2ms/step\n",
      "426/426 [==============================] - 17s 39ms/step - loss: 2147349.2500 - val_loss: 1511601.3750 - lr: 0.0019\n",
      "Epoch 27/512\n",
      "1704/1704 [==============================] - 4s 2ms/step\n",
      "426/426 [==============================] - 17s 39ms/step - loss: 1611094.6250 - val_loss: 1375892.5000 - lr: 0.0019\n",
      "Epoch 28/512\n",
      "1704/1704 [==============================] - 4s 2ms/step\n",
      "426/426 [==============================] - 17s 39ms/step - loss: 1260981.5000 - val_loss: 1014696.0000 - lr: 0.0020\n",
      "Epoch 29/512\n",
      "1704/1704 [==============================] - 4s 2ms/step\n",
      "426/426 [==============================] - 17s 39ms/step - loss: 922115.6875 - val_loss: 785911.3750 - lr: 0.0020\n",
      "Epoch 30/512\n",
      "1704/1704 [==============================] - 4s 2ms/step\n",
      "426/426 [==============================] - 17s 39ms/step - loss: 713514.1875 - val_loss: 630956.5000 - lr: 0.0021\n",
      "Epoch 31/512\n",
      "1704/1704 [==============================] - 4s 2ms/step\n",
      "426/426 [==============================] - 17s 39ms/step - loss: 553528.6875 - val_loss: 393877.9062 - lr: 0.0021\n",
      "Epoch 32/512\n",
      "1704/1704 [==============================] - 4s 2ms/step\n",
      "426/426 [==============================] - 16s 39ms/step - loss: 432844.8438 - val_loss: 370754.1875 - lr: 0.0021\n",
      "Epoch 33/512\n",
      "1704/1704 [==============================] - 4s 2ms/step\n",
      "426/426 [==============================] - 17s 39ms/step - loss: 319473.3125 - val_loss: 258099.3750 - lr: 0.0022\n",
      "Epoch 34/512\n",
      "1704/1704 [==============================] - 4s 2ms/step\n",
      "426/426 [==============================] - 17s 39ms/step - loss: 254502.4844 - val_loss: 177983.3750 - lr: 0.0022\n",
      "Epoch 35/512\n",
      "1704/1704 [==============================] - 4s 2ms/step\n",
      "426/426 [==============================] - 17s 39ms/step - loss: 185590.5625 - val_loss: 161835.9844 - lr: 0.0022\n",
      "Epoch 36/512\n",
      "1704/1704 [==============================] - 4s 2ms/step\n",
      "426/426 [==============================] - 17s 39ms/step - loss: 148811.5469 - val_loss: 112895.3984 - lr: 0.0023\n",
      "Epoch 37/512\n",
      "1704/1704 [==============================] - 4s 2ms/step\n",
      "426/426 [==============================] - 17s 39ms/step - loss: 122740.4531 - val_loss: 69495.0000 - lr: 0.0023\n",
      "Epoch 38/512\n",
      "1704/1704 [==============================] - 4s 2ms/step\n",
      "426/426 [==============================] - 16s 39ms/step - loss: 87451.3203 - val_loss: 67643.4609 - lr: 0.0023\n",
      "Epoch 39/512\n",
      "1704/1704 [==============================] - 4s 2ms/step\n",
      "426/426 [==============================] - 16s 39ms/step - loss: 65573.4766 - val_loss: 48090.5742 - lr: 0.0024\n",
      "Epoch 40/512\n",
      "1704/1704 [==============================] - 4s 2ms/step\n",
      "426/426 [==============================] - 16s 39ms/step - loss: 53171.9375 - val_loss: 18992.1406 - lr: 0.0024\n",
      "Epoch 41/512\n",
      "1704/1704 [==============================] - 4s 2ms/step\n",
      "426/426 [==============================] - 16s 39ms/step - loss: 43006.9492 - val_loss: 20083.3086 - lr: 0.0024\n",
      "Epoch 42/512\n",
      "1704/1704 [==============================] - 4s 2ms/step\n",
      "426/426 [==============================] - 17s 39ms/step - loss: 29337.5820 - val_loss: 17417.4258 - lr: 0.0025\n",
      "Epoch 43/512\n",
      "1704/1704 [==============================] - 4s 2ms/step\n",
      "426/426 [==============================] - 17s 39ms/step - loss: 22278.8633 - val_loss: 17320.0957 - lr: 0.0025\n",
      "Epoch 44/512\n",
      "1704/1704 [==============================] - 4s 2ms/step\n",
      "426/426 [==============================] - 17s 40ms/step - loss: 17417.3184 - val_loss: 14994.4141 - lr: 0.0025\n",
      "Epoch 45/512\n",
      "1704/1704 [==============================] - 4s 2ms/step\n",
      "426/426 [==============================] - 17s 39ms/step - loss: 14174.8975 - val_loss: 10064.8867 - lr: 0.0026\n",
      "Epoch 46/512\n",
      "1704/1704 [==============================] - 4s 2ms/step\n",
      "426/426 [==============================] - 17s 39ms/step - loss: 11961.4268 - val_loss: 6405.4561 - lr: 0.0026\n",
      "Epoch 47/512\n",
      "1704/1704 [==============================] - 4s 2ms/step\n",
      "426/426 [==============================] - 17s 39ms/step - loss: 8176.1802 - val_loss: 5905.4395 - lr: 0.0027\n",
      "Epoch 48/512\n",
      "1704/1704 [==============================] - 4s 2ms/step\n",
      "426/426 [==============================] - 17s 39ms/step - loss: 6535.8032 - val_loss: 4749.3628 - lr: 0.0027\n",
      "Epoch 49/512\n",
      "1704/1704 [==============================] - 4s 2ms/step\n",
      "426/426 [==============================] - 17s 39ms/step - loss: 5195.4102 - val_loss: 3126.2109 - lr: 0.0027\n",
      "Epoch 50/512\n",
      "1704/1704 [==============================] - 4s 2ms/step\n",
      "426/426 [==============================] - 17s 39ms/step - loss: 4107.1655 - val_loss: 2934.3416 - lr: 0.0028\n",
      "Epoch 51/512\n",
      "1704/1704 [==============================] - 4s 2ms/step\n",
      "426/426 [==============================] - 17s 39ms/step - loss: 3370.6807 - val_loss: 2254.7275 - lr: 0.0028\n",
      "Epoch 52/512\n",
      "1704/1704 [==============================] - 4s 2ms/step\n",
      "426/426 [==============================] - 17s 39ms/step - loss: 2470.6541 - val_loss: 1664.3979 - lr: 0.0028\n",
      "Epoch 53/512\n",
      "1704/1704 [==============================] - 4s 3ms/step\n",
      "426/426 [==============================] - 17s 39ms/step - loss: 1916.8824 - val_loss: 1269.6368 - lr: 0.0029\n",
      "Epoch 54/512\n",
      "1704/1704 [==============================] - 4s 2ms/step\n",
      "426/426 [==============================] - 17s 39ms/step - loss: 1441.4308 - val_loss: 1065.5863 - lr: 0.0029\n",
      "Epoch 55/512\n",
      "1704/1704 [==============================] - 4s 2ms/step\n",
      "426/426 [==============================] - 17s 39ms/step - loss: 1261.5680 - val_loss: 886.8084 - lr: 0.0029\n",
      "Epoch 56/512\n",
      "1704/1704 [==============================] - 4s 2ms/step\n",
      "426/426 [==============================] - 17s 39ms/step - loss: 912.0038 - val_loss: 619.4316 - lr: 0.0030\n",
      "Epoch 57/512\n",
      "1704/1704 [==============================] - 4s 2ms/step\n",
      "426/426 [==============================] - 17s 39ms/step - loss: 727.8710 - val_loss: 409.4344 - lr: 0.0030\n",
      "Epoch 58/512\n",
      "1704/1704 [==============================] - 4s 2ms/step\n",
      "426/426 [==============================] - 17s 39ms/step - loss: 590.6030 - val_loss: 372.6793 - lr: 0.0030\n",
      "Epoch 59/512\n",
      "1704/1704 [==============================] - 4s 2ms/step\n",
      "426/426 [==============================] - 17s 39ms/step - loss: 467.0934 - val_loss: 273.3488 - lr: 0.0031\n",
      "Epoch 60/512\n",
      "1704/1704 [==============================] - 4s 2ms/step\n",
      "426/426 [==============================] - 17s 39ms/step - loss: 348.3875 - val_loss: 207.0642 - lr: 0.0031\n",
      "Epoch 61/512\n",
      "1704/1704 [==============================] - 4s 2ms/step\n",
      "426/426 [==============================] - 17s 39ms/step - loss: 309.8261 - val_loss: 222.7648 - lr: 0.0031\n",
      "Epoch 62/512\n",
      "1704/1704 [==============================] - 4s 2ms/step\n",
      "426/426 [==============================] - 17s 39ms/step - loss: 225.3533 - val_loss: 142.1803 - lr: 0.0032\n",
      "Epoch 63/512\n",
      "1704/1704 [==============================] - 4s 2ms/step\n",
      "426/426 [==============================] - 17s 39ms/step - loss: 199.0442 - val_loss: 131.5101 - lr: 0.0032\n",
      "Epoch 64/512\n",
      "1704/1704 [==============================] - 4s 2ms/step\n",
      "426/426 [==============================] - 16s 39ms/step - loss: 162.5397 - val_loss: 135.3245 - lr: 0.0033\n",
      "Epoch 65/512\n",
      "1704/1704 [==============================] - 4s 2ms/step\n",
      "426/426 [==============================] - 16s 37ms/step - loss: 136.1894 - val_loss: 102.9394 - lr: 0.0033\n",
      "Epoch 66/512\n",
      "1704/1704 [==============================] - 4s 2ms/step\n",
      "426/426 [==============================] - 16s 37ms/step - loss: 115.3543 - val_loss: 85.9023 - lr: 0.0033\n",
      "Epoch 67/512\n",
      "1704/1704 [==============================] - 4s 2ms/step\n",
      "426/426 [==============================] - 16s 37ms/step - loss: 92.9509 - val_loss: 70.7821 - lr: 0.0034\n",
      "Epoch 68/512\n",
      "1704/1704 [==============================] - 4s 2ms/step\n",
      "426/426 [==============================] - 16s 37ms/step - loss: 83.0862 - val_loss: 66.7577 - lr: 0.0034\n",
      "Epoch 69/512\n",
      "1704/1704 [==============================] - 4s 2ms/step\n",
      "426/426 [==============================] - 16s 38ms/step - loss: 71.2915 - val_loss: 59.8942 - lr: 0.0034\n",
      "Epoch 70/512\n",
      "1704/1704 [==============================] - 4s 2ms/step\n",
      "426/426 [==============================] - 16s 37ms/step - loss: 65.3963 - val_loss: 53.5728 - lr: 0.0035\n",
      "Epoch 71/512\n",
      "1704/1704 [==============================] - 4s 2ms/step\n",
      "426/426 [==============================] - 16s 37ms/step - loss: 61.2704 - val_loss: 50.1930 - lr: 0.0035\n",
      "Epoch 72/512\n",
      "1704/1704 [==============================] - 4s 2ms/step\n",
      "426/426 [==============================] - 16s 37ms/step - loss: 55.8086 - val_loss: 43.7626 - lr: 0.0035\n",
      "Epoch 73/512\n",
      "1704/1704 [==============================] - 4s 2ms/step\n",
      "426/426 [==============================] - 16s 37ms/step - loss: 50.6926 - val_loss: 44.9051 - lr: 0.0036\n",
      "Epoch 74/512\n",
      "1704/1704 [==============================] - 4s 2ms/step\n",
      "426/426 [==============================] - 16s 37ms/step - loss: 47.8402 - val_loss: 44.0619 - lr: 0.0036\n",
      "Epoch 75/512\n",
      "1704/1704 [==============================] - 4s 2ms/step\n",
      "426/426 [==============================] - 16s 38ms/step - loss: 46.7737 - val_loss: 41.3215 - lr: 0.0036\n",
      "Epoch 76/512\n",
      "1704/1704 [==============================] - 4s 2ms/step\n",
      "426/426 [==============================] - 16s 37ms/step - loss: 45.3026 - val_loss: 41.3340 - lr: 0.0037\n",
      "Epoch 77/512\n",
      "1704/1704 [==============================] - 4s 2ms/step\n",
      "426/426 [==============================] - 16s 38ms/step - loss: 43.4383 - val_loss: 40.2451 - lr: 0.0037\n",
      "Epoch 78/512\n",
      "1704/1704 [==============================] - 4s 2ms/step\n",
      "426/426 [==============================] - 16s 38ms/step - loss: 43.0109 - val_loss: 39.5891 - lr: 0.0037\n",
      "Epoch 79/512\n",
      "1704/1704 [==============================] - 4s 2ms/step\n",
      "426/426 [==============================] - 17s 39ms/step - loss: 42.2198 - val_loss: 39.2257 - lr: 0.0038\n",
      "Epoch 80/512\n",
      "1704/1704 [==============================] - 4s 2ms/step\n",
      "426/426 [==============================] - 16s 38ms/step - loss: 41.5575 - val_loss: 39.2093 - lr: 0.0038\n",
      "Epoch 81/512\n",
      "1704/1704 [==============================] - 4s 2ms/step\n",
      "426/426 [==============================] - 17s 39ms/step - loss: 41.3160 - val_loss: 39.0192 - lr: 0.0038\n",
      "Epoch 82/512\n",
      "1704/1704 [==============================] - 4s 2ms/step\n",
      "426/426 [==============================] - 17s 39ms/step - loss: 41.1162 - val_loss: 38.9672 - lr: 0.0039\n",
      "Epoch 83/512\n",
      "1704/1704 [==============================] - 4s 2ms/step\n",
      "426/426 [==============================] - 17s 39ms/step - loss: 40.9842 - val_loss: 38.8744 - lr: 0.0039\n",
      "Epoch 84/512\n",
      "1704/1704 [==============================] - 4s 2ms/step\n",
      "426/426 [==============================] - 17s 39ms/step - loss: 40.8295 - val_loss: 38.8491 - lr: 0.0040\n",
      "Epoch 85/512\n",
      "1704/1704 [==============================] - 4s 2ms/step\n",
      "426/426 [==============================] - 16s 39ms/step - loss: 40.6582 - val_loss: 38.8527 - lr: 0.0040\n",
      "Epoch 86/512\n",
      "1704/1704 [==============================] - 4s 2ms/step\n",
      "426/426 [==============================] - 16s 39ms/step - loss: 40.6072 - val_loss: 38.7926 - lr: 0.0040\n",
      "Epoch 87/512\n",
      "1704/1704 [==============================] - 4s 2ms/step\n",
      "426/426 [==============================] - 16s 39ms/step - loss: 40.4455 - val_loss: 38.8919 - lr: 0.0041\n",
      "Epoch 88/512\n",
      "1704/1704 [==============================] - 4s 2ms/step\n",
      "426/426 [==============================] - 17s 39ms/step - loss: 40.4597 - val_loss: 38.7555 - lr: 0.0041\n",
      "Epoch 89/512\n",
      "1704/1704 [==============================] - 4s 2ms/step\n",
      "426/426 [==============================] - 17s 39ms/step - loss: 40.4741 - val_loss: 39.0251 - lr: 0.0041\n",
      "Epoch 90/512\n",
      "1704/1704 [==============================] - 4s 2ms/step\n",
      "426/426 [==============================] - 17s 39ms/step - loss: 40.4095 - val_loss: 38.8808 - lr: 0.0042\n",
      "Epoch 91/512\n",
      "1704/1704 [==============================] - 4s 2ms/step\n",
      "426/426 [==============================] - 17s 39ms/step - loss: 40.4067 - val_loss: 38.8141 - lr: 0.0042\n",
      "Epoch 92/512\n",
      "1704/1704 [==============================] - 4s 2ms/step\n",
      "426/426 [==============================] - 17s 39ms/step - loss: 40.2861 - val_loss: 38.7661 - lr: 0.0042\n",
      "Epoch 93/512\n",
      "1704/1704 [==============================] - 4s 2ms/step\n",
      "426/426 [==============================] - 17s 39ms/step - loss: 40.2923 - val_loss: 38.8943 - lr: 0.0043\n",
      "Epoch 94/512\n",
      "1704/1704 [==============================] - 4s 2ms/step\n",
      "426/426 [==============================] - 16s 38ms/step - loss: 40.2643 - val_loss: 38.9100 - lr: 0.0043\n",
      "Epoch 95/512\n",
      "1704/1704 [==============================] - 4s 2ms/step\n",
      "426/426 [==============================] - 16s 39ms/step - loss: 40.1306 - val_loss: 38.7757 - lr: 0.0043\n",
      "Epoch 96/512\n",
      "1704/1704 [==============================] - 4s 2ms/step\n",
      "426/426 [==============================] - 17s 39ms/step - loss: 40.0909 - val_loss: 38.7264 - lr: 0.0044\n",
      "Epoch 97/512\n",
      "1704/1704 [==============================] - 4s 2ms/step\n",
      "426/426 [==============================] - 16s 39ms/step - loss: 40.0439 - val_loss: 38.7925 - lr: 0.0044\n",
      "Epoch 98/512\n",
      "1704/1704 [==============================] - 4s 2ms/step\n",
      "426/426 [==============================] - 17s 39ms/step - loss: 40.0489 - val_loss: 38.8563 - lr: 0.0044\n",
      "Epoch 99/512\n",
      "1704/1704 [==============================] - 4s 2ms/step\n",
      "426/426 [==============================] - 16s 38ms/step - loss: 39.8516 - val_loss: 38.6790 - lr: 0.0045\n",
      "Epoch 100/512\n",
      "1704/1704 [==============================] - 4s 2ms/step\n",
      "426/426 [==============================] - 17s 39ms/step - loss: 39.8424 - val_loss: 38.6778 - lr: 0.0045\n",
      "Epoch 101/512\n",
      "1704/1704 [==============================] - 4s 2ms/step\n",
      "426/426 [==============================] - 17s 40ms/step - loss: 40.5089 - val_loss: 39.8049 - lr: 0.0046\n",
      "Epoch 102/512\n",
      "1704/1704 [==============================] - 4s 2ms/step\n",
      "426/426 [==============================] - 17s 39ms/step - loss: 40.2117 - val_loss: 39.1427 - lr: 0.0046\n",
      "Epoch 103/512\n",
      "1704/1704 [==============================] - 4s 2ms/step\n",
      "426/426 [==============================] - 17s 39ms/step - loss: 39.5869 - val_loss: 39.0508 - lr: 0.0046\n",
      "Epoch 104/512\n",
      "1704/1704 [==============================] - 4s 2ms/step\n",
      "426/426 [==============================] - 17s 39ms/step - loss: 39.3432 - val_loss: 39.0997 - lr: 0.0047\n",
      "Epoch 105/512\n",
      "1704/1704 [==============================] - 4s 2ms/step\n",
      "426/426 [==============================] - 16s 39ms/step - loss: 39.1946 - val_loss: 38.9695 - lr: 0.0047\n",
      "Epoch 106/512\n",
      "1704/1704 [==============================] - 4s 2ms/step\n",
      "426/426 [==============================] - 17s 39ms/step - loss: 39.0373 - val_loss: 39.1565 - lr: 0.0047\n",
      "Epoch 107/512\n",
      "1704/1704 [==============================] - 4s 2ms/step\n",
      "426/426 [==============================] - 17s 39ms/step - loss: 38.9223 - val_loss: 39.0189 - lr: 0.0048\n",
      "Epoch 108/512\n",
      "1704/1704 [==============================] - 4s 2ms/step\n",
      "426/426 [==============================] - 17s 39ms/step - loss: 38.8240 - val_loss: 38.9708 - lr: 0.0048\n",
      "Epoch 109/512\n",
      "1704/1704 [==============================] - 4s 2ms/step\n",
      "426/426 [==============================] - 17s 39ms/step - loss: 38.7130 - val_loss: 39.0017 - lr: 0.0048\n",
      "Epoch 110/512\n",
      "1704/1704 [==============================] - 4s 2ms/step\n",
      "426/426 [==============================] - 17s 39ms/step - loss: 38.5910 - val_loss: 39.3576 - lr: 0.0049\n",
      "Epoch 111/512\n",
      "1704/1704 [==============================] - 4s 2ms/step\n",
      "426/426 [==============================] - 17s 39ms/step - loss: 38.4987 - val_loss: 39.9553 - lr: 0.0049\n",
      "Epoch 112/512\n",
      "1704/1704 [==============================] - 4s 2ms/step\n",
      "426/426 [==============================] - 17s 39ms/step - loss: 38.4384 - val_loss: 40.9655 - lr: 0.0049\n",
      "Epoch 113/512\n",
      "1704/1704 [==============================] - 4s 2ms/step\n",
      "426/426 [==============================] - 17s 39ms/step - loss: 38.3771 - val_loss: 40.9388 - lr: 0.0050\n",
      "Epoch 114/512\n",
      "1704/1704 [==============================] - 4s 2ms/step\n",
      "426/426 [==============================] - 17s 39ms/step - loss: 38.3055 - val_loss: 41.4821 - lr: 0.0050\n",
      "Epoch 115/512\n",
      "1704/1704 [==============================] - 4s 2ms/step\n",
      "426/426 [==============================] - 17s 39ms/step - loss: 38.2244 - val_loss: 41.1584 - lr: 0.0050\n"
     ]
    }
   ],
   "source": [
    "# Train the neural network\n",
    "history = DeepNet.fit(\n",
    "    X_train, y_train,\n",
    "    validation_data=(X_valid,y_valid),\n",
    "    batch_size=BATCHSIZE,\n",
    "    epochs=EPOCHS,\n",
    "    callbacks = [early_stopping,reduce_learn_on_plateau,PredictOnEpoch(DeepNet,X_train,y_train),cb,cp_callback],\n",
    ")"
   ]
  },
  {
   "cell_type": "code",
   "execution_count": 26,
   "metadata": {},
   "outputs": [
    {
     "data": {
      "image/png": "[encoded data removed]",
      "text/plain": [
       "<Figure size 432x288 with 1 Axes>"
      ]
     },
     "metadata": {
      "needs_background": "light"
     },
     "output_type": "display_data"
    }
   ],
   "source": [
    "# Plot the loss and validation curves vs epoch\n",
    "history_df = pd.DataFrame(history.history)\n",
    "np.log(history_df.loc[:, [\"loss\",\"val_loss\"]]).plot()\n",
    "history_df.to_csv('/home/physics/phujdj/DeepLearningParticlePhysics/history.csv')"
   ]
  },
  {
   "cell_type": "code",
   "execution_count": 27,
   "metadata": {},
   "outputs": [
    {
     "name": "stdout",
     "output_type": "stream",
     "text": [
      "1903.9535494562588\n"
     ]
    }
   ],
   "source": [
    "print(sum(cb.logs))"
   ]
  },
  {
   "cell_type": "code",
   "execution_count": 28,
   "metadata": {},
   "outputs": [
    {
     "name": "stdout",
     "output_type": "stream",
     "text": [
      "Minimum validation loss: 38.224449157714844\n"
     ]
    }
   ],
   "source": [
    "# Output to the console the minimum epoch\n",
    "print(\"Minimum validation loss: {}\".format(history_df[\"loss\"].min()))"
   ]
  },
  {
   "cell_type": "code",
   "execution_count": 29,
   "metadata": {},
   "outputs": [
    {
     "name": "stdout",
     "output_type": "stream",
     "text": [
      "2130/2130 - 6s - loss: 38.6860 - 6s/epoch - 3ms/step\n",
      "The Loaded DeepNet has loss:  38.68604278564453\n"
     ]
    }
   ],
   "source": [
    "#Evaluate the entire performance of the model\n",
    "loss = DeepNet.evaluate(tracks,bhads,verbose = 2)\n",
    "print(\"The Loaded DeepNet has loss: \", loss)"
   ]
  },
  {
   "cell_type": "code",
   "execution_count": null,
   "metadata": {},
   "outputs": [],
   "source": [
    "PredictionsNeural = DeepNet.predict(tracks)\n",
    "print(PredictionsNeural.shape)"
   ]
  },
  {
   "cell_type": "code",
   "execution_count": 30,
   "metadata": {},
   "outputs": [
    {
     "name": "stdout",
     "output_type": "stream",
     "text": [
      "(68143, 128)\n"
     ]
    }
   ],
   "source": [
    "get_sum_layer_output = k.function([DeepNet.layers[0].input],\n",
    "                                 [DeepNet.layers[13].output])\n",
    "layer_output = get_sum_layer_output(tracks)[0]\n",
    "print(layer_output.shape)"
   ]
  },
  {
   "cell_type": "code",
   "execution_count": 31,
   "metadata": {},
   "outputs": [
    {
     "data": {
      "text/plain": [
       "23     0.340518\n",
       "81     0.262908\n",
       "83     0.217832\n",
       "24     0.211830\n",
       "86     0.176563\n",
       "         ...   \n",
       "122    0.010743\n",
       "93     0.010052\n",
       "54     0.008995\n",
       "108    0.008464\n",
       "124    0.007563\n",
       "Name: MI Scores, Length: 128, dtype: float64"
      ]
     },
     "execution_count": 31,
     "metadata": {},
     "output_type": "execute_result"
    }
   ],
   "source": [
    "mi_scores_px_momentum =  make_mi_scores(layer_output, bhads[:,1])\n",
    "print(mi_scores_px_momentum)"
   ]
  },
  {
   "cell_type": "code",
   "execution_count": 32,
   "metadata": {},
   "outputs": [
    {
     "data": {
      "image/png": "[encoded data removed]",
      "text/plain": [
       "<Figure size 432x288 with 1 Axes>"
      ]
     },
     "metadata": {
      "needs_background": "light"
     },
     "output_type": "display_data"
    }
   ],
   "source": [
    "plt.Figure(dpi = 200,figsize = (100,100))\n",
    "plot_mi_scores(mi_scores_px_momentum)"
   ]
  },
  {
   "cell_type": "code",
   "execution_count": 33,
   "metadata": {},
   "outputs": [],
   "source": [
    "X_train_ml,X_valid_ml,y_train_ml,y_valid_ml = train_test_split(layer_output,bhads[:,0],random_state = 42)"
   ]
  },
  {
   "cell_type": "code",
   "execution_count": 34,
   "metadata": {},
   "outputs": [
    {
     "ename": "KeyboardInterrupt",
     "evalue": "",
     "output_type": "error",
     "traceback": [
      "\u001b[0;31m---------------------------------------------------------------------------\u001b[0m",
      "\u001b[0;31mKeyboardInterrupt\u001b[0m                         Traceback (most recent call last)",
      "\u001b[0;32m/tmp/ipykernel_8714/1054936605.py\u001b[0m in \u001b[0;36m<module>\u001b[0;34m\u001b[0m\n\u001b[1;32m      1\u001b[0m \u001b[0;32mfrom\u001b[0m \u001b[0mxgboost\u001b[0m \u001b[0;32mimport\u001b[0m \u001b[0mXGBRegressor\u001b[0m\u001b[0;34m\u001b[0m\u001b[0;34m\u001b[0m\u001b[0m\n\u001b[1;32m      2\u001b[0m \u001b[0mxgbooster\u001b[0m \u001b[0;34m=\u001b[0m \u001b[0mXGBRegressor\u001b[0m\u001b[0;34m(\u001b[0m\u001b[0mn_estimators\u001b[0m \u001b[0;34m=\u001b[0m \u001b[0;36m6000\u001b[0m\u001b[0;34m,\u001b[0m \u001b[0mnum_parallel_tree\u001b[0m \u001b[0;34m=\u001b[0m \u001b[0;36m1\u001b[0m\u001b[0;34m,\u001b[0m\u001b[0mearly_stopping_rounds\u001b[0m\u001b[0;34m=\u001b[0m \u001b[0;36m5\u001b[0m\u001b[0;34m,\u001b[0m \u001b[0mlearning_rate\u001b[0m \u001b[0;34m=\u001b[0m \u001b[0;36m1e-3\u001b[0m\u001b[0;34m)\u001b[0m\u001b[0;34m\u001b[0m\u001b[0;34m\u001b[0m\u001b[0m\n\u001b[0;32m----> 3\u001b[0;31m \u001b[0mxgbooster\u001b[0m\u001b[0;34m.\u001b[0m\u001b[0mfit\u001b[0m\u001b[0;34m(\u001b[0m\u001b[0mX_train_ml\u001b[0m\u001b[0;34m,\u001b[0m\u001b[0my_train_ml\u001b[0m\u001b[0;34m,\u001b[0m \u001b[0meval_set\u001b[0m \u001b[0;34m=\u001b[0m \u001b[0;34m[\u001b[0m\u001b[0;34m(\u001b[0m\u001b[0mX_valid_ml\u001b[0m\u001b[0;34m,\u001b[0m\u001b[0my_valid_ml\u001b[0m\u001b[0;34m)\u001b[0m\u001b[0;34m]\u001b[0m\u001b[0;34m,\u001b[0m \u001b[0mverbose\u001b[0m \u001b[0;34m=\u001b[0m \u001b[0;32mFalse\u001b[0m\u001b[0;34m)\u001b[0m\u001b[0;34m\u001b[0m\u001b[0;34m\u001b[0m\u001b[0m\n\u001b[0m",
      "\u001b[0;32m~/anaconda3/envs/SpocFit/lib/python3.9/site-packages/xgboost/core.py\u001b[0m in \u001b[0;36minner_f\u001b[0;34m(*args, **kwargs)\u001b[0m\n\u001b[1;32m    618\u001b[0m             \u001b[0;32mfor\u001b[0m \u001b[0mk\u001b[0m\u001b[0;34m,\u001b[0m \u001b[0marg\u001b[0m \u001b[0;32min\u001b[0m \u001b[0mzip\u001b[0m\u001b[0;34m(\u001b[0m\u001b[0msig\u001b[0m\u001b[0;34m.\u001b[0m\u001b[0mparameters\u001b[0m\u001b[0;34m,\u001b[0m \u001b[0margs\u001b[0m\u001b[0;34m)\u001b[0m\u001b[0;34m:\u001b[0m\u001b[0;34m\u001b[0m\u001b[0;34m\u001b[0m\u001b[0m\n\u001b[1;32m    619\u001b[0m                 \u001b[0mkwargs\u001b[0m\u001b[0;34m[\u001b[0m\u001b[0mk\u001b[0m\u001b[0;34m]\u001b[0m \u001b[0;34m=\u001b[0m \u001b[0marg\u001b[0m\u001b[0;34m\u001b[0m\u001b[0;34m\u001b[0m\u001b[0m\n\u001b[0;32m--> 620\u001b[0;31m             \u001b[0;32mreturn\u001b[0m \u001b[0mfunc\u001b[0m\u001b[0;34m(\u001b[0m\u001b[0;34m**\u001b[0m\u001b[0mkwargs\u001b[0m\u001b[0;34m)\u001b[0m\u001b[0;34m\u001b[0m\u001b[0;34m\u001b[0m\u001b[0m\n\u001b[0m\u001b[1;32m    621\u001b[0m \u001b[0;34m\u001b[0m\u001b[0m\n\u001b[1;32m    622\u001b[0m         \u001b[0;32mreturn\u001b[0m \u001b[0minner_f\u001b[0m\u001b[0;34m\u001b[0m\u001b[0;34m\u001b[0m\u001b[0m\n",
      "\u001b[0;32m~/anaconda3/envs/SpocFit/lib/python3.9/site-packages/xgboost/sklearn.py\u001b[0m in \u001b[0;36mfit\u001b[0;34m(self, X, y, sample_weight, base_margin, eval_set, eval_metric, early_stopping_rounds, verbose, xgb_model, sample_weight_eval_set, base_margin_eval_set, feature_weights, callbacks)\u001b[0m\n\u001b[1;32m   1049\u001b[0m                 \u001b[0mxgb_model\u001b[0m\u001b[0;34m,\u001b[0m \u001b[0meval_metric\u001b[0m\u001b[0;34m,\u001b[0m \u001b[0mparams\u001b[0m\u001b[0;34m,\u001b[0m \u001b[0mearly_stopping_rounds\u001b[0m\u001b[0;34m,\u001b[0m \u001b[0mcallbacks\u001b[0m\u001b[0;34m\u001b[0m\u001b[0;34m\u001b[0m\u001b[0m\n\u001b[1;32m   1050\u001b[0m             )\n\u001b[0;32m-> 1051\u001b[0;31m             self._Booster = train(\n\u001b[0m\u001b[1;32m   1052\u001b[0m                 \u001b[0mparams\u001b[0m\u001b[0;34m,\u001b[0m\u001b[0;34m\u001b[0m\u001b[0;34m\u001b[0m\u001b[0m\n\u001b[1;32m   1053\u001b[0m                 \u001b[0mtrain_dmatrix\u001b[0m\u001b[0;34m,\u001b[0m\u001b[0;34m\u001b[0m\u001b[0;34m\u001b[0m\u001b[0m\n",
      "\u001b[0;32m~/anaconda3/envs/SpocFit/lib/python3.9/site-packages/xgboost/core.py\u001b[0m in \u001b[0;36minner_f\u001b[0;34m(*args, **kwargs)\u001b[0m\n\u001b[1;32m    618\u001b[0m             \u001b[0;32mfor\u001b[0m \u001b[0mk\u001b[0m\u001b[0;34m,\u001b[0m \u001b[0marg\u001b[0m \u001b[0;32min\u001b[0m \u001b[0mzip\u001b[0m\u001b[0;34m(\u001b[0m\u001b[0msig\u001b[0m\u001b[0;34m.\u001b[0m\u001b[0mparameters\u001b[0m\u001b[0;34m,\u001b[0m \u001b[0margs\u001b[0m\u001b[0;34m)\u001b[0m\u001b[0;34m:\u001b[0m\u001b[0;34m\u001b[0m\u001b[0;34m\u001b[0m\u001b[0m\n\u001b[1;32m    619\u001b[0m                 \u001b[0mkwargs\u001b[0m\u001b[0;34m[\u001b[0m\u001b[0mk\u001b[0m\u001b[0;34m]\u001b[0m \u001b[0;34m=\u001b[0m \u001b[0marg\u001b[0m\u001b[0;34m\u001b[0m\u001b[0;34m\u001b[0m\u001b[0m\n\u001b[0;32m--> 620\u001b[0;31m             \u001b[0;32mreturn\u001b[0m \u001b[0mfunc\u001b[0m\u001b[0;34m(\u001b[0m\u001b[0;34m**\u001b[0m\u001b[0mkwargs\u001b[0m\u001b[0;34m)\u001b[0m\u001b[0;34m\u001b[0m\u001b[0;34m\u001b[0m\u001b[0m\n\u001b[0m\u001b[1;32m    621\u001b[0m \u001b[0;34m\u001b[0m\u001b[0m\n\u001b[1;32m    622\u001b[0m         \u001b[0;32mreturn\u001b[0m \u001b[0minner_f\u001b[0m\u001b[0;34m\u001b[0m\u001b[0;34m\u001b[0m\u001b[0m\n",
      "\u001b[0;32m~/anaconda3/envs/SpocFit/lib/python3.9/site-packages/xgboost/training.py\u001b[0m in \u001b[0;36mtrain\u001b[0;34m(params, dtrain, num_boost_round, evals, obj, feval, maximize, early_stopping_rounds, evals_result, verbose_eval, xgb_model, callbacks, custom_metric)\u001b[0m\n\u001b[1;32m    183\u001b[0m         \u001b[0;32mif\u001b[0m \u001b[0mcb_container\u001b[0m\u001b[0;34m.\u001b[0m\u001b[0mbefore_iteration\u001b[0m\u001b[0;34m(\u001b[0m\u001b[0mbst\u001b[0m\u001b[0;34m,\u001b[0m \u001b[0mi\u001b[0m\u001b[0;34m,\u001b[0m \u001b[0mdtrain\u001b[0m\u001b[0;34m,\u001b[0m \u001b[0mevals\u001b[0m\u001b[0;34m)\u001b[0m\u001b[0;34m:\u001b[0m\u001b[0;34m\u001b[0m\u001b[0;34m\u001b[0m\u001b[0m\n\u001b[1;32m    184\u001b[0m             \u001b[0;32mbreak\u001b[0m\u001b[0;34m\u001b[0m\u001b[0;34m\u001b[0m\u001b[0m\n\u001b[0;32m--> 185\u001b[0;31m         \u001b[0mbst\u001b[0m\u001b[0;34m.\u001b[0m\u001b[0mupdate\u001b[0m\u001b[0;34m(\u001b[0m\u001b[0mdtrain\u001b[0m\u001b[0;34m,\u001b[0m \u001b[0mi\u001b[0m\u001b[0;34m,\u001b[0m \u001b[0mobj\u001b[0m\u001b[0;34m)\u001b[0m\u001b[0;34m\u001b[0m\u001b[0;34m\u001b[0m\u001b[0m\n\u001b[0m\u001b[1;32m    186\u001b[0m         \u001b[0;32mif\u001b[0m \u001b[0mcb_container\u001b[0m\u001b[0;34m.\u001b[0m\u001b[0mafter_iteration\u001b[0m\u001b[0;34m(\u001b[0m\u001b[0mbst\u001b[0m\u001b[0;34m,\u001b[0m \u001b[0mi\u001b[0m\u001b[0;34m,\u001b[0m \u001b[0mdtrain\u001b[0m\u001b[0;34m,\u001b[0m \u001b[0mevals\u001b[0m\u001b[0;34m)\u001b[0m\u001b[0;34m:\u001b[0m\u001b[0;34m\u001b[0m\u001b[0;34m\u001b[0m\u001b[0m\n\u001b[1;32m    187\u001b[0m             \u001b[0;32mbreak\u001b[0m\u001b[0;34m\u001b[0m\u001b[0;34m\u001b[0m\u001b[0m\n",
      "\u001b[0;32m~/anaconda3/envs/SpocFit/lib/python3.9/site-packages/xgboost/core.py\u001b[0m in \u001b[0;36mupdate\u001b[0;34m(self, dtrain, iteration, fobj)\u001b[0m\n\u001b[1;32m   1916\u001b[0m \u001b[0;34m\u001b[0m\u001b[0m\n\u001b[1;32m   1917\u001b[0m         \u001b[0;32mif\u001b[0m \u001b[0mfobj\u001b[0m \u001b[0;32mis\u001b[0m \u001b[0;32mNone\u001b[0m\u001b[0;34m:\u001b[0m\u001b[0;34m\u001b[0m\u001b[0;34m\u001b[0m\u001b[0m\n\u001b[0;32m-> 1918\u001b[0;31m             _check_call(_LIB.XGBoosterUpdateOneIter(self.handle,\n\u001b[0m\u001b[1;32m   1919\u001b[0m                                                     \u001b[0mctypes\u001b[0m\u001b[0;34m.\u001b[0m\u001b[0mc_int\u001b[0m\u001b[0;34m(\u001b[0m\u001b[0miteration\u001b[0m\u001b[0;34m)\u001b[0m\u001b[0;34m,\u001b[0m\u001b[0;34m\u001b[0m\u001b[0;34m\u001b[0m\u001b[0m\n\u001b[1;32m   1920\u001b[0m                                                     dtrain.handle))\n",
      "\u001b[0;31mKeyboardInterrupt\u001b[0m: "
     ]
    }
   ],
   "source": [
    "from xgboost import XGBRegressor\n",
    "xgbooster = XGBRegressor(n_estimators = 6000, num_parallel_tree = 1,early_stopping_rounds= 5, learning_rate = 1e-3)\n",
    "xgbooster.fit(X_train_ml,y_train_ml, eval_set = [(X_valid_ml,y_valid_ml)], verbose = False)"
   ]
  },
  {
   "cell_type": "code",
   "execution_count": null,
   "metadata": {},
   "outputs": [
    {
     "name": "stdout",
     "output_type": "stream",
     "text": [
      "Mean Absolute Error: 23605.649141930742\n"
     ]
    }
   ],
   "source": [
    "from sklearn.metrics import mean_absolute_error\n",
    "predictions = xgbooster.predict(X_valid_ml)\n",
    "print(\"Mean Absolute Error: \" + str(mean_absolute_error(predictions,y_valid_ml)))"
   ]
  },
  {
   "cell_type": "code",
   "execution_count": null,
   "metadata": {},
   "outputs": [
    {
     "name": "stdout",
     "output_type": "stream",
     "text": [
      "154.77422 52328.258\n",
      "8.135133982294325e-05 0.5825714633571546\n"
     ]
    }
   ],
   "source": [
    "Predictions = xgbooster.predict(X_train_ml)\n",
    "mean = np.mean(Predictions)\n",
    "std = np.std(Predictions)\n",
    "Pull_xgbooster = (Predictions - y_train_ml)/std\n",
    "mean2 = np.mean(Pull_xgbooster)\n",
    "std2 = np.std(Pull_xgbooster)\n",
    "print(mean,std)\n",
    "print(mean2,std2)"
   ]
  },
  {
   "cell_type": "code",
   "execution_count": null,
   "metadata": {},
   "outputs": [
    {
     "data": {
      "image/png": "[encoded data removed]",
      "text/plain": [
       "<Figure size 576x576 with 1 Axes>"
      ]
     },
     "execution_count": 43,
     "metadata": {},
     "output_type": "execute_result"
    }
   ],
   "source": [
    "fig = binneddensity(Predictions - y_train_ml, fixedbinning(-100000,100000,100), xlabel =\"XgBooster Error\")\n",
    "fig.savefig(\"/home/physics/phujdj/DeepLearningParticlePhysics/XgboostError\")"
   ]
  },
  {
   "cell_type": "code",
   "execution_count": null,
   "metadata": {},
   "outputs": [
    {
     "data": {
      "image/png": "[encoded data removed]",
      "text/plain": [
       "<Figure size 576x576 with 1 Axes>"
      ]
     },
     "execution_count": 44,
     "metadata": {},
     "output_type": "execute_result"
    }
   ],
   "source": [
    "fig2 = binneddensity(Pull_xgbooster, fixedbinning(-1,1,100), xlabel =\"Xgbooster Pull\")\n",
    "fig2.savefig(\"/home/physics/phujdj/DeepLearningParticlePhysics/XgboostError\")"
   ]
  },
  {
   "cell_type": "code",
   "execution_count": null,
   "metadata": {},
   "outputs": [
    {
     "data": {
      "image/png": "[encoded data removed]",
      "text/plain": [
       "<Figure size 864x864 with 1 Axes>"
      ]
     },
     "metadata": {
      "needs_background": "light"
     },
     "output_type": "display_data"
    }
   ],
   "source": [
    "fig,ax = plt.subplots(figsize = (12,12))\n",
    "sns.scatterplot(\n",
    "    x = y_train_ml,\n",
    "    y = Predictions,\n",
    "    color = \"purple\"\n",
    ")\n",
    "ax.set_title(\"Scatterplot of the true vs pred X momenta\")\n",
    "ax.set_xlim([np.min(y_train_ml),np.max(y_train_ml)])\n",
    "ax.set_ylim([np.min(Predictions),np.max(Predictions)])\n",
    "ax.set_xlabel(\"The true X momenta of the tracks from each event\")\n",
    "ax.set_ylabel(\"The predicted X momenta of b hadron jets\")\n",
    "fig.savefig(\"/home/physics/phujdj/DeepLearningParticlePhysics/ScatterplotXgboost\")"
   ]
  },
  {
   "cell_type": "code",
   "execution_count": null,
   "metadata": {},
   "outputs": [],
   "source": [
    "fig,ax = plt.subplots(figsize = (12,12))\n",
    "sns.scatterplot(\n",
    "    y = PredictionsNeural[:,0],\n",
    "    x = bhads,\n",
    "    color = \"purple\"\n",
    ")\n",
    "ax.set_title(\"Scatterplot of the true vs pred X momenta\")\n",
    "ax.set_xlim([np.min(PredictionsNeural),np.max(PredictionsNeural)])\n",
    "ax.set_ylim([np.min(bhads),np.max(bhads)])\n",
    "ax.set_xlabel(\"The true X momenta of the tracks from each event\")\n",
    "ax.set_ylabel(\"The predicted X momenta of b hadron jets\")\n",
    "fig.savefig(\"/home/physics/phujdj/DeepLearningParticlePhysics/ScatterplotXgboost\")"
   ]
  }
 ],
 "metadata": {
  "kernelspec": {
   "display_name": "Python 3.9.12 ('SpocFit')",
   "language": "python",
   "name": "python3"
  },
  "language_info": {
   "codemirror_mode": {
    "name": "ipython",
    "version": 3
   },
   "file_extension": ".py",
   "mimetype": "text/x-python",
   "name": "python",
   "nbconvert_exporter": "python",
   "pygments_lexer": "ipython3",
   "version": "3.9.12 (main, Apr  5 2022, 06:56:58) \n[GCC 7.5.0]"
  },
  "orig_nbformat": 4,
  "vscode": {
   "interpreter": {
    "hash": "a05ddcd8ffea9a6a7d2e914b733df5445b717626b5b8c92c04bfc4eb6e7f5cba"
   }
  }
 },
 "nbformat": 4,
 "nbformat_minor": 2
}
